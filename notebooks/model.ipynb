{
 "cells": [
  {
   "cell_type": "code",
   "execution_count": 1,
   "metadata": {},
   "outputs": [],
   "source": [
    "import numpy as np\n",
    "import pandas as pd\n",
    "import seaborn as sns\n",
    "\n",
    "import re\n",
    "import datetime\n",
    "\n",
    "from pyspark.sql import SparkSession, DataFrame\n",
    "from pyspark.sql.functions import *\n",
    "from pyspark.sql.types import DateType"
   ]
  },
  {
   "cell_type": "code",
   "execution_count": 2,
   "metadata": {},
   "outputs": [
    {
     "name": "stdout",
     "output_type": "stream",
     "text": [
      "22/10/05 21:02:57 WARN Utils: Your hostname, J-L resolves to a loopback address: 127.0.1.1; using 172.18.71.108 instead (on interface eth0)\n",
      "22/10/05 21:02:57 WARN Utils: Set SPARK_LOCAL_IP if you need to bind to another address\n"
     ]
    },
    {
     "name": "stderr",
     "output_type": "stream",
     "text": [
      "Setting default log level to \"WARN\".\n",
      "To adjust logging level use sc.setLogLevel(newLevel). For SparkR, use setLogLevel(newLevel).\n"
     ]
    },
    {
     "name": "stdout",
     "output_type": "stream",
     "text": [
      "22/10/05 21:02:58 WARN NativeCodeLoader: Unable to load native-hadoop library for your platform... using builtin-java classes where applicable\n"
     ]
    }
   ],
   "source": [
    "sp = (\n",
    "    SparkSession.builder.appName(\"Model\")\n",
    "    .config(\"spark.sql.session.timeZone\", \"+11\")\n",
    "    .config(\"spark.driver.memory\", \"4g\")\n",
    "    .config(\"spark.executor.memory\", \"6g\")\n",
    "    .getOrCreate()\n",
    ")"
   ]
  },
  {
   "cell_type": "code",
   "execution_count": 3,
   "metadata": {},
   "outputs": [
    {
     "name": "stderr",
     "output_type": "stream",
     "text": [
      "                                                                                \r"
     ]
    }
   ],
   "source": [
    "transactions = sp.read.option(\"inferSchema\", True).parquet(\"../data/processed/transactions\")\n",
    "merchants = sp.read.option(\"inferSchema\", True).parquet(\"../data/processed/merchants\")\n",
    "customers = sp.read.option(\"inferSchema\", True).parquet(\"../data/processed/customers\")"
   ]
  },
  {
   "cell_type": "code",
   "execution_count": 4,
   "metadata": {},
   "outputs": [
    {
     "name": "stdout",
     "output_type": "stream",
     "text": [
      "+--------+-------+------------+------------+--------------+-----------+-----------------+-------+----------+-----+---------+\n",
      "|order_id|user_id|merchant_abn|dollar_value|order_datetime|Natural_var|Potential_Outlier|holiday|dayofmonth|month|dayofweek|\n",
      "+--------+-------+------------+------------+--------------+-----------+-----------------+-------+----------+-----+---------+\n",
      "|       3|      3| 60956456424|      136.68|    2021-08-20|          0|                0|      0|        20|    8|        6|\n",
      "+--------+-------+------------+------------+--------------+-----------+-----------------+-------+----------+-----+---------+\n",
      "only showing top 1 row\n",
      "\n",
      "+------------+-----------------+--------------------+---------------+---------------+----------------+-----------------+\n",
      "|merchant_abn|             name|                tags|avg_monthly_inc|monthly_entropy|postcode_entropy|          revenue|\n",
      "+------------+-----------------+--------------------+---------------+---------------+----------------+-----------------+\n",
      "| 31823794994|Dolor Dapibus LLC|((hobby, Toy and ...|            0.0|      2.9600074|        6.064746|983068.1492156982|\n",
      "+------------+-----------------+--------------------+---------------+---------------+----------------+-----------------+\n",
      "only showing top 1 row\n",
      "\n",
      "22/10/05 21:03:12 WARN package: Truncated the string representation of a plan since it was too large. This behavior can be adjusted by setting 'spark.sql.debug.maxToStringFields'.\n",
      "+-----+--------+------+-------+--------------------------------------------------+------------------------------+-----------------------------+-------------------------------+---------------------+-----------------------+----------------------+------------------------+--------------+----------------+---------------+----------------------------+---------------------------+------------------------+-----------------------+-------------------------------------+---------------------------+-----------------------------+----------------------------+---------------------------------------+-----------------------------+-------------------------------+------------------------------+-----------------------+-------------+---------------+--------------+----------------------------------+------------------------------------+-----------------------------------+\n",
      "|state|postcode|gender|user_id|Number of individuals lodging an income tax return|Average taxable income or loss|Median taxable income or loss|Proportion with salary or wages|Count salary or wages|Average salary or wages|Median salary or wages|Proportion with net rent|Count net rent|Average net rent|Median net rent|Average total income or loss|Median total income or loss|Average total deductions|Median total deductions|Proportion with total business income|Count total business income|Average total business income|Median total business income|Proportion with total business expenses|Count total business expenses|Average total business expenses|Median total business expenses|Proportion with net tax|Count net tax|Average net tax|Median net tax|Count super total accounts balance|Average super total accounts balance|Median super total accounts balance|\n",
      "+-----+--------+------+-------+--------------------------------------------------+------------------------------+-----------------------------+-------------------------------+---------------------+-----------------------+----------------------+------------------------+--------------+----------------+---------------+----------------------------+---------------------------+------------------------+-----------------------+-------------------------------------+---------------------------+-----------------------------+----------------------------+---------------------------------------+-----------------------------+-------------------------------+------------------------------+-----------------------+-------------+---------------+--------------+----------------------------------+------------------------------------+-----------------------------------+\n",
      "|  ACT|     200|Female|  71674|                                              5524|                         66722|                        52958|                              1|                 5009|                  64930|                 55579|                       1|           762|           -4289|          -2448|                       68991|                      54988|                    2244|                    872|                                    1|                        382|                        56170|                       18742|                                      1|                          343|                          42645|                          8664|                      1|         4586|          18805|         11482|                              7620|                               79163|                              10415|\n",
      "+-----+--------+------+-------+--------------------------------------------------+------------------------------+-----------------------------+-------------------------------+---------------------+-----------------------+----------------------+------------------------+--------------+----------------+---------------+----------------------------+---------------------------+------------------------+-----------------------+-------------------------------------+---------------------------+-----------------------------+----------------------------+---------------------------------------+-----------------------------+-------------------------------+------------------------------+-----------------------+-------------+---------------+--------------+----------------------------------+------------------------------------+-----------------------------------+\n",
      "only showing top 1 row\n",
      "\n"
     ]
    }
   ],
   "source": [
    "transactions.show(1)\n",
    "merchants.show(1)\n",
    "customers.show(1)"
   ]
  },
  {
   "cell_type": "code",
   "execution_count": 5,
   "metadata": {},
   "outputs": [
    {
     "name": "stdout",
     "output_type": "stream",
     "text": [
      "+-------+------------+--------+------------+--------------+-----------+-----------------+-------+----------+-----+---------+--------------------+--------------------+---------------+---------------+----------------+------------------+-----+--------+------+--------------------------------------------------+------------------------------+-----------------------------+-------------------------------+---------------------+-----------------------+----------------------+------------------------+--------------+----------------+---------------+----------------------------+---------------------------+------------------------+-----------------------+-------------------------------------+---------------------------+-----------------------------+----------------------------+---------------------------------------+-----------------------------+-------------------------------+------------------------------+-----------------------+-------------+---------------+--------------+----------------------------------+------------------------------------+-----------------------------------+\n",
      "|user_id|merchant_abn|order_id|dollar_value|order_datetime|Natural_var|Potential_Outlier|holiday|dayofmonth|month|dayofweek|                name|                tags|avg_monthly_inc|monthly_entropy|postcode_entropy|           revenue|state|postcode|gender|Number of individuals lodging an income tax return|Average taxable income or loss|Median taxable income or loss|Proportion with salary or wages|Count salary or wages|Average salary or wages|Median salary or wages|Proportion with net rent|Count net rent|Average net rent|Median net rent|Average total income or loss|Median total income or loss|Average total deductions|Median total deductions|Proportion with total business income|Count total business income|Average total business income|Median total business income|Proportion with total business expenses|Count total business expenses|Average total business expenses|Median total business expenses|Proportion with net tax|Count net tax|Average net tax|Median net tax|Count super total accounts balance|Average super total accounts balance|Median super total accounts balance|\n",
      "+-------+------------+--------+------------+--------------+-----------+-----------------+-------+----------+-----+---------+--------------------+--------------------+---------------+---------------+----------------+------------------+-----+--------+------+--------------------------------------------------+------------------------------+-----------------------------+-------------------------------+---------------------+-----------------------+----------------------+------------------------+--------------+----------------+---------------+----------------------------+---------------------------+------------------------+-----------------------+-------------------------------------+---------------------------+-----------------------------+----------------------------+---------------------------------------+-----------------------------+-------------------------------+------------------------------+-----------------------+-------------+---------------+--------------+----------------------------------+------------------------------------+-----------------------------------+\n",
      "|      3| 60956456424|       3|      136.68|    2021-08-20|          0|                0|      0|        20|    8|        6|Ultricies Digniss...|([gift, card, Nov...|     -4.2380953|      2.9853823|        7.979236| 8026969.561502457|   NT|     862|Female|                                              1099|                         56030|                        45125|                              1|                  821|                  56184|                 49641|                       1|           155|             950|            818|                       58776|                      47279|                    2575|                    695|                                    1|                        144|                        64171|                       25168|                                      1|                          141|                          47773|                         14002|                      1|          795|          16719|         11089|                              1227|                              187532|                              80365|\n",
      "|  18482| 70501974849|       8|       68.75|    2021-08-20|          0|                0|      0|        20|    8|        6|Facilisis Lorem T...|((computers, comp...|    -0.85714287|      2.9847739|       7.8787856|1138649.2600500286|  NSW|    1430|  Male|                                              3241|                         62970|                        48875|                              1|                 2631|                  62722|                 53439|                       1|           468|            1250|            331|                       65378|                      51009|                    2396|                    715|                                    1|                        273|                       104471|                       30000|                                      1|                          251|                          75293|                         16014|                      1|         2462|          19177|         11585|                              3696|                              159242|                              66588|\n",
      "+-------+------------+--------+------------+--------------+-----------+-----------------+-------+----------+-----+---------+--------------------+--------------------+---------------+---------------+----------------+------------------+-----+--------+------+--------------------------------------------------+------------------------------+-----------------------------+-------------------------------+---------------------+-----------------------+----------------------+------------------------+--------------+----------------+---------------+----------------------------+---------------------------+------------------------+-----------------------+-------------------------------------+---------------------------+-----------------------------+----------------------------+---------------------------------------+-----------------------------+-------------------------------+------------------------------+-----------------------+-------------+---------------+--------------+----------------------------------+------------------------------------+-----------------------------------+\n",
      "only showing top 2 rows\n",
      "\n"
     ]
    }
   ],
   "source": [
    "final = transactions.join(merchants, on=\"merchant_abn\").join(customers, on=\"user_id\")\n",
    "final.show(2)"
   ]
  },
  {
   "cell_type": "code",
   "execution_count": 6,
   "metadata": {},
   "outputs": [
    {
     "name": "stderr",
     "output_type": "stream",
     "text": [
      "                                                                                \r"
     ]
    },
    {
     "data": {
      "text/plain": [
       "13614648"
      ]
     },
     "execution_count": 6,
     "metadata": {},
     "output_type": "execute_result"
    }
   ],
   "source": [
    "final.count()"
   ]
  },
  {
   "cell_type": "markdown",
   "metadata": {},
   "source": [
    "### Dropping Columns"
   ]
  },
  {
   "cell_type": "code",
   "execution_count": 7,
   "metadata": {},
   "outputs": [
    {
     "name": "stdout",
     "output_type": "stream",
     "text": [
      "root\n",
      " |-- user_id: long (nullable = true)\n",
      " |-- merchant_abn: long (nullable = true)\n",
      " |-- order_id: long (nullable = true)\n",
      " |-- dollar_value: float (nullable = true)\n",
      " |-- order_datetime: date (nullable = true)\n",
      " |-- Natural_var: integer (nullable = true)\n",
      " |-- Potential_Outlier: integer (nullable = true)\n",
      " |-- holiday: long (nullable = true)\n",
      " |-- dayofmonth: integer (nullable = true)\n",
      " |-- month: integer (nullable = true)\n",
      " |-- dayofweek: integer (nullable = true)\n",
      " |-- name: string (nullable = true)\n",
      " |-- tags: string (nullable = true)\n",
      " |-- avg_monthly_inc: float (nullable = true)\n",
      " |-- monthly_entropy: float (nullable = true)\n",
      " |-- postcode_entropy: float (nullable = true)\n",
      " |-- revenue: double (nullable = true)\n",
      " |-- state: string (nullable = true)\n",
      " |-- postcode: long (nullable = true)\n",
      " |-- gender: string (nullable = true)\n",
      " |-- Number of individuals lodging an income tax return: long (nullable = true)\n",
      " |-- Average taxable income or loss: long (nullable = true)\n",
      " |-- Median taxable income or loss: long (nullable = true)\n",
      " |-- Proportion with salary or wages: long (nullable = true)\n",
      " |-- Count salary or wages: long (nullable = true)\n",
      " |-- Average salary or wages: long (nullable = true)\n",
      " |-- Median salary or wages: long (nullable = true)\n",
      " |-- Proportion with net rent: long (nullable = true)\n",
      " |-- Count net rent: long (nullable = true)\n",
      " |-- Average net rent: long (nullable = true)\n",
      " |-- Median net rent: long (nullable = true)\n",
      " |-- Average total income or loss: long (nullable = true)\n",
      " |-- Median total income or loss: long (nullable = true)\n",
      " |-- Average total deductions: long (nullable = true)\n",
      " |-- Median total deductions: long (nullable = true)\n",
      " |-- Proportion with total business income: long (nullable = true)\n",
      " |-- Count total business income: long (nullable = true)\n",
      " |-- Average total business income: long (nullable = true)\n",
      " |-- Median total business income: long (nullable = true)\n",
      " |-- Proportion with total business expenses: long (nullable = true)\n",
      " |-- Count total business expenses: long (nullable = true)\n",
      " |-- Average total business expenses: long (nullable = true)\n",
      " |-- Median total business expenses: long (nullable = true)\n",
      " |-- Proportion with net tax: long (nullable = true)\n",
      " |-- Count net tax: long (nullable = true)\n",
      " |-- Average net tax: long (nullable = true)\n",
      " |-- Median net tax: long (nullable = true)\n",
      " |-- Count super total accounts balance: long (nullable = true)\n",
      " |-- Average super total accounts balance: long (nullable = true)\n",
      " |-- Median super total accounts balance: long (nullable = true)\n",
      "\n"
     ]
    }
   ],
   "source": [
    "final.printSchema()"
   ]
  },
  {
   "cell_type": "code",
   "execution_count": 13,
   "metadata": {},
   "outputs": [
    {
     "name": "stdout",
     "output_type": "stream",
     "text": [
      "root\n",
      " |-- dollar_value: float (nullable = true)\n",
      " |-- Natural_var: integer (nullable = true)\n",
      " |-- Potential_Outlier: integer (nullable = true)\n",
      " |-- holiday: long (nullable = true)\n",
      " |-- dayofmonth: integer (nullable = true)\n",
      " |-- month: integer (nullable = true)\n",
      " |-- dayofweek: integer (nullable = true)\n",
      " |-- tags: string (nullable = true)\n",
      " |-- avg_monthly_inc: float (nullable = true)\n",
      " |-- monthly_entropy: float (nullable = true)\n",
      " |-- postcode_entropy: float (nullable = true)\n",
      " |-- revenue: double (nullable = true)\n",
      " |-- state: string (nullable = true)\n",
      " |-- postcode: long (nullable = true)\n",
      " |-- gender: string (nullable = true)\n",
      " |-- Number of individuals lodging an income tax return: long (nullable = true)\n",
      " |-- Average taxable income or loss: long (nullable = true)\n",
      " |-- Median taxable income or loss: long (nullable = true)\n",
      " |-- Proportion with salary or wages: long (nullable = true)\n",
      " |-- Count salary or wages: long (nullable = true)\n",
      " |-- Average salary or wages: long (nullable = true)\n",
      " |-- Median salary or wages: long (nullable = true)\n",
      " |-- Proportion with net rent: long (nullable = true)\n",
      " |-- Count net rent: long (nullable = true)\n",
      " |-- Average net rent: long (nullable = true)\n",
      " |-- Median net rent: long (nullable = true)\n",
      " |-- Average total income or loss: long (nullable = true)\n",
      " |-- Median total income or loss: long (nullable = true)\n",
      " |-- Average total deductions: long (nullable = true)\n",
      " |-- Median total deductions: long (nullable = true)\n",
      " |-- Proportion with total business income: long (nullable = true)\n",
      " |-- Count total business income: long (nullable = true)\n",
      " |-- Average total business income: long (nullable = true)\n",
      " |-- Median total business income: long (nullable = true)\n",
      " |-- Proportion with total business expenses: long (nullable = true)\n",
      " |-- Count total business expenses: long (nullable = true)\n",
      " |-- Average total business expenses: long (nullable = true)\n",
      " |-- Median total business expenses: long (nullable = true)\n",
      " |-- Proportion with net tax: long (nullable = true)\n",
      " |-- Count net tax: long (nullable = true)\n",
      " |-- Average net tax: long (nullable = true)\n",
      " |-- Median net tax: long (nullable = true)\n",
      " |-- Count super total accounts balance: long (nullable = true)\n",
      " |-- Average super total accounts balance: long (nullable = true)\n",
      " |-- Median super total accounts balance: long (nullable = true)\n",
      "\n"
     ]
    }
   ],
   "source": [
    "final = final.drop(\"user_id\", \"merchant_abn\", \"order_id\", \"order_datetime\", \"name\")\n",
    "final.printSchema()"
   ]
  },
  {
   "cell_type": "markdown",
   "metadata": {},
   "source": [
    "### PROCESSING CUSTOMER FRAUD DATA"
   ]
  },
  {
   "cell_type": "code",
   "execution_count": 8,
   "metadata": {},
   "outputs": [
    {
     "name": "stdout",
     "output_type": "stream",
     "text": [
      "+-------+--------------+-----------------+\n",
      "|user_id|order_datetime|fraud_probability|\n",
      "+-------+--------------+-----------------+\n",
      "|   6228|    2021-12-19|         97.62981|\n",
      "|  21419|    2021-12-10|         99.24738|\n",
      "+-------+--------------+-----------------+\n",
      "only showing top 2 rows\n",
      "\n"
     ]
    }
   ],
   "source": [
    "c_fraud = sp.read.option(\"inferSchema\", True).parquet(\"../data/curated/customer_fraud\")\n",
    "c_fraud = c_fraud.withColumn(\"order_datetime\", col(\"order_datetime\").cast(DateType()))\n",
    "c_fraud.show(2)"
   ]
  },
  {
   "cell_type": "code",
   "execution_count": 9,
   "metadata": {},
   "outputs": [
    {
     "name": "stdout",
     "output_type": "stream",
     "text": [
      "+--------+-------+------------+------------+--------------+-----------+-----------------+-------+----------+-----+---------+\n",
      "|order_id|user_id|merchant_abn|dollar_value|order_datetime|Natural_var|Potential_Outlier|holiday|dayofmonth|month|dayofweek|\n",
      "+--------+-------+------------+------------+--------------+-----------+-----------------+-------+----------+-----+---------+\n",
      "|       3|      3| 60956456424|      136.68|    2021-08-20|          0|                0|      0|        20|    8|        6|\n",
      "|       8|  18482| 70501974849|       68.75|    2021-08-20|          0|                0|      0|        20|    8|        6|\n",
      "+--------+-------+------------+------------+--------------+-----------+-----------------+-------+----------+-----+---------+\n",
      "only showing top 2 rows\n",
      "\n"
     ]
    }
   ],
   "source": [
    "transactions.show(2)"
   ]
  },
  {
   "cell_type": "code",
   "execution_count": 10,
   "metadata": {},
   "outputs": [
    {
     "name": "stdout",
     "output_type": "stream",
     "text": [
      "+-------+--------------+--------+------------+------------+-----------+-----------------+-------+----------+-----+---------+-----------------+\n",
      "|user_id|order_datetime|order_id|merchant_abn|dollar_value|Natural_var|Potential_Outlier|holiday|dayofmonth|month|dayofweek|fraud_probability|\n",
      "+-------+--------------+--------+------------+------------+-----------+-----------------+-------+----------+-----+---------+-----------------+\n",
      "|    448|    2021-08-20|    1005| 94380689142|     6263.03|          0|                0|      0|        20|    8|        6|        14.681704|\n",
      "|   3116|    2021-08-20|    6989| 22248828825|     3958.86|          0|                0|      0|        20|    8|        6|         8.809071|\n",
      "+-------+--------------+--------+------------+------------+-----------+-----------------+-------+----------+-----+---------+-----------------+\n",
      "only showing top 2 rows\n",
      "\n"
     ]
    }
   ],
   "source": [
    "c_fraud_full = transactions.join(c_fraud, on=[\"user_id\", \"order_datetime\"])\n",
    "c_fraud_full.show(2)"
   ]
  },
  {
   "cell_type": "code",
   "execution_count": 11,
   "metadata": {},
   "outputs": [
    {
     "name": "stderr",
     "output_type": "stream",
     "text": [
      "                                                                                \r"
     ]
    },
    {
     "data": {
      "text/plain": [
       "80560"
      ]
     },
     "execution_count": 11,
     "metadata": {},
     "output_type": "execute_result"
    }
   ],
   "source": [
    "c_fraud_full.count()"
   ]
  },
  {
   "cell_type": "code",
   "execution_count": 12,
   "metadata": {},
   "outputs": [
    {
     "name": "stdout",
     "output_type": "stream",
     "text": [
      "+-------+------------+--------------+--------+------------+-----------+-----------------+-------+----------+-----+---------+-----------------+-----------+--------------------+---------------+---------------+----------------+----------------+-----+--------+------+--------------------------------------------------+------------------------------+-----------------------------+-------------------------------+---------------------+-----------------------+----------------------+------------------------+--------------+----------------+---------------+----------------------------+---------------------------+------------------------+-----------------------+-------------------------------------+---------------------------+-----------------------------+----------------------------+---------------------------------------+-----------------------------+-------------------------------+------------------------------+-----------------------+-------------+---------------+--------------+----------------------------------+------------------------------------+-----------------------------------+\n",
      "|user_id|merchant_abn|order_datetime|order_id|dollar_value|Natural_var|Potential_Outlier|holiday|dayofmonth|month|dayofweek|fraud_probability|       name|                tags|avg_monthly_inc|monthly_entropy|postcode_entropy|         revenue|state|postcode|gender|Number of individuals lodging an income tax return|Average taxable income or loss|Median taxable income or loss|Proportion with salary or wages|Count salary or wages|Average salary or wages|Median salary or wages|Proportion with net rent|Count net rent|Average net rent|Median net rent|Average total income or loss|Median total income or loss|Average total deductions|Median total deductions|Proportion with total business income|Count total business income|Average total business income|Median total business income|Proportion with total business expenses|Count total business expenses|Average total business expenses|Median total business expenses|Proportion with net tax|Count net tax|Average net tax|Median net tax|Count super total accounts balance|Average super total accounts balance|Median super total accounts balance|\n",
      "+-------+------------+--------------+--------+------------+-----------+-----------------+-------+----------+-----+---------+-----------------+-----------+--------------------+---------------+---------------+----------------+----------------+-----+--------+------+--------------------------------------------------+------------------------------+-----------------------------+-------------------------------+---------------------+-----------------------+----------------------+------------------------+--------------+----------------+---------------+----------------------------+---------------------------+------------------------+-----------------------+-------------------------------------+---------------------------+-----------------------------+----------------------------+---------------------------------------+-----------------------------+-------------------------------+------------------------------+-----------------------+-------------+---------------+--------------+----------------------------------+------------------------------------+-----------------------------------+\n",
      "|    448| 94380689142|    2021-08-20|    1005|     6263.03|          0|                0|      0|        20|    8|        6|        14.681704|Aliquet Ltd|[(motor vehicle s...|            0.0|      2.7101815|       4.0600557|241562.580078125|   WA|    6170|Female|                                              4994|                         56564|                        44772|                              1|                 3916|                  57393|                 49510|                       1|           690|             863|            255|                       59730|                      47123|                    2865|                    598|                                    1|                        457|                        93034|                       32873|                                      1|                          436|                          76035|                         20422|                      1|         3801|          17124|         10380|                              5584|                              157038|                              62394|\n",
      "+-------+------------+--------------+--------+------------+-----------+-----------------+-------+----------+-----+---------+-----------------+-----------+--------------------+---------------+---------------+----------------+----------------+-----+--------+------+--------------------------------------------------+------------------------------+-----------------------------+-------------------------------+---------------------+-----------------------+----------------------+------------------------+--------------+----------------+---------------+----------------------------+---------------------------+------------------------+-----------------------+-------------------------------------+---------------------------+-----------------------------+----------------------------+---------------------------------------+-----------------------------+-------------------------------+------------------------------+-----------------------+-------------+---------------+--------------+----------------------------------+------------------------------------+-----------------------------------+\n",
      "only showing top 1 row\n",
      "\n"
     ]
    }
   ],
   "source": [
    "X = c_fraud_full.join(merchants, on=\"merchant_abn\").join(customers, on=\"user_id\")\n",
    "X.show(1)"
   ]
  },
  {
   "cell_type": "code",
   "execution_count": 13,
   "metadata": {},
   "outputs": [
    {
     "name": "stdout",
     "output_type": "stream",
     "text": [
      "root\n",
      " |-- dollar_value: float (nullable = true)\n",
      " |-- Natural_var: integer (nullable = true)\n",
      " |-- Potential_Outlier: integer (nullable = true)\n",
      " |-- holiday: long (nullable = true)\n",
      " |-- dayofmonth: integer (nullable = true)\n",
      " |-- month: integer (nullable = true)\n",
      " |-- dayofweek: integer (nullable = true)\n",
      " |-- fraud_probability: float (nullable = true)\n",
      " |-- tags: string (nullable = true)\n",
      " |-- avg_monthly_inc: float (nullable = true)\n",
      " |-- monthly_entropy: float (nullable = true)\n",
      " |-- postcode_entropy: float (nullable = true)\n",
      " |-- revenue: double (nullable = true)\n",
      " |-- state: string (nullable = true)\n",
      " |-- postcode: long (nullable = true)\n",
      " |-- gender: string (nullable = true)\n",
      " |-- Number of individuals lodging an income tax return: long (nullable = true)\n",
      " |-- Average taxable income or loss: long (nullable = true)\n",
      " |-- Median taxable income or loss: long (nullable = true)\n",
      " |-- Proportion with salary or wages: long (nullable = true)\n",
      " |-- Count salary or wages: long (nullable = true)\n",
      " |-- Average salary or wages: long (nullable = true)\n",
      " |-- Median salary or wages: long (nullable = true)\n",
      " |-- Proportion with net rent: long (nullable = true)\n",
      " |-- Count net rent: long (nullable = true)\n",
      " |-- Average net rent: long (nullable = true)\n",
      " |-- Median net rent: long (nullable = true)\n",
      " |-- Average total income or loss: long (nullable = true)\n",
      " |-- Median total income or loss: long (nullable = true)\n",
      " |-- Average total deductions: long (nullable = true)\n",
      " |-- Median total deductions: long (nullable = true)\n",
      " |-- Proportion with total business income: long (nullable = true)\n",
      " |-- Count total business income: long (nullable = true)\n",
      " |-- Average total business income: long (nullable = true)\n",
      " |-- Median total business income: long (nullable = true)\n",
      " |-- Proportion with total business expenses: long (nullable = true)\n",
      " |-- Count total business expenses: long (nullable = true)\n",
      " |-- Average total business expenses: long (nullable = true)\n",
      " |-- Median total business expenses: long (nullable = true)\n",
      " |-- Proportion with net tax: long (nullable = true)\n",
      " |-- Count net tax: long (nullable = true)\n",
      " |-- Average net tax: long (nullable = true)\n",
      " |-- Median net tax: long (nullable = true)\n",
      " |-- Count super total accounts balance: long (nullable = true)\n",
      " |-- Average super total accounts balance: long (nullable = true)\n",
      " |-- Median super total accounts balance: long (nullable = true)\n",
      "\n"
     ]
    }
   ],
   "source": [
    "X = X.drop(\"user_id\", \"merchant_abn\", \"order_datetime\", \"order_id\", \"name\")\n",
    "X.printSchema()"
   ]
  },
  {
   "cell_type": "markdown",
   "metadata": {},
   "source": [
    "Categorical\n",
    "- holiday (done)\n",
    "- dayofmonth ?\n",
    "- dayofweek\n",
    "- month (done)\n",
    "- tags\n",
    "- state\n",
    "- gender\n",
    "- postcode"
   ]
  },
  {
   "cell_type": "code",
   "execution_count": 14,
   "metadata": {},
   "outputs": [],
   "source": [
    "from pyspark.ml.feature import StringIndexer, OneHotEncoder\n",
    "\n",
    "from pyspark.ml import Pipeline\n",
    "from pyspark.sql.types import FloatType\n",
    "from pyspark.mllib.evaluation import MulticlassMetrics\n",
    "from pyspark.ml.regression import GeneralizedLinearRegression, GBTRegressor\n",
    "from pyspark.ml.classification import MultilayerPerceptronClassifier\n",
    "from pyspark.ml.feature import StringIndexer, OneHotEncoder, VectorAssembler, StandardScaler\n",
    "from pyspark.ml.evaluation import MulticlassClassificationEvaluator, RegressionEvaluator\n",
    "\n",
    "def category_processing(data: DataFrame, outcome: str):\n",
    "    categories = [\n",
    "        \"dayofmonth\",\n",
    "        \"dayofweek\",\n",
    "        \"month\",\n",
    "        \"tags\",\n",
    "        \"state\",\n",
    "        \"gender\",\n",
    "        \"postcode\"\n",
    "    ]\n",
    "\n",
    "    # Pipeline\n",
    "    indexers = [StringIndexer(inputCol=c, outputCol=c+\"_index\") for c in categories]\n",
    "    encoders = [OneHotEncoder(inputCol=c+\"_index\", outputCol=c+\"_encoded\") for c in categories]\n",
    "    transformed = Pipeline(stages=indexers + encoders).fit(data).transform(data)\n",
    "\n",
    "    for c in categories:\n",
    "        transformed = transformed.drop(c).drop(c+\"_index\")\n",
    "    return transformed"
   ]
  },
  {
   "cell_type": "code",
   "execution_count": 16,
   "metadata": {},
   "outputs": [
    {
     "name": "stderr",
     "output_type": "stream",
     "text": [
      "                                                                                \r"
     ]
    },
    {
     "name": "stdout",
     "output_type": "stream",
     "text": [
      "+------------+-----------+-----------------+-------+-----------------+---------------+---------------+----------------+----------------+--------------------------------------------------+------------------------------+-----------------------------+-------------------------------+---------------------+-----------------------+----------------------+------------------------+--------------+----------------+---------------+----------------------------+---------------------------+------------------------+-----------------------+-------------------------------------+---------------------------+-----------------------------+----------------------------+---------------------------------------+-----------------------------+-------------------------------+------------------------------+-----------------------+-------------+---------------+--------------+----------------------------------+------------------------------------+-----------------------------------+------------------+-----------------+--------------+------------------+-------------+--------------+-------------------+\n",
      "|dollar_value|Natural_var|Potential_Outlier|holiday|fraud_probability|avg_monthly_inc|monthly_entropy|postcode_entropy|         revenue|Number of individuals lodging an income tax return|Average taxable income or loss|Median taxable income or loss|Proportion with salary or wages|Count salary or wages|Average salary or wages|Median salary or wages|Proportion with net rent|Count net rent|Average net rent|Median net rent|Average total income or loss|Median total income or loss|Average total deductions|Median total deductions|Proportion with total business income|Count total business income|Average total business income|Median total business income|Proportion with total business expenses|Count total business expenses|Average total business expenses|Median total business expenses|Proportion with net tax|Count net tax|Average net tax|Median net tax|Count super total accounts balance|Average super total accounts balance|Median super total accounts balance|dayofmonth_encoded|dayofweek_encoded| month_encoded|      tags_encoded|state_encoded|gender_encoded|   postcode_encoded|\n",
      "+------------+-----------+-----------------+-------+-----------------+---------------+---------------+----------------+----------------+--------------------------------------------------+------------------------------+-----------------------------+-------------------------------+---------------------+-----------------------+----------------------+------------------------+--------------+----------------+---------------+----------------------------+---------------------------+------------------------+-----------------------+-------------------------------------+---------------------------+-----------------------------+----------------------------+---------------------------------------+-----------------------------+-------------------------------+------------------------------+-----------------------+-------------+---------------+--------------+----------------------------------+------------------------------------+-----------------------------------+------------------+-----------------+--------------+------------------+-------------+--------------+-------------------+\n",
      "|     6263.03|          0|                0|      0|        14.681704|            0.0|      2.7101815|       4.0600557|241562.580078125|                                              4994|                         56564|                        44772|                              1|                 3916|                  57393|                 49510|                       1|           690|             863|            255|                       59730|                      47123|                    2865|                    598|                                    1|                        457|                        93034|                       32873|                                      1|                          436|                          76035|                         20422|                      1|         3801|          17124|         10380|                              5584|                              157038|                              62394|   (30,[17],[1.0])|    (6,[0],[1.0])|(11,[6],[1.0])|(3207,[954],[1.0])|(7,[2],[1.0])| (2,[1],[1.0])|(3160,[1229],[1.0])|\n",
      "+------------+-----------+-----------------+-------+-----------------+---------------+---------------+----------------+----------------+--------------------------------------------------+------------------------------+-----------------------------+-------------------------------+---------------------+-----------------------+----------------------+------------------------+--------------+----------------+---------------+----------------------------+---------------------------+------------------------+-----------------------+-------------------------------------+---------------------------+-----------------------------+----------------------------+---------------------------------------+-----------------------------+-------------------------------+------------------------------+-----------------------+-------------+---------------+--------------+----------------------------------+------------------------------------+-----------------------------------+------------------+-----------------+--------------+------------------+-------------+--------------+-------------------+\n",
      "only showing top 1 row\n",
      "\n"
     ]
    }
   ],
   "source": [
    "category_processed = category_processing(X, \"outcome\")\n",
    "category_processed.show(1)"
   ]
  },
  {
   "cell_type": "markdown",
   "metadata": {},
   "source": [
    "## TRAIN TEST SPLIT"
   ]
  },
  {
   "cell_type": "code",
   "execution_count": 17,
   "metadata": {},
   "outputs": [
    {
     "name": "stderr",
     "output_type": "stream",
     "text": [
      "                                                                                \r"
     ]
    },
    {
     "data": {
      "text/plain": [
       "71813"
      ]
     },
     "execution_count": 17,
     "metadata": {},
     "output_type": "execute_result"
    }
   ],
   "source": [
    "y = X.select(\"fraud_probability\")\n",
    "y.count()"
   ]
  },
  {
   "cell_type": "code",
   "execution_count": 19,
   "metadata": {},
   "outputs": [
    {
     "name": "stderr",
     "output_type": "stream",
     "text": [
      "[Stage 134:======================================>                  (6 + 3) / 9]\r"
     ]
    },
    {
     "name": "stdout",
     "output_type": "stream",
     "text": [
      "+-------+------------------+\n",
      "|summary| fraud_probability|\n",
      "+-------+------------------+\n",
      "|  count|             71813|\n",
      "|   mean|14.717076242080452|\n",
      "| stddev| 9.404555316490011|\n",
      "|    min|          8.287144|\n",
      "|    max|          97.62981|\n",
      "+-------+------------------+\n",
      "\n"
     ]
    },
    {
     "name": "stderr",
     "output_type": "stream",
     "text": [
      "                                                                                \r"
     ]
    }
   ],
   "source": [
    "y.describe().show()"
   ]
  },
  {
   "cell_type": "code",
   "execution_count": 26,
   "metadata": {},
   "outputs": [
    {
     "name": "stdout",
     "output_type": "stream",
     "text": [
      "+------------+-----------+-----------------+-------+----------+-----+---------+-----------------+--------------------+---------------+---------------+----------------+------------------+-----+--------+-----------+--------------------------------------------------+------------------------------+-----------------------------+-------------------------------+---------------------+-----------------------+----------------------+------------------------+--------------+----------------+---------------+----------------------------+---------------------------+------------------------+-----------------------+-------------------------------------+---------------------------+-----------------------------+----------------------------+---------------------------------------+-----------------------------+-------------------------------+------------------------------+-----------------------+-------------+---------------+--------------+----------------------------------+------------------------------------+-----------------------------------+-------------+\n",
      "|dollar_value|Natural_var|Potential_Outlier|holiday|dayofmonth|month|dayofweek|fraud_probability|                tags|avg_monthly_inc|monthly_entropy|postcode_entropy|           revenue|state|postcode|     gender|Number of individuals lodging an income tax return|Average taxable income or loss|Median taxable income or loss|Proportion with salary or wages|Count salary or wages|Average salary or wages|Median salary or wages|Proportion with net rent|Count net rent|Average net rent|Median net rent|Average total income or loss|Median total income or loss|Average total deductions|Median total deductions|Proportion with total business income|Count total business income|Average total business income|Median total business income|Proportion with total business expenses|Count total business expenses|Average total business expenses|Median total business expenses|Proportion with net tax|Count net tax|Average net tax|Median net tax|Count super total accounts balance|Average super total accounts balance|Median super total accounts balance|fraud_buckets|\n",
      "+------------+-----------+-----------------+-------+----------+-----+---------+-----------------+--------------------+---------------+---------------+----------------+------------------+-----+--------+-----------+--------------------------------------------------+------------------------------+-----------------------------+-------------------------------+---------------------+-----------------------+----------------------+------------------------+--------------+----------------+---------------+----------------------------+---------------------------+------------------------+-----------------------+-------------------------------------+---------------------------+-----------------------------+----------------------------+---------------------------------------+-----------------------------+-------------------------------+------------------------------+-----------------------+-------------+---------------+--------------+----------------------------------+------------------------------------+-----------------------------------+-------------+\n",
      "|     6263.03|          0|                0|      0|        20|    8|        6|        14.681704|[(motor vehicle s...|            0.0|      2.7101815|       4.0600557|  241562.580078125|   WA|    6170|     Female|                                              4994|                         56564|                        44772|                              1|                 3916|                  57393|                 49510|                       1|           690|             863|            255|                       59730|                      47123|                    2865|                    598|                                    1|                        457|                        93034|                       32873|                                      1|                          436|                          76035|                         20422|                      1|         3801|          17124|         10380|                              5584|                              157038|                              62394|          1.0|\n",
      "|     3958.86|          0|                0|      0|        20|    8|        6|         8.809071|([art dealers aNd...|          -0.25|      2.9085858|       4.7384768| 316656.2487487793|  NSW|    2680|     Female|                                             13521|                         51584|                        42810|                              1|                10806|                  54194|                 47430|                       1|          2100|            -756|           -864|                       53637|                      44471|                    2028|                    560|                                    1|                       1252|                        67622|                       30455|                                      1|                         1176|                          49354|                         13216|                      1|         9946|          13930|          8850|                             15360|                              118190|                              40389|          0.0|\n",
      "|     8915.01|          0|                0|      0|        20|    8|        6|        19.215721|([motor vehicle s...|    -0.04761905|       2.980616|        6.883108|4932394.0486450195|  NSW|    1233|Undisclosed|                                              9015|                         76967|                        62413|                              1|                 7758|                  77621|                 67300|                       1|          1424|            1360|            278|                       79587|                      64803|                    2596|                   1000|                                    1|                       1059|                        67347|                       21787|                                      1|                          981|                          40717|                          8996|                      1|         7525|          23202|         15471|                             10696|                              142162|                              61982|          1.0|\n",
      "|    11979.43|          0|                0|      0|        20|    8|        6|          19.3353|([jewelry, watch,...|            1.4|      2.3025851|       2.3025851| 50445.86952209473|  VIC|    3265|       Male|                                              2376|                         68649|                        53376|                              1|                 1988|                  72387|                 60491|                       1|           328|           -5283|          -3996|                       71010|                      55095|                    2304|                    902|                                    1|                        204|                        80605|                       25166|                                      1|                          194|                          61464|                          9784|                      1|         1835|          21160|         14653|                              2580|                              121410|                              59287|          1.0|\n",
      "|       24.28|          0|                0|      0|        20|    8|        6|        11.345162|([bicycle shops -...|    -0.42857143|       2.984883|        7.721335| 642707.4601142555|   SA|    5165|     Female|                                               600|                         35308|                        29381|                              1|                  364|                  52588|                 47441|                       1|            58|            2213|            697|                       37847|                      31542|                    1763|                    155|                                    1|                        105|                        97870|                       46809|                                      1|                          106|                          92597|                         44650|                      1|          337|          12489|          7197|                               672|                              101824|                              38985|          1.0|\n",
      "+------------+-----------+-----------------+-------+----------+-----+---------+-----------------+--------------------+---------------+---------------+----------------+------------------+-----+--------+-----------+--------------------------------------------------+------------------------------+-----------------------------+-------------------------------+---------------------+-----------------------+----------------------+------------------------+--------------+----------------+---------------+----------------------------+---------------------------+------------------------+-----------------------+-------------------------------------+---------------------------+-----------------------------+----------------------------+---------------------------------------+-----------------------------+-------------------------------+------------------------------+-----------------------+-------------+---------------+--------------+----------------------------------+------------------------------------+-----------------------------------+-------------+\n",
      "only showing top 5 rows\n",
      "\n"
     ]
    }
   ],
   "source": [
    "from pyspark.ml.feature import Bucketizer\n",
    "\n",
    "buckets = Bucketizer(splits=[0, 10, 20, 30, 40, 50, 60, 70, 80, 90, 100], inputCol=\"fraud_probability\", outputCol=\"fraud_buckets\")\n",
    "X_bucks = buckets.transform(X)\n",
    "\n",
    "X_bucks.show(5)"
   ]
  },
  {
   "cell_type": "code",
   "execution_count": 27,
   "metadata": {},
   "outputs": [
    {
     "name": "stderr",
     "output_type": "stream",
     "text": [
      "[Stage 168:>                                                        (0 + 8) / 9]\r"
     ]
    },
    {
     "name": "stdout",
     "output_type": "stream",
     "text": [
      "+-------------+-----+\n",
      "|fraud_buckets|count|\n",
      "+-------------+-----+\n",
      "|          0.0|22923|\n",
      "|          1.0|38611|\n",
      "|          2.0| 6113|\n",
      "|          3.0| 1934|\n",
      "|          4.0|  990|\n",
      "|          5.0|  576|\n",
      "|          6.0|  360|\n",
      "|          7.0|  193|\n",
      "|          8.0|  102|\n",
      "|          9.0|   11|\n",
      "+-------------+-----+\n",
      "\n"
     ]
    },
    {
     "name": "stderr",
     "output_type": "stream",
     "text": [
      "                                                                                \r"
     ]
    }
   ],
   "source": [
    "X_bucks.groupBy(\"fraud_buckets\").count().orderBy(\"fraud_buckets\").show()"
   ]
  },
  {
   "cell_type": "code",
   "execution_count": 40,
   "metadata": {},
   "outputs": [
    {
     "name": "stderr",
     "output_type": "stream",
     "text": [
      "                                                                                \r"
     ]
    },
    {
     "data": {
      "text/plain": [
       "96272"
      ]
     },
     "execution_count": 40,
     "metadata": {},
     "output_type": "execute_result"
    }
   ],
   "source": [
    "from functools import reduce\n",
    "\n",
    "X_bucks_9 = X_bucks.filter(X_bucks[\"fraud_buckets\"] == 9.0)\n",
    "X_bucks_8 = X_bucks.filter(X_bucks[\"fraud_buckets\"] == 8.0)\n",
    "X_bucks_7 = X_bucks.filter(X_bucks[\"fraud_buckets\"] == 7.0)\n",
    "X_bucks_6 = X_bucks.filter(X_bucks[\"fraud_buckets\"] == 6.0)\n",
    "X_bucks_5 = X_bucks.filter(X_bucks[\"fraud_buckets\"] == 5.0)\n",
    "X_bucks_4 = X_bucks.filter(X_bucks[\"fraud_buckets\"] == 4.0)\n",
    "X_bucks_3 = X_bucks.filter(X_bucks[\"fraud_buckets\"] == 3.0)\n",
    "\n",
    "X_bucks_9_over = X_bucks_9.sample(withReplacement=True, fraction=350.0, seed=69)\n",
    "X_bucks_8_over = X_bucks_8.sample(withReplacement=True, fraction=35.0, seed=69)\n",
    "X_bucks_7_over = X_bucks_7.sample(withReplacement=True, fraction=20.0, seed=69)\n",
    "X_bucks_6_over = X_bucks_6.sample(withReplacement=True, fraction=15.0, seed=69)\n",
    "X_bucks_5_over = X_bucks_5.sample(withReplacement=True, fraction=7.0, seed=69)\n",
    "X_bucks_4_over = X_bucks_4.sample(withReplacement=True, fraction=4.0, seed=69)\n",
    "X_bucks_3_over = X_bucks_3.sample(withReplacement=True, fraction=2.0, seed=69)\n",
    "\n",
    "X_adjusted = reduce(DataFrame.unionAll, [X_bucks_9_over, X_bucks_8_over, X_bucks_7_over, X_bucks_6_over, X_bucks_5_over, X_bucks_4_over, X_bucks_3_over])\n",
    "X_adjusted = reduce(DataFrame.unionAll, [X_adjusted, X_bucks.filter(X_bucks[\"fraud_buckets\"] == 2.0), X_bucks.filter(X_bucks[\"fraud_buckets\"] == 1.0), X_bucks.filter(X_bucks[\"fraud_buckets\"] == 0.0)])\n",
    "X_adjusted.count()"
   ]
  },
  {
   "cell_type": "code",
   "execution_count": 41,
   "metadata": {},
   "outputs": [
    {
     "name": "stderr",
     "output_type": "stream",
     "text": [
      "[Stage 267:=================================================>     (81 + 8) / 90]\r"
     ]
    },
    {
     "name": "stdout",
     "output_type": "stream",
     "text": [
      "+-------------+-----+\n",
      "|fraud_buckets|count|\n",
      "+-------------+-----+\n",
      "|          0.0|22923|\n",
      "|          1.0|38611|\n",
      "|          2.0| 6113|\n",
      "|          3.0| 3910|\n",
      "|          4.0| 3931|\n",
      "|          5.0| 4025|\n",
      "|          6.0| 5450|\n",
      "|          7.0| 3876|\n",
      "|          8.0| 3583|\n",
      "|          9.0| 3850|\n",
      "+-------------+-----+\n",
      "\n"
     ]
    },
    {
     "name": "stderr",
     "output_type": "stream",
     "text": [
      "                                                                                \r"
     ]
    }
   ],
   "source": [
    "X_adjusted.groupBy(\"fraud_buckets\").count().orderBy(\"fraud_buckets\").show()"
   ]
  },
  {
   "cell_type": "code",
   "execution_count": 44,
   "metadata": {},
   "outputs": [
    {
     "name": "stderr",
     "output_type": "stream",
     "text": [
      "                                                                                \r"
     ]
    },
    {
     "name": "stdout",
     "output_type": "stream",
     "text": [
      "67492\n"
     ]
    },
    {
     "name": "stderr",
     "output_type": "stream",
     "text": [
      "                                                                                \r"
     ]
    },
    {
     "name": "stdout",
     "output_type": "stream",
     "text": [
      "19067\n"
     ]
    },
    {
     "name": "stderr",
     "output_type": "stream",
     "text": [
      "                                                                                \r"
     ]
    },
    {
     "data": {
      "text/plain": [
       "9713"
      ]
     },
     "execution_count": 44,
     "metadata": {},
     "output_type": "execute_result"
    }
   ],
   "source": [
    "train, val, test = X_adjusted.randomSplit([0.7, 0.2, 0.1], seed=69)\n",
    "\n",
    "print(train.count())\n",
    "print(val.count())\n",
    "test.count()"
   ]
  },
  {
   "cell_type": "code",
   "execution_count": null,
   "metadata": {},
   "outputs": [],
   "source": [
    "def process_numerical(data: DataFrame):\n",
    "    \"\"\"\n",
    "    Function to scale and process numerical columns\n",
    "    \"\"\"\n",
    "    # Scaler\n",
    "    columns = [\"Temperature\", \"Dew Point\", \"Humidity\", \"Wind Speed\", \"Wind Gust\", \"Pressure\", \"Precipitation\"]\n",
    "\n",
    "    va = VectorAssembler(inputCols=columns, outputCol=\"to_scale\")\n",
    "    sc = StandardScaler(inputCol=\"to_scale\", outputCol=\"scaled\")\n",
    "\n",
    "    va_data = va.transform(data)\n",
    "    data = sc.fit(va_data).transform(va_data)\n",
    "    # Drop other columns\n",
    "    for c in columns:\n",
    "        data = data.drop(c)\n",
    "    return data.drop(\"to_scale\")"
   ]
  }
 ],
 "metadata": {
  "kernelspec": {
   "display_name": "Python 3.9.13 ('virtual-p2')",
   "language": "python",
   "name": "python3"
  },
  "language_info": {
   "codemirror_mode": {
    "name": "ipython",
    "version": 3
   },
   "file_extension": ".py",
   "mimetype": "text/x-python",
   "name": "python",
   "nbconvert_exporter": "python",
   "pygments_lexer": "ipython3",
   "version": "3.9.13"
  },
  "orig_nbformat": 4,
  "vscode": {
   "interpreter": {
    "hash": "fcf6849838b3a8621666e21fdc4cc1583090fffb5f1906a909fbc1c95ae1bb65"
   }
  }
 },
 "nbformat": 4,
 "nbformat_minor": 2
}
