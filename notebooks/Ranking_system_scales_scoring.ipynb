{
 "cells": [
  {
   "cell_type": "code",
   "execution_count": 48,
   "metadata": {},
   "outputs": [],
   "source": [
    "from pyspark.sql import SparkSession, functions as F\n",
    "from pyspark.ml import feature as H\n",
    "# First lets reed the datasets\n",
    "spark = (\n",
    "    SparkSession.builder.appName(\"Data_Explorer\")\n",
    "    .config(\"spark.sql.repl.eagerEval.enabled\", True) \n",
    "    .config(\"spark.sql.parquet.cacheMetadata\", \"true\")\n",
    "    .config(\"spark.sql.session.timeZone\", \"Etc/UTC\")\n",
    "    .config(\"spark.driver.memory\", \"4g\")\n",
    "    .getOrCreate()\n",
    ")"
   ]
  },
  {
   "cell_type": "code",
   "execution_count": 49,
   "metadata": {},
   "outputs": [],
   "source": [
    "merchant_info = spark.read.parquet('../data/curated/full_dataset_Variation/')"
   ]
  },
  {
   "cell_type": "code",
   "execution_count": 50,
   "metadata": {},
   "outputs": [],
   "source": [
    "linkage = spark.read.csv('../data/curated/sector_lookup_table.csv', header=True)"
   ]
  },
  {
   "cell_type": "code",
   "execution_count": 51,
   "metadata": {},
   "outputs": [],
   "source": [
    "# pre process industry\n",
    "merchant_info = merchant_info.select('merchant_abn', 'Description').distinct()"
   ]
  },
  {
   "cell_type": "code",
   "execution_count": 52,
   "metadata": {},
   "outputs": [],
   "source": [
    "merchant_info = merchant_info.join(linkage, on= merchant_info.Description == linkage.Description, how='inner')"
   ]
  },
  {
   "cell_type": "code",
   "execution_count": 53,
   "metadata": {},
   "outputs": [],
   "source": [
    "merchant_info = merchant_info.select('merchant_abn', 'sector').distinct()"
   ]
  },
  {
   "cell_type": "code",
   "execution_count": 54,
   "metadata": {},
   "outputs": [],
   "source": [
    "# Read all our tables \n",
    "customer_scaled = spark.read.parquet('../data/Normalised/customer_scaled/')\n",
    "customer_scaled = customer_scaled.fillna(0.5)\n",
    "industry_raw = spark.read.parquet('../data/Normalised/industry_scailed/')\n",
    "industry_raw = industry_raw.fillna(0.5)\n",
    "merchant_scaled = spark.read.parquet('../data/Normalised/merchant_scaled/')\n",
    "merchant_scaled = merchant_scaled.fillna(0.5)\n",
    "revenue_scaled = spark.read.parquet('../data/Normalised/revenue_scailed/')\n",
    "revenue_scaled = revenue_scaled.fillna(0.5)"
   ]
  },
  {
   "cell_type": "code",
   "execution_count": 55,
   "metadata": {},
   "outputs": [
    {
     "data": {
      "text/html": [
       "<table border='1'>\n",
       "<tr><th>merchant_abn</th><th>Unique_Customers</th><th>Transaction_per_User</th><th>customer_wealth</th><th>Loyal_AVG</th><th>Customer_Entropy</th></tr>\n",
       "<tr><td>10255988167</td><td>0.0338</td><td>0.0018</td><td>0.418</td><td>0.0188</td><td>0.0842</td></tr>\n",
       "<tr><td>10430380319</td><td>0.0064</td><td>0.0</td><td>0.4125</td><td>0.0061</td><td>0.0</td></tr>\n",
       "<tr><td>10618089367</td><td>0.1325</td><td>0.0064</td><td>0.4236</td><td>0.0262</td><td>0.6354</td></tr>\n",
       "<tr><td>11215815177</td><td>0.0631</td><td>0.0027</td><td>0.4205</td><td>0.0215</td><td>0.239</td></tr>\n",
       "<tr><td>11237511112</td><td>0.5782</td><td>0.0445</td><td>0.4229</td><td>0.048</td><td>0.6983</td></tr>\n",
       "<tr><td>11355018654</td><td>0.106</td><td>0.0054</td><td>0.4246</td><td>0.0105</td><td>0.5049</td></tr>\n",
       "<tr><td>11411018019</td><td>4.0E-4</td><td>0.0</td><td>0.351</td><td>0.0421</td><td>0.0</td></tr>\n",
       "<tr><td>11470993597</td><td>0.0176</td><td>9.0E-4</td><td>0.4416</td><td>0.0073</td><td>0.0156</td></tr>\n",
       "<tr><td>11563852275</td><td>0.0809</td><td>0.0036</td><td>0.4238</td><td>0.0043</td><td>0.3546</td></tr>\n",
       "<tr><td>11566786699</td><td>0.8455</td><td>0.108</td><td>0.4237</td><td>0.0157</td><td>0.4624</td></tr>\n",
       "<tr><td>11961681734</td><td>0.027</td><td>0.0018</td><td>0.4248</td><td>0.0083</td><td>0.053</td></tr>\n",
       "<tr><td>11974270529</td><td>0.022</td><td>9.0E-4</td><td>0.4018</td><td>0.0757</td><td>0.0287</td></tr>\n",
       "<tr><td>12034469787</td><td>0.2003</td><td>0.01</td><td>0.4267</td><td>0.0048</td><td>0.8765</td></tr>\n",
       "<tr><td>12173100693</td><td>0.394</td><td>0.0236</td><td>0.4224</td><td>0.0106</td><td>0.8534</td></tr>\n",
       "<tr><td>12185659961</td><td>0.0054</td><td>0.0</td><td>0.3964</td><td>0.0058</td><td>8.0E-4</td></tr>\n",
       "<tr><td>12296390138</td><td>0.008</td><td>9.0E-4</td><td>0.4206</td><td>0.0046</td><td>0.0075</td></tr>\n",
       "<tr><td>12380299397</td><td>0.011</td><td>0.0</td><td>0.4238</td><td>0.0131</td><td>0.0053</td></tr>\n",
       "<tr><td>12395011633</td><td>0.0208</td><td>0.0027</td><td>0.4212</td><td>0.0016</td><td>0.0275</td></tr>\n",
       "<tr><td>12426913844</td><td>0.0436</td><td>0.0018</td><td>0.4273</td><td>0.0043</td><td>0.1296</td></tr>\n",
       "<tr><td>12438697459</td><td>0.2139</td><td>0.0109</td><td>0.4241</td><td>0.0078</td><td>0.93</td></tr>\n",
       "</table>\n",
       "only showing top 20 rows\n"
      ],
      "text/plain": [
       "+------------+----------------+--------------------+---------------+---------+----------------+\n",
       "|merchant_abn|Unique_Customers|Transaction_per_User|customer_wealth|Loyal_AVG|Customer_Entropy|\n",
       "+------------+----------------+--------------------+---------------+---------+----------------+\n",
       "| 10255988167|          0.0338|              0.0018|          0.418|   0.0188|          0.0842|\n",
       "| 10430380319|          0.0064|                 0.0|         0.4125|   0.0061|             0.0|\n",
       "| 10618089367|          0.1325|              0.0064|         0.4236|   0.0262|          0.6354|\n",
       "| 11215815177|          0.0631|              0.0027|         0.4205|   0.0215|           0.239|\n",
       "| 11237511112|          0.5782|              0.0445|         0.4229|    0.048|          0.6983|\n",
       "| 11355018654|           0.106|              0.0054|         0.4246|   0.0105|          0.5049|\n",
       "| 11411018019|          4.0E-4|                 0.0|          0.351|   0.0421|             0.0|\n",
       "| 11470993597|          0.0176|              9.0E-4|         0.4416|   0.0073|          0.0156|\n",
       "| 11563852275|          0.0809|              0.0036|         0.4238|   0.0043|          0.3546|\n",
       "| 11566786699|          0.8455|               0.108|         0.4237|   0.0157|          0.4624|\n",
       "| 11961681734|           0.027|              0.0018|         0.4248|   0.0083|           0.053|\n",
       "| 11974270529|           0.022|              9.0E-4|         0.4018|   0.0757|          0.0287|\n",
       "| 12034469787|          0.2003|                0.01|         0.4267|   0.0048|          0.8765|\n",
       "| 12173100693|           0.394|              0.0236|         0.4224|   0.0106|          0.8534|\n",
       "| 12185659961|          0.0054|                 0.0|         0.3964|   0.0058|          8.0E-4|\n",
       "| 12296390138|           0.008|              9.0E-4|         0.4206|   0.0046|          0.0075|\n",
       "| 12380299397|           0.011|                 0.0|         0.4238|   0.0131|          0.0053|\n",
       "| 12395011633|          0.0208|              0.0027|         0.4212|   0.0016|          0.0275|\n",
       "| 12426913844|          0.0436|              0.0018|         0.4273|   0.0043|          0.1296|\n",
       "| 12438697459|          0.2139|              0.0109|         0.4241|   0.0078|            0.93|\n",
       "+------------+----------------+--------------------+---------------+---------+----------------+\n",
       "only showing top 20 rows"
      ]
     },
     "execution_count": 55,
     "metadata": {},
     "output_type": "execute_result"
    }
   ],
   "source": [
    "customer_scaled"
   ]
  },
  {
   "cell_type": "code",
   "execution_count": 56,
   "metadata": {},
   "outputs": [
    {
     "data": {
      "text/html": [
       "<table border='1'>\n",
       "<tr><th>merchant_abn</th><th>postcode_entropy</th><th>Customer_Growth_Avg</th><th>Total_Business_Days</th></tr>\n",
       "<tr><td>34440496342</td><td>0.3315</td><td>0.3917</td><td>7.0E-4</td></tr>\n",
       "<tr><td>35344855546</td><td>0.1248</td><td>0.4575</td><td>0.0053</td></tr>\n",
       "<tr><td>37935728745</td><td>0.6698</td><td>0.7152</td><td>0.0</td></tr>\n",
       "<tr><td>38700038932</td><td>0.0295</td><td>0.4225</td><td>0.0246</td></tr>\n",
       "<tr><td>38986645707</td><td>0.5364</td><td>0.5512</td><td>1.0E-4</td></tr>\n",
       "<tr><td>41956465747</td><td>0.3028</td><td>0.4328</td><td>0.001</td></tr>\n",
       "<tr><td>35079621278</td><td>0.5876</td><td>0.4143</td><td>1.0E-4</td></tr>\n",
       "<tr><td>35769589414</td><td>0.2178</td><td>0.4632</td><td>0.002</td></tr>\n",
       "<tr><td>37470904997</td><td>0.4963</td><td>0.5343</td><td>2.0E-4</td></tr>\n",
       "<tr><td>39759375662</td><td>0.4393</td><td>0.4188</td><td>3.0E-4</td></tr>\n",
       "<tr><td>33754604709</td><td>0.6076</td><td>0.3785</td><td>1.0E-4</td></tr>\n",
       "<tr><td>37802138328</td><td>0.4507</td><td>0.4772</td><td>3.0E-4</td></tr>\n",
       "<tr><td>38049816588</td><td>0.6698</td><td>0.282</td><td>0.0</td></tr>\n",
       "<tr><td>38180882926</td><td>0.5448</td><td>0.524</td><td>1.0E-4</td></tr>\n",
       "<tr><td>41566402880</td><td>0.3292</td><td>0.4217</td><td>7.0E-4</td></tr>\n",
       "<tr><td>34262348703</td><td>0.3396</td><td>0.508</td><td>7.0E-4</td></tr>\n",
       "<tr><td>38734016504</td><td>0.1109</td><td>0.448</td><td>0.0061</td></tr>\n",
       "<tr><td>42191818419</td><td>0.1945</td><td>0.4414</td><td>0.0025</td></tr>\n",
       "<tr><td>32413511882</td><td>0.2325</td><td>0.4501</td><td>0.0018</td></tr>\n",
       "<tr><td>33026294208</td><td>0.3535</td><td>0.4357</td><td>6.0E-4</td></tr>\n",
       "</table>\n",
       "only showing top 20 rows\n"
      ],
      "text/plain": [
       "+------------+----------------+-------------------+-------------------+\n",
       "|merchant_abn|postcode_entropy|Customer_Growth_Avg|Total_Business_Days|\n",
       "+------------+----------------+-------------------+-------------------+\n",
       "| 34440496342|          0.3315|             0.3917|             7.0E-4|\n",
       "| 35344855546|          0.1248|             0.4575|             0.0053|\n",
       "| 37935728745|          0.6698|             0.7152|                0.0|\n",
       "| 38700038932|          0.0295|             0.4225|             0.0246|\n",
       "| 38986645707|          0.5364|             0.5512|             1.0E-4|\n",
       "| 41956465747|          0.3028|             0.4328|              0.001|\n",
       "| 35079621278|          0.5876|             0.4143|             1.0E-4|\n",
       "| 35769589414|          0.2178|             0.4632|              0.002|\n",
       "| 37470904997|          0.4963|             0.5343|             2.0E-4|\n",
       "| 39759375662|          0.4393|             0.4188|             3.0E-4|\n",
       "| 33754604709|          0.6076|             0.3785|             1.0E-4|\n",
       "| 37802138328|          0.4507|             0.4772|             3.0E-4|\n",
       "| 38049816588|          0.6698|              0.282|                0.0|\n",
       "| 38180882926|          0.5448|              0.524|             1.0E-4|\n",
       "| 41566402880|          0.3292|             0.4217|             7.0E-4|\n",
       "| 34262348703|          0.3396|              0.508|             7.0E-4|\n",
       "| 38734016504|          0.1109|              0.448|             0.0061|\n",
       "| 42191818419|          0.1945|             0.4414|             0.0025|\n",
       "| 32413511882|          0.2325|             0.4501|             0.0018|\n",
       "| 33026294208|          0.3535|             0.4357|             6.0E-4|\n",
       "+------------+----------------+-------------------+-------------------+\n",
       "only showing top 20 rows"
      ]
     },
     "execution_count": 56,
     "metadata": {},
     "output_type": "execute_result"
    }
   ],
   "source": [
    "merchant_scaled"
   ]
  },
  {
   "cell_type": "code",
   "execution_count": 57,
   "metadata": {},
   "outputs": [],
   "source": [
    "# slip ups \n",
    "industry_scaled = merchant_info.join(industry_raw, on='sector').drop('sector')\n",
    "revenue_scaled = revenue_scaled.select('merchant_abn', 'Revenue_Growth_Avg', 'Total_Revenue')"
   ]
  },
  {
   "cell_type": "code",
   "execution_count": 58,
   "metadata": {},
   "outputs": [
    {
     "data": {
      "text/html": [
       "<table border='1'>\n",
       "<tr><th>merchant_abn</th><th>Unique_Customers</th><th>Transaction_per_User</th><th>customer_wealth</th><th>Loyal_AVG</th><th>Customer_Entropy</th></tr>\n",
       "<tr><td>10255988167</td><td>0.0338</td><td>0.0018</td><td>0.418</td><td>0.0188</td><td>0.0842</td></tr>\n",
       "<tr><td>10430380319</td><td>0.0064</td><td>0.0</td><td>0.4125</td><td>0.0061</td><td>0.0</td></tr>\n",
       "<tr><td>10618089367</td><td>0.1325</td><td>0.0064</td><td>0.4236</td><td>0.0262</td><td>0.6354</td></tr>\n",
       "<tr><td>11215815177</td><td>0.0631</td><td>0.0027</td><td>0.4205</td><td>0.0215</td><td>0.239</td></tr>\n",
       "<tr><td>11237511112</td><td>0.5782</td><td>0.0445</td><td>0.4229</td><td>0.048</td><td>0.6983</td></tr>\n",
       "<tr><td>11355018654</td><td>0.106</td><td>0.0054</td><td>0.4246</td><td>0.0105</td><td>0.5049</td></tr>\n",
       "<tr><td>11411018019</td><td>4.0E-4</td><td>0.0</td><td>0.351</td><td>0.0421</td><td>0.0</td></tr>\n",
       "<tr><td>11470993597</td><td>0.0176</td><td>9.0E-4</td><td>0.4416</td><td>0.0073</td><td>0.0156</td></tr>\n",
       "<tr><td>11563852275</td><td>0.0809</td><td>0.0036</td><td>0.4238</td><td>0.0043</td><td>0.3546</td></tr>\n",
       "<tr><td>11566786699</td><td>0.8455</td><td>0.108</td><td>0.4237</td><td>0.0157</td><td>0.4624</td></tr>\n",
       "<tr><td>11961681734</td><td>0.027</td><td>0.0018</td><td>0.4248</td><td>0.0083</td><td>0.053</td></tr>\n",
       "<tr><td>11974270529</td><td>0.022</td><td>9.0E-4</td><td>0.4018</td><td>0.0757</td><td>0.0287</td></tr>\n",
       "<tr><td>12034469787</td><td>0.2003</td><td>0.01</td><td>0.4267</td><td>0.0048</td><td>0.8765</td></tr>\n",
       "<tr><td>12173100693</td><td>0.394</td><td>0.0236</td><td>0.4224</td><td>0.0106</td><td>0.8534</td></tr>\n",
       "<tr><td>12185659961</td><td>0.0054</td><td>0.0</td><td>0.3964</td><td>0.0058</td><td>8.0E-4</td></tr>\n",
       "<tr><td>12296390138</td><td>0.008</td><td>9.0E-4</td><td>0.4206</td><td>0.0046</td><td>0.0075</td></tr>\n",
       "<tr><td>12380299397</td><td>0.011</td><td>0.0</td><td>0.4238</td><td>0.0131</td><td>0.0053</td></tr>\n",
       "<tr><td>12395011633</td><td>0.0208</td><td>0.0027</td><td>0.4212</td><td>0.0016</td><td>0.0275</td></tr>\n",
       "<tr><td>12426913844</td><td>0.0436</td><td>0.0018</td><td>0.4273</td><td>0.0043</td><td>0.1296</td></tr>\n",
       "<tr><td>12438697459</td><td>0.2139</td><td>0.0109</td><td>0.4241</td><td>0.0078</td><td>0.93</td></tr>\n",
       "</table>\n",
       "only showing top 20 rows\n"
      ],
      "text/plain": [
       "DataFrame[merchant_abn: bigint, Unique_Customers: double, Transaction_per_User: double, customer_wealth: double, Loyal_AVG: double, Customer_Entropy: double]"
      ]
     },
     "execution_count": 58,
     "metadata": {},
     "output_type": "execute_result"
    }
   ],
   "source": [
    "customer_scaled"
   ]
  },
  {
   "cell_type": "code",
   "execution_count": 59,
   "metadata": {},
   "outputs": [
    {
     "data": {
      "text/html": [
       "<table border='1'>\n",
       "<tr><th>merchant_abn</th><th>postcode_entropy</th><th>Customer_Growth_Avg</th><th>Total_Business_Days</th></tr>\n",
       "<tr><td>34440496342</td><td>0.3315</td><td>0.3917</td><td>7.0E-4</td></tr>\n",
       "<tr><td>35344855546</td><td>0.1248</td><td>0.4575</td><td>0.0053</td></tr>\n",
       "<tr><td>37935728745</td><td>0.6698</td><td>0.7152</td><td>0.0</td></tr>\n",
       "<tr><td>38700038932</td><td>0.0295</td><td>0.4225</td><td>0.0246</td></tr>\n",
       "<tr><td>38986645707</td><td>0.5364</td><td>0.5512</td><td>1.0E-4</td></tr>\n",
       "<tr><td>41956465747</td><td>0.3028</td><td>0.4328</td><td>0.001</td></tr>\n",
       "<tr><td>35079621278</td><td>0.5876</td><td>0.4143</td><td>1.0E-4</td></tr>\n",
       "<tr><td>35769589414</td><td>0.2178</td><td>0.4632</td><td>0.002</td></tr>\n",
       "<tr><td>37470904997</td><td>0.4963</td><td>0.5343</td><td>2.0E-4</td></tr>\n",
       "<tr><td>39759375662</td><td>0.4393</td><td>0.4188</td><td>3.0E-4</td></tr>\n",
       "<tr><td>33754604709</td><td>0.6076</td><td>0.3785</td><td>1.0E-4</td></tr>\n",
       "<tr><td>37802138328</td><td>0.4507</td><td>0.4772</td><td>3.0E-4</td></tr>\n",
       "<tr><td>38049816588</td><td>0.6698</td><td>0.282</td><td>0.0</td></tr>\n",
       "<tr><td>38180882926</td><td>0.5448</td><td>0.524</td><td>1.0E-4</td></tr>\n",
       "<tr><td>41566402880</td><td>0.3292</td><td>0.4217</td><td>7.0E-4</td></tr>\n",
       "<tr><td>34262348703</td><td>0.3396</td><td>0.508</td><td>7.0E-4</td></tr>\n",
       "<tr><td>38734016504</td><td>0.1109</td><td>0.448</td><td>0.0061</td></tr>\n",
       "<tr><td>42191818419</td><td>0.1945</td><td>0.4414</td><td>0.0025</td></tr>\n",
       "<tr><td>32413511882</td><td>0.2325</td><td>0.4501</td><td>0.0018</td></tr>\n",
       "<tr><td>33026294208</td><td>0.3535</td><td>0.4357</td><td>6.0E-4</td></tr>\n",
       "</table>\n",
       "only showing top 20 rows\n"
      ],
      "text/plain": [
       "DataFrame[merchant_abn: bigint, postcode_entropy: double, Customer_Growth_Avg: double, Total_Business_Days: double]"
      ]
     },
     "execution_count": 59,
     "metadata": {},
     "output_type": "execute_result"
    }
   ],
   "source": [
    "merchant_scaled"
   ]
  },
  {
   "cell_type": "code",
   "execution_count": 60,
   "metadata": {},
   "outputs": [],
   "source": [
    "from operator import add\n",
    "from functools import reduce\n",
    "# For each table we need to perform the following steps\n",
    "def scroring_process(dataset):\n",
    "    # first subtract 1 from each cell then square\n",
    "    for col in dataset.columns[1:]:\n",
    "        dataset = dataset.withColumn(col, F.pow((F.col(col) - 1),2))\n",
    "    # sum the columns \n",
    "    new_df = dataset.withColumn('total',F.round(reduce(add, [F.col(x) for x in dataset.columns[1:]]), 8))\n",
    "    return new_df\n"
   ]
  },
  {
   "cell_type": "code",
   "execution_count": 61,
   "metadata": {},
   "outputs": [],
   "source": [
    "# Define our scaliong function\n",
    "def feature_standardisation(dataset): \n",
    "    values = dataset.select(F.max('total').alias('high'), F.min('total').alias('low'))\n",
    "    dataset = dataset.withColumn('total', F.round((F.col('total') - values.select('low').head()[0]) / (values.select('high').head()[0] - values.select('low').head()[0]), 9))\n",
    "    return dataset.select('merchant_abn', 'total')"
   ]
  },
  {
   "cell_type": "code",
   "execution_count": 62,
   "metadata": {},
   "outputs": [],
   "source": [
    "customer_scaled = scroring_process(customer_scaled)\n",
    "industry_scaled = scroring_process(industry_scaled)\n",
    "merchant_scaled = scroring_process(merchant_scaled)\n",
    "revenue_scaled = scroring_process(revenue_scaled)"
   ]
  },
  {
   "cell_type": "code",
   "execution_count": 63,
   "metadata": {},
   "outputs": [
    {
     "name": "stderr",
     "output_type": "stream",
     "text": [
      "                                                                                \r"
     ]
    }
   ],
   "source": [
    "# rescale them \n",
    "customer_scaled = customer_scaled.select('merchant_abn','total')\n",
    "customer_scaled = feature_standardisation(customer_scaled)\n",
    "customer_scaled = customer_scaled.withColumnRenamed('total','Customer_score')\n",
    "revenue_scaled = revenue_scaled.select('merchant_abn','total')\n",
    "revenue_scaled = feature_standardisation(revenue_scaled)\n",
    "revenue_scaled = revenue_scaled.withColumnRenamed('total','Revenue_score')\n",
    "industry_scaled = industry_scaled.select('merchant_abn','total')\n",
    "industry_scaled = feature_standardisation(industry_scaled)\n",
    "industry_scaled = industry_scaled.withColumnRenamed('total','Industry_score')\n",
    "merchant_scaled = merchant_scaled.select('merchant_abn','total')\n",
    "merchant_scaled = feature_standardisation(merchant_scaled)\n",
    "merchant_scaled = merchant_scaled.withColumnRenamed('total','Merchant_score')"
   ]
  },
  {
   "cell_type": "code",
   "execution_count": 64,
   "metadata": {},
   "outputs": [],
   "source": [
    "# Industry scale\n",
    "Industry_scale = 1\n",
    "industry_scaled = industry_scaled.withColumn('Industry_score', F.col('Industry_score') * Industry_scale)"
   ]
  },
  {
   "cell_type": "code",
   "execution_count": 65,
   "metadata": {},
   "outputs": [],
   "source": [
    "# Finally join \n",
    "Full_scores = customer_scaled.join(revenue_scaled, on='merchant_abn', how='inner').join(industry_scaled, on='merchant_abn', how='inner').join(merchant_scaled, on='merchant_abn', how='inner')"
   ]
  },
  {
   "cell_type": "code",
   "execution_count": 66,
   "metadata": {},
   "outputs": [],
   "source": [
    "# now scale and done \n",
    "Full_scores = scroring_process(Full_scores)"
   ]
  },
  {
   "cell_type": "code",
   "execution_count": 67,
   "metadata": {},
   "outputs": [],
   "source": [
    "Full_scores = Full_scores.join(merchant_info.join(industry_raw, on='sector').select('merchant_abn', 'sector').distinct(), on='merchant_abn', how='left')"
   ]
  },
  {
   "cell_type": "code",
   "execution_count": 68,
   "metadata": {},
   "outputs": [
    {
     "name": "stderr",
     "output_type": "stream",
     "text": [
      "                                                                                \r"
     ]
    }
   ],
   "source": [
    "Full_scores.write.parquet('../data/Normalised/Final_scores', mode='overwrite')"
   ]
  },
  {
   "cell_type": "code",
   "execution_count": 69,
   "metadata": {},
   "outputs": [
    {
     "name": "stderr",
     "output_type": "stream",
     "text": [
      "                                                                                \r"
     ]
    },
    {
     "data": {
      "text/html": [
       "<table border='1'>\n",
       "<tr><th>merchant_abn</th><th>Customer_score</th><th>Revenue_score</th><th>Industry_score</th><th>Merchant_score</th><th>total</th><th>sector</th></tr>\n",
       "<tr><td>47830349274</td><td>0.018256536400795994</td><td>0.15324929095083836</td><td>0.0</td><td>0.05802073382950437</td><td>0.22952656</td><td>Administrative_Su...</td></tr>\n",
       "<tr><td>31420388495</td><td>0.017902552659777242</td><td>0.17536009924139725</td><td>0.0</td><td>0.04891878714549456</td><td>0.24218144</td><td>Administrative_Su...</td></tr>\n",
       "<tr><td>67200153151</td><td>0.032201877922699504</td><td>0.18091778715350787</td><td>0.0</td><td>0.03834117348821454</td><td>0.25146084</td><td>Administrative_Su...</td></tr>\n",
       "<tr><td>25714080598</td><td>0.028192019848182443</td><td>0.18290868808913197</td><td>0.0</td><td>0.041414731923185594</td><td>0.25251544</td><td>Administrative_Su...</td></tr>\n",
       "<tr><td>33344911835</td><td>0.019270484044512558</td><td>0.17870176552709188</td><td>0.0</td><td>0.05618120616306252</td><td>0.25415346</td><td>Administrative_Su...</td></tr>\n",
       "<tr><td>34940973001</td><td>0.023277787374077586</td><td>0.19264954093730885</td><td>0.0</td><td>0.038925898258239715</td><td>0.25485323</td><td>Administrative_Su...</td></tr>\n",
       "<tr><td>32258116290</td><td>0.01842672212887397</td><td>0.1952062078183892</td><td>0.0</td><td>0.04294960509340823</td><td>0.25658254</td><td>Administrative_Su...</td></tr>\n",
       "<tr><td>73416415122</td><td>0.014371832747691238</td><td>0.1710646969505011</td><td>0.0</td><td>0.07136864269940639</td><td>0.25680517</td><td>Administrative_Su...</td></tr>\n",
       "<tr><td>95834237054</td><td>0.03028080572268847</td><td>0.18823864905990753</td><td>0.0</td><td>0.03952596004603142</td><td>0.25804541</td><td>Administrative_Su...</td></tr>\n",
       "<tr><td>75900778714</td><td>0.01942071069440411</td><td>0.19418670775443167</td><td>0.0</td><td>0.0454952190231429</td><td>0.25910264</td><td>Administrative_Su...</td></tr>\n",
       "<tr><td>61112604295</td><td>0.03927413046337232</td><td>0.20030036071381405</td><td>0.0</td><td>0.0226137031872321</td><td>0.26218819</td><td>Administrative_Su...</td></tr>\n",
       "<tr><td>86130660254</td><td>0.025347287883555843</td><td>0.19689548933798118</td><td>0.0</td><td>0.04123431148952754</td><td>0.26347709</td><td>Administrative_Su...</td></tr>\n",
       "<tr><td>54474048212</td><td>0.033485056466100636</td><td>0.18845866800661018</td><td>0.0</td><td>0.041551167549871204</td><td>0.26349489</td><td>Administrative_Su...</td></tr>\n",
       "<tr><td>94833823558</td><td>0.015103844419494607</td><td>0.18157738937743023</td><td>0.0</td><td>0.06961321360647195</td><td>0.26629445</td><td>Administrative_Su...</td></tr>\n",
       "<tr><td>65735508037</td><td>0.021269014504356004</td><td>0.19017018129954383</td><td>0.0</td><td>0.054922071979231414</td><td>0.26636127</td><td>Administrative_Su...</td></tr>\n",
       "<tr><td>15115332331</td><td>0.024927817216327947</td><td>0.19903587252622196</td><td>0.0</td><td>0.042433385488271726</td><td>0.26639708</td><td>Administrative_Su...</td></tr>\n",
       "<tr><td>86305947527</td><td>0.015089473970208406</td><td>0.1794571874700156</td><td>0.0</td><td>0.07225261371116236</td><td>0.26679928</td><td>Administrative_Su...</td></tr>\n",
       "<tr><td>50600353536</td><td>0.015445970533948765</td><td>0.17624766530233207</td><td>0.0</td><td>0.0761307145803666</td><td>0.26782435</td><td>Administrative_Su...</td></tr>\n",
       "<tr><td>72611840049</td><td>0.04996292180092012</td><td>0.19193795899770447</td><td>0.0</td><td>0.026375057267152054</td><td>0.26827594</td><td>Administrative_Su...</td></tr>\n",
       "<tr><td>50138044308</td><td>0.035563236350566275</td><td>0.2090398831397696</td><td>0.0</td><td>0.02382885794248418</td><td>0.26843198</td><td>Administrative_Su...</td></tr>\n",
       "</table>\n",
       "only showing top 20 rows\n"
      ],
      "text/plain": [
       "+------------+--------------------+-------------------+--------------+--------------------+----------+--------------------+\n",
       "|merchant_abn|      Customer_score|      Revenue_score|Industry_score|      Merchant_score|     total|              sector|\n",
       "+------------+--------------------+-------------------+--------------+--------------------+----------+--------------------+\n",
       "| 47830349274|0.018256536400795994|0.15324929095083836|           0.0| 0.05802073382950437|0.22952656|Administrative_Su...|\n",
       "| 31420388495|0.017902552659777242|0.17536009924139725|           0.0| 0.04891878714549456|0.24218144|Administrative_Su...|\n",
       "| 67200153151|0.032201877922699504|0.18091778715350787|           0.0| 0.03834117348821454|0.25146084|Administrative_Su...|\n",
       "| 25714080598|0.028192019848182443|0.18290868808913197|           0.0|0.041414731923185594|0.25251544|Administrative_Su...|\n",
       "| 33344911835|0.019270484044512558|0.17870176552709188|           0.0| 0.05618120616306252|0.25415346|Administrative_Su...|\n",
       "| 34940973001|0.023277787374077586|0.19264954093730885|           0.0|0.038925898258239715|0.25485323|Administrative_Su...|\n",
       "| 32258116290| 0.01842672212887397| 0.1952062078183892|           0.0| 0.04294960509340823|0.25658254|Administrative_Su...|\n",
       "| 73416415122|0.014371832747691238| 0.1710646969505011|           0.0| 0.07136864269940639|0.25680517|Administrative_Su...|\n",
       "| 95834237054| 0.03028080572268847|0.18823864905990753|           0.0| 0.03952596004603142|0.25804541|Administrative_Su...|\n",
       "| 75900778714| 0.01942071069440411|0.19418670775443167|           0.0|  0.0454952190231429|0.25910264|Administrative_Su...|\n",
       "| 61112604295| 0.03927413046337232|0.20030036071381405|           0.0|  0.0226137031872321|0.26218819|Administrative_Su...|\n",
       "| 86130660254|0.025347287883555843|0.19689548933798118|           0.0| 0.04123431148952754|0.26347709|Administrative_Su...|\n",
       "| 54474048212|0.033485056466100636|0.18845866800661018|           0.0|0.041551167549871204|0.26349489|Administrative_Su...|\n",
       "| 94833823558|0.015103844419494607|0.18157738937743023|           0.0| 0.06961321360647195|0.26629445|Administrative_Su...|\n",
       "| 65735508037|0.021269014504356004|0.19017018129954383|           0.0|0.054922071979231414|0.26636127|Administrative_Su...|\n",
       "| 15115332331|0.024927817216327947|0.19903587252622196|           0.0|0.042433385488271726|0.26639708|Administrative_Su...|\n",
       "| 86305947527|0.015089473970208406| 0.1794571874700156|           0.0| 0.07225261371116236|0.26679928|Administrative_Su...|\n",
       "| 50600353536|0.015445970533948765|0.17624766530233207|           0.0|  0.0761307145803666|0.26782435|Administrative_Su...|\n",
       "| 72611840049| 0.04996292180092012|0.19193795899770447|           0.0|0.026375057267152054|0.26827594|Administrative_Su...|\n",
       "| 50138044308|0.035563236350566275| 0.2090398831397696|           0.0| 0.02382885794248418|0.26843198|Administrative_Su...|\n",
       "+------------+--------------------+-------------------+--------------+--------------------+----------+--------------------+\n",
       "only showing top 20 rows"
      ]
     },
     "execution_count": 69,
     "metadata": {},
     "output_type": "execute_result"
    }
   ],
   "source": [
    "Full_scores.orderBy('total')"
   ]
  }
 ],
 "metadata": {
  "kernelspec": {
   "display_name": "Python 3.8.10 64-bit",
   "language": "python",
   "name": "python3"
  },
  "language_info": {
   "codemirror_mode": {
    "name": "ipython",
    "version": 3
   },
   "file_extension": ".py",
   "mimetype": "text/x-python",
   "name": "python",
   "nbconvert_exporter": "python",
   "pygments_lexer": "ipython3",
   "version": "3.8.10"
  },
  "orig_nbformat": 4,
  "vscode": {
   "interpreter": {
    "hash": "31f2aee4e71d21fbe5cf8b01ff0e069b9275f58929596ceb00d14d90e3e16cd6"
   }
  }
 },
 "nbformat": 4,
 "nbformat_minor": 2
}
