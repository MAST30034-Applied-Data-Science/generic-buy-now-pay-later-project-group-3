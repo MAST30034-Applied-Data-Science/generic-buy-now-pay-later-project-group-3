{
 "cells": [
  {
   "cell_type": "code",
   "execution_count": 144,
   "metadata": {},
   "outputs": [],
   "source": [
    "from pyspark.sql import SparkSession, functions as F\n",
    "from pyspark.ml import feature as H\n",
    "# First lets reed the datasets\n",
    "spark = (\n",
    "    SparkSession.builder.appName(\"Data_Explorer\")\n",
    "    .config(\"spark.sql.repl.eagerEval.enabled\", True) \n",
    "    .config(\"spark.sql.parquet.cacheMetadata\", \"true\")\n",
    "    .config(\"spark.sql.session.timeZone\", \"Etc/UTC\")\n",
    "    .config(\"spark.driver.memory\", \"4g\")\n",
    "    .getOrCreate()\n",
    ")"
   ]
  },
  {
   "cell_type": "code",
   "execution_count": 145,
   "metadata": {},
   "outputs": [],
   "source": [
    "merchant_info = spark.read.parquet('../data/curated/full_dataset_Variation/')"
   ]
  },
  {
   "cell_type": "code",
   "execution_count": 146,
   "metadata": {},
   "outputs": [],
   "source": [
    "linkage = spark.read.csv('../data/curated/sector_lookup_table.csv', header=True)"
   ]
  },
  {
   "cell_type": "code",
   "execution_count": 147,
   "metadata": {},
   "outputs": [],
   "source": [
    "# pre process industry\n",
    "merchant_info = merchant_info.select('merchant_abn', 'Description').distinct()"
   ]
  },
  {
   "cell_type": "code",
   "execution_count": 148,
   "metadata": {},
   "outputs": [],
   "source": [
    "merchant_info = merchant_info.join(linkage, on= merchant_info.Description == linkage.Description, how='inner')"
   ]
  },
  {
   "cell_type": "code",
   "execution_count": 149,
   "metadata": {},
   "outputs": [],
   "source": [
    "merchant_info = merchant_info.select('merchant_abn', 'sector').distinct()"
   ]
  },
  {
   "cell_type": "code",
   "execution_count": 150,
   "metadata": {},
   "outputs": [],
   "source": [
    "# Read all our tables \n",
    "customer_scaled = spark.read.parquet('../data/Normalised/customer_scailed/')\n",
    "industry_raw = spark.read.parquet('../data/Normalised/industry_scailed/')\n",
    "merchant_scaled = spark.read.parquet('../data/Normalised/merchant_scailed/')\n",
    "revenue_scaled = spark.read.parquet('../data/Normalised/revenue_scailed/')"
   ]
  },
  {
   "cell_type": "code",
   "execution_count": 151,
   "metadata": {},
   "outputs": [],
   "source": [
    "# slip ups \n",
    "industry_scaled = merchant_info.join(industry_raw, on='sector').drop('sector')\n",
    "revenue_scaled = revenue_scaled.select('merchant_abn', 'Revenue_Growth_Avg', 'Total_Revenue')"
   ]
  },
  {
   "cell_type": "code",
   "execution_count": 152,
   "metadata": {},
   "outputs": [],
   "source": [
    "from operator import add\n",
    "from functools import reduce\n",
    "# For each table we need to perform the following steps\n",
    "def scroring_process(dataset):\n",
    "    # first subtract 1 from each cell then square\n",
    "    for col in dataset.columns[1:]:\n",
    "        dataset = dataset.withColumn(col, F.pow((F.col(col) - 1),2))\n",
    "    # sum the columns \n",
    "    new_df = dataset.withColumn('total',F.round(reduce(add, [F.col(x) for x in dataset.columns[1:]]), 4))\n",
    "    return new_df\n"
   ]
  },
  {
   "cell_type": "code",
   "execution_count": 153,
   "metadata": {},
   "outputs": [],
   "source": [
    "# Define our scaliong function\n",
    "def feature_standardisation(dataset): \n",
    "    values = dataset.select(F.max('total').alias('high'), F.min('total').alias('low'))\n",
    "    dataset = dataset.withColumn('total', F.round((F.col('total') - values.select('low').head()[0]) / (values.select('high').head()[0] - values.select('low').head()[0]), 4))\n",
    "    return dataset.select('merchant_abn', 'total')"
   ]
  },
  {
   "cell_type": "code",
   "execution_count": 154,
   "metadata": {},
   "outputs": [],
   "source": [
    "customer_scaled = scroring_process(customer_scaled)\n",
    "industry_scaled = scroring_process(industry_scaled)\n",
    "merchant_scaled = scroring_process(merchant_scaled)\n",
    "revenue_scaled = scroring_process(revenue_scaled)"
   ]
  },
  {
   "cell_type": "code",
   "execution_count": 155,
   "metadata": {},
   "outputs": [
    {
     "data": {
      "text/html": [
       "<table border='1'>\n",
       "<tr><th>merchant_abn</th><th>Revenue_Growth_Avg</th><th>Total_Revenue</th><th>total</th></tr>\n",
       "<tr><td>12516851436</td><td>0.19509889</td><td>0.9928129599999999</td><td>1.1879</td></tr>\n",
       "<tr><td>15613631617</td><td>0.26956863999999997</td><td>0.9946072899999999</td><td>1.2642</td></tr>\n",
       "<tr><td>19839532017</td><td>0.27520515999999995</td><td>0.9840639999999999</td><td>1.2593</td></tr>\n",
       "<tr><td>34440496342</td><td>0.2849424400000001</td><td>0.99840064</td><td>1.2833</td></tr>\n",
       "<tr><td>35344855546</td><td>0.25080064</td><td>0.98783721</td><td>1.2386</td></tr>\n",
       "<tr><td>37935728745</td><td>0.07436529000000003</td><td>0.97792321</td><td>1.0523</td></tr>\n",
       "<tr><td>38700038932</td><td>0.24970009000000004</td><td>0.008760960000000003</td><td>0.2585</td></tr>\n",
       "<tr><td>41956465747</td><td>0.23020804</td><td>0.9926136899999999</td><td>1.2228</td></tr>\n",
       "<tr><td>48214071373</td><td>0.2677027600000001</td><td>0.9791102500000001</td><td>1.2468</td></tr>\n",
       "<tr><td>52763133264</td><td>0.23882769</td><td>0.9974016900000001</td><td>1.2362</td></tr>\n",
       "<tr><td>60654402457</td><td>0.23512801</td><td>0.998001</td><td>1.2331</td></tr>\n",
       "<tr><td>73256306726</td><td>0.26811684</td><td>0.79584241</td><td>1.064</td></tr>\n",
       "<tr><td>73841664453</td><td>0.21353640999999995</td><td>0.9872409600000001</td><td>1.2008</td></tr>\n",
       "<tr><td>78916025936</td><td>0.20115225</td><td>0.9998000100000001</td><td>1.201</td></tr>\n",
       "<tr><td>83412691377</td><td>0.2506003599999999</td><td>0.95589729</td><td>1.2065</td></tr>\n",
       "<tr><td>92202115241</td><td>0.18861649000000003</td><td>0.9930122500000002</td><td>1.1816</td></tr>\n",
       "<tr><td>96946925998</td><td>0.30536675999999996</td><td>0.97377424</td><td>1.2791</td></tr>\n",
       "<tr><td>15700338102</td><td>0.21372129000000004</td><td>0.9932115600000001</td><td>1.2069</td></tr>\n",
       "<tr><td>20497101151</td><td>0.29953729</td><td>0.93392896</td><td>1.2335</td></tr>\n",
       "<tr><td>29216160692</td><td>0.22934521</td><td>0.9200646400000001</td><td>1.1494</td></tr>\n",
       "</table>\n",
       "only showing top 20 rows\n"
      ],
      "text/plain": [
       "+------------+-------------------+--------------------+------+\n",
       "|merchant_abn| Revenue_Growth_Avg|       Total_Revenue| total|\n",
       "+------------+-------------------+--------------------+------+\n",
       "| 12516851436|         0.19509889|  0.9928129599999999|1.1879|\n",
       "| 15613631617|0.26956863999999997|  0.9946072899999999|1.2642|\n",
       "| 19839532017|0.27520515999999995|  0.9840639999999999|1.2593|\n",
       "| 34440496342| 0.2849424400000001|          0.99840064|1.2833|\n",
       "| 35344855546|         0.25080064|          0.98783721|1.2386|\n",
       "| 37935728745|0.07436529000000003|          0.97792321|1.0523|\n",
       "| 38700038932|0.24970009000000004|0.008760960000000003|0.2585|\n",
       "| 41956465747|         0.23020804|  0.9926136899999999|1.2228|\n",
       "| 48214071373| 0.2677027600000001|  0.9791102500000001|1.2468|\n",
       "| 52763133264|         0.23882769|  0.9974016900000001|1.2362|\n",
       "| 60654402457|         0.23512801|            0.998001|1.2331|\n",
       "| 73256306726|         0.26811684|          0.79584241| 1.064|\n",
       "| 73841664453|0.21353640999999995|  0.9872409600000001|1.2008|\n",
       "| 78916025936|         0.20115225|  0.9998000100000001| 1.201|\n",
       "| 83412691377| 0.2506003599999999|          0.95589729|1.2065|\n",
       "| 92202115241|0.18861649000000003|  0.9930122500000002|1.1816|\n",
       "| 96946925998|0.30536675999999996|          0.97377424|1.2791|\n",
       "| 15700338102|0.21372129000000004|  0.9932115600000001|1.2069|\n",
       "| 20497101151|         0.29953729|          0.93392896|1.2335|\n",
       "| 29216160692|         0.22934521|  0.9200646400000001|1.1494|\n",
       "+------------+-------------------+--------------------+------+\n",
       "only showing top 20 rows"
      ]
     },
     "execution_count": 155,
     "metadata": {},
     "output_type": "execute_result"
    }
   ],
   "source": [
    "revenue_scaled"
   ]
  },
  {
   "cell_type": "code",
   "execution_count": 156,
   "metadata": {},
   "outputs": [],
   "source": [
    "# rescale them \n",
    "customer_scaled = customer_scaled.select('merchant_abn','total')\n",
    "customer_scaled = feature_standardisation(customer_scaled)\n",
    "customer_scaled = customer_scaled.withColumnRenamed('total','Customer_score')\n",
    "revenue_scaled = revenue_scaled.select('merchant_abn','total')\n",
    "revenue_scaled = scroring_process(revenue_scaled)\n",
    "revenue_scaled = revenue_scaled.withColumnRenamed('total','Revenue_score')\n",
    "industry_scaled = industry_scaled.select('merchant_abn','total')\n",
    "industry_scaled = scroring_process(industry_scaled)\n",
    "industry_scaled = industry_scaled.withColumnRenamed('total','Industry_score')\n",
    "merchant_scaled = merchant_scaled.select('merchant_abn','total')\n",
    "merchant_scaled = scroring_process(merchant_scaled)\n",
    "merchant_scaled = merchant_scaled.withColumnRenamed('total','Merchant_score')"
   ]
  },
  {
   "cell_type": "code",
   "execution_count": 157,
   "metadata": {},
   "outputs": [],
   "source": [
    "# Finally join \n",
    "Full_scores = customer_scaled.join(revenue_scaled, on='merchant_abn', how='inner').join(industry_scaled, on='merchant_abn', how='inner').join(merchant_scaled, on='merchant_abn', how='inner')"
   ]
  },
  {
   "cell_type": "code",
   "execution_count": 158,
   "metadata": {},
   "outputs": [],
   "source": [
    "# now scale and done \n",
    "Full_scores = scroring_process(Full_scores)"
   ]
  },
  {
   "cell_type": "code",
   "execution_count": 160,
   "metadata": {},
   "outputs": [],
   "source": [
    "Full_scores = Full_scores.join(merchant_info.join(industry_raw, on='sector').select('merchant_abn', 'sector').distinct(), on='merchant_abn', how='left')"
   ]
  },
  {
   "cell_type": "code",
   "execution_count": 161,
   "metadata": {},
   "outputs": [
    {
     "name": "stderr",
     "output_type": "stream",
     "text": [
      "                                                                                \r"
     ]
    }
   ],
   "source": [
    "Full_scores.write.parquet('../data/Normalised/Final_scores', mode='overwrite')"
   ]
  }
 ],
 "metadata": {
  "kernelspec": {
   "display_name": "Python 3.8.10 64-bit",
   "language": "python",
   "name": "python3"
  },
  "language_info": {
   "codemirror_mode": {
    "name": "ipython",
    "version": 3
   },
   "file_extension": ".py",
   "mimetype": "text/x-python",
   "name": "python",
   "nbconvert_exporter": "python",
   "pygments_lexer": "ipython3",
   "version": "3.8.10"
  },
  "orig_nbformat": 4,
  "vscode": {
   "interpreter": {
    "hash": "31f2aee4e71d21fbe5cf8b01ff0e069b9275f58929596ceb00d14d90e3e16cd6"
   }
  }
 },
 "nbformat": 4,
 "nbformat_minor": 2
}
