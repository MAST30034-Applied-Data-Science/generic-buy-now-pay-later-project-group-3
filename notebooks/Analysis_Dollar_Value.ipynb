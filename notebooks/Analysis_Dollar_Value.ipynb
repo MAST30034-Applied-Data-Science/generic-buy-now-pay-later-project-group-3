{
 "cells": [
  {
   "cell_type": "markdown",
   "metadata": {},
   "source": [
    "# Run \"ETL\" script"
   ]
  },
  {
   "cell_type": "code",
   "execution_count": 1,
   "metadata": {},
   "outputs": [
    {
     "name": "stdout",
     "output_type": "stream",
     "text": [
      "22/09/22 11:20:56 WARN Utils: Your hostname, James-N580VD-DM229T resolves to a loopback address: 127.0.1.1; using 172.25.232.62 instead (on interface eth0)\n",
      "22/09/22 11:20:56 WARN Utils: Set SPARK_LOCAL_IP if you need to bind to another address\n"
     ]
    },
    {
     "name": "stderr",
     "output_type": "stream",
     "text": [
      "Setting default log level to \"WARN\".\n",
      "To adjust logging level use sc.setLogLevel(newLevel). For SparkR, use setLogLevel(newLevel).\n"
     ]
    },
    {
     "name": "stdout",
     "output_type": "stream",
     "text": [
      "22/09/22 11:20:58 WARN NativeCodeLoader: Unable to load native-hadoop library for your platform... using builtin-java classes where applicable\n",
      "22/09/22 11:21:00 WARN Utils: Service 'SparkUI' could not bind on port 4040. Attempting port 4041.\n"
     ]
    }
   ],
   "source": [
    "# Open Spark session \n",
    "from pyspark.sql import SparkSession, functions as F\n",
    "\n",
    "\n",
    "# Create a spark session (which will run spark jobs)\n",
    "spark = (\n",
    "    SparkSession.builder.appName(\"Data_Explorer\")\n",
    "    .config(\"spark.sql.repl.eagerEval.enabled\", True) \n",
    "    .config(\"spark.sql.parquet.cacheMetadata\", \"true\")\n",
    "    .config(\"spark.driver.memory\", \"4g\")\n",
    "    .getOrCreate()\n",
    ")"
   ]
  },
  {
   "cell_type": "code",
   "execution_count": 2,
   "metadata": {},
   "outputs": [
    {
     "name": "stderr",
     "output_type": "stream",
     "text": [
      "                                                                                \r"
     ]
    }
   ],
   "source": [
    "# Read the files \n",
    "transactions_sample = spark.read.parquet('../data/tables/transactions_20210828_20220227_snapshot')\n",
    "transactions_sample2 = spark.read.parquet('../data/tables/transactions_20210228_20210827_snapshot')\n",
    "transactions_sample3 = spark.read.parquet('../data/tables/transactions_20220228_20220828_snapshot')\n",
    "transactions_sample.unionByName(transactions_sample2, True)\n",
    "transactions_sample.unionByName(transactions_sample3, True)\n",
    "consumer_details = spark.read.parquet('../data/tables/consumer_user_details.parquet')\n",
    "merchants_tbl = spark.read.parquet('../data/tables/tbl_merchants.parquet')\n",
    "customer_tbl = spark.read.option(\"delimiter\", \"|\").option(\"header\",True).csv('../data/tables/tbl_consumer.csv')"
   ]
  },
  {
   "cell_type": "code",
   "execution_count": 3,
   "metadata": {},
   "outputs": [],
   "source": [
    "merchants = merchants_tbl.toPandas()"
   ]
  },
  {
   "cell_type": "code",
   "execution_count": 4,
   "metadata": {},
   "outputs": [],
   "source": [
    "import re\n",
    "# this function standardises the tags attribute, creating a list with the 'description', 'revenue band' and 'BNPL service charge'\n",
    "def tag_extract(tag_string): \n",
    "    # first need to preprocess\n",
    "    string =  re.sub('\\[','(', tag_string.lower())\n",
    "    string = re.sub('\\]',')', string)\n",
    "    # break the string into sections\n",
    "    string_cut = string.split('),')\n",
    "    new_string = []\n",
    "    # first extract the description \n",
    "    new_string.append(str(string_cut[0].strip('((')))\n",
    "    # second extract the band\n",
    "    new_string.append(str(re.search(r'[a-z]',string_cut[1]).group()))\n",
    "    # finally the take rate\n",
    "    new_string.append(float(re.search(r'[0-9]+\\.[0-9]+',string_cut[2]).group()))\n",
    "    return(new_string)\n",
    "################\n",
    "# now we can run the algorithm\n",
    "tags = merchants['tags']\n",
    "processed_tags = []\n",
    "for i in tags:\n",
    "    processed_tags.append(tag_extract(i))"
   ]
  },
  {
   "cell_type": "code",
   "execution_count": 5,
   "metadata": {},
   "outputs": [],
   "source": [
    "import pandas as pd\n",
    "merchant_tbl = pd.DataFrame(processed_tags, columns=('Description', 'Earnings_Class', 'BNPL_Fee'))\n",
    "merchant_tbl = pd.concat([merchants, merchant_tbl], axis=1)\n",
    "# drop the tags column \n",
    "merchant_tbl.drop(columns='tags', inplace=True)"
   ]
  },
  {
   "cell_type": "code",
   "execution_count": 6,
   "metadata": {},
   "outputs": [],
   "source": [
    "# and convert back to spark dataframe \n",
    "merchants_tbl = spark.createDataFrame(merchant_tbl)"
   ]
  },
  {
   "cell_type": "code",
   "execution_count": 7,
   "metadata": {},
   "outputs": [],
   "source": [
    "# This could be further expanded in breaking the discription up further"
   ]
  },
  {
   "cell_type": "code",
   "execution_count": 8,
   "metadata": {},
   "outputs": [],
   "source": [
    "customer_tbl = customer_tbl.join(consumer_details, ['consumer_id'])"
   ]
  },
  {
   "cell_type": "code",
   "execution_count": 9,
   "metadata": {},
   "outputs": [],
   "source": [
    "full_dataset = transactions_sample.join(customer_tbl, ['user_id'])\n",
    "merchants_tbl = merchants_tbl.withColumnRenamed('name','company_name')\n",
    "full_dataset = full_dataset.join(merchants_tbl, ['merchant_abn'])"
   ]
  },
  {
   "cell_type": "code",
   "execution_count": 10,
   "metadata": {},
   "outputs": [],
   "source": [
    "# lets add a day (mon,...), weekly & monthly attribute\n",
    "import pyspark.sql.functions as F\n",
    "full_dataset = full_dataset.withColumn('Day', F.dayofweek('order_datetime'))\n",
    "full_dataset = full_dataset.withColumn('Month', F.month('order_datetime'))\n",
    "# now we can also add the bnpl revenue from a transaction \n",
    "full_dataset = full_dataset.withColumn('BNPL_Revenue', F.col('dollar_value') * 0.01 * F.col('BNPL_Fee'))\n",
    "full_dataset.createOrReplaceTempView('data')\n",
    "# we can remove name, location and customerID for now, due to being unnnesesary attributes (although company_name could also be removed)\n",
    "full_dataset = spark.sql(\"\"\"\n",
    "select merchant_abn, user_id, dollar_value, order_id, order_datetime, state, postcode, gender, company_name, \n",
    "        Description, Earnings_Class, BNPL_Fee, BNPL_Revenue, Day, Month, weekofyear(order_datetime) as weekofyear from data\n",
    "\"\"\")"
   ]
  },
  {
   "cell_type": "markdown",
   "metadata": {},
   "source": [
    "# Examine 5% drop of dataset"
   ]
  },
  {
   "cell_type": "code",
   "execution_count": 11,
   "metadata": {},
   "outputs": [],
   "source": [
    "# First lets look at the number of registered customers and merchants without any data in the dataset\n",
    "full_dataset.createOrReplaceTempView('full')\n",
    "merchants_tbl.createOrReplaceTempView('merchants')\n",
    "customer_tbl.createOrReplaceTempView('consumer')\n",
    "transactions_sample.createOrReplaceTempView('trans')\n",
    "missing = spark.sql(\"\"\"\n",
    "select count(*) from trans\n",
    "where trans.merchant_abn not in (select merchant_abn from merchants)\n",
    "\"\"\")\n",
    "#full_dataset.count()"
   ]
  },
  {
   "cell_type": "markdown",
   "metadata": {},
   "source": [
    "From above, we can see that 100% of the dropped transactions are due to a mis-match of the merchant abn numbers. In this case, there is no use for these transactions. However, in the future, these rows could be still used in relation to the customers history, escpecailly in the essence of labeling 'consistent spender',..."
   ]
  },
  {
   "cell_type": "markdown",
   "metadata": {},
   "source": [
    "# In-Depth Analysis of Dollar_Value and BNPL_Revenue attributes"
   ]
  },
  {
   "cell_type": "code",
   "execution_count": 12,
   "metadata": {},
   "outputs": [],
   "source": [
    "full_dataset.createOrReplaceTempView('full_dat')\n",
    "user_data = spark.sql(\"\"\"\n",
    "select user_id, min(dollar_value) as min, max(dollar_value) as max, mean(dollar_value) as mean, \n",
    "percentile_approx(dollar_value, 0.5) as median, std(dollar_value) as std, count(*) as count from full_dat\n",
    "where dollar_value > 1\n",
    "group by user_id\n",
    "\"\"\")\n",
    "merchant_agg = spark.sql(\"\"\"\n",
    "select merchant_abn,Earnings_Class, min(dollar_value) as min, max(dollar_value) as max, mean(dollar_value) as mean, \n",
    "percentile_approx(dollar_value, 0.5) as median, std(dollar_value) as std, count(*) as count from full_dat\n",
    "where dollar_value > 1\n",
    "group by merchant_abn, Earnings_Class\n",
    "\"\"\")"
   ]
  },
  {
   "cell_type": "code",
   "execution_count": 13,
   "metadata": {},
   "outputs": [
    {
     "name": "stderr",
     "output_type": "stream",
     "text": [
      "                                                                                \r"
     ]
    }
   ],
   "source": [
    "user_data = user_data.toPandas()\n",
    "merchant_agg = merchant_agg.toPandas()"
   ]
  },
  {
   "cell_type": "code",
   "execution_count": 14,
   "metadata": {},
   "outputs": [
    {
     "data": {
      "text/html": [
       "<div>\n",
       "<style scoped>\n",
       "    .dataframe tbody tr th:only-of-type {\n",
       "        vertical-align: middle;\n",
       "    }\n",
       "\n",
       "    .dataframe tbody tr th {\n",
       "        vertical-align: top;\n",
       "    }\n",
       "\n",
       "    .dataframe thead th {\n",
       "        text-align: right;\n",
       "    }\n",
       "</style>\n",
       "<table border=\"1\" class=\"dataframe\">\n",
       "  <thead>\n",
       "    <tr style=\"text-align: right;\">\n",
       "      <th></th>\n",
       "      <th>user_id</th>\n",
       "      <th>min</th>\n",
       "      <th>max</th>\n",
       "      <th>mean</th>\n",
       "      <th>median</th>\n",
       "      <th>std</th>\n",
       "      <th>count</th>\n",
       "    </tr>\n",
       "  </thead>\n",
       "  <tbody>\n",
       "    <tr>\n",
       "      <th>0</th>\n",
       "      <td>7</td>\n",
       "      <td>3.679791</td>\n",
       "      <td>2164.264106</td>\n",
       "      <td>178.418259</td>\n",
       "      <td>69.874567</td>\n",
       "      <td>311.574164</td>\n",
       "      <td>188</td>\n",
       "    </tr>\n",
       "    <tr>\n",
       "      <th>1</th>\n",
       "      <td>19</td>\n",
       "      <td>1.700273</td>\n",
       "      <td>2809.102513</td>\n",
       "      <td>147.768017</td>\n",
       "      <td>59.454107</td>\n",
       "      <td>280.122487</td>\n",
       "      <td>194</td>\n",
       "    </tr>\n",
       "    <tr>\n",
       "      <th>2</th>\n",
       "      <td>22</td>\n",
       "      <td>1.187602</td>\n",
       "      <td>2272.177699</td>\n",
       "      <td>138.779028</td>\n",
       "      <td>68.397592</td>\n",
       "      <td>251.832376</td>\n",
       "      <td>189</td>\n",
       "    </tr>\n",
       "    <tr>\n",
       "      <th>3</th>\n",
       "      <td>26</td>\n",
       "      <td>2.243676</td>\n",
       "      <td>1975.690954</td>\n",
       "      <td>157.680642</td>\n",
       "      <td>63.767430</td>\n",
       "      <td>258.912357</td>\n",
       "      <td>165</td>\n",
       "    </tr>\n",
       "    <tr>\n",
       "      <th>4</th>\n",
       "      <td>29</td>\n",
       "      <td>2.869569</td>\n",
       "      <td>4659.105369</td>\n",
       "      <td>181.617546</td>\n",
       "      <td>61.767543</td>\n",
       "      <td>443.021771</td>\n",
       "      <td>173</td>\n",
       "    </tr>\n",
       "    <tr>\n",
       "      <th>...</th>\n",
       "      <td>...</td>\n",
       "      <td>...</td>\n",
       "      <td>...</td>\n",
       "      <td>...</td>\n",
       "      <td>...</td>\n",
       "      <td>...</td>\n",
       "      <td>...</td>\n",
       "    </tr>\n",
       "    <tr>\n",
       "      <th>24076</th>\n",
       "      <td>23767</td>\n",
       "      <td>1.532057</td>\n",
       "      <td>1897.591966</td>\n",
       "      <td>135.775372</td>\n",
       "      <td>61.239438</td>\n",
       "      <td>214.888246</td>\n",
       "      <td>195</td>\n",
       "    </tr>\n",
       "    <tr>\n",
       "      <th>24077</th>\n",
       "      <td>23776</td>\n",
       "      <td>2.833877</td>\n",
       "      <td>2016.837980</td>\n",
       "      <td>139.726709</td>\n",
       "      <td>72.711457</td>\n",
       "      <td>239.017544</td>\n",
       "      <td>170</td>\n",
       "    </tr>\n",
       "    <tr>\n",
       "      <th>24078</th>\n",
       "      <td>23844</td>\n",
       "      <td>1.675655</td>\n",
       "      <td>5570.186332</td>\n",
       "      <td>162.907211</td>\n",
       "      <td>55.937752</td>\n",
       "      <td>470.293536</td>\n",
       "      <td>167</td>\n",
       "    </tr>\n",
       "    <tr>\n",
       "      <th>24079</th>\n",
       "      <td>23931</td>\n",
       "      <td>1.033464</td>\n",
       "      <td>1315.469573</td>\n",
       "      <td>138.404347</td>\n",
       "      <td>77.957924</td>\n",
       "      <td>176.755682</td>\n",
       "      <td>171</td>\n",
       "    </tr>\n",
       "    <tr>\n",
       "      <th>24080</th>\n",
       "      <td>24024</td>\n",
       "      <td>3.479379</td>\n",
       "      <td>4122.763519</td>\n",
       "      <td>152.987498</td>\n",
       "      <td>50.668184</td>\n",
       "      <td>432.683038</td>\n",
       "      <td>157</td>\n",
       "    </tr>\n",
       "  </tbody>\n",
       "</table>\n",
       "<p>24081 rows × 7 columns</p>\n",
       "</div>"
      ],
      "text/plain": [
       "       user_id       min          max        mean     median         std  \\\n",
       "0            7  3.679791  2164.264106  178.418259  69.874567  311.574164   \n",
       "1           19  1.700273  2809.102513  147.768017  59.454107  280.122487   \n",
       "2           22  1.187602  2272.177699  138.779028  68.397592  251.832376   \n",
       "3           26  2.243676  1975.690954  157.680642  63.767430  258.912357   \n",
       "4           29  2.869569  4659.105369  181.617546  61.767543  443.021771   \n",
       "...        ...       ...          ...         ...        ...         ...   \n",
       "24076    23767  1.532057  1897.591966  135.775372  61.239438  214.888246   \n",
       "24077    23776  2.833877  2016.837980  139.726709  72.711457  239.017544   \n",
       "24078    23844  1.675655  5570.186332  162.907211  55.937752  470.293536   \n",
       "24079    23931  1.033464  1315.469573  138.404347  77.957924  176.755682   \n",
       "24080    24024  3.479379  4122.763519  152.987498  50.668184  432.683038   \n",
       "\n",
       "       count  \n",
       "0        188  \n",
       "1        194  \n",
       "2        189  \n",
       "3        165  \n",
       "4        173  \n",
       "...      ...  \n",
       "24076    195  \n",
       "24077    170  \n",
       "24078    167  \n",
       "24079    171  \n",
       "24080    157  \n",
       "\n",
       "[24081 rows x 7 columns]"
      ]
     },
     "execution_count": 14,
     "metadata": {},
     "output_type": "execute_result"
    }
   ],
   "source": [
    "user_data"
   ]
  },
  {
   "cell_type": "code",
   "execution_count": 15,
   "metadata": {},
   "outputs": [
    {
     "data": {
      "text/plain": [
       "<AxesSubplot:xlabel='count', ylabel='Count'>"
      ]
     },
     "execution_count": 15,
     "metadata": {},
     "output_type": "execute_result"
    },
    {
     "data": {
      "image/png": "[encoded data removed]",
      "text/plain": [
       "<Figure size 432x288 with 1 Axes>"
      ]
     },
     "metadata": {
      "needs_background": "light"
     },
     "output_type": "display_data"
    }
   ],
   "source": [
    "import seaborn as sns\n",
    "sns.histplot(x='count', data = user_data, binwidth=1)\n",
    "# The individual_count is rather interesting (especially with the > 5 < 2000 cap)"
   ]
  },
  {
   "cell_type": "code",
   "execution_count": 16,
   "metadata": {},
   "outputs": [
    {
     "data": {
      "text/html": [
       "<div>\n",
       "<style scoped>\n",
       "    .dataframe tbody tr th:only-of-type {\n",
       "        vertical-align: middle;\n",
       "    }\n",
       "\n",
       "    .dataframe tbody tr th {\n",
       "        vertical-align: top;\n",
       "    }\n",
       "\n",
       "    .dataframe thead th {\n",
       "        text-align: right;\n",
       "    }\n",
       "</style>\n",
       "<table border=\"1\" class=\"dataframe\">\n",
       "  <thead>\n",
       "    <tr style=\"text-align: right;\">\n",
       "      <th></th>\n",
       "      <th>user_id</th>\n",
       "      <th>min</th>\n",
       "      <th>max</th>\n",
       "      <th>mean</th>\n",
       "      <th>median</th>\n",
       "      <th>std</th>\n",
       "      <th>count</th>\n",
       "    </tr>\n",
       "  </thead>\n",
       "  <tbody>\n",
       "    <tr>\n",
       "      <th>9637</th>\n",
       "      <td>5299</td>\n",
       "      <td>1.376058</td>\n",
       "      <td>5079.128902</td>\n",
       "      <td>140.417785</td>\n",
       "      <td>53.452808</td>\n",
       "      <td>391.533076</td>\n",
       "      <td>193</td>\n",
       "    </tr>\n",
       "    <tr>\n",
       "      <th>6027</th>\n",
       "      <td>253</td>\n",
       "      <td>2.903626</td>\n",
       "      <td>5053.316415</td>\n",
       "      <td>149.067428</td>\n",
       "      <td>63.386164</td>\n",
       "      <td>393.532855</td>\n",
       "      <td>197</td>\n",
       "    </tr>\n",
       "    <tr>\n",
       "      <th>7958</th>\n",
       "      <td>16031</td>\n",
       "      <td>1.565361</td>\n",
       "      <td>5078.294780</td>\n",
       "      <td>156.805071</td>\n",
       "      <td>60.902284</td>\n",
       "      <td>395.665577</td>\n",
       "      <td>199</td>\n",
       "    </tr>\n",
       "    <tr>\n",
       "      <th>10902</th>\n",
       "      <td>15542</td>\n",
       "      <td>2.432008</td>\n",
       "      <td>5000.793776</td>\n",
       "      <td>141.821777</td>\n",
       "      <td>58.061866</td>\n",
       "      <td>397.901317</td>\n",
       "      <td>178</td>\n",
       "    </tr>\n",
       "    <tr>\n",
       "      <th>10234</th>\n",
       "      <td>9992</td>\n",
       "      <td>1.203192</td>\n",
       "      <td>5019.995669</td>\n",
       "      <td>142.310330</td>\n",
       "      <td>69.676279</td>\n",
       "      <td>400.146438</td>\n",
       "      <td>180</td>\n",
       "    </tr>\n",
       "    <tr>\n",
       "      <th>...</th>\n",
       "      <td>...</td>\n",
       "      <td>...</td>\n",
       "      <td>...</td>\n",
       "      <td>...</td>\n",
       "      <td>...</td>\n",
       "      <td>...</td>\n",
       "      <td>...</td>\n",
       "    </tr>\n",
       "    <tr>\n",
       "      <th>19736</th>\n",
       "      <td>15790</td>\n",
       "      <td>1.166995</td>\n",
       "      <td>47538.554826</td>\n",
       "      <td>486.753377</td>\n",
       "      <td>59.945041</td>\n",
       "      <td>3583.705897</td>\n",
       "      <td>193</td>\n",
       "    </tr>\n",
       "    <tr>\n",
       "      <th>9716</th>\n",
       "      <td>5965</td>\n",
       "      <td>1.783943</td>\n",
       "      <td>43965.463557</td>\n",
       "      <td>508.297763</td>\n",
       "      <td>64.678195</td>\n",
       "      <td>3625.738646</td>\n",
       "      <td>173</td>\n",
       "    </tr>\n",
       "    <tr>\n",
       "      <th>3750</th>\n",
       "      <td>6383</td>\n",
       "      <td>1.049040</td>\n",
       "      <td>46001.139019</td>\n",
       "      <td>542.433417</td>\n",
       "      <td>61.588424</td>\n",
       "      <td>3760.727332</td>\n",
       "      <td>177</td>\n",
       "    </tr>\n",
       "    <tr>\n",
       "      <th>3976</th>\n",
       "      <td>8117</td>\n",
       "      <td>1.919587</td>\n",
       "      <td>39316.688056</td>\n",
       "      <td>561.400052</td>\n",
       "      <td>67.151432</td>\n",
       "      <td>3884.045697</td>\n",
       "      <td>183</td>\n",
       "    </tr>\n",
       "    <tr>\n",
       "      <th>8760</th>\n",
       "      <td>22239</td>\n",
       "      <td>1.787388</td>\n",
       "      <td>51876.637564</td>\n",
       "      <td>437.090101</td>\n",
       "      <td>61.982991</td>\n",
       "      <td>3888.817810</td>\n",
       "      <td>178</td>\n",
       "    </tr>\n",
       "  </tbody>\n",
       "</table>\n",
       "<p>3833 rows × 7 columns</p>\n",
       "</div>"
      ],
      "text/plain": [
       "       user_id       min           max        mean     median          std  \\\n",
       "9637      5299  1.376058   5079.128902  140.417785  53.452808   391.533076   \n",
       "6027       253  2.903626   5053.316415  149.067428  63.386164   393.532855   \n",
       "7958     16031  1.565361   5078.294780  156.805071  60.902284   395.665577   \n",
       "10902    15542  2.432008   5000.793776  141.821777  58.061866   397.901317   \n",
       "10234     9992  1.203192   5019.995669  142.310330  69.676279   400.146438   \n",
       "...        ...       ...           ...         ...        ...          ...   \n",
       "19736    15790  1.166995  47538.554826  486.753377  59.945041  3583.705897   \n",
       "9716      5965  1.783943  43965.463557  508.297763  64.678195  3625.738646   \n",
       "3750      6383  1.049040  46001.139019  542.433417  61.588424  3760.727332   \n",
       "3976      8117  1.919587  39316.688056  561.400052  67.151432  3884.045697   \n",
       "8760     22239  1.787388  51876.637564  437.090101  61.982991  3888.817810   \n",
       "\n",
       "       count  \n",
       "9637     193  \n",
       "6027     197  \n",
       "7958     199  \n",
       "10902    178  \n",
       "10234    180  \n",
       "...      ...  \n",
       "19736    193  \n",
       "9716     173  \n",
       "3750     177  \n",
       "3976     183  \n",
       "8760     178  \n",
       "\n",
       "[3833 rows x 7 columns]"
      ]
     },
     "execution_count": 16,
     "metadata": {},
     "output_type": "execute_result"
    }
   ],
   "source": [
    "user_data[user_data['max'] > 5000].sort_values(by=['std'])"
   ]
  },
  {
   "cell_type": "code",
   "execution_count": 17,
   "metadata": {},
   "outputs": [
    {
     "name": "stderr",
     "output_type": "stream",
     "text": [
      "                                                                                \r"
     ]
    },
    {
     "data": {
      "text/plain": [
       "<AxesSubplot:xlabel='dollar_value', ylabel='Count'>"
      ]
     },
     "execution_count": 17,
     "metadata": {},
     "output_type": "execute_result"
    },
    {
     "data": {
      "image/png": "[encoded data removed]",
      "text/plain": [
       "<Figure size 432x288 with 1 Axes>"
      ]
     },
     "metadata": {
      "needs_background": "light"
     },
     "output_type": "display_data"
    }
   ],
   "source": [
    "# lets examine the distribution of the mode\n",
    "sns.histplot(x = 'dollar_value',data = full_dataset.where(full_dataset.user_id == 22239).select('dollar_value').toPandas())"
   ]
  },
  {
   "cell_type": "code",
   "execution_count": 18,
   "metadata": {},
   "outputs": [],
   "source": [
    "# For merchant ID"
   ]
  },
  {
   "cell_type": "code",
   "execution_count": 19,
   "metadata": {},
   "outputs": [
    {
     "data": {
      "text/html": [
       "<div>\n",
       "<style scoped>\n",
       "    .dataframe tbody tr th:only-of-type {\n",
       "        vertical-align: middle;\n",
       "    }\n",
       "\n",
       "    .dataframe tbody tr th {\n",
       "        vertical-align: top;\n",
       "    }\n",
       "\n",
       "    .dataframe thead th {\n",
       "        text-align: right;\n",
       "    }\n",
       "</style>\n",
       "<table border=\"1\" class=\"dataframe\">\n",
       "  <thead>\n",
       "    <tr style=\"text-align: right;\">\n",
       "      <th></th>\n",
       "      <th>merchant_abn</th>\n",
       "      <th>Earnings_Class</th>\n",
       "      <th>min</th>\n",
       "      <th>max</th>\n",
       "      <th>mean</th>\n",
       "      <th>median</th>\n",
       "      <th>std</th>\n",
       "      <th>count</th>\n",
       "    </tr>\n",
       "  </thead>\n",
       "  <tbody>\n",
       "    <tr>\n",
       "      <th>471</th>\n",
       "      <td>11149063370</td>\n",
       "      <td>b</td>\n",
       "      <td>2016.978978</td>\n",
       "      <td>47346.113374</td>\n",
       "      <td>17418.653923</td>\n",
       "      <td>15930.678944</td>\n",
       "      <td>12403.874225</td>\n",
       "      <td>29</td>\n",
       "    </tr>\n",
       "    <tr>\n",
       "      <th>3731</th>\n",
       "      <td>83199298021</td>\n",
       "      <td>b</td>\n",
       "      <td>3149.397664</td>\n",
       "      <td>47538.554826</td>\n",
       "      <td>17928.460231</td>\n",
       "      <td>13701.303253</td>\n",
       "      <td>11152.015889</td>\n",
       "      <td>64</td>\n",
       "    </tr>\n",
       "    <tr>\n",
       "      <th>1090</th>\n",
       "      <td>35575706403</td>\n",
       "      <td>b</td>\n",
       "      <td>447.608928</td>\n",
       "      <td>50209.505439</td>\n",
       "      <td>11518.072706</td>\n",
       "      <td>8090.569703</td>\n",
       "      <td>10753.975055</td>\n",
       "      <td>24</td>\n",
       "    </tr>\n",
       "    <tr>\n",
       "      <th>3761</th>\n",
       "      <td>91880575299</td>\n",
       "      <td>b</td>\n",
       "      <td>3507.708173</td>\n",
       "      <td>38351.181004</td>\n",
       "      <td>17387.724074</td>\n",
       "      <td>16464.936870</td>\n",
       "      <td>10708.537062</td>\n",
       "      <td>11</td>\n",
       "    </tr>\n",
       "    <tr>\n",
       "      <th>938</th>\n",
       "      <td>97884414539</td>\n",
       "      <td>a</td>\n",
       "      <td>1076.657304</td>\n",
       "      <td>44615.022521</td>\n",
       "      <td>10902.952330</td>\n",
       "      <td>7541.723847</td>\n",
       "      <td>10619.186146</td>\n",
       "      <td>17</td>\n",
       "    </tr>\n",
       "    <tr>\n",
       "      <th>...</th>\n",
       "      <td>...</td>\n",
       "      <td>...</td>\n",
       "      <td>...</td>\n",
       "      <td>...</td>\n",
       "      <td>...</td>\n",
       "      <td>...</td>\n",
       "      <td>...</td>\n",
       "      <td>...</td>\n",
       "    </tr>\n",
       "    <tr>\n",
       "      <th>2653</th>\n",
       "      <td>38361767065</td>\n",
       "      <td>b</td>\n",
       "      <td>157.000000</td>\n",
       "      <td>157.000000</td>\n",
       "      <td>157.000000</td>\n",
       "      <td>157.000000</td>\n",
       "      <td>0.000000</td>\n",
       "      <td>50</td>\n",
       "    </tr>\n",
       "    <tr>\n",
       "      <th>3648</th>\n",
       "      <td>65345485504</td>\n",
       "      <td>b</td>\n",
       "      <td>157.000000</td>\n",
       "      <td>157.000000</td>\n",
       "      <td>157.000000</td>\n",
       "      <td>157.000000</td>\n",
       "      <td>0.000000</td>\n",
       "      <td>27</td>\n",
       "    </tr>\n",
       "    <tr>\n",
       "      <th>3651</th>\n",
       "      <td>66571984047</td>\n",
       "      <td>b</td>\n",
       "      <td>157.000000</td>\n",
       "      <td>157.000000</td>\n",
       "      <td>157.000000</td>\n",
       "      <td>157.000000</td>\n",
       "      <td>0.000000</td>\n",
       "      <td>1584</td>\n",
       "    </tr>\n",
       "    <tr>\n",
       "      <th>30</th>\n",
       "      <td>14804580099</td>\n",
       "      <td>a</td>\n",
       "      <td>157.000000</td>\n",
       "      <td>157.000000</td>\n",
       "      <td>157.000000</td>\n",
       "      <td>157.000000</td>\n",
       "      <td>0.000000</td>\n",
       "      <td>449</td>\n",
       "    </tr>\n",
       "    <tr>\n",
       "      <th>3747</th>\n",
       "      <td>88141903797</td>\n",
       "      <td>c</td>\n",
       "      <td>157.000000</td>\n",
       "      <td>157.000000</td>\n",
       "      <td>157.000000</td>\n",
       "      <td>157.000000</td>\n",
       "      <td>0.000000</td>\n",
       "      <td>267</td>\n",
       "    </tr>\n",
       "  </tbody>\n",
       "</table>\n",
       "<p>3540 rows × 8 columns</p>\n",
       "</div>"
      ],
      "text/plain": [
       "      merchant_abn Earnings_Class          min           max          mean  \\\n",
       "471    11149063370              b  2016.978978  47346.113374  17418.653923   \n",
       "3731   83199298021              b  3149.397664  47538.554826  17928.460231   \n",
       "1090   35575706403              b   447.608928  50209.505439  11518.072706   \n",
       "3761   91880575299              b  3507.708173  38351.181004  17387.724074   \n",
       "938    97884414539              a  1076.657304  44615.022521  10902.952330   \n",
       "...            ...            ...          ...           ...           ...   \n",
       "2653   38361767065              b   157.000000    157.000000    157.000000   \n",
       "3648   65345485504              b   157.000000    157.000000    157.000000   \n",
       "3651   66571984047              b   157.000000    157.000000    157.000000   \n",
       "30     14804580099              a   157.000000    157.000000    157.000000   \n",
       "3747   88141903797              c   157.000000    157.000000    157.000000   \n",
       "\n",
       "            median           std  count  \n",
       "471   15930.678944  12403.874225     29  \n",
       "3731  13701.303253  11152.015889     64  \n",
       "1090   8090.569703  10753.975055     24  \n",
       "3761  16464.936870  10708.537062     11  \n",
       "938    7541.723847  10619.186146     17  \n",
       "...            ...           ...    ...  \n",
       "2653    157.000000      0.000000     50  \n",
       "3648    157.000000      0.000000     27  \n",
       "3651    157.000000      0.000000   1584  \n",
       "30      157.000000      0.000000    449  \n",
       "3747    157.000000      0.000000    267  \n",
       "\n",
       "[3540 rows x 8 columns]"
      ]
     },
     "execution_count": 19,
     "metadata": {},
     "output_type": "execute_result"
    }
   ],
   "source": [
    "merchant_agg[(merchant_agg['count'] > 10)].sort_values(by=['std'], ascending=False)"
   ]
  },
  {
   "cell_type": "code",
   "execution_count": 20,
   "metadata": {},
   "outputs": [
    {
     "name": "stderr",
     "output_type": "stream",
     "text": [
      "                                                                                \r"
     ]
    },
    {
     "data": {
      "text/plain": [
       "<AxesSubplot:xlabel='dollar_value'>"
      ]
     },
     "execution_count": 20,
     "metadata": {},
     "output_type": "execute_result"
    },
    {
     "data": {
      "image/png": "[encoded data removed]",
      "text/plain": [
       "<Figure size 432x288 with 1 Axes>"
      ]
     },
     "metadata": {
      "needs_background": "light"
     },
     "output_type": "display_data"
    }
   ],
   "source": [
    "sns.boxplot(x='dollar_value', data=full_dataset.where(full_dataset.merchant_abn == 10023283211).select('dollar_value').toPandas())"
   ]
  },
  {
   "cell_type": "code",
   "execution_count": 21,
   "metadata": {},
   "outputs": [
    {
     "data": {
      "text/plain": [
       "<AxesSubplot:xlabel='std', ylabel='Count'>"
      ]
     },
     "execution_count": 21,
     "metadata": {},
     "output_type": "execute_result"
    },
    {
     "data": {
      "image/png": "[encoded data removed]",
      "text/plain": [
       "<Figure size 432x288 with 1 Axes>"
      ]
     },
     "metadata": {
      "needs_background": "light"
     },
     "output_type": "display_data"
    }
   ],
   "source": [
    "import seaborn as sns\n",
    "sns.histplot(x='std', data = merchant_agg[merchant_agg['mean'] > 5000])\n"
   ]
  },
  {
   "cell_type": "markdown",
   "metadata": {},
   "source": [
    "# Outlier detection algorithm\n",
    "This will be inplemented by taking the 95% CI from the mean, and removing values which fall out of this coverage (more explanation below)"
   ]
  },
  {
   "cell_type": "code",
   "execution_count": 22,
   "metadata": {},
   "outputs": [],
   "source": [
    "# First we need to collect each unique merchant, and store in a variable\n",
    "# from above\n",
    "merchants.drop('tags', axis=1, inplace=True)\n"
   ]
  },
  {
   "cell_type": "code",
   "execution_count": 23,
   "metadata": {},
   "outputs": [],
   "source": [
    "# Due to the dat being skewed, instead of using the IQR range, the Medcouples method see below, to account for skewness\n",
    "    # link:https://towardsdatascience.com/outlier-detection-part-2-6839f6199768Thrd_percentile = F.expr('percentile_approx(dollar_value, 0.75)')\n",
    "Fst_percentile = F.expr('percentile_approx(dollar_value, 0.25)')\n",
    "Trd_percentile = F.expr('percentile_approx(dollar_value, 0.75)')\n",
    "quartile_dataset = full_dataset.groupBy('merchant_abn').agg(Fst_percentile.alias('1_val'), Trd_percentile.alias('3_val'))\n",
    "quartile_dataset = quartile_dataset.withColumn('IQR', F.col('3_val') - F.col('1_val'))\n",
    "# can manupulate the upper value to meet the skew in the graph\n",
    "quartile_dataset = quartile_dataset.withColumn('Upper_limit', F.col('3_val') + 1.5 * F.col('IQR'))\n",
    "quartile_dataset = quartile_dataset.withColumn('Lower_limit', F.col('1_val') - 1.5 * F.col('IQR'))\n",
    "quartile_dataset = quartile_dataset.select('merchant_abn', 'IQR', 'Upper_limit', 'Lower_limit')"
   ]
  },
  {
   "cell_type": "code",
   "execution_count": 24,
   "metadata": {},
   "outputs": [],
   "source": [
    "# Now all we need to do is join this data to each transaction, then can select the transactios which are (not) within the limits\n",
    "full_quantile = full_dataset.select('merchant_abn', 'order_id', 'user_id', 'dollar_value').join(quartile_dataset, on= ['merchant_abn'])"
   ]
  },
  {
   "cell_type": "code",
   "execution_count": 25,
   "metadata": {},
   "outputs": [],
   "source": [
    "# finally identify the outliers\n",
    "full_quantile = full_quantile.withColumn('Potential_Outlier', F.when((full_quantile.dollar_value <= F.col('Upper_limit')) & (full_quantile.dollar_value >= F.col('Lower_limit')), False)\n",
    "                                              .otherwise(True))"
   ]
  },
  {
   "cell_type": "code",
   "execution_count": 26,
   "metadata": {},
   "outputs": [
    {
     "name": "stderr",
     "output_type": "stream",
     "text": [
      "                                                                                \r"
     ]
    },
    {
     "data": {
      "text/plain": [
       "141180"
      ]
     },
     "execution_count": 26,
     "metadata": {},
     "output_type": "execute_result"
    }
   ],
   "source": [
    "full_quantile.where(F.col('Potential_Outlier') == True).count()"
   ]
  },
  {
   "cell_type": "code",
   "execution_count": 27,
   "metadata": {},
   "outputs": [],
   "source": [
    "# About 3% of the dataset is identified as outliers. Although there is a chance that some entities have been missclassified"
   ]
  },
  {
   "cell_type": "code",
   "execution_count": 28,
   "metadata": {},
   "outputs": [
    {
     "name": "stderr",
     "output_type": "stream",
     "text": [
      "                                                                                \r"
     ]
    },
    {
     "data": {
      "text/plain": [
       "<AxesSubplot:xlabel='dollar_value', ylabel='Count'>"
      ]
     },
     "execution_count": 28,
     "metadata": {},
     "output_type": "execute_result"
    },
    {
     "data": {
      "image/png": "[encoded data removed]",
      "text/plain": [
       "<Figure size 432x288 with 1 Axes>"
      ]
     },
     "metadata": {
      "needs_background": "light"
     },
     "output_type": "display_data"
    }
   ],
   "source": [
    "sns.histplot(x='dollar_value', hue = 'Potential_Outlier', data=full_quantile.where(full_quantile.merchant_abn == 10023283211).select('dollar_value', 'Potential_Outlier').toPandas())"
   ]
  }
 ],
 "metadata": {
  "kernelspec": {
   "display_name": "Python 3.8.10 64-bit",
   "language": "python",
   "name": "python3"
  },
  "language_info": {
   "codemirror_mode": {
    "name": "ipython",
    "version": 3
   },
   "file_extension": ".py",
   "mimetype": "text/x-python",
   "name": "python",
   "nbconvert_exporter": "python",
   "pygments_lexer": "ipython3",
   "version": "3.8.10"
  },
  "orig_nbformat": 4,
  "vscode": {
   "interpreter": {
    "hash": "916dbcbb3f70747c44a77c7bcd40155683ae19c65e1c03b4aa3499c5328201f1"
   }
  }
 },
 "nbformat": 4,
 "nbformat_minor": 2
}
