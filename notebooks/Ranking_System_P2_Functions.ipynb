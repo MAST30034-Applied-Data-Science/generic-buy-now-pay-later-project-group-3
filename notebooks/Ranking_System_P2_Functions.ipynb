{
 "cells": [
  {
   "cell_type": "markdown",
   "metadata": {},
   "source": [
    "# Ranking Algorithm P2\n",
    "This document finalises our results"
   ]
  },
  {
   "cell_type": "code",
   "execution_count": 1,
   "metadata": {},
   "outputs": [],
   "source": [
    "# libraries \n",
    "from pyspark.sql import SparkSession, functions as F\n",
    "from pyspark.ml import feature as H\n",
    "from operator import add\n",
    "from functools import reduce"
   ]
  },
  {
   "cell_type": "code",
   "execution_count": 2,
   "metadata": {},
   "outputs": [],
   "source": [
    "def open_spark():\n",
    "    # First lets reed the datasets\n",
    "    spark = (\n",
    "        SparkSession.builder.appName(\"Data_Explorer\")\n",
    "        .config(\"spark.sql.repl.eagerEval.enabled\", True) \n",
    "        .config(\"spark.sql.parquet.cacheMetadata\", \"true\")\n",
    "        .config(\"spark.sql.session.timeZone\", \"Etc/UTC\")\n",
    "        .config(\"spark.driver.memory\", \"4g\")\n",
    "        .getOrCreate())\n",
    "    return spark"
   ]
  },
  {
   "cell_type": "code",
   "execution_count": 3,
   "metadata": {},
   "outputs": [
    {
     "name": "stdout",
     "output_type": "stream",
     "text": [
      "22/10/16 12:40:39 WARN Utils: Your hostname, James-N580VD-DM229T resolves to a loopback address: 127.0.1.1; using 172.31.83.34 instead (on interface eth0)\n",
      "22/10/16 12:40:39 WARN Utils: Set SPARK_LOCAL_IP if you need to bind to another address\n"
     ]
    },
    {
     "name": "stderr",
     "output_type": "stream",
     "text": [
      "Setting default log level to \"WARN\".\n",
      "To adjust logging level use sc.setLogLevel(newLevel). For SparkR, use setLogLevel(newLevel).\n"
     ]
    },
    {
     "name": "stdout",
     "output_type": "stream",
     "text": [
      "22/10/16 12:40:41 WARN NativeCodeLoader: Unable to load native-hadoop library for your platform... using builtin-java classes where applicable\n"
     ]
    }
   ],
   "source": [
    "spark = open_spark()"
   ]
  },
  {
   "cell_type": "code",
   "execution_count": 4,
   "metadata": {},
   "outputs": [],
   "source": [
    "# This function is used to apply the minimising scoring process for a certain metric\n",
    "# This time 0 [best] - 1 [worst]\n",
    "def scroring_process(dataset):\n",
    "    # first subtract 1 from each cell then square\n",
    "    for col in dataset.columns[1:]:\n",
    "        dataset = dataset.withColumn(col, F.pow((F.col(col) - 1),2))\n",
    "    # sum the columns \n",
    "    dataset = dataset.withColumn('total',F.round(reduce(add, [F.col(x) for x in dataset.columns[1:]]), 8))\n",
    "    return dataset\n",
    "\n",
    "# Define our scaling transfomration function, resulting in attributes ranked within 0 [worst] - 1 [best]\n",
    "def feature_standardisation(dataset): \n",
    "    values = dataset.select(F.max('total').alias('high'), F.min('total').alias('low'))\n",
    "    dataset = dataset.withColumn('total', F.round((F.col('total') - values.select('low').head()[0]) / (values.select('high').head()[0] - values.select('low').head()[0]), 9))\n",
    "    return dataset.select('merchant_abn', 'total')"
   ]
  },
  {
   "cell_type": "code",
   "execution_count": 5,
   "metadata": {},
   "outputs": [],
   "source": [
    "def main():\n",
    "    # Read all our tables \n",
    "    customer_scaled = spark.read.parquet('../data/Normalised/customer_scaled1/')\n",
    "    customer_scaled = customer_scaled.fillna(0.5)\n",
    "    industry_scaled = spark.read.parquet('../data/Normalised/industry_scaled1/')\n",
    "    industry_scaled = industry_scaled.fillna(0.5)\n",
    "    # need to remove sector name and store in lookup \n",
    "    sector_lookup = industry_scaled.select('merchant_abn', 'sector')\n",
    "    industry_scaled = industry_scaled.drop('sector')\n",
    "    sustainability_scaled = spark.read.parquet('../data/Normalised/sustainability_scaled1/')\n",
    "    sustainability_scaled = sustainability_scaled.fillna(0.5)\n",
    "    revenue_scaled = spark.read.parquet('../data/Normalised/revenue_scaled1/')\n",
    "    revenue_scaled = revenue_scaled.fillna(0.5)\n",
    "    # score industry, then add to sustainability\n",
    "    industry_scaled = scroring_process(industry_scaled)\n",
    "    industry_scaled = industry_scaled.select('merchant_abn','total')\n",
    "    industry_scaled = feature_standardisation(industry_scaled)\n",
    "    industry_scaled = industry_scaled.withColumnRenamed('total','Industry_score')\n",
    "    sustainability_scaled = sustainability_scaled.join(industry_scaled, on='merchant_abn', how='left')\n",
    "    # Scale all metrics now\n",
    "    customer_scaled = scroring_process(customer_scaled)\n",
    "    sustainability_scaled = scroring_process(sustainability_scaled)\n",
    "    revenue_scaled = scroring_process(revenue_scaled)\n",
    "    # Now equally combine them to get the final merchant score \n",
    "    customer_scaled = customer_scaled.select('merchant_abn','total')\n",
    "    customer_scaled = feature_standardisation(customer_scaled)\n",
    "    customer_scaled = customer_scaled.withColumnRenamed('total','Customer_score')\n",
    "    revenue_scaled = revenue_scaled.select('merchant_abn','total')\n",
    "    revenue_scaled = feature_standardisation(revenue_scaled)\n",
    "    revenue_scaled = revenue_scaled.withColumnRenamed('total','Revenue_score')\n",
    "    sustainability_scaled = sustainability_scaled.select('merchant_abn','total')\n",
    "    sustainability_scaled = feature_standardisation(sustainability_scaled)\n",
    "    sustainability_scaled = sustainability_scaled.withColumnRenamed('total','Sustainability_score')\n",
    "    # Finally join \n",
    "    Full_scores = customer_scaled.join(revenue_scaled, on='merchant_abn', how='inner').join(sustainability_scaled, on='merchant_abn', how='inner')\n",
    "    Full_scores = Full_scores.withColumn('Merchant_score',F.round(reduce(add, [F.col(x) for x in Full_scores.columns[1:]]), 8))\n",
    "    Full_scores = Full_scores.join(sector_lookup, on='merchant_abn', how='inner')\n",
    "    Full_scores.write.parquet('../data/Normalised/Final_scores_alt1', mode='overwrite')"
   ]
  },
  {
   "cell_type": "code",
   "execution_count": 6,
   "metadata": {},
   "outputs": [
    {
     "name": "stderr",
     "output_type": "stream",
     "text": [
      "                                                                                \r"
     ]
    }
   ],
   "source": [
    "main()"
   ]
  },
  {
   "cell_type": "code",
   "execution_count": 7,
   "metadata": {},
   "outputs": [],
   "source": [
    "variation = spark.read.parquet('../data/Normalised/Final_scores_alt1/')"
   ]
  },
  {
   "cell_type": "code",
   "execution_count": 8,
   "metadata": {},
   "outputs": [
    {
     "data": {
      "text/html": [
       "<table border='1'>\n",
       "<tr><th>sector</th><th>count</th></tr>\n",
       "<tr><td>Arts_Recreation_S...</td><td>1095</td></tr>\n",
       "<tr><td>Administrative_Su...</td><td>539</td></tr>\n",
       "<tr><td>Information_Media...</td><td>876</td></tr>\n",
       "<tr><td>Personal_Services</td><td>1498</td></tr>\n",
       "</table>\n"
      ],
      "text/plain": [
       "+--------------------+-----+\n",
       "|              sector|count|\n",
       "+--------------------+-----+\n",
       "|Arts_Recreation_S...| 1095|\n",
       "|Administrative_Su...|  539|\n",
       "|Information_Media...|  876|\n",
       "|   Personal_Services| 1498|\n",
       "+--------------------+-----+"
      ]
     },
     "execution_count": 8,
     "metadata": {},
     "output_type": "execute_result"
    }
   ],
   "source": [
    "variation.groupby('sector').count()"
   ]
  },
  {
   "cell_type": "markdown",
   "metadata": {},
   "source": [
    "For determining the top merchant "
   ]
  },
  {
   "cell_type": "code",
   "execution_count": 18,
   "metadata": {},
   "outputs": [
    {
     "data": {
      "text/html": [
       "<table border='1'>\n",
       "<tr><th>sector</th><th>merchant_abn</th><th>Portion_of_Total_Revenue</th><th>Portion_of_Total_Transactions</th><th>Average_Weighted_Revenue</th><th>survival_rate</th></tr>\n",
       "<tr><td>Administrative_Su...</td><td>23305324752</td><td>0.0</td><td>0.0</td><td>0.8025</td><td>0.0</td></tr>\n",
       "<tr><td>Administrative_Su...</td><td>17266923036</td><td>0.0</td><td>0.0</td><td>0.8025</td><td>0.0</td></tr>\n",
       "<tr><td>Administrative_Su...</td><td>11633090957</td><td>0.0</td><td>0.0</td><td>0.8025</td><td>0.0</td></tr>\n",
       "<tr><td>Administrative_Su...</td><td>22718657980</td><td>0.0</td><td>0.0</td><td>0.8025</td><td>0.0</td></tr>\n",
       "<tr><td>Administrative_Su...</td><td>68112267199</td><td>0.0</td><td>0.0</td><td>0.8025</td><td>0.0</td></tr>\n",
       "<tr><td>Administrative_Su...</td><td>86670100004</td><td>0.0</td><td>0.0</td><td>0.8025</td><td>0.0</td></tr>\n",
       "<tr><td>Administrative_Su...</td><td>96885194635</td><td>0.0</td><td>0.0</td><td>0.8025</td><td>0.0</td></tr>\n",
       "<tr><td>Administrative_Su...</td><td>36555094223</td><td>0.0</td><td>0.0</td><td>0.8025</td><td>0.0</td></tr>\n",
       "<tr><td>Administrative_Su...</td><td>55193751157</td><td>0.0</td><td>0.0</td><td>0.8025</td><td>0.0</td></tr>\n",
       "<tr><td>Administrative_Su...</td><td>90173050473</td><td>0.0</td><td>0.0</td><td>0.8025</td><td>0.0</td></tr>\n",
       "<tr><td>Administrative_Su...</td><td>28049322288</td><td>0.0</td><td>0.0</td><td>0.8025</td><td>0.0</td></tr>\n",
       "<tr><td>Administrative_Su...</td><td>78864123417</td><td>0.0</td><td>0.0</td><td>0.8025</td><td>0.0</td></tr>\n",
       "<tr><td>Administrative_Su...</td><td>25370771356</td><td>0.0</td><td>0.0</td><td>0.8025</td><td>0.0</td></tr>\n",
       "<tr><td>Administrative_Su...</td><td>41108543298</td><td>0.0</td><td>0.0</td><td>0.8025</td><td>0.0</td></tr>\n",
       "<tr><td>Administrative_Su...</td><td>23399930700</td><td>0.0</td><td>0.0</td><td>0.8025</td><td>0.0</td></tr>\n",
       "<tr><td>Administrative_Su...</td><td>67842910518</td><td>0.0</td><td>0.0</td><td>0.8025</td><td>0.0</td></tr>\n",
       "<tr><td>Administrative_Su...</td><td>26413484487</td><td>0.0</td><td>0.0</td><td>0.8025</td><td>0.0</td></tr>\n",
       "<tr><td>Administrative_Su...</td><td>74063123996</td><td>0.0</td><td>0.0</td><td>0.8025</td><td>0.0</td></tr>\n",
       "<tr><td>Administrative_Su...</td><td>78916025936</td><td>0.0</td><td>0.0</td><td>0.8025</td><td>0.0</td></tr>\n",
       "<tr><td>Administrative_Su...</td><td>85276983280</td><td>0.0</td><td>0.0</td><td>0.8025</td><td>0.0</td></tr>\n",
       "</table>\n",
       "only showing top 20 rows\n"
      ],
      "text/plain": [
       "+--------------------+------------+------------------------+-----------------------------+------------------------+-------------+\n",
       "|              sector|merchant_abn|Portion_of_Total_Revenue|Portion_of_Total_Transactions|Average_Weighted_Revenue|survival_rate|\n",
       "+--------------------+------------+------------------------+-----------------------------+------------------------+-------------+\n",
       "|Administrative_Su...| 23305324752|                     0.0|                          0.0|                  0.8025|          0.0|\n",
       "|Administrative_Su...| 17266923036|                     0.0|                          0.0|                  0.8025|          0.0|\n",
       "|Administrative_Su...| 11633090957|                     0.0|                          0.0|                  0.8025|          0.0|\n",
       "|Administrative_Su...| 22718657980|                     0.0|                          0.0|                  0.8025|          0.0|\n",
       "|Administrative_Su...| 68112267199|                     0.0|                          0.0|                  0.8025|          0.0|\n",
       "|Administrative_Su...| 86670100004|                     0.0|                          0.0|                  0.8025|          0.0|\n",
       "|Administrative_Su...| 96885194635|                     0.0|                          0.0|                  0.8025|          0.0|\n",
       "|Administrative_Su...| 36555094223|                     0.0|                          0.0|                  0.8025|          0.0|\n",
       "|Administrative_Su...| 55193751157|                     0.0|                          0.0|                  0.8025|          0.0|\n",
       "|Administrative_Su...| 90173050473|                     0.0|                          0.0|                  0.8025|          0.0|\n",
       "|Administrative_Su...| 28049322288|                     0.0|                          0.0|                  0.8025|          0.0|\n",
       "|Administrative_Su...| 78864123417|                     0.0|                          0.0|                  0.8025|          0.0|\n",
       "|Administrative_Su...| 25370771356|                     0.0|                          0.0|                  0.8025|          0.0|\n",
       "|Administrative_Su...| 41108543298|                     0.0|                          0.0|                  0.8025|          0.0|\n",
       "|Administrative_Su...| 23399930700|                     0.0|                          0.0|                  0.8025|          0.0|\n",
       "|Administrative_Su...| 67842910518|                     0.0|                          0.0|                  0.8025|          0.0|\n",
       "|Administrative_Su...| 26413484487|                     0.0|                          0.0|                  0.8025|          0.0|\n",
       "|Administrative_Su...| 74063123996|                     0.0|                          0.0|                  0.8025|          0.0|\n",
       "|Administrative_Su...| 78916025936|                     0.0|                          0.0|                  0.8025|          0.0|\n",
       "|Administrative_Su...| 85276983280|                     0.0|                          0.0|                  0.8025|          0.0|\n",
       "+--------------------+------------+------------------------+-----------------------------+------------------------+-------------+\n",
       "only showing top 20 rows"
      ]
     },
     "execution_count": 18,
     "metadata": {},
     "output_type": "execute_result"
    }
   ],
   "source": [
    "spark.read.parquet('../data/Normalised/industry_scaled/')"
   ]
  },
  {
   "cell_type": "code",
   "execution_count": 9,
   "metadata": {},
   "outputs": [],
   "source": [
    "Full_scores = spark.read.parquet('../data/Normalised/Final_scores_alt/')"
   ]
  },
  {
   "cell_type": "code",
   "execution_count": 10,
   "metadata": {},
   "outputs": [
    {
     "data": {
      "text/html": [
       "<table border='1'>\n",
       "<tr><th>sector</th><th>count</th></tr>\n",
       "<tr><td>Arts_Recreation_S...</td><td>1109</td></tr>\n",
       "<tr><td>Administrative_Su...</td><td>466</td></tr>\n",
       "<tr><td>Information_Media...</td><td>1028</td></tr>\n",
       "<tr><td>Personal_Services</td><td>1405</td></tr>\n",
       "</table>\n"
      ],
      "text/plain": [
       "+--------------------+-----+\n",
       "|              sector|count|\n",
       "+--------------------+-----+\n",
       "|Arts_Recreation_S...| 1109|\n",
       "|Administrative_Su...|  466|\n",
       "|Information_Media...| 1028|\n",
       "|   Personal_Services| 1405|\n",
       "+--------------------+-----+"
      ]
     },
     "execution_count": 10,
     "metadata": {},
     "output_type": "execute_result"
    }
   ],
   "source": [
    "Full_scores.groupBy('sector').count()"
   ]
  },
  {
   "cell_type": "code",
   "execution_count": 11,
   "metadata": {},
   "outputs": [],
   "source": [
    "merchant = spark.read.parquet('../data/processed/merchants/')"
   ]
  },
  {
   "cell_type": "code",
   "execution_count": 15,
   "metadata": {},
   "outputs": [
    {
     "data": {
      "text/plain": [
       "Text(0, 0.5, 'Frequency of Merchants')"
      ]
     },
     "execution_count": 15,
     "metadata": {},
     "output_type": "execute_result"
    },
    {
     "data": {
      "image/png": "[encoded data removed]",
      "text/plain": [
       "<Figure size 432x288 with 1 Axes>"
      ]
     },
     "metadata": {
      "needs_background": "light"
     },
     "output_type": "display_data"
    }
   ],
   "source": [
    "import seaborn as sns\n",
    "import matplotlib.pyplot as plt\n",
    "sns.histplot(x='Merchant_score', hue='sector', data=variation.toPandas())\n",
    "plt.title('Distribution of Merchant Score by Sector')\n",
    "plt.xlabel('Merchant Score')\n",
    "plt.ylabel('Frequency of Merchants')"
   ]
  },
  {
   "cell_type": "code",
   "execution_count": 16,
   "metadata": {},
   "outputs": [
    {
     "data": {
      "text/plain": [
       "Text(0, 0.5, 'Frequency of Merchants')"
      ]
     },
     "execution_count": 16,
     "metadata": {},
     "output_type": "execute_result"
    },
    {
     "data": {
      "image/png": "[encoded data removed]",
      "text/plain": [
       "<Figure size 432x288 with 1 Axes>"
      ]
     },
     "metadata": {
      "needs_background": "light"
     },
     "output_type": "display_data"
    }
   ],
   "source": [
    "import seaborn as sns\n",
    "import matplotlib.pyplot as plt\n",
    "sns.histplot(x='total', hue='sector', data=Full_scores.toPandas())\n",
    "plt.title('Distribution of Merchant Score by Sector')\n",
    "plt.xlabel('Merchant Score')\n",
    "plt.ylabel('Frequency of Merchants')\n"
   ]
  },
  {
   "cell_type": "code",
   "execution_count": null,
   "metadata": {},
   "outputs": [],
   "source": [
    "top_100 = Full_scores.orderBy('total').limit(100)"
   ]
  },
  {
   "cell_type": "code",
   "execution_count": null,
   "metadata": {},
   "outputs": [
    {
     "data": {
      "text/html": [
       "<div>\n",
       "<style scoped>\n",
       "    .dataframe tbody tr th:only-of-type {\n",
       "        vertical-align: middle;\n",
       "    }\n",
       "\n",
       "    .dataframe tbody tr th {\n",
       "        vertical-align: top;\n",
       "    }\n",
       "\n",
       "    .dataframe thead th {\n",
       "        text-align: right;\n",
       "    }\n",
       "</style>\n",
       "<table border=\"1\" class=\"dataframe\">\n",
       "  <thead>\n",
       "    <tr style=\"text-align: right;\">\n",
       "      <th></th>\n",
       "      <th>sector</th>\n",
       "      <th>count</th>\n",
       "    </tr>\n",
       "  </thead>\n",
       "  <tbody>\n",
       "    <tr>\n",
       "      <th>0</th>\n",
       "      <td>Administrative_Support_Services</td>\n",
       "      <td>46</td>\n",
       "    </tr>\n",
       "    <tr>\n",
       "      <th>1</th>\n",
       "      <td>Personal_Services</td>\n",
       "      <td>25</td>\n",
       "    </tr>\n",
       "    <tr>\n",
       "      <th>2</th>\n",
       "      <td>Information_Media_Telecommunications</td>\n",
       "      <td>24</td>\n",
       "    </tr>\n",
       "    <tr>\n",
       "      <th>3</th>\n",
       "      <td>Arts_Recreation_Services</td>\n",
       "      <td>5</td>\n",
       "    </tr>\n",
       "  </tbody>\n",
       "</table>\n",
       "</div>"
      ],
      "text/plain": [
       "                                 sector  count\n",
       "0       Administrative_Support_Services     46\n",
       "1                     Personal_Services     25\n",
       "2  Information_Media_Telecommunications     24\n",
       "3              Arts_Recreation_Services      5"
      ]
     },
     "execution_count": 55,
     "metadata": {},
     "output_type": "execute_result"
    }
   ],
   "source": [
    "top_100_pd = top_100.groupBy('sector').count().toPandas()\n",
    "top_100_pd"
   ]
  },
  {
   "cell_type": "code",
   "execution_count": null,
   "metadata": {},
   "outputs": [
    {
     "data": {
      "text/html": [
       "<div>\n",
       "<style scoped>\n",
       "    .dataframe tbody tr th:only-of-type {\n",
       "        vertical-align: middle;\n",
       "    }\n",
       "\n",
       "    .dataframe tbody tr th {\n",
       "        vertical-align: top;\n",
       "    }\n",
       "\n",
       "    .dataframe thead th {\n",
       "        text-align: right;\n",
       "    }\n",
       "</style>\n",
       "<table border=\"1\" class=\"dataframe\">\n",
       "  <thead>\n",
       "    <tr style=\"text-align: right;\">\n",
       "      <th></th>\n",
       "      <th>sector</th>\n",
       "      <th>count</th>\n",
       "    </tr>\n",
       "  </thead>\n",
       "  <tbody>\n",
       "    <tr>\n",
       "      <th>0</th>\n",
       "      <td>Information_Media_Telecommunications</td>\n",
       "      <td>49</td>\n",
       "    </tr>\n",
       "    <tr>\n",
       "      <th>1</th>\n",
       "      <td>Arts_Recreation_Services</td>\n",
       "      <td>16</td>\n",
       "    </tr>\n",
       "    <tr>\n",
       "      <th>2</th>\n",
       "      <td>Administrative_Support_Services</td>\n",
       "      <td>25</td>\n",
       "    </tr>\n",
       "    <tr>\n",
       "      <th>3</th>\n",
       "      <td>Personal_Services</td>\n",
       "      <td>10</td>\n",
       "    </tr>\n",
       "  </tbody>\n",
       "</table>\n",
       "</div>"
      ],
      "text/plain": [
       "                                 sector  count\n",
       "0  Information_Media_Telecommunications     49\n",
       "1              Arts_Recreation_Services     16\n",
       "2       Administrative_Support_Services     25\n",
       "3                     Personal_Services     10"
      ]
     },
     "execution_count": 35,
     "metadata": {},
     "output_type": "execute_result"
    }
   ],
   "source": [
    "top_100 = variation.orderBy('Merchant_score').limit(100)\n",
    "top_100_pd = top_100.groupBy('sector').count().toPandas()\n",
    "top_100_pd"
   ]
  },
  {
   "cell_type": "code",
   "execution_count": null,
   "metadata": {},
   "outputs": [
    {
     "ename": "AttributeError",
     "evalue": "module 'matplotlib' has no attribute 'get_data_path'",
     "output_type": "error",
     "traceback": [
      "\u001b[0;31m---------------------------------------------------------------------------\u001b[0m",
      "\u001b[0;31mAttributeError\u001b[0m                            Traceback (most recent call last)",
      "\u001b[1;32m/mnt/d/University/Applied Datascience/generic-buy-now-pay-later-project-group-3/notebooks/Ranking_System_P2_Functions.ipynb Cell 18\u001b[0m in \u001b[0;36m<cell line: 2>\u001b[0;34m()\u001b[0m\n\u001b[1;32m      <a href='vscode-notebook-cell://wsl%2Bubuntu/mnt/d/University/Applied%20Datascience/generic-buy-now-pay-later-project-group-3/notebooks/Ranking_System_P2_Functions.ipynb#X43sdnNjb2RlLXJlbW90ZQ%3D%3D?line=0'>1</a>\u001b[0m \u001b[39m# library\u001b[39;00m\n\u001b[0;32m----> <a href='vscode-notebook-cell://wsl%2Bubuntu/mnt/d/University/Applied%20Datascience/generic-buy-now-pay-later-project-group-3/notebooks/Ranking_System_P2_Functions.ipynb#X43sdnNjb2RlLXJlbW90ZQ%3D%3D?line=1'>2</a>\u001b[0m \u001b[39mimport\u001b[39;00m \u001b[39mmatplotlib\u001b[39;00m\u001b[39m.\u001b[39;00m\u001b[39mpyplot\u001b[39;00m \u001b[39mas\u001b[39;00m \u001b[39mplt\u001b[39;00m\n\u001b[1;32m      <a href='vscode-notebook-cell://wsl%2Bubuntu/mnt/d/University/Applied%20Datascience/generic-buy-now-pay-later-project-group-3/notebooks/Ranking_System_P2_Functions.ipynb#X43sdnNjb2RlLXJlbW90ZQ%3D%3D?line=2'>3</a>\u001b[0m \u001b[39mimport\u001b[39;00m \u001b[39mseaborn\u001b[39;00m \u001b[39mas\u001b[39;00m \u001b[39msns\u001b[39;00m\n\u001b[1;32m      <a href='vscode-notebook-cell://wsl%2Bubuntu/mnt/d/University/Applied%20Datascience/generic-buy-now-pay-later-project-group-3/notebooks/Ranking_System_P2_Functions.ipynb#X43sdnNjb2RlLXJlbW90ZQ%3D%3D?line=3'>4</a>\u001b[0m \u001b[39m# create data\u001b[39;00m\n",
      "File \u001b[0;32m~/.local/lib/python3.8/site-packages/matplotlib/__init__.py:877\u001b[0m, in \u001b[0;36m<module>\u001b[0;34m\u001b[0m\n\u001b[1;32m    870\u001b[0m     \u001b[39mreturn\u001b[39;00m config\n\u001b[1;32m    873\u001b[0m \u001b[39m# When constructing the global instances, we need to perform certain updates\u001b[39;00m\n\u001b[1;32m    874\u001b[0m \u001b[39m# by explicitly calling the superclass (dict.update, dict.items) to avoid\u001b[39;00m\n\u001b[1;32m    875\u001b[0m \u001b[39m# triggering resolution of _auto_backend_sentinel.\u001b[39;00m\n\u001b[1;32m    876\u001b[0m rcParamsDefault \u001b[39m=\u001b[39m _rc_params_in_file(\n\u001b[0;32m--> 877\u001b[0m     cbook\u001b[39m.\u001b[39;49m_get_data_path(\u001b[39m\"\u001b[39;49m\u001b[39mmatplotlibrc\u001b[39;49m\u001b[39m\"\u001b[39;49m),\n\u001b[1;32m    878\u001b[0m     \u001b[39m# Strip leading comment.\u001b[39;00m\n\u001b[1;32m    879\u001b[0m     transform\u001b[39m=\u001b[39m\u001b[39mlambda\u001b[39;00m line: line[\u001b[39m1\u001b[39m:] \u001b[39mif\u001b[39;00m line\u001b[39m.\u001b[39mstartswith(\u001b[39m\"\u001b[39m\u001b[39m#\u001b[39m\u001b[39m\"\u001b[39m) \u001b[39melse\u001b[39;00m line,\n\u001b[1;32m    880\u001b[0m     fail_on_error\u001b[39m=\u001b[39m\u001b[39mTrue\u001b[39;00m)\n\u001b[1;32m    881\u001b[0m \u001b[39mdict\u001b[39m\u001b[39m.\u001b[39mupdate(rcParamsDefault, rcsetup\u001b[39m.\u001b[39m_hardcoded_defaults)\n\u001b[1;32m    882\u001b[0m \u001b[39m# Normally, the default matplotlibrc file contains *no* entry for backend (the\u001b[39;00m\n\u001b[1;32m    883\u001b[0m \u001b[39m# corresponding line starts with ##, not #; we fill on _auto_backend_sentinel\u001b[39;00m\n\u001b[1;32m    884\u001b[0m \u001b[39m# in that case.  However, packagers can set a different default backend\u001b[39;00m\n\u001b[1;32m    885\u001b[0m \u001b[39m# (resulting in a normal `#backend: foo` line) in which case we should *not*\u001b[39;00m\n\u001b[1;32m    886\u001b[0m \u001b[39m# fill in _auto_backend_sentinel.\u001b[39;00m\n",
      "File \u001b[0;32m~/.local/lib/python3.8/site-packages/matplotlib/cbook/__init__.py:518\u001b[0m, in \u001b[0;36m_get_data_path\u001b[0;34m(*args)\u001b[0m\n\u001b[1;32m    512\u001b[0m \u001b[39mdef\u001b[39;00m \u001b[39m_get_data_path\u001b[39m(\u001b[39m*\u001b[39margs):\n\u001b[1;32m    513\u001b[0m     \u001b[39m\"\"\"\u001b[39;00m\n\u001b[1;32m    514\u001b[0m \u001b[39m    Return the `pathlib.Path` to a resource file provided by Matplotlib.\u001b[39;00m\n\u001b[1;32m    515\u001b[0m \n\u001b[1;32m    516\u001b[0m \u001b[39m    ``*args`` specify a path relative to the base data path.\u001b[39;00m\n\u001b[1;32m    517\u001b[0m \u001b[39m    \"\"\"\u001b[39;00m\n\u001b[0;32m--> 518\u001b[0m     \u001b[39mreturn\u001b[39;00m Path(matplotlib\u001b[39m.\u001b[39;49mget_data_path(), \u001b[39m*\u001b[39margs)\n",
      "\u001b[0;31mAttributeError\u001b[0m: module 'matplotlib' has no attribute 'get_data_path'"
     ]
    }
   ],
   "source": [
    "# library\n",
    "import matplotlib.pyplot as plt\n",
    "import seaborn as sns\n",
    "# create data\n",
    "names = ['Personal_Services', 'Arts_Recreation_Services', 'Information_Media_Telecommunications', 'Administrative_Support_Services']\n",
    "size = [25,5,24,46]\n",
    " \n",
    "# Create a circle at the center of the plot\n",
    "my_circle = plt.Circle( (0,0), 0.8, color='white')\n",
    "\n",
    "# Custom wedges\n",
    "plt.pie(size, labels=names, wedgeprops = { 'linewidth' : 4, 'edgecolor' : 'white' }, autopct=\"%.1f%%\")\n",
    "p = plt.gcf()\n",
    "p.gca().add_artist(my_circle)\n",
    "plt.title('Recommendation Sector Analysis of Top 100 Merchants')\n",
    "plt.show()"
   ]
  },
  {
   "cell_type": "markdown",
   "metadata": {},
   "source": [
    "# Now do the Bar plot "
   ]
  },
  {
   "cell_type": "code",
   "execution_count": null,
   "metadata": {},
   "outputs": [],
   "source": [
    "# For top 600\n",
    "top_600 = Full_scores.orderBy('total').limit(500)"
   ]
  },
  {
   "cell_type": "code",
   "execution_count": null,
   "metadata": {},
   "outputs": [],
   "source": [
    "trans = spark.read.parquet('../data/curated/')"
   ]
  },
  {
   "cell_type": "code",
   "execution_count": null,
   "metadata": {},
   "outputs": [],
   "source": [
    "trans100 = trans.join(top_100, on='merchant_abn', how = 'inner')\n",
    "trans600 = trans.join(top_600, on='merchant_abn', how = 'inner')"
   ]
  },
  {
   "cell_type": "code",
   "execution_count": null,
   "metadata": {},
   "outputs": [
    {
     "name": "stderr",
     "output_type": "stream",
     "text": [
      "                                                                                \r"
     ]
    },
    {
     "data": {
      "text/html": [
       "<table border='1'>\n",
       "<tr><th>sum(BNPL_Revenue)</th></tr>\n",
       "<tr><td>2.543357883000118E7</td></tr>\n",
       "</table>\n"
      ],
      "text/plain": [
       "+-------------------+\n",
       "|  sum(BNPL_Revenue)|\n",
       "+-------------------+\n",
       "|2.543357883000118E7|\n",
       "+-------------------+"
      ]
     },
     "execution_count": 60,
     "metadata": {},
     "output_type": "execute_result"
    }
   ],
   "source": [
    "trans100.select(F.sum('BNPL_Revenue'))"
   ]
  },
  {
   "cell_type": "code",
   "execution_count": null,
   "metadata": {},
   "outputs": [
    {
     "name": "stderr",
     "output_type": "stream",
     "text": [
      "                                                                                \r"
     ]
    },
    {
     "data": {
      "text/html": [
       "<table border='1'>\n",
       "<tr><th>sum(BNPL_Revenue)</th></tr>\n",
       "<tr><td>4.537336444999871E7</td></tr>\n",
       "</table>\n"
      ],
      "text/plain": [
       "+-------------------+\n",
       "|  sum(BNPL_Revenue)|\n",
       "+-------------------+\n",
       "|4.537336444999871E7|\n",
       "+-------------------+"
      ]
     },
     "execution_count": 61,
     "metadata": {},
     "output_type": "execute_result"
    }
   ],
   "source": [
    "trans600.select(F.sum('BNPL_Revenue'))"
   ]
  },
  {
   "cell_type": "code",
   "execution_count": null,
   "metadata": {},
   "outputs": [
    {
     "ename": "NameError",
     "evalue": "name 'sns' is not defined",
     "output_type": "error",
     "traceback": [
      "\u001b[0;31m---------------------------------------------------------------------------\u001b[0m",
      "\u001b[0;31mNameError\u001b[0m                                 Traceback (most recent call last)",
      "\u001b[1;32m/mnt/d/University/Applied Datascience/generic-buy-now-pay-later-project-group-3/notebooks/Ranking_System_P2_Functions.ipynb Cell 25\u001b[0m in \u001b[0;36m<cell line: 1>\u001b[0;34m()\u001b[0m\n\u001b[0;32m----> <a href='vscode-notebook-cell://wsl%2Bubuntu/mnt/d/University/Applied%20Datascience/generic-buy-now-pay-later-project-group-3/notebooks/Ranking_System_P2_Functions.ipynb#X53sdnNjb2RlLXJlbW90ZQ%3D%3D?line=0'>1</a>\u001b[0m sns\u001b[39m.\u001b[39mbarplot(x\u001b[39m=\u001b[39m[\u001b[39m'\u001b[39m\u001b[39mTop 100 Companies\u001b[39m\u001b[39m'\u001b[39m, \u001b[39m'\u001b[39m\u001b[39mNext 500 Companies\u001b[39m\u001b[39m'\u001b[39m],y\u001b[39m=\u001b[39m[\u001b[39m2.5433\u001b[39m, \u001b[39m1.993978\u001b[39m], palette\u001b[39m=\u001b[39m sns\u001b[39m.\u001b[39mcolor_palette(\u001b[39m\"\u001b[39m\u001b[39mcool\u001b[39m\u001b[39m\"\u001b[39m))\n\u001b[1;32m      <a href='vscode-notebook-cell://wsl%2Bubuntu/mnt/d/University/Applied%20Datascience/generic-buy-now-pay-later-project-group-3/notebooks/Ranking_System_P2_Functions.ipynb#X53sdnNjb2RlLXJlbW90ZQ%3D%3D?line=1'>2</a>\u001b[0m plt\u001b[39m.\u001b[39mtitle(\u001b[39m'\u001b[39m\u001b[39mThe Profit of a given set of Companies\u001b[39m\u001b[39m'\u001b[39m)\n\u001b[1;32m      <a href='vscode-notebook-cell://wsl%2Bubuntu/mnt/d/University/Applied%20Datascience/generic-buy-now-pay-later-project-group-3/notebooks/Ranking_System_P2_Functions.ipynb#X53sdnNjb2RlLXJlbW90ZQ%3D%3D?line=2'>3</a>\u001b[0m plt\u001b[39m.\u001b[39mxlabel(\u001b[39m'\u001b[39m\u001b[39mThe list of Top 600 Companies\u001b[39m\u001b[39m'\u001b[39m)\n",
      "\u001b[0;31mNameError\u001b[0m: name 'sns' is not defined"
     ]
    }
   ],
   "source": [
    "sns.barplot(x=['Top 100 Companies', 'Next 500 Companies'],y=[2.5433, 1.993978], palette= sns.color_palette(\"cool\"))\n",
    "plt.title('The Profit of a given set of Companies')\n",
    "plt.xlabel('The list of Top 600 Companies')\n",
    "plt.ylabel('Total BNPL Revenue for Company set ($ in Thousands)')"
   ]
  },
  {
   "cell_type": "markdown",
   "metadata": {},
   "source": [
    "# Distribution of scores\n"
   ]
  },
  {
   "cell_type": "code",
   "execution_count": null,
   "metadata": {},
   "outputs": [
    {
     "data": {
      "text/plain": [
       "<AxesSubplot:xlabel='Customer_score'>"
      ]
     },
     "execution_count": 241,
     "metadata": {},
     "output_type": "execute_result"
    },
    {
     "data": {
      "image/png": "[encoded data removed]",
      "text/plain": [
       "<Figure size 432x288 with 1 Axes>"
      ]
     },
     "metadata": {
      "needs_background": "light"
     },
     "output_type": "display_data"
    }
   ],
   "source": [
    "sns.violinplot(x='Customer_score', data=Full_scores.toPandas())"
   ]
  },
  {
   "cell_type": "code",
   "execution_count": null,
   "metadata": {},
   "outputs": [
    {
     "data": {
      "text/plain": [
       "Text(0, 0.5, 'Distribution (Between 0 & 1)')"
      ]
     },
     "execution_count": 18,
     "metadata": {},
     "output_type": "execute_result"
    },
    {
     "data": {
      "image/png": "[encoded data removed]",
      "text/plain": [
       "<Figure size 432x288 with 1 Axes>"
      ]
     },
     "metadata": {
      "needs_background": "light"
     },
     "output_type": "display_data"
    }
   ],
   "source": [
    "Full_scores = Full_scores.withColumnRenamed('Merchant_score', 'Sustainability_score')\n",
    "sns.violinplot(data=Full_scores.select('Customer_score', 'Revenue_score', 'Sustainability_score').toPandas())\n",
    "plt.title('Distribution of Ranking Metrics')\n",
    "plt.xlabel('Metric')\n",
    "plt.ylabel('Distribution (Between 0 & 1)')\n"
   ]
  },
  {
   "cell_type": "markdown",
   "metadata": {},
   "source": [
    "# Top 10"
   ]
  },
  {
   "cell_type": "code",
   "execution_count": null,
   "metadata": {},
   "outputs": [],
   "source": [
    "top_100_pd = top_100.orderBy('total').limit(10)"
   ]
  },
  {
   "cell_type": "code",
   "execution_count": null,
   "metadata": {},
   "outputs": [
    {
     "name": "stderr",
     "output_type": "stream",
     "text": [
      "                                                                                \r"
     ]
    }
   ],
   "source": [
    "top_100_pd = top_100_pd.toPandas()"
   ]
  },
  {
   "cell_type": "code",
   "execution_count": null,
   "metadata": {},
   "outputs": [
    {
     "data": {
      "text/html": [
       "<div>\n",
       "<style scoped>\n",
       "    .dataframe tbody tr th:only-of-type {\n",
       "        vertical-align: middle;\n",
       "    }\n",
       "\n",
       "    .dataframe tbody tr th {\n",
       "        vertical-align: top;\n",
       "    }\n",
       "\n",
       "    .dataframe thead th {\n",
       "        text-align: right;\n",
       "    }\n",
       "</style>\n",
       "<table border=\"1\" class=\"dataframe\">\n",
       "  <thead>\n",
       "    <tr style=\"text-align: right;\">\n",
       "      <th></th>\n",
       "      <th>merchant_abn</th>\n",
       "      <th>Customer_score</th>\n",
       "      <th>Revenue_score</th>\n",
       "      <th>Merchant_score</th>\n",
       "      <th>total</th>\n",
       "      <th>sector</th>\n",
       "    </tr>\n",
       "  </thead>\n",
       "  <tbody>\n",
       "    <tr>\n",
       "      <th>0</th>\n",
       "      <td>24852446429</td>\n",
       "      <td>0.000000</td>\n",
       "      <td>0.206028</td>\n",
       "      <td>0.204711</td>\n",
       "      <td>0.410739</td>\n",
       "      <td>Administrative_Support_Services</td>\n",
       "    </tr>\n",
       "    <tr>\n",
       "      <th>1</th>\n",
       "      <td>43186523025</td>\n",
       "      <td>0.093969</td>\n",
       "      <td>0.077551</td>\n",
       "      <td>0.247475</td>\n",
       "      <td>0.418995</td>\n",
       "      <td>Administrative_Support_Services</td>\n",
       "    </tr>\n",
       "    <tr>\n",
       "      <th>2</th>\n",
       "      <td>86578477987</td>\n",
       "      <td>0.002165</td>\n",
       "      <td>0.000799</td>\n",
       "      <td>0.666151</td>\n",
       "      <td>0.669114</td>\n",
       "      <td>Personal_Services</td>\n",
       "    </tr>\n",
       "    <tr>\n",
       "      <th>3</th>\n",
       "      <td>45629217853</td>\n",
       "      <td>0.062840</td>\n",
       "      <td>0.004821</td>\n",
       "      <td>0.684570</td>\n",
       "      <td>0.752231</td>\n",
       "      <td>Personal_Services</td>\n",
       "    </tr>\n",
       "    <tr>\n",
       "      <th>4</th>\n",
       "      <td>89726005175</td>\n",
       "      <td>0.071851</td>\n",
       "      <td>0.018109</td>\n",
       "      <td>0.693644</td>\n",
       "      <td>0.783605</td>\n",
       "      <td>Personal_Services</td>\n",
       "    </tr>\n",
       "    <tr>\n",
       "      <th>5</th>\n",
       "      <td>49891706470</td>\n",
       "      <td>0.058646</td>\n",
       "      <td>0.070159</td>\n",
       "      <td>0.674258</td>\n",
       "      <td>0.803063</td>\n",
       "      <td>Personal_Services</td>\n",
       "    </tr>\n",
       "    <tr>\n",
       "      <th>6</th>\n",
       "      <td>21439773999</td>\n",
       "      <td>0.242242</td>\n",
       "      <td>0.009179</td>\n",
       "      <td>0.626347</td>\n",
       "      <td>0.877769</td>\n",
       "      <td>Information_Media_Telecommunications</td>\n",
       "    </tr>\n",
       "    <tr>\n",
       "      <th>7</th>\n",
       "      <td>63290521567</td>\n",
       "      <td>0.198028</td>\n",
       "      <td>0.178919</td>\n",
       "      <td>0.539175</td>\n",
       "      <td>0.916122</td>\n",
       "      <td>Information_Media_Telecommunications</td>\n",
       "    </tr>\n",
       "    <tr>\n",
       "      <th>8</th>\n",
       "      <td>68216911708</td>\n",
       "      <td>0.157675</td>\n",
       "      <td>0.257834</td>\n",
       "      <td>0.540582</td>\n",
       "      <td>0.956090</td>\n",
       "      <td>Information_Media_Telecommunications</td>\n",
       "    </tr>\n",
       "    <tr>\n",
       "      <th>9</th>\n",
       "      <td>64203420245</td>\n",
       "      <td>0.038321</td>\n",
       "      <td>0.252930</td>\n",
       "      <td>0.668789</td>\n",
       "      <td>0.960040</td>\n",
       "      <td>Personal_Services</td>\n",
       "    </tr>\n",
       "  </tbody>\n",
       "</table>\n",
       "</div>"
      ],
      "text/plain": [
       "   merchant_abn  Customer_score  Revenue_score  Merchant_score     total  \\\n",
       "0   24852446429        0.000000       0.206028        0.204711  0.410739   \n",
       "1   43186523025        0.093969       0.077551        0.247475  0.418995   \n",
       "2   86578477987        0.002165       0.000799        0.666151  0.669114   \n",
       "3   45629217853        0.062840       0.004821        0.684570  0.752231   \n",
       "4   89726005175        0.071851       0.018109        0.693644  0.783605   \n",
       "5   49891706470        0.058646       0.070159        0.674258  0.803063   \n",
       "6   21439773999        0.242242       0.009179        0.626347  0.877769   \n",
       "7   63290521567        0.198028       0.178919        0.539175  0.916122   \n",
       "8   68216911708        0.157675       0.257834        0.540582  0.956090   \n",
       "9   64203420245        0.038321       0.252930        0.668789  0.960040   \n",
       "\n",
       "                                 sector  \n",
       "0       Administrative_Support_Services  \n",
       "1       Administrative_Support_Services  \n",
       "2                     Personal_Services  \n",
       "3                     Personal_Services  \n",
       "4                     Personal_Services  \n",
       "5                     Personal_Services  \n",
       "6  Information_Media_Telecommunications  \n",
       "7  Information_Media_Telecommunications  \n",
       "8  Information_Media_Telecommunications  \n",
       "9                     Personal_Services  "
      ]
     },
     "execution_count": 252,
     "metadata": {},
     "output_type": "execute_result"
    }
   ],
   "source": [
    "top_100_pd = top_100_pd.sort_values(by='total')"
   ]
  },
  {
   "cell_type": "code",
   "execution_count": null,
   "metadata": {},
   "outputs": [
    {
     "data": {
      "text/plain": [
       "[Text(0, 0.5, 'Ranking Score')]"
      ]
     },
     "execution_count": 265,
     "metadata": {},
     "output_type": "execute_result"
    },
    {
     "data": {
      "image/png": "[encoded data removed]",
      "text/plain": [
       "<Figure size 432x288 with 1 Axes>"
      ]
     },
     "metadata": {
      "needs_background": "light"
     },
     "output_type": "display_data"
    }
   ],
   "source": [
    "plot_order = top_100_pd.sort_values(by='total').merchant_abn.values\n",
    "plot = sns.barplot(x='merchant_abn', y='total', hue='sector', data=top_100_pd, order=plot_order)\n",
    "plot.set(xticklabels=[])\n",
    "plot.set(title='Top 10 Ranked Merchants')\n",
    "plot.set(xlabel='Merchant')\n",
    "plot.set(ylabel='Ranking Score')\n"
   ]
  }
 ],
 "metadata": {
  "kernelspec": {
   "display_name": "Python 3.8.10 64-bit",
   "language": "python",
   "name": "python3"
  },
  "language_info": {
   "codemirror_mode": {
    "name": "ipython",
    "version": 3
   },
   "file_extension": ".py",
   "mimetype": "text/x-python",
   "name": "python",
   "nbconvert_exporter": "python",
   "pygments_lexer": "ipython3",
   "version": "3.8.10"
  },
  "orig_nbformat": 4,
  "vscode": {
   "interpreter": {
    "hash": "31f2aee4e71d21fbe5cf8b01ff0e069b9275f58929596ceb00d14d90e3e16cd6"
   }
  }
 },
 "nbformat": 4,
 "nbformat_minor": 2
}
