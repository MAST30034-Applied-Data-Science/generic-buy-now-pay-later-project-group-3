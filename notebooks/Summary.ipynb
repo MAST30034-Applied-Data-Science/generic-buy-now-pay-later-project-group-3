{
 "cells": [
  {
   "cell_type": "markdown",
   "metadata": {},
   "source": [
    "# Summary of Analysis"
   ]
  },
  {
   "cell_type": "code",
   "execution_count": 11,
   "metadata": {},
   "outputs": [],
   "source": [
    "# Open Spark session \n",
    "from pyspark.sql import SparkSession, functions as F\n",
    "\n",
    "\n",
    "# Create a spark session (which will run spark jobs)\n",
    "spark = (\n",
    "    SparkSession.builder.appName(\"Data_Explorer\")\n",
    "    .config(\"spark.sql.repl.eagerEval.enabled\", True) \n",
    "    .config(\"spark.sql.parquet.cacheMetadata\", \"true\")\n",
    "    .config(\"spark.driver.memory\", \"4g\")\n",
    "    .getOrCreate()\n",
    ")"
   ]
  },
  {
   "cell_type": "code",
   "execution_count": 12,
   "metadata": {},
   "outputs": [],
   "source": [
    "import pandas as pd\n",
    "import re"
   ]
  },
  {
   "cell_type": "markdown",
   "metadata": {},
   "source": [
    "# Reading raw data\n"
   ]
  },
  {
   "cell_type": "code",
   "execution_count": 13,
   "metadata": {},
   "outputs": [
    {
     "name": "stderr",
     "output_type": "stream",
     "text": [
      "                                                                                \r"
     ]
    }
   ],
   "source": [
    "#read internal tables\n",
    "\n",
    "#dataframes: transaction_sample, merchants_tbl, customer_tbl  \n",
    "\n",
    "transactions_sample = spark.read.parquet('../data/tables/transactions_20210828_20220227_snapshot')\n",
    "transactions_sample2 = spark.read.parquet('../data/tables/transactions_20210228_20210827_snapshot')\n",
    "transactions_sample3 = spark.read.parquet('../data/tables/transactions_20220228_20220828_snapshot')\n",
    "transactions_sample = transactions_sample.unionByName(transactions_sample2, True)\n",
    "transactions_sample = transactions_sample.unionByName(transactions_sample3, True)\n",
    "consumer_details = spark.read.parquet('../data/tables/consumer_user_details.parquet')\n",
    "merchants_tbl = spark.read.parquet('../data/tables/tbl_merchants.parquet')\n",
    "customer_tbl = spark.read.option(\"delimiter\", \"|\").option(\"header\",True).csv('../data/tables/tbl_consumer.csv')"
   ]
  },
  {
   "cell_type": "markdown",
   "metadata": {},
   "source": [
    "# parse \"tag\" of merchants"
   ]
  },
  {
   "cell_type": "code",
   "execution_count": 14,
   "metadata": {},
   "outputs": [],
   "source": [
    "merchants_pd = merchants_tbl.toPandas()\n",
    "# this function standardises the tags attribute, creating a list with the 'description', 'revenue band' and 'BNPL service charge'\n",
    "def tag_extract(tag_string): \n",
    "    # first need to preprocess\n",
    "    string =  re.sub('\\[','(', tag_string.lower())\n",
    "    string = re.sub('\\]',')', string)\n",
    "    # break the string into sections\n",
    "    string_cut = string.split('),')\n",
    "    new_string = []\n",
    "    # first extract the description \n",
    "    new_string.append(str(string_cut[0].strip('((')))\n",
    "    # second extract the band\n",
    "    new_string.append(str(re.search(r'[a-z]',string_cut[1]).group()))\n",
    "    # finally the take rate\n",
    "    new_string.append(float(re.search(r'[0-9]+\\.[0-9]+',string_cut[2]).group()))\n",
    "    return(new_string)\n",
    "################\n",
    "# now we can run the algorithm\n",
    "tags = merchants_pd['tags']\n",
    "processed_tags = []\n",
    "for i in tags:\n",
    "    processed_tags.append(tag_extract(i))"
   ]
  },
  {
   "cell_type": "code",
   "execution_count": 15,
   "metadata": {},
   "outputs": [],
   "source": [
    "merchant_tag= pd.DataFrame(processed_tags, columns=('Description', 'Earnings_Class', 'BNPL_Fee'))\n",
    "merchants_pd = pd.concat([merchants_pd, merchant_tag], axis=1)\n",
    "# drop the tags column \n",
    "merchants_pd.drop(columns='tags', inplace=True)\n",
    "\n",
    "# and convert back to spark dataframe \n",
    "merchants_tbl = spark.createDataFrame(merchants_pd)"
   ]
  },
  {
   "cell_type": "markdown",
   "metadata": {},
   "source": [
    "# Join all the internal datasets"
   ]
  },
  {
   "cell_type": "code",
   "execution_count": 16,
   "metadata": {},
   "outputs": [
    {
     "name": "stdout",
     "output_type": "stream",
     "text": [
      "root\n",
      " |-- merchant_abn: long (nullable = true)\n",
      " |-- user_id: long (nullable = true)\n",
      " |-- dollar_value: double (nullable = true)\n",
      " |-- order_id: string (nullable = true)\n",
      " |-- order_datetime: date (nullable = true)\n",
      " |-- consumer_id: string (nullable = true)\n",
      " |-- name: string (nullable = true)\n",
      " |-- address: string (nullable = true)\n",
      " |-- state: string (nullable = true)\n",
      " |-- postcode: string (nullable = true)\n",
      " |-- gender: string (nullable = true)\n",
      " |-- company_name: string (nullable = true)\n",
      " |-- Description: string (nullable = true)\n",
      " |-- Earnings_Class: string (nullable = true)\n",
      " |-- BNPL_Fee: double (nullable = true)\n",
      "\n"
     ]
    }
   ],
   "source": [
    "# First lets look at the number of registered customers and merchants without any data in the dataset\n",
    "customer_tbl = customer_tbl.join(consumer_details, ['consumer_id'])\n",
    "full_dataset = transactions_sample.join(customer_tbl, on = ['user_id'])\n",
    "merchants_tbl = merchants_tbl.withColumnRenamed('name','company_name')\n",
    "full_dataset = full_dataset.join(merchants_tbl, ['merchant_abn'])\n",
    "full_dataset.createOrReplaceTempView('full')\n",
    "full_dataset.printSchema()\n"
   ]
  },
  {
   "cell_type": "code",
   "execution_count": 17,
   "metadata": {},
   "outputs": [],
   "source": [
    "# lets add a day (mon,...), weekly & monthly attribute\n",
    "import pyspark.sql.functions as F\n",
    "full_dataset = full_dataset.withColumn('Day', F.dayofweek('order_datetime'))\n",
    "full_dataset = full_dataset.withColumn('Month', F.month('order_datetime'))\n",
    "# now we can also add the bnpl revenue from a transaction \n",
    "full_dataset = full_dataset.withColumn('BNPL_Revenue', F.col('dollar_value') * 0.01 * F.col('BNPL_Fee'))\n",
    "full_dataset.createOrReplaceTempView('data')\n",
    "# we can remove name, location and customerID for now, due to being unnnesesary attributes (although company_name could also be removed)\n",
    "full_dataset = spark.sql(\"\"\"\n",
    "select merchant_abn, user_id, dollar_value, order_id, order_datetime, state, postcode, gender, company_name, \n",
    "        Description, Earnings_Class, BNPL_Fee, BNPL_Revenue, Day, Month, weekofyear(order_datetime) as weekofyear from data\n",
    "\"\"\")"
   ]
  },
  {
   "cell_type": "code",
   "execution_count": 18,
   "metadata": {},
   "outputs": [
    {
     "name": "stderr",
     "output_type": "stream",
     "text": [
      "[Stage 73:=====================================================>  (25 + 1) / 26]\r"
     ]
    },
    {
     "name": "stdout",
     "output_type": "stream",
     "text": [
      "Joined count: 13614675, raw count: 14195505, difference 580830 or 4.09%\n"
     ]
    },
    {
     "name": "stderr",
     "output_type": "stream",
     "text": [
      "                                                                                \r"
     ]
    }
   ],
   "source": [
    "# Compare difference in records between joined table and raw data\n",
    "full = full_dataset.count()\n",
    "raw = transactions_sample.count()\n",
    "print(f'Joined count: {full}, raw count: {raw}, difference {raw - full} or {round(100 * ((raw - full) / raw), 2)}%')"
   ]
  },
  {
   "cell_type": "markdown",
   "metadata": {},
   "source": [
    "# number of transactions without valid merchants abns in the merchants table"
   ]
  },
  {
   "cell_type": "code",
   "execution_count": 19,
   "metadata": {},
   "outputs": [
    {
     "name": "stdout",
     "output_type": "stream",
     "text": [
      "the number of transactions without valid merchants abns in the merchants table: \n"
     ]
    },
    {
     "name": "stderr",
     "output_type": "stream",
     "text": [
      "                                                                                \r"
     ]
    },
    {
     "name": "stdout",
     "output_type": "stream",
     "text": [
      "580830\n",
      "percentage of all transactions:\n"
     ]
    },
    {
     "name": "stderr",
     "output_type": "stream",
     "text": [
      "[Stage 84:=====================================================>  (25 + 1) / 26]\r"
     ]
    },
    {
     "name": "stdout",
     "output_type": "stream",
     "text": [
      "0.040916473207539994\n"
     ]
    },
    {
     "name": "stderr",
     "output_type": "stream",
     "text": [
      "                                                                                \r"
     ]
    }
   ],
   "source": [
    "# First lets look at the number of transactions without valid merchants abns in the merchants table\n",
    "merchants_tbl.createOrReplaceTempView('merchants')\n",
    "customer_tbl.createOrReplaceTempView('consumer')\n",
    "transactions_sample.createOrReplaceTempView('trans')\n",
    "missing = spark.sql(\"\"\"\n",
    "select count(*) from trans\n",
    "where trans.merchant_abn not in (select merchant_abn from merchants)\n",
    "\"\"\")\n",
    "print(\"the number of transactions without valid merchants abns in the merchants table: \")\n",
    "print(missing.head()[0])\n",
    "\n",
    "print(\"percentage of all transactions:\")\n",
    "print(missing.head()[0]/transactions_sample.count())"
   ]
  },
  {
   "cell_type": "code",
   "execution_count": null,
   "metadata": {},
   "outputs": [],
   "source": [
    "real_full_dataset = spark.read."
   ]
  },
  {
   "cell_type": "markdown",
   "metadata": {},
   "source": [
    "# Key finding 1 - Quantity vs Quality"
   ]
  },
  {
   "cell_type": "code",
   "execution_count": 21,
   "metadata": {},
   "outputs": [
    {
     "name": "stderr",
     "output_type": "stream",
     "text": [
      "                                                                                \r"
     ]
    },
    {
     "data": {
      "text/html": [
       "<table border='1'>\n",
       "<tr><th>merchant_abn</th><th>user_id</th><th>dollar_value</th><th>order_id</th><th>order_datetime</th><th>state</th><th>postcode</th><th>gender</th><th>company_name</th><th>Description</th><th>Earnings_Class</th><th>BNPL_Fee</th><th>BNPL_Revenue</th><th>Day</th><th>Month</th><th>weekofyear</th></tr>\n",
       "<tr><td>71041015148</td><td>7</td><td>226.70111326425848</td><td>ba1c3c0b-6143-49c...</td><td>2021-11-26</td><td>QLD</td><td>4606</td><td>Female</td><td>Orci Ltd</td><td>digital goods: bo...</td><td>c</td><td>2.19</td><td>4.964754380487261</td><td>6</td><td>11</td><td>47</td></tr>\n",
       "<tr><td>14492521225</td><td>7</td><td>28.69248621050033</td><td>c82c2951-6a2c-4bf...</td><td>2021-11-26</td><td>QLD</td><td>4606</td><td>Female</td><td>Praesent Eu Assoc...</td><td>tent and awning s...</td><td>c</td><td>2.5</td><td>0.7173121552625082</td><td>6</td><td>11</td><td>47</td></tr>\n",
       "<tr><td>68004106739</td><td>7</td><td>93.96901941736229</td><td>40d71489-2203-485...</td><td>2021-11-26</td><td>QLD</td><td>4606</td><td>Female</td><td>Nec Ante Ltd</td><td>cable, satellite,...</td><td>a</td><td>5.61</td><td>5.271661989314024</td><td>6</td><td>11</td><td>47</td></tr>\n",
       "<tr><td>34096466752</td><td>7</td><td>92.43454448910457</td><td>293dc228-8398-49f...</td><td>2021-11-29</td><td>QLD</td><td>4606</td><td>Female</td><td>Nullam Enim Ltd</td><td>computers, comput...</td><td>b</td><td>3.22</td><td>2.976392332549167</td><td>2</td><td>11</td><td>48</td></tr>\n",
       "<tr><td>62773208456</td><td>7</td><td>24.606053328805864</td><td>918d63ec-d125-43b...</td><td>2021-11-29</td><td>QLD</td><td>4606</td><td>Female</td><td>Ac Institute</td><td>watch, clock, and...</td><td>c</td><td>2.62</td><td>0.6446785972147137</td><td>2</td><td>11</td><td>48</td></tr>\n",
       "<tr><td>67874735704</td><td>7</td><td>871.400942067755</td><td>0dc0a909-7b11-423...</td><td>2021-11-29</td><td>QLD</td><td>4606</td><td>Female</td><td>Ultricies Adipisc...</td><td>florists supplies...</td><td>c</td><td>2.04</td><td>17.776579218182203</td><td>2</td><td>11</td><td>48</td></tr>\n",
       "<tr><td>36125151647</td><td>7</td><td>22.37653874205458</td><td>ebd96051-41c5-44d...</td><td>2021-11-29</td><td>QLD</td><td>4606</td><td>Female</td><td>Sed Nec Corp.</td><td>hobby, toy and ga...</td><td>c</td><td>1.83</td><td>0.4094906589795989</td><td>2</td><td>11</td><td>48</td></tr>\n",
       "<tr><td>86578477987</td><td>7</td><td>14.932370248640328</td><td>b13248d9-3c6d-4b0...</td><td>2021-11-29</td><td>QLD</td><td>4606</td><td>Female</td><td>Leo In Consulting</td><td>watch, clock, and...</td><td>a</td><td>6.43</td><td>0.9601514069875731</td><td>2</td><td>11</td><td>48</td></tr>\n",
       "<tr><td>48534649627</td><td>7</td><td>16.362338872391526</td><td>96a5d5f4-2f24-4c9...</td><td>2021-11-29</td><td>QLD</td><td>4606</td><td>Female</td><td>Dignissim Maecena...</td><td>opticians, optica...</td><td>a</td><td>6.64</td><td>1.0864593011267973</td><td>2</td><td>11</td><td>48</td></tr>\n",
       "<tr><td>76767266140</td><td>7</td><td>144.7959046161148</td><td>734de9e3-dcc1-4da...</td><td>2021-11-29</td><td>QLD</td><td>4606</td><td>Female</td><td>Phasellus At Limited</td><td>furniture, home f...</td><td>b</td><td>4.65</td><td>6.733009564649339</td><td>2</td><td>11</td><td>48</td></tr>\n",
       "</table>\n"
      ],
      "text/plain": [
       "+------------+-------+------------------+--------------------+--------------+-----+--------+------+--------------------+--------------------+--------------+--------+------------------+---+-----+----------+\n",
       "|merchant_abn|user_id|      dollar_value|            order_id|order_datetime|state|postcode|gender|        company_name|         Description|Earnings_Class|BNPL_Fee|      BNPL_Revenue|Day|Month|weekofyear|\n",
       "+------------+-------+------------------+--------------------+--------------+-----+--------+------+--------------------+--------------------+--------------+--------+------------------+---+-----+----------+\n",
       "| 71041015148|      7|226.70111326425848|ba1c3c0b-6143-49c...|    2021-11-26|  QLD|    4606|Female|            Orci Ltd|digital goods: bo...|             c|    2.19| 4.964754380487261|  6|   11|        47|\n",
       "| 14492521225|      7| 28.69248621050033|c82c2951-6a2c-4bf...|    2021-11-26|  QLD|    4606|Female|Praesent Eu Assoc...|tent and awning s...|             c|     2.5|0.7173121552625082|  6|   11|        47|\n",
       "| 68004106739|      7| 93.96901941736229|40d71489-2203-485...|    2021-11-26|  QLD|    4606|Female|        Nec Ante Ltd|cable, satellite,...|             a|    5.61| 5.271661989314024|  6|   11|        47|\n",
       "| 34096466752|      7| 92.43454448910457|293dc228-8398-49f...|    2021-11-29|  QLD|    4606|Female|     Nullam Enim Ltd|computers, comput...|             b|    3.22| 2.976392332549167|  2|   11|        48|\n",
       "| 62773208456|      7|24.606053328805864|918d63ec-d125-43b...|    2021-11-29|  QLD|    4606|Female|        Ac Institute|watch, clock, and...|             c|    2.62|0.6446785972147137|  2|   11|        48|\n",
       "| 67874735704|      7|  871.400942067755|0dc0a909-7b11-423...|    2021-11-29|  QLD|    4606|Female|Ultricies Adipisc...|florists supplies...|             c|    2.04|17.776579218182203|  2|   11|        48|\n",
       "| 36125151647|      7| 22.37653874205458|ebd96051-41c5-44d...|    2021-11-29|  QLD|    4606|Female|       Sed Nec Corp.|hobby, toy and ga...|             c|    1.83|0.4094906589795989|  2|   11|        48|\n",
       "| 86578477987|      7|14.932370248640328|b13248d9-3c6d-4b0...|    2021-11-29|  QLD|    4606|Female|   Leo In Consulting|watch, clock, and...|             a|    6.43|0.9601514069875731|  2|   11|        48|\n",
       "| 48534649627|      7|16.362338872391526|96a5d5f4-2f24-4c9...|    2021-11-29|  QLD|    4606|Female|Dignissim Maecena...|opticians, optica...|             a|    6.64|1.0864593011267973|  2|   11|        48|\n",
       "| 76767266140|      7| 144.7959046161148|734de9e3-dcc1-4da...|    2021-11-29|  QLD|    4606|Female|Phasellus At Limited|furniture, home f...|             b|    4.65| 6.733009564649339|  2|   11|        48|\n",
       "+------------+-------+------------------+--------------------+--------------+-----+--------+------+--------------------+--------------------+--------------+--------+------------------+---+-----+----------+"
      ]
     },
     "execution_count": 21,
     "metadata": {},
     "output_type": "execute_result"
    }
   ],
   "source": [
    "full_dataset.limit(10)"
   ]
  },
  {
   "cell_type": "code",
   "execution_count": 28,
   "metadata": {},
   "outputs": [],
   "source": [
    "merchant_BNPL_revenue = full_dataset.groupby('merchant_abn').agg(F.round(F.sum('BNPL_Revenue'), 2).alias('Total_BNPL_Revenue'), \n",
    "                                                                 F.avg('BNPL_Revenue').alias('Average_BNPL_Revenue'), \n",
    "                                                                 F.count('BNPL_Revenue').alias('Total_Transactions'),\n",
    "                                                                 F.round(F.sum('dollar_value'), 2).alias('Total_Dollar_Revenue'),\n",
    "                                                                 F.avg('dollar_value').alias('Average_Dollar_Revenue'),\n",
    "                                                                 F.countDistinct('user_id').alias('unique_users'),\n",
    "                                                                 F.avg('BNPL_Fee').alias('BNPL_Fee'), \n",
    "                                                                 F.avg('')\n",
    "                                                                 )"
   ]
  },
  {
   "cell_type": "code",
   "execution_count": 31,
   "metadata": {},
   "outputs": [
    {
     "name": "stderr",
     "output_type": "stream",
     "text": [
      "                                                                                \r"
     ]
    }
   ],
   "source": [
    "from pyspark.ml.stat import Correlation\n",
    "from pyspark.ml.feature import VectorAssembler\n",
    "\n",
    "# convert to vector column first\n",
    "vector_col = \"corr_features\"\n",
    "assembler = VectorAssembler(inputCols=merchant_BNPL_revenue.columns, outputCol=vector_col)\n",
    "df_vector = assembler.transform(merchant_BNPL_revenue).select(vector_col)\n",
    "\n",
    "# get correlation matrix\n",
    "matrix = Correlation.corr(df_vector, vector_col)\n",
    "matrix = Correlation.corr(df_vector, vector_col).collect()[0][0] \n",
    "corr_matrix = matrix.toArray().tolist() \n",
    "corr_matrix_df = pd.DataFrame(data=corr_matrix, columns = merchant_BNPL_revenue.columns, index=merchant_BNPL_revenue.columns) "
   ]
  },
  {
   "cell_type": "code",
   "execution_count": 32,
   "metadata": {},
   "outputs": [
    {
     "data": {
      "text/plain": [
       "<AxesSubplot:>"
      ]
     },
     "execution_count": 32,
     "metadata": {},
     "output_type": "execute_result"
    },
    {
     "data": {
      "image/png": "[encoded data removed]",
      "text/plain": [
       "<Figure size 1152x360 with 2 Axes>"
      ]
     },
     "metadata": {
      "needs_background": "light"
     },
     "output_type": "display_data"
    }
   ],
   "source": [
    "import seaborn as sns \n",
    "import matplotlib.pyplot as plt\n",
    "\n",
    "plt.figure(figsize=(16,5))  \n",
    "sns.heatmap(corr_matrix_df, \n",
    "            xticklabels=corr_matrix_df.columns.values,\n",
    "            yticklabels=corr_matrix_df.columns.values,  cmap=\"Greens\", annot=True)"
   ]
  }
 ],
 "metadata": {
  "kernelspec": {
   "display_name": "Python 3.8.10 64-bit",
   "language": "python",
   "name": "python3"
  },
  "language_info": {
   "codemirror_mode": {
    "name": "ipython",
    "version": 3
   },
   "file_extension": ".py",
   "mimetype": "text/x-python",
   "name": "python",
   "nbconvert_exporter": "python",
   "pygments_lexer": "ipython3",
   "version": "3.8.10"
  },
  "orig_nbformat": 4,
  "vscode": {
   "interpreter": {
    "hash": "916dbcbb3f70747c44a77c7bcd40155683ae19c65e1c03b4aa3499c5328201f1"
   }
  }
 },
 "nbformat": 4,
 "nbformat_minor": 2
}
