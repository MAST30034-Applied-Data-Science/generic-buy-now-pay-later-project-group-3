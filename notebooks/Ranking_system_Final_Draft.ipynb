{
 "cells": [
  {
   "cell_type": "markdown",
   "metadata": {},
   "source": [
    "# Merchant Ranking Algorith\n",
    "The method of ranking each merchant, will take inspiration from the methods proposed in (https://sapinsider.org/leveraging-analytical-method-for-ranking-suppliers/), in which we rank each key attribute out of 5, then sum them together with weightsget a score for each merchant. \n",
    "\n",
    "The Key Attributes for now are: \n",
    "- Revenue\n",
    "- Customer_Base \n",
    "- Sustainability\n",
    "- Envirnment"
   ]
  },
  {
   "cell_type": "code",
   "execution_count": 1,
   "metadata": {},
   "outputs": [
    {
     "name": "stdout",
     "output_type": "stream",
     "text": [
      "22/10/09 18:23:16 WARN Utils: Your hostname, James-N580VD-DM229T resolves to a loopback address: 127.0.1.1; using 172.27.222.213 instead (on interface eth0)\n",
      "22/10/09 18:23:16 WARN Utils: Set SPARK_LOCAL_IP if you need to bind to another address\n"
     ]
    },
    {
     "name": "stderr",
     "output_type": "stream",
     "text": [
      "Setting default log level to \"WARN\".\n",
      "To adjust logging level use sc.setLogLevel(newLevel). For SparkR, use setLogLevel(newLevel).\n"
     ]
    },
    {
     "name": "stdout",
     "output_type": "stream",
     "text": [
      "22/10/09 18:23:18 WARN NativeCodeLoader: Unable to load native-hadoop library for your platform... using builtin-java classes where applicable\n",
      "22/10/09 18:23:19 WARN Utils: Service 'SparkUI' could not bind on port 4040. Attempting port 4041.\n"
     ]
    }
   ],
   "source": [
    "from pyspark.sql import SparkSession, functions as F\n",
    "from pyspark.ml import feature as H\n",
    "# First lets reed the datasets\n",
    "spark = (\n",
    "    SparkSession.builder.appName(\"Data_Explorer\")\n",
    "    .config(\"spark.sql.repl.eagerEval.enabled\", True) \n",
    "    .config(\"spark.sql.parquet.cacheMetadata\", \"true\")\n",
    "    .config(\"spark.sql.session.timeZone\", \"Etc/UTC\")\n",
    "    .config(\"spark.driver.memory\", \"4g\")\n",
    "    .getOrCreate()\n",
    ")"
   ]
  },
  {
   "cell_type": "code",
   "execution_count": 2,
   "metadata": {},
   "outputs": [
    {
     "name": "stderr",
     "output_type": "stream",
     "text": [
      "                                                                                \r"
     ]
    }
   ],
   "source": [
    "# Read the datasets \n",
    "transactions = spark.read.parquet('../data/processed/transactions')\n",
    "merchants =  spark.read.parquet('../data/processed/merchants/')\n",
    "full_dataset = spark.read.parquet('../data/curated/full_dataset/')\n",
    "final_data_collection = merchants.select('merchant_abn')\n",
    "fraud_probabilities = spark.read.parquet('../models/random_forest_output_full/')\n",
    "fraud_probabilities = fraud_probabilities.select('merchant_abn', 'user_id', 'order_datetime', 'prediction')"
   ]
  },
  {
   "cell_type": "code",
   "execution_count": 3,
   "metadata": {},
   "outputs": [],
   "source": [
    "# Define our scaliong function\n",
    "def feature_standardisation(colums, dataset): \n",
    "    for col_name in colums:\n",
    "        values = dataset.select(F.max(col_name).alias('high'), F.min(col_name).alias('low'))\n",
    "        dataset = dataset.withColumn(col_name, F.round((F.col(col_name) - values.select('low').head()[0]) / (values.select('high').head()[0] - values.select('low').head()[0]), 4))\n",
    "        return dataset"
   ]
  },
  {
   "cell_type": "markdown",
   "metadata": {},
   "source": [
    "# Concerns\n",
    "Just stuff i came across whilst implementing"
   ]
  },
  {
   "cell_type": "code",
   "execution_count": 4,
   "metadata": {},
   "outputs": [
    {
     "name": "stderr",
     "output_type": "stream",
     "text": [
      "                                                                                \r"
     ]
    },
    {
     "data": {
      "text/plain": [
       "<AxesSubplot:xlabel='dollar_value', ylabel='Count'>"
      ]
     },
     "execution_count": 4,
     "metadata": {},
     "output_type": "execute_result"
    },
    {
     "data": {
      "image/png": "[encoded data removed]",
      "text/plain": [
       "<Figure size 432x288 with 1 Axes>"
      ]
     },
     "metadata": {
      "needs_background": "light"
     },
     "output_type": "display_data"
    }
   ],
   "source": [
    "# Case: if we use a cut-off point for the fraud probability, and minus the dollar_value of 'fraud' transactions\n",
    "concern1 = transactions.where(F.col('merchant_abn') == 83412691377).select('Potential_Outlier', 'dollar_value').toPandas()\n",
    "import seaborn as sns\n",
    "sns.histplot(x='dollar_value', hue='Potential_Outlier', data=concern1)\n",
    "# From counting the total revenue for each merchant using such method, I found that some have negative ones (but just using outlier_attr).\n",
    "# However, due to most outluiers being larger than the mean, minusing it results in devestating loss to revenue, which is to consider"
   ]
  },
  {
   "cell_type": "markdown",
   "metadata": {},
   "source": [
    "# 1. Tansaction_Revenue\n",
    "For this we will look into:\n",
    "- Renevue (Recent)\n",
    "- Projected Revenue "
   ]
  },
  {
   "cell_type": "code",
   "execution_count": 5,
   "metadata": {},
   "outputs": [],
   "source": [
    "# For revenue, we first set the break point as what we determine as 'Recent'\n",
    "# We will for now determine as last 6 months (i.e march) \n",
    "RECENCY =  F.lit('2022-03-01')"
   ]
  },
  {
   "cell_type": "markdown",
   "metadata": {},
   "source": [
    "1.1 Revenue"
   ]
  },
  {
   "cell_type": "code",
   "execution_count": 6,
   "metadata": {},
   "outputs": [],
   "source": [
    "# take subset\n",
    "revenue_data = full_dataset.where(F.col('order_datetime') > RECENCY).select('merchant_abn','user_id', 'order_datetime', 'dollar_value', 'BNPL_Revenue')"
   ]
  },
  {
   "cell_type": "code",
   "execution_count": 7,
   "metadata": {},
   "outputs": [],
   "source": [
    "# Now join fraud prob \n",
    "revenue_data = revenue_data.join(fraud_probabilities, on=['merchant_abn', 'user_id', 'order_datetime'], how='left')"
   ]
  },
  {
   "cell_type": "code",
   "execution_count": 8,
   "metadata": {},
   "outputs": [],
   "source": [
    "# Proper method (with the probabilities)\n",
    "# revenue_data = revenue_data.withColumn('BNPL_weighted_Revenue', F.col('BNPL_Revenue') * F.col('Fraud_probability'))"
   ]
  },
  {
   "cell_type": "code",
   "execution_count": 9,
   "metadata": {},
   "outputs": [],
   "source": [
    "# Alternative Method\n",
    "revenue_data = revenue_data.withColumn('BNPL_weighted_Revenue', F.col('BNPL_Revenue') * (1 - 0.1 * F.col('prediction'))\n",
    "                                                                 )\n",
    "# save dataset for growth analysis\n",
    "revenue_growth = revenue_data"
   ]
  },
  {
   "cell_type": "code",
   "execution_count": 10,
   "metadata": {},
   "outputs": [],
   "source": [
    "# Now can caluculate each Merchants revenue\n",
    "revenue_data = revenue_data.groupBy('merchant_abn').agg(F.round(F.sum('BNPL_weighted_Revenue'), 2).alias('Total_Revenue'))"
   ]
  },
  {
   "cell_type": "code",
   "execution_count": 11,
   "metadata": {},
   "outputs": [
    {
     "name": "stderr",
     "output_type": "stream",
     "text": [
      "                                                                                \r"
     ]
    }
   ],
   "source": [
    "# Standardise\n",
    "revenue_data = feature_standardisation(['Total_Revenue'],revenue_data)"
   ]
  },
  {
   "cell_type": "markdown",
   "metadata": {},
   "source": [
    "1.2 Revenue Growth"
   ]
  },
  {
   "cell_type": "code",
   "execution_count": 12,
   "metadata": {},
   "outputs": [],
   "source": [
    "# Revenye Growth\n",
    "revenue_data_table = full_dataset.select('merchant_abn').distinct()\n",
    "# now for the past 6 monts calculate \n",
    "months = [3,4,5,6,7,8,9]\n",
    "for month in months:\n",
    "    end_month = month + 1\n",
    "    if end_month < 10:\n",
    "        revenue_data_table = revenue_data_table.join(revenue_growth.where((F.col('order_datetime') < F.lit('2022-0' + str(end_month)+'-01'))).groupBy('merchant_abn').agg(F.sum('BNPL_weighted_Revenue').alias('Month_' + str(month))), on='merchant_abn', how='left')\n",
    "    else:\n",
    "        revenue_data_table = revenue_data_table.join(revenue_growth.where((F.col('order_datetime') < F.lit('2022-' + str(end_month)+'-01'))).groupBy('merchant_abn').agg(F.sum('BNPL_weighted_Revenue').alias('Month_' + str(month))), on='merchant_abn', how='left')\n",
    "revenue_data_table = revenue_data_table.fillna(1)\n",
    "# Now need to calculate growth rate for each month\n",
    "revenue_data_table = revenue_data_table.withColumn('Growth_4', (F.col('Month_4') - F.col('Month_3')) / F.col('Month_4'))\n",
    "revenue_data_table = revenue_data_table.withColumn('Growth_5', (F.col('Month_5') - F.col('Month_4')) / F.col('Month_5'))\n",
    "revenue_data_table = revenue_data_table.withColumn('Growth_6', (F.col('Month_6') - F.col('Month_5')) / F.col('Month_6'))\n",
    "revenue_data_table = revenue_data_table.withColumn('Growth_7', (F.col('Month_7') - F.col('Month_6'))/ F.col('Month_7'))\n",
    "revenue_data_table = revenue_data_table.withColumn('Growth_8', (F.col('Month_8') - F.col('Month_7')) / F.col('Month_8'))\n",
    "revenue_data_table = revenue_data_table.withColumn('Growth_9', (F.col('Month_9') - F.col('Month_8')) / F.col('Month_9'))"
   ]
  },
  {
   "cell_type": "code",
   "execution_count": 13,
   "metadata": {},
   "outputs": [],
   "source": [
    "revenue_data = revenue_data.join(revenue_data_table.withColumn('Revenue_Growth_Avg', F.round((F.col('Growth_4') + F.col('Growth_5') + F.col('Growth_6') + F.col('Growth_7') + F.col('Growth_8') + F.col('Growth_9')) / 6 , 4)), on='merchant_abn', how='left')"
   ]
  },
  {
   "cell_type": "code",
   "execution_count": 14,
   "metadata": {},
   "outputs": [
    {
     "name": "stderr",
     "output_type": "stream",
     "text": [
      "                                                                                \r"
     ]
    }
   ],
   "source": [
    "# And scale\n",
    "revenue_data = feature_standardisation(['Revenue_Growth_Avg', 'Total_Revenue'], revenue_data)"
   ]
  },
  {
   "cell_type": "markdown",
   "metadata": {},
   "source": [
    "# Sustainability \n",
    "- Experience\n",
    "- Customer Growth (Last 6 months)\n",
    "- Postcode_Entropy\n",
    "Next, we add a rating for a companies growth/longevity"
   ]
  },
  {
   "cell_type": "code",
   "execution_count": 15,
   "metadata": {},
   "outputs": [],
   "source": [
    "merchants_sub = merchants.select(['merchant_abn', 'postcode_entropy'])"
   ]
  },
  {
   "cell_type": "code",
   "execution_count": 16,
   "metadata": {},
   "outputs": [],
   "source": [
    "# Customer Growth\n",
    "# First grab total Unique customers \n",
    "Unique_cust = full_dataset.where(F.col('order_datetime') < F.lit('2022-05-01')).groupBy('merchant_abn').agg(F.countDistinct('user_id').alias('Unique_Customers'))\n",
    "# now for the past 6 monts calculate \n",
    "months = [5,6,7,8,9,10]\n",
    "customer_counting_data = full_dataset.select('merchant_abn', 'user_id', 'order_datetime', 'month')\n",
    "for month in months:\n",
    "    end_month = month + 1\n",
    "    if end_month < 10:\n",
    "        Unique_cust = Unique_cust.join(customer_counting_data.where((F.col('order_datetime') < F.lit('2022-0' + str(end_month)+'-01'))).groupBy('merchant_abn').agg(F.countDistinct('user_id').alias('Month_' + str(month))), on='merchant_abn', how='left')\n",
    "    else:\n",
    "        Unique_cust = Unique_cust.join(customer_counting_data.where((F.col('order_datetime') < F.lit('2022-' + str(end_month)+'-01'))).groupBy('merchant_abn').agg(F.countDistinct('user_id').alias('Month_' + str(month))), on='merchant_abn', how='left')\n",
    "Unique_cust = Unique_cust.fillna(1)\n",
    "# Now need to calculate growth rate for each month\n",
    "Unique_cust = Unique_cust.withColumn('Growth_5', F.col('Unique_Customers') / F.col('Month_5'))\n",
    "Unique_cust = Unique_cust.withColumn('Growth_6', (F.col('Month_6') - F.col('Month_5')) / F.col('Month_6'))\n",
    "Unique_cust = Unique_cust.withColumn('Growth_7', (F.col('Month_7') - F.col('Month_6'))/ F.col('Month_7'))\n",
    "Unique_cust = Unique_cust.withColumn('Growth_8', (F.col('Month_8') - F.col('Month_7')) / F.col('Month_8'))\n",
    "Unique_cust = Unique_cust.withColumn('Growth_9', (F.col('Month_9') - F.col('Month_8')) / F.col('Month_9'))\n",
    "Unique_cust = Unique_cust.withColumn('Growth_10',(F.col('Month_10') - F.col('Month_9')) / F.col('Month_10'))"
   ]
  },
  {
   "cell_type": "code",
   "execution_count": 17,
   "metadata": {},
   "outputs": [],
   "source": [
    "# Finally get the average customer growth rate over the last 6 months\n",
    "Unique_cust = Unique_cust.withColumn('Customer_Growth_Avg', F.round((F.col('Growth_5') + F.col('Growth_6') + F.col('Growth_7') + F.col('Growth_8') + F.col('Growth_9') + F.col('Growth_10')) / 6 , 4))"
   ]
  },
  {
   "cell_type": "code",
   "execution_count": 18,
   "metadata": {},
   "outputs": [],
   "source": [
    "merchants_sub = merchants_sub.join(Unique_cust.select('merchant_abn', 'Customer_Growth_Avg'), on='merchant_abn', how='left')"
   ]
  },
  {
   "cell_type": "code",
   "execution_count": 19,
   "metadata": {},
   "outputs": [],
   "source": [
    "# Experience \n",
    "number_of_dates_by_merchant = transactions.groupBy('merchant_abn','order_datetime').count()\n",
    "number_of_dates_by_merchant = number_of_dates_by_merchant.drop('order_datetime')\n",
    "number_of_dates_by_merchant = number_of_dates_by_merchant.groupBy('merchant_abn').sum('count')\n",
    "merchants_sub = merchants_sub.join(number_of_dates_by_merchant.withColumnRenamed('sum(count)','Total_Business_Days'), on='merchant_abn', how='left')"
   ]
  },
  {
   "cell_type": "code",
   "execution_count": 20,
   "metadata": {},
   "outputs": [
    {
     "name": "stderr",
     "output_type": "stream",
     "text": [
      "                                                                                \r"
     ]
    }
   ],
   "source": [
    "merchants_sub = feature_standardisation(['Total_Business_Days', 'Customer_Growth_Avg', 'postcode_entropy'],merchants_sub)"
   ]
  },
  {
   "cell_type": "markdown",
   "metadata": {},
   "source": [
    "# Customer Base\n",
    "In this sections we use the features:\n",
    "- Transaction_per_User\n",
    "- customer_wealth\n",
    "- Unique_Customers\n",
    "- Loyal_AVG\n",
    "- postcode_entropy"
   ]
  },
  {
   "cell_type": "markdown",
   "metadata": {},
   "source": [
    "1.1 Loyalty"
   ]
  },
  {
   "cell_type": "code",
   "execution_count": 21,
   "metadata": {},
   "outputs": [
    {
     "name": "stderr",
     "output_type": "stream",
     "text": [
      "                                                                                \r"
     ]
    }
   ],
   "source": [
    "# Create Loyalfy feature\n",
    "grouped = full_dataset.groupBy(\"user_id\", \"merchant_abn\")\n",
    "RPR = grouped.count().withColumnRenamed(\"count\", \"RPR\")\n",
    "upSell = RPR.groupBy(\"user_id\").count().withColumnRenamed(\"count\", \"upsell\")\n",
    "CLV = grouped.sum(\"dollar_value\").withColumnRenamed(\"sum(dollar_value)\", \"CLV\")\n",
    "# Define the window\n",
    "from pyspark.sql.window import Window\n",
    "w = Window.partitionBy([\"user_id\", \"merchant_abn\"]).orderBy(\"order_datetime\")\n",
    "\n",
    "retention = full_dataset.withColumn(\n",
    "    'diff',\n",
    "    F.datediff(F.col(\"order_datetime\"), F.lag(\"order_datetime\").over(w))\n",
    ").groupBy(\"user_id\", \"merchant_abn\").agg(F.avg(F.col(\"diff\")).alias(\"retention\"))\n",
    "retention.agg({\"retention\":\"max\"}).collect()\n",
    "retention.na.fill(value=365)\n",
    "loyal = retention.na.fill(value=365).join(RPR, on=[\"user_id\", \"merchant_abn\"], how=\"left\").join(CLV, on=[\"user_id\", \"merchant_abn\"], how=\"left\").join(upSell, on=[\"user_id\"], how=\"left\")\n",
    "loyal = loyal.withColumn(\"loyal\", F.col(\"RPR\") * F.col(\"CLV\") * F.col(\"upSell\") / F.col(\"retention\"))"
   ]
  },
  {
   "cell_type": "code",
   "execution_count": 22,
   "metadata": {},
   "outputs": [],
   "source": [
    "from pyspark.sql.functions import col\n",
    "from pyspark.sql import Window\n",
    "loyal = loyal.select(*(col(c).cast(\"float\").alias(c) for c in loyal.columns))\n",
    "loyal = loyal.select('user_id', 'merchant_abn', 'loyal')"
   ]
  },
  {
   "cell_type": "code",
   "execution_count": 23,
   "metadata": {},
   "outputs": [],
   "source": [
    "grp_window = Window.partitionBy('grp')\n",
    "magic_percentile = F.expr('percentile_approx(loyal, 0.5)')\n",
    "loyal = loyal.join(loyal.groupBy('user_id').agg(magic_percentile.alias('med_val')), on='user_id', how='left')"
   ]
  },
  {
   "cell_type": "code",
   "execution_count": 24,
   "metadata": {},
   "outputs": [],
   "source": [
    "from pyspark.sql.functions import coalesce\n",
    "loyal = loyal.withColumn('loyal', coalesce('loyal', 'med_val')).select(['user_id', 'merchant_abn', 'loyal'])\n",
    "loyal_agg = loyal.groupBy('merchant_abn').agg(F.round(F.avg('loyal'), 2).alias('Loyal_AVG'))"
   ]
  },
  {
   "cell_type": "markdown",
   "metadata": {},
   "source": [
    "Add few other metrics (Need to still add Postcode Entropy...)"
   ]
  },
  {
   "cell_type": "code",
   "execution_count": 25,
   "metadata": {},
   "outputs": [],
   "source": [
    "cust_data =  full_dataset.groupBy('merchant_abn').agg(F.countDistinct('user_id').alias('Unique_Customers'), F.round(F.count('user_id') / F.countDistinct('user_id'), 2).alias('Transaction_per_User'), F.round(F.avg('Average taxable income or loss'),2).alias('customer_wealth'))\n",
    "cust_data = cust_data.join(loyal_agg, on='merchant_abn')"
   ]
  },
  {
   "cell_type": "code",
   "execution_count": 26,
   "metadata": {},
   "outputs": [],
   "source": [
    "# Get customer Entropy \n",
    "cust_entro = full_dataset.select('merchant_abn', 'user_id', 'electorate', 'order_datetime')\n",
    "Entropy_cust = cust_entro.select('merchant_abn').toDF('merchant_abn').drop_duplicates().crossJoin(cust_entro.select('electorate').toDF('electorate').drop_duplicates())\n",
    "Entropy_cust = Entropy_cust.join(cust_entro.groupBy('merchant_abn', 'electorate').agg(F.countDistinct('user_id').alias('Count')), on=['merchant_abn', 'electorate'], how='left')\n",
    "Entropy_cust = Entropy_cust.fillna(1)\n",
    "Entropy_cust = Entropy_cust.join(Entropy_cust.groupBy(\"merchant_abn\").sum('Count'), on='merchant_abn', how='left')\n",
    "Entropy_cust = Entropy_cust.withColumn('Probability', F.col('Count') / F.col('sum(Count)'))\n",
    "Entropy_cust = Entropy_cust.groupBy(\"merchant_abn\").agg((-F.sum(F.col(\"Probability\") * F.log2(col(\"Probability\")))).alias(\"Customer_Entropy\"))"
   ]
  },
  {
   "cell_type": "code",
   "execution_count": 27,
   "metadata": {},
   "outputs": [],
   "source": [
    "cust_data = cust_data.join(Entropy_cust, on='merchant_abn', how='left')\n",
    "#cust_data = cust_data.join(merchants.select('merchant_abn', 'postcode_entropy'), on='merchant_abn', how='left')"
   ]
  },
  {
   "cell_type": "code",
   "execution_count": 28,
   "metadata": {},
   "outputs": [
    {
     "name": "stderr",
     "output_type": "stream",
     "text": [
      "                                                                                \r"
     ]
    }
   ],
   "source": [
    "cust_data = feature_standardisation(['Transaction_per_User', 'customer_wealth', 'Unique_Customers', 'Loyal_AVG', 'Customer_Entropy'], cust_data)"
   ]
  },
  {
   "cell_type": "markdown",
   "metadata": {},
   "source": [
    "# Industry/Environment \n",
    "- We add a general score, based on their description tags, in relation to which industry they belong to "
   ]
  },
  {
   "cell_type": "code",
   "execution_count": 31,
   "metadata": {},
   "outputs": [
    {
     "name": "stdout",
     "output_type": "stream",
     "text": [
      "22/10/09 18:33:53 WARN package: Truncated the string representation of a plan since it was too large. This behavior can be adjusted by setting 'spark.sql.debug.maxToStringFields'.\n"
     ]
    },
    {
     "name": "stderr",
     "output_type": "stream",
     "text": [
      "                                                                                \r"
     ]
    },
    {
     "data": {
      "text/html": [
       "<table border='1'>\n",
       "<tr><th>order_id</th><th>merchant_abn</th><th>user_id</th><th>dollar_value</th><th>order_datetime</th><th>consumer_id</th><th>state</th><th>postcode</th><th>name</th><th>address</th><th>gender</th><th>sa3name</th><th>sa4name</th><th>electoraterating</th><th>SA3_NAME_2016</th><th>electorate</th><th>Number of individuals lodging an income tax return</th><th>Average taxable income or loss</th><th>Median taxable income or loss</th><th>Proportion with salary or wages</th><th>Count salary or wages</th><th>Average salary or wages</th><th>Median salary or wages</th><th>Proportion with net rent</th><th>Count net rent</th><th>Average net rent</th><th>Median net rent</th><th>Average total income or loss</th><th>Median total income or loss</th><th>Average total deductions</th><th>Median total deductions</th><th>Proportion with total business income</th><th>Count total business income</th><th>Average total business income</th><th>Median total business income</th><th>Proportion with total business expenses</th><th>Count total business expenses</th><th>Average total business expenses</th><th>Median total business expenses</th><th>Proportion with net tax</th><th>Count net tax</th><th>Average net tax</th><th>Median net tax</th><th>Count super total accounts balance</th><th>Average super total accounts balance</th><th>Median super total accounts balance</th><th>Total_Transaction_Count</th><th>Total_Dollars_Spent</th><th>Ungeristered_Merch_Transactions_count</th><th>Ungeristered_Merch_Total_Spent</th><th>Proportion_Unreg_Merchant_Transactions</th><th>Proportion_Unregistered_Dollars_Spent</th><th>company_name</th><th>Description</th><th>Earnings_Class</th><th>BNPL_Fee</th><th>Day</th><th>Month</th><th>BNPL_Revenue</th><th>Natural_var</th><th>Potential_Outlier</th></tr>\n",
       "<tr><td>00001f53-b987-4b4...</td><td>31585975447</td><td>8913</td><td>51.28</td><td>2021-07-24</td><td>1656</td><td>NSW</td><td>1163</td><td>Timothy Guzman</td><td>061 Randall View</td><td>Male</td><td>Sydney Inner City</td><td>Sydney - City and...</td><td>Rural</td><td>Sydney Inner City</td><td>Sydney</td><td>16556</td><td>59451</td><td>44127</td><td>1</td><td>12283</td><td>66835</td><td>56122</td><td>1</td><td>4466</td><td>-2167</td><td>-1652</td><td>61594</td><td>46090</td><td>2085</td><td>544</td><td>1</td><td>1711</td><td>137729</td><td>27024</td><td>1</td><td>1578</td><td>123193</td><td>10546</td><td>1</td><td>11634</td><td>19453</td><td>12318</td><td>17185</td><td>142962</td><td>42522</td><td>580</td><td>122452.95</td><td>21</td><td>3632.51</td><td>0.04</td><td>0.03</td><td>Dolor Dapibus Gra...</td><td>4020</td><td>b</td><td>3.12</td><td>7</td><td>7</td><td>1.6</td><td>false</td><td>false</td></tr>\n",
       "<tr><td>00004dfd-5e01-408...</td><td>21025433654</td><td>15797</td><td>5.84</td><td>2021-11-26</td><td>497662</td><td>WA</td><td>6228</td><td>Michael Leblanc</td><td>02118 Goodwin Ferry</td><td>Male</td><td>Bunbury</td><td>Bunbury</td><td>Rural</td><td>Bunbury</td><td>Forrest</td><td>5933</td><td>59563</td><td>46555</td><td>1</td><td>4710</td><td>59602</td><td>50964</td><td>1</td><td>893</td><td>1060</td><td>275</td><td>62473</td><td>48886</td><td>2592</td><td>604</td><td>1</td><td>583</td><td>93052</td><td>31586</td><td>1</td><td>548</td><td>74939</td><td>18585</td><td>1</td><td>4540</td><td>18198</td><td>11010</td><td>6658</td><td>150130</td><td>57634</td><td>585</td><td>96815.18</td><td>25</td><td>4359.86</td><td>0.04</td><td>0.05</td><td>Lorem Foundation</td><td>4020</td><td>a</td><td>6.55</td><td>6</td><td>11</td><td>0.38</td><td>false</td><td>false</td></tr>\n",
       "<tr><td>0000a01b-53f2-4f6...</td><td>91923722701</td><td>4694</td><td>0.36</td><td>2022-05-07</td><td>681639</td><td>NSW</td><td>2158</td><td>Lisa Cole</td><td>70976 Steve Flats</td><td>Female</td><td>Dural - Wisemans ...</td><td>Sydney - Baulkham...</td><td>Outer Metropolitan</td><td>Dural - Wisemans ...</td><td>Berowra</td><td>1397</td><td>60643</td><td>52180</td><td>1</td><td>1051</td><td>66838</td><td>59969</td><td>1</td><td>218</td><td>1865</td><td>633</td><td>63628</td><td>54513</td><td>2587</td><td>677</td><td>1</td><td>174</td><td>111167</td><td>43737</td><td>1</td><td>170</td><td>101982</td><td>39102</td><td>1</td><td>1066</td><td>17584</td><td>12605</td><td>1458</td><td>155461</td><td>77116</td><td>570</td><td>90094.33</td><td>22</td><td>8730.59</td><td>0.04</td><td>0.1</td><td>Euismod Urna Inst...</td><td>3988</td><td>b</td><td>5.05</td><td>7</td><td>5</td><td>0.02</td><td>false</td><td>false</td></tr>\n",
       "<tr><td>0000b108-2dfa-488...</td><td>40646162173</td><td>3260</td><td>5.72</td><td>2022-04-18</td><td>643439</td><td>WA</td><td>6155</td><td>Jennifer Austin</td><td>1762 Kathryn Over...</td><td>Female</td><td>Melville</td><td>Perth - South West</td><td>Inner Metropolitan</td><td>[&#x27;Canning&#x27; &#x27;Gosne...</td><td>Tangney</td><td>4406</td><td>50928</td><td>43102</td><td>1</td><td>3486</td><td>55030</td><td>48742</td><td>1</td><td>618</td><td>1080</td><td>355</td><td>53756</td><td>45367</td><td>2410</td><td>551</td><td>1</td><td>404</td><td>92048</td><td>31611</td><td>1</td><td>386</td><td>80450</td><td>21617</td><td>1</td><td>3339</td><td>14932</td><td>9652</td><td>4992</td><td>132876</td><td>53654</td><td>559</td><td>95079.05</td><td>18</td><td>6813.46</td><td>0.03</td><td>0.07</td><td>Mauris Inc.</td><td>4019</td><td>c</td><td>2.94</td><td>2</td><td>4</td><td>0.17</td><td>false</td><td>false</td></tr>\n",
       "<tr><td>0000bd8d-0021-418...</td><td>64403598239</td><td>15618</td><td>69.08</td><td>2022-08-13</td><td>804418</td><td>SA</td><td>5158</td><td>Jonathan Fox</td><td>783 Ford Route</td><td>Male</td><td>Onkaparinga</td><td>Adelaide - South</td><td>Outer Metropolitan</td><td>Marion</td><td>Kingston</td><td>510</td><td>43730</td><td>36646</td><td>1</td><td>328</td><td>51155</td><td>44084</td><td>1</td><td>91</td><td>2347</td><td>1732</td><td>45432</td><td>37532</td><td>1628</td><td>220</td><td>1</td><td>81</td><td>48548</td><td>28054</td><td>1</td><td>82</td><td>35853</td><td>12217</td><td>1</td><td>334</td><td>12289</td><td>6790</td><td>558</td><td>131285</td><td>53120</td><td>564</td><td>96820.46</td><td>25</td><td>17357.26</td><td>0.04</td><td>0.18</td><td>Lobortis Ultrices...</td><td>3958</td><td>a</td><td>6.31</td><td>7</td><td>8</td><td>4.36</td><td>false</td><td>false</td></tr>\n",
       "<tr><td>00013a8d-3d1e-40d...</td><td>60111071436</td><td>22134</td><td>129.51</td><td>2021-10-11</td><td>101872</td><td>QLD</td><td>4357</td><td>Tony Gonzalez</td><td>4494 Hartman Rive...</td><td>Male</td><td>Darling Downs - East</td><td>Darling Downs - M...</td><td>Rural</td><td>Darling Downs - East</td><td>Maranoa</td><td>758</td><td>59234</td><td>45800</td><td>1</td><td>561</td><td>65504</td><td>55780</td><td>1</td><td>88</td><td>1237</td><td>-393</td><td>61788</td><td>48535</td><td>2507</td><td>676</td><td>1</td><td>98</td><td>57911</td><td>27944</td><td>1</td><td>93</td><td>40941</td><td>11447</td><td>1</td><td>555</td><td>17653</td><td>12452</td><td>895</td><td>176609</td><td>79717</td><td>552</td><td>98608.25</td><td>25</td><td>13995.58</td><td>0.05</td><td>0.14</td><td>Imperdiet Non LLC</td><td>4019</td><td>a</td><td>6.84</td><td>2</td><td>10</td><td>8.86</td><td>false</td><td>false</td></tr>\n",
       "<tr><td>000198f8-6855-4c7...</td><td>49891706470</td><td>1604</td><td>21.55</td><td>2021-05-13</td><td>1257196</td><td>SA</td><td>5640</td><td>Bernard Medina</td><td>926 Linda Squares...</td><td>Male</td><td>Eyre Peninsula an...</td><td>South Australia -...</td><td>Rural</td><td>Eyre Peninsula an...</td><td>Grey</td><td>6747</td><td>84933</td><td>52093</td><td>1</td><td>4283</td><td>75502</td><td>53180</td><td>1</td><td>1280</td><td>20</td><td>317</td><td>88981</td><td>54694</td><td>3957</td><td>770</td><td>1</td><td>785</td><td>155669</td><td>32140</td><td>1</td><td>723</td><td>102108</td><td>13604</td><td>1</td><td>4984</td><td>32118</td><td>15274</td><td>6807</td><td>315048</td><td>115045</td><td>565</td><td>108372.39</td><td>20</td><td>4784.49</td><td>0.04</td><td>0.04</td><td>Non Vestibulum In...</td><td>3988</td><td>a</td><td>5.8</td><td>5</td><td>5</td><td>1.25</td><td>false</td><td>false</td></tr>\n",
       "<tr><td>0001d0a1-1e10-48f...</td><td>64403598239</td><td>2786</td><td>60.47</td><td>2022-08-14</td><td>1329975</td><td>NSW</td><td>2336</td><td>Pamela Adams</td><td>0364 Madison Knolls</td><td>Female</td><td>Upper Hunter</td><td>Hunter Valley exc...</td><td>Rural</td><td>Upper Hunter</td><td>Hunter</td><td>1614</td><td>55801</td><td>46872</td><td>1</td><td>1282</td><td>59539</td><td>51826</td><td>1</td><td>204</td><td>2441</td><td>1901</td><td>57930</td><td>48792</td><td>2099</td><td>633</td><td>1</td><td>210</td><td>51895</td><td>22508</td><td>1</td><td>198</td><td>30036</td><td>8678</td><td>1</td><td>1205</td><td>15390</td><td>10920</td><td>1821</td><td>134754</td><td>65642</td><td>587</td><td>99062.68</td><td>25</td><td>4828.08</td><td>0.04</td><td>0.05</td><td>Lobortis Ultrices...</td><td>3958</td><td>a</td><td>6.31</td><td>1</td><td>8</td><td>3.82</td><td>false</td><td>false</td></tr>\n",
       "<tr><td>00025d40-af43-402...</td><td>48981211054</td><td>21923</td><td>481.69</td><td>2021-05-21</td><td>1079452</td><td>QLD</td><td>4717</td><td>Devin Ramirez</td><td>10623 Anderson Re...</td><td>Undisclosed</td><td>Central Highlands...</td><td>Fitzroy</td><td>Rural</td><td>Central Highlands...</td><td>Flynn</td><td>7450</td><td>70714</td><td>55934</td><td>1</td><td>5927</td><td>73611</td><td>64792</td><td>1</td><td>993</td><td>-1384</td><td>-1291</td><td>73351</td><td>58134</td><td>2562</td><td>710</td><td>1</td><td>636</td><td>117700</td><td>24398</td><td>1</td><td>630</td><td>96537</td><td>11812</td><td>1</td><td>5718</td><td>22490</td><td>15708</td><td>8088</td><td>191989</td><td>84902</td><td>564</td><td>80461.45</td><td>24</td><td>4013.23</td><td>0.04</td><td>0.05</td><td>Nibh Phasellus Nu...</td><td>4010</td><td>a</td><td>6.68</td><td>6</td><td>5</td><td>32.18</td><td>false</td><td>false</td></tr>\n",
       "<tr><td>00025fb3-4911-485...</td><td>23754348523</td><td>510</td><td>125.62</td><td>2021-11-16</td><td>479453</td><td>WA</td><td>6385</td><td>Charles Miller</td><td>21844 Christine S...</td><td>Male</td><td>Wheat Belt - North</td><td>Western Australia...</td><td>Rural</td><td>Wheat Belt - North</td><td>Durack</td><td>1928</td><td>51458</td><td>40764</td><td>1</td><td>1542</td><td>50444</td><td>43855</td><td>1</td><td>299</td><td>3085</td><td>1417</td><td>54895</td><td>43619</td><td>2815</td><td>520</td><td>1</td><td>176</td><td>81325</td><td>29684</td><td>1</td><td>165</td><td>68387</td><td>17663</td><td>1</td><td>1467</td><td>14424</td><td>8899</td><td>2238</td><td>154945</td><td>54468</td><td>557</td><td>84449.82</td><td>25</td><td>7831.49</td><td>0.04</td><td>0.09</td><td>Vel Faucibus Id C...</td><td>4004</td><td>d</td><td>0.95</td><td>3</td><td>11</td><td>1.19</td><td>false</td><td>false</td></tr>\n",
       "<tr><td>0002c58c-dc2e-499...</td><td>64203420245</td><td>23564</td><td>23.55</td><td>2022-05-17</td><td>17983</td><td>TAS</td><td>7256</td><td>Jennifer Patterson</td><td>39099 Linda Islan...</td><td>Female</td><td>West Coast</td><td>West and North West</td><td>Rural</td><td>West Coast</td><td>Braddon</td><td>727</td><td>42092</td><td>35963</td><td>1</td><td>514</td><td>45585</td><td>41876</td><td>1</td><td>75</td><td>1245</td><td>1013</td><td>43865</td><td>36912</td><td>1514</td><td>315</td><td>1</td><td>80</td><td>52018</td><td>26074</td><td>1</td><td>80</td><td>41292</td><td>11516</td><td>1</td><td>478</td><td>10224</td><td>7716</td><td>824</td><td>108845</td><td>56836</td><td>557</td><td>87266.83</td><td>21</td><td>3804.31</td><td>0.04</td><td>0.04</td><td>Pede Nonummy Corp.</td><td>3988</td><td>c</td><td>2.86</td><td>3</td><td>5</td><td>0.67</td><td>false</td><td>false</td></tr>\n",
       "<tr><td>00040f4a-4731-487...</td><td>80324045558</td><td>16243</td><td>201.62</td><td>2022-09-10</td><td>303415</td><td>VIC</td><td>3266</td><td>Gregory Williams</td><td>93807 Wheeler Ford</td><td>Male</td><td>Warrnambool - Otw...</td><td>Warrnambool and S...</td><td>Rural</td><td>Colac - Corangamite</td><td>Wannon</td><td>1255</td><td>64323</td><td>53383</td><td>1</td><td>1027</td><td>67941</td><td>59991</td><td>1</td><td>162</td><td>-1722</td><td>-2752</td><td>66719</td><td>55353</td><td>2383</td><td>820</td><td>1</td><td>84</td><td>49374</td><td>20870</td><td>1</td><td>82</td><td>36765</td><td>8344</td><td>1</td><td>991</td><td>18540</td><td>13035</td><td>1305</td><td>104771</td><td>38887</td><td>577</td><td>85784.42</td><td>18</td><td>5362.2</td><td>0.03</td><td>0.06</td><td>Ipsum Dolor Sit C...</td><td>3990</td><td>c</td><td>1.47</td><td>7</td><td>9</td><td>2.96</td><td>false</td><td>true</td></tr>\n",
       "<tr><td>0004c4c3-ffe5-4d2...</td><td>96880556465</td><td>10348</td><td>10.84</td><td>2022-04-03</td><td>942112</td><td>QLD</td><td>4610</td><td>Katrina Wheeler</td><td>320 Johnson Sprin...</td><td>Female</td><td>Burnett</td><td>Wide Bay</td><td>Rural</td><td>Burnett</td><td>Maranoa</td><td>3670</td><td>50921</td><td>43394</td><td>1</td><td>2815</td><td>53536</td><td>49076</td><td>1</td><td>363</td><td>2036</td><td>529</td><td>54012</td><td>46004</td><td>2207</td><td>668</td><td>1</td><td>396</td><td>125737</td><td>33578</td><td>1</td><td>380</td><td>109233</td><td>18360</td><td>1</td><td>2705</td><td>13394</td><td>9175</td><td>4159</td><td>116219</td><td>51307</td><td>568</td><td>94689.11</td><td>22</td><td>7513.3</td><td>0.04</td><td>0.08</td><td>At Lacus Quisque ...</td><td>3990</td><td>a</td><td>5.7</td><td>1</td><td>4</td><td>0.62</td><td>false</td><td>false</td></tr>\n",
       "<tr><td>0005b5e1-ac3a-451...</td><td>98268965514</td><td>22179</td><td>274.57</td><td>2022-03-11</td><td>1051714</td><td>VIC</td><td>3465</td><td>Justin Gomez</td><td>624 Gutierrez Divide</td><td>Male</td><td>Grampians</td><td>North West</td><td>Rural</td><td>Maryborough - Pyr...</td><td>Mallee</td><td>348</td><td>65042</td><td>48078</td><td>1</td><td>211</td><td>59169</td><td>51167</td><td>1</td><td>54</td><td>2569</td><td>1218</td><td>69907</td><td>51242</td><td>3705</td><td>299</td><td>1</td><td>30</td><td>65518</td><td>28250</td><td>1</td><td>25</td><td>52753</td><td>18228</td><td>1</td><td>266</td><td>20489</td><td>11820</td><td>360</td><td>176775</td><td>61311</td><td>572</td><td>99931.46</td><td>27</td><td>10846.44</td><td>0.05</td><td>0.11</td><td>Vulputate LLC</td><td>4023</td><td>c</td><td>2.42</td><td>6</td><td>3</td><td>6.64</td><td>false</td><td>false</td></tr>\n",
       "<tr><td>0005e00a-fc19-448...</td><td>20985347699</td><td>238</td><td>6.11</td><td>2022-04-08</td><td>738399</td><td>QLD</td><td>4353</td><td>Joel Kirk</td><td>652 Fisher Ramp</td><td>Undisclosed</td><td>Darling Downs - East</td><td>Darling Downs - M...</td><td>Rural</td><td>Darling Downs - East</td><td>Maranoa</td><td>1015</td><td>55492</td><td>47705</td><td>1</td><td>824</td><td>58705</td><td>51561</td><td>1</td><td>94</td><td>-484</td><td>-82</td><td>58053</td><td>49966</td><td>2459</td><td>852</td><td>1</td><td>129</td><td>88490</td><td>30650</td><td>1</td><td>125</td><td>74082</td><td>17972</td><td>1</td><td>788</td><td>14624</td><td>9791</td><td>1209</td><td>129267</td><td>65482</td><td>554</td><td>106744.49</td><td>27</td><td>21623.41</td><td>0.05</td><td>0.2</td><td>Semper Tellus PC</td><td>3988</td><td>a</td><td>6.1</td><td>6</td><td>4</td><td>0.37</td><td>false</td><td>false</td></tr>\n",
       "<tr><td>00065176-712a-46b...</td><td>71989214810</td><td>21273</td><td>326.5</td><td>2021-12-26</td><td>382202</td><td>VIC</td><td>3414</td><td>Kathleen Jenkins</td><td>83225 Anthony Hill</td><td>Female</td><td>Grampians</td><td>North West</td><td>Rural</td><td>Grampians</td><td>Mallee</td><td>1597</td><td>58410</td><td>48615</td><td>1</td><td>1247</td><td>58359</td><td>52093</td><td>1</td><td>242</td><td>2128</td><td>942</td><td>60838</td><td>50454</td><td>2301</td><td>506</td><td>1</td><td>79</td><td>100500</td><td>31003</td><td>1</td><td>83</td><td>70281</td><td>14116</td><td>1</td><td>1216</td><td>16608</td><td>11936</td><td>1884</td><td>109646</td><td>43468</td><td>576</td><td>94800.99</td><td>22</td><td>6293.1</td><td>0.04</td><td>0.07</td><td>Semper Et Lacinia...</td><td>4002</td><td>a</td><td>6.95</td><td>1</td><td>12</td><td>22.69</td><td>false</td><td>false</td></tr>\n",
       "<tr><td>00069b01-e905-4e0...</td><td>50866797623</td><td>21767</td><td>28.22</td><td>2021-11-13</td><td>871121</td><td>VIC</td><td>3105</td><td>David Vance</td><td>3840 Kimberly Gar...</td><td>Male</td><td>Banyule</td><td>Melbourne - North...</td><td>Outer Metropolitan</td><td>Manningham - West</td><td>Menzies</td><td>122</td><td>35015</td><td>27747</td><td>1</td><td>57</td><td>36453</td><td>27655</td><td>1</td><td>18</td><td>-3746</td><td>-4198</td><td>39573</td><td>30357</td><td>3163</td><td>261</td><td>1</td><td>8</td><td>29624</td><td>29216</td><td>1</td><td>6</td><td>71077</td><td>13532</td><td>1</td><td>73</td><td>10598</td><td>6021</td><td>114</td><td>190687</td><td>53305</td><td>544</td><td>95521.27</td><td>27</td><td>5715.06</td><td>0.05</td><td>0.06</td><td>Cum Sociis Natoqu...</td><td>3990</td><td>c</td><td>2.82</td><td>7</td><td>11</td><td>0.8</td><td>false</td><td>false</td></tr>\n",
       "<tr><td>0006a4b1-2b51-444...</td><td>80324045558</td><td>17422</td><td>17.37</td><td>2021-03-16</td><td>472326</td><td>WA</td><td>6522</td><td>Michael Molina</td><td>4025 Delgado Shoal</td><td>Male</td><td>Mid West</td><td>Western Australia...</td><td>Rural</td><td>Mid West</td><td>Durack</td><td>1928</td><td>51458</td><td>40764</td><td>1</td><td>1542</td><td>50444</td><td>43855</td><td>1</td><td>299</td><td>3085</td><td>1417</td><td>54895</td><td>43619</td><td>2815</td><td>520</td><td>1</td><td>176</td><td>81325</td><td>29684</td><td>1</td><td>165</td><td>68387</td><td>17663</td><td>1</td><td>1467</td><td>14424</td><td>8899</td><td>2238</td><td>154945</td><td>54468</td><td>556</td><td>82214.63</td><td>28</td><td>7255.77</td><td>0.05</td><td>0.09</td><td>Ipsum Dolor Sit C...</td><td>3990</td><td>c</td><td>1.47</td><td>3</td><td>3</td><td>0.26</td><td>false</td><td>false</td></tr>\n",
       "<tr><td>00079b09-de1f-4bf...</td><td>91720867026</td><td>20318</td><td>52.8</td><td>2021-05-29</td><td>1360573</td><td>VIC</td><td>3852</td><td>Lisa Martin</td><td>54006 Chad Spring...</td><td>Female</td><td>Wellington</td><td>Latrobe - Gippsland</td><td>Rural</td><td>Wellington</td><td>Gippsland</td><td>3583</td><td>57544</td><td>48676</td><td>1</td><td>2891</td><td>56772</td><td>51372</td><td>1</td><td>476</td><td>915</td><td>-76</td><td>60047</td><td>51338</td><td>2240</td><td>553</td><td>1</td><td>368</td><td>105052</td><td>37874</td><td>1</td><td>347</td><td>91453</td><td>20169</td><td>1</td><td>2805</td><td>16356</td><td>11429</td><td>4026</td><td>129587</td><td>53955</td><td>570</td><td>92428.41</td><td>19</td><td>3153.92</td><td>0.03</td><td>0.03</td><td>Eget Mollis LLC</td><td>4013</td><td>a</td><td>6.31</td><td>7</td><td>5</td><td>3.33</td><td>false</td><td>false</td></tr>\n",
       "<tr><td>00084748-8e51-408...</td><td>34726792617</td><td>11889</td><td>17.21</td><td>2021-11-27</td><td>1376577</td><td>QLD</td><td>4814</td><td>Kevin Yates</td><td>364 Virginia Stra...</td><td>Male</td><td>Townsville</td><td>Townsville</td><td>Provincial</td><td>Townsville</td><td>Herbert</td><td>9645</td><td>72615</td><td>48117</td><td>1</td><td>7024</td><td>65650</td><td>52707</td><td>1</td><td>1490</td><td>1152</td><td>64</td><td>75918</td><td>50392</td><td>3078</td><td>529</td><td>1</td><td>682</td><td>547327</td><td>25807</td><td>1</td><td>658</td><td>534521</td><td>10564</td><td>1</td><td>7132</td><td>25462</td><td>11964</td><td>10794</td><td>233375</td><td>81207</td><td>579</td><td>92855.44</td><td>19</td><td>5210.87</td><td>0.03</td><td>0.06</td><td>Purus Mauris Asso...</td><td>3990</td><td>a</td><td>5.94</td><td>7</td><td>11</td><td>1.02</td><td>false</td><td>false</td></tr>\n",
       "</table>\n",
       "only showing top 20 rows\n"
      ],
      "text/plain": [
       "+--------------------+------------+-------+------------+--------------+-----------+-----+--------+------------------+--------------------+-----------+--------------------+--------------------+------------------+--------------------+----------+--------------------------------------------------+------------------------------+-----------------------------+-------------------------------+---------------------+-----------------------+----------------------+------------------------+--------------+----------------+---------------+----------------------------+---------------------------+------------------------+-----------------------+-------------------------------------+---------------------------+-----------------------------+----------------------------+---------------------------------------+-----------------------------+-------------------------------+------------------------------+-----------------------+-------------+---------------+--------------+----------------------------------+------------------------------------+-----------------------------------+-----------------------+-------------------+-------------------------------------+------------------------------+--------------------------------------+-------------------------------------+--------------------+-----------+--------------+--------+---+-----+------------+-----------+-----------------+\n",
       "|            order_id|merchant_abn|user_id|dollar_value|order_datetime|consumer_id|state|postcode|              name|             address|     gender|             sa3name|             sa4name|  electoraterating|       SA3_NAME_2016|electorate|Number of individuals lodging an income tax return|Average taxable income or loss|Median taxable income or loss|Proportion with salary or wages|Count salary or wages|Average salary or wages|Median salary or wages|Proportion with net rent|Count net rent|Average net rent|Median net rent|Average total income or loss|Median total income or loss|Average total deductions|Median total deductions|Proportion with total business income|Count total business income|Average total business income|Median total business income|Proportion with total business expenses|Count total business expenses|Average total business expenses|Median total business expenses|Proportion with net tax|Count net tax|Average net tax|Median net tax|Count super total accounts balance|Average super total accounts balance|Median super total accounts balance|Total_Transaction_Count|Total_Dollars_Spent|Ungeristered_Merch_Transactions_count|Ungeristered_Merch_Total_Spent|Proportion_Unreg_Merchant_Transactions|Proportion_Unregistered_Dollars_Spent|        company_name|Description|Earnings_Class|BNPL_Fee|Day|Month|BNPL_Revenue|Natural_var|Potential_Outlier|\n",
       "+--------------------+------------+-------+------------+--------------+-----------+-----+--------+------------------+--------------------+-----------+--------------------+--------------------+------------------+--------------------+----------+--------------------------------------------------+------------------------------+-----------------------------+-------------------------------+---------------------+-----------------------+----------------------+------------------------+--------------+----------------+---------------+----------------------------+---------------------------+------------------------+-----------------------+-------------------------------------+---------------------------+-----------------------------+----------------------------+---------------------------------------+-----------------------------+-------------------------------+------------------------------+-----------------------+-------------+---------------+--------------+----------------------------------+------------------------------------+-----------------------------------+-----------------------+-------------------+-------------------------------------+------------------------------+--------------------------------------+-------------------------------------+--------------------+-----------+--------------+--------+---+-----+------------+-----------+-----------------+\n",
       "|00001f53-b987-4b4...| 31585975447|   8913|       51.28|    2021-07-24|       1656|  NSW|    1163|    Timothy Guzman|    061 Randall View|       Male|   Sydney Inner City|Sydney - City and...|             Rural|   Sydney Inner City|    Sydney|                                             16556|                         59451|                        44127|                              1|                12283|                  66835|                 56122|                       1|          4466|           -2167|          -1652|                       61594|                      46090|                    2085|                    544|                                    1|                       1711|                       137729|                       27024|                                      1|                         1578|                         123193|                         10546|                      1|        11634|          19453|         12318|                             17185|                              142962|                              42522|                    580|          122452.95|                                   21|                       3632.51|                                  0.04|                                 0.03|Dolor Dapibus Gra...|       4020|             b|    3.12|  7|    7|         1.6|      false|            false|\n",
       "|00004dfd-5e01-408...| 21025433654|  15797|        5.84|    2021-11-26|     497662|   WA|    6228|   Michael Leblanc| 02118 Goodwin Ferry|       Male|             Bunbury|             Bunbury|             Rural|             Bunbury|   Forrest|                                              5933|                         59563|                        46555|                              1|                 4710|                  59602|                 50964|                       1|           893|            1060|            275|                       62473|                      48886|                    2592|                    604|                                    1|                        583|                        93052|                       31586|                                      1|                          548|                          74939|                         18585|                      1|         4540|          18198|         11010|                              6658|                              150130|                              57634|                    585|           96815.18|                                   25|                       4359.86|                                  0.04|                                 0.05|    Lorem Foundation|       4020|             a|    6.55|  6|   11|        0.38|      false|            false|\n",
       "|0000a01b-53f2-4f6...| 91923722701|   4694|        0.36|    2022-05-07|     681639|  NSW|    2158|         Lisa Cole|   70976 Steve Flats|     Female|Dural - Wisemans ...|Sydney - Baulkham...|Outer Metropolitan|Dural - Wisemans ...|   Berowra|                                              1397|                         60643|                        52180|                              1|                 1051|                  66838|                 59969|                       1|           218|            1865|            633|                       63628|                      54513|                    2587|                    677|                                    1|                        174|                       111167|                       43737|                                      1|                          170|                         101982|                         39102|                      1|         1066|          17584|         12605|                              1458|                              155461|                              77116|                    570|           90094.33|                                   22|                       8730.59|                                  0.04|                                  0.1|Euismod Urna Inst...|       3988|             b|    5.05|  7|    5|        0.02|      false|            false|\n",
       "|0000b108-2dfa-488...| 40646162173|   3260|        5.72|    2022-04-18|     643439|   WA|    6155|   Jennifer Austin|1762 Kathryn Over...|     Female|            Melville|  Perth - South West|Inner Metropolitan|['Canning' 'Gosne...|   Tangney|                                              4406|                         50928|                        43102|                              1|                 3486|                  55030|                 48742|                       1|           618|            1080|            355|                       53756|                      45367|                    2410|                    551|                                    1|                        404|                        92048|                       31611|                                      1|                          386|                          80450|                         21617|                      1|         3339|          14932|          9652|                              4992|                              132876|                              53654|                    559|           95079.05|                                   18|                       6813.46|                                  0.03|                                 0.07|         Mauris Inc.|       4019|             c|    2.94|  2|    4|        0.17|      false|            false|\n",
       "|0000bd8d-0021-418...| 64403598239|  15618|       69.08|    2022-08-13|     804418|   SA|    5158|      Jonathan Fox|      783 Ford Route|       Male|         Onkaparinga|    Adelaide - South|Outer Metropolitan|              Marion|  Kingston|                                               510|                         43730|                        36646|                              1|                  328|                  51155|                 44084|                       1|            91|            2347|           1732|                       45432|                      37532|                    1628|                    220|                                    1|                         81|                        48548|                       28054|                                      1|                           82|                          35853|                         12217|                      1|          334|          12289|          6790|                               558|                              131285|                              53120|                    564|           96820.46|                                   25|                      17357.26|                                  0.04|                                 0.18|Lobortis Ultrices...|       3958|             a|    6.31|  7|    8|        4.36|      false|            false|\n",
       "|00013a8d-3d1e-40d...| 60111071436|  22134|      129.51|    2021-10-11|     101872|  QLD|    4357|     Tony Gonzalez|4494 Hartman Rive...|       Male|Darling Downs - East|Darling Downs - M...|             Rural|Darling Downs - East|   Maranoa|                                               758|                         59234|                        45800|                              1|                  561|                  65504|                 55780|                       1|            88|            1237|           -393|                       61788|                      48535|                    2507|                    676|                                    1|                         98|                        57911|                       27944|                                      1|                           93|                          40941|                         11447|                      1|          555|          17653|         12452|                               895|                              176609|                              79717|                    552|           98608.25|                                   25|                      13995.58|                                  0.05|                                 0.14|   Imperdiet Non LLC|       4019|             a|    6.84|  2|   10|        8.86|      false|            false|\n",
       "|000198f8-6855-4c7...| 49891706470|   1604|       21.55|    2021-05-13|    1257196|   SA|    5640|    Bernard Medina|926 Linda Squares...|       Male|Eyre Peninsula an...|South Australia -...|             Rural|Eyre Peninsula an...|      Grey|                                              6747|                         84933|                        52093|                              1|                 4283|                  75502|                 53180|                       1|          1280|              20|            317|                       88981|                      54694|                    3957|                    770|                                    1|                        785|                       155669|                       32140|                                      1|                          723|                         102108|                         13604|                      1|         4984|          32118|         15274|                              6807|                              315048|                             115045|                    565|          108372.39|                                   20|                       4784.49|                                  0.04|                                 0.04|Non Vestibulum In...|       3988|             a|     5.8|  5|    5|        1.25|      false|            false|\n",
       "|0001d0a1-1e10-48f...| 64403598239|   2786|       60.47|    2022-08-14|    1329975|  NSW|    2336|      Pamela Adams| 0364 Madison Knolls|     Female|        Upper Hunter|Hunter Valley exc...|             Rural|        Upper Hunter|    Hunter|                                              1614|                         55801|                        46872|                              1|                 1282|                  59539|                 51826|                       1|           204|            2441|           1901|                       57930|                      48792|                    2099|                    633|                                    1|                        210|                        51895|                       22508|                                      1|                          198|                          30036|                          8678|                      1|         1205|          15390|         10920|                              1821|                              134754|                              65642|                    587|           99062.68|                                   25|                       4828.08|                                  0.04|                                 0.05|Lobortis Ultrices...|       3958|             a|    6.31|  1|    8|        3.82|      false|            false|\n",
       "|00025d40-af43-402...| 48981211054|  21923|      481.69|    2021-05-21|    1079452|  QLD|    4717|     Devin Ramirez|10623 Anderson Re...|Undisclosed|Central Highlands...|             Fitzroy|             Rural|Central Highlands...|     Flynn|                                              7450|                         70714|                        55934|                              1|                 5927|                  73611|                 64792|                       1|           993|           -1384|          -1291|                       73351|                      58134|                    2562|                    710|                                    1|                        636|                       117700|                       24398|                                      1|                          630|                          96537|                         11812|                      1|         5718|          22490|         15708|                              8088|                              191989|                              84902|                    564|           80461.45|                                   24|                       4013.23|                                  0.04|                                 0.05|Nibh Phasellus Nu...|       4010|             a|    6.68|  6|    5|       32.18|      false|            false|\n",
       "|00025fb3-4911-485...| 23754348523|    510|      125.62|    2021-11-16|     479453|   WA|    6385|    Charles Miller|21844 Christine S...|       Male|  Wheat Belt - North|Western Australia...|             Rural|  Wheat Belt - North|    Durack|                                              1928|                         51458|                        40764|                              1|                 1542|                  50444|                 43855|                       1|           299|            3085|           1417|                       54895|                      43619|                    2815|                    520|                                    1|                        176|                        81325|                       29684|                                      1|                          165|                          68387|                         17663|                      1|         1467|          14424|          8899|                              2238|                              154945|                              54468|                    557|           84449.82|                                   25|                       7831.49|                                  0.04|                                 0.09|Vel Faucibus Id C...|       4004|             d|    0.95|  3|   11|        1.19|      false|            false|\n",
       "|0002c58c-dc2e-499...| 64203420245|  23564|       23.55|    2022-05-17|      17983|  TAS|    7256|Jennifer Patterson|39099 Linda Islan...|     Female|          West Coast| West and North West|             Rural|          West Coast|   Braddon|                                               727|                         42092|                        35963|                              1|                  514|                  45585|                 41876|                       1|            75|            1245|           1013|                       43865|                      36912|                    1514|                    315|                                    1|                         80|                        52018|                       26074|                                      1|                           80|                          41292|                         11516|                      1|          478|          10224|          7716|                               824|                              108845|                              56836|                    557|           87266.83|                                   21|                       3804.31|                                  0.04|                                 0.04|  Pede Nonummy Corp.|       3988|             c|    2.86|  3|    5|        0.67|      false|            false|\n",
       "|00040f4a-4731-487...| 80324045558|  16243|      201.62|    2022-09-10|     303415|  VIC|    3266|  Gregory Williams|  93807 Wheeler Ford|       Male|Warrnambool - Otw...|Warrnambool and S...|             Rural| Colac - Corangamite|    Wannon|                                              1255|                         64323|                        53383|                              1|                 1027|                  67941|                 59991|                       1|           162|           -1722|          -2752|                       66719|                      55353|                    2383|                    820|                                    1|                         84|                        49374|                       20870|                                      1|                           82|                          36765|                          8344|                      1|          991|          18540|         13035|                              1305|                              104771|                              38887|                    577|           85784.42|                                   18|                        5362.2|                                  0.03|                                 0.06|Ipsum Dolor Sit C...|       3990|             c|    1.47|  7|    9|        2.96|      false|             true|\n",
       "|0004c4c3-ffe5-4d2...| 96880556465|  10348|       10.84|    2022-04-03|     942112|  QLD|    4610|   Katrina Wheeler|320 Johnson Sprin...|     Female|             Burnett|            Wide Bay|             Rural|             Burnett|   Maranoa|                                              3670|                         50921|                        43394|                              1|                 2815|                  53536|                 49076|                       1|           363|            2036|            529|                       54012|                      46004|                    2207|                    668|                                    1|                        396|                       125737|                       33578|                                      1|                          380|                         109233|                         18360|                      1|         2705|          13394|          9175|                              4159|                              116219|                              51307|                    568|           94689.11|                                   22|                        7513.3|                                  0.04|                                 0.08|At Lacus Quisque ...|       3990|             a|     5.7|  1|    4|        0.62|      false|            false|\n",
       "|0005b5e1-ac3a-451...| 98268965514|  22179|      274.57|    2022-03-11|    1051714|  VIC|    3465|      Justin Gomez|624 Gutierrez Divide|       Male|           Grampians|          North West|             Rural|Maryborough - Pyr...|    Mallee|                                               348|                         65042|                        48078|                              1|                  211|                  59169|                 51167|                       1|            54|            2569|           1218|                       69907|                      51242|                    3705|                    299|                                    1|                         30|                        65518|                       28250|                                      1|                           25|                          52753|                         18228|                      1|          266|          20489|         11820|                               360|                              176775|                              61311|                    572|           99931.46|                                   27|                      10846.44|                                  0.05|                                 0.11|       Vulputate LLC|       4023|             c|    2.42|  6|    3|        6.64|      false|            false|\n",
       "|0005e00a-fc19-448...| 20985347699|    238|        6.11|    2022-04-08|     738399|  QLD|    4353|         Joel Kirk|     652 Fisher Ramp|Undisclosed|Darling Downs - East|Darling Downs - M...|             Rural|Darling Downs - East|   Maranoa|                                              1015|                         55492|                        47705|                              1|                  824|                  58705|                 51561|                       1|            94|            -484|            -82|                       58053|                      49966|                    2459|                    852|                                    1|                        129|                        88490|                       30650|                                      1|                          125|                          74082|                         17972|                      1|          788|          14624|          9791|                              1209|                              129267|                              65482|                    554|          106744.49|                                   27|                      21623.41|                                  0.05|                                  0.2|    Semper Tellus PC|       3988|             a|     6.1|  6|    4|        0.37|      false|            false|\n",
       "|00065176-712a-46b...| 71989214810|  21273|       326.5|    2021-12-26|     382202|  VIC|    3414|  Kathleen Jenkins|  83225 Anthony Hill|     Female|           Grampians|          North West|             Rural|           Grampians|    Mallee|                                              1597|                         58410|                        48615|                              1|                 1247|                  58359|                 52093|                       1|           242|            2128|            942|                       60838|                      50454|                    2301|                    506|                                    1|                         79|                       100500|                       31003|                                      1|                           83|                          70281|                         14116|                      1|         1216|          16608|         11936|                              1884|                              109646|                              43468|                    576|           94800.99|                                   22|                        6293.1|                                  0.04|                                 0.07|Semper Et Lacinia...|       4002|             a|    6.95|  1|   12|       22.69|      false|            false|\n",
       "|00069b01-e905-4e0...| 50866797623|  21767|       28.22|    2021-11-13|     871121|  VIC|    3105|       David Vance|3840 Kimberly Gar...|       Male|             Banyule|Melbourne - North...|Outer Metropolitan|   Manningham - West|   Menzies|                                               122|                         35015|                        27747|                              1|                   57|                  36453|                 27655|                       1|            18|           -3746|          -4198|                       39573|                      30357|                    3163|                    261|                                    1|                          8|                        29624|                       29216|                                      1|                            6|                          71077|                         13532|                      1|           73|          10598|          6021|                               114|                              190687|                              53305|                    544|           95521.27|                                   27|                       5715.06|                                  0.05|                                 0.06|Cum Sociis Natoqu...|       3990|             c|    2.82|  7|   11|         0.8|      false|            false|\n",
       "|0006a4b1-2b51-444...| 80324045558|  17422|       17.37|    2021-03-16|     472326|   WA|    6522|    Michael Molina|  4025 Delgado Shoal|       Male|            Mid West|Western Australia...|             Rural|            Mid West|    Durack|                                              1928|                         51458|                        40764|                              1|                 1542|                  50444|                 43855|                       1|           299|            3085|           1417|                       54895|                      43619|                    2815|                    520|                                    1|                        176|                        81325|                       29684|                                      1|                          165|                          68387|                         17663|                      1|         1467|          14424|          8899|                              2238|                              154945|                              54468|                    556|           82214.63|                                   28|                       7255.77|                                  0.05|                                 0.09|Ipsum Dolor Sit C...|       3990|             c|    1.47|  3|    3|        0.26|      false|            false|\n",
       "|00079b09-de1f-4bf...| 91720867026|  20318|        52.8|    2021-05-29|    1360573|  VIC|    3852|       Lisa Martin|54006 Chad Spring...|     Female|          Wellington| Latrobe - Gippsland|             Rural|          Wellington| Gippsland|                                              3583|                         57544|                        48676|                              1|                 2891|                  56772|                 51372|                       1|           476|             915|            -76|                       60047|                      51338|                    2240|                    553|                                    1|                        368|                       105052|                       37874|                                      1|                          347|                          91453|                         20169|                      1|         2805|          16356|         11429|                              4026|                              129587|                              53955|                    570|           92428.41|                                   19|                       3153.92|                                  0.03|                                 0.03|     Eget Mollis LLC|       4013|             a|    6.31|  7|    5|        3.33|      false|            false|\n",
       "|00084748-8e51-408...| 34726792617|  11889|       17.21|    2021-11-27|    1376577|  QLD|    4814|       Kevin Yates|364 Virginia Stra...|       Male|          Townsville|          Townsville|        Provincial|          Townsville|   Herbert|                                              9645|                         72615|                        48117|                              1|                 7024|                  65650|                 52707|                       1|          1490|            1152|             64|                       75918|                      50392|                    3078|                    529|                                    1|                        682|                       547327|                       25807|                                      1|                          658|                         534521|                         10564|                      1|         7132|          25462|         11964|                             10794|                              233375|                              81207|                    579|           92855.44|                                   19|                       5210.87|                                  0.03|                                 0.06|Purus Mauris Asso...|       3990|             a|    5.94|  7|   11|        1.02|      false|            false|\n",
       "+--------------------+------------+-------+------------+--------------+-----------+-----+--------+------------------+--------------------+-----------+--------------------+--------------------+------------------+--------------------+----------+--------------------------------------------------+------------------------------+-----------------------------+-------------------------------+---------------------+-----------------------+----------------------+------------------------+--------------+----------------+---------------+----------------------------+---------------------------+------------------------+-----------------------+-------------------------------------+---------------------------+-----------------------------+----------------------------+---------------------------------------+-----------------------------+-------------------------------+------------------------------+-----------------------+-------------+---------------+--------------+----------------------------------+------------------------------------+-----------------------------------+-----------------------+-------------------+-------------------------------------+------------------------------+--------------------------------------+-------------------------------------+--------------------+-----------+--------------+--------+---+-----+------------+-----------+-----------------+\n",
       "only showing top 20 rows"
      ]
     },
     "execution_count": 31,
     "metadata": {},
     "output_type": "execute_result"
    }
   ],
   "source": [
    "# First assign each to a industry \n",
    "full_dataset"
   ]
  },
  {
   "cell_type": "markdown",
   "metadata": {},
   "source": [
    "# Interesting fact I found about the last and first transactions for each merchant"
   ]
  },
  {
   "cell_type": "code",
   "execution_count": null,
   "metadata": {},
   "outputs": [],
   "source": [
    "plot_2 = full_dataset.groupBy('merchant_abn').agg(F.max('order_datetime').alias('First_order'))"
   ]
  },
  {
   "cell_type": "code",
   "execution_count": null,
   "metadata": {},
   "outputs": [],
   "source": [
    "plot_2 = plot_2.withColumn('current', F.when(F.col('First_order') >  F.lit('2022-09-01'), True).otherwise(False))"
   ]
  },
  {
   "cell_type": "code",
   "execution_count": null,
   "metadata": {},
   "outputs": [
    {
     "name": "stderr",
     "output_type": "stream",
     "text": [
      "ERROR:root:KeyboardInterrupt while sending command.===========>   (16 + 1) / 17]\n",
      "Traceback (most recent call last):\n",
      "  File \"/home/rtdt87/.local/lib/python3.8/site-packages/py4j/java_gateway.py\", line 1038, in send_command\n",
      "    response = connection.send_command(command)\n",
      "  File \"/home/rtdt87/.local/lib/python3.8/site-packages/py4j/clientserver.py\", line 511, in send_command\n",
      "    answer = smart_decode(self.stream.readline()[:-1])\n",
      "  File \"/usr/lib/python3.8/socket.py\", line 669, in readinto\n",
      "    return self._sock.recv_into(b)\n",
      "KeyboardInterrupt\n",
      "                                                                                \r"
     ]
    },
    {
     "ename": "KeyboardInterrupt",
     "evalue": "",
     "output_type": "error",
     "traceback": [
      "\u001b[0;31m---------------------------------------------------------------------------\u001b[0m",
      "\u001b[0;31mKeyboardInterrupt\u001b[0m                         Traceback (most recent call last)",
      "\u001b[1;32m/mnt/d/University/Applied Datascience/generic-buy-now-pay-later-project-group-3/notebooks/Ranking_system_Final_Draft.ipynb Cell 35\u001b[0m in \u001b[0;36m<cell line: 1>\u001b[0;34m()\u001b[0m\n\u001b[0;32m----> <a href='vscode-notebook-cell://wsl%2Bubuntu/mnt/d/University/Applied%20Datascience/generic-buy-now-pay-later-project-group-3/notebooks/Ranking_system_Final_Draft.ipynb#X51sdnNjb2RlLXJlbW90ZQ%3D%3D?line=0'>1</a>\u001b[0m plot_2\u001b[39m.\u001b[39;49mcount()\n",
      "File \u001b[0;32m~/.local/lib/python3.8/site-packages/pyspark/sql/dataframe.py:804\u001b[0m, in \u001b[0;36mDataFrame.count\u001b[0;34m(self)\u001b[0m\n\u001b[1;32m    794\u001b[0m \u001b[39mdef\u001b[39;00m \u001b[39mcount\u001b[39m(\u001b[39mself\u001b[39m) \u001b[39m-\u001b[39m\u001b[39m>\u001b[39m \u001b[39mint\u001b[39m:\n\u001b[1;32m    795\u001b[0m     \u001b[39m\"\"\"Returns the number of rows in this :class:`DataFrame`.\u001b[39;00m\n\u001b[1;32m    796\u001b[0m \n\u001b[1;32m    797\u001b[0m \u001b[39m    .. versionadded:: 1.3.0\u001b[39;00m\n\u001b[0;32m   (...)\u001b[0m\n\u001b[1;32m    802\u001b[0m \u001b[39m    2\u001b[39;00m\n\u001b[1;32m    803\u001b[0m \u001b[39m    \"\"\"\u001b[39;00m\n\u001b[0;32m--> 804\u001b[0m     \u001b[39mreturn\u001b[39;00m \u001b[39mint\u001b[39m(\u001b[39mself\u001b[39;49m\u001b[39m.\u001b[39;49m_jdf\u001b[39m.\u001b[39;49mcount())\n",
      "File \u001b[0;32m~/.local/lib/python3.8/site-packages/py4j/java_gateway.py:1320\u001b[0m, in \u001b[0;36mJavaMember.__call__\u001b[0;34m(self, *args)\u001b[0m\n\u001b[1;32m   1313\u001b[0m args_command, temp_args \u001b[39m=\u001b[39m \u001b[39mself\u001b[39m\u001b[39m.\u001b[39m_build_args(\u001b[39m*\u001b[39margs)\n\u001b[1;32m   1315\u001b[0m command \u001b[39m=\u001b[39m proto\u001b[39m.\u001b[39mCALL_COMMAND_NAME \u001b[39m+\u001b[39m\\\n\u001b[1;32m   1316\u001b[0m     \u001b[39mself\u001b[39m\u001b[39m.\u001b[39mcommand_header \u001b[39m+\u001b[39m\\\n\u001b[1;32m   1317\u001b[0m     args_command \u001b[39m+\u001b[39m\\\n\u001b[1;32m   1318\u001b[0m     proto\u001b[39m.\u001b[39mEND_COMMAND_PART\n\u001b[0;32m-> 1320\u001b[0m answer \u001b[39m=\u001b[39m \u001b[39mself\u001b[39;49m\u001b[39m.\u001b[39;49mgateway_client\u001b[39m.\u001b[39;49msend_command(command)\n\u001b[1;32m   1321\u001b[0m return_value \u001b[39m=\u001b[39m get_return_value(\n\u001b[1;32m   1322\u001b[0m     answer, \u001b[39mself\u001b[39m\u001b[39m.\u001b[39mgateway_client, \u001b[39mself\u001b[39m\u001b[39m.\u001b[39mtarget_id, \u001b[39mself\u001b[39m\u001b[39m.\u001b[39mname)\n\u001b[1;32m   1324\u001b[0m \u001b[39mfor\u001b[39;00m temp_arg \u001b[39min\u001b[39;00m temp_args:\n",
      "File \u001b[0;32m~/.local/lib/python3.8/site-packages/py4j/java_gateway.py:1038\u001b[0m, in \u001b[0;36mGatewayClient.send_command\u001b[0;34m(self, command, retry, binary)\u001b[0m\n\u001b[1;32m   1036\u001b[0m connection \u001b[39m=\u001b[39m \u001b[39mself\u001b[39m\u001b[39m.\u001b[39m_get_connection()\n\u001b[1;32m   1037\u001b[0m \u001b[39mtry\u001b[39;00m:\n\u001b[0;32m-> 1038\u001b[0m     response \u001b[39m=\u001b[39m connection\u001b[39m.\u001b[39;49msend_command(command)\n\u001b[1;32m   1039\u001b[0m     \u001b[39mif\u001b[39;00m binary:\n\u001b[1;32m   1040\u001b[0m         \u001b[39mreturn\u001b[39;00m response, \u001b[39mself\u001b[39m\u001b[39m.\u001b[39m_create_connection_guard(connection)\n",
      "File \u001b[0;32m~/.local/lib/python3.8/site-packages/py4j/clientserver.py:511\u001b[0m, in \u001b[0;36mClientServerConnection.send_command\u001b[0;34m(self, command)\u001b[0m\n\u001b[1;32m    509\u001b[0m \u001b[39mtry\u001b[39;00m:\n\u001b[1;32m    510\u001b[0m     \u001b[39mwhile\u001b[39;00m \u001b[39mTrue\u001b[39;00m:\n\u001b[0;32m--> 511\u001b[0m         answer \u001b[39m=\u001b[39m smart_decode(\u001b[39mself\u001b[39;49m\u001b[39m.\u001b[39;49mstream\u001b[39m.\u001b[39;49mreadline()[:\u001b[39m-\u001b[39m\u001b[39m1\u001b[39m])\n\u001b[1;32m    512\u001b[0m         logger\u001b[39m.\u001b[39mdebug(\u001b[39m\"\u001b[39m\u001b[39mAnswer received: \u001b[39m\u001b[39m{0}\u001b[39;00m\u001b[39m\"\u001b[39m\u001b[39m.\u001b[39mformat(answer))\n\u001b[1;32m    513\u001b[0m         \u001b[39m# Happens when a the other end is dead. There might be an empty\u001b[39;00m\n\u001b[1;32m    514\u001b[0m         \u001b[39m# answer before the socket raises an error.\u001b[39;00m\n",
      "File \u001b[0;32m/usr/lib/python3.8/socket.py:669\u001b[0m, in \u001b[0;36mSocketIO.readinto\u001b[0;34m(self, b)\u001b[0m\n\u001b[1;32m    667\u001b[0m \u001b[39mwhile\u001b[39;00m \u001b[39mTrue\u001b[39;00m:\n\u001b[1;32m    668\u001b[0m     \u001b[39mtry\u001b[39;00m:\n\u001b[0;32m--> 669\u001b[0m         \u001b[39mreturn\u001b[39;00m \u001b[39mself\u001b[39;49m\u001b[39m.\u001b[39;49m_sock\u001b[39m.\u001b[39;49mrecv_into(b)\n\u001b[1;32m    670\u001b[0m     \u001b[39mexcept\u001b[39;00m timeout:\n\u001b[1;32m    671\u001b[0m         \u001b[39mself\u001b[39m\u001b[39m.\u001b[39m_timeout_occurred \u001b[39m=\u001b[39m \u001b[39mTrue\u001b[39;00m\n",
      "\u001b[0;31mKeyboardInterrupt\u001b[0m: "
     ]
    }
   ],
   "source": [
    "plot_2.count()"
   ]
  },
  {
   "cell_type": "code",
   "execution_count": null,
   "metadata": {},
   "outputs": [
    {
     "name": "stderr",
     "output_type": "stream",
     "text": [
      "                                                                                \r"
     ]
    },
    {
     "data": {
      "text/plain": [
       "3759"
      ]
     },
     "execution_count": 43,
     "metadata": {},
     "output_type": "execute_result"
    }
   ],
   "source": [
    "plot_2.where(F.col('current') == True).count()"
   ]
  },
  {
   "cell_type": "code",
   "execution_count": null,
   "metadata": {},
   "outputs": [
    {
     "name": "stderr",
     "output_type": "stream",
     "text": [
      "                                                                                \r"
     ]
    },
    {
     "data": {
      "text/plain": [
       "<AxesSubplot:xlabel='First_order', ylabel='Count'>"
      ]
     },
     "execution_count": 36,
     "metadata": {},
     "output_type": "execute_result"
    },
    {
     "data": {
      "image/png": "[encoded data removed]",
      "text/plain": [
       "<Figure size 432x288 with 1 Axes>"
      ]
     },
     "metadata": {
      "needs_background": "light"
     },
     "output_type": "display_data"
    }
   ],
   "source": [
    "sns.histplot(x='First_order', data = plot_2.toPandas())"
   ]
  }
 ],
 "metadata": {
  "kernelspec": {
   "display_name": "Python 3.8.10 64-bit",
   "language": "python",
   "name": "python3"
  },
  "language_info": {
   "codemirror_mode": {
    "name": "ipython",
    "version": 3
   },
   "file_extension": ".py",
   "mimetype": "text/x-python",
   "name": "python",
   "nbconvert_exporter": "python",
   "pygments_lexer": "ipython3",
   "version": "3.8.10"
  },
  "orig_nbformat": 4,
  "vscode": {
   "interpreter": {
    "hash": "916dbcbb3f70747c44a77c7bcd40155683ae19c65e1c03b4aa3499c5328201f1"
   }
  }
 },
 "nbformat": 4,
 "nbformat_minor": 2
}
