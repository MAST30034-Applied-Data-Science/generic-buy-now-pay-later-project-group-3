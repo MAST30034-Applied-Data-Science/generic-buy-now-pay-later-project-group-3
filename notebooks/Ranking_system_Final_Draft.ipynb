{
 "cells": [
  {
   "cell_type": "markdown",
   "metadata": {},
   "source": [
    "# Merchant Ranking Algorith\n",
    "The method of ranking each merchant, will take inspiration from the methods proposed in (https://sapinsider.org/leveraging-analytical-method-for-ranking-suppliers/), in which we rank each key attribute out of 5, then sum them together with weightsget a score for each merchant. \n",
    "\n",
    "The Key Attributes for now are: \n",
    "- Revenue\n",
    "- Customer_Base \n",
    "- Sustainability\n",
    "- Envirnment"
   ]
  },
  {
   "cell_type": "code",
   "execution_count": 1,
   "metadata": {},
   "outputs": [
    {
     "name": "stdout",
     "output_type": "stream",
     "text": [
      "22/10/09 18:47:05 WARN Utils: Your hostname, James-N580VD-DM229T resolves to a loopback address: 127.0.1.1; using 172.27.222.219 instead (on interface eth0)\n",
      "22/10/09 18:47:05 WARN Utils: Set SPARK_LOCAL_IP if you need to bind to another address\n"
     ]
    },
    {
     "name": "stderr",
     "output_type": "stream",
     "text": [
      "Setting default log level to \"WARN\".\n",
      "To adjust logging level use sc.setLogLevel(newLevel). For SparkR, use setLogLevel(newLevel).\n"
     ]
    },
    {
     "name": "stdout",
     "output_type": "stream",
     "text": [
      "22/10/09 18:47:08 WARN NativeCodeLoader: Unable to load native-hadoop library for your platform... using builtin-java classes where applicable\n"
     ]
    }
   ],
   "source": [
    "from pyspark.sql import SparkSession, functions as F\n",
    "from pyspark.ml import feature as H\n",
    "# First lets reed the datasets\n",
    "spark = (\n",
    "    SparkSession.builder.appName(\"Data_Explorer\")\n",
    "    .config(\"spark.sql.repl.eagerEval.enabled\", True) \n",
    "    .config(\"spark.sql.parquet.cacheMetadata\", \"true\")\n",
    "    .config(\"spark.sql.session.timeZone\", \"Etc/UTC\")\n",
    "    .config(\"spark.driver.memory\", \"4g\")\n",
    "    .getOrCreate()\n",
    ")"
   ]
  },
  {
   "cell_type": "code",
   "execution_count": 29,
   "metadata": {},
   "outputs": [],
   "source": [
    "# Read the datasets \n",
    "transactions = spark.read.parquet('../data/processed/transactions')\n",
    "merchants =  spark.read.parquet('../data/processed/merchants/')\n",
    "full_dataset = spark.read.parquet('../data/curated/full_dataset_Variation/')\n",
    "final_data_collection = merchants.select('merchant_abn')\n",
    "fraud_probabilities = spark.read.parquet('../models/random_forest_output_full/')\n",
    "fraud_probabilities = fraud_probabilities.select('merchant_abn', 'user_id', 'order_datetime', 'prediction')"
   ]
  },
  {
   "cell_type": "code",
   "execution_count": 31,
   "metadata": {},
   "outputs": [],
   "source": [
    "# Define our scaliong function\n",
    "def feature_standardisation(dataset, max_columns, min_columns = False): \n",
    "    for col_name in max_columns:\n",
    "        values = dataset.select(F.max(col_name).alias('high'), F.min(col_name).alias('low'))\n",
    "        dataset = dataset.withColumn(col_name, F.round((F.col(col_name) - values.select('low').head()[0]) / (values.select('high').head()[0] - values.select('low').head()[0]), 4))\n",
    "    if min_columns != False:\n",
    "        for col_name in min_columns:\n",
    "            values = dataset.select(F.max(col_name).alias('high'), F.min(col_name).alias('low'))\n",
    "            dataset = dataset.withColumn(col_name, F.round((values.select('high').head()[0] - F.col(col_name)) / (values.select('high').head()[0] - values.select('low').head()[0]), 4))\n",
    "        return dataset"
   ]
  },
  {
   "cell_type": "markdown",
   "metadata": {},
   "source": [
    "# Concerns\n",
    "Just stuff i came across whilst implementing"
   ]
  },
  {
   "cell_type": "code",
   "execution_count": 4,
   "metadata": {},
   "outputs": [
    {
     "name": "stderr",
     "output_type": "stream",
     "text": [
      "                                                                                \r"
     ]
    },
    {
     "data": {
      "text/plain": [
       "<AxesSubplot:xlabel='dollar_value', ylabel='Count'>"
      ]
     },
     "execution_count": 4,
     "metadata": {},
     "output_type": "execute_result"
    },
    {
     "data": {
      "image/png": "[encoded data removed]",
      "text/plain": [
       "<Figure size 432x288 with 1 Axes>"
      ]
     },
     "metadata": {
      "needs_background": "light"
     },
     "output_type": "display_data"
    }
   ],
   "source": [
    "# Case: if we use a cut-off point for the fraud probability, and minus the dollar_value of 'fraud' transactions\n",
    "concern1 = transactions.where(F.col('merchant_abn') == 83412691377).select('Potential_Outlier', 'dollar_value').toPandas()\n",
    "import seaborn as sns\n",
    "sns.histplot(x='dollar_value', hue='Potential_Outlier', data=concern1)\n",
    "# From counting the total revenue for each merchant using such method, I found that some have negative ones (but just using outlier_attr).\n",
    "# However, due to most outluiers being larger than the mean, minusing it results in devestating loss to revenue, which is to consider"
   ]
  },
  {
   "cell_type": "markdown",
   "metadata": {},
   "source": [
    "# 1. Tansaction_Revenue\n",
    "For this we will look into:\n",
    "- Renevue (Recent)\n",
    "- Projected Revenue "
   ]
  },
  {
   "cell_type": "code",
   "execution_count": 32,
   "metadata": {},
   "outputs": [],
   "source": [
    "# For revenue, we first set the break point as what we determine as 'Recent'\n",
    "# We will for now determine as last 6 months (i.e march) \n",
    "RECENCY =  F.lit('2022-03-01')"
   ]
  },
  {
   "cell_type": "markdown",
   "metadata": {},
   "source": [
    "1.1 Revenue"
   ]
  },
  {
   "cell_type": "code",
   "execution_count": 6,
   "metadata": {},
   "outputs": [],
   "source": [
    "# take subset\n",
    "revenue_data = full_dataset.where(F.col('order_datetime') > RECENCY).select('merchant_abn','user_id', 'order_datetime', 'dollar_value', 'BNPL_Revenue')"
   ]
  },
  {
   "cell_type": "code",
   "execution_count": 7,
   "metadata": {},
   "outputs": [],
   "source": [
    "# Now join fraud prob \n",
    "revenue_data = revenue_data.join(fraud_probabilities, on=['merchant_abn', 'user_id', 'order_datetime'], how='left')"
   ]
  },
  {
   "cell_type": "code",
   "execution_count": 8,
   "metadata": {},
   "outputs": [],
   "source": [
    "# Proper method (with the probabilities)\n",
    "# revenue_data = revenue_data.withColumn('BNPL_weighted_Revenue', F.col('BNPL_Revenue') * F.col('Fraud_probability'))"
   ]
  },
  {
   "cell_type": "code",
   "execution_count": 9,
   "metadata": {},
   "outputs": [],
   "source": [
    "# Alternative Method\n",
    "revenue_data = revenue_data.withColumn('BNPL_weighted_Revenue', F.col('BNPL_Revenue') * (1 - 0.1 * F.col('prediction'))\n",
    "                                                                 )\n",
    "# save dataset for growth analysis\n",
    "revenue_growth = revenue_data"
   ]
  },
  {
   "cell_type": "code",
   "execution_count": 10,
   "metadata": {},
   "outputs": [],
   "source": [
    "# Now can caluculate each Merchants revenue\n",
    "revenue_data = revenue_data.groupBy('merchant_abn').agg(F.round(F.sum('BNPL_weighted_Revenue'), 2).alias('Total_Revenue'))"
   ]
  },
  {
   "cell_type": "markdown",
   "metadata": {},
   "source": [
    "1.2 Revenue Growth"
   ]
  },
  {
   "cell_type": "code",
   "execution_count": 12,
   "metadata": {},
   "outputs": [],
   "source": [
    "# Revenye Growth\n",
    "revenue_data_table = full_dataset.select('merchant_abn').distinct()\n",
    "# now for the past 6 monts calculate \n",
    "months = [3,4,5,6,7,8,9]\n",
    "for month in months:\n",
    "    end_month = month + 1\n",
    "    if end_month < 10:\n",
    "        revenue_data_table = revenue_data_table.join(revenue_growth.where((F.col('order_datetime') < F.lit('2022-0' + str(end_month)+'-01'))).groupBy('merchant_abn').agg(F.sum('BNPL_weighted_Revenue').alias('Month_' + str(month))), on='merchant_abn', how='left')\n",
    "    else:\n",
    "        revenue_data_table = revenue_data_table.join(revenue_growth.where((F.col('order_datetime') < F.lit('2022-' + str(end_month)+'-01'))).groupBy('merchant_abn').agg(F.sum('BNPL_weighted_Revenue').alias('Month_' + str(month))), on='merchant_abn', how='left')\n",
    "revenue_data_table = revenue_data_table.fillna(1)\n",
    "# Now need to calculate growth rate for each month\n",
    "revenue_data_table = revenue_data_table.withColumn('Growth_4', (F.col('Month_4') - F.col('Month_3')) / F.col('Month_4'))\n",
    "revenue_data_table = revenue_data_table.withColumn('Growth_5', (F.col('Month_5') - F.col('Month_4')) / F.col('Month_5'))\n",
    "revenue_data_table = revenue_data_table.withColumn('Growth_6', (F.col('Month_6') - F.col('Month_5')) / F.col('Month_6'))\n",
    "revenue_data_table = revenue_data_table.withColumn('Growth_7', (F.col('Month_7') - F.col('Month_6'))/ F.col('Month_7'))\n",
    "revenue_data_table = revenue_data_table.withColumn('Growth_8', (F.col('Month_8') - F.col('Month_7')) / F.col('Month_8'))\n",
    "revenue_data_table = revenue_data_table.withColumn('Growth_9', (F.col('Month_9') - F.col('Month_8')) / F.col('Month_9'))"
   ]
  },
  {
   "cell_type": "code",
   "execution_count": 13,
   "metadata": {},
   "outputs": [],
   "source": [
    "revenue_data = revenue_data.join(revenue_data_table.withColumn('Revenue_Growth_Avg', F.round((F.col('Growth_4') + F.col('Growth_5') + F.col('Growth_6') + F.col('Growth_7') + F.col('Growth_8') + F.col('Growth_9')) / 6 , 4)), on='merchant_abn', how='left')"
   ]
  },
  {
   "cell_type": "code",
   "execution_count": 14,
   "metadata": {},
   "outputs": [
    {
     "name": "stderr",
     "output_type": "stream",
     "text": [
      "                                                                                \r"
     ]
    }
   ],
   "source": [
    "# And scale\n",
    "revenue_final = feature_standardisation(revenue_data, ['Revenue_Growth_Avg', 'Total_Revenue'])"
   ]
  },
  {
   "cell_type": "code",
   "execution_count": null,
   "metadata": {},
   "outputs": [],
   "source": [
    "# save file \n",
    "revenue_final.write.parquet('../data/Normalised/revenue_scailed')"
   ]
  },
  {
   "cell_type": "markdown",
   "metadata": {},
   "source": [
    "# Sustainability \n",
    "- Experience\n",
    "- Customer Growth (Last 6 months)\n",
    "- Postcode_Entropy\n",
    "Next, we add a rating for a companies growth/longevity"
   ]
  },
  {
   "cell_type": "code",
   "execution_count": 15,
   "metadata": {},
   "outputs": [],
   "source": [
    "merchants_sub = merchants.select(['merchant_abn', 'postcode_entropy'])"
   ]
  },
  {
   "cell_type": "code",
   "execution_count": 16,
   "metadata": {},
   "outputs": [],
   "source": [
    "# Customer Growth\n",
    "# First grab total Unique customers \n",
    "Unique_cust = full_dataset.where(F.col('order_datetime') < F.lit('2022-05-01')).groupBy('merchant_abn').agg(F.countDistinct('user_id').alias('Unique_Customers'))\n",
    "# now for the past 6 monts calculate \n",
    "months = [5,6,7,8,9,10]\n",
    "customer_counting_data = full_dataset.select('merchant_abn', 'user_id', 'order_datetime', 'month')\n",
    "for month in months:\n",
    "    end_month = month + 1\n",
    "    if end_month < 10:\n",
    "        Unique_cust = Unique_cust.join(customer_counting_data.where((F.col('order_datetime') < F.lit('2022-0' + str(end_month)+'-01'))).groupBy('merchant_abn').agg(F.countDistinct('user_id').alias('Month_' + str(month))), on='merchant_abn', how='left')\n",
    "    else:\n",
    "        Unique_cust = Unique_cust.join(customer_counting_data.where((F.col('order_datetime') < F.lit('2022-' + str(end_month)+'-01'))).groupBy('merchant_abn').agg(F.countDistinct('user_id').alias('Month_' + str(month))), on='merchant_abn', how='left')\n",
    "Unique_cust = Unique_cust.fillna(1)\n",
    "# Now need to calculate growth rate for each month\n",
    "Unique_cust = Unique_cust.withColumn('Growth_5', F.col('Unique_Customers') / F.col('Month_5'))\n",
    "Unique_cust = Unique_cust.withColumn('Growth_6', (F.col('Month_6') - F.col('Month_5')) / F.col('Month_6'))\n",
    "Unique_cust = Unique_cust.withColumn('Growth_7', (F.col('Month_7') - F.col('Month_6'))/ F.col('Month_7'))\n",
    "Unique_cust = Unique_cust.withColumn('Growth_8', (F.col('Month_8') - F.col('Month_7')) / F.col('Month_8'))\n",
    "Unique_cust = Unique_cust.withColumn('Growth_9', (F.col('Month_9') - F.col('Month_8')) / F.col('Month_9'))\n",
    "Unique_cust = Unique_cust.withColumn('Growth_10',(F.col('Month_10') - F.col('Month_9')) / F.col('Month_10'))"
   ]
  },
  {
   "cell_type": "code",
   "execution_count": 17,
   "metadata": {},
   "outputs": [],
   "source": [
    "# Finally get the average customer growth rate over the last 6 months\n",
    "Unique_cust = Unique_cust.withColumn('Customer_Growth_Avg', F.round((F.col('Growth_5') + F.col('Growth_6') + F.col('Growth_7') + F.col('Growth_8') + F.col('Growth_9') + F.col('Growth_10')) / 6 , 4))"
   ]
  },
  {
   "cell_type": "code",
   "execution_count": 18,
   "metadata": {},
   "outputs": [],
   "source": [
    "merchants_sub = merchants_sub.join(Unique_cust.select('merchant_abn', 'Customer_Growth_Avg'), on='merchant_abn', how='left')"
   ]
  },
  {
   "cell_type": "code",
   "execution_count": 19,
   "metadata": {},
   "outputs": [],
   "source": [
    "# Experience \n",
    "number_of_dates_by_merchant = transactions.groupBy('merchant_abn','order_datetime').count()\n",
    "number_of_dates_by_merchant = number_of_dates_by_merchant.drop('order_datetime')\n",
    "number_of_dates_by_merchant = number_of_dates_by_merchant.groupBy('merchant_abn').sum('count')\n",
    "merchants_sub = merchants_sub.join(number_of_dates_by_merchant.withColumnRenamed('sum(count)','Total_Business_Days'), on='merchant_abn', how='left')"
   ]
  },
  {
   "cell_type": "code",
   "execution_count": 20,
   "metadata": {},
   "outputs": [
    {
     "name": "stderr",
     "output_type": "stream",
     "text": [
      "                                                                                \r"
     ]
    }
   ],
   "source": [
    "merchants_final = feature_standardisation(merchants_sub, ['Total_Business_Days', 'Customer_Growth_Avg'], ['postcode_entropy'])"
   ]
  },
  {
   "cell_type": "code",
   "execution_count": null,
   "metadata": {},
   "outputs": [],
   "source": [
    "# save file \n",
    "merchants_final.write.parquet('../data/Normalised/merchant_scailed')"
   ]
  },
  {
   "cell_type": "markdown",
   "metadata": {},
   "source": [
    "# Customer Base\n",
    "In this sections we use the features:\n",
    "- Transaction_per_User\n",
    "- customer_wealth\n",
    "- Unique_Customers\n",
    "- Loyal_AVG\n",
    "- postcode_entropy"
   ]
  },
  {
   "cell_type": "markdown",
   "metadata": {},
   "source": [
    "1.1 Loyalty"
   ]
  },
  {
   "cell_type": "code",
   "execution_count": 21,
   "metadata": {},
   "outputs": [
    {
     "name": "stderr",
     "output_type": "stream",
     "text": [
      "                                                                                \r"
     ]
    }
   ],
   "source": [
    "# Create Loyalfy feature\n",
    "grouped = full_dataset.groupBy(\"user_id\", \"merchant_abn\")\n",
    "RPR = grouped.count().withColumnRenamed(\"count\", \"RPR\")\n",
    "upSell = RPR.groupBy(\"user_id\").count().withColumnRenamed(\"count\", \"upsell\")\n",
    "CLV = grouped.sum(\"dollar_value\").withColumnRenamed(\"sum(dollar_value)\", \"CLV\")\n",
    "# Define the window\n",
    "from pyspark.sql.window import Window\n",
    "w = Window.partitionBy([\"user_id\", \"merchant_abn\"]).orderBy(\"order_datetime\")\n",
    "\n",
    "retention = full_dataset.withColumn(\n",
    "    'diff',\n",
    "    F.datediff(F.col(\"order_datetime\"), F.lag(\"order_datetime\").over(w))\n",
    ").groupBy(\"user_id\", \"merchant_abn\").agg(F.avg(F.col(\"diff\")).alias(\"retention\"))\n",
    "retention.agg({\"retention\":\"max\"}).collect()\n",
    "retention.na.fill(value=365)\n",
    "loyal = retention.na.fill(value=365).join(RPR, on=[\"user_id\", \"merchant_abn\"], how=\"left\").join(CLV, on=[\"user_id\", \"merchant_abn\"], how=\"left\").join(upSell, on=[\"user_id\"], how=\"left\")\n",
    "loyal = loyal.withColumn(\"loyal\", F.col(\"RPR\") * F.col(\"CLV\") * F.col(\"upSell\") / F.col(\"retention\"))"
   ]
  },
  {
   "cell_type": "code",
   "execution_count": 22,
   "metadata": {},
   "outputs": [],
   "source": [
    "from pyspark.sql.functions import col\n",
    "from pyspark.sql import Window\n",
    "loyal = loyal.select(*(col(c).cast(\"float\").alias(c) for c in loyal.columns))\n",
    "loyal = loyal.select('user_id', 'merchant_abn', 'loyal')"
   ]
  },
  {
   "cell_type": "code",
   "execution_count": 23,
   "metadata": {},
   "outputs": [],
   "source": [
    "grp_window = Window.partitionBy('grp')\n",
    "magic_percentile = F.expr('percentile_approx(loyal, 0.5)')\n",
    "loyal = loyal.join(loyal.groupBy('user_id').agg(magic_percentile.alias('med_val')), on='user_id', how='left')"
   ]
  },
  {
   "cell_type": "code",
   "execution_count": 24,
   "metadata": {},
   "outputs": [],
   "source": [
    "from pyspark.sql.functions import coalesce\n",
    "loyal = loyal.withColumn('loyal', coalesce('loyal', 'med_val')).select(['user_id', 'merchant_abn', 'loyal'])\n",
    "loyal_agg = loyal.groupBy('merchant_abn').agg(F.round(F.avg('loyal'), 2).alias('Loyal_AVG'))"
   ]
  },
  {
   "cell_type": "markdown",
   "metadata": {},
   "source": [
    "Add few other metrics (Need to still add Postcode Entropy...)"
   ]
  },
  {
   "cell_type": "code",
   "execution_count": 25,
   "metadata": {},
   "outputs": [],
   "source": [
    "cust_data =  full_dataset.groupBy('merchant_abn').agg(F.countDistinct('user_id').alias('Unique_Customers'), F.round(F.count('user_id') / F.countDistinct('user_id'), 2).alias('Transaction_per_User'), F.round(F.avg('Average taxable income or loss'),2).alias('customer_wealth'))\n",
    "cust_data = cust_data.join(loyal_agg, on='merchant_abn')"
   ]
  },
  {
   "cell_type": "code",
   "execution_count": 26,
   "metadata": {},
   "outputs": [],
   "source": [
    "# Get customer Entropy \n",
    "cust_entro = full_dataset.select('merchant_abn', 'user_id', 'electorate', 'order_datetime')\n",
    "Entropy_cust = cust_entro.select('merchant_abn').toDF('merchant_abn').drop_duplicates().crossJoin(cust_entro.select('electorate').toDF('electorate').drop_duplicates())\n",
    "Entropy_cust = Entropy_cust.join(cust_entro.groupBy('merchant_abn', 'electorate').agg(F.countDistinct('user_id').alias('Count')), on=['merchant_abn', 'electorate'], how='left')\n",
    "Entropy_cust = Entropy_cust.fillna(1)\n",
    "Entropy_cust = Entropy_cust.join(Entropy_cust.groupBy(\"merchant_abn\").sum('Count'), on='merchant_abn', how='left')\n",
    "Entropy_cust = Entropy_cust.withColumn('Probability', F.col('Count') / F.col('sum(Count)'))\n",
    "Entropy_cust = Entropy_cust.groupBy(\"merchant_abn\").agg((-F.sum(F.col(\"Probability\") * F.log2(col(\"Probability\")))).alias(\"Customer_Entropy\"))"
   ]
  },
  {
   "cell_type": "code",
   "execution_count": 27,
   "metadata": {},
   "outputs": [],
   "source": [
    "cust_data = cust_data.join(Entropy_cust, on='merchant_abn', how='left')\n",
    "#cust_data = cust_data.join(merchants.select('merchant_abn', 'postcode_entropy'), on='merchant_abn', how='left')"
   ]
  },
  {
   "cell_type": "code",
   "execution_count": 28,
   "metadata": {},
   "outputs": [
    {
     "name": "stderr",
     "output_type": "stream",
     "text": [
      "                                                                                \r"
     ]
    }
   ],
   "source": [
    "cust_final = feature_standardisation(cust_data, ['Transaction_per_User', 'customer_wealth', 'Unique_Customers', 'Loyal_AVG'], ['Customer_Entropy'])"
   ]
  },
  {
   "cell_type": "code",
   "execution_count": null,
   "metadata": {},
   "outputs": [],
   "source": [
    "# save file \n",
    "merchants_final.write.parquet('../data/Normalised/customer_scailed')"
   ]
  },
  {
   "cell_type": "markdown",
   "metadata": {},
   "source": [
    "# Industry/Environment \n",
    "- We add a general score, based on their description tags, in relation to which industry they belong to "
   ]
  },
  {
   "cell_type": "code",
   "execution_count": 56,
   "metadata": {},
   "outputs": [],
   "source": [
    "# Read lookup table \n",
    "description_lookup = spark.read.csv('../data/tables/description_lookup.csv')\n",
    "description_lookup = description_lookup.withColumnRenamed('_c0', 'Full_description')\n",
    "description_lookup = description_lookup.withColumnRenamed('_c1', 'Description_Key')"
   ]
  },
  {
   "cell_type": "code",
   "execution_count": 57,
   "metadata": {},
   "outputs": [],
   "source": [
    "import pandas as pd\n",
    "# Next assign each to one of the 4 industries\n",
    "#Administrative_Support_Services= [\"equipment tool furniture appliance rent al leasing\", \"florist supply nursery stock flower\", \"lawn garden supply outlet including nursery\"]\n",
    "Administrative_Support_Services = [8, 10, 23]\n",
    "#Personal_Services= [\"shoe shop\", \"gift card novelty souvenir shop\", \"antique shop sale repair restoration service\", \"watch clock jewellery repair shop\", \"jewellery watch clock silverware shop\",  \"motor vehicle supply new part\", \"furniture home furnishing equipment shop manufa...\", \"tent awning shop\", \"optician optical good eyeglass\"]\n",
    "Personal_Services = [19, 5, 11, 3, 2, 12, 0, 15, 20]\n",
    "#Arts_Recreation_Services = [\"digital good book movie music\", \"music shop musical instrument piano sheet music\", \"health beauty spa\", \"bicycle shop sale service\", \"art dealer gallery\", \"hobby toy game shop\", \"stationery office supply printing writing paper\"]\n",
    "Arts_Recreation_Services = [18, 4, 21, 17, 16, 22, 14]\n",
    "#Information_Media_Telecommunications = [\"telecom\", \"computer programming data processing integrated...\", \"book periodical newspaper\", \"artist supply craft shop\", \"computer computer peripheral equipment software\", \"cable satellite pay television radio service\"]\n",
    "Information_Media_Telecommunications=[24, 6,7,9,1,13]\n",
    "desc = []\n",
    "tags = []\n",
    "for ele in Administrative_Support_Services:\n",
    "    desc.append(\"Administrative_Support_Services\")\n",
    "tags += Administrative_Support_Services\n",
    "for ele in Personal_Services:\n",
    "    desc.append(\"Personal_Services\")\n",
    "tags += Personal_Services\n",
    "for ele in Arts_Recreation_Services:\n",
    "    desc.append(\"Arts_Recreation_Services\")\n",
    "tags += Arts_Recreation_Services\n",
    "for ele in Information_Media_Telecommunications:\n",
    "    desc.append(\"Information_Media_Telecommunications\")\n",
    "tags += Information_Media_Telecommunications\n",
    "\n",
    "to_df = {\n",
    "    \"sector\" :  desc,\n",
    "    \"Description\" : tags\n",
    "}\n",
    "sectors = spark.createDataFrame(pd.DataFrame(to_df))\n",
    "dataset_sect = description_lookup.join(sectors, on= description_lookup.Description_Key == sectors.Description).drop('Description')"
   ]
  },
  {
   "cell_type": "code",
   "execution_count": 69,
   "metadata": {},
   "outputs": [],
   "source": [
    "industry_data = full_dataset.select('merchant_abn','user_id', 'order_datetime', 'dollar_value', 'BNPL_Revenue', 'Description')\n",
    "# Now join fraud prob \n",
    "industry_data = industry_data.join(fraud_probabilities, on=['merchant_abn', 'user_id', 'order_datetime'], how='left')\n",
    "industry_data = industry_data.withColumn('BNPL_weighted_Revenue', F.col('BNPL_Revenue') * (1 - 0.1 * F.col('prediction'))\n",
    "                                                                 )"
   ]
  },
  {
   "cell_type": "code",
   "execution_count": 70,
   "metadata": {},
   "outputs": [],
   "source": [
    "industry_data = industry_data.join(dataset_sect, on=industry_data.Description == dataset_sect.Description_Key, how='left').drop('Full_Description', 'Description_Key')"
   ]
  },
  {
   "cell_type": "markdown",
   "metadata": {},
   "source": [
    "Now we can begin getting our attributes, which are:\n",
    "- Market Dominance\n",
    "- Survival Rate\n",
    "- Fraud_Prob_Avg\n",
    "- Customer_Base\n",
    "- Growth"
   ]
  },
  {
   "cell_type": "code",
   "execution_count": 112,
   "metadata": {},
   "outputs": [],
   "source": [
    "# Define the toggle \n",
    "#SECTOR_SIZE = 'Description'\n",
    "# or \n",
    "SECTOR_SIZE = 'sector'\n",
    "Merchant_Industry = industry_data.select('merchant_abn', 'sector').distinct()"
   ]
  },
  {
   "cell_type": "code",
   "execution_count": 1,
   "metadata": {},
   "outputs": [
    {
     "ename": "NameError",
     "evalue": "name 'industry_data' is not defined",
     "output_type": "error",
     "traceback": [
      "\u001b[0;31m---------------------------------------------------------------------------\u001b[0m",
      "\u001b[0;31mNameError\u001b[0m                                 Traceback (most recent call last)",
      "\u001b[1;32m/mnt/d/University/Applied Datascience/generic-buy-now-pay-later-project-group-3/notebooks/Ranking_system_Final_Draft.ipynb Cell 46\u001b[0m in \u001b[0;36m<cell line: 2>\u001b[0;34m()\u001b[0m\n\u001b[1;32m      <a href='vscode-notebook-cell://wsl%2Bubuntu/mnt/d/University/Applied%20Datascience/generic-buy-now-pay-later-project-group-3/notebooks/Ranking_system_Final_Draft.ipynb#X63sdnNjb2RlLXJlbW90ZQ%3D%3D?line=0'>1</a>\u001b[0m \u001b[39m# Market Dominance\u001b[39;00m\n\u001b[0;32m----> <a href='vscode-notebook-cell://wsl%2Bubuntu/mnt/d/University/Applied%20Datascience/generic-buy-now-pay-later-project-group-3/notebooks/Ranking_system_Final_Draft.ipynb#X63sdnNjb2RlLXJlbW90ZQ%3D%3D?line=1'>2</a>\u001b[0m industry_table \u001b[39m=\u001b[39m industry_data\u001b[39m.\u001b[39mwhere(F\u001b[39m.\u001b[39mcol(\u001b[39m'\u001b[39m\u001b[39morder_datetime\u001b[39m\u001b[39m'\u001b[39m) \u001b[39m>\u001b[39m RECENCY)\u001b[39m.\u001b[39mgroupBy(\u001b[39m'\u001b[39m\u001b[39msector\u001b[39m\u001b[39m'\u001b[39m)\u001b[39m.\u001b[39magg(F\u001b[39m.\u001b[39msum(\u001b[39m'\u001b[39m\u001b[39mBNPL_weighted_Revenue\u001b[39m\u001b[39m'\u001b[39m)\u001b[39m.\u001b[39malias(\u001b[39m'\u001b[39m\u001b[39mTotal_Weighted_Revenue\u001b[39m\u001b[39m'\u001b[39m), F\u001b[39m.\u001b[39mcount(\u001b[39m'\u001b[39m\u001b[39mBNPL_weighted_Revenue\u001b[39m\u001b[39m'\u001b[39m)\u001b[39m.\u001b[39malias(\u001b[39m'\u001b[39m\u001b[39mTotal_Transactions\u001b[39m\u001b[39m'\u001b[39m), F\u001b[39m.\u001b[39mavg(\u001b[39m'\u001b[39m\u001b[39mBNPL_weighted_Revenue\u001b[39m\u001b[39m'\u001b[39m)\u001b[39m.\u001b[39malias(\u001b[39m'\u001b[39m\u001b[39mAverage_Weighted_Revenue\u001b[39m\u001b[39m'\u001b[39m))\n",
      "\u001b[0;31mNameError\u001b[0m: name 'industry_data' is not defined"
     ]
    }
   ],
   "source": [
    "# Market Dominance\n",
    "industry_table = industry_data.where(F.col('order_datetime') > RECENCY).groupBy('sector').agg(F.sum('BNPL_weighted_Revenue').alias('Total_Weighted_Revenue'), F.count('BNPL_weighted_Revenue').alias('Total_Transactions'), F.avg('BNPL_weighted_Revenue').alias('Average_Weighted_Revenue'))"
   ]
  },
  {
   "cell_type": "code",
   "execution_count": 114,
   "metadata": {},
   "outputs": [
    {
     "name": "stderr",
     "output_type": "stream",
     "text": [
      "                                                                                \r"
     ]
    }
   ],
   "source": [
    "total_rev = industry_table.groupBy().sum().collect()[0][0]\n",
    "total_transa = industry_table.groupBy().sum().collect()[0][0]"
   ]
  },
  {
   "cell_type": "code",
   "execution_count": 115,
   "metadata": {},
   "outputs": [],
   "source": [
    "industry_table = industry_table.withColumn('Total_Weighted_Revenue', F.col('Total_Weighted_Revenue') / total_rev).withColumnRenamed('Total_Weighted_Revenue', 'Portion_of_Total_Revenue')\n",
    "industry_table = industry_table.withColumn('Total_Transactions', F.col('Total_Transactions') / total_transa).withColumnRenamed('Total_Transactions', 'Portion_of_Total_Transactions')"
   ]
  },
  {
   "cell_type": "code",
   "execution_count": 116,
   "metadata": {},
   "outputs": [],
   "source": [
    "# Survival Rate\n",
    "sector_info = spark.read.parquet('../data/tables/sector_information/')\n",
    "industry_table = industry_table.join(sector_info.select(F.col('sector'), F.col('survival_rate').cast('double').alias(\"survival_rate\"), on='sector', how='left')"
   ]
  },
  {
   "cell_type": "code",
   "execution_count": 117,
   "metadata": {},
   "outputs": [
    {
     "name": "stderr",
     "output_type": "stream",
     "text": [
      "                                                                                \r"
     ]
    },
    {
     "data": {
      "text/html": [
       "<table border='1'>\n",
       "<tr><th>sector</th><th>Portion_of_Total_Revenue</th><th>survival_rate</th></tr>\n",
       "<tr><td>Arts_Recreation_S...</td><td>0.23351773535218873</td><td>63.8</td></tr>\n",
       "<tr><td>Administrative_Su...</td><td>0.11016472791357078</td><td>58.9</td></tr>\n",
       "<tr><td>Information_Media...</td><td>0.26298592372101004</td><td>59.8</td></tr>\n",
       "<tr><td>Personal_Services</td><td>0.39333161301323044</td><td>65.7</td></tr>\n",
       "</table>\n"
      ],
      "text/plain": [
       "+--------------------+------------------------+-------------+\n",
       "|              sector|Portion_of_Total_Revenue|survival_rate|\n",
       "+--------------------+------------------------+-------------+\n",
       "|Arts_Recreation_S...|     0.23351773535218873|         63.8|\n",
       "|Administrative_Su...|     0.11016472791357078|         58.9|\n",
       "|Information_Media...|     0.26298592372101004|         59.8|\n",
       "|   Personal_Services|     0.39333161301323044|         65.7|\n",
       "+--------------------+------------------------+-------------+"
      ]
     },
     "execution_count": 117,
     "metadata": {},
     "output_type": "execute_result"
    }
   ],
   "source": [
    "industry_table = feature_standardisation(industry_table, ['Portion_of_Total_Revenue', 'Portion_of_Total_Transactions', 'survival_rate', 'Average_Weighted_Revenue'])"
   ]
  },
  {
   "cell_type": "code",
   "execution_count": null,
   "metadata": {},
   "outputs": [],
   "source": [
    "# save file \n",
    "industry_table.write.parquet('../data/Normalised/industry_scailed')"
   ]
  },
  {
   "cell_type": "markdown",
   "metadata": {},
   "source": [
    "# Interesting fact I found about the last and first transactions for each merchant"
   ]
  },
  {
   "cell_type": "code",
   "execution_count": null,
   "metadata": {},
   "outputs": [],
   "source": [
    "plot_2 = full_dataset.groupBy('merchant_abn').agg(F.max('order_datetime').alias('First_order'))"
   ]
  },
  {
   "cell_type": "code",
   "execution_count": null,
   "metadata": {},
   "outputs": [],
   "source": [
    "plot_2 = plot_2.withColumn('current', F.when(F.col('First_order') >  F.lit('2022-09-01'), True).otherwise(False))"
   ]
  },
  {
   "cell_type": "code",
   "execution_count": null,
   "metadata": {},
   "outputs": [
    {
     "name": "stderr",
     "output_type": "stream",
     "text": [
      "                                                                                \r"
     ]
    },
    {
     "data": {
      "text/plain": [
       "4026"
      ]
     },
     "execution_count": 105,
     "metadata": {},
     "output_type": "execute_result"
    }
   ],
   "source": [
    "plot_2.count()"
   ]
  },
  {
   "cell_type": "code",
   "execution_count": null,
   "metadata": {},
   "outputs": [
    {
     "name": "stderr",
     "output_type": "stream",
     "text": [
      "                                                                                \r"
     ]
    },
    {
     "data": {
      "text/plain": [
       "3907"
      ]
     },
     "execution_count": 106,
     "metadata": {},
     "output_type": "execute_result"
    }
   ],
   "source": [
    "plot_2.where(F.col('current') == True).count()"
   ]
  },
  {
   "cell_type": "code",
   "execution_count": null,
   "metadata": {},
   "outputs": [
    {
     "ename": "NameError",
     "evalue": "name 'sns' is not defined",
     "output_type": "error",
     "traceback": [
      "\u001b[0;31m---------------------------------------------------------------------------\u001b[0m",
      "\u001b[0;31mNameError\u001b[0m                                 Traceback (most recent call last)",
      "\u001b[1;32m/mnt/d/University/Applied Datascience/generic-buy-now-pay-later-project-group-3/notebooks/Ranking_system_Final_Draft.ipynb Cell 57\u001b[0m in \u001b[0;36m<cell line: 1>\u001b[0;34m()\u001b[0m\n\u001b[0;32m----> <a href='vscode-notebook-cell://wsl%2Bubuntu/mnt/d/University/Applied%20Datascience/generic-buy-now-pay-later-project-group-3/notebooks/Ranking_system_Final_Draft.ipynb#X62sdnNjb2RlLXJlbW90ZQ%3D%3D?line=0'>1</a>\u001b[0m sns\u001b[39m.\u001b[39mhistplot(x\u001b[39m=\u001b[39m\u001b[39m'\u001b[39m\u001b[39mFirst_order\u001b[39m\u001b[39m'\u001b[39m, data \u001b[39m=\u001b[39m plot_2\u001b[39m.\u001b[39mtoPandas())\n",
      "\u001b[0;31mNameError\u001b[0m: name 'sns' is not defined"
     ]
    }
   ],
   "source": [
    "sns.histplot(x='First_order', data = plot_2.toPandas())"
   ]
  }
 ],
 "metadata": {
  "kernelspec": {
   "display_name": "Python 3.8.10 64-bit",
   "language": "python",
   "name": "python3"
  },
  "language_info": {
   "codemirror_mode": {
    "name": "ipython",
    "version": 3
   },
   "file_extension": ".py",
   "mimetype": "text/x-python",
   "name": "python",
   "nbconvert_exporter": "python",
   "pygments_lexer": "ipython3",
   "version": "3.8.10"
  },
  "orig_nbformat": 4,
  "vscode": {
   "interpreter": {
    "hash": "31f2aee4e71d21fbe5cf8b01ff0e069b9275f58929596ceb00d14d90e3e16cd6"
   }
  }
 },
 "nbformat": 4,
 "nbformat_minor": 2
}
