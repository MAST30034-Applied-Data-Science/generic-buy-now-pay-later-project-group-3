{
 "cells": [
  {
   "cell_type": "markdown",
   "metadata": {},
   "source": [
    "# Merchant Ranking Algorith\n",
    "The method of ranking each merchant, will take inspiration from the methods proposed in (https://sapinsider.org/leveraging-analytical-method-for-ranking-suppliers/), in which we rank each key attribute out of 5, then sum them together with weightsget a score for each merchant. \n",
    "\n",
    "The Key Attributes for now are: \n",
    "- Revenue\n",
    "- Customer_Base \n",
    "- Sustainability\n",
    "- Envirnment"
   ]
  },
  {
   "cell_type": "code",
   "execution_count": 1,
   "metadata": {},
   "outputs": [
    {
     "name": "stdout",
     "output_type": "stream",
     "text": [
      "22/10/09 12:29:36 WARN Utils: Your hostname, James-N580VD-DM229T resolves to a loopback address: 127.0.1.1; using 172.27.209.140 instead (on interface eth0)\n",
      "22/10/09 12:29:36 WARN Utils: Set SPARK_LOCAL_IP if you need to bind to another address\n"
     ]
    },
    {
     "name": "stderr",
     "output_type": "stream",
     "text": [
      "Setting default log level to \"WARN\".\n",
      "To adjust logging level use sc.setLogLevel(newLevel). For SparkR, use setLogLevel(newLevel).\n"
     ]
    },
    {
     "name": "stdout",
     "output_type": "stream",
     "text": [
      "22/10/09 12:29:38 WARN NativeCodeLoader: Unable to load native-hadoop library for your platform... using builtin-java classes where applicable\n"
     ]
    }
   ],
   "source": [
    "from pyspark.sql import SparkSession, functions as F\n",
    "from pyspark.ml import feature as H\n",
    "# First lets reed the datasets\n",
    "spark = (\n",
    "    SparkSession.builder.appName(\"Data_Explorer\")\n",
    "    .config(\"spark.sql.repl.eagerEval.enabled\", True) \n",
    "    .config(\"spark.sql.parquet.cacheMetadata\", \"true\")\n",
    "    .config(\"spark.sql.session.timeZone\", \"Etc/UTC\")\n",
    "    .config(\"spark.driver.memory\", \"4g\")\n",
    "    .getOrCreate()\n",
    ")"
   ]
  },
  {
   "cell_type": "code",
   "execution_count": 2,
   "metadata": {},
   "outputs": [
    {
     "name": "stderr",
     "output_type": "stream",
     "text": [
      "                                                                                \r"
     ]
    }
   ],
   "source": [
    "# Read the datasets \n",
    "transactions = spark.read.parquet('../data/processed/transactions')\n",
    "merchants =  spark.read.parquet('../data/processed/merchants/')\n",
    "#full_dataset = spark.read.parquet('../data/curated/full_dataset/')\n",
    "final_data_collection = merchants.select('merchant_abn')"
   ]
  },
  {
   "cell_type": "code",
   "execution_count": 8,
   "metadata": {},
   "outputs": [
    {
     "data": {
      "text/html": [
       "<table border='1'>\n",
       "<tr><th>user_id</th><th>merchant_abn</th><th>dollar_value</th><th>order_datetime</th><th>order_id</th></tr>\n",
       "<tr><td>14935</td><td>79417999332</td><td>136.07</td><td>2021-11-26</td><td>68719476736</td></tr>\n",
       "<tr><td>1</td><td>46451548968</td><td>72.62</td><td>2021-11-26</td><td>68719476737</td></tr>\n",
       "<tr><td>14936</td><td>89518629617</td><td>3.08</td><td>2021-11-26</td><td>68719476738</td></tr>\n",
       "<tr><td>1</td><td>49167531725</td><td>51.58</td><td>2021-11-26</td><td>68719476739</td></tr>\n",
       "<tr><td>14936</td><td>31101120643</td><td>25.23</td><td>2021-11-26</td><td>68719476740</td></tr>\n",
       "<tr><td>2</td><td>67978471888</td><td>691.5</td><td>2021-11-26</td><td>68719476741</td></tr>\n",
       "<tr><td>14936</td><td>60956456424</td><td>102.14</td><td>2021-11-26</td><td>68719476742</td></tr>\n",
       "<tr><td>2</td><td>47644196714</td><td>644.52</td><td>2021-11-26</td><td>68719476743</td></tr>\n",
       "<tr><td>14938</td><td>39649557865</td><td>209.13</td><td>2021-11-26</td><td>68719476744</td></tr>\n",
       "<tr><td>3</td><td>88402174457</td><td>141.04</td><td>2021-11-26</td><td>68719476745</td></tr>\n",
       "<tr><td>14938</td><td>32234779638</td><td>102.04</td><td>2021-11-26</td><td>68719476746</td></tr>\n",
       "<tr><td>4</td><td>24015173965</td><td>157.0</td><td>2021-11-26</td><td>68719476747</td></tr>\n",
       "<tr><td>14939</td><td>79830510987</td><td>246.14</td><td>2021-11-26</td><td>68719476748</td></tr>\n",
       "<tr><td>5</td><td>76646764782</td><td>35.46</td><td>2021-11-26</td><td>68719476749</td></tr>\n",
       "<tr><td>14939</td><td>17324645993</td><td>24.11</td><td>2021-11-26</td><td>68719476750</td></tr>\n",
       "<tr><td>5</td><td>71041015148</td><td>89.77</td><td>2021-11-26</td><td>68719476751</td></tr>\n",
       "<tr><td>14939</td><td>75089928159</td><td>14.81</td><td>2021-11-26</td><td>68719476752</td></tr>\n",
       "<tr><td>5</td><td>80324045558</td><td>62.79</td><td>2021-11-26</td><td>68719476753</td></tr>\n",
       "<tr><td>14939</td><td>50315283629</td><td>575.33</td><td>2021-11-26</td><td>68719476754</td></tr>\n",
       "<tr><td>6</td><td>11566786699</td><td>15.86</td><td>2021-11-26</td><td>68719476755</td></tr>\n",
       "</table>\n",
       "only showing top 20 rows\n"
      ],
      "text/plain": [
       "+-------+------------+------------+--------------+-----------+\n",
       "|user_id|merchant_abn|dollar_value|order_datetime|   order_id|\n",
       "+-------+------------+------------+--------------+-----------+\n",
       "|  14935| 79417999332|      136.07|    2021-11-26|68719476736|\n",
       "|      1| 46451548968|       72.62|    2021-11-26|68719476737|\n",
       "|  14936| 89518629617|        3.08|    2021-11-26|68719476738|\n",
       "|      1| 49167531725|       51.58|    2021-11-26|68719476739|\n",
       "|  14936| 31101120643|       25.23|    2021-11-26|68719476740|\n",
       "|      2| 67978471888|       691.5|    2021-11-26|68719476741|\n",
       "|  14936| 60956456424|      102.14|    2021-11-26|68719476742|\n",
       "|      2| 47644196714|      644.52|    2021-11-26|68719476743|\n",
       "|  14938| 39649557865|      209.13|    2021-11-26|68719476744|\n",
       "|      3| 88402174457|      141.04|    2021-11-26|68719476745|\n",
       "|  14938| 32234779638|      102.04|    2021-11-26|68719476746|\n",
       "|      4| 24015173965|       157.0|    2021-11-26|68719476747|\n",
       "|  14939| 79830510987|      246.14|    2021-11-26|68719476748|\n",
       "|      5| 76646764782|       35.46|    2021-11-26|68719476749|\n",
       "|  14939| 17324645993|       24.11|    2021-11-26|68719476750|\n",
       "|      5| 71041015148|       89.77|    2021-11-26|68719476751|\n",
       "|  14939| 75089928159|       14.81|    2021-11-26|68719476752|\n",
       "|      5| 80324045558|       62.79|    2021-11-26|68719476753|\n",
       "|  14939| 50315283629|      575.33|    2021-11-26|68719476754|\n",
       "|      6| 11566786699|       15.86|    2021-11-26|68719476755|\n",
       "+-------+------------+------------+--------------+-----------+\n",
       "only showing top 20 rows"
      ]
     },
     "execution_count": 8,
     "metadata": {},
     "output_type": "execute_result"
    }
   ],
   "source": [
    "spark.read.parquet('../data/curated/')"
   ]
  },
  {
   "cell_type": "code",
   "execution_count": 3,
   "metadata": {},
   "outputs": [],
   "source": [
    "# Define our scaliong function\n",
    "def feature_standardisation(colums, dataset): \n",
    "    for col_name in colums:\n",
    "        values = dataset.select(F.max(col_name).alias('high'), F.min(col_name).alias('low'))\n",
    "        dataset = dataset.withColumn(col_name, F.round((F.col(col_name) - values.select('low').head()[0]) / (values.select('high').head()[0] - values.select('low').head()[0]), 4))\n",
    "        return dataset"
   ]
  },
  {
   "cell_type": "markdown",
   "metadata": {},
   "source": [
    "# Concerns\n",
    "Just stuff i came across whilst implementing"
   ]
  },
  {
   "cell_type": "code",
   "execution_count": 4,
   "metadata": {},
   "outputs": [
    {
     "name": "stderr",
     "output_type": "stream",
     "text": [
      "                                                                                \r"
     ]
    },
    {
     "data": {
      "text/plain": [
       "<AxesSubplot:xlabel='dollar_value', ylabel='Count'>"
      ]
     },
     "execution_count": 4,
     "metadata": {},
     "output_type": "execute_result"
    },
    {
     "data": {
      "image/png": "[encoded data removed]",
      "text/plain": [
       "<Figure size 432x288 with 1 Axes>"
      ]
     },
     "metadata": {
      "needs_background": "light"
     },
     "output_type": "display_data"
    }
   ],
   "source": [
    "# Case: if we use a cut-off point for the fraud probability, and minus the dollar_value of 'fraud' transactions\n",
    "concern1 = transactions.where(F.col('merchant_abn') == 83412691377).select('Potential_Outlier', 'dollar_value').toPandas()\n",
    "import seaborn as sns\n",
    "sns.histplot(x='dollar_value', hue='Potential_Outlier', data=concern1)\n",
    "# From counting the total revenue for each merchant using such method, I found that some have negative ones (but just using outlier_attr).\n",
    "# However, due to most outluiers being larger than the mean, minusing it results in devestating loss to revenue, which is to consider"
   ]
  },
  {
   "cell_type": "markdown",
   "metadata": {},
   "source": [
    "# 1. Tansaction_Revenue\n",
    "For this we will look into:\n",
    "- Renevue (Recent)\n",
    "- Projected Revenue "
   ]
  },
  {
   "cell_type": "code",
   "execution_count": 5,
   "metadata": {},
   "outputs": [],
   "source": [
    "# For revenue, we first set the break point as what we determine as 'Recent'\n",
    "# We will for now determine as last 6 months (i.e march) \n",
    "RECENCY =  F.lit('2022-03-01')"
   ]
  },
  {
   "cell_type": "code",
   "execution_count": 6,
   "metadata": {},
   "outputs": [
    {
     "name": "stderr",
     "output_type": "stream",
     "text": [
      "                                                                                \r"
     ]
    },
    {
     "data": {
      "text/html": [
       "<table border='1'>\n",
       "<tr><th>order_id</th><th>user_id</th><th>merchant_abn</th><th>dollar_value</th><th>order_datetime</th><th>Natural_var</th><th>Potential_Outlier</th><th>holiday</th><th>dayofmonth</th><th>month</th><th>dayofweek</th></tr>\n",
       "<tr><td>3</td><td>3</td><td>60956456424</td><td>136.68</td><td>2021-08-20</td><td>0</td><td>0</td><td>0</td><td>20</td><td>8</td><td>6</td></tr>\n",
       "<tr><td>8</td><td>18482</td><td>70501974849</td><td>68.75</td><td>2021-08-20</td><td>0</td><td>0</td><td>0</td><td>20</td><td>8</td><td>6</td></tr>\n",
       "<tr><td>11</td><td>7</td><td>33064796871</td><td>373.09</td><td>2021-08-20</td><td>0</td><td>0</td><td>0</td><td>20</td><td>8</td><td>6</td></tr>\n",
       "<tr><td>12</td><td>18483</td><td>44160392990</td><td>83.98</td><td>2021-08-20</td><td>0</td><td>0</td><td>0</td><td>20</td><td>8</td><td>6</td></tr>\n",
       "<tr><td>35</td><td>20</td><td>67202032418</td><td>55.46</td><td>2021-08-20</td><td>0</td><td>0</td><td>0</td><td>20</td><td>8</td><td>6</td></tr>\n",
       "<tr><td>37</td><td>20</td><td>71787414647</td><td>88.18</td><td>2021-08-20</td><td>0</td><td>0</td><td>0</td><td>20</td><td>8</td><td>6</td></tr>\n",
       "<tr><td>49</td><td>25</td><td>32234779638</td><td>87.16</td><td>2021-08-20</td><td>0</td><td>0</td><td>0</td><td>20</td><td>8</td><td>6</td></tr>\n",
       "<tr><td>55</td><td>28</td><td>77679081913</td><td>23.22</td><td>2021-08-20</td><td>0</td><td>0</td><td>0</td><td>20</td><td>8</td><td>6</td></tr>\n",
       "<tr><td>61</td><td>34</td><td>28341499489</td><td>216.94</td><td>2021-08-20</td><td>0</td><td>0</td><td>0</td><td>20</td><td>8</td><td>6</td></tr>\n",
       "<tr><td>62</td><td>18509</td><td>12173100693</td><td>81.33</td><td>2021-08-20</td><td>0</td><td>0</td><td>0</td><td>20</td><td>8</td><td>6</td></tr>\n",
       "</table>\n"
      ],
      "text/plain": [
       "+--------+-------+------------+------------+--------------+-----------+-----------------+-------+----------+-----+---------+\n",
       "|order_id|user_id|merchant_abn|dollar_value|order_datetime|Natural_var|Potential_Outlier|holiday|dayofmonth|month|dayofweek|\n",
       "+--------+-------+------------+------------+--------------+-----------+-----------------+-------+----------+-----+---------+\n",
       "|       3|      3| 60956456424|      136.68|    2021-08-20|          0|                0|      0|        20|    8|        6|\n",
       "|       8|  18482| 70501974849|       68.75|    2021-08-20|          0|                0|      0|        20|    8|        6|\n",
       "|      11|      7| 33064796871|      373.09|    2021-08-20|          0|                0|      0|        20|    8|        6|\n",
       "|      12|  18483| 44160392990|       83.98|    2021-08-20|          0|                0|      0|        20|    8|        6|\n",
       "|      35|     20| 67202032418|       55.46|    2021-08-20|          0|                0|      0|        20|    8|        6|\n",
       "|      37|     20| 71787414647|       88.18|    2021-08-20|          0|                0|      0|        20|    8|        6|\n",
       "|      49|     25| 32234779638|       87.16|    2021-08-20|          0|                0|      0|        20|    8|        6|\n",
       "|      55|     28| 77679081913|       23.22|    2021-08-20|          0|                0|      0|        20|    8|        6|\n",
       "|      61|     34| 28341499489|      216.94|    2021-08-20|          0|                0|      0|        20|    8|        6|\n",
       "|      62|  18509| 12173100693|       81.33|    2021-08-20|          0|                0|      0|        20|    8|        6|\n",
       "+--------+-------+------------+------------+--------------+-----------+-----------------+-------+----------+-----+---------+"
      ]
     },
     "execution_count": 6,
     "metadata": {},
     "output_type": "execute_result"
    }
   ],
   "source": [
    "transactions.limit(10)"
   ]
  },
  {
   "cell_type": "markdown",
   "metadata": {},
   "source": [
    "1.1 Revenue"
   ]
  },
  {
   "cell_type": "code",
   "execution_count": 18,
   "metadata": {},
   "outputs": [],
   "source": [
    "# take subset\n",
    "revenue_data = transactions.where(F.col('order_datetime') > RECENCY).select('merchant_abn', 'dollar_value', 'BNPL_Revenue', 'Potential_Outlier')"
   ]
  },
  {
   "cell_type": "code",
   "execution_count": null,
   "metadata": {},
   "outputs": [],
   "source": [
    "# Proper method (with the probabilities)\n",
    "# revenue_data = revenue_data.withColumn('BNPL_weighted_Revenue', F.col('BNPL_Revenue') * F.col('Fraud_probability'))"
   ]
  },
  {
   "cell_type": "code",
   "execution_count": 19,
   "metadata": {},
   "outputs": [],
   "source": [
    "# Alternative Method\n",
    "revenue_data = revenue_data.withColumn('BNPL_weighted_Revenue', F.when(F.col('Potential_Outlier') == False, F.col('BNPL_Revenue'))\n",
    "                                                                 .otherwise(-1 * F.col('dollar_value'))\n",
    "                                                                 )"
   ]
  },
  {
   "cell_type": "code",
   "execution_count": 20,
   "metadata": {},
   "outputs": [],
   "source": [
    "# Now can caluculate each Merchants revenue\n",
    "revenue_data = revenue_data.groupBy('merchant_abn').agg(F.round(F.sum('BNPL_weighted_Revenue'), 2).alias('Total_Revenue'))"
   ]
  },
  {
   "cell_type": "code",
   "execution_count": 27,
   "metadata": {},
   "outputs": [
    {
     "name": "stderr",
     "output_type": "stream",
     "text": [
      "                                                                                \r"
     ]
    }
   ],
   "source": [
    "# Standardise\n",
    "revenue_data = feature_standardisation(['Total_Revenue'],revenue_data)"
   ]
  },
  {
   "cell_type": "markdown",
   "metadata": {},
   "source": [
    "1.2 Projections (Need to add)"
   ]
  },
  {
   "cell_type": "markdown",
   "metadata": {},
   "source": [
    "# Sustainability \n",
    "Next, we add a rating for a companies growth/longevity"
   ]
  },
  {
   "cell_type": "code",
   "execution_count": 68,
   "metadata": {},
   "outputs": [],
   "source": [
    "merchants_sub = merchants.select(['merchant_abn', 'avg_monthly_inc', 'postcode_entropy'])"
   ]
  },
  {
   "cell_type": "code",
   "execution_count": 10,
   "metadata": {},
   "outputs": [],
   "source": [
    "for col_name in merchants_sub.columns[1:]:\n",
    "    values = merchants_sub.select(F.max(col_name).alias('high'), F.min(col_name).alias('low'))\n",
    "    merchants_sub = merchants_sub.withColumn(col_name, (F.col(col_name) - values.select('low').head()[0]) / (values.select('high').head()[0] - values.select('low').head()[0]))"
   ]
  },
  {
   "cell_type": "code",
   "execution_count": 11,
   "metadata": {},
   "outputs": [],
   "source": [
    "merchants_sub = merchants_sub.withColumn('Sustainability_score', F.col('avg_monthly_inc') - F.col('postcode_entropy'))"
   ]
  },
  {
   "cell_type": "code",
   "execution_count": 12,
   "metadata": {},
   "outputs": [],
   "source": [
    "merchants_sub = merchants_sub.select(['merchant_abn', 'Sustainability_score'])\n",
    "final_data_collection = final_data_collection.join(merchants_sub, on=['merchant_abn'])"
   ]
  },
  {
   "cell_type": "markdown",
   "metadata": {},
   "source": [
    "# Customer Base\n",
    "In this sections we use the features:\n",
    "- customer_loyalty_agg\n",
    "- unique_cust\n",
    "- Total_Customers*\n",
    "- Cust_tax (TBC)"
   ]
  },
  {
   "cell_type": "markdown",
   "metadata": {},
   "source": [
    "1.1 Loyalty"
   ]
  },
  {
   "cell_type": "code",
   "execution_count": 61,
   "metadata": {},
   "outputs": [
    {
     "name": "stderr",
     "output_type": "stream",
     "text": [
      "                                                                                \r"
     ]
    }
   ],
   "source": [
    "# Create Loyalfy feature\n",
    "grouped = full_dataset.groupBy(\"user_id\", \"merchant_abn\")\n",
    "RPR = grouped.count().withColumnRenamed(\"count\", \"RPR\")\n",
    "upSell = RPR.groupBy(\"user_id\").count().withColumnRenamed(\"count\", \"upsell\")\n",
    "CLV = grouped.sum(\"dollar_value\").withColumnRenamed(\"sum(dollar_value)\", \"CLV\")\n",
    "# Define the window\n",
    "from pyspark.sql.window import Window\n",
    "w = Window.partitionBy([\"user_id\", \"merchant_abn\"]).orderBy(\"order_datetime\")\n",
    "\n",
    "retention = full_dataset.withColumn(\n",
    "    'diff',\n",
    "    F.datediff(F.col(\"order_datetime\"), F.lag(\"order_datetime\").over(w))\n",
    ").groupBy(\"user_id\", \"merchant_abn\").agg(F.avg(F.col(\"diff\")).alias(\"retention\"))\n",
    "retention.agg({\"retention\":\"max\"}).collect()\n",
    "retention.na.fill(value=365)\n",
    "loyal = retention.na.fill(value=365).join(RPR, on=[\"user_id\", \"merchant_abn\"], how=\"left\").join(CLV, on=[\"user_id\", \"merchant_abn\"], how=\"left\").join(upSell, on=[\"user_id\"], how=\"left\")\n",
    "loyal = loyal.withColumn(\"loyal\", F.col(\"RPR\") * F.col(\"CLV\") * F.col(\"upSell\") / F.col(\"retention\"))"
   ]
  },
  {
   "cell_type": "code",
   "execution_count": 74,
   "metadata": {},
   "outputs": [],
   "source": [
    "from pyspark.sql.functions import col\n",
    "from pyspark.sql import Window\n",
    "loyal = loyal.select(*(col(c).cast(\"float\").alias(c) for c in loyal.columns))\n",
    "loyal = loyal.select('user_id', 'merchant_abn', 'loyal')"
   ]
  },
  {
   "cell_type": "code",
   "execution_count": 75,
   "metadata": {},
   "outputs": [],
   "source": [
    "grp_window = Window.partitionBy('grp')\n",
    "magic_percentile = F.expr('percentile_approx(loyal, 0.5)')\n",
    "loyal = loyal.join(loyal.groupBy('user_id').agg(magic_percentile.alias('med_val')), on='user_id', how='left')"
   ]
  },
  {
   "cell_type": "code",
   "execution_count": 76,
   "metadata": {},
   "outputs": [],
   "source": [
    "from pyspark.sql.functions import coalesce\n",
    "loyal = loyal.withColumn('loyal', coalesce('loyal', 'med_val')).select(['user_id', 'merchant_abn', 'loyal'])\n",
    "loyal_agg = loyal.groupBy('merchant_abn').avg('loyal').alias('Loyal_AVG')"
   ]
  },
  {
   "cell_type": "markdown",
   "metadata": {},
   "source": [
    "Add few other metrics (Need to still add Postcode Entropy...)"
   ]
  },
  {
   "cell_type": "code",
   "execution_count": 77,
   "metadata": {},
   "outputs": [],
   "source": [
    "cust_data =  full_dataset.groupBy('merchant_abn').agg(F.countDistinct('user_id').alias('Unique_Customers'), F.round(F.count('user_id') / F.countDistinct('user_id'), 2).alias('Transaction_per_User'), F.round(F.avg('Average taxable income or loss'),2).alias('customer_wealth'))\n",
    "cust_data = cust_data.join(loyal_agg, on='merchant_abn')"
   ]
  },
  {
   "cell_type": "code",
   "execution_count": 78,
   "metadata": {},
   "outputs": [
    {
     "name": "stderr",
     "output_type": "stream",
     "text": [
      "                                                                                \r"
     ]
    }
   ],
   "source": [
    "cust_data = feature_standardisation(['Transaction_per_User', 'customer_wealth', 'Unique_Customers', 'Loyal_AVG'], cust_data)"
   ]
  }
 ],
 "metadata": {
  "kernelspec": {
   "display_name": "Python 3.8.10 64-bit",
   "language": "python",
   "name": "python3"
  },
  "language_info": {
   "codemirror_mode": {
    "name": "ipython",
    "version": 3
   },
   "file_extension": ".py",
   "mimetype": "text/x-python",
   "name": "python",
   "nbconvert_exporter": "python",
   "pygments_lexer": "ipython3",
   "version": "3.8.10"
  },
  "orig_nbformat": 4,
  "vscode": {
   "interpreter": {
    "hash": "916dbcbb3f70747c44a77c7bcd40155683ae19c65e1c03b4aa3499c5328201f1"
   }
  }
 },
 "nbformat": 4,
 "nbformat_minor": 2
}
