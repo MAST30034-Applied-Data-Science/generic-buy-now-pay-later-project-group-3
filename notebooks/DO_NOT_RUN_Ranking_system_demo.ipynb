{
 "cells": [
  {
   "cell_type": "markdown",
   "metadata": {},
   "source": [
    "# Merchant Ranking Algorithm\n",
    "The method of ranking each merchant, will take inspiration from the methods proposed in (https://sapinsider.org/leveraging-analytical-method-for-ranking-suppliers/), in which we rank each key attribute out of 5, then sum them together with weightsget a score for each merchant. \n",
    "\n",
    "The Key Attributes for now are: \n",
    "- Merchant's BNPL Revenue\n",
    "- Proportion of 'identified' Fraud transactions\n",
    "- The customer Base \n",
    "- Projected Growth"
   ]
  },
  {
   "cell_type": "code",
   "execution_count": 1,
   "metadata": {},
   "outputs": [
    {
     "name": "stdout",
     "output_type": "stream",
     "text": [
      "22/10/06 05:26:55 WARN Utils: Your hostname, James-N580VD-DM229T resolves to a loopback address: 127.0.1.1; using 172.30.148.210 instead (on interface eth0)\n",
      "22/10/06 05:26:55 WARN Utils: Set SPARK_LOCAL_IP if you need to bind to another address\n"
     ]
    },
    {
     "name": "stderr",
     "output_type": "stream",
     "text": [
      "Setting default log level to \"WARN\".\n",
      "To adjust logging level use sc.setLogLevel(newLevel). For SparkR, use setLogLevel(newLevel).\n"
     ]
    },
    {
     "name": "stdout",
     "output_type": "stream",
     "text": [
      "22/10/06 05:26:57 WARN NativeCodeLoader: Unable to load native-hadoop library for your platform... using builtin-java classes where applicable\n"
     ]
    }
   ],
   "source": [
    "from pyspark.sql import SparkSession, functions as F\n",
    "from pyspark.ml import feature as H\n",
    "import sys\n",
    "# First lets read the datasets\n",
    "spark = (\n",
    "    SparkSession.builder.appName(\"Data_Explorer\")\n",
    "    .config(\"spark.sql.repl.eagerEval.enabled\", True) \n",
    "    .config(\"spark.sql.parquet.cacheMetadata\", \"true\")\n",
    "    .config(\"spark.sql.session.timeZone\", \"Etc/UTC\")\n",
    "    .config(\"spark.driver.memory\", \"4g\")\n",
    "    .getOrCreate()\n",
    ")"
   ]
  },
  {
   "cell_type": "markdown",
   "metadata": {},
   "source": [
    "1. Tansaction_Revenue\n",
    "For this we will take:\n",
    "- Total_BNPL_Revenue\n",
    "- Average_BNPL_Revenue"
   ]
  },
  {
   "cell_type": "code",
   "execution_count": 2,
   "metadata": {},
   "outputs": [
    {
     "name": "stderr",
     "output_type": "stream",
     "text": [
      "                                                                                \r"
     ]
    }
   ],
   "source": [
    "dir = sys.argv[4] + '/'\n",
    "transactions = spark.read.parquet(dir + 'processed/transactions')\n",
    "merchants =  spark.read.parquet(dir + 'processed/merchants/')\n",
    "full_dataset = spark.read.parquet(dir + 'curated/full_dataset/')\n",
    "final_data_collection = merchants.select('merchant_abn')"
   ]
  },
  {
   "cell_type": "code",
   "execution_count": 3,
   "metadata": {},
   "outputs": [],
   "source": [
    "final_data_collection = final_data_collection.join(full_dataset.where(F.col('Potential_outlier') == False).groupBy('merchant_abn').agg(F.round(F.sum('BNPL_Revenue'), 2).alias('Total_BNPL_Revenue'), F.round(F.sum('dollar_value'), 2).alias('Total_Dollar_value'), F.count('BNPL_Revenue').alias('Total_Transactions')), on=['merchant_abn'])\n",
    "# now add last 6 months\n",
    "final_data_collection = final_data_collection.join(full_dataset.where((F.col('order_datetime') > F.lit('2022-03-01')) & (F.col('Potential_outlier') == False)).groupBy('merchant_abn').agg(F.round(F.sum('BNPL_Revenue'), 2).alias('Total_BNPL_Revenue_6MON'), F.round(F.sum('dollar_value'), 2).alias('Total_Dollar_value_6MON'), F.count('BNPL_Revenue').alias('Total_Transactions_6MON')), on=['merchant_abn'])\n",
    "# now add fraud attributes\n",
    "final_data_collection = final_data_collection.join(full_dataset.where(F.col('Potential_outlier') == True).groupBy('merchant_abn').agg(F.round(F.sum('BNPL_Revenue'), 2).alias('Total_BNPL_Revenue_Fraud'), F.count('BNPL_Revenue').alias('Total_Transactions_Fraud'), F.round(F.sum('dollar_value'), 2).alias('Total_Dollar_value_Fraud')), on=['merchant_abn'])\n",
    "final_data_collection = final_data_collection.join(full_dataset.where((F.col('order_datetime') > F.lit('2022-03-01')) & (F.col('Potential_outlier') == True)).groupBy('merchant_abn').agg(F.round(F.sum('BNPL_Revenue'), 2).alias('Total_BNPL_Revenue_6MON_Fraud'), F.count('BNPL_Revenue').alias('Total_Transactions_6MON_Fraud'), F.round(F.sum('dollar_value'), 2).alias('Total_Dollar_value_6MON_Fraud')), on=['merchant_abn'])"
   ]
  },
  {
   "cell_type": "code",
   "execution_count": 4,
   "metadata": {},
   "outputs": [],
   "source": [
    "# Get proportion values\n",
    "final_data_collection = final_data_collection.withColumn('Total_BNPL_Revenue_FP', F.col('Total_BNPL_Revenue_Fraud') / (F.col('Total_BNPL_Revenue') + F.col('Total_BNPL_Revenue_Fraud')))\n",
    "final_data_collection = final_data_collection.withColumn('Total_Dollar_value_FP', F.col('Total_BNPL_Revenue_Fraud') / (F.col('Total_Dollar_value') + F.col('Total_BNPL_Revenue_Fraud')))\n",
    "final_data_collection = final_data_collection.withColumn('Total_Transactions_FP', F.col('Total_Transactions_Fraud') / (F.col('Total_Transactions') + F.col('Total_Transactions_Fraud')))\n",
    "final_data_collection = final_data_collection.withColumn('Total_BNPL_Revenue_6MON_FP', F.col('Total_BNPL_Revenue_6MON_Fraud') / (F.col('Total_BNPL_Revenue_6MON') + F.col('Total_BNPL_Revenue_6MON_Fraud')))\n",
    "final_data_collection = final_data_collection.withColumn('Total_Dollar_value_6MON_FP', F.col('Total_BNPL_Revenue_6MON_Fraud') / (F.col('Total_Dollar_value_6MON') + F.col('Total_BNPL_Revenue_6MON_Fraud')))\n",
    "final_data_collection = final_data_collection.withColumn('Total_Transactions_6MON_FP', F.col('Total_Transactions_6MON_Fraud') / (F.col('Total_Transactions_6MON') + F.col('Total_Transactions_6MON_Fraud')))"
   ]
  },
  {
   "cell_type": "code",
   "execution_count": 5,
   "metadata": {},
   "outputs": [],
   "source": [
    "final_data_collection = final_data_collection.select('merchant_abn', 'Total_BNPL_Revenue', 'Total_Dollar_value', 'Total_Transactions', 'Total_BNPL_Revenue_6MON', 'Total_Dollar_value_6MON', 'Total_Transactions_6MON', 'Total_BNPL_Revenue_FP', 'Total_Dollar_value_FP', 'Total_Transactions_FP', 'Total_BNPL_Revenue_6MON_FP', 'Total_Dollar_value_6MON_FP', 'Total_Transactions_6MON_FP')"
   ]
  },
  {
   "cell_type": "code",
   "execution_count": 6,
   "metadata": {},
   "outputs": [
    {
     "name": "stderr",
     "output_type": "stream",
     "text": [
      "                                                                                \r"
     ]
    }
   ],
   "source": [
    "for col_name in final_data_collection.columns[1:]:\n",
    "    values = final_data_collection.select(F.max(col_name).alias('high'), F.min(col_name).alias('low'))\n",
    "    final_data_collection = final_data_collection.withColumn(col_name, (F.col(col_name) - values.select('low').head()[0]) / (values.select('high').head()[0] - values.select('low').head()[0]))"
   ]
  },
  {
   "cell_type": "code",
   "execution_count": 7,
   "metadata": {},
   "outputs": [],
   "source": [
    "# Now need to perform Revenue and Risk score\n",
    "final_data_collection = final_data_collection.withColumn('Revenue_Score', F.col('Total_BNPL_Revenue') + F.col('Total_Dollar_value') + F.col('Total_Transactions') +\n",
    "                                                  F.col('Total_BNPL_Revenue_6MON') + F.col('Total_Dollar_value_6MON') + F.col('Total_Transactions_6MON'))\n",
    "# And Risk Revenue score \n",
    "final_data_collection = final_data_collection.withColumn('Risk_Revenue_Score', -1 * (F.col('Total_BNPL_Revenue_FP') + F.col('Total_Dollar_value_FP') + F.col('Total_Transactions_FP') +\n",
    "                                                  F.col('Total_BNPL_Revenue_6MON_FP') + F.col('Total_Dollar_value_6MON_FP') + F.col('Total_Transactions_6MON_FP')))"
   ]
  },
  {
   "cell_type": "code",
   "execution_count": 8,
   "metadata": {},
   "outputs": [],
   "source": [
    "final_data_collection = final_data_collection.select(['merchant_abn', 'Revenue_Score', 'Risk_Revenue_Score'])"
   ]
  },
  {
   "cell_type": "markdown",
   "metadata": {},
   "source": [
    "# Merchant Sustainability\n",
    "Next, we add a rating for a companies growth"
   ]
  },
  {
   "cell_type": "code",
   "execution_count": 9,
   "metadata": {},
   "outputs": [],
   "source": [
    "merchants_sub = merchants.select(['merchant_abn', 'avg_monthly_inc', 'postcode_entropy'])"
   ]
  },
  {
   "cell_type": "code",
   "execution_count": 10,
   "metadata": {},
   "outputs": [],
   "source": [
    "for col_name in merchants_sub.columns[1:]:\n",
    "    values = merchants_sub.select(F.max(col_name).alias('high'), F.min(col_name).alias('low'))\n",
    "    merchants_sub = merchants_sub.withColumn(col_name, (F.col(col_name) - values.select('low').head()[0]) / (values.select('high').head()[0] - values.select('low').head()[0]))"
   ]
  },
  {
   "cell_type": "code",
   "execution_count": 11,
   "metadata": {},
   "outputs": [],
   "source": [
    "merchants_sub = merchants_sub.withColumn('Sustainability_score', F.col('avg_monthly_inc') - F.col('postcode_entropy'))"
   ]
  },
  {
   "cell_type": "code",
   "execution_count": 12,
   "metadata": {},
   "outputs": [],
   "source": [
    "merchants_sub = merchants_sub.select(['merchant_abn', 'Sustainability_score'])\n",
    "final_data_collection = final_data_collection.join(merchants_sub, on=['merchant_abn'])"
   ]
  },
  {
   "cell_type": "markdown",
   "metadata": {},
   "source": [
    "# Customer Rankings\n",
    "In this sections we use the features:\n",
    "- customer_loyalty_agg\n",
    "- unique_cust\n",
    "- Fraud_cust\n",
    "- Cust_tax"
   ]
  },
  {
   "cell_type": "code",
   "execution_count": 13,
   "metadata": {},
   "outputs": [
    {
     "name": "stderr",
     "output_type": "stream",
     "text": [
      "                                                                                \r"
     ]
    }
   ],
   "source": [
    "# Create Loyalfy feature\n",
    "grouped = full_dataset.groupBy(\"user_id\", \"merchant_abn\")\n",
    "RPR = grouped.count().withColumnRenamed(\"count\", \"RPR\")\n",
    "upSell = RPR.groupBy(\"user_id\").count().withColumnRenamed(\"count\", \"upsell\")\n",
    "CLV = grouped.sum(\"dollar_value\").withColumnRenamed(\"sum(dollar_value)\", \"CLV\")\n",
    "# Define the window\n",
    "from pyspark.sql.window import Window\n",
    "w = Window.partitionBy([\"user_id\", \"merchant_abn\"]).orderBy(\"order_datetime\")\n",
    "\n",
    "retention = full_dataset.withColumn(\n",
    "    'diff',\n",
    "    F.datediff(F.col(\"order_datetime\"), F.lag(\"order_datetime\").over(w))\n",
    ").groupBy(\"user_id\", \"merchant_abn\").agg(F.avg(F.col(\"diff\")).alias(\"retention\"))\n",
    "retention.agg({\"retention\":\"max\"}).collect()\n",
    "retention.na.fill(value=365)\n",
    "loyal = retention.na.fill(value=365).join(RPR, on=[\"user_id\", \"merchant_abn\"], how=\"left\").join(CLV, on=[\"user_id\", \"merchant_abn\"], how=\"left\").join(upSell, on=[\"user_id\"], how=\"left\")\n",
    "loyal = loyal.withColumn(\"loyal\", F.col(\"RPR\") * F.col(\"CLV\") * F.col(\"upSell\") / F.col(\"retention\"))"
   ]
  },
  {
   "cell_type": "code",
   "execution_count": 14,
   "metadata": {},
   "outputs": [],
   "source": [
    "from pyspark.sql.functions import col\n",
    "loyal = loyal.select(*(col(c).cast(\"float\").alias(c) for c in loyal.columns))\n",
    "loyal = loyal.select('user_id', 'merchant_abn', 'loyal')"
   ]
  },
  {
   "cell_type": "code",
   "execution_count": 15,
   "metadata": {},
   "outputs": [],
   "source": [
    "# Join to dataset\n",
    "# full_dataset = full_dataset.join(loyal, on=['user_id', 'merchant_abn'])"
   ]
  },
  {
   "cell_type": "code",
   "execution_count": 16,
   "metadata": {},
   "outputs": [],
   "source": [
    "customer_attr =  full_dataset.groupBy('merchant_abn').agg(F.countDistinct('user_id').alias('Unique_Customers'), F.round(F.count('user_id') / F.countDistinct('user_id'), 2).alias('Transaction_per_User'), F.round(F.avg('Proportion_Unreg_Merchant_Transactions'),2).alias('Customer_Defects'), F.round(F.avg('Average taxable income or loss'),2).alias('customer_wealth'))"
   ]
  },
  {
   "cell_type": "code",
   "execution_count": 17,
   "metadata": {},
   "outputs": [
    {
     "name": "stderr",
     "output_type": "stream",
     "text": [
      "                                                                                \r"
     ]
    }
   ],
   "source": [
    "for col_name in customer_attr.columns[1:]:\n",
    "    values = customer_attr.select(F.max(col_name).alias('high'), F.min(col_name).alias('low'))\n",
    "    customer_attr = customer_attr.withColumn(col_name, (F.col(col_name) - values.select('low').head()[0]) / (values.select('high').head()[0] - values.select('low').head()[0]))"
   ]
  },
  {
   "cell_type": "code",
   "execution_count": 25,
   "metadata": {},
   "outputs": [],
   "source": [
    "customer_attr = customer_attr.withColumn('Customer_score', F.col('customer_wealth') + F.col('Unique_Customers') + F.col('Transaction_per_User') - F.col('Customer_Defects'))\n",
    "customer_attr = customer_attr.select(['merchant_abn', 'Customer_score'])\n",
    "final_data_collection = final_data_collection.join(customer_attr, on=['merchant_abn'])"
   ]
  },
  {
   "cell_type": "code",
   "execution_count": 27,
   "metadata": {},
   "outputs": [],
   "source": [
    "# Finally get the score\n",
    "final_data_collection = final_data_collection.withColumn('Merchant_score', F.col('Customer_score') + F.col('Sustainability_score') + F.col('Revenue_Score') + F.col('Risk_Revenue_Score'))"
   ]
  },
  {
   "cell_type": "code",
   "execution_count": 30,
   "metadata": {},
   "outputs": [
    {
     "name": "stderr",
     "output_type": "stream",
     "text": [
      "                                                                                \r"
     ]
    },
    {
     "data": {
      "text/html": [
       "<table border='1'>\n",
       "<tr><th>merchant_abn</th><th>Revenue_Score</th><th>Risk_Revenue_Score</th><th>Sustainability_score</th><th>Customer_score</th><th>Merchant_score</th></tr>\n",
       "<tr><td>86578477987</td><td>5.651437445087812</td><td>-0.3647419261481112</td><td>-0.9903022207141438</td><td>2.0174824172306636</td><td>6.313875715456221</td></tr>\n",
       "<tr><td>89726005175</td><td>4.984314995435019</td><td>-0.2497744360884568</td><td>-0.9418296612462292</td><td>1.808005612930851</td><td>5.600716511031185</td></tr>\n",
       "<tr><td>24852446429</td><td>4.508609850673027</td><td>-0.31584090472546067</td><td>-1.0</td><td>2.07978456470488</td><td>5.272553510652447</td></tr>\n",
       "<tr><td>43186523025</td><td>4.496262931086211</td><td>-0.23575611165228064</td><td>-0.8727155689361166</td><td>1.7533577332664931</td><td>5.141148983764307</td></tr>\n",
       "<tr><td>45629217853</td><td>4.770667057336847</td><td>-0.71256249436323</td><td>-0.9429787346530488</td><td>1.8517847831315355</td><td>4.9669106114521036</td></tr>\n",
       "<tr><td>21439773999</td><td>4.473698759325553</td><td>-0.3393044971453385</td><td>-0.8592531915330186</td><td>1.4515738677932404</td><td>4.726714938440437</td></tr>\n",
       "<tr><td>32361057556</td><td>4.464353916203227</td><td>-0.2505845758686721</td><td>-0.8363015104670249</td><td>1.3069910392643513</td><td>4.684458869131881</td></tr>\n",
       "<tr><td>94493496784</td><td>4.100574057181549</td><td>-0.31374066613710727</td><td>-0.8491817453948692</td><td>1.364587100639533</td><td>4.302238746289105</td></tr>\n",
       "<tr><td>79417999332</td><td>3.943237669337018</td><td>-0.26299026647532775</td><td>-0.8528190332895881</td><td>1.3670467043010446</td><td>4.194475073873147</td></tr>\n",
       "<tr><td>96680767841</td><td>4.007365585028571</td><td>-0.28062924405297174</td><td>-0.8018286799806218</td><td>0.8931023376076115</td><td>3.818009998602589</td></tr>\n",
       "<tr><td>46804135891</td><td>3.4878061189013936</td><td>-0.5957646809774582</td><td>-0.9630974448990794</td><td>1.876292696926007</td><td>3.8052366899508625</td></tr>\n",
       "<tr><td>72472909171</td><td>3.492972667097844</td><td>-0.36489229755306385</td><td>-0.8492063891876409</td><td>1.377569717989117</td><td>3.6564436983462563</td></tr>\n",
       "<tr><td>68216911708</td><td>3.244908566487177</td><td>-0.3949203150385035</td><td>-0.924279368266102</td><td>1.6785550260231807</td><td>3.604263909205752</td></tr>\n",
       "<tr><td>48534649627</td><td>3.9483337152174984</td><td>-0.7180663481288774</td><td>-0.8447238192624819</td><td>1.2079592323210624</td><td>3.593502780147202</td></tr>\n",
       "<tr><td>76767266140</td><td>3.5418943992849456</td><td>-0.27430033527949466</td><td>-0.8127784379479164</td><td>1.0391720317373223</td><td>3.493987657794857</td></tr>\n",
       "<tr><td>35909341340</td><td>3.575015114850191</td><td>-0.2979875433275321</td><td>-0.7901844789798329</td><td>0.9806085859066178</td><td>3.467451678449444</td></tr>\n",
       "<tr><td>80324045558</td><td>2.9910442514767666</td><td>-0.5389924410367428</td><td>-0.9189885170477962</td><td>1.7383131287168574</td><td>3.2713764221090846</td></tr>\n",
       "<tr><td>38700038932</td><td>3.8501439170905614</td><td>-0.24052259284805944</td><td>-0.7639488553928464</td><td>0.36364963692652164</td><td>3.209322105776177</td></tr>\n",
       "<tr><td>79827781481</td><td>3.96837351178596</td><td>-0.3922276285347134</td><td>-0.6754687243706214</td><td>0.29007814843834134</td><td>3.1907553073189665</td></tr>\n",
       "<tr><td>49505931725</td><td>2.9837416884787857</td><td>-0.24121671671280934</td><td>-0.8212953629091044</td><td>1.2204991965895329</td><td>3.1417288054464048</td></tr>\n",
       "</table>\n",
       "only showing top 20 rows\n"
      ],
      "text/plain": [
       "+------------+------------------+--------------------+--------------------+-------------------+------------------+\n",
       "|merchant_abn|     Revenue_Score|  Risk_Revenue_Score|Sustainability_score|     Customer_score|    Merchant_score|\n",
       "+------------+------------------+--------------------+--------------------+-------------------+------------------+\n",
       "| 86578477987| 5.651437445087812| -0.3647419261481112| -0.9903022207141438| 2.0174824172306636| 6.313875715456221|\n",
       "| 89726005175| 4.984314995435019| -0.2497744360884568| -0.9418296612462292|  1.808005612930851| 5.600716511031185|\n",
       "| 24852446429| 4.508609850673027|-0.31584090472546067|                -1.0|   2.07978456470488| 5.272553510652447|\n",
       "| 43186523025| 4.496262931086211|-0.23575611165228064| -0.8727155689361166| 1.7533577332664931| 5.141148983764307|\n",
       "| 45629217853| 4.770667057336847|   -0.71256249436323| -0.9429787346530488| 1.8517847831315355|4.9669106114521036|\n",
       "| 21439773999| 4.473698759325553| -0.3393044971453385| -0.8592531915330186| 1.4515738677932404| 4.726714938440437|\n",
       "| 32361057556| 4.464353916203227| -0.2505845758686721| -0.8363015104670249| 1.3069910392643513| 4.684458869131881|\n",
       "| 94493496784| 4.100574057181549|-0.31374066613710727| -0.8491817453948692|  1.364587100639533| 4.302238746289105|\n",
       "| 79417999332| 3.943237669337018|-0.26299026647532775| -0.8528190332895881| 1.3670467043010446| 4.194475073873147|\n",
       "| 96680767841| 4.007365585028571|-0.28062924405297174| -0.8018286799806218| 0.8931023376076115| 3.818009998602589|\n",
       "| 46804135891|3.4878061189013936| -0.5957646809774582| -0.9630974448990794|  1.876292696926007|3.8052366899508625|\n",
       "| 72472909171| 3.492972667097844|-0.36489229755306385| -0.8492063891876409|  1.377569717989117|3.6564436983462563|\n",
       "| 68216911708| 3.244908566487177| -0.3949203150385035|  -0.924279368266102| 1.6785550260231807| 3.604263909205752|\n",
       "| 48534649627|3.9483337152174984| -0.7180663481288774| -0.8447238192624819| 1.2079592323210624| 3.593502780147202|\n",
       "| 76767266140|3.5418943992849456|-0.27430033527949466| -0.8127784379479164| 1.0391720317373223| 3.493987657794857|\n",
       "| 35909341340| 3.575015114850191| -0.2979875433275321| -0.7901844789798329| 0.9806085859066178| 3.467451678449444|\n",
       "| 80324045558|2.9910442514767666| -0.5389924410367428| -0.9189885170477962| 1.7383131287168574|3.2713764221090846|\n",
       "| 38700038932|3.8501439170905614|-0.24052259284805944| -0.7639488553928464|0.36364963692652164| 3.209322105776177|\n",
       "| 79827781481|  3.96837351178596| -0.3922276285347134| -0.6754687243706214|0.29007814843834134|3.1907553073189665|\n",
       "| 49505931725|2.9837416884787857|-0.24121671671280934| -0.8212953629091044| 1.2204991965895329|3.1417288054464048|\n",
       "+------------+------------------+--------------------+--------------------+-------------------+------------------+\n",
       "only showing top 20 rows"
      ]
     },
     "execution_count": 30,
     "metadata": {},
     "output_type": "execute_result"
    }
   ],
   "source": [
    "final_data_collection.orderBy(F.col(\"Merchant_score\").desc())"
   ]
  }
 ],
 "metadata": {
  "kernelspec": {
   "display_name": "Python 3.9.6 64-bit",
   "language": "python",
   "name": "python3"
  },
  "language_info": {
   "codemirror_mode": {
    "name": "ipython",
    "version": 3
   },
   "file_extension": ".py",
   "mimetype": "text/x-python",
   "name": "python",
   "nbconvert_exporter": "python",
   "pygments_lexer": "ipython3",
   "version": "3.9.6"
  },
  "orig_nbformat": 4,
  "vscode": {
   "interpreter": {
    "hash": "949777d72b0d2535278d3dc13498b2535136f6dfe0678499012e853ee9abcab1"
   }
  }
 },
 "nbformat": 4,
 "nbformat_minor": 2
}
