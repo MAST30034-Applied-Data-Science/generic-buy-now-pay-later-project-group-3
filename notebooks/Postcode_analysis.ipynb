{
 "cells": [
  {
   "cell_type": "markdown",
   "metadata": {},
   "source": [
    "# Run \"ETL\" script"
   ]
  },
  {
   "cell_type": "code",
   "execution_count": 1,
   "metadata": {},
   "outputs": [
    {
     "name": "stdout",
     "output_type": "stream",
     "text": [
      "22/10/04 23:34:49 WARN Utils: Your hostname, James-N580VD-DM229T resolves to a loopback address: 127.0.1.1; using 172.22.107.196 instead (on interface eth0)\n",
      "22/10/04 23:34:49 WARN Utils: Set SPARK_LOCAL_IP if you need to bind to another address\n"
     ]
    },
    {
     "name": "stderr",
     "output_type": "stream",
     "text": [
      "Setting default log level to \"WARN\".\n",
      "To adjust logging level use sc.setLogLevel(newLevel). For SparkR, use setLogLevel(newLevel).\n"
     ]
    },
    {
     "name": "stdout",
     "output_type": "stream",
     "text": [
      "22/10/04 23:34:51 WARN NativeCodeLoader: Unable to load native-hadoop library for your platform... using builtin-java classes where applicable\n"
     ]
    }
   ],
   "source": [
    "# Open Spark session \n",
    "from pyspark.sql import SparkSession, functions as F\n",
    "\n",
    "\n",
    "# Create a spark session (which will run spark jobs)\n",
    "spark = (\n",
    "    SparkSession.builder.appName(\"Data_Explorer\")\n",
    "    .config(\"spark.sql.repl.eagerEval.enabled\", True) \n",
    "    .config(\"spark.sql.parquet.cacheMetadata\", \"true\")\n",
    "    .config(\"spark.driver.memory\", \"4g\")\n",
    "    .getOrCreate()\n",
    ")"
   ]
  },
  {
   "cell_type": "markdown",
   "metadata": {},
   "source": [
    "# Postcode Transaction Analysis\n",
    "The objective of this section is to verify if a customer's details have been recorded correctly"
   ]
  },
  {
   "cell_type": "code",
   "execution_count": 2,
   "metadata": {},
   "outputs": [
    {
     "name": "stderr",
     "output_type": "stream",
     "text": [
      "                                                                                \r"
     ]
    }
   ],
   "source": [
    "dataset = spark.read.parquet('../data/curated/full_dataset/')"
   ]
  },
  {
   "cell_type": "code",
   "execution_count": 6,
   "metadata": {},
   "outputs": [
    {
     "data": {
      "text/plain": [
       "['order_id',\n",
       " 'merchant_abn',\n",
       " 'user_id',\n",
       " 'dollar_value',\n",
       " 'order_datetime',\n",
       " 'consumer_id',\n",
       " 'state',\n",
       " 'postcode',\n",
       " 'name',\n",
       " 'address',\n",
       " 'gender',\n",
       " 'sa3name',\n",
       " 'sa4name',\n",
       " 'electoraterating',\n",
       " 'SA3_NAME_2016',\n",
       " 'electorate',\n",
       " 'Number of individuals lodging an income tax return',\n",
       " 'Average taxable income or loss',\n",
       " 'Median taxable income or loss',\n",
       " 'Proportion with salary or wages',\n",
       " 'Count salary or wages',\n",
       " 'Average salary or wages',\n",
       " 'Median salary or wages',\n",
       " 'Proportion with net rent',\n",
       " 'Count net rent',\n",
       " 'Average net rent',\n",
       " 'Median net rent',\n",
       " 'Average total income or loss',\n",
       " 'Median total income or loss',\n",
       " 'Average total deductions',\n",
       " 'Median total deductions',\n",
       " 'Proportion with total business income',\n",
       " 'Count total business income',\n",
       " 'Average total business income',\n",
       " 'Median total business income',\n",
       " 'Proportion with total business expenses',\n",
       " 'Count total business expenses',\n",
       " 'Average total business expenses',\n",
       " 'Median total business expenses',\n",
       " 'Proportion with net tax',\n",
       " 'Count net tax',\n",
       " 'Average net tax',\n",
       " 'Median net tax',\n",
       " 'Count super total accounts balance',\n",
       " 'Average super total accounts balance',\n",
       " 'Median super total accounts balance',\n",
       " 'company_name',\n",
       " 'Description',\n",
       " 'Earnings_Class',\n",
       " 'BNPL_Fee',\n",
       " 'Day',\n",
       " 'Month',\n",
       " 'BNPL_Revenue',\n",
       " 'Natural_var',\n",
       " 'Potential_Outlier']"
      ]
     },
     "execution_count": 6,
     "metadata": {},
     "output_type": "execute_result"
    }
   ],
   "source": [
    "dataset.columns"
   ]
  },
  {
   "cell_type": "code",
   "execution_count": null,
   "metadata": {},
   "outputs": [],
   "source": [
    "# Lets try looking at some of the possible aggregation attributes 'postcode','sa3name', 'sa4name', 'electoraterating', 'SA3_NAME_2016', 'electorate'"
   ]
  },
  {
   "cell_type": "code",
   "execution_count": 27,
   "metadata": {},
   "outputs": [
    {
     "data": {
      "text/html": [
       "<table border='1'>\n",
       "<tr><th>electoraterating</th><th>state</th><th>dollar_avg</th><th>AVG_job_pot</th></tr>\n",
       "<tr><td>Outer Metropolitan</td><td>WA</td><td>162.10137457495566</td><td>1.0</td></tr>\n",
       "<tr><td>Inner Metropolitan</td><td>QLD</td><td>161.95596260030928</td><td>1.0</td></tr>\n",
       "<tr><td>Rural</td><td>ACT</td><td>161.37831281349753</td><td>1.0</td></tr>\n",
       "<tr><td>Outer Metropolitan</td><td>TAS</td><td>161.1370434353406</td><td>1.0</td></tr>\n",
       "<tr><td>Inner Metropolitan</td><td>TAS</td><td>161.03532053220445</td><td>1.0</td></tr>\n",
       "<tr><td>Rural</td><td>NT</td><td>160.41877305512617</td><td>1.0</td></tr>\n",
       "<tr><td>Inner Metropolitan</td><td>ACT</td><td>160.1090136904166</td><td>1.0</td></tr>\n",
       "<tr><td>Inner Metropolitan</td><td>SA</td><td>159.87970617166403</td><td>1.0</td></tr>\n",
       "<tr><td>Rural</td><td>QLD</td><td>159.46443485014788</td><td>1.0</td></tr>\n",
       "<tr><td>Rural</td><td>TAS</td><td>159.31208605207823</td><td>1.0</td></tr>\n",
       "<tr><td>Provincial</td><td>NSW</td><td>159.21967482362425</td><td>1.0</td></tr>\n",
       "<tr><td>Rural</td><td>NSW</td><td>159.18619895458727</td><td>1.0</td></tr>\n",
       "<tr><td>Rural</td><td>WA</td><td>159.11389794173613</td><td>1.0</td></tr>\n",
       "<tr><td>Inner Metropolitan</td><td>NSW</td><td>158.48474075448107</td><td>1.0</td></tr>\n",
       "<tr><td>Outer Metropolitan</td><td>NSW</td><td>158.27509741565237</td><td>1.0</td></tr>\n",
       "<tr><td>Rural</td><td>VIC</td><td>158.11438507820108</td><td>1.0</td></tr>\n",
       "<tr><td>Inner Metropolitan</td><td>VIC</td><td>157.9250423554105</td><td>1.0</td></tr>\n",
       "<tr><td>Rural</td><td>SA</td><td>157.7529675761457</td><td>1.0</td></tr>\n",
       "<tr><td>Provincial</td><td>QLD</td><td>157.46015825081668</td><td>1.0</td></tr>\n",
       "<tr><td>Inner Metropolitan</td><td>NT</td><td>157.2745072891678</td><td>1.0</td></tr>\n",
       "</table>\n",
       "only showing top 20 rows\n"
      ],
      "text/plain": [
       "+------------------+-----+------------------+-----------+\n",
       "|  electoraterating|state|        dollar_avg|AVG_job_pot|\n",
       "+------------------+-----+------------------+-----------+\n",
       "|Outer Metropolitan|   WA|162.10137457495566|        1.0|\n",
       "|Inner Metropolitan|  QLD|161.95596260030928|        1.0|\n",
       "|             Rural|  ACT|161.37831281349753|        1.0|\n",
       "|Outer Metropolitan|  TAS| 161.1370434353406|        1.0|\n",
       "|Inner Metropolitan|  TAS|161.03532053220445|        1.0|\n",
       "|             Rural|   NT|160.41877305512617|        1.0|\n",
       "|Inner Metropolitan|  ACT| 160.1090136904166|        1.0|\n",
       "|Inner Metropolitan|   SA|159.87970617166403|        1.0|\n",
       "|             Rural|  QLD|159.46443485014788|        1.0|\n",
       "|             Rural|  TAS|159.31208605207823|        1.0|\n",
       "|        Provincial|  NSW|159.21967482362425|        1.0|\n",
       "|             Rural|  NSW|159.18619895458727|        1.0|\n",
       "|             Rural|   WA|159.11389794173613|        1.0|\n",
       "|Inner Metropolitan|  NSW|158.48474075448107|        1.0|\n",
       "|Outer Metropolitan|  NSW|158.27509741565237|        1.0|\n",
       "|             Rural|  VIC|158.11438507820108|        1.0|\n",
       "|Inner Metropolitan|  VIC| 157.9250423554105|        1.0|\n",
       "|             Rural|   SA| 157.7529675761457|        1.0|\n",
       "|        Provincial|  QLD|157.46015825081668|        1.0|\n",
       "|Inner Metropolitan|   NT| 157.2745072891678|        1.0|\n",
       "+------------------+-----+------------------+-----------+\n",
       "only showing top 20 rows"
      ]
     },
     "execution_count": 27,
     "metadata": {},
     "output_type": "execute_result"
    }
   ],
   "source": [
    "from codecs import ascii_encode\n",
    "\n",
    "\n",
    "dataset.groupBy(['electoraterating','state']).agg(F.avg('dollar_value').alias('dollar_avg'), F.avg('Proportion with salary or wages').alias('AVG_job_pot')).sort('dollar_avg', ascending=False)"
   ]
  }
 ],
 "metadata": {
  "kernelspec": {
   "display_name": "Python 3.8.10 64-bit",
   "language": "python",
   "name": "python3"
  },
  "language_info": {
   "codemirror_mode": {
    "name": "ipython",
    "version": 3
   },
   "file_extension": ".py",
   "mimetype": "text/x-python",
   "name": "python",
   "nbconvert_exporter": "python",
   "pygments_lexer": "ipython3",
   "version": "3.8.10"
  },
  "orig_nbformat": 4,
  "vscode": {
   "interpreter": {
    "hash": "916dbcbb3f70747c44a77c7bcd40155683ae19c65e1c03b4aa3499c5328201f1"
   }
  }
 },
 "nbformat": 4,
 "nbformat_minor": 2
}
