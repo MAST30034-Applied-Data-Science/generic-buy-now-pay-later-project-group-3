{
 "cells": [
  {
   "cell_type": "markdown",
   "metadata": {},
   "source": [
    "### Postcode Analysis"
   ]
  },
  {
   "cell_type": "code",
   "execution_count": 1,
   "metadata": {},
   "outputs": [
    {
     "name": "stdout",
     "output_type": "stream",
     "text": [
      "22/10/06 12:05:05 WARN Utils: Your hostname, J-L resolves to a loopback address: 127.0.1.1; using 172.19.38.60 instead (on interface eth0)\n",
      "22/10/06 12:05:05 WARN Utils: Set SPARK_LOCAL_IP if you need to bind to another address\n"
     ]
    },
    {
     "name": "stderr",
     "output_type": "stream",
     "text": [
      "Setting default log level to \"WARN\".\n",
      "To adjust logging level use sc.setLogLevel(newLevel). For SparkR, use setLogLevel(newLevel).\n"
     ]
    },
    {
     "name": "stdout",
     "output_type": "stream",
     "text": [
      "22/10/06 12:05:07 WARN NativeCodeLoader: Unable to load native-hadoop library for your platform... using builtin-java classes where applicable\n",
      "22/10/06 12:05:08 WARN Utils: Service 'SparkUI' could not bind on port 4040. Attempting port 4041.\n",
      "22/10/06 12:05:08 WARN Utils: Service 'SparkUI' could not bind on port 4041. Attempting port 4042.\n"
     ]
    }
   ],
   "source": [
    "from pyspark.sql import SparkSession, functions as F\n",
    "\n",
    "sp = (\n",
    "    SparkSession.builder.appName(\"Data_Explorer\")\n",
    "    #.config(\"spark.sql.repl.eagerEval.enabled\", True) \n",
    "    #.config(\"spark.sql.parquet.cacheMetadata\", \"true\")\n",
    "    #.config(\"spark.driver.memory\", \"4g\")\n",
    "    .getOrCreate()\n",
    ")"
   ]
  },
  {
   "cell_type": "markdown",
   "metadata": {},
   "source": [
    "# Postcode Transaction Analysis\n",
    "The objective of this section is to verify if a customer's details have been recorded correctly"
   ]
  },
  {
   "cell_type": "code",
   "execution_count": 2,
   "metadata": {},
   "outputs": [
    {
     "name": "stderr",
     "output_type": "stream",
     "text": [
      "                                                                                \r"
     ]
    },
    {
     "name": "stdout",
     "output_type": "stream",
     "text": [
      "+---------------+--------------------+-----+--------+------+-------+\n",
      "|           name|             address|state|postcode|gender|user_id|\n",
      "+---------------+--------------------+-----+--------+------+-------+\n",
      "|Courtney Mendez|802 Knapp Harbors...|  QLD|    9013|Female|  71144|\n",
      "+---------------+--------------------+-----+--------+------+-------+\n",
      "only showing top 1 row\n",
      "\n",
      "+-------+-------------------+-----------------+\n",
      "|user_id|     order_datetime|fraud_probability|\n",
      "+-------+-------------------+-----------------+\n",
      "|   6228|2021-12-19 00:00:00|         97.62981|\n",
      "+-------+-------------------+-----------------+\n",
      "only showing top 1 row\n",
      "\n"
     ]
    }
   ],
   "source": [
    "customers = sp.read.option(\"inferSchema\", True).parquet(\"../data/curated/consumer_details/\")\n",
    "fraud = sp.read.option(\"inferSchema\", True).parquet(\"../data/curated/customer_fraud\")\n",
    "\n",
    "customers.show(1)\n",
    "fraud.show(1)"
   ]
  },
  {
   "cell_type": "code",
   "execution_count": 4,
   "metadata": {},
   "outputs": [
    {
     "name": "stdout",
     "output_type": "stream",
     "text": [
      "+-------+--------------+-----------------+--------+\n",
      "|user_id|order_datetime|fraud_probability|postcode|\n",
      "+-------+--------------+-----------------+--------+\n",
      "|      1|    2022-02-20|         9.805431|    6935|\n",
      "|      2|    2021-08-29|         9.599514|    2782|\n",
      "+-------+--------------+-----------------+--------+\n",
      "only showing top 2 rows\n",
      "\n"
     ]
    }
   ],
   "source": [
    "from pyspark.sql.types import DateType\n",
    "\n",
    "fraud = fraud.withColumn(\"order_datetime\", F.col(\"order_datetime\").cast(DateType()))\n",
    "c_fraud = fraud.join(customers.select(\"user_id\", \"postcode\"), on=\"user_id\")\n",
    "\n",
    "c_fraud.show(2)"
   ]
  },
  {
   "cell_type": "code",
   "execution_count": 6,
   "metadata": {},
   "outputs": [],
   "source": [
    "import folium\n",
    "import pandas as pd\n",
    "import geopandas as gpd"
   ]
  },
  {
   "cell_type": "code",
   "execution_count": 7,
   "metadata": {},
   "outputs": [],
   "source": [
    "zones = pd.read_csv(\"../data/tables/australian_postcodes.csv\")\n",
    "sf = gpd.read_file(\"../data/tables/SA2_2021_AUST_GDA2020.shp\")"
   ]
  },
  {
   "cell_type": "code",
   "execution_count": 9,
   "metadata": {},
   "outputs": [
    {
     "data": {
      "text/html": [
       "<div>\n",
       "<style scoped>\n",
       "    .dataframe tbody tr th:only-of-type {\n",
       "        vertical-align: middle;\n",
       "    }\n",
       "\n",
       "    .dataframe tbody tr th {\n",
       "        vertical-align: top;\n",
       "    }\n",
       "\n",
       "    .dataframe thead th {\n",
       "        text-align: right;\n",
       "    }\n",
       "</style>\n",
       "<table border=\"1\" class=\"dataframe\">\n",
       "  <thead>\n",
       "    <tr style=\"text-align: right;\">\n",
       "      <th></th>\n",
       "      <th>id</th>\n",
       "      <th>postcode</th>\n",
       "      <th>locality</th>\n",
       "      <th>state</th>\n",
       "      <th>long</th>\n",
       "      <th>lat</th>\n",
       "      <th>dc</th>\n",
       "      <th>type</th>\n",
       "      <th>status</th>\n",
       "      <th>sa3</th>\n",
       "      <th>...</th>\n",
       "      <th>MMM_2015</th>\n",
       "      <th>MMM_2019</th>\n",
       "      <th>ced</th>\n",
       "      <th>altitude</th>\n",
       "      <th>chargezone</th>\n",
       "      <th>phn_code</th>\n",
       "      <th>phn_name</th>\n",
       "      <th>lgaregion</th>\n",
       "      <th>electorate</th>\n",
       "      <th>electoraterating</th>\n",
       "    </tr>\n",
       "  </thead>\n",
       "  <tbody>\n",
       "    <tr>\n",
       "      <th>0</th>\n",
       "      <td>230</td>\n",
       "      <td>200</td>\n",
       "      <td>ANU</td>\n",
       "      <td>ACT</td>\n",
       "      <td>149.1190</td>\n",
       "      <td>-35.2777</td>\n",
       "      <td>NaN</td>\n",
       "      <td>NaN</td>\n",
       "      <td>NaN</td>\n",
       "      <td>NaN</td>\n",
       "      <td>...</td>\n",
       "      <td>1.0</td>\n",
       "      <td>1.0</td>\n",
       "      <td>NaN</td>\n",
       "      <td>NaN</td>\n",
       "      <td>N2</td>\n",
       "      <td>NaN</td>\n",
       "      <td>NaN</td>\n",
       "      <td>NaN</td>\n",
       "      <td>Durack</td>\n",
       "      <td>NaN</td>\n",
       "    </tr>\n",
       "    <tr>\n",
       "      <th>1</th>\n",
       "      <td>21820</td>\n",
       "      <td>200</td>\n",
       "      <td>Australian National University</td>\n",
       "      <td>ACT</td>\n",
       "      <td>149.1189</td>\n",
       "      <td>-35.2777</td>\n",
       "      <td>NaN</td>\n",
       "      <td>NaN</td>\n",
       "      <td>Added 19-Jan-2020</td>\n",
       "      <td>NaN</td>\n",
       "      <td>...</td>\n",
       "      <td>1.0</td>\n",
       "      <td>1.0</td>\n",
       "      <td>NaN</td>\n",
       "      <td>NaN</td>\n",
       "      <td>N2</td>\n",
       "      <td>NaN</td>\n",
       "      <td>NaN</td>\n",
       "      <td>NaN</td>\n",
       "      <td>Durack</td>\n",
       "      <td>NaN</td>\n",
       "    </tr>\n",
       "  </tbody>\n",
       "</table>\n",
       "<p>2 rows × 36 columns</p>\n",
       "</div>"
      ],
      "text/plain": [
       "      id  postcode                        locality state      long      lat  \\\n",
       "0    230       200                             ANU   ACT  149.1190 -35.2777   \n",
       "1  21820       200  Australian National University   ACT  149.1189 -35.2777   \n",
       "\n",
       "    dc type             status  sa3  ... MMM_2015  MMM_2019  ced altitude  \\\n",
       "0  NaN  NaN                NaN  NaN  ...      1.0       1.0  NaN      NaN   \n",
       "1  NaN  NaN  Added 19-Jan-2020  NaN  ...      1.0       1.0  NaN      NaN   \n",
       "\n",
       "   chargezone  phn_code  phn_name  lgaregion  electorate electoraterating  \n",
       "0          N2       NaN       NaN        NaN      Durack              NaN  \n",
       "1          N2       NaN       NaN        NaN      Durack              NaN  \n",
       "\n",
       "[2 rows x 36 columns]"
      ]
     },
     "execution_count": 9,
     "metadata": {},
     "output_type": "execute_result"
    }
   ],
   "source": [
    "zones.head(2)"
   ]
  },
  {
   "cell_type": "code",
   "execution_count": 10,
   "metadata": {},
   "outputs": [
    {
     "data": {
      "text/html": [
       "<div>\n",
       "<style scoped>\n",
       "    .dataframe tbody tr th:only-of-type {\n",
       "        vertical-align: middle;\n",
       "    }\n",
       "\n",
       "    .dataframe tbody tr th {\n",
       "        vertical-align: top;\n",
       "    }\n",
       "\n",
       "    .dataframe thead th {\n",
       "        text-align: right;\n",
       "    }\n",
       "</style>\n",
       "<table border=\"1\" class=\"dataframe\">\n",
       "  <thead>\n",
       "    <tr style=\"text-align: right;\">\n",
       "      <th></th>\n",
       "      <th>SA2_CODE21</th>\n",
       "      <th>SA2_NAME21</th>\n",
       "      <th>CHG_FLAG21</th>\n",
       "      <th>CHG_LBL21</th>\n",
       "      <th>SA3_CODE21</th>\n",
       "      <th>SA3_NAME21</th>\n",
       "      <th>SA4_CODE21</th>\n",
       "      <th>SA4_NAME21</th>\n",
       "      <th>GCC_CODE21</th>\n",
       "      <th>GCC_NAME21</th>\n",
       "      <th>STE_CODE21</th>\n",
       "      <th>STE_NAME21</th>\n",
       "      <th>AUS_CODE21</th>\n",
       "      <th>AUS_NAME21</th>\n",
       "      <th>AREASQKM21</th>\n",
       "      <th>LOCI_URI21</th>\n",
       "      <th>geometry</th>\n",
       "    </tr>\n",
       "  </thead>\n",
       "  <tbody>\n",
       "    <tr>\n",
       "      <th>0</th>\n",
       "      <td>101021007</td>\n",
       "      <td>Braidwood</td>\n",
       "      <td>0</td>\n",
       "      <td>No change</td>\n",
       "      <td>10102</td>\n",
       "      <td>Queanbeyan</td>\n",
       "      <td>101</td>\n",
       "      <td>Capital Region</td>\n",
       "      <td>1RNSW</td>\n",
       "      <td>Rest of NSW</td>\n",
       "      <td>1</td>\n",
       "      <td>New South Wales</td>\n",
       "      <td>AUS</td>\n",
       "      <td>Australia</td>\n",
       "      <td>3418.3525</td>\n",
       "      <td>http://linked.data.gov.au/dataset/asgsed3/SA2/...</td>\n",
       "      <td>POLYGON ((149.58424 -35.44426, 149.58444 -35.4...</td>\n",
       "    </tr>\n",
       "    <tr>\n",
       "      <th>1</th>\n",
       "      <td>101021008</td>\n",
       "      <td>Karabar</td>\n",
       "      <td>0</td>\n",
       "      <td>No change</td>\n",
       "      <td>10102</td>\n",
       "      <td>Queanbeyan</td>\n",
       "      <td>101</td>\n",
       "      <td>Capital Region</td>\n",
       "      <td>1RNSW</td>\n",
       "      <td>Rest of NSW</td>\n",
       "      <td>1</td>\n",
       "      <td>New South Wales</td>\n",
       "      <td>AUS</td>\n",
       "      <td>Australia</td>\n",
       "      <td>6.9825</td>\n",
       "      <td>http://linked.data.gov.au/dataset/asgsed3/SA2/...</td>\n",
       "      <td>POLYGON ((149.21899 -35.36738, 149.21800 -35.3...</td>\n",
       "    </tr>\n",
       "  </tbody>\n",
       "</table>\n",
       "</div>"
      ],
      "text/plain": [
       "  SA2_CODE21 SA2_NAME21 CHG_FLAG21  CHG_LBL21 SA3_CODE21  SA3_NAME21  \\\n",
       "0  101021007  Braidwood          0  No change      10102  Queanbeyan   \n",
       "1  101021008    Karabar          0  No change      10102  Queanbeyan   \n",
       "\n",
       "  SA4_CODE21      SA4_NAME21 GCC_CODE21   GCC_NAME21 STE_CODE21  \\\n",
       "0        101  Capital Region      1RNSW  Rest of NSW          1   \n",
       "1        101  Capital Region      1RNSW  Rest of NSW          1   \n",
       "\n",
       "        STE_NAME21 AUS_CODE21 AUS_NAME21  AREASQKM21  \\\n",
       "0  New South Wales        AUS  Australia   3418.3525   \n",
       "1  New South Wales        AUS  Australia      6.9825   \n",
       "\n",
       "                                          LOCI_URI21  \\\n",
       "0  http://linked.data.gov.au/dataset/asgsed3/SA2/...   \n",
       "1  http://linked.data.gov.au/dataset/asgsed3/SA2/...   \n",
       "\n",
       "                                            geometry  \n",
       "0  POLYGON ((149.58424 -35.44426, 149.58444 -35.4...  \n",
       "1  POLYGON ((149.21899 -35.36738, 149.21800 -35.3...  "
      ]
     },
     "execution_count": 10,
     "metadata": {},
     "output_type": "execute_result"
    }
   ],
   "source": [
    "sf.head(2)"
   ]
  },
  {
   "cell_type": "code",
   "execution_count": null,
   "metadata": {},
   "outputs": [],
   "source": []
  },
  {
   "cell_type": "code",
   "execution_count": null,
   "metadata": {},
   "outputs": [],
   "source": []
  },
  {
   "cell_type": "code",
   "execution_count": null,
   "metadata": {},
   "outputs": [],
   "source": []
  },
  {
   "cell_type": "code",
   "execution_count": null,
   "metadata": {},
   "outputs": [],
   "source": []
  },
  {
   "cell_type": "code",
   "execution_count": null,
   "metadata": {},
   "outputs": [],
   "source": []
  },
  {
   "cell_type": "code",
   "execution_count": 27,
   "metadata": {},
   "outputs": [
    {
     "data": {
      "text/html": [
       "<table border='1'>\n",
       "<tr><th>electoraterating</th><th>state</th><th>dollar_avg</th><th>AVG_job_pot</th></tr>\n",
       "<tr><td>Outer Metropolitan</td><td>WA</td><td>162.10137457495566</td><td>1.0</td></tr>\n",
       "<tr><td>Inner Metropolitan</td><td>QLD</td><td>161.95596260030928</td><td>1.0</td></tr>\n",
       "<tr><td>Rural</td><td>ACT</td><td>161.37831281349753</td><td>1.0</td></tr>\n",
       "<tr><td>Outer Metropolitan</td><td>TAS</td><td>161.1370434353406</td><td>1.0</td></tr>\n",
       "<tr><td>Inner Metropolitan</td><td>TAS</td><td>161.03532053220445</td><td>1.0</td></tr>\n",
       "<tr><td>Rural</td><td>NT</td><td>160.41877305512617</td><td>1.0</td></tr>\n",
       "<tr><td>Inner Metropolitan</td><td>ACT</td><td>160.1090136904166</td><td>1.0</td></tr>\n",
       "<tr><td>Inner Metropolitan</td><td>SA</td><td>159.87970617166403</td><td>1.0</td></tr>\n",
       "<tr><td>Rural</td><td>QLD</td><td>159.46443485014788</td><td>1.0</td></tr>\n",
       "<tr><td>Rural</td><td>TAS</td><td>159.31208605207823</td><td>1.0</td></tr>\n",
       "<tr><td>Provincial</td><td>NSW</td><td>159.21967482362425</td><td>1.0</td></tr>\n",
       "<tr><td>Rural</td><td>NSW</td><td>159.18619895458727</td><td>1.0</td></tr>\n",
       "<tr><td>Rural</td><td>WA</td><td>159.11389794173613</td><td>1.0</td></tr>\n",
       "<tr><td>Inner Metropolitan</td><td>NSW</td><td>158.48474075448107</td><td>1.0</td></tr>\n",
       "<tr><td>Outer Metropolitan</td><td>NSW</td><td>158.27509741565237</td><td>1.0</td></tr>\n",
       "<tr><td>Rural</td><td>VIC</td><td>158.11438507820108</td><td>1.0</td></tr>\n",
       "<tr><td>Inner Metropolitan</td><td>VIC</td><td>157.9250423554105</td><td>1.0</td></tr>\n",
       "<tr><td>Rural</td><td>SA</td><td>157.7529675761457</td><td>1.0</td></tr>\n",
       "<tr><td>Provincial</td><td>QLD</td><td>157.46015825081668</td><td>1.0</td></tr>\n",
       "<tr><td>Inner Metropolitan</td><td>NT</td><td>157.2745072891678</td><td>1.0</td></tr>\n",
       "</table>\n",
       "only showing top 20 rows\n"
      ],
      "text/plain": [
       "+------------------+-----+------------------+-----------+\n",
       "|  electoraterating|state|        dollar_avg|AVG_job_pot|\n",
       "+------------------+-----+------------------+-----------+\n",
       "|Outer Metropolitan|   WA|162.10137457495566|        1.0|\n",
       "|Inner Metropolitan|  QLD|161.95596260030928|        1.0|\n",
       "|             Rural|  ACT|161.37831281349753|        1.0|\n",
       "|Outer Metropolitan|  TAS| 161.1370434353406|        1.0|\n",
       "|Inner Metropolitan|  TAS|161.03532053220445|        1.0|\n",
       "|             Rural|   NT|160.41877305512617|        1.0|\n",
       "|Inner Metropolitan|  ACT| 160.1090136904166|        1.0|\n",
       "|Inner Metropolitan|   SA|159.87970617166403|        1.0|\n",
       "|             Rural|  QLD|159.46443485014788|        1.0|\n",
       "|             Rural|  TAS|159.31208605207823|        1.0|\n",
       "|        Provincial|  NSW|159.21967482362425|        1.0|\n",
       "|             Rural|  NSW|159.18619895458727|        1.0|\n",
       "|             Rural|   WA|159.11389794173613|        1.0|\n",
       "|Inner Metropolitan|  NSW|158.48474075448107|        1.0|\n",
       "|Outer Metropolitan|  NSW|158.27509741565237|        1.0|\n",
       "|             Rural|  VIC|158.11438507820108|        1.0|\n",
       "|Inner Metropolitan|  VIC| 157.9250423554105|        1.0|\n",
       "|             Rural|   SA| 157.7529675761457|        1.0|\n",
       "|        Provincial|  QLD|157.46015825081668|        1.0|\n",
       "|Inner Metropolitan|   NT| 157.2745072891678|        1.0|\n",
       "+------------------+-----+------------------+-----------+\n",
       "only showing top 20 rows"
      ]
     },
     "execution_count": 27,
     "metadata": {},
     "output_type": "execute_result"
    }
   ],
   "source": [
    "from codecs import ascii_encode\n",
    "\n",
    "dataset.groupBy(['electoraterating','state']).agg(F.avg('dollar_value').alias('dollar_avg'), F.avg('Proportion with salary or wages').alias('AVG_job_pot')).sort('dollar_avg', ascending=False)"
   ]
  }
 ],
 "metadata": {
  "kernelspec": {
   "display_name": "Python 3.9.13 ('virtual-p2')",
   "language": "python",
   "name": "python3"
  },
  "language_info": {
   "codemirror_mode": {
    "name": "ipython",
    "version": 3
   },
   "file_extension": ".py",
   "mimetype": "text/x-python",
   "name": "python",
   "nbconvert_exporter": "python",
   "pygments_lexer": "ipython3",
   "version": "3.9.13"
  },
  "orig_nbformat": 4,
  "vscode": {
   "interpreter": {
    "hash": "fcf6849838b3a8621666e21fdc4cc1583090fffb5f1906a909fbc1c95ae1bb65"
   }
  }
 },
 "nbformat": 4,
 "nbformat_minor": 2
}
