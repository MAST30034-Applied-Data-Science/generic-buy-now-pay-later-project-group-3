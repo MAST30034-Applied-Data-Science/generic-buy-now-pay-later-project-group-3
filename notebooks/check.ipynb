{
 "cells": [
  {
   "cell_type": "code",
   "execution_count": 1,
   "metadata": {},
   "outputs": [],
   "source": [
    "import pandas as pd\n",
    "import numpy as np\n",
    "\n",
    "from pyspark.sql import SparkSession\n",
    "import pyspark.sql.functions as F\n",
    "from pyspark.sql.functions import col"
   ]
  },
  {
   "cell_type": "code",
   "execution_count": 2,
   "metadata": {},
   "outputs": [
    {
     "name": "stdout",
     "output_type": "stream",
     "text": [
      "22/10/05 01:14:07 WARN Utils: Your hostname, J-L resolves to a loopback address: 127.0.1.1; using 172.18.71.108 instead (on interface eth0)\n",
      "22/10/05 01:14:07 WARN Utils: Set SPARK_LOCAL_IP if you need to bind to another address\n"
     ]
    },
    {
     "name": "stderr",
     "output_type": "stream",
     "text": [
      "Setting default log level to \"WARN\".\n",
      "To adjust logging level use sc.setLogLevel(newLevel). For SparkR, use setLogLevel(newLevel).\n"
     ]
    },
    {
     "name": "stdout",
     "output_type": "stream",
     "text": [
      "22/10/05 01:14:08 WARN NativeCodeLoader: Unable to load native-hadoop library for your platform... using builtin-java classes where applicable\n"
     ]
    },
    {
     "data": {
      "text/html": [
       "\n",
       "            <div>\n",
       "                <p><b>SparkSession - in-memory</b></p>\n",
       "                \n",
       "        <div>\n",
       "            <p><b>SparkContext</b></p>\n",
       "\n",
       "            <p><a href=\"http://172.18.71.108:4040\">Spark UI</a></p>\n",
       "\n",
       "            <dl>\n",
       "              <dt>Version</dt>\n",
       "                <dd><code>v3.3.0</code></dd>\n",
       "              <dt>Master</dt>\n",
       "                <dd><code>local[*]</code></dd>\n",
       "              <dt>AppName</dt>\n",
       "                <dd><code>Check data</code></dd>\n",
       "            </dl>\n",
       "        </div>\n",
       "        \n",
       "            </div>\n",
       "        "
      ],
      "text/plain": [
       "<pyspark.sql.session.SparkSession at 0x7f1e15618e80>"
      ]
     },
     "execution_count": 2,
     "metadata": {},
     "output_type": "execute_result"
    }
   ],
   "source": [
    "sp = SparkSession.builder.appName(\"Check data\").getOrCreate()\n",
    "sp"
   ]
  },
  {
   "cell_type": "code",
   "execution_count": 3,
   "metadata": {},
   "outputs": [
    {
     "name": "stdout",
     "output_type": "stream",
     "text": [
      "+--------+-------+------------+------------+--------------+-----------+-----------------+----------+-------+\n",
      "|order_id|user_id|merchant_abn|dollar_value|order_datetime|Natural_var|Potential_Outlier|      date|holiday|\n",
      "+--------+-------+------------+------------+--------------+-----------+-----------------+----------+-------+\n",
      "|       3|      3| 60956456424|      136.68|    2021-08-20|      false|            false|2021-08-20|      0|\n",
      "|       8|  18482| 70501974849|       68.75|    2021-08-20|      false|            false|2021-08-20|      0|\n",
      "|      11|      7| 33064796871|      373.09|    2021-08-20|      false|            false|2021-08-20|      0|\n",
      "+--------+-------+------------+------------+--------------+-----------+-----------------+----------+-------+\n",
      "only showing top 3 rows\n",
      "\n"
     ]
    }
   ],
   "source": [
    "trans = sp.read.option(\"inferSchema\", True).parquet(\"../data/processed/transactions/\")\n",
    "trans.show(3)"
   ]
  },
  {
   "cell_type": "code",
   "execution_count": 5,
   "metadata": {},
   "outputs": [
    {
     "name": "stdout",
     "output_type": "stream",
     "text": [
      "+-----------+-----------------+--------------------+-----+--------+-----------+-------+\n",
      "|consumer_id|             name|             address|state|postcode|     gender|user_id|\n",
      "+-----------+-----------------+--------------------+-----+--------+-----------+-------+\n",
      "|     870353|    Charles Davis|     048 Ward Common|   SA|    5261|       Male| 213579|\n",
      "|     923963|Jacqueline Nelson|151 Lynn Gateway ...|  QLD|    4744|     Female| 213580|\n",
      "|      93016|    Carolyn Smith|  37467 Kelly Stream|  QLD|    4454|     Female| 213581|\n",
      "|      61324|      Denise Rush|8472 Latasha Mano...|   WA|    6705|     Female| 213582|\n",
      "|     823311|  Nathan Williams| 8241 Thomas Parkway|  NSW|    2145|       Male| 213583|\n",
      "|    1092697|        Jon White|  3291 Rose Villages|   SA|    5007|       Male| 213584|\n",
      "|     285579|    Joseph Martin|    2322 Regina Port|  NSW|    1219|       Male| 213585|\n",
      "|    1109809|   Robert Johnson|25644 Keith Villa...|  VIC|    3638|       Male| 213586|\n",
      "|     830569|       Jay Rivera|    2393 John Points|  VIC|    3072|       Male| 213587|\n",
      "|    1393576|    Justin Obrien|     4616 Aaron Road|   WA|    6484|       Male| 213588|\n",
      "|    1251086|      James Brown|  3206 Carter Divide|  QLD|    4074|Undisclosed| 213589|\n",
      "|     168392|    Jeffrey Clark|61463 Bryan Grove...|  VIC|    3031|Undisclosed| 213590|\n",
      "|    1266229|     Robert White|6278 James Walk S...|  NSW|    2490|       Male| 213591|\n",
      "|     861478|    Lindsay Smith|92687 Luis Circle...|  NSW|    2799|     Female| 213592|\n",
      "|     980761| Loretta Johnston|621 Kaitlyn Rue S...|   SA|    5414|     Female| 213593|\n",
      "|     680225|    Jill Martinez|    80577 Berger Row|  QLD|    4068|     Female| 213594|\n",
      "|    1220180| Katherine Powell|     9333 Maria Dale|  VIC|    3462|     Female| 213595|\n",
      "|     490163|       Tina Silva|      070 Tyler Lock|  VIC|    3011|     Female| 213596|\n",
      "|     663380|    Marilyn Haney|697 White Rapids ...|   NT|     871|     Female| 213597|\n",
      "|     663010|     Linda Rhodes|388 Amanda Fords ...|  QLD|    4381|     Female| 213598|\n",
      "+-----------+-----------------+--------------------+-----+--------+-----------+-------+\n",
      "only showing top 20 rows\n",
      "\n"
     ]
    }
   ],
   "source": [
    "deets = sp.read.option(\"inferSchema\", True).parquet(\"../data/curated/consumer_details/\")\n",
    "deets.show()"
   ]
  },
  {
   "cell_type": "code",
   "execution_count": null,
   "metadata": {},
   "outputs": [],
   "source": []
  }
 ],
 "metadata": {
  "kernelspec": {
   "display_name": "Python 3.9.13 ('virtual-p2')",
   "language": "python",
   "name": "python3"
  },
  "language_info": {
   "codemirror_mode": {
    "name": "ipython",
    "version": 3
   },
   "file_extension": ".py",
   "mimetype": "text/x-python",
   "name": "python",
   "nbconvert_exporter": "python",
   "pygments_lexer": "ipython3",
   "version": "3.9.13"
  },
  "orig_nbformat": 4,
  "vscode": {
   "interpreter": {
    "hash": "fcf6849838b3a8621666e21fdc4cc1583090fffb5f1906a909fbc1c95ae1bb65"
   }
  }
 },
 "nbformat": 4,
 "nbformat_minor": 2
}
