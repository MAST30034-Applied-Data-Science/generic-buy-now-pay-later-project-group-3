{
 "cells": [
  {
   "cell_type": "code",
   "execution_count": 11,
   "metadata": {},
   "outputs": [],
   "source": [
    "import pandas as pd\n",
    "import numpy as np\n",
    "\n",
    "from pyspark.sql import SparkSession\n",
    "import pyspark.sql.functions as F\n",
    "from pyspark.sql.functions import col"
   ]
  },
  {
   "cell_type": "code",
   "execution_count": 12,
   "metadata": {},
   "outputs": [
    {
     "data": {
      "text/html": [
       "\n",
       "            <div>\n",
       "                <p><b>SparkSession - in-memory</b></p>\n",
       "                \n",
       "        <div>\n",
       "            <p><b>SparkContext</b></p>\n",
       "\n",
       "            <p><a href=\"http://172.18.71.108:4040\">Spark UI</a></p>\n",
       "\n",
       "            <dl>\n",
       "              <dt>Version</dt>\n",
       "                <dd><code>v3.3.0</code></dd>\n",
       "              <dt>Master</dt>\n",
       "                <dd><code>local[*]</code></dd>\n",
       "              <dt>AppName</dt>\n",
       "                <dd><code>Checker</code></dd>\n",
       "            </dl>\n",
       "        </div>\n",
       "        \n",
       "            </div>\n",
       "        "
      ],
      "text/plain": [
       "<pyspark.sql.session.SparkSession at 0x7f83650abc70>"
      ]
     },
     "execution_count": 12,
     "metadata": {},
     "output_type": "execute_result"
    }
   ],
   "source": [
    "sp = SparkSession.builder.appName(\"Checker\").getOrCreate()\n",
    "sp"
   ]
  },
  {
   "cell_type": "code",
   "execution_count": 13,
   "metadata": {},
   "outputs": [
    {
     "name": "stdout",
     "output_type": "stream",
     "text": [
      "+-------+------------+------------+--------------+-----------+\n",
      "|user_id|merchant_abn|dollar_value|order_datetime|   order_id|\n",
      "+-------+------------+------------+--------------+-----------+\n",
      "|  14935| 79417999332|      136.07|    2021-11-26|68719476736|\n",
      "|      1| 46451548968|       72.62|    2021-11-26|68719476737|\n",
      "|  14936| 89518629617|        3.08|    2021-11-26|68719476738|\n",
      "+-------+------------+------------+--------------+-----------+\n",
      "only showing top 3 rows\n",
      "\n"
     ]
    }
   ],
   "source": [
    "trans = sp.read.option(\"inferSchema\", True).parquet(\"../data/curated/transactions\")\n",
    "trans.show(3)"
   ]
  },
  {
   "cell_type": "code",
   "execution_count": 14,
   "metadata": {},
   "outputs": [
    {
     "name": "stdout",
     "output_type": "stream",
     "text": [
      "root\n",
      " |-- user_id: long (nullable = true)\n",
      " |-- merchant_abn: long (nullable = true)\n",
      " |-- dollar_value: float (nullable = true)\n",
      " |-- order_datetime: date (nullable = true)\n",
      " |-- order_id: long (nullable = true)\n",
      "\n"
     ]
    }
   ],
   "source": [
    "trans.printSchema()"
   ]
  },
  {
   "cell_type": "markdown",
   "metadata": {},
   "source": [
    "### Checking the customers that exist in fraud data"
   ]
  },
  {
   "cell_type": "code",
   "execution_count": 16,
   "metadata": {},
   "outputs": [
    {
     "name": "stdout",
     "output_type": "stream",
     "text": [
      "+-------+------------+------------+--------------+\n",
      "|user_id|merchant_abn|dollar_value|order_datetime|\n",
      "+-------+------------+------------+--------------+\n",
      "|  14936| 89518629617|        3.08|    2021-11-26|\n",
      "|  14936| 31101120643|       25.23|    2021-11-26|\n",
      "+-------+------------+------------+--------------+\n",
      "only showing top 2 rows\n",
      "\n"
     ]
    }
   ],
   "source": [
    "model_data = sp.read.option(\"inferSchema\", True).parquet(\"../data/processed/model_data\")\n",
    "model_data.show(2)"
   ]
  },
  {
   "cell_type": "code",
   "execution_count": 17,
   "metadata": {},
   "outputs": [
    {
     "name": "stdout",
     "output_type": "stream",
     "text": [
      "+-------+-------------------+-----------------+\n",
      "|user_id|     order_datetime|fraud_probability|\n",
      "+-------+-------------------+-----------------+\n",
      "|   6228|2021-12-19 00:00:00|         97.62981|\n",
      "|  21419|2021-12-10 00:00:00|         99.24738|\n",
      "|   5606|2021-10-17 00:00:00|         84.05825|\n",
      "|   3101|2021-04-16 23:00:00|         91.42192|\n",
      "|  22239|2021-10-19 00:00:00|         94.70342|\n",
      "|  16556|2022-02-20 00:00:00|         89.65663|\n",
      "|  10278|2021-09-27 23:00:00|         83.59137|\n",
      "|  15790|2021-12-30 00:00:00|         71.77066|\n",
      "|   5233|2021-08-28 23:00:00|         85.87123|\n",
      "|    230|2021-08-27 23:00:00|         86.28329|\n",
      "|  13601|2021-12-26 00:00:00|         83.13696|\n",
      "|   6383|2021-09-14 23:00:00|         66.26765|\n",
      "|   3513|2022-02-27 00:00:00|        75.169815|\n",
      "|  18658|2021-10-19 00:00:00|         82.98609|\n",
      "|   5965|2021-11-14 00:00:00|         69.37164|\n",
      "|  18714|2021-11-14 00:00:00|         83.78814|\n",
      "|  22957|2022-02-12 00:00:00|         82.79066|\n",
      "|  20118|2021-09-04 23:00:00|          80.3403|\n",
      "|   6436|2021-12-24 00:00:00|        84.816185|\n",
      "|  17900|2022-02-25 00:00:00|         92.73263|\n",
      "+-------+-------------------+-----------------+\n",
      "only showing top 20 rows\n",
      "\n"
     ]
    }
   ],
   "source": [
    "cfraud = sp.read.option(\"inferSchema\", True).parquet(\"../data/curated/customer_fraud\")\n",
    "cfraud.show()"
   ]
  },
  {
   "cell_type": "code",
   "execution_count": 19,
   "metadata": {},
   "outputs": [
    {
     "name": "stdout",
     "output_type": "stream",
     "text": [
      "root\n",
      " |-- user_id: integer (nullable = true)\n",
      " |-- order_datetime: date (nullable = true)\n",
      " |-- fraud_probability: float (nullable = true)\n",
      "\n",
      "+-------+--------------+-----------------+\n",
      "|user_id|order_datetime|fraud_probability|\n",
      "+-------+--------------+-----------------+\n",
      "|   6228|    2021-12-19|         97.62981|\n",
      "|  21419|    2021-12-10|         99.24738|\n",
      "+-------+--------------+-----------------+\n",
      "only showing top 2 rows\n",
      "\n"
     ]
    }
   ],
   "source": [
    "from pyspark.sql.types import DateType\n",
    "\n",
    "cfraud = cfraud.withColumn(\"order_datetime\", col(\"order_datetime\").cast(DateType()))\n",
    "cfraud.printSchema()\n",
    "cfraud.show(2)"
   ]
  },
  {
   "cell_type": "code",
   "execution_count": 26,
   "metadata": {},
   "outputs": [
    {
     "name": "stdout",
     "output_type": "stream",
     "text": [
      "+-------+--------------+-----------------+\n",
      "|user_id|order_datetime|fraud_probability|\n",
      "+-------+--------------+-----------------+\n",
      "|     26|    2021-11-19|        10.604536|\n",
      "|     29|    2021-10-31|          8.44397|\n",
      "+-------+--------------+-----------------+\n",
      "only showing top 2 rows\n",
      "\n"
     ]
    }
   ],
   "source": [
    "legit_fraud_custs = cfraud.join(model_data.select(\"user_id\").distinct(), on=\"user_id\")\n",
    "legit_fraud_custs.show(2)"
   ]
  },
  {
   "cell_type": "code",
   "execution_count": 27,
   "metadata": {},
   "outputs": [
    {
     "data": {
      "text/plain": [
       "11605"
      ]
     },
     "execution_count": 27,
     "metadata": {},
     "output_type": "execute_result"
    }
   ],
   "source": [
    "legit_fraud_custs.count()"
   ]
  },
  {
   "cell_type": "code",
   "execution_count": 28,
   "metadata": {},
   "outputs": [
    {
     "data": {
      "text/html": [
       "<div>\n",
       "<style scoped>\n",
       "    .dataframe tbody tr th:only-of-type {\n",
       "        vertical-align: middle;\n",
       "    }\n",
       "\n",
       "    .dataframe tbody tr th {\n",
       "        vertical-align: top;\n",
       "    }\n",
       "\n",
       "    .dataframe thead th {\n",
       "        text-align: right;\n",
       "    }\n",
       "</style>\n",
       "<table border=\"1\" class=\"dataframe\">\n",
       "  <thead>\n",
       "    <tr style=\"text-align: right;\">\n",
       "      <th></th>\n",
       "      <th>user_id</th>\n",
       "      <th>order_datetime</th>\n",
       "      <th>fraud_probability</th>\n",
       "    </tr>\n",
       "  </thead>\n",
       "  <tbody>\n",
       "    <tr>\n",
       "      <th>0</th>\n",
       "      <td>26</td>\n",
       "      <td>2021-11-19</td>\n",
       "      <td>10.604536</td>\n",
       "    </tr>\n",
       "    <tr>\n",
       "      <th>1</th>\n",
       "      <td>29</td>\n",
       "      <td>2021-10-31</td>\n",
       "      <td>8.443970</td>\n",
       "    </tr>\n",
       "    <tr>\n",
       "      <th>2</th>\n",
       "      <td>29</td>\n",
       "      <td>2021-11-25</td>\n",
       "      <td>15.492410</td>\n",
       "    </tr>\n",
       "    <tr>\n",
       "      <th>3</th>\n",
       "      <td>15057</td>\n",
       "      <td>2022-01-11</td>\n",
       "      <td>36.562668</td>\n",
       "    </tr>\n",
       "    <tr>\n",
       "      <th>4</th>\n",
       "      <td>15237</td>\n",
       "      <td>2022-01-09</td>\n",
       "      <td>8.632889</td>\n",
       "    </tr>\n",
       "  </tbody>\n",
       "</table>\n",
       "</div>"
      ],
      "text/plain": [
       "   user_id order_datetime  fraud_probability\n",
       "0       26     2021-11-19          10.604536\n",
       "1       29     2021-10-31           8.443970\n",
       "2       29     2021-11-25          15.492410\n",
       "3    15057     2022-01-11          36.562668\n",
       "4    15237     2022-01-09           8.632889"
      ]
     },
     "execution_count": 28,
     "metadata": {},
     "output_type": "execute_result"
    }
   ],
   "source": [
    "cfraud_pd = cfraud.toPandas()\n",
    "legit_fraud_pd = legit_fraud_custs.toPandas()\n",
    "\n",
    "legit_fraud_pd.head()"
   ]
  },
  {
   "cell_type": "code",
   "execution_count": 30,
   "metadata": {},
   "outputs": [
    {
     "data": {
      "text/plain": [
       "<seaborn.axisgrid.FacetGrid at 0x7f834d0b5fd0>"
      ]
     },
     "execution_count": 30,
     "metadata": {},
     "output_type": "execute_result"
    },
    {
     "data": {
      "image/png": "[encoded data removed]",
      "text/plain": [
       "<Figure size 500x500 with 1 Axes>"
      ]
     },
     "metadata": {},
     "output_type": "display_data"
    }
   ],
   "source": [
    "import seaborn as sns\n",
    "\n",
    "sns.displot(cfraud_pd[\"fraud_probability\"])"
   ]
  },
  {
   "cell_type": "code",
   "execution_count": 31,
   "metadata": {},
   "outputs": [
    {
     "data": {
      "text/plain": [
       "<seaborn.axisgrid.FacetGrid at 0x7f834d0b5070>"
      ]
     },
     "execution_count": 31,
     "metadata": {},
     "output_type": "execute_result"
    },
    {
     "data": {
      "image/png": "[encoded data removed]",
      "text/plain": [
       "<Figure size 500x500 with 1 Axes>"
      ]
     },
     "metadata": {},
     "output_type": "display_data"
    }
   ],
   "source": [
    "sns.displot(legit_fraud_pd[\"fraud_probability\"])"
   ]
  },
  {
   "cell_type": "markdown",
   "metadata": {},
   "source": [
    "The distributions are very similar and so that should not be a problem"
   ]
  },
  {
   "cell_type": "markdown",
   "metadata": {},
   "source": [
    "### Verify that customers do not have more information"
   ]
  },
  {
   "cell_type": "code",
   "execution_count": 34,
   "metadata": {},
   "outputs": [
    {
     "name": "stdout",
     "output_type": "stream",
     "text": [
      "+----------------+--------------------+-----+--------+------+-----------+\n",
      "|            name|             address|state|postcode|gender|consumer_id|\n",
      "+----------------+--------------------+-----+--------+------+-----------+\n",
      "|Yolanda Williams|413 Haney Gardens...|   WA|    6935|Female|    1195503|\n",
      "|      Mary Smith|     3764 Amber Oval|  NSW|    2782|Female|     179208|\n",
      "+----------------+--------------------+-----+--------+------+-----------+\n",
      "only showing top 2 rows\n",
      "\n",
      "root\n",
      " |-- name: string (nullable = true)\n",
      " |-- address: string (nullable = true)\n",
      " |-- state: string (nullable = true)\n",
      " |-- postcode: integer (nullable = true)\n",
      " |-- gender: string (nullable = true)\n",
      " |-- consumer_id: integer (nullable = true)\n",
      "\n"
     ]
    }
   ],
   "source": [
    "consumer_tbl = sp.read.option(\"inferSchema\", True).option(\"header\", True).option(\"delimiter\", \"|\").csv(\"../data/tables/tbl_consumer.csv\")\n",
    "consumer_tbl.show(2)\n",
    "consumer_tbl.printSchema()"
   ]
  },
  {
   "cell_type": "code",
   "execution_count": 49,
   "metadata": {},
   "outputs": [
    {
     "data": {
      "text/plain": [
       "499999"
      ]
     },
     "execution_count": 49,
     "metadata": {},
     "output_type": "execute_result"
    }
   ],
   "source": [
    "consumer_tbl.select(\"consumer_id\").distinct().count()"
   ]
  },
  {
   "cell_type": "code",
   "execution_count": 50,
   "metadata": {},
   "outputs": [
    {
     "data": {
      "text/plain": [
       "24081"
      ]
     },
     "execution_count": 50,
     "metadata": {},
     "output_type": "execute_result"
    }
   ],
   "source": [
    "trans.select(\"user_id\").distinct().count()"
   ]
  },
  {
   "cell_type": "code",
   "execution_count": 35,
   "metadata": {},
   "outputs": [
    {
     "name": "stdout",
     "output_type": "stream",
     "text": [
      "+-------+-----------+\n",
      "|user_id|consumer_id|\n",
      "+-------+-----------+\n",
      "|      1|    1195503|\n",
      "|      2|     179208|\n",
      "+-------+-----------+\n",
      "only showing top 2 rows\n",
      "\n"
     ]
    }
   ],
   "source": [
    "lookup = sp.read.option(\"inferSchema\", True).parquet(\"../data/tables/consumer_user_details.parquet\")\n",
    "lookup.show(2)"
   ]
  },
  {
   "cell_type": "code",
   "execution_count": 37,
   "metadata": {},
   "outputs": [
    {
     "name": "stdout",
     "output_type": "stream",
     "text": [
      "+-----------+----------------+--------------------+-----+--------+------+-------+\n",
      "|consumer_id|            name|             address|state|postcode|gender|user_id|\n",
      "+-----------+----------------+--------------------+-----+--------+------+-------+\n",
      "|    1195503|Yolanda Williams|413 Haney Gardens...|   WA|    6935|Female|      1|\n",
      "|     179208|      Mary Smith|     3764 Amber Oval|  NSW|    2782|Female|      2|\n",
      "+-----------+----------------+--------------------+-----+--------+------+-------+\n",
      "only showing top 2 rows\n",
      "\n"
     ]
    }
   ],
   "source": [
    "consumer_tbl_joined = consumer_tbl.join(lookup, on=\"consumer_id\")\n",
    "consumer_tbl_joined.show(2)"
   ]
  },
  {
   "cell_type": "code",
   "execution_count": 39,
   "metadata": {},
   "outputs": [
    {
     "name": "stderr",
     "output_type": "stream",
     "text": [
      "                                                                                \r"
     ]
    },
    {
     "name": "stdout",
     "output_type": "stream",
     "text": [
      "+-------+-----------+-----------------+--------------------+-----+--------+-----------+\n",
      "|user_id|consumer_id|             name|             address|state|postcode|     gender|\n",
      "+-------+-----------+-----------------+--------------------+-----+--------+-----------+\n",
      "|      1|    1195503| Yolanda Williams|413 Haney Gardens...|   WA|    6935|     Female|\n",
      "|      2|     179208|       Mary Smith|     3764 Amber Oval|  NSW|    2782|     Female|\n",
      "|      3|    1194530|    Jill Jones MD|  40693 Henry Greens|   NT|     862|     Female|\n",
      "|      4|     154128|  Lindsay Jimenez|00653 Davenport C...|  NSW|    2780|     Female|\n",
      "|      5|     712975|Rebecca Blanchard|9271 Michael Mano...|   WA|    6355|     Female|\n",
      "|      6|     407340|    Karen Chapman|2706 Stewart Oval...|  NSW|    2033|     Female|\n",
      "|      7|     511685|     Andrea Jones|   122 Brandon Cliff|  QLD|    4606|     Female|\n",
      "|      8|     448088| Stephen Williams|6804 Wright Crest...|   WA|    6056|       Male|\n",
      "|      9|     650435|  Stephanie Reyes|5813 Denise Land ...|  NSW|    2482|     Female|\n",
      "|     10|    1058499| Jillian Gonzales|461 Ryan Common S...|  VIC|    3220|     Female|\n",
      "|     11|     428325|     Eugene Lucas|33983 Kevin Drive...|  VIC|    3063|Undisclosed|\n",
      "|     12|    1494640|    Melissa Jones| 13706 Kimberly Port|   WA|    6743|     Female|\n",
      "|     13|    1146717| Angela Brown PhD|0236 Mills Land S...|  QLD|    4673|     Female|\n",
      "|     14|    1343547|     Lance Butler|   8943 Kenneth Camp|  VIC|    3332|       Male|\n",
      "|     15|    1463076|      Paul Abbott|     60495 Ryan Hill|  QLD|    4512|       Male|\n",
      "|     16|    1356405|       Tracy Hart|9671 Jacob Harbor...|  NSW|    2452|       Male|\n",
      "|     17|    1331093|    Alyssa Wilson|  44353 Nathan Ridge|  VIC|    3719|     Female|\n",
      "|     18|      80965|  Michael Burnett|   89400 Torres Fort|  NSW|    1109|       Male|\n",
      "|     19|    1226530|Victoria Gonzalez|68657 Johnson Gle...|  TAS|    7276|     Female|\n",
      "|     20|    1390367|     James Norris|   790 Ramos Landing|  VIC|    3234|Undisclosed|\n",
      "+-------+-----------+-----------------+--------------------+-----+--------+-----------+\n",
      "only showing top 20 rows\n",
      "\n"
     ]
    }
   ],
   "source": [
    "final = consumer_tbl_joined.join(trans.select(\"user_id\").distinct(), on=\"user_id\")\n",
    "final.show()"
   ]
  },
  {
   "cell_type": "code",
   "execution_count": 40,
   "metadata": {},
   "outputs": [
    {
     "name": "stderr",
     "output_type": "stream",
     "text": [
      "                                                                                \r"
     ]
    },
    {
     "data": {
      "text/plain": [
       "24081"
      ]
     },
     "execution_count": 40,
     "metadata": {},
     "output_type": "execute_result"
    }
   ],
   "source": [
    "final.count()\n",
    "# 24081 customers are in the database"
   ]
  },
  {
   "cell_type": "markdown",
   "metadata": {},
   "source": [
    "There are 24k unique customers that have addresses. Next to check - how many transactions do they make"
   ]
  },
  {
   "cell_type": "code",
   "execution_count": 46,
   "metadata": {},
   "outputs": [
    {
     "data": {
      "text/plain": [
       "24081"
      ]
     },
     "execution_count": 46,
     "metadata": {},
     "output_type": "execute_result"
    }
   ],
   "source": [
    "trans.select(\"user_id\").distinct().count()"
   ]
  },
  {
   "cell_type": "code",
   "execution_count": 43,
   "metadata": {},
   "outputs": [
    {
     "name": "stderr",
     "output_type": "stream",
     "text": [
      "                                                                                \r"
     ]
    },
    {
     "name": "stdout",
     "output_type": "stream",
     "text": [
      "+-------+------------+------------+--------------+-----------+\n",
      "|user_id|merchant_abn|dollar_value|order_datetime|   order_id|\n",
      "+-------+------------+------------+--------------+-----------+\n",
      "|      7| 71041015148|       226.7|    2021-11-26|68719476757|\n",
      "|      7| 14492521225|       28.69|    2021-11-26|68719476759|\n",
      "+-------+------------+------------+--------------+-----------+\n",
      "only showing top 2 rows\n",
      "\n"
     ]
    }
   ],
   "source": [
    "model_trans = trans.join(final.select(\"user_id\").distinct(), on=\"user_id\")\n",
    "model_trans.show(2)"
   ]
  },
  {
   "cell_type": "code",
   "execution_count": 44,
   "metadata": {},
   "outputs": [
    {
     "name": "stderr",
     "output_type": "stream",
     "text": [
      "                                                                                \r"
     ]
    },
    {
     "data": {
      "text/plain": [
       "14195505"
      ]
     },
     "execution_count": 44,
     "metadata": {},
     "output_type": "execute_result"
    }
   ],
   "source": [
    "model_trans.count()"
   ]
  },
  {
   "cell_type": "code",
   "execution_count": 45,
   "metadata": {},
   "outputs": [
    {
     "name": "stderr",
     "output_type": "stream",
     "text": [
      "                                                                                \r"
     ]
    },
    {
     "data": {
      "text/plain": [
       "14195505"
      ]
     },
     "execution_count": 45,
     "metadata": {},
     "output_type": "execute_result"
    }
   ],
   "source": [
    "model_trans.dropna().count()"
   ]
  },
  {
   "cell_type": "code",
   "execution_count": 54,
   "metadata": {},
   "outputs": [],
   "source": [
    "from functools import reduce\n",
    "\n",
    "from pyspark.sql import SparkSession, DataFrame\n",
    "\n",
    "def read_tables(sp: SparkSession, file: str, ftype = \"p\", sample=False):\n",
    "    \"\"\"\n",
    "    Helper function to read data from the desginated folder\n",
    "\n",
    "    sp : Current SparkSession\n",
    "    file : Type of data/Name of file name to be read\n",
    "            (if file is \"transactions\" no ftype needed)\n",
    "    ftype : File type (Parquet(p) or CSV(c))\n",
    "\n",
    "    returns DataFrame read\n",
    "    \"\"\"\n",
    "    # Root directory\n",
    "    dir = \"../data/tables/\"\n",
    "    \n",
    "    # Transaction folders\n",
    "    if file == \"transactions\":\n",
    "        # Read all transactions together\n",
    "        groups = [\n",
    "            \"transactions_20210228_20210827_snapshot/\",\n",
    "            \"transactions_20210828_20220227_snapshot/\",\n",
    "            \"transactions_20220228_20220828_snapshot/\"\n",
    "            ]\n",
    "\n",
    "        # Read the different transaction folders\n",
    "        final_list = []\n",
    "        for g in groups:\n",
    "            final_list.append(sp.read.option(\"inferSchema\", True).parquet(dir + g))\n",
    "\n",
    "        if not sample:\n",
    "            return reduce(DataFrame.unionAll, final_list)\n",
    "        return reduce(DataFrame.unionAll, final_list).sample(0.01)\n",
    "\n",
    "    # Special file\n",
    "    elif file == \"tbl_consumer\":\n",
    "        return sp.read.option(\"inferSchema\", True).option(\"header\", True).option(\"delimiter\", \"|\").csv(\"../data/tables/tbl_consumer.csv\")\n",
    "\n",
    "    # Parquet files\n",
    "    if ftype == \"p\":\n",
    "        return sp.read.option(\"inferSchema\", True).parquet(dir + file + \".parquet\")\n",
    "    elif ftype == \"c\":\n",
    "        return sp.read.option(\"inferSchema\", True).option(\"header\", True).csv(dir + file + \".csv\")\n"
   ]
  },
  {
   "cell_type": "code",
   "execution_count": 55,
   "metadata": {},
   "outputs": [
    {
     "name": "stdout",
     "output_type": "stream",
     "text": [
      "+-------+------------+------------------+--------------------+--------------+\n",
      "|user_id|merchant_abn|      dollar_value|            order_id|order_datetime|\n",
      "+-------+------------+------------------+--------------------+--------------+\n",
      "|  18478| 62191208634|63.255848959735246|949a63c8-29f7-4ab...|    2021-08-20|\n",
      "|      2| 15549624934| 130.3505283105634|6a84c3cf-612a-457...|    2021-08-20|\n",
      "+-------+------------+------------------+--------------------+--------------+\n",
      "only showing top 2 rows\n",
      "\n"
     ]
    }
   ],
   "source": [
    "pre_trans = read_tables(sp, \"transactions\")\n",
    "pre_trans.show(2)"
   ]
  },
  {
   "cell_type": "code",
   "execution_count": 56,
   "metadata": {},
   "outputs": [
    {
     "name": "stderr",
     "output_type": "stream",
     "text": [
      "                                                                                \r"
     ]
    },
    {
     "data": {
      "text/plain": [
       "24081"
      ]
     },
     "execution_count": 56,
     "metadata": {},
     "output_type": "execute_result"
    }
   ],
   "source": [
    "pre_trans.select(\"user_id\").distinct().count()"
   ]
  },
  {
   "cell_type": "code",
   "execution_count": null,
   "metadata": {},
   "outputs": [],
   "source": []
  }
 ],
 "metadata": {
  "kernelspec": {
   "display_name": "Python 3.9.13 ('virtual-p2')",
   "language": "python",
   "name": "python3"
  },
  "language_info": {
   "codemirror_mode": {
    "name": "ipython",
    "version": 3
   },
   "file_extension": ".py",
   "mimetype": "text/x-python",
   "name": "python",
   "nbconvert_exporter": "python",
   "pygments_lexer": "ipython3",
   "version": "3.9.13"
  },
  "orig_nbformat": 4,
  "vscode": {
   "interpreter": {
    "hash": "fcf6849838b3a8621666e21fdc4cc1583090fffb5f1906a909fbc1c95ae1bb65"
   }
  }
 },
 "nbformat": 4,
 "nbformat_minor": 2
}
