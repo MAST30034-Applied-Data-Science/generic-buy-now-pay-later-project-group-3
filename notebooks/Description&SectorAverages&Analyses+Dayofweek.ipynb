{
 "cells": [
  {
   "cell_type": "markdown",
   "id": "d2a9e3ca",
   "metadata": {},
   "source": [
    "## Descriptives"
   ]
  },
  {
   "cell_type": "code",
   "execution_count": 1,
   "id": "8837a4c0",
   "metadata": {},
   "outputs": [
    {
     "name": "stdout",
     "output_type": "stream",
     "text": [
      "22/10/03 23:17:25 WARN Utils: Your hostname, Chaitanyas-MacBook-Air.local resolves to a loopback address: 127.0.0.1; using 10.12.175.233 instead (on interface en0)\n",
      "22/10/03 23:17:25 WARN Utils: Set SPARK_LOCAL_IP if you need to bind to another address\n"
     ]
    },
    {
     "name": "stderr",
     "output_type": "stream",
     "text": [
      "Setting default log level to \"WARN\".\n",
      "To adjust logging level use sc.setLogLevel(newLevel). For SparkR, use setLogLevel(newLevel).\n"
     ]
    },
    {
     "name": "stdout",
     "output_type": "stream",
     "text": [
      "22/10/03 23:17:25 WARN NativeCodeLoader: Unable to load native-hadoop library for your platform... using builtin-java classes where applicable\n"
     ]
    }
   ],
   "source": [
    "# Open Spark session \n",
    "from pyspark.sql import SparkSession, functions as F\n",
    "\n",
    "\n",
    "# Create a spark session (which will run spark jobs)\n",
    "spark = (\n",
    "    SparkSession.builder.appName(\"Data_Explorer\")\n",
    "    .config(\"spark.sql.repl.eagerEval.enabled\", True) \n",
    "    .config(\"spark.sql.parquet.cacheMetadata\", \"true\")\n",
    "    .config(\"spark.sql.session.timeZone\", \"Etc/UTC\")\n",
    "    .config(\"spark.driver.memory\", \"4g\")\n",
    "    .getOrCreate()\n",
    ")"
   ]
  },
  {
   "cell_type": "code",
   "execution_count": 2,
   "id": "fa7bcb73",
   "metadata": {},
   "outputs": [
    {
     "name": "stderr",
     "output_type": "stream",
     "text": [
      "                                                                                \r"
     ]
    }
   ],
   "source": [
    "# Read the files \n",
    "transactions_sample = spark.read.parquet('../data/tables/transactions_20210228_20210827_snapshot')\n",
    "consumer_details = spark.read.parquet('../data/tables/consumer_user_details.parquet')\n",
    "merchants_tbl = spark.read.parquet('../data/tables/tbl_merchants.parquet')\n",
    "customer_tbl = spark.read.option(\"delimiter\", \"|\").option(\"header\",True).csv('../data/tables/tbl_consumer.csv')"
   ]
  },
  {
   "cell_type": "code",
   "execution_count": 3,
   "id": "ac1ff275",
   "metadata": {},
   "outputs": [],
   "source": [
    "merchants = merchants_tbl.toPandas()"
   ]
  },
  {
   "cell_type": "code",
   "execution_count": 4,
   "id": "0cec12df",
   "metadata": {},
   "outputs": [],
   "source": [
    "import nltk\n",
    "from nltk.corpus import stopwords\n",
    "from nltk.stem import WordNetLemmatizer\n",
    "#nltk.download('stopwords')\n",
    "#nltk.download('wordnet')\n",
    "#nltk.download('omw-1.4')\n",
    "import string\n",
    "import re\n",
    "\n",
    "# This is used to for NLP of the description\n",
    "def text_process(text):\n",
    "    stemmer = WordNetLemmatizer()\n",
    "    # Remove all punctuation and numbers \n",
    "    nopunc = [char for char in text if char not in string.punctuation]\n",
    "    nopunc = ''.join([i for i in nopunc if not i.isdigit()])\n",
    "    # Remove all stopwords\n",
    "    nopunc =  [word.lower() for word in nopunc.split() if word not in stopwords.words('english')]\n",
    "    # lemmatize and output\n",
    "    return ' '.join([stemmer.lemmatize(word) for word in nopunc])"
   ]
  },
  {
   "cell_type": "code",
   "execution_count": 5,
   "id": "66de8c0b",
   "metadata": {},
   "outputs": [
    {
     "name": "stderr",
     "output_type": "stream",
     "text": [
      "[nltk_data] Downloading package stopwords to\n",
      "[nltk_data]     /Users/chaitanyaraghuvanshi/nltk_data...\n",
      "[nltk_data]   Package stopwords is already up-to-date!\n",
      "[nltk_data] Downloading package wordnet to\n",
      "[nltk_data]     /Users/chaitanyaraghuvanshi/nltk_data...\n",
      "[nltk_data]   Package wordnet is already up-to-date!\n"
     ]
    }
   ],
   "source": [
    "# this function standardises the tags attribute, creating a list with the 'description', 'revenue band' and 'BNPL service charge'\n",
    "nltk.download('stopwords')\n",
    "nltk.download('wordnet')\n",
    "def tag_extract(tag_string): \n",
    "    # first need to preprocess\n",
    "    string =  re.sub('\\[','(', tag_string.lower())\n",
    "    string = re.sub('\\]',')', string)\n",
    "    # break the string into sections\n",
    "    string_cut = string.split('),')\n",
    "    new_string = []\n",
    "    # first extract the description and pre process\n",
    "    descr = str(string_cut[0].strip('(('))\n",
    "    #descr = re.sub(r'[-|,|_|:]', ' ', descr)\n",
    "    #descr = re.sub(r' +', ' ', descr)\n",
    "    #descr = descr.split()\n",
    "    #descr = ' '.join([word for word in descr if word not in stop_words])\n",
    "    new_string.append(text_process(descr))\n",
    "    # second extract the band\n",
    "    new_string.append(str(re.search(r'[a-z]',string_cut[1]).group()))\n",
    "    # finally the take rate\n",
    "    new_string.append(float(re.search(r'[0-9]+\\.[0-9]+',string_cut[2]).group()))\n",
    "    return(new_string)\n",
    "################\n",
    "# now we can run the algorithm\n",
    "tags = merchants['tags']\n",
    "processed_tags = []\n",
    "for i in tags:\n",
    "    processed_tags.append(tag_extract(i))"
   ]
  },
  {
   "cell_type": "code",
   "execution_count": 6,
   "id": "e4bf2e58",
   "metadata": {},
   "outputs": [],
   "source": [
    "import pandas as pd\n",
    "merchant_tbl = pd.DataFrame(processed_tags, columns=('Description', 'Earnings_Class', 'BNPL_Fee'))\n",
    "merchant_tbl = pd.concat([merchants, merchant_tbl], axis=1)\n",
    "# drop the tags column \n",
    "merchant_tbl.drop(columns='tags', inplace=True)"
   ]
  },
  {
   "cell_type": "code",
   "execution_count": 7,
   "id": "6af7c2d9",
   "metadata": {},
   "outputs": [
    {
     "data": {
      "text/plain": [
       "{'antique shop sale repair restoration service',\n",
       " 'art dealer gallery',\n",
       " 'artist supply craft shop',\n",
       " 'bicycle shop sale service',\n",
       " 'book periodical newspaper',\n",
       " 'cable satellite pay television radio service',\n",
       " 'computer computer peripheral equipment software',\n",
       " 'computer programming data processing integrated system design service',\n",
       " 'digital good book movie music',\n",
       " 'equipment tool furniture appliance rent al leasing',\n",
       " 'florist supply nursery stock flower',\n",
       " 'furniture home furnishing equipment shop manufacturer except appliance',\n",
       " 'gift card novelty souvenir shop',\n",
       " 'health beauty spa',\n",
       " 'hobby toy game shop',\n",
       " 'jewelry watch clock silverware shop',\n",
       " 'lawn garden supply outlet including nursery',\n",
       " 'motor vehicle supply new part',\n",
       " 'music shop musical instrument piano sheet music',\n",
       " 'optician optical good eyeglass',\n",
       " 'shoe shop',\n",
       " 'stationery office supply printing writing paper',\n",
       " 'telecom',\n",
       " 'tent awning shop',\n",
       " 'watch clock jewelry repair shop'}"
      ]
     },
     "execution_count": 7,
     "metadata": {},
     "output_type": "execute_result"
    }
   ],
   "source": [
    "set(merchant_tbl['Description'])"
   ]
  },
  {
   "cell_type": "code",
   "execution_count": 8,
   "id": "35fd6ad3",
   "metadata": {},
   "outputs": [
    {
     "data": {
      "text/html": [
       "<div>\n",
       "<style scoped>\n",
       "    .dataframe tbody tr th:only-of-type {\n",
       "        vertical-align: middle;\n",
       "    }\n",
       "\n",
       "    .dataframe tbody tr th {\n",
       "        vertical-align: top;\n",
       "    }\n",
       "\n",
       "    .dataframe thead th {\n",
       "        text-align: right;\n",
       "    }\n",
       "</style>\n",
       "<table border=\"1\" class=\"dataframe\">\n",
       "  <thead>\n",
       "    <tr style=\"text-align: right;\">\n",
       "      <th></th>\n",
       "      <th>name</th>\n",
       "      <th>merchant_abn</th>\n",
       "      <th>Description</th>\n",
       "      <th>Earnings_Class</th>\n",
       "      <th>BNPL_Fee</th>\n",
       "    </tr>\n",
       "  </thead>\n",
       "  <tbody>\n",
       "    <tr>\n",
       "      <th>0</th>\n",
       "      <td>Felis Limited</td>\n",
       "      <td>10023283211</td>\n",
       "      <td>furniture home furnishing equipment shop manuf...</td>\n",
       "      <td>e</td>\n",
       "      <td>0.18</td>\n",
       "    </tr>\n",
       "    <tr>\n",
       "      <th>1</th>\n",
       "      <td>Arcu Ac Orci Corporation</td>\n",
       "      <td>10142254217</td>\n",
       "      <td>cable satellite pay television radio service</td>\n",
       "      <td>b</td>\n",
       "      <td>4.22</td>\n",
       "    </tr>\n",
       "    <tr>\n",
       "      <th>2</th>\n",
       "      <td>Nunc Sed Company</td>\n",
       "      <td>10165489824</td>\n",
       "      <td>jewelry watch clock silverware shop</td>\n",
       "      <td>b</td>\n",
       "      <td>4.40</td>\n",
       "    </tr>\n",
       "    <tr>\n",
       "      <th>3</th>\n",
       "      <td>Ultricies Dignissim Lacus Foundation</td>\n",
       "      <td>10187291046</td>\n",
       "      <td>watch clock jewelry repair shop</td>\n",
       "      <td>b</td>\n",
       "      <td>3.29</td>\n",
       "    </tr>\n",
       "    <tr>\n",
       "      <th>4</th>\n",
       "      <td>Enim Condimentum PC</td>\n",
       "      <td>10192359162</td>\n",
       "      <td>music shop musical instrument piano sheet music</td>\n",
       "      <td>a</td>\n",
       "      <td>6.33</td>\n",
       "    </tr>\n",
       "  </tbody>\n",
       "</table>\n",
       "</div>"
      ],
      "text/plain": [
       "                                   name  merchant_abn  \\\n",
       "0                         Felis Limited   10023283211   \n",
       "1              Arcu Ac Orci Corporation   10142254217   \n",
       "2                      Nunc Sed Company   10165489824   \n",
       "3  Ultricies Dignissim Lacus Foundation   10187291046   \n",
       "4                   Enim Condimentum PC   10192359162   \n",
       "\n",
       "                                         Description Earnings_Class  BNPL_Fee  \n",
       "0  furniture home furnishing equipment shop manuf...              e      0.18  \n",
       "1       cable satellite pay television radio service              b      4.22  \n",
       "2                jewelry watch clock silverware shop              b      4.40  \n",
       "3                    watch clock jewelry repair shop              b      3.29  \n",
       "4    music shop musical instrument piano sheet music              a      6.33  "
      ]
     },
     "execution_count": 8,
     "metadata": {},
     "output_type": "execute_result"
    }
   ],
   "source": [
    "merchant_tbl.head(5)"
   ]
  },
  {
   "cell_type": "code",
   "execution_count": 9,
   "id": "e50c5d9a",
   "metadata": {},
   "outputs": [],
   "source": [
    "merchants_tbl = spark.createDataFrame(merchant_tbl)\n",
    "customer_tbl = customer_tbl.join(consumer_details, ['consumer_id'])\n",
    "\n",
    "full_dataset = transactions_sample.join(customer_tbl, ['user_id'])\n",
    "merchants_tbl = merchants_tbl.withColumnRenamed('name','company_name')\n",
    "full_dataset = full_dataset.join(merchants_tbl, ['merchant_abn'])"
   ]
  },
  {
   "cell_type": "code",
   "execution_count": 10,
   "id": "0180c9f6",
   "metadata": {},
   "outputs": [
    {
     "name": "stderr",
     "output_type": "stream",
     "text": [
      "                                                                                \r"
     ]
    },
    {
     "data": {
      "text/html": [
       "<table border='1'>\n",
       "<tr><th>merchant_abn</th><th>user_id</th><th>dollar_value</th><th>order_id</th><th>order_datetime</th><th>consumer_id</th><th>name</th><th>address</th><th>state</th><th>postcode</th><th>gender</th><th>company_name</th><th>Description</th><th>Earnings_Class</th><th>BNPL_Fee</th></tr>\n",
       "<tr><td>33064796871</td><td>7</td><td>373.0873675184212</td><td>fe188788-b89f-4dd...</td><td>2021-08-20</td><td>511685</td><td>Andrea Jones</td><td>122 Brandon Cliff</td><td>QLD</td><td>4606</td><td>Female</td><td>Curabitur Massa C...</td><td>computer programm...</td><td>b</td><td>3.75</td></tr>\n",
       "<tr><td>68435002949</td><td>7</td><td>232.5364986739752</td><td>b4a89891-a113-45e...</td><td>2021-08-20</td><td>511685</td><td>Andrea Jones</td><td>122 Brandon Cliff</td><td>QLD</td><td>4606</td><td>Female</td><td>Aliquam Eu Inc.</td><td>artist supply cra...</td><td>a</td><td>6.65</td></tr>\n",
       "<tr><td>41944909975</td><td>7</td><td>30.910755230234322</td><td>302ae628-8eba-4a5...</td><td>2021-08-20</td><td>511685</td><td>Andrea Jones</td><td>122 Brandon Cliff</td><td>QLD</td><td>4606</td><td>Female</td><td>Et Nunc Consulting</td><td>book periodical n...</td><td>e</td><td>0.16</td></tr>\n",
       "<tr><td>21439773999</td><td>7</td><td>91.18655746114226</td><td>4524fdc9-73f0-477...</td><td>2021-08-21</td><td>511685</td><td>Andrea Jones</td><td>122 Brandon Cliff</td><td>QLD</td><td>4606</td><td>Female</td><td>Mauris Non Institute</td><td>cable satellite p...</td><td>a</td><td>6.1</td></tr>\n",
       "<tr><td>86662713230</td><td>7</td><td>38.8137172956379</td><td>28f9e0f3-858d-445...</td><td>2021-08-19</td><td>511685</td><td>Andrea Jones</td><td>122 Brandon Cliff</td><td>QLD</td><td>4606</td><td>Female</td><td>Vestibulum Accums...</td><td>watch clock jewel...</td><td>a</td><td>6.41</td></tr>\n",
       "</table>\n"
      ],
      "text/plain": [
       "+------------+-------+------------------+--------------------+--------------+-----------+------------+-----------------+-----+--------+------+--------------------+--------------------+--------------+--------+\n",
       "|merchant_abn|user_id|      dollar_value|            order_id|order_datetime|consumer_id|        name|          address|state|postcode|gender|        company_name|         Description|Earnings_Class|BNPL_Fee|\n",
       "+------------+-------+------------------+--------------------+--------------+-----------+------------+-----------------+-----+--------+------+--------------------+--------------------+--------------+--------+\n",
       "| 33064796871|      7| 373.0873675184212|fe188788-b89f-4dd...|    2021-08-20|     511685|Andrea Jones|122 Brandon Cliff|  QLD|    4606|Female|Curabitur Massa C...|computer programm...|             b|    3.75|\n",
       "| 68435002949|      7| 232.5364986739752|b4a89891-a113-45e...|    2021-08-20|     511685|Andrea Jones|122 Brandon Cliff|  QLD|    4606|Female|     Aliquam Eu Inc.|artist supply cra...|             a|    6.65|\n",
       "| 41944909975|      7|30.910755230234322|302ae628-8eba-4a5...|    2021-08-20|     511685|Andrea Jones|122 Brandon Cliff|  QLD|    4606|Female|  Et Nunc Consulting|book periodical n...|             e|    0.16|\n",
       "| 21439773999|      7| 91.18655746114226|4524fdc9-73f0-477...|    2021-08-21|     511685|Andrea Jones|122 Brandon Cliff|  QLD|    4606|Female|Mauris Non Institute|cable satellite p...|             a|     6.1|\n",
       "| 86662713230|      7|  38.8137172956379|28f9e0f3-858d-445...|    2021-08-19|     511685|Andrea Jones|122 Brandon Cliff|  QLD|    4606|Female|Vestibulum Accums...|watch clock jewel...|             a|    6.41|\n",
       "+------------+-------+------------------+--------------------+--------------+-----------+------------+-----------------+-----+--------+------+--------------------+--------------------+--------------+--------+"
      ]
     },
     "execution_count": 10,
     "metadata": {},
     "output_type": "execute_result"
    }
   ],
   "source": [
    "full_dataset.limit(5)"
   ]
  },
  {
   "cell_type": "code",
   "execution_count": 11,
   "id": "ac2375c5",
   "metadata": {},
   "outputs": [
    {
     "data": {
      "text/html": [
       "<table border='1'>\n",
       "<tr><th>user_id</th><th>order_datetime</th><th>fraud_probability</th></tr>\n",
       "<tr><td>6228</td><td>2021-12-19</td><td>97.6298077657765</td></tr>\n",
       "<tr><td>21419</td><td>2021-12-10</td><td>99.24738020302328</td></tr>\n",
       "<tr><td>5606</td><td>2021-10-17</td><td>84.05825045251777</td></tr>\n",
       "<tr><td>3101</td><td>2021-04-17</td><td>91.42192091901347</td></tr>\n",
       "<tr><td>22239</td><td>2021-10-19</td><td>94.70342477508035</td></tr>\n",
       "</table>\n"
      ],
      "text/plain": [
       "+-------+--------------+-----------------+\n",
       "|user_id|order_datetime|fraud_probability|\n",
       "+-------+--------------+-----------------+\n",
       "|   6228|    2021-12-19| 97.6298077657765|\n",
       "|  21419|    2021-12-10|99.24738020302328|\n",
       "|   5606|    2021-10-17|84.05825045251777|\n",
       "|   3101|    2021-04-17|91.42192091901347|\n",
       "|  22239|    2021-10-19|94.70342477508035|\n",
       "+-------+--------------+-----------------+"
      ]
     },
     "execution_count": 11,
     "metadata": {},
     "output_type": "execute_result"
    }
   ],
   "source": [
    "fraud_tbl = spark.read.option(\"header\", True).csv(\"../data/tables/consumer_fraud_probability.csv\")\n",
    "fraud_tbl.limit(5)"
   ]
  },
  {
   "cell_type": "code",
   "execution_count": 12,
   "id": "11846b80",
   "metadata": {},
   "outputs": [],
   "source": [
    "full_dataset.createOrReplaceTempView('data')\n",
    "fraud_tbl.createOrReplaceTempView('fraud')\n",
    "dataset = spark.sql(\"\"\"\n",
    "select Description, avg(fraud_probability) as description_avg from data, fraud where (fraud.user_id == data.user_id) AND (fraud.order_datetime == data.order_datetime)\n",
    "group by Description\"\"\")"
   ]
  },
  {
   "cell_type": "code",
   "execution_count": 13,
   "id": "39220cbc",
   "metadata": {},
   "outputs": [
    {
     "name": "stderr",
     "output_type": "stream",
     "text": [
      "                                                                                \r"
     ]
    },
    {
     "data": {
      "text/html": [
       "<table border='1'>\n",
       "<tr><th>Description</th><th>description_avg</th></tr>\n",
       "<tr><td>lawn garden suppl...</td><td>13.634435258725222</td></tr>\n",
       "<tr><td>bicycle shop sale...</td><td>12.218922129625163</td></tr>\n",
       "<tr><td>antique shop sale...</td><td>21.534525172534373</td></tr>\n",
       "<tr><td>book periodical n...</td><td>13.672269357461051</td></tr>\n",
       "<tr><td>artist supply cra...</td><td>13.693647162978353</td></tr>\n",
       "</table>\n"
      ],
      "text/plain": [
       "+--------------------+------------------+\n",
       "|         Description|   description_avg|\n",
       "+--------------------+------------------+\n",
       "|lawn garden suppl...|13.634435258725222|\n",
       "|bicycle shop sale...|12.218922129625163|\n",
       "|antique shop sale...|21.534525172534373|\n",
       "|book periodical n...|13.672269357461051|\n",
       "|artist supply cra...|13.693647162978353|\n",
       "+--------------------+------------------+"
      ]
     },
     "execution_count": 13,
     "metadata": {},
     "output_type": "execute_result"
    }
   ],
   "source": [
    "dataset.limit(5)"
   ]
  },
  {
   "cell_type": "code",
   "execution_count": 14,
   "id": "a39b9116",
   "metadata": {},
   "outputs": [],
   "source": [
    "from pyspark.sql.functions import *\n",
    "full_dataset = full_dataset.withColumn('day_of_week', dayofweek('order_datetime'))"
   ]
  },
  {
   "cell_type": "code",
   "execution_count": 15,
   "id": "4bf212bf",
   "metadata": {},
   "outputs": [],
   "source": [
    "full_dataset.createOrReplaceTempView('data')\n",
    "dataset.createOrReplaceTempView('fraud')\n",
    "dataset = spark.sql(\"\"\"\n",
    "select * from data, fraud where fraud.Description == data.Description\"\"\")"
   ]
  },
  {
   "cell_type": "code",
   "execution_count": 16,
   "id": "5008c8eb",
   "metadata": {},
   "outputs": [
    {
     "name": "stderr",
     "output_type": "stream",
     "text": [
      "                                                                                \r"
     ]
    },
    {
     "data": {
      "text/html": [
       "<table border='1'>\n",
       "<tr><th>merchant_abn</th><th>user_id</th><th>dollar_value</th><th>order_id</th><th>order_datetime</th><th>consumer_id</th><th>name</th><th>address</th><th>state</th><th>postcode</th><th>gender</th><th>company_name</th><th>Description</th><th>Earnings_Class</th><th>BNPL_Fee</th><th>day_of_week</th><th>Description</th><th>description_avg</th></tr>\n",
       "<tr><td>82298341051</td><td>7</td><td>54.8519479237856</td><td>248066a0-5a60-4ee...</td><td>2021-04-30</td><td>511685</td><td>Andrea Jones</td><td>122 Brandon Cliff</td><td>QLD</td><td>4606</td><td>Female</td><td>Eros Institute</td><td>lawn garden suppl...</td><td>b</td><td>4.73</td><td>6</td><td>lawn garden suppl...</td><td>13.634435258725222</td></tr>\n",
       "<tr><td>70009327857</td><td>7</td><td>720.8860425094242</td><td>e4d0d7c4-9fcb-4e6...</td><td>2021-05-06</td><td>511685</td><td>Andrea Jones</td><td>122 Brandon Cliff</td><td>QLD</td><td>4606</td><td>Female</td><td>Torquent Per Inc.</td><td>lawn garden suppl...</td><td>c</td><td>2.45</td><td>5</td><td>lawn garden suppl...</td><td>13.634435258725222</td></tr>\n",
       "<tr><td>43127814599</td><td>7</td><td>1477.9174337803072</td><td>265eace6-10d3-42e...</td><td>2021-03-24</td><td>511685</td><td>Andrea Jones</td><td>122 Brandon Cliff</td><td>QLD</td><td>4606</td><td>Female</td><td>Nam Ligula Elit F...</td><td>lawn garden suppl...</td><td>b</td><td>3.58</td><td>4</td><td>lawn garden suppl...</td><td>13.634435258725222</td></tr>\n",
       "<tr><td>42355028515</td><td>19</td><td>302.3144253397087</td><td>a2965af7-cb14-426...</td><td>2021-08-18</td><td>1226530</td><td>Victoria Gonzalez</td><td>68657 Johnson Gle...</td><td>TAS</td><td>7276</td><td>Female</td><td>Eu Inc.</td><td>lawn garden suppl...</td><td>a</td><td>5.97</td><td>4</td><td>lawn garden suppl...</td><td>13.634435258725222</td></tr>\n",
       "<tr><td>43127814599</td><td>19</td><td>987.99321041603</td><td>b815e072-7d31-4d9...</td><td>2021-07-18</td><td>1226530</td><td>Victoria Gonzalez</td><td>68657 Johnson Gle...</td><td>TAS</td><td>7276</td><td>Female</td><td>Nam Ligula Elit F...</td><td>lawn garden suppl...</td><td>b</td><td>3.58</td><td>1</td><td>lawn garden suppl...</td><td>13.634435258725222</td></tr>\n",
       "</table>\n"
      ],
      "text/plain": [
       "+------------+-------+------------------+--------------------+--------------+-----------+-----------------+--------------------+-----+--------+------+--------------------+--------------------+--------------+--------+-----------+--------------------+------------------+\n",
       "|merchant_abn|user_id|      dollar_value|            order_id|order_datetime|consumer_id|             name|             address|state|postcode|gender|        company_name|         Description|Earnings_Class|BNPL_Fee|day_of_week|         Description|   description_avg|\n",
       "+------------+-------+------------------+--------------------+--------------+-----------+-----------------+--------------------+-----+--------+------+--------------------+--------------------+--------------+--------+-----------+--------------------+------------------+\n",
       "| 82298341051|      7|  54.8519479237856|248066a0-5a60-4ee...|    2021-04-30|     511685|     Andrea Jones|   122 Brandon Cliff|  QLD|    4606|Female|      Eros Institute|lawn garden suppl...|             b|    4.73|          6|lawn garden suppl...|13.634435258725222|\n",
       "| 70009327857|      7| 720.8860425094242|e4d0d7c4-9fcb-4e6...|    2021-05-06|     511685|     Andrea Jones|   122 Brandon Cliff|  QLD|    4606|Female|   Torquent Per Inc.|lawn garden suppl...|             c|    2.45|          5|lawn garden suppl...|13.634435258725222|\n",
       "| 43127814599|      7|1477.9174337803072|265eace6-10d3-42e...|    2021-03-24|     511685|     Andrea Jones|   122 Brandon Cliff|  QLD|    4606|Female|Nam Ligula Elit F...|lawn garden suppl...|             b|    3.58|          4|lawn garden suppl...|13.634435258725222|\n",
       "| 42355028515|     19| 302.3144253397087|a2965af7-cb14-426...|    2021-08-18|    1226530|Victoria Gonzalez|68657 Johnson Gle...|  TAS|    7276|Female|             Eu Inc.|lawn garden suppl...|             a|    5.97|          4|lawn garden suppl...|13.634435258725222|\n",
       "| 43127814599|     19|   987.99321041603|b815e072-7d31-4d9...|    2021-07-18|    1226530|Victoria Gonzalez|68657 Johnson Gle...|  TAS|    7276|Female|Nam Ligula Elit F...|lawn garden suppl...|             b|    3.58|          1|lawn garden suppl...|13.634435258725222|\n",
       "+------------+-------+------------------+--------------------+--------------+-----------+-----------------+--------------------+-----+--------+------+--------------------+--------------------+--------------+--------+-----------+--------------------+------------------+"
      ]
     },
     "execution_count": 16,
     "metadata": {},
     "output_type": "execute_result"
    }
   ],
   "source": [
    "dataset.limit(5)"
   ]
  },
  {
   "cell_type": "code",
   "execution_count": null,
   "id": "bdc4df15",
   "metadata": {},
   "outputs": [],
   "source": []
  }
 ],
 "metadata": {
  "kernelspec": {
   "display_name": "Python 3 (ipykernel)",
   "language": "python",
   "name": "python3"
  },
  "language_info": {
   "codemirror_mode": {
    "name": "ipython",
    "version": 3
   },
   "file_extension": ".py",
   "mimetype": "text/x-python",
   "name": "python",
   "nbconvert_exporter": "python",
   "pygments_lexer": "ipython3",
   "version": "3.9.7"
  }
 },
 "nbformat": 4,
 "nbformat_minor": 5
}
