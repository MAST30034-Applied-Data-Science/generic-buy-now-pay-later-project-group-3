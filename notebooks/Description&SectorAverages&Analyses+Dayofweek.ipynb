{
 "cells": [
  {
   "cell_type": "markdown",
   "id": "d2a9e3ca",
   "metadata": {},
   "source": [
    "## Descriptives"
   ]
  },
  {
   "cell_type": "code",
   "execution_count": 82,
   "id": "8837a4c0",
   "metadata": {},
   "outputs": [],
   "source": [
    "# Open Spark session \n",
    "from pyspark.sql import SparkSession, functions as F\n",
    "\n",
    "\n",
    "# Create a spark session (which will run spark jobs)\n",
    "spark = (\n",
    "    SparkSession.builder.appName(\"Data_Explorer\")\n",
    "    .config(\"spark.sql.repl.eagerEval.enabled\", True) \n",
    "    .config(\"spark.sql.parquet.cacheMetadata\", \"true\")\n",
    "    .config(\"spark.sql.session.timeZone\", \"Etc/UTC\")\n",
    "    .config(\"spark.driver.memory\", \"4g\")\n",
    "    .getOrCreate()\n",
    ")"
   ]
  },
  {
   "cell_type": "code",
   "execution_count": 83,
   "id": "fa7bcb73",
   "metadata": {},
   "outputs": [
    {
     "name": "stderr",
     "output_type": "stream",
     "text": [
      "                                                                                \r"
     ]
    }
   ],
   "source": [
    "# Read the files \n",
    "transactions_sample = spark.read.parquet('../data/tables/transactions_20210828_20220227_snapshot')\n",
    "transactions_sample2 = spark.read.parquet('../data/tables/transactions_20210228_20210827_snapshot')\n",
    "transactions_sample3 = spark.read.parquet('../data/tables/transactions_20220228_20220828_snapshot')\n",
    "transactions_sample.unionByName(transactions_sample2, True)\n",
    "transactions_sample.unionByName(transactions_sample3, True)\n",
    "consumer_details = spark.read.parquet('../data/tables/consumer_user_details.parquet')\n",
    "merchants_tbl = spark.read.parquet('../data/tables/tbl_merchants.parquet')\n",
    "customer_tbl = spark.read.option(\"delimiter\", \"|\").option(\"header\",True).csv('../data/tables/tbl_consumer.csv')"
   ]
  },
  {
   "cell_type": "code",
   "execution_count": 84,
   "id": "ac1ff275",
   "metadata": {},
   "outputs": [],
   "source": [
    "merchants = merchants_tbl.toPandas()"
   ]
  },
  {
   "cell_type": "code",
   "execution_count": 85,
   "id": "0cec12df",
   "metadata": {},
   "outputs": [],
   "source": [
    "import nltk\n",
    "from nltk.corpus import stopwords\n",
    "from nltk.stem import WordNetLemmatizer\n",
    "#nltk.download('stopwords')\n",
    "#nltk.download('wordnet')\n",
    "#nltk.download('omw-1.4')\n",
    "import string\n",
    "import re\n",
    "\n",
    "# This is used to for NLP of the description\n",
    "def text_process(text):\n",
    "    stemmer = WordNetLemmatizer()\n",
    "    # Remove all punctuation and numbers \n",
    "    nopunc = [char for char in text if char not in string.punctuation]\n",
    "    nopunc = ''.join([i for i in nopunc if not i.isdigit()])\n",
    "    # Remove all stopwords\n",
    "    nopunc =  [word.lower() for word in nopunc.split() if word not in stopwords.words('english')]\n",
    "    # lemmatize and output\n",
    "    return ' '.join([stemmer.lemmatize(word) for word in nopunc])"
   ]
  },
  {
   "cell_type": "code",
   "execution_count": 86,
   "id": "66de8c0b",
   "metadata": {},
   "outputs": [
    {
     "name": "stderr",
     "output_type": "stream",
     "text": [
      "[nltk_data] Downloading package stopwords to\n",
      "[nltk_data]     /Users/chaitanyaraghuvanshi/nltk_data...\n",
      "[nltk_data]   Package stopwords is already up-to-date!\n",
      "[nltk_data] Downloading package wordnet to\n",
      "[nltk_data]     /Users/chaitanyaraghuvanshi/nltk_data...\n",
      "[nltk_data]   Package wordnet is already up-to-date!\n"
     ]
    }
   ],
   "source": [
    "# this function standardises the tags attribute, creating a list with the 'description', 'revenue band' and 'BNPL service charge'\n",
    "nltk.download('stopwords')\n",
    "nltk.download('wordnet')\n",
    "def tag_extract(tag_string): \n",
    "    # first need to preprocess\n",
    "    string =  re.sub('\\[','(', tag_string.lower())\n",
    "    string = re.sub('\\]',')', string)\n",
    "    # break the string into sections\n",
    "    string_cut = string.split('),')\n",
    "    new_string = []\n",
    "    # first extract the description and pre process\n",
    "    descr = str(string_cut[0].strip('(('))\n",
    "    #descr = re.sub(r'[-|,|_|:]', ' ', descr)\n",
    "    #descr = re.sub(r' +', ' ', descr)\n",
    "    #descr = descr.split()\n",
    "    #descr = ' '.join([word for word in descr if word not in stop_words])\n",
    "    new_string.append(text_process(descr))\n",
    "    # second extract the band\n",
    "    new_string.append(str(re.search(r'[a-z]',string_cut[1]).group()))\n",
    "    # finally the take rate\n",
    "    new_string.append(float(re.search(r'[0-9]+\\.[0-9]+',string_cut[2]).group()))\n",
    "    return(new_string)\n",
    "################\n",
    "# now we can run the algorithm\n",
    "tags = merchants['tags']\n",
    "processed_tags = []\n",
    "for i in tags:\n",
    "    processed_tags.append(tag_extract(i))"
   ]
  },
  {
   "cell_type": "code",
   "execution_count": 87,
   "id": "e4bf2e58",
   "metadata": {},
   "outputs": [],
   "source": [
    "import pandas as pd\n",
    "merchant_tbl = pd.DataFrame(processed_tags, columns=('Description', 'Earnings_Class', 'BNPL_Fee'))\n",
    "merchant_tbl = pd.concat([merchants, merchant_tbl], axis=1)\n",
    "# drop the tags column \n",
    "merchant_tbl.drop(columns='tags', inplace=True)"
   ]
  },
  {
   "cell_type": "code",
   "execution_count": 88,
   "id": "6af7c2d9",
   "metadata": {},
   "outputs": [
    {
     "data": {
      "text/plain": [
       "{'antique shop sale repair restoration service',\n",
       " 'art dealer gallery',\n",
       " 'artist supply craft shop',\n",
       " 'bicycle shop sale service',\n",
       " 'book periodical newspaper',\n",
       " 'cable satellite pay television radio service',\n",
       " 'computer computer peripheral equipment software',\n",
       " 'computer programming data processing integrated system design service',\n",
       " 'digital good book movie music',\n",
       " 'equipment tool furniture appliance rent al leasing',\n",
       " 'florist supply nursery stock flower',\n",
       " 'furniture home furnishing equipment shop manufacturer except appliance',\n",
       " 'gift card novelty souvenir shop',\n",
       " 'health beauty spa',\n",
       " 'hobby toy game shop',\n",
       " 'jewelry watch clock silverware shop',\n",
       " 'lawn garden supply outlet including nursery',\n",
       " 'motor vehicle supply new part',\n",
       " 'music shop musical instrument piano sheet music',\n",
       " 'optician optical good eyeglass',\n",
       " 'shoe shop',\n",
       " 'stationery office supply printing writing paper',\n",
       " 'telecom',\n",
       " 'tent awning shop',\n",
       " 'watch clock jewelry repair shop'}"
      ]
     },
     "execution_count": 88,
     "metadata": {},
     "output_type": "execute_result"
    }
   ],
   "source": [
    "set(merchant_tbl['Description'])"
   ]
  },
  {
   "cell_type": "code",
   "execution_count": 89,
   "id": "35fd6ad3",
   "metadata": {},
   "outputs": [
    {
     "data": {
      "text/html": [
       "<div>\n",
       "<style scoped>\n",
       "    .dataframe tbody tr th:only-of-type {\n",
       "        vertical-align: middle;\n",
       "    }\n",
       "\n",
       "    .dataframe tbody tr th {\n",
       "        vertical-align: top;\n",
       "    }\n",
       "\n",
       "    .dataframe thead th {\n",
       "        text-align: right;\n",
       "    }\n",
       "</style>\n",
       "<table border=\"1\" class=\"dataframe\">\n",
       "  <thead>\n",
       "    <tr style=\"text-align: right;\">\n",
       "      <th></th>\n",
       "      <th>name</th>\n",
       "      <th>merchant_abn</th>\n",
       "      <th>Description</th>\n",
       "      <th>Earnings_Class</th>\n",
       "      <th>BNPL_Fee</th>\n",
       "    </tr>\n",
       "  </thead>\n",
       "  <tbody>\n",
       "    <tr>\n",
       "      <th>0</th>\n",
       "      <td>Felis Limited</td>\n",
       "      <td>10023283211</td>\n",
       "      <td>furniture home furnishing equipment shop manuf...</td>\n",
       "      <td>e</td>\n",
       "      <td>0.18</td>\n",
       "    </tr>\n",
       "    <tr>\n",
       "      <th>1</th>\n",
       "      <td>Arcu Ac Orci Corporation</td>\n",
       "      <td>10142254217</td>\n",
       "      <td>cable satellite pay television radio service</td>\n",
       "      <td>b</td>\n",
       "      <td>4.22</td>\n",
       "    </tr>\n",
       "    <tr>\n",
       "      <th>2</th>\n",
       "      <td>Nunc Sed Company</td>\n",
       "      <td>10165489824</td>\n",
       "      <td>jewelry watch clock silverware shop</td>\n",
       "      <td>b</td>\n",
       "      <td>4.40</td>\n",
       "    </tr>\n",
       "    <tr>\n",
       "      <th>3</th>\n",
       "      <td>Ultricies Dignissim Lacus Foundation</td>\n",
       "      <td>10187291046</td>\n",
       "      <td>watch clock jewelry repair shop</td>\n",
       "      <td>b</td>\n",
       "      <td>3.29</td>\n",
       "    </tr>\n",
       "    <tr>\n",
       "      <th>4</th>\n",
       "      <td>Enim Condimentum PC</td>\n",
       "      <td>10192359162</td>\n",
       "      <td>music shop musical instrument piano sheet music</td>\n",
       "      <td>a</td>\n",
       "      <td>6.33</td>\n",
       "    </tr>\n",
       "  </tbody>\n",
       "</table>\n",
       "</div>"
      ],
      "text/plain": [
       "                                   name  merchant_abn  \\\n",
       "0                         Felis Limited   10023283211   \n",
       "1              Arcu Ac Orci Corporation   10142254217   \n",
       "2                      Nunc Sed Company   10165489824   \n",
       "3  Ultricies Dignissim Lacus Foundation   10187291046   \n",
       "4                   Enim Condimentum PC   10192359162   \n",
       "\n",
       "                                         Description Earnings_Class  BNPL_Fee  \n",
       "0  furniture home furnishing equipment shop manuf...              e      0.18  \n",
       "1       cable satellite pay television radio service              b      4.22  \n",
       "2                jewelry watch clock silverware shop              b      4.40  \n",
       "3                    watch clock jewelry repair shop              b      3.29  \n",
       "4    music shop musical instrument piano sheet music              a      6.33  "
      ]
     },
     "execution_count": 89,
     "metadata": {},
     "output_type": "execute_result"
    }
   ],
   "source": [
    "merchant_tbl.head(5)"
   ]
  },
  {
   "cell_type": "code",
   "execution_count": 90,
   "id": "e50c5d9a",
   "metadata": {},
   "outputs": [],
   "source": [
    "merchants_tbl = spark.createDataFrame(merchant_tbl)\n",
    "customer_tbl = customer_tbl.join(consumer_details, ['consumer_id'])\n",
    "\n",
    "full_dataset = transactions_sample.join(customer_tbl, ['user_id'])\n",
    "merchants_tbl = merchants_tbl.withColumnRenamed('name','company_name')\n",
    "full_dataset = full_dataset.join(merchants_tbl, ['merchant_abn'])"
   ]
  },
  {
   "cell_type": "code",
   "execution_count": 91,
   "id": "0180c9f6",
   "metadata": {},
   "outputs": [
    {
     "name": "stderr",
     "output_type": "stream",
     "text": [
      "                                                                                \r"
     ]
    },
    {
     "data": {
      "text/html": [
       "<table border='1'>\n",
       "<tr><th>merchant_abn</th><th>user_id</th><th>dollar_value</th><th>order_id</th><th>order_datetime</th><th>consumer_id</th><th>name</th><th>address</th><th>state</th><th>postcode</th><th>gender</th><th>company_name</th><th>Description</th><th>Earnings_Class</th><th>BNPL_Fee</th></tr>\n",
       "<tr><td>71041015148</td><td>7</td><td>226.70111326425848</td><td>ba1c3c0b-6143-49c...</td><td>2021-11-26</td><td>511685</td><td>Andrea Jones</td><td>122 Brandon Cliff</td><td>QLD</td><td>4606</td><td>Female</td><td>Orci Ltd</td><td>digital good book...</td><td>c</td><td>2.19</td></tr>\n",
       "<tr><td>14492521225</td><td>7</td><td>28.69248621050033</td><td>c82c2951-6a2c-4bf...</td><td>2021-11-26</td><td>511685</td><td>Andrea Jones</td><td>122 Brandon Cliff</td><td>QLD</td><td>4606</td><td>Female</td><td>Praesent Eu Assoc...</td><td>tent awning shop</td><td>c</td><td>2.5</td></tr>\n",
       "<tr><td>68004106739</td><td>7</td><td>93.96901941736229</td><td>40d71489-2203-485...</td><td>2021-11-26</td><td>511685</td><td>Andrea Jones</td><td>122 Brandon Cliff</td><td>QLD</td><td>4606</td><td>Female</td><td>Nec Ante Ltd</td><td>cable satellite p...</td><td>a</td><td>5.61</td></tr>\n",
       "<tr><td>34096466752</td><td>7</td><td>92.43454448910457</td><td>293dc228-8398-49f...</td><td>2021-11-29</td><td>511685</td><td>Andrea Jones</td><td>122 Brandon Cliff</td><td>QLD</td><td>4606</td><td>Female</td><td>Nullam Enim Ltd</td><td>computer computer...</td><td>b</td><td>3.22</td></tr>\n",
       "<tr><td>62773208456</td><td>7</td><td>24.606053328805864</td><td>918d63ec-d125-43b...</td><td>2021-11-29</td><td>511685</td><td>Andrea Jones</td><td>122 Brandon Cliff</td><td>QLD</td><td>4606</td><td>Female</td><td>Ac Institute</td><td>watch clock jewel...</td><td>c</td><td>2.62</td></tr>\n",
       "</table>\n"
      ],
      "text/plain": [
       "+------------+-------+------------------+--------------------+--------------+-----------+------------+-----------------+-----+--------+------+--------------------+--------------------+--------------+--------+\n",
       "|merchant_abn|user_id|      dollar_value|            order_id|order_datetime|consumer_id|        name|          address|state|postcode|gender|        company_name|         Description|Earnings_Class|BNPL_Fee|\n",
       "+------------+-------+------------------+--------------------+--------------+-----------+------------+-----------------+-----+--------+------+--------------------+--------------------+--------------+--------+\n",
       "| 71041015148|      7|226.70111326425848|ba1c3c0b-6143-49c...|    2021-11-26|     511685|Andrea Jones|122 Brandon Cliff|  QLD|    4606|Female|            Orci Ltd|digital good book...|             c|    2.19|\n",
       "| 14492521225|      7| 28.69248621050033|c82c2951-6a2c-4bf...|    2021-11-26|     511685|Andrea Jones|122 Brandon Cliff|  QLD|    4606|Female|Praesent Eu Assoc...|    tent awning shop|             c|     2.5|\n",
       "| 68004106739|      7| 93.96901941736229|40d71489-2203-485...|    2021-11-26|     511685|Andrea Jones|122 Brandon Cliff|  QLD|    4606|Female|        Nec Ante Ltd|cable satellite p...|             a|    5.61|\n",
       "| 34096466752|      7| 92.43454448910457|293dc228-8398-49f...|    2021-11-29|     511685|Andrea Jones|122 Brandon Cliff|  QLD|    4606|Female|     Nullam Enim Ltd|computer computer...|             b|    3.22|\n",
       "| 62773208456|      7|24.606053328805864|918d63ec-d125-43b...|    2021-11-29|     511685|Andrea Jones|122 Brandon Cliff|  QLD|    4606|Female|        Ac Institute|watch clock jewel...|             c|    2.62|\n",
       "+------------+-------+------------------+--------------------+--------------+-----------+------------+-----------------+-----+--------+------+--------------------+--------------------+--------------+--------+"
      ]
     },
     "execution_count": 91,
     "metadata": {},
     "output_type": "execute_result"
    }
   ],
   "source": [
    "full_dataset.limit(5)"
   ]
  },
  {
   "cell_type": "code",
   "execution_count": 92,
   "id": "ac2375c5",
   "metadata": {},
   "outputs": [
    {
     "data": {
      "text/html": [
       "<table border='1'>\n",
       "<tr><th>user_id</th><th>order_datetime</th><th>fraud_probability</th></tr>\n",
       "<tr><td>6228</td><td>2021-12-19</td><td>97.6298077657765</td></tr>\n",
       "<tr><td>21419</td><td>2021-12-10</td><td>99.24738020302328</td></tr>\n",
       "<tr><td>5606</td><td>2021-10-17</td><td>84.05825045251777</td></tr>\n",
       "<tr><td>3101</td><td>2021-04-17</td><td>91.42192091901347</td></tr>\n",
       "<tr><td>22239</td><td>2021-10-19</td><td>94.70342477508035</td></tr>\n",
       "</table>\n"
      ],
      "text/plain": [
       "+-------+--------------+-----------------+\n",
       "|user_id|order_datetime|fraud_probability|\n",
       "+-------+--------------+-----------------+\n",
       "|   6228|    2021-12-19| 97.6298077657765|\n",
       "|  21419|    2021-12-10|99.24738020302328|\n",
       "|   5606|    2021-10-17|84.05825045251777|\n",
       "|   3101|    2021-04-17|91.42192091901347|\n",
       "|  22239|    2021-10-19|94.70342477508035|\n",
       "+-------+--------------+-----------------+"
      ]
     },
     "execution_count": 92,
     "metadata": {},
     "output_type": "execute_result"
    }
   ],
   "source": [
    "fraud_tbl = spark.read.option(\"header\", True).csv(\"../data/tables/consumer_fraud_probability.csv\")\n",
    "fraud_tbl.limit(5)"
   ]
  },
  {
   "cell_type": "code",
   "execution_count": 94,
   "id": "11846b80",
   "metadata": {},
   "outputs": [],
   "source": [
    "import matplotlib.pyplot as plt\n",
    "import numpy as np\n",
    "\n",
    "full_dataset.createOrReplaceTempView('data')\n",
    "fraud_tbl.createOrReplaceTempView('fraud')\n",
    "dataset = spark.sql(\"\"\"\n",
    "select Description, avg(fraud_probability) as description_avg from data, fraud where (fraud.user_id == data.user_id) AND (fraud.order_datetime == data.order_datetime)\n",
    "group by Description\"\"\")\n",
    "dataset = dataset.toPandas()"
   ]
  },
  {
   "cell_type": "code",
   "execution_count": 115,
   "id": "ae6aee26",
   "metadata": {},
   "outputs": [
    {
     "name": "stdout",
     "output_type": "stream",
     "text": [
      "['lawn' 'bicycle' 'antique' 'book' 'artist' 'gift' 'shoe' 'health' 'art'\n",
      " 'music' 'tent' 'motor' 'jewelry' 'stationery' 'telecom' 'optician'\n",
      " 'digital' 'furniture' 'computer' 'computer' 'cable' 'equipment' 'watch'\n",
      " 'hobby' 'florist']\n"
     ]
    },
    {
     "data": {
      "text/plain": [
       "([0,\n",
       "  1,\n",
       "  2,\n",
       "  3,\n",
       "  4,\n",
       "  5,\n",
       "  6,\n",
       "  7,\n",
       "  8,\n",
       "  9,\n",
       "  10,\n",
       "  11,\n",
       "  12,\n",
       "  13,\n",
       "  14,\n",
       "  15,\n",
       "  16,\n",
       "  17,\n",
       "  18,\n",
       "  19,\n",
       "  20,\n",
       "  21,\n",
       "  22,\n",
       "  23],\n",
       " [Text(0, 0, ''),\n",
       "  Text(0, 0, ''),\n",
       "  Text(0, 0, ''),\n",
       "  Text(0, 0, ''),\n",
       "  Text(0, 0, ''),\n",
       "  Text(0, 0, ''),\n",
       "  Text(0, 0, ''),\n",
       "  Text(0, 0, ''),\n",
       "  Text(0, 0, ''),\n",
       "  Text(0, 0, ''),\n",
       "  Text(0, 0, ''),\n",
       "  Text(0, 0, ''),\n",
       "  Text(0, 0, ''),\n",
       "  Text(0, 0, ''),\n",
       "  Text(0, 0, ''),\n",
       "  Text(0, 0, ''),\n",
       "  Text(0, 0, ''),\n",
       "  Text(0, 0, ''),\n",
       "  Text(0, 0, ''),\n",
       "  Text(0, 0, ''),\n",
       "  Text(0, 0, ''),\n",
       "  Text(0, 0, ''),\n",
       "  Text(0, 0, ''),\n",
       "  Text(0, 0, '')])"
      ]
     },
     "execution_count": 115,
     "metadata": {},
     "output_type": "execute_result"
    },
    {
     "data": {
      "image/png": "[encoded data removed]",
      "text/plain": [
       "<Figure size 432x288 with 1 Axes>"
      ]
     },
     "metadata": {
      "needs_background": "light"
     },
     "output_type": "display_data"
    }
   ],
   "source": [
    "import seaborn as sns\n",
    "\n",
    "tag_word=np.array([tag.split()[0] for tag in dataset.Description])\n",
    "df1 = pd.DataFrame(tag_word, dataset.description_avg)\n",
    "\n",
    "sns.lineplot(x=df1[0], y=df1.index)\n",
    "plt.xticks(rotation=90)"
   ]
  },
  {
   "cell_type": "markdown",
   "id": "01331503",
   "metadata": {},
   "source": [
    "As we can see from the graph above jewellery companies are having a comparatively higher fraud average probability followed by antique. Both of them are ones with high dollar value and fraud in such companies have been found in past literature (), therefore our analysis verifies the same."
   ]
  },
  {
   "cell_type": "code",
   "execution_count": null,
   "id": "a39b9116",
   "metadata": {},
   "outputs": [],
   "source": [
    "from pyspark.sql.functions import *\n",
    "full_dataset = full_dataset.withColumn('day_of_week', dayofweek('order_datetime'))"
   ]
  },
  {
   "cell_type": "code",
   "execution_count": null,
   "id": "4bf212bf",
   "metadata": {},
   "outputs": [],
   "source": [
    "full_dataset.createOrReplaceTempView('data')\n",
    "dataset.createOrReplaceTempView('fraud')\n",
    "dataset = spark.sql(\"\"\"\n",
    "select * from data, fraud where fraud.Description == data.Description\"\"\")"
   ]
  },
  {
   "cell_type": "code",
   "execution_count": null,
   "id": "5008c8eb",
   "metadata": {},
   "outputs": [],
   "source": [
    "dataset.limit(5)"
   ]
  },
  {
   "cell_type": "code",
   "execution_count": null,
   "id": "bdc4df15",
   "metadata": {},
   "outputs": [],
   "source": [
    "Administrative_Support_Services= [\"equipment tool furniture appliance rent al leasing\", \"florist supply nursery stock flower\", \"lawn garden supply outlet including nursery\"]\n",
    "Personal_Services= [\"shoe shop\", \"gift card novelty souvenir shop\", \"antique shop sale repair restoration service\", \"watch clock jewellery repair shop\", \"jewellery watch clock silverware shop\",  \"motor vehicle supply new part\", \"furniture home furnishing equipment shop manufa...\", \"tent awning shop\", \"optician optical good eyeglass\"]\n",
    "Arts_Recreation_Services = [\"digital good book movie music\", \"music shop musical instrument piano sheet music\", \"health beauty spa\", \"bicycle shop sale service\", \"art dealer gallery\", \"hobby toy game shop\", \"stationery office supply printing writing paper\"]\n",
    "Information_Media_Telecommunications = [\"telecom\", \"computer programming data processing integrated...\", \"book periodical newspaper\", \"artist supply craft shop\", \"computer computer peripheral equipment software\", \"cable satellite pay television radio service\"]\n",
    "desc = []\n",
    "tags = []\n",
    "for ele in Administrative_Support_Services:\n",
    "    desc.append(\"Administrative_Support_Services\")\n",
    "tags += Administrative_Support_Services\n",
    "for ele in Personal_Services:\n",
    "    desc.append(\"Personal_Services\")\n",
    "tags += Personal_Services\n",
    "for ele in Arts_Recreation_Services:\n",
    "    desc.append(\"Arts_Recreation_Services\")\n",
    "tags += Arts_Recreation_Services\n",
    "for ele in Information_Media_Telecommunications:\n",
    "    desc.append(\"Information_Media_Telecommunications\")\n",
    "tags += Information_Media_Telecommunications\n",
    "\n",
    "to_df = {\n",
    "    \"sector\" :  desc,\n",
    "    \"Description\" : tags\n",
    "}\n",
    "sectors = spark.createDataFrame(pd.DataFrame(to_df))\n",
    "dataset_sect = dataset.join(sectors, ['Description'])\n",
    "dataset_sect.createOrReplaceTempView('data')\n",
    "dataset_sect_final = dataset_sect.join(spark.sql(\"\"\"select sector, avg(description_avg) as sector_avg from data group by sector\"\"\"), ['sector'])\n",
    "dataset_sect_final.limit(5)"
   ]
  },
  {
   "cell_type": "code",
   "execution_count": null,
   "id": "8f31e33e",
   "metadata": {},
   "outputs": [],
   "source": [
    "sect_avg = spark.sql(\"\"\"select sector, avg(description_avg) as sector_avg from data group by sector\"\"\")"
   ]
  },
  {
   "cell_type": "code",
   "execution_count": 119,
   "id": "4f9ec287",
   "metadata": {},
   "outputs": [
    {
     "data": {
      "text/plain": [
       "([0, 1, 2, 3],\n",
       " [Text(0, 0, ''), Text(0, 0, ''), Text(0, 0, ''), Text(0, 0, '')])"
      ]
     },
     "execution_count": 119,
     "metadata": {},
     "output_type": "execute_result"
    },
    {
     "data": {
      "image/png": "[encoded data removed]",
      "text/plain": [
       "<Figure size 432x288 with 1 Axes>"
      ]
     },
     "metadata": {
      "needs_background": "light"
     },
     "output_type": "display_data"
    }
   ],
   "source": [
    "sect_avg = sect_avg.toPandas()\n",
    "import seaborn as sns\n",
    "sns.lineplot(x=sect_avg.sector, y=sect_avg.sector_avg)\n",
    "plt.xticks(rotation=90)"
   ]
  },
  {
   "cell_type": "markdown",
   "id": "d18e2936",
   "metadata": {},
   "source": [
    "Our analysis is futher supported by the graph above which shows personal services like antiques, watch and jewellery have higher chances of being fraud."
   ]
  },
  {
   "cell_type": "code",
   "execution_count": 120,
   "id": "66f01105",
   "metadata": {},
   "outputs": [
    {
     "name": "stderr",
     "output_type": "stream",
     "text": [
      "                                                                                \r"
     ]
    },
    {
     "data": {
      "text/html": [
       "<table border='1'>\n",
       "<tr><th>sector</th><th>Description</th><th>merchant_abn</th><th>user_id</th><th>dollar_value</th><th>order_id</th><th>order_datetime</th><th>consumer_id</th><th>name</th><th>address</th><th>state</th><th>postcode</th><th>gender</th><th>company_name</th><th>Earnings_Class</th><th>BNPL_Fee</th><th>day_of_week</th><th>Description</th><th>description_avg</th><th>sector_avg</th></tr>\n",
       "<tr><td>Arts_Recreation_S...</td><td>bicycle shop sale...</td><td>54272781746</td><td>7</td><td>344.1742940044132</td><td>f69babdc-cc77-44c...</td><td>2021-11-13</td><td>511685</td><td>Andrea Jones</td><td>122 Brandon Cliff</td><td>QLD</td><td>4606</td><td>Female</td><td>Non Massa Institute</td><td>b</td><td>4.54</td><td>7</td><td>bicycle shop sale...</td><td>12.047653726512607</td><td>14.004410176695506</td></tr>\n",
       "<tr><td>Arts_Recreation_S...</td><td>bicycle shop sale...</td><td>79633007926</td><td>7</td><td>87.94122487213117</td><td>d51c24e1-850e-467...</td><td>2021-11-10</td><td>511685</td><td>Andrea Jones</td><td>122 Brandon Cliff</td><td>QLD</td><td>4606</td><td>Female</td><td>Auctor Vitae Inc.</td><td>b</td><td>4.19</td><td>4</td><td>bicycle shop sale...</td><td>12.047653726512607</td><td>14.004410176695506</td></tr>\n",
       "<tr><td>Arts_Recreation_S...</td><td>bicycle shop sale...</td><td>84088835754</td><td>7</td><td>36.76843285730786</td><td>61351136-725d-49c...</td><td>2021-09-04</td><td>511685</td><td>Andrea Jones</td><td>122 Brandon Cliff</td><td>QLD</td><td>4606</td><td>Female</td><td>Congue Turpis In LLC</td><td>a</td><td>5.77</td><td>7</td><td>bicycle shop sale...</td><td>12.047653726512607</td><td>14.004410176695506</td></tr>\n",
       "<tr><td>Arts_Recreation_S...</td><td>bicycle shop sale...</td><td>62204398944</td><td>19</td><td>111.7359063753297</td><td>163beb6a-1d72-453...</td><td>2021-11-23</td><td>1226530</td><td>Victoria Gonzalez</td><td>68657 Johnson Gle...</td><td>TAS</td><td>7276</td><td>Female</td><td>Vel Institute</td><td>a</td><td>6.79</td><td>3</td><td>bicycle shop sale...</td><td>12.047653726512607</td><td>14.004410176695506</td></tr>\n",
       "<tr><td>Arts_Recreation_S...</td><td>bicycle shop sale...</td><td>52594457116</td><td>19</td><td>167.98905905096947</td><td>26520d60-8fd7-4f1...</td><td>2021-12-08</td><td>1226530</td><td>Victoria Gonzalez</td><td>68657 Johnson Gle...</td><td>TAS</td><td>7276</td><td>Female</td><td>Vel Turpis Aliqua...</td><td>a</td><td>5.51</td><td>4</td><td>bicycle shop sale...</td><td>12.047653726512607</td><td>14.004410176695506</td></tr>\n",
       "</table>\n"
      ],
      "text/plain": [
       "+--------------------+--------------------+------------+-------+------------------+--------------------+--------------+-----------+-----------------+--------------------+-----+--------+------+--------------------+--------------+--------+-----------+--------------------+------------------+------------------+\n",
       "|              sector|         Description|merchant_abn|user_id|      dollar_value|            order_id|order_datetime|consumer_id|             name|             address|state|postcode|gender|        company_name|Earnings_Class|BNPL_Fee|day_of_week|         Description|   description_avg|        sector_avg|\n",
       "+--------------------+--------------------+------------+-------+------------------+--------------------+--------------+-----------+-----------------+--------------------+-----+--------+------+--------------------+--------------+--------+-----------+--------------------+------------------+------------------+\n",
       "|Arts_Recreation_S...|bicycle shop sale...| 54272781746|      7| 344.1742940044132|f69babdc-cc77-44c...|    2021-11-13|     511685|     Andrea Jones|   122 Brandon Cliff|  QLD|    4606|Female| Non Massa Institute|             b|    4.54|          7|bicycle shop sale...|12.047653726512607|14.004410176695506|\n",
       "|Arts_Recreation_S...|bicycle shop sale...| 79633007926|      7| 87.94122487213117|d51c24e1-850e-467...|    2021-11-10|     511685|     Andrea Jones|   122 Brandon Cliff|  QLD|    4606|Female|   Auctor Vitae Inc.|             b|    4.19|          4|bicycle shop sale...|12.047653726512607|14.004410176695506|\n",
       "|Arts_Recreation_S...|bicycle shop sale...| 84088835754|      7| 36.76843285730786|61351136-725d-49c...|    2021-09-04|     511685|     Andrea Jones|   122 Brandon Cliff|  QLD|    4606|Female|Congue Turpis In LLC|             a|    5.77|          7|bicycle shop sale...|12.047653726512607|14.004410176695506|\n",
       "|Arts_Recreation_S...|bicycle shop sale...| 62204398944|     19| 111.7359063753297|163beb6a-1d72-453...|    2021-11-23|    1226530|Victoria Gonzalez|68657 Johnson Gle...|  TAS|    7276|Female|       Vel Institute|             a|    6.79|          3|bicycle shop sale...|12.047653726512607|14.004410176695506|\n",
       "|Arts_Recreation_S...|bicycle shop sale...| 52594457116|     19|167.98905905096947|26520d60-8fd7-4f1...|    2021-12-08|    1226530|Victoria Gonzalez|68657 Johnson Gle...|  TAS|    7276|Female|Vel Turpis Aliqua...|             a|    5.51|          4|bicycle shop sale...|12.047653726512607|14.004410176695506|\n",
       "+--------------------+--------------------+------------+-------+------------------+--------------------+--------------+-----------+-----------------+--------------------+-----+--------+------+--------------------+--------------+--------+-----------+--------------------+------------------+------------------+"
      ]
     },
     "execution_count": 120,
     "metadata": {},
     "output_type": "execute_result"
    }
   ],
   "source": [
    "dataset_sect_final.limit(5)"
   ]
  },
  {
   "cell_type": "code",
   "execution_count": 127,
   "id": "f57b832d",
   "metadata": {},
   "outputs": [
    {
     "name": "stderr",
     "output_type": "stream",
     "text": [
      "                                                                                \r"
     ]
    },
    {
     "name": "stdout",
     "output_type": "stream",
     "text": [
      "+--------------------+--------------------+\n",
      "|              sector|   sum(dollar_value)|\n",
      "+--------------------+--------------------+\n",
      "|Arts_Recreation_S...| 1.583765465871919E8|\n",
      "|Administrative_Su...| 8.229103223916568E7|\n",
      "|Information_Media...|1.5082491745003042E8|\n",
      "|   Personal_Services|1.8858939346796408E8|\n",
      "+--------------------+--------------------+\n",
      "\n"
     ]
    }
   ],
   "source": [
    "dataset_sect_final.groupBy(\"sector\").sum(\"dollar_value\")"
   ]
  },
  {
   "cell_type": "code",
   "execution_count": null,
   "id": "5437d300",
   "metadata": {},
   "outputs": [],
   "source": []
  }
 ],
 "metadata": {
  "kernelspec": {
   "display_name": "Python 3 (ipykernel)",
   "language": "python",
   "name": "python3"
  },
  "language_info": {
   "codemirror_mode": {
    "name": "ipython",
    "version": 3
   },
   "file_extension": ".py",
   "mimetype": "text/x-python",
   "name": "python",
   "nbconvert_exporter": "python",
   "pygments_lexer": "ipython3",
   "version": "3.9.7"
  },
  "vscode": {
   "interpreter": {
    "hash": "916dbcbb3f70747c44a77c7bcd40155683ae19c65e1c03b4aa3499c5328201f1"
   }
  }
 },
 "nbformat": 4,
 "nbformat_minor": 5
}
