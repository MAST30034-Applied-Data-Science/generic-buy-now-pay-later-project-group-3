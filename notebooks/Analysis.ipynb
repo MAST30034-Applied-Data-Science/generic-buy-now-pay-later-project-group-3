{
 "cells": [
  {
   "cell_type": "markdown",
   "metadata": {},
   "source": [
    "# Preliminary Analysis "
   ]
  },
  {
   "cell_type": "code",
   "execution_count": 33,
   "metadata": {},
   "outputs": [],
   "source": [
    "# In this notebook, we will load the data and perform preliminary analysis"
   ]
  },
  {
   "cell_type": "code",
   "execution_count": 34,
   "metadata": {},
   "outputs": [],
   "source": [
    "# Open Spark session \n",
    "from pyspark.sql import SparkSession, functions as F\n",
    "\n",
    "\n",
    "# Create a spark session (which will run spark jobs)\n",
    "spark = (\n",
    "    SparkSession.builder.appName(\"Data_Explorer\")\n",
    "    .config(\"spark.sql.repl.eagerEval.enabled\", True) \n",
    "    .config(\"spark.sql.parquet.cacheMetadata\", \"true\")\n",
    "    .config(\"spark.sql.session.timeZone\", \"Etc/UTC\")\n",
    "    .config(\"spark.driver.memory\", \"4g\")\n",
    "    .getOrCreate()\n",
    ")"
   ]
  },
  {
   "cell_type": "code",
   "execution_count": 41,
   "metadata": {},
   "outputs": [],
   "source": [
    "bb = spark.read.parquet('../data/tables/transactions_20210228_20210827_snapshot/order_datetime=2021-02-28/part-00001-cfff5211-ef46-4b99-a6ed-63c9b2c7fe15.c000.snappy.parquet')\n",
    "tt = spark.read.parquet('../data/tables/consumer_user_details.parquet')\n",
    "gg = spark.read.parquet('../data/tables/tbl_merchants.parquet')\n",
    "vv = spark.read.option(\"delimiter\", \"|\").option(\"header\",True).csv('../data/tables/tbl_consumer.csv')"
   ]
  },
  {
   "cell_type": "code",
   "execution_count": 42,
   "metadata": {},
   "outputs": [
    {
     "data": {
      "text/html": [
       "<table border='1'>\n",
       "<tr><th>user_id</th><th>merchant_abn</th><th>dollar_value</th><th>order_id</th><th>consumer_id</th></tr>\n",
       "<tr><td>1</td><td>83690644458</td><td>30.441348317517228</td><td>40a2ff69-ea34-465...</td><td>1195503</td></tr>\n",
       "<tr><td>1</td><td>28000487688</td><td>133.22689421562643</td><td>0c37b3f7-c7f1-48c...</td><td>1195503</td></tr>\n",
       "<tr><td>2</td><td>80779820715</td><td>48.12397733548124</td><td>cd09bdd6-f56d-489...</td><td>179208</td></tr>\n",
       "<tr><td>3</td><td>32361057556</td><td>87.34942171371054</td><td>633a7656-2fcc-4b8...</td><td>1194530</td></tr>\n",
       "<tr><td>3</td><td>29566626791</td><td>46.33087226118639</td><td>26b7574e-81c2-455...</td><td>1194530</td></tr>\n",
       "<tr><td>5</td><td>83177825742</td><td>66.66426160206629</td><td>43e3b3fe-791b-47f...</td><td>712975</td></tr>\n",
       "<tr><td>6</td><td>21772962346</td><td>113.04510652600983</td><td>000ca5ac-3247-4ef...</td><td>407340</td></tr>\n",
       "<tr><td>7</td><td>66079287213</td><td>89.93535555889761</td><td>50a5619d-0647-487...</td><td>511685</td></tr>\n",
       "<tr><td>11</td><td>20692490685</td><td>196.93916081228323</td><td>09bc8dd6-419f-4cb...</td><td>428325</td></tr>\n",
       "<tr><td>11</td><td>98269572896</td><td>129.46280909485031</td><td>8f5d0cab-8055-435...</td><td>428325</td></tr>\n",
       "<tr><td>12</td><td>57757792876</td><td>1078.086898773946</td><td>77d56af2-4daf-4b8...</td><td>1494640</td></tr>\n",
       "<tr><td>12</td><td>57900494384</td><td>14.713345156321836</td><td>109341ba-6c48-4c5...</td><td>1494640</td></tr>\n",
       "<tr><td>12</td><td>95508140753</td><td>79.1030216530725</td><td>17b4325f-65a5-45e...</td><td>1494640</td></tr>\n",
       "<tr><td>13</td><td>94472466107</td><td>1.7757335362318931</td><td>7fea124d-68bf-453...</td><td>1146717</td></tr>\n",
       "<tr><td>18</td><td>45433476494</td><td>126.25551484412128</td><td>e5eb61f2-f8f9-45e...</td><td>80965</td></tr>\n",
       "<tr><td>19</td><td>60956456424</td><td>64.58077563826323</td><td>6d18b988-5613-4aa...</td><td>1226530</td></tr>\n",
       "<tr><td>20</td><td>63465140133</td><td>29.196984289580993</td><td>9f194ad5-11b9-4b8...</td><td>1390367</td></tr>\n",
       "<tr><td>20</td><td>19933438190</td><td>8.814224425685115</td><td>94c7bd14-81dd-41c...</td><td>1390367</td></tr>\n",
       "<tr><td>22</td><td>89640578182</td><td>36.76735215403358</td><td>818e255e-93ae-494...</td><td>738803</td></tr>\n",
       "<tr><td>22</td><td>73972053940</td><td>32.18184233974726</td><td>c2752cae-221e-4d6...</td><td>738803</td></tr>\n",
       "</table>\n",
       "only showing top 20 rows\n"
      ],
      "text/plain": [
       "+-------+------------+------------------+--------------------+-----------+\n",
       "|user_id|merchant_abn|      dollar_value|            order_id|consumer_id|\n",
       "+-------+------------+------------------+--------------------+-----------+\n",
       "|      1| 83690644458|30.441348317517228|40a2ff69-ea34-465...|    1195503|\n",
       "|      1| 28000487688|133.22689421562643|0c37b3f7-c7f1-48c...|    1195503|\n",
       "|      2| 80779820715| 48.12397733548124|cd09bdd6-f56d-489...|     179208|\n",
       "|      3| 32361057556| 87.34942171371054|633a7656-2fcc-4b8...|    1194530|\n",
       "|      3| 29566626791| 46.33087226118639|26b7574e-81c2-455...|    1194530|\n",
       "|      5| 83177825742| 66.66426160206629|43e3b3fe-791b-47f...|     712975|\n",
       "|      6| 21772962346|113.04510652600983|000ca5ac-3247-4ef...|     407340|\n",
       "|      7| 66079287213| 89.93535555889761|50a5619d-0647-487...|     511685|\n",
       "|     11| 20692490685|196.93916081228323|09bc8dd6-419f-4cb...|     428325|\n",
       "|     11| 98269572896|129.46280909485031|8f5d0cab-8055-435...|     428325|\n",
       "|     12| 57757792876| 1078.086898773946|77d56af2-4daf-4b8...|    1494640|\n",
       "|     12| 57900494384|14.713345156321836|109341ba-6c48-4c5...|    1494640|\n",
       "|     12| 95508140753|  79.1030216530725|17b4325f-65a5-45e...|    1494640|\n",
       "|     13| 94472466107|1.7757335362318931|7fea124d-68bf-453...|    1146717|\n",
       "|     18| 45433476494|126.25551484412128|e5eb61f2-f8f9-45e...|      80965|\n",
       "|     19| 60956456424| 64.58077563826323|6d18b988-5613-4aa...|    1226530|\n",
       "|     20| 63465140133|29.196984289580993|9f194ad5-11b9-4b8...|    1390367|\n",
       "|     20| 19933438190| 8.814224425685115|94c7bd14-81dd-41c...|    1390367|\n",
       "|     22| 89640578182| 36.76735215403358|818e255e-93ae-494...|     738803|\n",
       "|     22| 73972053940| 32.18184233974726|c2752cae-221e-4d6...|     738803|\n",
       "+-------+------------+------------------+--------------------+-----------+\n",
       "only showing top 20 rows"
      ]
     },
     "execution_count": 42,
     "metadata": {},
     "output_type": "execute_result"
    }
   ],
   "source": [
    "bb = bb.join(tt, ['user_id'])\n",
    "vv = vv.join(tt, ['consumer_id'])\n",
    "bb"
   ]
  },
  {
   "cell_type": "code",
   "execution_count": 45,
   "metadata": {},
   "outputs": [
    {
     "data": {
      "text/html": [
       "<table border='1'>\n",
       "<tr><th>merchant_abn</th><th>user_id</th><th>dollar_value</th><th>order_id</th><th>consumer_id</th><th>consumer_id</th><th>name</th><th>address</th><th>state</th><th>postcode</th><th>gender</th><th>company_name</th><th>tags</th></tr>\n",
       "<tr><td>28000487688</td><td>1</td><td>133.22689421562643</td><td>0c37b3f7-c7f1-48c...</td><td>1195503</td><td>1195503</td><td>Yolanda Williams</td><td>413 Haney Gardens...</td><td>WA</td><td>6935</td><td>Female</td><td>Sed Nunc Industries</td><td>((books, periodic...</td></tr>\n",
       "<tr><td>83690644458</td><td>1</td><td>30.441348317517228</td><td>40a2ff69-ea34-465...</td><td>1195503</td><td>1195503</td><td>Yolanda Williams</td><td>413 Haney Gardens...</td><td>WA</td><td>6935</td><td>Female</td><td>Id Erat Etiam Con...</td><td>[(gift, card, nov...</td></tr>\n",
       "<tr><td>80779820715</td><td>2</td><td>48.12397733548124</td><td>cd09bdd6-f56d-489...</td><td>179208</td><td>179208</td><td>Mary Smith</td><td>3764 Amber Oval</td><td>NSW</td><td>2782</td><td>Female</td><td>Euismod Enim LLC</td><td>([watch, clock, a...</td></tr>\n",
       "<tr><td>32361057556</td><td>3</td><td>87.34942171371054</td><td>633a7656-2fcc-4b8...</td><td>1194530</td><td>1194530</td><td>Jill Jones MD</td><td>40693 Henry Greens</td><td>NT</td><td>862</td><td>Female</td><td>Orci In Consequat...</td><td>([gift, card, nov...</td></tr>\n",
       "<tr><td>83177825742</td><td>5</td><td>66.66426160206629</td><td>43e3b3fe-791b-47f...</td><td>712975</td><td>712975</td><td>Rebecca Blanchard</td><td>9271 Michael Mano...</td><td>WA</td><td>6355</td><td>Female</td><td>Sed Facilisis Corp.</td><td>([gift, card, nov...</td></tr>\n",
       "<tr><td>21772962346</td><td>6</td><td>113.04510652600983</td><td>000ca5ac-3247-4ef...</td><td>407340</td><td>407340</td><td>Karen Chapman</td><td>2706 Stewart Oval...</td><td>NSW</td><td>2033</td><td>Female</td><td>Purus Gravida Sag...</td><td>((florists suppli...</td></tr>\n",
       "<tr><td>66079287213</td><td>7</td><td>89.93535555889761</td><td>50a5619d-0647-487...</td><td>511685</td><td>511685</td><td>Andrea Jones</td><td>122 Brandon Cliff</td><td>QLD</td><td>4606</td><td>Female</td><td>Hendrerit Corpora...</td><td>((gift, card, nov...</td></tr>\n",
       "<tr><td>98269572896</td><td>11</td><td>129.46280909485031</td><td>8f5d0cab-8055-435...</td><td>428325</td><td>428325</td><td>Eugene Lucas</td><td>33983 Kevin Drive...</td><td>VIC</td><td>3063</td><td>Undisclosed</td><td>Eget Laoreet Posu...</td><td>[(furniture, home...</td></tr>\n",
       "<tr><td>20692490685</td><td>11</td><td>196.93916081228323</td><td>09bc8dd6-419f-4cb...</td><td>428325</td><td>428325</td><td>Eugene Lucas</td><td>33983 Kevin Drive...</td><td>VIC</td><td>3063</td><td>Undisclosed</td><td>Aliquet Molestie ...</td><td>[[stationery, off...</td></tr>\n",
       "<tr><td>95508140753</td><td>12</td><td>79.1030216530725</td><td>17b4325f-65a5-45e...</td><td>1494640</td><td>1494640</td><td>Melissa Jones</td><td>13706 Kimberly Port</td><td>WA</td><td>6743</td><td>Female</td><td>Ullamcorper Velit...</td><td>[(cable, sateLlit...</td></tr>\n",
       "<tr><td>57900494384</td><td>12</td><td>14.713345156321836</td><td>109341ba-6c48-4c5...</td><td>1494640</td><td>1494640</td><td>Melissa Jones</td><td>13706 Kimberly Port</td><td>WA</td><td>6743</td><td>Female</td><td>Porttitor Tellus ...</td><td>[[tent and awning...</td></tr>\n",
       "<tr><td>57757792876</td><td>12</td><td>1078.086898773946</td><td>77d56af2-4daf-4b8...</td><td>1494640</td><td>1494640</td><td>Melissa Jones</td><td>13706 Kimberly Port</td><td>WA</td><td>6743</td><td>Female</td><td>Pretium Et LLC</td><td>([stationery, off...</td></tr>\n",
       "<tr><td>94472466107</td><td>13</td><td>1.7757335362318931</td><td>7fea124d-68bf-453...</td><td>1146717</td><td>1146717</td><td>Angela Brown PhD</td><td>0236 Mills Land S...</td><td>QLD</td><td>4673</td><td>Female</td><td>Eu Dolor Egestas PC</td><td>((cable, satellit...</td></tr>\n",
       "<tr><td>45433476494</td><td>18</td><td>126.25551484412128</td><td>e5eb61f2-f8f9-45e...</td><td>80965</td><td>80965</td><td>Michael Burnett</td><td>89400 Torres Fort</td><td>NSW</td><td>1109</td><td>Male</td><td>Adipiscing Elit F...</td><td>[[computers, comp...</td></tr>\n",
       "<tr><td>60956456424</td><td>19</td><td>64.58077563826323</td><td>6d18b988-5613-4aa...</td><td>1226530</td><td>1226530</td><td>Victoria Gonzalez</td><td>68657 Johnson Gle...</td><td>TAS</td><td>7276</td><td>Female</td><td>Ultricies Digniss...</td><td>([gift, card, Nov...</td></tr>\n",
       "<tr><td>19933438190</td><td>20</td><td>8.814224425685115</td><td>94c7bd14-81dd-41c...</td><td>1390367</td><td>1390367</td><td>James Norris</td><td>790 Ramos Landing</td><td>VIC</td><td>3234</td><td>Undisclosed</td><td>Dui Nec Corporation</td><td>[[tent and awning...</td></tr>\n",
       "<tr><td>63465140133</td><td>20</td><td>29.196984289580993</td><td>9f194ad5-11b9-4b8...</td><td>1390367</td><td>1390367</td><td>James Norris</td><td>790 Ramos Landing</td><td>VIC</td><td>3234</td><td>Undisclosed</td><td>Vitae Odio Limited</td><td>[(digital goods: ...</td></tr>\n",
       "<tr><td>73972053940</td><td>22</td><td>32.18184233974726</td><td>c2752cae-221e-4d6...</td><td>738803</td><td>738803</td><td>Christopher White...</td><td>04814 Erin Port A...</td><td>VIC</td><td>3378</td><td>Male</td><td>Quis Tristique Ac...</td><td>([tent and awning...</td></tr>\n",
       "<tr><td>89640578182</td><td>22</td><td>36.76735215403358</td><td>818e255e-93ae-494...</td><td>738803</td><td>738803</td><td>Christopher White...</td><td>04814 Erin Port A...</td><td>VIC</td><td>3378</td><td>Male</td><td>Magnis Foundation</td><td>[[tent and awning...</td></tr>\n",
       "<tr><td>33607911449</td><td>24</td><td>3.8479214731638582</td><td>23aadab9-ae39-46b...</td><td>1382646</td><td>1382646</td><td>Jeffrey Moreno</td><td>339 Philip Pike</td><td>TAS</td><td>7173</td><td>Male</td><td>Nulla Semper LLC</td><td>[(florists suppli...</td></tr>\n",
       "</table>\n",
       "only showing top 20 rows\n"
      ],
      "text/plain": [
       "+------------+-------+------------------+--------------------+-----------+-----------+--------------------+--------------------+-----+--------+-----------+--------------------+--------------------+\n",
       "|merchant_abn|user_id|      dollar_value|            order_id|consumer_id|consumer_id|                name|             address|state|postcode|     gender|        company_name|                tags|\n",
       "+------------+-------+------------------+--------------------+-----------+-----------+--------------------+--------------------+-----+--------+-----------+--------------------+--------------------+\n",
       "| 28000487688|      1|133.22689421562643|0c37b3f7-c7f1-48c...|    1195503|    1195503|    Yolanda Williams|413 Haney Gardens...|   WA|    6935|     Female| Sed Nunc Industries|((books, periodic...|\n",
       "| 83690644458|      1|30.441348317517228|40a2ff69-ea34-465...|    1195503|    1195503|    Yolanda Williams|413 Haney Gardens...|   WA|    6935|     Female|Id Erat Etiam Con...|[(gift, card, nov...|\n",
       "| 80779820715|      2| 48.12397733548124|cd09bdd6-f56d-489...|     179208|     179208|          Mary Smith|     3764 Amber Oval|  NSW|    2782|     Female|    Euismod Enim LLC|([watch, clock, a...|\n",
       "| 32361057556|      3| 87.34942171371054|633a7656-2fcc-4b8...|    1194530|    1194530|       Jill Jones MD|  40693 Henry Greens|   NT|     862|     Female|Orci In Consequat...|([gift, card, nov...|\n",
       "| 83177825742|      5| 66.66426160206629|43e3b3fe-791b-47f...|     712975|     712975|   Rebecca Blanchard|9271 Michael Mano...|   WA|    6355|     Female| Sed Facilisis Corp.|([gift, card, nov...|\n",
       "| 21772962346|      6|113.04510652600983|000ca5ac-3247-4ef...|     407340|     407340|       Karen Chapman|2706 Stewart Oval...|  NSW|    2033|     Female|Purus Gravida Sag...|((florists suppli...|\n",
       "| 66079287213|      7| 89.93535555889761|50a5619d-0647-487...|     511685|     511685|        Andrea Jones|   122 Brandon Cliff|  QLD|    4606|     Female|Hendrerit Corpora...|((gift, card, nov...|\n",
       "| 98269572896|     11|129.46280909485031|8f5d0cab-8055-435...|     428325|     428325|        Eugene Lucas|33983 Kevin Drive...|  VIC|    3063|Undisclosed|Eget Laoreet Posu...|[(furniture, home...|\n",
       "| 20692490685|     11|196.93916081228323|09bc8dd6-419f-4cb...|     428325|     428325|        Eugene Lucas|33983 Kevin Drive...|  VIC|    3063|Undisclosed|Aliquet Molestie ...|[[stationery, off...|\n",
       "| 95508140753|     12|  79.1030216530725|17b4325f-65a5-45e...|    1494640|    1494640|       Melissa Jones| 13706 Kimberly Port|   WA|    6743|     Female|Ullamcorper Velit...|[(cable, sateLlit...|\n",
       "| 57900494384|     12|14.713345156321836|109341ba-6c48-4c5...|    1494640|    1494640|       Melissa Jones| 13706 Kimberly Port|   WA|    6743|     Female|Porttitor Tellus ...|[[tent and awning...|\n",
       "| 57757792876|     12| 1078.086898773946|77d56af2-4daf-4b8...|    1494640|    1494640|       Melissa Jones| 13706 Kimberly Port|   WA|    6743|     Female|      Pretium Et LLC|([stationery, off...|\n",
       "| 94472466107|     13|1.7757335362318931|7fea124d-68bf-453...|    1146717|    1146717|    Angela Brown PhD|0236 Mills Land S...|  QLD|    4673|     Female| Eu Dolor Egestas PC|((cable, satellit...|\n",
       "| 45433476494|     18|126.25551484412128|e5eb61f2-f8f9-45e...|      80965|      80965|     Michael Burnett|   89400 Torres Fort|  NSW|    1109|       Male|Adipiscing Elit F...|[[computers, comp...|\n",
       "| 60956456424|     19| 64.58077563826323|6d18b988-5613-4aa...|    1226530|    1226530|   Victoria Gonzalez|68657 Johnson Gle...|  TAS|    7276|     Female|Ultricies Digniss...|([gift, card, Nov...|\n",
       "| 19933438190|     20| 8.814224425685115|94c7bd14-81dd-41c...|    1390367|    1390367|        James Norris|   790 Ramos Landing|  VIC|    3234|Undisclosed| Dui Nec Corporation|[[tent and awning...|\n",
       "| 63465140133|     20|29.196984289580993|9f194ad5-11b9-4b8...|    1390367|    1390367|        James Norris|   790 Ramos Landing|  VIC|    3234|Undisclosed|  Vitae Odio Limited|[(digital goods: ...|\n",
       "| 73972053940|     22| 32.18184233974726|c2752cae-221e-4d6...|     738803|     738803|Christopher White...|04814 Erin Port A...|  VIC|    3378|       Male|Quis Tristique Ac...|([tent and awning...|\n",
       "| 89640578182|     22| 36.76735215403358|818e255e-93ae-494...|     738803|     738803|Christopher White...|04814 Erin Port A...|  VIC|    3378|       Male|   Magnis Foundation|[[tent and awning...|\n",
       "| 33607911449|     24|3.8479214731638582|23aadab9-ae39-46b...|    1382646|    1382646|      Jeffrey Moreno|     339 Philip Pike|  TAS|    7173|       Male|    Nulla Semper LLC|[(florists suppli...|\n",
       "+------------+-------+------------------+--------------------+-----------+-----------+--------------------+--------------------+-----+--------+-----------+--------------------+--------------------+\n",
       "only showing top 20 rows"
      ]
     },
     "execution_count": 45,
     "metadata": {},
     "output_type": "execute_result"
    }
   ],
   "source": [
    "data = bb.join(vv, ['user_id'])\n",
    "gg = gg.withColumnRenamed('name','company_name')\n",
    "data = data.join(gg, ['merchant_abn'])\n",
    "data"
   ]
  },
  {
   "cell_type": "code",
   "execution_count": 49,
   "metadata": {},
   "outputs": [],
   "source": [
    "data.createOrReplaceTempView('las')\n",
    "agg_data = spark.sql(\"\"\"\n",
    "select company_name, sum(dollar_value) from las\n",
    "group by company_name\"\"\")"
   ]
  },
  {
   "cell_type": "code",
   "execution_count": 52,
   "metadata": {},
   "outputs": [
    {
     "data": {
      "text/plain": [
       "company_name         1922\n",
       "sum(dollar_value)    1922\n",
       "dtype: int64"
      ]
     },
     "execution_count": 52,
     "metadata": {},
     "output_type": "execute_result"
    }
   ],
   "source": [
    "agg_data.count()"
   ]
  },
  {
   "cell_type": "code",
   "execution_count": 50,
   "metadata": {},
   "outputs": [],
   "source": [
    "# sketch\n",
    "agg_data = agg_data.toPandas()"
   ]
  },
  {
   "cell_type": "code",
   "execution_count": 54,
   "metadata": {},
   "outputs": [
    {
     "data": {
      "text/plain": [
       "<AxesSubplot:xlabel='sum(dollar_value)', ylabel='Count'>"
      ]
     },
     "execution_count": 54,
     "metadata": {},
     "output_type": "execute_result"
    },
    {
     "data": {
      "image/png": "[encoded data removed]",
      "text/plain": [
       "<Figure size 432x288 with 1 Axes>"
      ]
     },
     "metadata": {
      "needs_background": "light"
     },
     "output_type": "display_data"
    }
   ],
   "source": [
    "import seaborn as sns\n",
    "sns.histplot(x = 'sum(dollar_value)', data=agg_data)"
   ]
  },
  {
   "cell_type": "markdown",
   "metadata": {},
   "source": [
    "# Beaker line "
   ]
  },
  {
   "cell_type": "code",
   "execution_count": null,
   "metadata": {},
   "outputs": [],
   "source": []
  }
 ],
 "metadata": {
  "kernelspec": {
   "display_name": "Python 3.8.10 64-bit",
   "language": "python",
   "name": "python3"
  },
  "language_info": {
   "codemirror_mode": {
    "name": "ipython",
    "version": 3
   },
   "file_extension": ".py",
   "mimetype": "text/x-python",
   "name": "python",
   "nbconvert_exporter": "python",
   "pygments_lexer": "ipython3",
   "version": "3.8.10"
  },
  "orig_nbformat": 4,
  "vscode": {
   "interpreter": {
    "hash": "916dbcbb3f70747c44a77c7bcd40155683ae19c65e1c03b4aa3499c5328201f1"
   }
  }
 },
 "nbformat": 4,
 "nbformat_minor": 2
}
