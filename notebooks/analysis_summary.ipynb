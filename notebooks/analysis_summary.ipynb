{
 "cells": [
  {
   "cell_type": "markdown",
   "metadata": {},
   "source": [
    "# Summary\n",
    "This notebook summarises all the analyses and visualisations done to understand various relationships in the internal and external datasets."
   ]
  },
  {
   "cell_type": "markdown",
   "metadata": {},
   "source": [
    "### Imports and Pyspark session"
   ]
  },
  {
   "cell_type": "code",
   "execution_count": 4,
   "metadata": {},
   "outputs": [],
   "source": [
    "import pandas as pd\n",
    "import numpy as np\n",
    "import seaborn as sns\n",
    "import matplotlib.pyplot as plt\n",
    "\n",
    "import os, sys, ssl\n",
    "from functools import reduce\n",
    "import string, re\n",
    "\n",
    "from pyspark.sql import SparkSession, DataFrame\n",
    "from pyspark.sql.functions import countDistinct, col\n",
    "import pyspark.sql.functions as F\n",
    "\n",
    "import nltk\n",
    "from nltk.corpus import stopwords\n",
    "from nltk.stem import WordNetLemmatizer"
   ]
  },
  {
   "cell_type": "code",
   "execution_count": 2,
   "metadata": {},
   "outputs": [
    {
     "data": {
      "text/plain": [
       "['/home/ruitwang/generic-buy-now-pay-later-project-group-3/notebooks',\n",
       " '/usr/lib/python38.zip',\n",
       " '/usr/lib/python3.8',\n",
       " '/usr/lib/python3.8/lib-dynload',\n",
       " '',\n",
       " '/home/ruitwang/.local/lib/python3.8/site-packages',\n",
       " '/usr/local/lib/python3.8/dist-packages',\n",
       " '/usr/lib/python3/dist-packages',\n",
       " '/usr/local/lib/python3.8/dist-packages/IPython/extensions',\n",
       " '/home/ruitwang/.ipython']"
      ]
     },
     "execution_count": 2,
     "metadata": {},
     "output_type": "execute_result"
    }
   ],
   "source": [
    "sys.path"
   ]
  },
  {
   "cell_type": "code",
   "execution_count": 5,
   "metadata": {},
   "outputs": [],
   "source": [
    "sys.path.append(\"/home/ruitwang/generic-buy-now-pay-later-project-group-3/scripts/\")\n",
    "\n",
    "import utils"
   ]
  },
  {
   "cell_type": "code",
   "execution_count": 6,
   "metadata": {},
   "outputs": [
    {
     "name": "stdout",
     "output_type": "stream",
     "text": [
      "22/10/06 11:28:52 WARN Utils: Your hostname, Loky-PC resolves to a loopback address: 127.0.1.1; using 192.168.55.225 instead (on interface eth0)\n",
      "22/10/06 11:28:52 WARN Utils: Set SPARK_LOCAL_IP if you need to bind to another address\n"
     ]
    },
    {
     "name": "stderr",
     "output_type": "stream",
     "text": [
      "Setting default log level to \"WARN\".\n",
      "To adjust logging level use sc.setLogLevel(newLevel). For SparkR, use setLogLevel(newLevel).\n"
     ]
    },
    {
     "name": "stdout",
     "output_type": "stream",
     "text": [
      "22/10/06 11:28:56 WARN NativeCodeLoader: Unable to load native-hadoop library for your platform... using builtin-java classes where applicable\n",
      "22/10/06 11:29:01 WARN Utils: Service 'SparkUI' could not bind on port 4040. Attempting port 4041.\n",
      "22/10/06 11:29:01 WARN Utils: Service 'SparkUI' could not bind on port 4041. Attempting port 4042.\n"
     ]
    }
   ],
   "source": [
    "sp = SparkSession.builder.appName(\"Summary\").getOrCreate()"
   ]
  },
  {
   "cell_type": "markdown",
   "metadata": {},
   "source": [
    "### Read all relevant files"
   ]
  },
  {
   "cell_type": "code",
   "execution_count": 9,
   "metadata": {},
   "outputs": [
    {
     "name": "stderr",
     "output_type": "stream",
     "text": [
      "                                                                                \r"
     ]
    }
   ],
   "source": [
    "# from scripts.utils import read_tables\n",
    "\n",
    "transactions = utils.read_tables(sp, \"transactions\")\n",
    "customers = utils.read_tables(sp, \"tbl_consumer\")\n",
    "consumer_user_details = utils.read_tables(sp, \"consumer_user_details\")\n",
    "merchants = utils.read_tables(sp, \"tbl_merchants\")\n",
    "\n",
    "cFraud = utils.read_tables(sp, \"consumer_fraud_probability\", \"c\")\n",
    "mFraud = utils.read_tables(sp, \"merchant_fraud_probability\", \"c\")"
   ]
  },
  {
   "cell_type": "code",
   "execution_count": 10,
   "metadata": {},
   "outputs": [],
   "source": [
    "# We only need the 'user_id' for customer, 'consumer_id' not required\n",
    "customers = customers.join(consumer_user_details, ['consumer_id']).drop('consumer_id')"
   ]
  },
  {
   "cell_type": "markdown",
   "metadata": {},
   "source": [
    "### Checking Dollar values by date"
   ]
  },
  {
   "cell_type": "code",
   "execution_count": 11,
   "metadata": {},
   "outputs": [
    {
     "name": "stderr",
     "output_type": "stream",
     "text": [
      "                                                                                \r"
     ]
    }
   ],
   "source": [
    "amount_per_day = transactions.groupBy(\"order_datetime\").sum(\"dollar_value\").toPandas()"
   ]
  },
  {
   "cell_type": "code",
   "execution_count": 12,
   "metadata": {},
   "outputs": [],
   "source": [
    "amount_per_day.columns = [\"order dates\", \"transaction amount\"]\n",
    "amount_per_day[\"order dates\"] = pd.to_datetime(amount_per_day[\"order dates\"])\n",
    "amount_per_day.sort_values(by=\"order dates\", inplace=True)"
   ]
  },
  {
   "cell_type": "code",
   "execution_count": 13,
   "metadata": {},
   "outputs": [
    {
     "data": {
      "image/png": "[encoded data removed]",
      "text/plain": [
       "<Figure size 432x288 with 1 Axes>"
      ]
     },
     "metadata": {
      "needs_background": "light"
     },
     "output_type": "display_data"
    }
   ],
   "source": [
    "sns.lineplot(x=\"order dates\", y=\"transaction amount\", data=amount_per_day)\n",
    "plt.xticks(rotation=45)\n",
    "plt.show()"
   ]
  },
  {
   "cell_type": "markdown",
   "metadata": {},
   "source": [
    "There is a clear spike around December, which might indicate an association between the major public holidays and purchases."
   ]
  },
  {
   "cell_type": "code",
   "execution_count": 14,
   "metadata": {},
   "outputs": [
    {
     "data": {
      "text/plain": [
       "order dates           59\n",
       "transaction amount    59\n",
       "dtype: int64"
      ]
     },
     "execution_count": 14,
     "metadata": {},
     "output_type": "execute_result"
    }
   ],
   "source": [
    "# Checking date limits\n",
    "amount_per_day[amount_per_day[\"order dates\"] > \"2022-08-28\"].count()"
   ]
  },
  {
   "cell_type": "markdown",
   "metadata": {},
   "source": [
    "We find that there are 59 transactions beyond the given date range. But that is fine as it simply adds to more relevant data.\n",
    "\n",
    "Let's check the pattern observed in the above graph more closely"
   ]
  },
  {
   "cell_type": "code",
   "execution_count": 15,
   "metadata": {},
   "outputs": [
    {
     "data": {
      "image/png": "[encoded data removed]",
      "text/plain": [
       "<Figure size 432x288 with 1 Axes>"
      ]
     },
     "metadata": {
      "needs_background": "light"
     },
     "output_type": "display_data"
    }
   ],
   "source": [
    "pattern_check = amount_per_day[(amount_per_day[\"order dates\"] < \"11-1-2021\") | (amount_per_day[\"order dates\"] >\"1-1-2022\")]\n",
    "\n",
    "sns.lineplot(x=\"order dates\", y=\"transaction amount\", data=pattern_check)\n",
    "\n",
    "oct_2011_avg = amount_per_day[(amount_per_day[\"order dates\"] >= \"10-1-2021\") & (amount_per_day[\"order dates\"] < \"11-1-2021\")][\"transaction amount\"].mean()\n",
    "oct_2022_avg = amount_per_day[(amount_per_day[\"order dates\"] >= \"10-1-2022\") & (amount_per_day[\"order dates\"] < \"11-1-2022\")][\"transaction amount\"].mean()\n",
    "\n",
    "plt.axhline(oct_2022_avg, color='g', label=\"Oct 22' average\")\n",
    "plt.axhline(oct_2011_avg, color='r', label=\"Oct 21' average\")\n",
    "\n",
    "plt.axvline(pd.to_datetime(\"5-1-2022\"), color='y', linestyle=\"--\")\n",
    "\n",
    "plt.legend()\n",
    "plt.title(\"Transaction patterns over the years (except holiday Nov-Dec)\")\n",
    "\n",
    "plt.xticks(rotation=45)\n",
    "plt.show()"
   ]
  },
  {
   "cell_type": "markdown",
   "metadata": {},
   "source": [
    "As seen in the graph, over the years of 21 and 22, there have been significant growth and fast paced recovery (considering a COVID effect on real-world like application). It is also important to note that there is a significant pattern in terms of purchasing power of customers. More of a deep dive is required to understand why it is an incresing trend every year rather than an overall increasing/linear trend"
   ]
  },
  {
   "cell_type": "markdown",
   "metadata": {},
   "source": [
    "#### Special analysis of holiday season"
   ]
  },
  {
   "cell_type": "code",
   "execution_count": 16,
   "metadata": {},
   "outputs": [
    {
     "data": {
      "image/png": "[encoded data removed]",
      "text/plain": [
       "<Figure size 432x288 with 1 Axes>"
      ]
     },
     "metadata": {
      "needs_background": "light"
     },
     "output_type": "display_data"
    }
   ],
   "source": [
    "holiday_check = amount_per_day[(amount_per_day[\"order dates\"] >= \"11-1-2021\") & (amount_per_day[\"order dates\"] <= \"1-1-2022\")]\n",
    "\n",
    "sns.lineplot(x=\"order dates\", y=\"transaction amount\", data=holiday_check)\n",
    "\n",
    "plt.axvline(pd.to_datetime(\"12-25-2021\"), color='r', linestyle=\"--\", label=\"Christmas\", alpha=0.5)\n",
    "plt.axvline(pd.to_datetime(\"11-26-2021\"), color='black', linestyle=\"--\", label=\"Black Friday\", alpha=0.5)\n",
    "\n",
    "plt.title(\"Transaction pattern during holidays\")\n",
    "plt.legend()\n",
    "\n",
    "plt.xticks(rotation=45)\n",
    "plt.show()"
   ]
  },
  {
   "cell_type": "markdown",
   "metadata": {},
   "source": [
    "#### Analysis of average transaction values"
   ]
  },
  {
   "cell_type": "code",
   "execution_count": 17,
   "metadata": {},
   "outputs": [
    {
     "name": "stderr",
     "output_type": "stream",
     "text": [
      "ERROR:root:KeyboardInterrupt while sending command.                (3 + 8) / 26]\n",
      "Traceback (most recent call last):\n",
      "  File \"/home/ruitwang/.local/lib/python3.8/site-packages/py4j/java_gateway.py\", line 1038, in send_command\n",
      "    response = connection.send_command(command)\n",
      "  File \"/home/ruitwang/.local/lib/python3.8/site-packages/py4j/clientserver.py\", line 511, in send_command\n",
      "    answer = smart_decode(self.stream.readline()[:-1])\n",
      "  File \"/usr/lib/python3.8/socket.py\", line 669, in readinto\n",
      "    return self._sock.recv_into(b)\n",
      "KeyboardInterrupt\n",
      "[Stage 17:=========================>                              (12 + 8) / 26]\r"
     ]
    },
    {
     "ename": "KeyboardInterrupt",
     "evalue": "",
     "output_type": "error",
     "traceback": [
      "\u001b[0;31m---------------------------------------------------------------------------\u001b[0m",
      "\u001b[0;31mKeyboardInterrupt\u001b[0m                         Traceback (most recent call last)",
      "\u001b[0;32m/tmp/ipykernel_6675/3140309252.py\u001b[0m in \u001b[0;36m<module>\u001b[0;34m\u001b[0m\n\u001b[0;32m----> 1\u001b[0;31m \u001b[0mavg_per_day\u001b[0m \u001b[0;34m=\u001b[0m \u001b[0mtransactions\u001b[0m\u001b[0;34m.\u001b[0m\u001b[0mgroupBy\u001b[0m\u001b[0;34m(\u001b[0m\u001b[0;34m\"order_datetime\"\u001b[0m\u001b[0;34m)\u001b[0m\u001b[0;34m.\u001b[0m\u001b[0mavg\u001b[0m\u001b[0;34m(\u001b[0m\u001b[0;34m\"dollar_value\"\u001b[0m\u001b[0;34m)\u001b[0m\u001b[0;34m.\u001b[0m\u001b[0mtoPandas\u001b[0m\u001b[0;34m(\u001b[0m\u001b[0;34m)\u001b[0m\u001b[0;34m\u001b[0m\u001b[0;34m\u001b[0m\u001b[0m\n\u001b[0m\u001b[1;32m      2\u001b[0m \u001b[0mavg_per_day\u001b[0m\u001b[0;34m.\u001b[0m\u001b[0mcolumns\u001b[0m \u001b[0;34m=\u001b[0m \u001b[0;34m[\u001b[0m\u001b[0;34m\"Order dates\"\u001b[0m\u001b[0;34m,\u001b[0m \u001b[0;34m\"Average value\"\u001b[0m\u001b[0;34m]\u001b[0m\u001b[0;34m\u001b[0m\u001b[0;34m\u001b[0m\u001b[0m\n\u001b[1;32m      3\u001b[0m \u001b[0mavg_per_day\u001b[0m\u001b[0;34m[\u001b[0m\u001b[0;34m\"Order dates\"\u001b[0m\u001b[0;34m]\u001b[0m \u001b[0;34m=\u001b[0m \u001b[0mpd\u001b[0m\u001b[0;34m.\u001b[0m\u001b[0mto_datetime\u001b[0m\u001b[0;34m(\u001b[0m\u001b[0mavg_per_day\u001b[0m\u001b[0;34m[\u001b[0m\u001b[0;34m\"Order dates\"\u001b[0m\u001b[0;34m]\u001b[0m\u001b[0;34m)\u001b[0m\u001b[0;34m\u001b[0m\u001b[0;34m\u001b[0m\u001b[0m\n\u001b[1;32m      4\u001b[0m \u001b[0mavg_per_day\u001b[0m\u001b[0;34m.\u001b[0m\u001b[0msort_values\u001b[0m\u001b[0;34m(\u001b[0m\u001b[0mby\u001b[0m\u001b[0;34m=\u001b[0m\u001b[0;34m\"Order dates\"\u001b[0m\u001b[0;34m,\u001b[0m \u001b[0minplace\u001b[0m\u001b[0;34m=\u001b[0m\u001b[0;32mTrue\u001b[0m\u001b[0;34m)\u001b[0m\u001b[0;34m\u001b[0m\u001b[0;34m\u001b[0m\u001b[0m\n",
      "\u001b[0;32m~/.local/lib/python3.8/site-packages/pyspark/sql/pandas/conversion.py\u001b[0m in \u001b[0;36mtoPandas\u001b[0;34m(self)\u001b[0m\n\u001b[1;32m    203\u001b[0m \u001b[0;34m\u001b[0m\u001b[0m\n\u001b[1;32m    204\u001b[0m         \u001b[0;31m# Below is toPandas without Arrow optimization.\u001b[0m\u001b[0;34m\u001b[0m\u001b[0;34m\u001b[0m\u001b[0;34m\u001b[0m\u001b[0m\n\u001b[0;32m--> 205\u001b[0;31m         \u001b[0mpdf\u001b[0m \u001b[0;34m=\u001b[0m \u001b[0mpd\u001b[0m\u001b[0;34m.\u001b[0m\u001b[0mDataFrame\u001b[0m\u001b[0;34m.\u001b[0m\u001b[0mfrom_records\u001b[0m\u001b[0;34m(\u001b[0m\u001b[0mself\u001b[0m\u001b[0;34m.\u001b[0m\u001b[0mcollect\u001b[0m\u001b[0;34m(\u001b[0m\u001b[0;34m)\u001b[0m\u001b[0;34m,\u001b[0m \u001b[0mcolumns\u001b[0m\u001b[0;34m=\u001b[0m\u001b[0mself\u001b[0m\u001b[0;34m.\u001b[0m\u001b[0mcolumns\u001b[0m\u001b[0;34m)\u001b[0m\u001b[0;34m\u001b[0m\u001b[0;34m\u001b[0m\u001b[0m\n\u001b[0m\u001b[1;32m    206\u001b[0m         \u001b[0mcolumn_counter\u001b[0m \u001b[0;34m=\u001b[0m \u001b[0mCounter\u001b[0m\u001b[0;34m(\u001b[0m\u001b[0mself\u001b[0m\u001b[0;34m.\u001b[0m\u001b[0mcolumns\u001b[0m\u001b[0;34m)\u001b[0m\u001b[0;34m\u001b[0m\u001b[0;34m\u001b[0m\u001b[0m\n\u001b[1;32m    207\u001b[0m \u001b[0;34m\u001b[0m\u001b[0m\n",
      "\u001b[0;32m~/.local/lib/python3.8/site-packages/pyspark/sql/dataframe.py\u001b[0m in \u001b[0;36mcollect\u001b[0;34m(self)\u001b[0m\n\u001b[1;32m    815\u001b[0m         \"\"\"\n\u001b[1;32m    816\u001b[0m         \u001b[0;32mwith\u001b[0m \u001b[0mSCCallSiteSync\u001b[0m\u001b[0;34m(\u001b[0m\u001b[0mself\u001b[0m\u001b[0;34m.\u001b[0m\u001b[0m_sc\u001b[0m\u001b[0;34m)\u001b[0m\u001b[0;34m:\u001b[0m\u001b[0;34m\u001b[0m\u001b[0;34m\u001b[0m\u001b[0m\n\u001b[0;32m--> 817\u001b[0;31m             \u001b[0msock_info\u001b[0m \u001b[0;34m=\u001b[0m \u001b[0mself\u001b[0m\u001b[0;34m.\u001b[0m\u001b[0m_jdf\u001b[0m\u001b[0;34m.\u001b[0m\u001b[0mcollectToPython\u001b[0m\u001b[0;34m(\u001b[0m\u001b[0;34m)\u001b[0m\u001b[0;34m\u001b[0m\u001b[0;34m\u001b[0m\u001b[0m\n\u001b[0m\u001b[1;32m    818\u001b[0m         \u001b[0;32mreturn\u001b[0m \u001b[0mlist\u001b[0m\u001b[0;34m(\u001b[0m\u001b[0m_load_from_socket\u001b[0m\u001b[0;34m(\u001b[0m\u001b[0msock_info\u001b[0m\u001b[0;34m,\u001b[0m \u001b[0mBatchedSerializer\u001b[0m\u001b[0;34m(\u001b[0m\u001b[0mCPickleSerializer\u001b[0m\u001b[0;34m(\u001b[0m\u001b[0;34m)\u001b[0m\u001b[0;34m)\u001b[0m\u001b[0;34m)\u001b[0m\u001b[0;34m)\u001b[0m\u001b[0;34m\u001b[0m\u001b[0;34m\u001b[0m\u001b[0m\n\u001b[1;32m    819\u001b[0m \u001b[0;34m\u001b[0m\u001b[0m\n",
      "\u001b[0;32m~/.local/lib/python3.8/site-packages/py4j/java_gateway.py\u001b[0m in \u001b[0;36m__call__\u001b[0;34m(self, *args)\u001b[0m\n\u001b[1;32m   1318\u001b[0m             \u001b[0mproto\u001b[0m\u001b[0;34m.\u001b[0m\u001b[0mEND_COMMAND_PART\u001b[0m\u001b[0;34m\u001b[0m\u001b[0;34m\u001b[0m\u001b[0m\n\u001b[1;32m   1319\u001b[0m \u001b[0;34m\u001b[0m\u001b[0m\n\u001b[0;32m-> 1320\u001b[0;31m         \u001b[0manswer\u001b[0m \u001b[0;34m=\u001b[0m \u001b[0mself\u001b[0m\u001b[0;34m.\u001b[0m\u001b[0mgateway_client\u001b[0m\u001b[0;34m.\u001b[0m\u001b[0msend_command\u001b[0m\u001b[0;34m(\u001b[0m\u001b[0mcommand\u001b[0m\u001b[0;34m)\u001b[0m\u001b[0;34m\u001b[0m\u001b[0;34m\u001b[0m\u001b[0m\n\u001b[0m\u001b[1;32m   1321\u001b[0m         return_value = get_return_value(\n\u001b[1;32m   1322\u001b[0m             answer, self.gateway_client, self.target_id, self.name)\n",
      "\u001b[0;32m~/.local/lib/python3.8/site-packages/py4j/java_gateway.py\u001b[0m in \u001b[0;36msend_command\u001b[0;34m(self, command, retry, binary)\u001b[0m\n\u001b[1;32m   1036\u001b[0m         \u001b[0mconnection\u001b[0m \u001b[0;34m=\u001b[0m \u001b[0mself\u001b[0m\u001b[0;34m.\u001b[0m\u001b[0m_get_connection\u001b[0m\u001b[0;34m(\u001b[0m\u001b[0;34m)\u001b[0m\u001b[0;34m\u001b[0m\u001b[0;34m\u001b[0m\u001b[0m\n\u001b[1;32m   1037\u001b[0m         \u001b[0;32mtry\u001b[0m\u001b[0;34m:\u001b[0m\u001b[0;34m\u001b[0m\u001b[0;34m\u001b[0m\u001b[0m\n\u001b[0;32m-> 1038\u001b[0;31m             \u001b[0mresponse\u001b[0m \u001b[0;34m=\u001b[0m \u001b[0mconnection\u001b[0m\u001b[0;34m.\u001b[0m\u001b[0msend_command\u001b[0m\u001b[0;34m(\u001b[0m\u001b[0mcommand\u001b[0m\u001b[0;34m)\u001b[0m\u001b[0;34m\u001b[0m\u001b[0;34m\u001b[0m\u001b[0m\n\u001b[0m\u001b[1;32m   1039\u001b[0m             \u001b[0;32mif\u001b[0m \u001b[0mbinary\u001b[0m\u001b[0;34m:\u001b[0m\u001b[0;34m\u001b[0m\u001b[0;34m\u001b[0m\u001b[0m\n\u001b[1;32m   1040\u001b[0m                 \u001b[0;32mreturn\u001b[0m \u001b[0mresponse\u001b[0m\u001b[0;34m,\u001b[0m \u001b[0mself\u001b[0m\u001b[0;34m.\u001b[0m\u001b[0m_create_connection_guard\u001b[0m\u001b[0;34m(\u001b[0m\u001b[0mconnection\u001b[0m\u001b[0;34m)\u001b[0m\u001b[0;34m\u001b[0m\u001b[0;34m\u001b[0m\u001b[0m\n",
      "\u001b[0;32m~/.local/lib/python3.8/site-packages/py4j/clientserver.py\u001b[0m in \u001b[0;36msend_command\u001b[0;34m(self, command)\u001b[0m\n\u001b[1;32m    509\u001b[0m         \u001b[0;32mtry\u001b[0m\u001b[0;34m:\u001b[0m\u001b[0;34m\u001b[0m\u001b[0;34m\u001b[0m\u001b[0m\n\u001b[1;32m    510\u001b[0m             \u001b[0;32mwhile\u001b[0m \u001b[0;32mTrue\u001b[0m\u001b[0;34m:\u001b[0m\u001b[0;34m\u001b[0m\u001b[0;34m\u001b[0m\u001b[0m\n\u001b[0;32m--> 511\u001b[0;31m                 \u001b[0manswer\u001b[0m \u001b[0;34m=\u001b[0m \u001b[0msmart_decode\u001b[0m\u001b[0;34m(\u001b[0m\u001b[0mself\u001b[0m\u001b[0;34m.\u001b[0m\u001b[0mstream\u001b[0m\u001b[0;34m.\u001b[0m\u001b[0mreadline\u001b[0m\u001b[0;34m(\u001b[0m\u001b[0;34m)\u001b[0m\u001b[0;34m[\u001b[0m\u001b[0;34m:\u001b[0m\u001b[0;34m-\u001b[0m\u001b[0;36m1\u001b[0m\u001b[0;34m]\u001b[0m\u001b[0;34m)\u001b[0m\u001b[0;34m\u001b[0m\u001b[0;34m\u001b[0m\u001b[0m\n\u001b[0m\u001b[1;32m    512\u001b[0m                 \u001b[0mlogger\u001b[0m\u001b[0;34m.\u001b[0m\u001b[0mdebug\u001b[0m\u001b[0;34m(\u001b[0m\u001b[0;34m\"Answer received: {0}\"\u001b[0m\u001b[0;34m.\u001b[0m\u001b[0mformat\u001b[0m\u001b[0;34m(\u001b[0m\u001b[0manswer\u001b[0m\u001b[0;34m)\u001b[0m\u001b[0;34m)\u001b[0m\u001b[0;34m\u001b[0m\u001b[0;34m\u001b[0m\u001b[0m\n\u001b[1;32m    513\u001b[0m                 \u001b[0;31m# Happens when a the other end is dead. There might be an empty\u001b[0m\u001b[0;34m\u001b[0m\u001b[0;34m\u001b[0m\u001b[0;34m\u001b[0m\u001b[0m\n",
      "\u001b[0;32m/usr/lib/python3.8/socket.py\u001b[0m in \u001b[0;36mreadinto\u001b[0;34m(self, b)\u001b[0m\n\u001b[1;32m    667\u001b[0m         \u001b[0;32mwhile\u001b[0m \u001b[0;32mTrue\u001b[0m\u001b[0;34m:\u001b[0m\u001b[0;34m\u001b[0m\u001b[0;34m\u001b[0m\u001b[0m\n\u001b[1;32m    668\u001b[0m             \u001b[0;32mtry\u001b[0m\u001b[0;34m:\u001b[0m\u001b[0;34m\u001b[0m\u001b[0;34m\u001b[0m\u001b[0m\n\u001b[0;32m--> 669\u001b[0;31m                 \u001b[0;32mreturn\u001b[0m \u001b[0mself\u001b[0m\u001b[0;34m.\u001b[0m\u001b[0m_sock\u001b[0m\u001b[0;34m.\u001b[0m\u001b[0mrecv_into\u001b[0m\u001b[0;34m(\u001b[0m\u001b[0mb\u001b[0m\u001b[0;34m)\u001b[0m\u001b[0;34m\u001b[0m\u001b[0;34m\u001b[0m\u001b[0m\n\u001b[0m\u001b[1;32m    670\u001b[0m             \u001b[0;32mexcept\u001b[0m \u001b[0mtimeout\u001b[0m\u001b[0;34m:\u001b[0m\u001b[0;34m\u001b[0m\u001b[0;34m\u001b[0m\u001b[0m\n\u001b[1;32m    671\u001b[0m                 \u001b[0mself\u001b[0m\u001b[0;34m.\u001b[0m\u001b[0m_timeout_occurred\u001b[0m \u001b[0;34m=\u001b[0m \u001b[0;32mTrue\u001b[0m\u001b[0;34m\u001b[0m\u001b[0;34m\u001b[0m\u001b[0m\n",
      "\u001b[0;31mKeyboardInterrupt\u001b[0m: "
     ]
    }
   ],
   "source": [
    "avg_per_day = transactions.groupBy(\"order_datetime\").avg(\"dollar_value\").toPandas()\n",
    "avg_per_day.columns = [\"Order dates\", \"Average value\"]\n",
    "avg_per_day[\"Order dates\"] = pd.to_datetime(avg_per_day[\"Order dates\"])\n",
    "avg_per_day.sort_values(by=\"Order dates\", inplace=True)"
   ]
  },
  {
   "cell_type": "code",
   "execution_count": null,
   "metadata": {},
   "outputs": [
    {
     "data": {
      "image/png": "[encoded data removed]",
      "text/plain": [
       "<Figure size 432x288 with 1 Axes>"
      ]
     },
     "metadata": {
      "needs_background": "light"
     },
     "output_type": "display_data"
    }
   ],
   "source": [
    "sns.lineplot(x=\"Order dates\", y=\"Average value\", data=avg_per_day)\n",
    "\n",
    "plt.title(\"Average transaction value per day\")\n",
    "\n",
    "plt.xticks(rotation=45)\n",
    "plt.show()"
   ]
  },
  {
   "cell_type": "markdown",
   "metadata": {},
   "source": [
    "As seen above, this is a fairly linear graph showing that the people still purchased items worth the same amount as they would during non-holiday periods"
   ]
  },
  {
   "cell_type": "markdown",
   "metadata": {},
   "source": [
    "#### Group by day of week"
   ]
  },
  {
   "cell_type": "code",
   "execution_count": null,
   "metadata": {},
   "outputs": [],
   "source": [
    "day_of_week = amount_per_day.groupby(amount_per_day[\"order dates\"].dt.day_name()).mean()"
   ]
  },
  {
   "cell_type": "code",
   "execution_count": null,
   "metadata": {},
   "outputs": [
    {
     "data": {
      "text/plain": [
       "Index(['Friday', 'Monday', 'Saturday', 'Sunday', 'Thursday', 'Tuesday',\n",
       "       'Wednesday'],\n",
       "      dtype='object', name='order dates')"
      ]
     },
     "execution_count": 16,
     "metadata": {},
     "output_type": "execute_result"
    }
   ],
   "source": [
    "day_of_week.index"
   ]
  },
  {
   "cell_type": "code",
   "execution_count": null,
   "metadata": {},
   "outputs": [
    {
     "data": {
      "text/plain": [
       "<AxesSubplot:xlabel='order dates', ylabel='transaction amount'>"
      ]
     },
     "execution_count": 61,
     "metadata": {},
     "output_type": "execute_result"
    },
    {
     "data": {
      "image/png": "[encoded data removed]",
      "text/plain": [
       "<Figure size 432x288 with 1 Axes>"
      ]
     },
     "metadata": {},
     "output_type": "display_data"
    }
   ],
   "source": [
    "sorted_day_of_week = day_of_week.sort_values(by=\"transaction amount\")\n",
    "sns.lineplot(data=sorted_day_of_week, x=sorted_day_of_week.index, y=\"transaction amount\")"
   ]
  },
  {
   "cell_type": "markdown",
   "metadata": {},
   "source": [
    "Huge number of transactions seen over Fri-Sun. Monday and Thursday being almost equal but subpar to the weekend. Tuesday and Wednesday being the least of all"
   ]
  },
  {
   "cell_type": "markdown",
   "metadata": {},
   "source": [
    "### Public Holidays"
   ]
  },
  {
   "cell_type": "code",
   "execution_count": 9,
   "metadata": {},
   "outputs": [
    {
     "name": "stdout",
     "output_type": "stream",
     "text": [
      "2021-03-08\n",
      "2021-04-02\n",
      "2021-04-03\n",
      "2021-04-04\n",
      "2021-04-05\n",
      "2021-04-25\n",
      "2021-06-14\n",
      "2021-09-24\n",
      "2021-11-02\n",
      "2021-12-25\n",
      "2021-12-26\n",
      "2021-12-27\n",
      "2021-12-28\n",
      "2022-01-01\n",
      "2022-01-03\n",
      "2022-01-26\n",
      "2022-03-14\n",
      "2022-04-15\n",
      "2022-04-16\n",
      "2022-04-17\n",
      "2022-04-18\n",
      "2022-04-25\n",
      "2022-06-13\n",
      "2022-09-22\n",
      "2022-09-23\n"
     ]
    }
   ],
   "source": [
    "from pyspark.sql.types import DateType\n",
    "\n",
    "data = ['2021-03-08','2021-04-02','2021-04-03','2021-04-04','2021-04-05','2021-04-25','2021-06-14','2021-09-24','2021-11-02','2021-12-25','2021-12-26','2021-12-27','2021-12-28','2022-01-01','2022-01-03','2022-01-26','2022-03-14','2022-04-15','2022-04-16','2022-04-17','2022-04-18','2022-04-25','2022-06-13','2022-09-22','2022-09-23']\n",
    "dates = pd.date_range(start='2021-02-01', end='2022-10-31')\n",
    "\n",
    "list1 = []\n",
    "for date in dates:\n",
    "    _date = date.strftime('%Y-%m-%d')\n",
    "    if _date in data:\n",
    "        print(_date)\n",
    "        list1.append((_date, 1))\n",
    "    else:\n",
    "        list1.append((_date, 0))\n",
    "holiday_data = sp.createDataFrame(pd.DataFrame(list1, columns =['Date', 'holiday?']))\n",
    "holiday_data = holiday_data.withColumn(\"Date\",col(\"Date\").cast(DateType()))"
   ]
  },
  {
   "cell_type": "code",
   "execution_count": 10,
   "metadata": {},
   "outputs": [
    {
     "name": "stderr",
     "output_type": "stream",
     "text": [
      "[Stage 14:>                                                         (0 + 1) / 1]\r"
     ]
    },
    {
     "name": "stdout",
     "output_type": "stream",
     "text": [
      "+----------+--------+\n",
      "|      Date|holiday?|\n",
      "+----------+--------+\n",
      "|2021-02-01|       0|\n",
      "|2021-02-02|       0|\n",
      "|2021-02-03|       0|\n",
      "+----------+--------+\n",
      "only showing top 3 rows\n",
      "\n"
     ]
    },
    {
     "name": "stderr",
     "output_type": "stream",
     "text": [
      "                                                                                \r"
     ]
    }
   ],
   "source": [
    "holiday_data.show(3)"
   ]
  },
  {
   "cell_type": "code",
   "execution_count": 11,
   "metadata": {},
   "outputs": [
    {
     "data": {
      "text/plain": [
       "638"
      ]
     },
     "execution_count": 11,
     "metadata": {},
     "output_type": "execute_result"
    }
   ],
   "source": [
    "holiday_data.count()"
   ]
  },
  {
   "cell_type": "code",
   "execution_count": 12,
   "metadata": {},
   "outputs": [
    {
     "name": "stdout",
     "output_type": "stream",
     "text": [
      "root\n",
      " |-- Date: date (nullable = true)\n",
      " |-- holiday?: long (nullable = true)\n",
      "\n"
     ]
    }
   ],
   "source": [
    "holiday_data.printSchema()"
   ]
  },
  {
   "cell_type": "code",
   "execution_count": 19,
   "metadata": {},
   "outputs": [
    {
     "data": {
      "text/html": [
       "<div>\n",
       "<style scoped>\n",
       "    .dataframe tbody tr th:only-of-type {\n",
       "        vertical-align: middle;\n",
       "    }\n",
       "\n",
       "    .dataframe tbody tr th {\n",
       "        vertical-align: top;\n",
       "    }\n",
       "\n",
       "    .dataframe thead th {\n",
       "        text-align: right;\n",
       "    }\n",
       "</style>\n",
       "<table border=\"1\" class=\"dataframe\">\n",
       "  <thead>\n",
       "    <tr style=\"text-align: right;\">\n",
       "      <th></th>\n",
       "      <th>Date</th>\n",
       "      <th>holiday?</th>\n",
       "      <th>fraud_probability</th>\n",
       "    </tr>\n",
       "  </thead>\n",
       "  <tbody>\n",
       "    <tr>\n",
       "      <th>0</th>\n",
       "      <td>2021-02-28</td>\n",
       "      <td>0</td>\n",
       "      <td>10.815052</td>\n",
       "    </tr>\n",
       "    <tr>\n",
       "      <th>1</th>\n",
       "      <td>2021-02-28</td>\n",
       "      <td>0</td>\n",
       "      <td>9.689173</td>\n",
       "    </tr>\n",
       "    <tr>\n",
       "      <th>2</th>\n",
       "      <td>2021-02-28</td>\n",
       "      <td>0</td>\n",
       "      <td>9.802295</td>\n",
       "    </tr>\n",
       "    <tr>\n",
       "      <th>3</th>\n",
       "      <td>2021-02-28</td>\n",
       "      <td>0</td>\n",
       "      <td>10.447136</td>\n",
       "    </tr>\n",
       "    <tr>\n",
       "      <th>4</th>\n",
       "      <td>2021-02-28</td>\n",
       "      <td>0</td>\n",
       "      <td>9.131704</td>\n",
       "    </tr>\n",
       "  </tbody>\n",
       "</table>\n",
       "</div>"
      ],
      "text/plain": [
       "         Date  holiday?  fraud_probability\n",
       "0  2021-02-28         0          10.815052\n",
       "1  2021-02-28         0           9.689173\n",
       "2  2021-02-28         0           9.802295\n",
       "3  2021-02-28         0          10.447136\n",
       "4  2021-02-28         0           9.131704"
      ]
     },
     "execution_count": 19,
     "metadata": {},
     "output_type": "execute_result"
    }
   ],
   "source": [
    "holiday_fraud = holiday_data.join(cFraud, holiday_data.Date == cFraud.order_datetime).drop('order_datetime', 'user_id').toPandas()\n",
    "holiday_fraud.head(5)"
   ]
  },
  {
   "cell_type": "code",
   "execution_count": 23,
   "metadata": {},
   "outputs": [
    {
     "data": {
      "text/plain": [
       "0    33199\n",
       "1     1665\n",
       "Name: holiday?, dtype: int64"
      ]
     },
     "execution_count": 23,
     "metadata": {},
     "output_type": "execute_result"
    }
   ],
   "source": [
    "holiday_fraud['holiday?'].value_counts()"
   ]
  },
  {
   "cell_type": "code",
   "execution_count": 24,
   "metadata": {},
   "outputs": [],
   "source": [
    "normal_days = holiday_fraud.loc[holiday_fraud['holiday?']==0]\n",
    "normal_days_sample = normal_days.sample(n=1665, random_state=111)"
   ]
  },
  {
   "cell_type": "code",
   "execution_count": 25,
   "metadata": {},
   "outputs": [],
   "source": [
    "holiday_fraud_unbiased = pd.concat([normal_days_sample, holiday_fraud.loc[holiday_fraud['holiday?']==1]])"
   ]
  },
  {
   "cell_type": "code",
   "execution_count": 31,
   "metadata": {},
   "outputs": [
    {
     "data": {
      "text/plain": [
       "0    1665\n",
       "1    1665\n",
       "Name: holiday?, dtype: int64"
      ]
     },
     "execution_count": 31,
     "metadata": {},
     "output_type": "execute_result"
    },
    {
     "name": "stdout",
     "output_type": "stream",
     "text": [
      "22/10/08 04:10:14 WARN HeartbeatReceiver: Removing executor driver with no recent heartbeats: 7205506 ms exceeds timeout 120000 ms\n",
      "22/10/08 04:10:15 WARN SparkContext: Killing executors is not supported by current scheduler.\n"
     ]
    }
   ],
   "source": [
    "holiday_fraud_unbiased['holiday?'].value_counts()"
   ]
  },
  {
   "cell_type": "code",
   "execution_count": 20,
   "metadata": {},
   "outputs": [
    {
     "data": {
      "text/html": [
       "<div>\n",
       "<style scoped>\n",
       "    .dataframe tbody tr th:only-of-type {\n",
       "        vertical-align: middle;\n",
       "    }\n",
       "\n",
       "    .dataframe tbody tr th {\n",
       "        vertical-align: top;\n",
       "    }\n",
       "\n",
       "    .dataframe thead th {\n",
       "        text-align: right;\n",
       "    }\n",
       "</style>\n",
       "<table border=\"1\" class=\"dataframe\">\n",
       "  <thead>\n",
       "    <tr style=\"text-align: right;\">\n",
       "      <th></th>\n",
       "      <th>fraud_probability</th>\n",
       "    </tr>\n",
       "    <tr>\n",
       "      <th>holiday?</th>\n",
       "      <th></th>\n",
       "    </tr>\n",
       "  </thead>\n",
       "  <tbody>\n",
       "    <tr>\n",
       "      <th>0</th>\n",
       "      <td>15.108109</td>\n",
       "    </tr>\n",
       "    <tr>\n",
       "      <th>1</th>\n",
       "      <td>15.359002</td>\n",
       "    </tr>\n",
       "  </tbody>\n",
       "</table>\n",
       "</div>"
      ],
      "text/plain": [
       "          fraud_probability\n",
       "holiday?                   \n",
       "0                 15.108109\n",
       "1                 15.359002"
      ]
     },
     "execution_count": 20,
     "metadata": {},
     "output_type": "execute_result"
    }
   ],
   "source": [
    "holiday_fraud.groupby('holiday?').mean('fraud_probability')"
   ]
  },
  {
   "cell_type": "code",
   "execution_count": 28,
   "metadata": {},
   "outputs": [
    {
     "data": {
      "text/html": [
       "<div>\n",
       "<style scoped>\n",
       "    .dataframe tbody tr th:only-of-type {\n",
       "        vertical-align: middle;\n",
       "    }\n",
       "\n",
       "    .dataframe tbody tr th {\n",
       "        vertical-align: top;\n",
       "    }\n",
       "\n",
       "    .dataframe thead th {\n",
       "        text-align: right;\n",
       "    }\n",
       "</style>\n",
       "<table border=\"1\" class=\"dataframe\">\n",
       "  <thead>\n",
       "    <tr style=\"text-align: right;\">\n",
       "      <th></th>\n",
       "      <th>fraud_probability</th>\n",
       "    </tr>\n",
       "    <tr>\n",
       "      <th>holiday?</th>\n",
       "      <th></th>\n",
       "    </tr>\n",
       "  </thead>\n",
       "  <tbody>\n",
       "    <tr>\n",
       "      <th>0</th>\n",
       "      <td>15.319196</td>\n",
       "    </tr>\n",
       "    <tr>\n",
       "      <th>1</th>\n",
       "      <td>15.359002</td>\n",
       "    </tr>\n",
       "  </tbody>\n",
       "</table>\n",
       "</div>"
      ],
      "text/plain": [
       "          fraud_probability\n",
       "holiday?                   \n",
       "0                 15.319196\n",
       "1                 15.359002"
      ]
     },
     "execution_count": 28,
     "metadata": {},
     "output_type": "execute_result"
    }
   ],
   "source": [
    "holiday_fraud_unbiased.groupby('holiday?').mean('fraud_probability')"
   ]
  },
  {
   "cell_type": "code",
   "execution_count": 21,
   "metadata": {},
   "outputs": [
    {
     "data": {
      "text/html": [
       "<div>\n",
       "<style scoped>\n",
       "    .dataframe tbody tr th:only-of-type {\n",
       "        vertical-align: middle;\n",
       "    }\n",
       "\n",
       "    .dataframe tbody tr th {\n",
       "        vertical-align: top;\n",
       "    }\n",
       "\n",
       "    .dataframe thead th {\n",
       "        text-align: right;\n",
       "    }\n",
       "</style>\n",
       "<table border=\"1\" class=\"dataframe\">\n",
       "  <thead>\n",
       "    <tr style=\"text-align: right;\">\n",
       "      <th></th>\n",
       "      <th>fraud_probability</th>\n",
       "    </tr>\n",
       "    <tr>\n",
       "      <th>holiday?</th>\n",
       "      <th></th>\n",
       "    </tr>\n",
       "  </thead>\n",
       "  <tbody>\n",
       "    <tr>\n",
       "      <th>0</th>\n",
       "      <td>11.729142</td>\n",
       "    </tr>\n",
       "    <tr>\n",
       "      <th>1</th>\n",
       "      <td>11.924203</td>\n",
       "    </tr>\n",
       "  </tbody>\n",
       "</table>\n",
       "</div>"
      ],
      "text/plain": [
       "          fraud_probability\n",
       "holiday?                   \n",
       "0                 11.729142\n",
       "1                 11.924203"
      ]
     },
     "execution_count": 21,
     "metadata": {},
     "output_type": "execute_result"
    }
   ],
   "source": [
    "holiday_fraud.groupby('holiday?').median('fraud_probability')"
   ]
  },
  {
   "cell_type": "code",
   "execution_count": 27,
   "metadata": {},
   "outputs": [
    {
     "data": {
      "text/html": [
       "<div>\n",
       "<style scoped>\n",
       "    .dataframe tbody tr th:only-of-type {\n",
       "        vertical-align: middle;\n",
       "    }\n",
       "\n",
       "    .dataframe tbody tr th {\n",
       "        vertical-align: top;\n",
       "    }\n",
       "\n",
       "    .dataframe thead th {\n",
       "        text-align: right;\n",
       "    }\n",
       "</style>\n",
       "<table border=\"1\" class=\"dataframe\">\n",
       "  <thead>\n",
       "    <tr style=\"text-align: right;\">\n",
       "      <th></th>\n",
       "      <th>fraud_probability</th>\n",
       "    </tr>\n",
       "    <tr>\n",
       "      <th>holiday?</th>\n",
       "      <th></th>\n",
       "    </tr>\n",
       "  </thead>\n",
       "  <tbody>\n",
       "    <tr>\n",
       "      <th>0</th>\n",
       "      <td>11.905342</td>\n",
       "    </tr>\n",
       "    <tr>\n",
       "      <th>1</th>\n",
       "      <td>11.924203</td>\n",
       "    </tr>\n",
       "  </tbody>\n",
       "</table>\n",
       "</div>"
      ],
      "text/plain": [
       "          fraud_probability\n",
       "holiday?                   \n",
       "0                 11.905342\n",
       "1                 11.924203"
      ]
     },
     "execution_count": 27,
     "metadata": {},
     "output_type": "execute_result"
    }
   ],
   "source": [
    "holiday_fraud_unbiased.groupby('holiday?').median('fraud_probability')"
   ]
  },
  {
   "cell_type": "markdown",
   "metadata": {},
   "source": [
    "The mean and median are fairly similar for chances of fraud on public holidays vs normal days."
   ]
  },
  {
   "cell_type": "code",
   "execution_count": 22,
   "metadata": {},
   "outputs": [
    {
     "data": {
      "text/plain": [
       "0.005379426048245172"
      ]
     },
     "execution_count": 22,
     "metadata": {},
     "output_type": "execute_result"
    }
   ],
   "source": [
    "holiday_fraud['holiday?'].corr(holiday_fraud['fraud_probability'])"
   ]
  },
  {
   "cell_type": "code",
   "execution_count": 29,
   "metadata": {},
   "outputs": [
    {
     "data": {
      "text/plain": [
       "0.002011067421660969"
      ]
     },
     "execution_count": 29,
     "metadata": {},
     "output_type": "execute_result"
    }
   ],
   "source": [
    "holiday_fraud_unbiased['holiday?'].corr(holiday_fraud_unbiased['fraud_probability'])"
   ]
  },
  {
   "cell_type": "markdown",
   "metadata": {},
   "source": [
    "The Pearson's correlation coefficient is also very low, further strengthening the result that these two aren't really related."
   ]
  },
  {
   "cell_type": "markdown",
   "metadata": {},
   "source": [
    "### Parse the merchants' \"tags\""
   ]
  },
  {
   "cell_type": "code",
   "execution_count": null,
   "metadata": {},
   "outputs": [],
   "source": [
    "# try:\n",
    "#     _create_unverified_https_context = ssl._create_unverified_context\n",
    "# except AttributeError:\n",
    "#     pass\n",
    "# else:\n",
    "#     ssl._create_default_https_context = _create_unverified_https_context\n",
    "\n",
    "# nltk.download()\n",
    "\n",
    "# nltk.download('stopwords')\n",
    "# nltk.download('wordnet')\n",
    "# nltk.download('omw-1.4')\n",
    "\n",
    "# This is used to for NLP of the description\n",
    "def text_process(text):\n",
    "    stemmer = WordNetLemmatizer()\n",
    "    # Remove all punctuation and numbers \n",
    "    nopunc = [char for char in text if char not in string.punctuation]\n",
    "    nopunc = ''.join([i for i in nopunc if not i.isdigit()])\n",
    "    # Remove all stopwords\n",
    "    nopunc =  [word.lower() for word in nopunc.split() if word not in stopwords.words('english')]\n",
    "    # lemmatize and output\n",
    "    return ' '.join([stemmer.lemmatize(word) for word in nopunc])"
   ]
  },
  {
   "cell_type": "code",
   "execution_count": null,
   "metadata": {},
   "outputs": [],
   "source": [
    "merchants_pd = merchants.toPandas()\n",
    "\n",
    "def tag_extract(tag_string): \n",
    "    # first need to preprocess\n",
    "    string =  re.sub('\\[','(', tag_string.lower())\n",
    "    string = re.sub('\\]',')', string)\n",
    "    # break the string into sections\n",
    "    string_cut = string.split('),')\n",
    "    new_string = []\n",
    "    \n",
    "    # first extract the description and pre process\n",
    "    descr = str(string_cut[0].strip('(('))\n",
    "    new_string.append(text_process(descr))\n",
    "    # second extract the band\n",
    "    new_string.append(str(re.search(r'[a-z]',string_cut[1]).group()))\n",
    "    # finally the take rate\n",
    "    new_string.append(float(re.search(r'[0-9]+\\.[0-9]+',string_cut[2]).group()))\n",
    "    return(new_string)\n",
    "################\n",
    "# now we can run the algorithm\n",
    "tags = merchants_pd['tags']\n",
    "processed_tags = []\n",
    "for i in tags:\n",
    "    processed_tags.append(tag_extract(i))"
   ]
  },
  {
   "cell_type": "code",
   "execution_count": null,
   "metadata": {},
   "outputs": [],
   "source": [
    "merchant_tbl = pd.DataFrame(processed_tags, columns=('Description', 'Earnings_Class', 'BNPL_Fee'))\n",
    "\n",
    "merchant_tbl = pd.concat([merchants_pd, merchant_tbl], axis=1)\n",
    "# drop the tags column \n",
    "merchant_tbl.drop(columns=['tags'], inplace=True)"
   ]
  },
  {
   "cell_type": "code",
   "execution_count": null,
   "metadata": {},
   "outputs": [
    {
     "data": {
      "text/plain": [
       "{'antique shop sale repair restoration service',\n",
       " 'art dealer gallery',\n",
       " 'artist supply craft shop',\n",
       " 'bicycle shop sale service',\n",
       " 'book periodical newspaper',\n",
       " 'cable satellite pay television radio service',\n",
       " 'computer computer peripheral equipment software',\n",
       " 'computer programming data processing integrated system design service',\n",
       " 'digital good book movie music',\n",
       " 'equipment tool furniture appliance rent al leasing',\n",
       " 'florist supply nursery stock flower',\n",
       " 'furniture home furnishing equipment shop manufacturer except appliance',\n",
       " 'gift card novelty souvenir shop',\n",
       " 'health beauty spa',\n",
       " 'hobby toy game shop',\n",
       " 'jewelry watch clock silverware shop',\n",
       " 'lawn garden supply outlet including nursery',\n",
       " 'motor vehicle supply new part',\n",
       " 'music shop musical instrument piano sheet music',\n",
       " 'optician optical good eyeglass',\n",
       " 'shoe shop',\n",
       " 'stationery office supply printing writing paper',\n",
       " 'telecom',\n",
       " 'tent awning shop',\n",
       " 'watch clock jewelry repair shop'}"
      ]
     },
     "execution_count": 21,
     "metadata": {},
     "output_type": "execute_result"
    }
   ],
   "source": [
    "set(merchant_tbl['Description'])"
   ]
  },
  {
   "cell_type": "code",
   "execution_count": null,
   "metadata": {},
   "outputs": [],
   "source": [
    "merchant_tbl.to_csv(\"../data/curated/merchants_tbl_processed.csv\")"
   ]
  },
  {
   "cell_type": "code",
   "execution_count": null,
   "metadata": {},
   "outputs": [
    {
     "name": "stdout",
     "output_type": "stream",
     "text": [
      "+------------+--------------------+--------------+--------+\n",
      "|merchant_abn|         Description|Earnings_Class|BNPL_Fee|\n",
      "+------------+--------------------+--------------+--------+\n",
      "| 10023283211|furniture home fu...|             e|    0.18|\n",
      "| 10142254217|cable satellite p...|             b|    4.22|\n",
      "| 10165489824|jewelry watch clo...|             b|     4.4|\n",
      "+------------+--------------------+--------------+--------+\n",
      "only showing top 3 rows\n",
      "\n"
     ]
    }
   ],
   "source": [
    "merchant_tbl = sp.read.option(\"header\", True).csv(\"../data/curated/merchants_tbl_processed.csv\").drop('_c0', 'name')\n",
    "merchant_tbl.show(3)"
   ]
  },
  {
   "cell_type": "code",
   "execution_count": null,
   "metadata": {},
   "outputs": [
    {
     "name": "stderr",
     "output_type": "stream",
     "text": [
      "[Stage 25:===================================================>    (24 + 2) / 26]\r"
     ]
    },
    {
     "name": "stdout",
     "output_type": "stream",
     "text": [
      "+------------+-----------------+--------------------+--------------+--------+\n",
      "|merchant_abn|sum(dollar_value)|         Description|Earnings_Class|BNPL_Fee|\n",
      "+------------+-----------------+--------------------+--------------+--------+\n",
      "| 38700038932|9546185.360697314|    tent awning shop|             a|    6.31|\n",
      "| 83412691377|498536.5816973136|watch clock jewel...|             c|    2.94|\n",
      "| 15613631617| 543030.531332826|motor vehicle sup...|             e|    0.35|\n",
      "| 19839532017|         113982.0|cable satellite p...|             b|    4.94|\n",
      "+------------+-----------------+--------------------+--------------+--------+\n",
      "only showing top 4 rows\n",
      "\n"
     ]
    },
    {
     "name": "stderr",
     "output_type": "stream",
     "text": [
      "                                                                                \r"
     ]
    }
   ],
   "source": [
    "merch_tran = transactions.join(merchant_tbl, on=\"merchant_abn\")\n",
    "\n",
    "check_class = merch_tran.groupBy(\"merchant_abn\").sum(\"dollar_value\").join(merchant_tbl, on=\"merchant_abn\")\n",
    "check_class.show(4)"
   ]
  },
  {
   "cell_type": "code",
   "execution_count": null,
   "metadata": {},
   "outputs": [
    {
     "name": "stderr",
     "output_type": "stream",
     "text": [
      "                                                                                \r"
     ]
    },
    {
     "name": "stdout",
     "output_type": "stream",
     "text": [
      "+--------------+----------------------+\n",
      "|Earnings_Class|avg(sum(dollar_value))|\n",
      "+--------------+----------------------+\n",
      "|             e|     466409.1137064723|\n",
      "|             d|     380160.4808673627|\n",
      "|             c|     492228.4833728333|\n",
      "|             b|     572100.8022827655|\n",
      "|             a|     542033.4187956803|\n",
      "+--------------+----------------------+\n",
      "\n"
     ]
    },
    {
     "name": "stderr",
     "output_type": "stream",
     "text": [
      "                                                                                \r"
     ]
    }
   ],
   "source": [
    "check_class.groupBy(\"Earnings_Class\").avg(\"sum(dollar_value)\").show()\n",
    "plot_class = check_class.toPandas()"
   ]
  },
  {
   "cell_type": "code",
   "execution_count": null,
   "metadata": {},
   "outputs": [
    {
     "data": {
      "text/plain": [
       "<AxesSubplot:xlabel='BNPL_Fee', ylabel='take away revenue'>"
      ]
     },
     "execution_count": 26,
     "metadata": {},
     "output_type": "execute_result"
    },
    {
     "data": {
      "image/png": "[encoded data removed]",
      "text/plain": [
       "<Figure size 432x288 with 1 Axes>"
      ]
     },
     "metadata": {
      "needs_background": "light"
     },
     "output_type": "display_data"
    }
   ],
   "source": [
    "plot_class[\"BNPL_Fee\"] = pd.to_numeric(plot_class[\"BNPL_Fee\"])\n",
    "plot_class[\"take away revenue\"] = plot_class[\"BNPL_Fee\"] * plot_class[\"sum(dollar_value)\"] / 100\n",
    "\n",
    "sns.scatterplot(x=\"BNPL_Fee\", y=\"take away revenue\", hue=\"Earnings_Class\", data=plot_class)"
   ]
  },
  {
   "cell_type": "markdown",
   "metadata": {},
   "source": [
    "### Transaction Count Distribution"
   ]
  },
  {
   "cell_type": "code",
   "execution_count": null,
   "metadata": {},
   "outputs": [
    {
     "name": "stderr",
     "output_type": "stream",
     "text": [
      "                                                                                \r"
     ]
    },
    {
     "data": {
      "text/plain": [
       "Num Trans    53\n",
       "count        53\n",
       "dtype: int64"
      ]
     },
     "execution_count": 27,
     "metadata": {},
     "output_type": "execute_result"
    }
   ],
   "source": [
    "pie_chart = transactions.groupBy(\"user_id\").count().withColumnRenamed(\"count\", \"Num Trans\").groupBy(\"Num Trans\").count().toPandas()\n",
    "pie_chart.sort_values(by=\"Num Trans\", inplace=True)\n",
    "pie_chart.count()"
   ]
  },
  {
   "cell_type": "code",
   "execution_count": null,
   "metadata": {},
   "outputs": [
    {
     "data": {
      "image/png": "[encoded data removed]",
      "text/plain": [
       "<Figure size 432x288 with 1 Axes>"
      ]
     },
     "metadata": {},
     "output_type": "display_data"
    }
   ],
   "source": [
    "plt.pie(x=pie_chart[\"count\"], labels=pie_chart[\"Num Trans\"])\n",
    "plt.show()"
   ]
  },
  {
   "cell_type": "code",
   "execution_count": null,
   "metadata": {},
   "outputs": [
    {
     "data": {
      "text/plain": [
       "<AxesSubplot:xlabel='Num Trans', ylabel='count'>"
      ]
     },
     "execution_count": 29,
     "metadata": {},
     "output_type": "execute_result"
    },
    {
     "data": {
      "image/png": "[encoded data removed]",
      "text/plain": [
       "<Figure size 432x288 with 1 Axes>"
      ]
     },
     "metadata": {
      "needs_background": "light"
     },
     "output_type": "display_data"
    }
   ],
   "source": [
    "sns.scatterplot(y=\"count\", x=\"Num Trans\", data=pie_chart)"
   ]
  },
  {
   "cell_type": "markdown",
   "metadata": {},
   "source": [
    "#### Constant purchases with a dollar value of 157.0"
   ]
  },
  {
   "cell_type": "code",
   "execution_count": null,
   "metadata": {},
   "outputs": [
    {
     "name": "stderr",
     "output_type": "stream",
     "text": [
      "                                                                                \r"
     ]
    }
   ],
   "source": [
    "constant = transactions.filter(transactions.dollar_value == 157)\n",
    "\n",
    "merchant_constant_pd = constant.groupBy(\"merchant_abn\").count()\n",
    "datetime_constant_pd = constant.groupBy(\"order_datetime\").count().toPandas()\n",
    "user_id_constant_pd = constant.groupBy(\"user_id\").count().toPandas()"
   ]
  },
  {
   "cell_type": "code",
   "execution_count": null,
   "metadata": {},
   "outputs": [],
   "source": [
    "sns.set_style(\"whitegrid\")\n",
    "sns.set_palette(\"autumn\")"
   ]
  },
  {
   "cell_type": "code",
   "execution_count": null,
   "metadata": {},
   "outputs": [],
   "source": [
    "datetime_constant_pd[\"order_datetime\"] = pd.to_datetime(datetime_constant_pd[\"order_datetime\"])"
   ]
  },
  {
   "cell_type": "code",
   "execution_count": null,
   "metadata": {},
   "outputs": [
    {
     "data": {
      "image/png": "[encoded data removed]",
      "text/plain": [
       "<Figure size 432x288 with 1 Axes>"
      ]
     },
     "metadata": {},
     "output_type": "display_data"
    }
   ],
   "source": [
    "sns.lineplot(x=\"order_datetime\", y=\"count\", data=datetime_constant_pd.sort_values(by=\"order_datetime\"))\n",
    "\n",
    "plt.xticks(rotation=45)\n",
    "plt.show()"
   ]
  },
  {
   "cell_type": "code",
   "execution_count": null,
   "metadata": {},
   "outputs": [],
   "source": [
    "merch_constant = merchant_constant_pd.join(merchant_tbl, ['merchant_abn'])"
   ]
  },
  {
   "cell_type": "code",
   "execution_count": null,
   "metadata": {},
   "outputs": [
    {
     "name": "stderr",
     "output_type": "stream",
     "text": [
      "                                                                                \r"
     ]
    },
    {
     "data": {
      "text/plain": [
       "[Row(Description='cable satellite pay television radio service')]"
      ]
     },
     "execution_count": 35,
     "metadata": {},
     "output_type": "execute_result"
    }
   ],
   "source": [
    "merch_constant.select('Description').distinct().collect()"
   ]
  },
  {
   "cell_type": "markdown",
   "metadata": {},
   "source": [
    "All of these transactions belong to a single description, namely \"cable satellite pay television radio service\", which could be some kind of a periodic subscription service. Since this does not raise any concerns regarding the legitimacy of these transactions, we will include them in further analysis and modelling."
   ]
  },
  {
   "cell_type": "markdown",
   "metadata": {},
   "source": [
    "### Outlier detection for dollar value"
   ]
  },
  {
   "cell_type": "code",
   "execution_count": null,
   "metadata": {},
   "outputs": [
    {
     "data": {
      "text/plain": [
       "pyspark.sql.dataframe.DataFrame"
      ]
     },
     "execution_count": 39,
     "metadata": {},
     "output_type": "execute_result"
    }
   ],
   "source": [
    "type(merchant_tbl)"
   ]
  },
  {
   "cell_type": "code",
   "execution_count": null,
   "metadata": {},
   "outputs": [],
   "source": [
    "full_dataset = transactions.join(customers, ['user_id'])\n",
    "merchants_tbl = merchant_tbl.withColumnRenamed('name','company_name')\n",
    "full_dataset = full_dataset.join(merchants_tbl, ['merchant_abn'])"
   ]
  },
  {
   "cell_type": "code",
   "execution_count": null,
   "metadata": {},
   "outputs": [
    {
     "name": "stdout",
     "output_type": "stream",
     "text": [
      "root\n",
      " |-- merchant_abn: long (nullable = true)\n",
      " |-- user_id: long (nullable = true)\n",
      " |-- dollar_value: double (nullable = true)\n",
      " |-- order_id: string (nullable = true)\n",
      " |-- order_datetime: date (nullable = true)\n",
      " |-- name: string (nullable = true)\n",
      " |-- address: string (nullable = true)\n",
      " |-- state: string (nullable = true)\n",
      " |-- postcode: integer (nullable = true)\n",
      " |-- gender: string (nullable = true)\n",
      " |-- Description: string (nullable = true)\n",
      " |-- Earnings_Class: string (nullable = true)\n",
      " |-- BNPL_Fee: string (nullable = true)\n",
      "\n"
     ]
    }
   ],
   "source": [
    "full_dataset.printSchema()"
   ]
  },
  {
   "cell_type": "code",
   "execution_count": null,
   "metadata": {},
   "outputs": [],
   "source": [
    "# add a day of the week, weekly & monthly attribute\n",
    "full_dataset = full_dataset.withColumn('Day', F.dayofweek('order_datetime'))\n",
    "full_dataset = full_dataset.withColumn('Month', F.month('order_datetime'))\n",
    "\n",
    "# round each dollar value to the nearest cent (not 5 cents, as there exists unusual pricing in the real world)\n",
    "full_dataset = full_dataset.withColumn(\"dollar_value\", F.round(F.col(\"dollar_value\"), 2))\n",
    "\n",
    "# now we can also add the bnpl revenue from a transaction \n",
    "full_dataset = full_dataset.withColumn('BNPL_Revenue', \n",
    "                        (F.col('dollar_value') * 0.01 * F.col('BNPL_Fee')))"
   ]
  },
  {
   "cell_type": "markdown",
   "metadata": {},
   "source": [
    "### Outlier detection algorithm\n",
    "This will be inplemented by creating an attribute called 'potential outlier'. which marks dollar values of transactios that fall out of a companies specific SIQR as True, and False otherwise. Furthermore, it marks all transactions that belong to a company, which has no variance in the dollar value of respective transactios. This is due to it being unrealistic/dodgy."
   ]
  },
  {
   "cell_type": "code",
   "execution_count": null,
   "metadata": {},
   "outputs": [],
   "source": [
    "# use the SIQR range\n",
    "# see https://towardsdatascience.com/outlier-detection-part-2-6839f6199768\n",
    "Fst_percentile = F.expr('percentile_approx(dollar_value, 0.25)')\n",
    "Trd_percentile = F.expr('percentile_approx(dollar_value, 0.75)')\n",
    "Second_percentile = F.expr('percentile_approx(dollar_value, 0.5)')\n",
    "quartile_dataset = full_dataset.groupBy('merchant_abn').agg(Fst_percentile.alias('1_val'), Trd_percentile.alias('3_val'), Second_percentile.alias('2_val'), F.count('dollar_value').alias('Count'))\n",
    "quartile_dataset = quartile_dataset.withColumn('SIQR_Lower', F.col('2_val') - F.col('1_val'))\n",
    "quartile_dataset = quartile_dataset.withColumn('SIQR_Upper', F.col('3_val') - F.col('2_val'))\n",
    "\n",
    "# Now calculate the limits\n",
    "quartile_dataset = quartile_dataset.withColumn('Upper_limit', F.col('3_val') + 3 * F.col('SIQR_Upper'))\n",
    "quartile_dataset = quartile_dataset.withColumn('Lower_limit', F.col('1_val') - 3 * F.col('SIQR_Lower'))\n",
    "\n",
    "# after noticing that some merchants only have one transaction value (i.e one dollar_value amount for all transactios)\n",
    "# decided to removed due to unrealisic distributed data \n",
    "quartile_dataset = quartile_dataset.withColumn('Natural_var', F.when((F.col('Upper_limit') == F.col('Lower_limit')) & (F.col('Count') > 10), True).otherwise(False))\n",
    "quartile_dataset = quartile_dataset.select('merchant_abn', 'Upper_limit', 'Lower_limit', 'Natural_var')"
   ]
  },
  {
   "cell_type": "code",
   "execution_count": null,
   "metadata": {},
   "outputs": [],
   "source": [
    "# Now all we need to do is join this data to each transaction, then can select the transactios which are (not) within the limits\n",
    "full_quantile = full_dataset.select('merchant_abn', 'order_id', 'user_id', 'dollar_value').join(quartile_dataset, on= ['merchant_abn'])"
   ]
  },
  {
   "cell_type": "code",
   "execution_count": null,
   "metadata": {},
   "outputs": [],
   "source": [
    "# finally identify the outliers which fall out of distribution or apart of a dodgy business\n",
    "full_quantile = full_quantile.withColumn('Potential_Outlier', F.when((full_quantile.dollar_value <= F.col('Upper_limit')) & (full_quantile.dollar_value >= F.col('Lower_limit')) & (F.col('Natural_var') == False), False)\n",
    "                                              .otherwise(True))"
   ]
  },
  {
   "cell_type": "code",
   "execution_count": null,
   "metadata": {},
   "outputs": [
    {
     "name": "stderr",
     "output_type": "stream",
     "text": [
      "[Stage 29:>                                                         (0 + 8) / 9]\r"
     ]
    },
    {
     "name": "stdout",
     "output_type": "stream",
     "text": [
      "[543.805s][warning][gc,alloc] Executor task launch worker for task 1.0 in stage 29.0 (TID 691): Retried waiting for GCLocker too often allocating 2097154 words\n",
      "22/10/06 01:21:04 WARN TaskMemoryManager: Failed to allocate a page (16777216 bytes), try again.\n",
      "[544.041s][warning][gc,alloc] Executor task launch worker for task 3.0 in stage 29.0 (TID 693): Retried waiting for GCLocker too often allocating 2097154 words\n",
      "22/10/06 01:21:05 WARN TaskMemoryManager: Failed to allocate a page (16777216 bytes), try again.\n",
      "[544.092s][warning][gc,alloc] Executor task launch worker for task 6.0 in stage 29.0 (TID 696): Retried waiting for GCLocker too often allocating 2097154 words\n",
      "22/10/06 01:21:05 WARN TaskMemoryManager: Failed to allocate a page (16777216 bytes), try again.\n",
      "[544.119s][warning][gc,alloc] Executor task launch worker for task 0.0 in stage 29.0 (TID 690): Retried waiting for GCLocker too often allocating 2097154 words\n",
      "22/10/06 01:21:05 WARN TaskMemoryManager: Failed to allocate a page (16777216 bytes), try again.\n"
     ]
    },
    {
     "name": "stderr",
     "output_type": "stream",
     "text": [
      "ERROR:root:KeyboardInterrupt while sending command.\n",
      "Traceback (most recent call last):\n",
      "  File \"/Library/Frameworks/Python.framework/Versions/3.9/lib/python3.9/site-packages/py4j/java_gateway.py\", line 1038, in send_command\n",
      "    response = connection.send_command(command)\n",
      "  File \"/Library/Frameworks/Python.framework/Versions/3.9/lib/python3.9/site-packages/py4j/clientserver.py\", line 511, in send_command\n",
      "    answer = smart_decode(self.stream.readline()[:-1])\n",
      "  File \"/Library/Frameworks/Python.framework/Versions/3.9/lib/python3.9/socket.py\", line 704, in readinto\n",
      "    return self._sock.recv_into(b)\n",
      "KeyboardInterrupt\n"
     ]
    },
    {
     "ename": "KeyboardInterrupt",
     "evalue": "",
     "output_type": "error",
     "traceback": [
      "\u001b[0;31m---------------------------------------------------------------------------\u001b[0m",
      "\u001b[0;31mKeyboardInterrupt\u001b[0m                         Traceback (most recent call last)",
      "\u001b[1;32m/Users/harshitasoni/GitHub/generic-buy-now-pay-later-project-group-3/notebooks/analysis_summary.ipynb Cell 23\u001b[0m in \u001b[0;36m<cell line: 1>\u001b[0;34m()\u001b[0m\n\u001b[0;32m----> <a href='vscode-notebook-cell:/Users/harshitasoni/GitHub/generic-buy-now-pay-later-project-group-3/notebooks/analysis_summary.ipynb#X40sZmlsZQ%3D%3D?line=0'>1</a>\u001b[0m full_quantile\u001b[39m.\u001b[39;49mwhere(F\u001b[39m.\u001b[39;49mcol(\u001b[39m'\u001b[39;49m\u001b[39mPotential_Outlier\u001b[39;49m\u001b[39m'\u001b[39;49m) \u001b[39m==\u001b[39;49m \u001b[39mTrue\u001b[39;49;00m)\u001b[39m.\u001b[39;49mcount()\n",
      "File \u001b[0;32m/Library/Frameworks/Python.framework/Versions/3.9/lib/python3.9/site-packages/pyspark/sql/dataframe.py:804\u001b[0m, in \u001b[0;36mDataFrame.count\u001b[0;34m(self)\u001b[0m\n\u001b[1;32m    794\u001b[0m \u001b[39mdef\u001b[39;00m \u001b[39mcount\u001b[39m(\u001b[39mself\u001b[39m) \u001b[39m-\u001b[39m\u001b[39m>\u001b[39m \u001b[39mint\u001b[39m:\n\u001b[1;32m    795\u001b[0m     \u001b[39m\"\"\"Returns the number of rows in this :class:`DataFrame`.\u001b[39;00m\n\u001b[1;32m    796\u001b[0m \n\u001b[1;32m    797\u001b[0m \u001b[39m    .. versionadded:: 1.3.0\u001b[39;00m\n\u001b[0;32m   (...)\u001b[0m\n\u001b[1;32m    802\u001b[0m \u001b[39m    2\u001b[39;00m\n\u001b[1;32m    803\u001b[0m \u001b[39m    \"\"\"\u001b[39;00m\n\u001b[0;32m--> 804\u001b[0m     \u001b[39mreturn\u001b[39;00m \u001b[39mint\u001b[39m(\u001b[39mself\u001b[39;49m\u001b[39m.\u001b[39;49m_jdf\u001b[39m.\u001b[39;49mcount())\n",
      "File \u001b[0;32m/Library/Frameworks/Python.framework/Versions/3.9/lib/python3.9/site-packages/py4j/java_gateway.py:1320\u001b[0m, in \u001b[0;36mJavaMember.__call__\u001b[0;34m(self, *args)\u001b[0m\n\u001b[1;32m   1313\u001b[0m args_command, temp_args \u001b[39m=\u001b[39m \u001b[39mself\u001b[39m\u001b[39m.\u001b[39m_build_args(\u001b[39m*\u001b[39margs)\n\u001b[1;32m   1315\u001b[0m command \u001b[39m=\u001b[39m proto\u001b[39m.\u001b[39mCALL_COMMAND_NAME \u001b[39m+\u001b[39m\\\n\u001b[1;32m   1316\u001b[0m     \u001b[39mself\u001b[39m\u001b[39m.\u001b[39mcommand_header \u001b[39m+\u001b[39m\\\n\u001b[1;32m   1317\u001b[0m     args_command \u001b[39m+\u001b[39m\\\n\u001b[1;32m   1318\u001b[0m     proto\u001b[39m.\u001b[39mEND_COMMAND_PART\n\u001b[0;32m-> 1320\u001b[0m answer \u001b[39m=\u001b[39m \u001b[39mself\u001b[39;49m\u001b[39m.\u001b[39;49mgateway_client\u001b[39m.\u001b[39;49msend_command(command)\n\u001b[1;32m   1321\u001b[0m return_value \u001b[39m=\u001b[39m get_return_value(\n\u001b[1;32m   1322\u001b[0m     answer, \u001b[39mself\u001b[39m\u001b[39m.\u001b[39mgateway_client, \u001b[39mself\u001b[39m\u001b[39m.\u001b[39mtarget_id, \u001b[39mself\u001b[39m\u001b[39m.\u001b[39mname)\n\u001b[1;32m   1324\u001b[0m \u001b[39mfor\u001b[39;00m temp_arg \u001b[39min\u001b[39;00m temp_args:\n",
      "File \u001b[0;32m/Library/Frameworks/Python.framework/Versions/3.9/lib/python3.9/site-packages/py4j/java_gateway.py:1038\u001b[0m, in \u001b[0;36mGatewayClient.send_command\u001b[0;34m(self, command, retry, binary)\u001b[0m\n\u001b[1;32m   1036\u001b[0m connection \u001b[39m=\u001b[39m \u001b[39mself\u001b[39m\u001b[39m.\u001b[39m_get_connection()\n\u001b[1;32m   1037\u001b[0m \u001b[39mtry\u001b[39;00m:\n\u001b[0;32m-> 1038\u001b[0m     response \u001b[39m=\u001b[39m connection\u001b[39m.\u001b[39;49msend_command(command)\n\u001b[1;32m   1039\u001b[0m     \u001b[39mif\u001b[39;00m binary:\n\u001b[1;32m   1040\u001b[0m         \u001b[39mreturn\u001b[39;00m response, \u001b[39mself\u001b[39m\u001b[39m.\u001b[39m_create_connection_guard(connection)\n",
      "File \u001b[0;32m/Library/Frameworks/Python.framework/Versions/3.9/lib/python3.9/site-packages/py4j/clientserver.py:511\u001b[0m, in \u001b[0;36mClientServerConnection.send_command\u001b[0;34m(self, command)\u001b[0m\n\u001b[1;32m    509\u001b[0m \u001b[39mtry\u001b[39;00m:\n\u001b[1;32m    510\u001b[0m     \u001b[39mwhile\u001b[39;00m \u001b[39mTrue\u001b[39;00m:\n\u001b[0;32m--> 511\u001b[0m         answer \u001b[39m=\u001b[39m smart_decode(\u001b[39mself\u001b[39;49m\u001b[39m.\u001b[39;49mstream\u001b[39m.\u001b[39;49mreadline()[:\u001b[39m-\u001b[39m\u001b[39m1\u001b[39m])\n\u001b[1;32m    512\u001b[0m         logger\u001b[39m.\u001b[39mdebug(\u001b[39m\"\u001b[39m\u001b[39mAnswer received: \u001b[39m\u001b[39m{0}\u001b[39;00m\u001b[39m\"\u001b[39m\u001b[39m.\u001b[39mformat(answer))\n\u001b[1;32m    513\u001b[0m         \u001b[39m# Happens when a the other end is dead. There might be an empty\u001b[39;00m\n\u001b[1;32m    514\u001b[0m         \u001b[39m# answer before the socket raises an error.\u001b[39;00m\n",
      "File \u001b[0;32m/Library/Frameworks/Python.framework/Versions/3.9/lib/python3.9/socket.py:704\u001b[0m, in \u001b[0;36mSocketIO.readinto\u001b[0;34m(self, b)\u001b[0m\n\u001b[1;32m    702\u001b[0m \u001b[39mwhile\u001b[39;00m \u001b[39mTrue\u001b[39;00m:\n\u001b[1;32m    703\u001b[0m     \u001b[39mtry\u001b[39;00m:\n\u001b[0;32m--> 704\u001b[0m         \u001b[39mreturn\u001b[39;00m \u001b[39mself\u001b[39;49m\u001b[39m.\u001b[39;49m_sock\u001b[39m.\u001b[39;49mrecv_into(b)\n\u001b[1;32m    705\u001b[0m     \u001b[39mexcept\u001b[39;00m timeout:\n\u001b[1;32m    706\u001b[0m         \u001b[39mself\u001b[39m\u001b[39m.\u001b[39m_timeout_occurred \u001b[39m=\u001b[39m \u001b[39mTrue\u001b[39;00m\n",
      "\u001b[0;31mKeyboardInterrupt\u001b[0m: "
     ]
    }
   ],
   "source": [
    "full_quantile.where(F.col('Potential_Outlier') == True).count()"
   ]
  },
  {
   "cell_type": "markdown",
   "metadata": {},
   "source": [
    "### Description analysis"
   ]
  },
  {
   "cell_type": "code",
   "execution_count": null,
   "metadata": {},
   "outputs": [
    {
     "name": "stderr",
     "output_type": "stream",
     "text": [
      "                                                                                \r"
     ]
    }
   ],
   "source": [
    "full_dataset.createOrReplaceTempView('data')\n",
    "cFraud.createOrReplaceTempView('fraud')\n",
    "dataset = sp.sql(\"\"\"\n",
    "select Description, avg(fraud_probability) as description_avg from data, fraud where (fraud.user_id == data.user_id) AND (fraud.order_datetime == data.order_datetime)\n",
    "group by Description\"\"\")\n",
    "dataset_pd = dataset.toPandas()"
   ]
  },
  {
   "cell_type": "code",
   "execution_count": null,
   "metadata": {},
   "outputs": [],
   "source": [
    "tag_word = np.array([tag.split()[0] for tag in dataset_pd.Description])\n",
    "df1 = pd.DataFrame(tag_word, dataset_pd.description_avg)"
   ]
  },
  {
   "cell_type": "code",
   "execution_count": null,
   "metadata": {},
   "outputs": [
    {
     "data": {
      "text/plain": [
       "<AxesSubplot:xlabel='0', ylabel='description_avg'>"
      ]
     },
     "execution_count": 47,
     "metadata": {},
     "output_type": "execute_result"
    },
    {
     "data": {
      "image/png": "[encoded data removed]",
      "text/plain": [
       "<Figure size 432x288 with 1 Axes>"
      ]
     },
     "metadata": {},
     "output_type": "display_data"
    }
   ],
   "source": [
    "plt.xticks(rotation=90)\n",
    "sns.lineplot(x=df1[0], y=df1.index)\n"
   ]
  },
  {
   "cell_type": "markdown",
   "metadata": {},
   "source": [
    "We can see from the above graph that jewellery companies have a higher average fraud probability followed by antique. Both of them are sectors with high dollar value. Fraud in such companies have been found in past literature (), and our analysis verifies the same."
   ]
  },
  {
   "cell_type": "code",
   "execution_count": null,
   "metadata": {},
   "outputs": [],
   "source": [
    "dataset.createOrReplaceTempView('fraud')\n",
    "dataset = sp.sql(\"\"\"\n",
    "select * from data, fraud where fraud.Description == data.Description\"\"\")"
   ]
  },
  {
   "cell_type": "code",
   "execution_count": null,
   "metadata": {},
   "outputs": [],
   "source": [
    "Administrative_Support_Services= [\"equipment tool furniture appliance rent al leasing\", \"florist supply nursery stock flower\", \"lawn garden supply outlet including nursery\"]\n",
    "\n",
    "Personal_Services= [\"shoe shop\", \"gift card novelty souvenir shop\", \"antique shop sale repair restoration service\", \"watch clock jewellery repair shop\", \"jewellery watch clock silverware shop\",  \"motor vehicle supply new part\", \"furniture home furnishing equipment shop manufa...\", \"tent awning shop\", \"optician optical good eyeglass\"]\n",
    "\n",
    "Arts_Recreation_Services = [\"digital good book movie music\", \"music shop musical instrument piano sheet music\", \"health beauty spa\", \"bicycle shop sale service\", \"art dealer gallery\", \"hobby toy game shop\", \"stationery office supply printing writing paper\"]\n",
    "\n",
    "Information_Media_Telecommunications = [\"telecom\", \"computer programming data processing integrated...\", \"book periodical newspaper\", \"artist supply craft shop\", \"computer computer peripheral equipment software\", \"cable satellite pay television radio service\"]\n",
    "\n",
    "desc = []\n",
    "tags = []\n",
    "for ele in Administrative_Support_Services:\n",
    "    desc.append(\"Administrative_Support_Services\")\n",
    "tags += Administrative_Support_Services\n",
    "for ele in Personal_Services:\n",
    "    desc.append(\"Personal_Services\")\n",
    "tags += Personal_Services\n",
    "for ele in Arts_Recreation_Services:\n",
    "    desc.append(\"Arts_Recreation_Services\")\n",
    "tags += Arts_Recreation_Services\n",
    "for ele in Information_Media_Telecommunications:\n",
    "    desc.append(\"Information_Media_Telecommunications\")\n",
    "tags += Information_Media_Telecommunications\n",
    "\n",
    "to_df = {\n",
    "    \"sector\" :  desc,\n",
    "    \"Description\" : tags\n",
    "}\n",
    "sectors = sp.createDataFrame(pd.DataFrame(to_df))\n",
    "dataset_sect = dataset.join(sectors, ['Description'])\n",
    "dataset_sect.createOrReplaceTempView('data')\n",
    "dataset_sect_final = dataset_sect.join(sp.sql(\"\"\"select sector, avg(description_avg) as sector_avg from data group by sector\"\"\"), ['sector'])"
   ]
  },
  {
   "cell_type": "code",
   "execution_count": null,
   "metadata": {},
   "outputs": [],
   "source": [
    "sect_avg = sp.sql(\"\"\"select sector, avg(description_avg) as sector_avg from data group by sector\"\"\")"
   ]
  },
  {
   "cell_type": "code",
   "execution_count": null,
   "metadata": {},
   "outputs": [
    {
     "name": "stderr",
     "output_type": "stream",
     "text": [
      "[Stage 91:>                                                         (0 + 5) / 5]\r"
     ]
    },
    {
     "name": "stdout",
     "output_type": "stream",
     "text": [
      "22/10/06 04:09:08 WARN RowBasedKeyValueBatch: Calling spill() on RowBasedKeyValueBatch. Will not spill but return 0.\n",
      "22/10/06 04:09:08 WARN RowBasedKeyValueBatch: Calling spill() on RowBasedKeyValueBatch. Will not spill but return 0.\n",
      "22/10/06 04:09:08 WARN RowBasedKeyValueBatch: Calling spill() on RowBasedKeyValueBatch. Will not spill but return 0.\n",
      "22/10/06 04:09:09 WARN RowBasedKeyValueBatch: Calling spill() on RowBasedKeyValueBatch. Will not spill but return 0.\n",
      "22/10/06 04:09:09 WARN RowBasedKeyValueBatch: Calling spill() on RowBasedKeyValueBatch. Will not spill but return 0.\n",
      "22/10/06 04:09:09 WARN RowBasedKeyValueBatch: Calling spill() on RowBasedKeyValueBatch. Will not spill but return 0.\n",
      "22/10/06 04:09:10 WARN RowBasedKeyValueBatch: Calling spill() on RowBasedKeyValueBatch. Will not spill but return 0.\n",
      "22/10/06 04:09:10 WARN RowBasedKeyValueBatch: Calling spill() on RowBasedKeyValueBatch. Will not spill but return 0.\n",
      "22/10/06 04:09:10 WARN RowBasedKeyValueBatch: Calling spill() on RowBasedKeyValueBatch. Will not spill but return 0.\n",
      "22/10/06 04:09:10 WARN RowBasedKeyValueBatch: Calling spill() on RowBasedKeyValueBatch. Will not spill but return 0.\n",
      "22/10/06 04:09:11 WARN RowBasedKeyValueBatch: Calling spill() on RowBasedKeyValueBatch. Will not spill but return 0.\n",
      "22/10/06 04:09:12 WARN RowBasedKeyValueBatch: Calling spill() on RowBasedKeyValueBatch. Will not spill but return 0.\n",
      "22/10/06 04:09:12 WARN RowBasedKeyValueBatch: Calling spill() on RowBasedKeyValueBatch. Will not spill but return 0.\n",
      "22/10/06 04:09:12 WARN RowBasedKeyValueBatch: Calling spill() on RowBasedKeyValueBatch. Will not spill but return 0.\n",
      "22/10/06 04:09:12 WARN RowBasedKeyValueBatch: Calling spill() on RowBasedKeyValueBatch. Will not spill but return 0.\n",
      "22/10/06 04:09:13 WARN RowBasedKeyValueBatch: Calling spill() on RowBasedKeyValueBatch. Will not spill but return 0.\n",
      "22/10/06 04:09:13 WARN RowBasedKeyValueBatch: Calling spill() on RowBasedKeyValueBatch. Will not spill but return 0.\n",
      "22/10/06 04:09:13 WARN RowBasedKeyValueBatch: Calling spill() on RowBasedKeyValueBatch. Will not spill but return 0.\n",
      "22/10/06 04:09:14 WARN RowBasedKeyValueBatch: Calling spill() on RowBasedKeyValueBatch. Will not spill but return 0.\n",
      "22/10/06 04:09:14 WARN RowBasedKeyValueBatch: Calling spill() on RowBasedKeyValueBatch. Will not spill but return 0.\n",
      "22/10/06 04:09:15 WARN RowBasedKeyValueBatch: Calling spill() on RowBasedKeyValueBatch. Will not spill but return 0.\n"
     ]
    },
    {
     "name": "stderr",
     "output_type": "stream",
     "text": [
      "                                                                                \r"
     ]
    },
    {
     "data": {
      "text/plain": [
       "<AxesSubplot:xlabel='sector', ylabel='sector_avg'>"
      ]
     },
     "execution_count": 51,
     "metadata": {},
     "output_type": "execute_result"
    },
    {
     "data": {
      "image/png": "[encoded data removed]",
      "text/plain": [
       "<Figure size 432x288 with 1 Axes>"
      ]
     },
     "metadata": {},
     "output_type": "display_data"
    }
   ],
   "source": [
    "sect_avg = sect_avg.toPandas()\n",
    "\n",
    "plt.xticks(rotation=90)\n",
    "sns.lineplot(x=sect_avg.sector, y=sect_avg.sector_avg)"
   ]
  },
  {
   "cell_type": "markdown",
   "metadata": {},
   "source": [
    "Our analysis is futher supported by the graph above which shows personal services like antiques, watch and jewellery have higher chances of being fraud."
   ]
  },
  {
   "cell_type": "code",
   "execution_count": null,
   "metadata": {},
   "outputs": [],
   "source": [
    "sec_grouped = dataset_sect_final.groupBy(\"sector\").sum(\"dollar_value\")"
   ]
  },
  {
   "cell_type": "code",
   "execution_count": null,
   "metadata": {},
   "outputs": [
    {
     "name": "stderr",
     "output_type": "stream",
     "text": [
      "                                                                                \r"
     ]
    },
    {
     "data": {
      "text/plain": [
       "11561600"
      ]
     },
     "execution_count": 59,
     "metadata": {},
     "output_type": "execute_result"
    }
   ],
   "source": [
    "dataset_sect_final.count()"
   ]
  },
  {
   "cell_type": "markdown",
   "metadata": {},
   "source": [
    "### Postcode Transaction analysis\n",
    "The objective of this section is to verify if a customer's details have been recorded correctly"
   ]
  },
  {
   "cell_type": "code",
   "execution_count": null,
   "metadata": {},
   "outputs": [],
   "source": [
    "dataset = sp.read.parquet('../data/curated/full_dataset/')"
   ]
  },
  {
   "cell_type": "markdown",
   "metadata": {},
   "source": [
    "### Customer & Merchant fraud probabilities"
   ]
  },
  {
   "cell_type": "code",
   "execution_count": null,
   "metadata": {},
   "outputs": [],
   "source": [
    "from pyspark.sql.types import DoubleType\n",
    "\n",
    "cFraud = sp.read.option(\"header\", True).csv(\"../data/tables/consumer_fraud_probability.csv\")\n",
    "cFraud = cFraud.withColumn(\"c_fraud_prob\", col(\"fraud_probability\").cast(DoubleType())).drop(\"fraud_probability\")\n",
    "\n",
    "mFraud = sp.read.option(\"header\", True).csv(\"../data/tables/merchant_fraud_probability.csv\")\n",
    "mFraud = mFraud.withColumn(\"m_fraud_prob\", col(\"fraud_probability\").cast(DoubleType())).drop(\"fraud_probability\")"
   ]
  },
  {
   "cell_type": "markdown",
   "metadata": {},
   "source": [
    "Add merchant and customer fraud probabilities as new columns to transactions"
   ]
  },
  {
   "cell_type": "code",
   "execution_count": null,
   "metadata": {},
   "outputs": [],
   "source": [
    "trans_mc = transactions.join(mFraud, ['merchant_abn', 'order_datetime']) \n",
    "trans_mc = trans_mc.join(cFraud, ['user_id', 'order_datetime']) "
   ]
  },
  {
   "cell_type": "code",
   "execution_count": null,
   "metadata": {},
   "outputs": [
    {
     "name": "stderr",
     "output_type": "stream",
     "text": [
      "                                                                                \r"
     ]
    },
    {
     "name": "stdout",
     "output_type": "stream",
     "text": [
      "Number of rows after join:  440\n"
     ]
    },
    {
     "name": "stderr",
     "output_type": "stream",
     "text": [
      "[Stage 46:=====================================================>  (19 + 1) / 20]\r"
     ]
    },
    {
     "name": "stdout",
     "output_type": "stream",
     "text": [
      "+-------+--------------+------------+------------------+--------------------+-----------------+------------------+\n",
      "|user_id|order_datetime|merchant_abn|      dollar_value|            order_id|     m_fraud_prob|      c_fraud_prob|\n",
      "+-------+--------------+------------+------------------+--------------------+-----------------+------------------+\n",
      "|   3101|    2021-04-17| 91880575299|105193.88578925544|2ab65c8f-11b2-41c...|32.99497823665355| 91.42192091901347|\n",
      "|  19453|    2021-03-25| 83199298021|13887.358607198637|4d1ee9ac-2858-46d...|69.08556869902988|24.695211222609117|\n",
      "|   2550|    2021-03-25| 83199298021| 37808.99908305577|bf73265f-fcd0-4f0...|69.08556869902988|55.876832987364644|\n",
      "+-------+--------------+------------+------------------+--------------------+-----------------+------------------+\n",
      "only showing top 3 rows\n",
      "\n"
     ]
    },
    {
     "name": "stderr",
     "output_type": "stream",
     "text": [
      "                                                                                \r"
     ]
    }
   ],
   "source": [
    "print(\"Number of rows after join: \", trans_mc.count())\n",
    "trans_mc.show(3)"
   ]
  },
  {
   "cell_type": "code",
   "execution_count": null,
   "metadata": {},
   "outputs": [
    {
     "name": "stderr",
     "output_type": "stream",
     "text": [
      "[Stage 49:=====================================================>  (25 + 1) / 26]\r"
     ]
    },
    {
     "name": "stdout",
     "output_type": "stream",
     "text": [
      "+------------+------------------+--------------+------------------+----------+\n",
      "|merchant_abn|      m_fraud_prob|order_datetime|    avg_cust_fraud|cust_count|\n",
      "+------------+------------------+--------------+------------------+----------+\n",
      "| 91880575299| 32.99497823665355|    2021-04-17| 91.42192091901347|         1|\n",
      "| 83199298021| 69.08556869902988|    2021-03-25|40.286022104986884|         2|\n",
      "| 21439773999|28.504479048104585|    2021-11-26|16.901131702270927|        11|\n",
      "| 43083074133| 48.66890735193894|    2021-12-18| 71.74055115445599|         3|\n",
      "| 48534649627| 28.36052168812278|    2021-11-29|17.002857681418757|         6|\n",
      "+------------+------------------+--------------+------------------+----------+\n",
      "only showing top 5 rows\n",
      "\n"
     ]
    },
    {
     "name": "stderr",
     "output_type": "stream",
     "text": [
      "                                                                                \r"
     ]
    }
   ],
   "source": [
    "# compute avg customer fraud probabilities for each merchant\n",
    "agg_probability = trans_mc \\\n",
    "    .groupBy('merchant_abn', 'm_fraud_prob', 'order_datetime') \\\n",
    "    .agg(F.mean('c_fraud_prob'), F.count('c_fraud_prob')) \\\n",
    "    .withColumnRenamed('avg(c_fraud_prob)', 'avg_cust_fraud') \\\n",
    "    .withColumnRenamed('count(c_fraud_prob)', 'cust_count')\n",
    "agg_probability.show(5)"
   ]
  },
  {
   "cell_type": "code",
   "execution_count": null,
   "metadata": {},
   "outputs": [
    {
     "name": "stderr",
     "output_type": "stream",
     "text": [
      "                                                                                \r"
     ]
    },
    {
     "data": {
      "text/plain": [
       "<AxesSubplot:xlabel='m_fraud_prob', ylabel='avg_cust_fraud'>"
      ]
     },
     "execution_count": 28,
     "metadata": {},
     "output_type": "execute_result"
    },
    {
     "data": {
      "image/png": "[encoded data removed]",
      "text/plain": [
       "<Figure size 432x288 with 1 Axes>"
      ]
     },
     "metadata": {},
     "output_type": "display_data"
    }
   ],
   "source": [
    "pandas_df = agg_probability.toPandas()\n",
    "\n",
    "sns.set_style(\"darkgrid\")\n",
    "sns.set_palette(\"PuBu_r\")\n",
    "sns.scatterplot(data=pandas_df, x='m_fraud_prob', y='avg_cust_fraud')"
   ]
  },
  {
   "cell_type": "markdown",
   "metadata": {},
   "source": [
    "Analyse number of transactions made by fraudulent customers"
   ]
  },
  {
   "cell_type": "code",
   "execution_count": null,
   "metadata": {},
   "outputs": [
    {
     "name": "stderr",
     "output_type": "stream",
     "text": [
      "                                                                                \r"
     ]
    },
    {
     "data": {
      "text/plain": [
       "80560"
      ]
     },
     "execution_count": 30,
     "metadata": {},
     "output_type": "execute_result"
    }
   ],
   "source": [
    "joined = cFraud.join(transactions, \n",
    "                    [\"user_id\", \"order_datetime\"])\n",
    "joined.count()"
   ]
  },
  {
   "cell_type": "code",
   "execution_count": null,
   "metadata": {},
   "outputs": [
    {
     "name": "stderr",
     "output_type": "stream",
     "text": [
      "                                                                                \r"
     ]
    }
   ],
   "source": [
    "pie_chart = joined.groupBy(\"user_id\").count().withColumnRenamed(\"count\", \"Num Trans\").groupBy(\"Num Trans\").count().toPandas()\n",
    "pie_chart.sort_values(by='Num Trans', inplace=True)"
   ]
  },
  {
   "cell_type": "code",
   "execution_count": null,
   "metadata": {},
   "outputs": [
    {
     "data": {
      "image/png": "[encoded data removed]",
      "text/plain": [
       "<Figure size 432x288 with 1 Axes>"
      ]
     },
     "metadata": {},
     "output_type": "display_data"
    }
   ],
   "source": [
    "plt.pie(x=pie_chart[\"count\"], labels=pie_chart[\"Num Trans\"])\n",
    "plt.show()"
   ]
  },
  {
   "cell_type": "markdown",
   "metadata": {},
   "source": [
    "### Transactions with unknown merchants"
   ]
  },
  {
   "cell_type": "code",
   "execution_count": null,
   "metadata": {},
   "outputs": [
    {
     "name": "stdout",
     "output_type": "stream",
     "text": [
      "Distinct merchants in the merchand fraud data:\n",
      "+----------------------------+\n",
      "|count(DISTINCT merchant_abn)|\n",
      "+----------------------------+\n",
      "|                          61|\n",
      "+----------------------------+\n",
      "\n",
      "Distinct merchants in the transactions data:\n"
     ]
    },
    {
     "name": "stderr",
     "output_type": "stream",
     "text": [
      "                                                                                \r"
     ]
    },
    {
     "name": "stdout",
     "output_type": "stream",
     "text": [
      "+----------------------------+\n",
      "|count(DISTINCT merchant_abn)|\n",
      "+----------------------------+\n",
      "|                        4422|\n",
      "+----------------------------+\n",
      "\n",
      "Distinct merchants in merchant table:\n",
      "+----------------------------+\n",
      "|count(DISTINCT merchant_abn)|\n",
      "+----------------------------+\n",
      "|                        4026|\n",
      "+----------------------------+\n",
      "\n"
     ]
    }
   ],
   "source": [
    "print(\"Distinct merchants in the merchand fraud data:\")\n",
    "mFraud.select(countDistinct('merchant_abn')).show()\n",
    "\n",
    "print(\"Distinct merchants in the transactions data:\")\n",
    "transactions.select(countDistinct('merchant_abn')).show()\n",
    "\n",
    "print(\"Distinct merchants in merchant table:\")\n",
    "merchants.select(countDistinct('merchant_abn')).show()"
   ]
  },
  {
   "cell_type": "code",
   "execution_count": null,
   "metadata": {},
   "outputs": [
    {
     "name": "stderr",
     "output_type": "stream",
     "text": [
      "[Stage 94:===================================================>    (24 + 2) / 26]\r"
     ]
    },
    {
     "name": "stdout",
     "output_type": "stream",
     "text": [
      "Total unidentified merchants:  396\n"
     ]
    },
    {
     "name": "stderr",
     "output_type": "stream",
     "text": [
      "                                                                                \r"
     ]
    }
   ],
   "source": [
    "diff = transactions.select(col('merchant_abn')).subtract(merchants.select(col('merchant_abn')))\n",
    "print(\"Total unidentified merchants: \", diff.count())"
   ]
  },
  {
   "cell_type": "code",
   "execution_count": null,
   "metadata": {},
   "outputs": [
    {
     "name": "stderr",
     "output_type": "stream",
     "text": [
      "                                                                                \r"
     ]
    },
    {
     "name": "stdout",
     "output_type": "stream",
     "text": [
      "Transactions with unidentified merchants 580830\n"
     ]
    },
    {
     "name": "stderr",
     "output_type": "stream",
     "text": [
      "                                                                                \r"
     ]
    },
    {
     "name": "stdout",
     "output_type": "stream",
     "text": [
      "Total dollar value of such transactions:  202648153.7429202\n"
     ]
    },
    {
     "name": "stderr",
     "output_type": "stream",
     "text": [
      "                                                                                \r"
     ]
    },
    {
     "name": "stdout",
     "output_type": "stream",
     "text": [
      "Average dollar value of such transactions:  348.89408905001494\n",
      "+-------+------------+------------------+--------------------+--------------+\n",
      "|user_id|merchant_abn|      dollar_value|            order_id|order_datetime|\n",
      "+-------+------------+------------------+--------------------+--------------+\n",
      "|      8| 29566626791| 74.15732460440282|71a81652-cc91-4bf...|    2021-08-20|\n",
      "|  18490| 32234779638|107.14809429376949|20149572-a55b-41f...|    2021-08-20|\n",
      "|     20| 67202032418| 55.46394975814555|a29071b4-29b3-4f2...|    2021-08-20|\n",
      "+-------+------------+------------------+--------------------+--------------+\n",
      "only showing top 3 rows\n",
      "\n"
     ]
    }
   ],
   "source": [
    "diff_list = diff.rdd.map(lambda x: x.merchant_abn).collect()\n",
    "diff_df = transactions[transactions.merchant_abn.isin(diff_list)]\n",
    "\n",
    "print(\"Transactions with unidentified merchants\", diff_df.count())\n",
    "print(\"Total dollar value of such transactions: \", diff_df.agg(F.sum(\"dollar_value\")).collect()[0][0])\n",
    "\n",
    "print(\"Average dollar value of such transactions: \", diff_df.agg(F.mean(\"dollar_value\")).collect()[0][0])\n",
    "\n",
    "diff_df.show(3)"
   ]
  },
  {
   "cell_type": "code",
   "execution_count": 6,
   "metadata": {},
   "outputs": [
    {
     "name": "stderr",
     "output_type": "stream",
     "text": [
      "                                                                                \r"
     ]
    }
   ],
   "source": [
    "tax_income = utils.read_tables(sp, \"tax_income\", \"c\")"
   ]
  },
  {
   "cell_type": "code",
   "execution_count": 26,
   "metadata": {},
   "outputs": [
    {
     "name": "stdout",
     "output_type": "stream",
     "text": [
      "root\n",
      " |-- Postcode: integer (nullable = true)\n",
      " |-- Number of individuals lodging an income tax return: integer (nullable = true)\n",
      " |-- Count taxable income or loss: integer (nullable = true)\n",
      " |-- Average taxable income or loss: integer (nullable = true)\n",
      " |-- Median taxable income or loss: integer (nullable = true)\n",
      " |-- Proportion with salary or wages: double (nullable = true)\n",
      " |-- Count salary or wages: integer (nullable = true)\n",
      " |-- Average salary or wages: integer (nullable = true)\n",
      " |-- Median salary or wages: integer (nullable = true)\n",
      " |-- Proportion with net rent: double (nullable = true)\n",
      " |-- Count net rent: integer (nullable = true)\n",
      " |-- Average net rent: integer (nullable = true)\n",
      " |-- Median net rent: integer (nullable = true)\n",
      " |-- Count total income or loss: integer (nullable = true)\n",
      " |-- Average total income or loss: integer (nullable = true)\n",
      " |-- Median total income or loss: integer (nullable = true)\n",
      " |-- Count total deductions: integer (nullable = true)\n",
      " |-- Average total deductions: integer (nullable = true)\n",
      " |-- Median total deductions: integer (nullable = true)\n",
      " |-- Proportion with total business income: double (nullable = true)\n",
      " |-- Count total business income: integer (nullable = true)\n",
      " |-- Average total business income: integer (nullable = true)\n",
      " |-- Median total business income: integer (nullable = true)\n",
      " |-- Proportion with total business expenses: double (nullable = true)\n",
      " |-- Count total business expenses: integer (nullable = true)\n",
      " |-- Average total business expenses: integer (nullable = true)\n",
      " |-- Median total business expenses: integer (nullable = true)\n",
      " |-- Proportion with net tax: double (nullable = true)\n",
      " |-- Count net tax: integer (nullable = true)\n",
      " |-- Average net tax: integer (nullable = true)\n",
      " |-- Median net tax: integer (nullable = true)\n",
      " |-- Count super total accounts balance: integer (nullable = true)\n",
      " |-- Average super total accounts balance: integer (nullable = true)\n",
      " |-- Median super total accounts balance: integer (nullable = true)\n",
      "\n",
      "2473\n"
     ]
    }
   ],
   "source": [
    "tax_income.printSchema()\n",
    "print(tax_income.count())\n",
    "tax_df = tax_income.toPandas()"
   ]
  },
  {
   "cell_type": "code",
   "execution_count": 9,
   "metadata": {},
   "outputs": [
    {
     "data": {
      "text/plain": [
       "<AxesSubplot:xlabel='Average total business income', ylabel='Count'>"
      ]
     },
     "execution_count": 9,
     "metadata": {},
     "output_type": "execute_result"
    },
    {
     "data": {
      "image/png": "[encoded data removed]",
      "text/plain": [
       "<Figure size 432x288 with 1 Axes>"
      ]
     },
     "metadata": {
      "needs_background": "light"
     },
     "output_type": "display_data"
    }
   ],
   "source": [
    "sns.histplot(data = tax_df, x = \"Average total business income\")"
   ]
  },
  {
   "cell_type": "code",
   "execution_count": 10,
   "metadata": {},
   "outputs": [
    {
     "data": {
      "text/plain": [
       "<AxesSubplot:xlabel='Median total business income', ylabel='Count'>"
      ]
     },
     "execution_count": 10,
     "metadata": {},
     "output_type": "execute_result"
    },
    {
     "data": {
      "image/png": "[encoded data removed]",
      "text/plain": [
       "<Figure size 432x288 with 1 Axes>"
      ]
     },
     "metadata": {
      "needs_background": "light"
     },
     "output_type": "display_data"
    }
   ],
   "source": [
    "sns.histplot(data = tax_df, x = \"Median total business income\")"
   ]
  },
  {
   "cell_type": "code",
   "execution_count": 12,
   "metadata": {},
   "outputs": [
    {
     "data": {
      "text/plain": [
       "<AxesSubplot:xlabel='business_income_rate', ylabel='Count'>"
      ]
     },
     "execution_count": 12,
     "metadata": {},
     "output_type": "execute_result"
    },
    {
     "data": {
      "image/png": "[encoded data removed]",
      "text/plain": [
       "<Figure size 432x288 with 1 Axes>"
      ]
     },
     "metadata": {
      "needs_background": "light"
     },
     "output_type": "display_data"
    }
   ],
   "source": [
    "tax_df[\"business_income_rate\"] = tax_df[\"Median total business income\"] / tax_df[\"Average total business income\"]\n",
    "sns.histplot(data = tax_df, x = \"business_income_rate\")"
   ]
  },
  {
   "cell_type": "code",
   "execution_count": 17,
   "metadata": {},
   "outputs": [
    {
     "data": {
      "text/html": [
       "<div>\n",
       "<style scoped>\n",
       "    .dataframe tbody tr th:only-of-type {\n",
       "        vertical-align: middle;\n",
       "    }\n",
       "\n",
       "    .dataframe tbody tr th {\n",
       "        vertical-align: top;\n",
       "    }\n",
       "\n",
       "    .dataframe thead th {\n",
       "        text-align: right;\n",
       "    }\n",
       "</style>\n",
       "<table border=\"1\" class=\"dataframe\">\n",
       "  <thead>\n",
       "    <tr style=\"text-align: right;\">\n",
       "      <th></th>\n",
       "      <th>Postcode</th>\n",
       "      <th>Number of individuals lodging an income tax return</th>\n",
       "      <th>Count taxable income or loss</th>\n",
       "      <th>Average taxable income or loss</th>\n",
       "      <th>Median taxable income or loss</th>\n",
       "      <th>Proportion with salary or wages</th>\n",
       "      <th>Count salary or wages</th>\n",
       "      <th>Average salary or wages</th>\n",
       "      <th>Median salary or wages</th>\n",
       "      <th>Proportion with net rent</th>\n",
       "      <th>...</th>\n",
       "      <th>Average total business expenses</th>\n",
       "      <th>Median total business expenses</th>\n",
       "      <th>Proportion with net tax</th>\n",
       "      <th>Count net tax</th>\n",
       "      <th>Average net tax</th>\n",
       "      <th>Median net tax</th>\n",
       "      <th>Count super total accounts balance</th>\n",
       "      <th>Average super total accounts balance</th>\n",
       "      <th>Median super total accounts balance</th>\n",
       "      <th>business_income_rate</th>\n",
       "    </tr>\n",
       "  </thead>\n",
       "  <tbody>\n",
       "    <tr>\n",
       "      <th>51</th>\n",
       "      <td>2030</td>\n",
       "      <td>9888</td>\n",
       "      <td>9888</td>\n",
       "      <td>186025</td>\n",
       "      <td>74350</td>\n",
       "      <td>0.64</td>\n",
       "      <td>6327</td>\n",
       "      <td>111863</td>\n",
       "      <td>61880</td>\n",
       "      <td>0.24</td>\n",
       "      <td>...</td>\n",
       "      <td>346121</td>\n",
       "      <td>17612</td>\n",
       "      <td>0.81</td>\n",
       "      <td>8023</td>\n",
       "      <td>83149</td>\n",
       "      <td>22416</td>\n",
       "      <td>10703</td>\n",
       "      <td>540049</td>\n",
       "      <td>84079</td>\n",
       "      <td>0.102754</td>\n",
       "    </tr>\n",
       "    <tr>\n",
       "      <th>429</th>\n",
       "      <td>2564</td>\n",
       "      <td>7147</td>\n",
       "      <td>7147</td>\n",
       "      <td>49257</td>\n",
       "      <td>44574</td>\n",
       "      <td>0.85</td>\n",
       "      <td>6043</td>\n",
       "      <td>53185</td>\n",
       "      <td>49570</td>\n",
       "      <td>0.11</td>\n",
       "      <td>...</td>\n",
       "      <td>1173535</td>\n",
       "      <td>12426</td>\n",
       "      <td>0.75</td>\n",
       "      <td>5360</td>\n",
       "      <td>12071</td>\n",
       "      <td>9110</td>\n",
       "      <td>8253</td>\n",
       "      <td>68072</td>\n",
       "      <td>25558</td>\n",
       "      <td>0.022795</td>\n",
       "    </tr>\n",
       "    <tr>\n",
       "      <th>773</th>\n",
       "      <td>3142</td>\n",
       "      <td>9970</td>\n",
       "      <td>9970</td>\n",
       "      <td>184939</td>\n",
       "      <td>70009</td>\n",
       "      <td>0.60</td>\n",
       "      <td>6002</td>\n",
       "      <td>99544</td>\n",
       "      <td>60000</td>\n",
       "      <td>0.18</td>\n",
       "      <td>...</td>\n",
       "      <td>446095</td>\n",
       "      <td>18300</td>\n",
       "      <td>0.80</td>\n",
       "      <td>7969</td>\n",
       "      <td>86102</td>\n",
       "      <td>21302</td>\n",
       "      <td>10711</td>\n",
       "      <td>860530</td>\n",
       "      <td>94537</td>\n",
       "      <td>0.077936</td>\n",
       "    </tr>\n",
       "    <tr>\n",
       "      <th>1023</th>\n",
       "      <td>3520</td>\n",
       "      <td>50</td>\n",
       "      <td>50</td>\n",
       "      <td>34839</td>\n",
       "      <td>29091</td>\n",
       "      <td>0.60</td>\n",
       "      <td>30</td>\n",
       "      <td>37487</td>\n",
       "      <td>34651</td>\n",
       "      <td>0.04</td>\n",
       "      <td>...</td>\n",
       "      <td>545194</td>\n",
       "      <td>82514</td>\n",
       "      <td>0.62</td>\n",
       "      <td>31</td>\n",
       "      <td>7083</td>\n",
       "      <td>6614</td>\n",
       "      <td>65</td>\n",
       "      <td>43488</td>\n",
       "      <td>22756</td>\n",
       "      <td>0.050736</td>\n",
       "    </tr>\n",
       "    <tr>\n",
       "      <th>1319</th>\n",
       "      <td>4007</td>\n",
       "      <td>10757</td>\n",
       "      <td>10757</td>\n",
       "      <td>107948</td>\n",
       "      <td>62321</td>\n",
       "      <td>0.77</td>\n",
       "      <td>8260</td>\n",
       "      <td>85285</td>\n",
       "      <td>62238</td>\n",
       "      <td>0.16</td>\n",
       "      <td>...</td>\n",
       "      <td>800340</td>\n",
       "      <td>10846</td>\n",
       "      <td>0.82</td>\n",
       "      <td>8800</td>\n",
       "      <td>41093</td>\n",
       "      <td>16255</td>\n",
       "      <td>11670</td>\n",
       "      <td>295660</td>\n",
       "      <td>66409</td>\n",
       "      <td>0.034128</td>\n",
       "    </tr>\n",
       "    <tr>\n",
       "      <th>1404</th>\n",
       "      <td>4163</td>\n",
       "      <td>9645</td>\n",
       "      <td>9645</td>\n",
       "      <td>72615</td>\n",
       "      <td>48117</td>\n",
       "      <td>0.73</td>\n",
       "      <td>7024</td>\n",
       "      <td>65650</td>\n",
       "      <td>52707</td>\n",
       "      <td>0.15</td>\n",
       "      <td>...</td>\n",
       "      <td>534521</td>\n",
       "      <td>10564</td>\n",
       "      <td>0.74</td>\n",
       "      <td>7132</td>\n",
       "      <td>25462</td>\n",
       "      <td>11964</td>\n",
       "      <td>10794</td>\n",
       "      <td>233375</td>\n",
       "      <td>81207</td>\n",
       "      <td>0.047151</td>\n",
       "    </tr>\n",
       "    <tr>\n",
       "      <th>1799</th>\n",
       "      <td>5090</td>\n",
       "      <td>4359</td>\n",
       "      <td>4359</td>\n",
       "      <td>49708</td>\n",
       "      <td>44981</td>\n",
       "      <td>0.75</td>\n",
       "      <td>3258</td>\n",
       "      <td>54887</td>\n",
       "      <td>51525</td>\n",
       "      <td>0.11</td>\n",
       "      <td>...</td>\n",
       "      <td>1003354</td>\n",
       "      <td>11672</td>\n",
       "      <td>0.74</td>\n",
       "      <td>3222</td>\n",
       "      <td>12289</td>\n",
       "      <td>9181</td>\n",
       "      <td>4745</td>\n",
       "      <td>119962</td>\n",
       "      <td>64455</td>\n",
       "      <td>0.026311</td>\n",
       "    </tr>\n",
       "    <tr>\n",
       "      <th>2124</th>\n",
       "      <td>6108</td>\n",
       "      <td>13519</td>\n",
       "      <td>13519</td>\n",
       "      <td>53312</td>\n",
       "      <td>45707</td>\n",
       "      <td>0.80</td>\n",
       "      <td>10844</td>\n",
       "      <td>58935</td>\n",
       "      <td>52914</td>\n",
       "      <td>0.12</td>\n",
       "      <td>...</td>\n",
       "      <td>486067</td>\n",
       "      <td>11768</td>\n",
       "      <td>0.74</td>\n",
       "      <td>9965</td>\n",
       "      <td>14455</td>\n",
       "      <td>10394</td>\n",
       "      <td>15548</td>\n",
       "      <td>96250</td>\n",
       "      <td>44376</td>\n",
       "      <td>0.057472</td>\n",
       "    </tr>\n",
       "    <tr>\n",
       "      <th>2244</th>\n",
       "      <td>6359</td>\n",
       "      <td>307</td>\n",
       "      <td>307</td>\n",
       "      <td>56992</td>\n",
       "      <td>45952</td>\n",
       "      <td>0.54</td>\n",
       "      <td>167</td>\n",
       "      <td>42002</td>\n",
       "      <td>39289</td>\n",
       "      <td>0.13</td>\n",
       "      <td>...</td>\n",
       "      <td>400004</td>\n",
       "      <td>17311</td>\n",
       "      <td>0.72</td>\n",
       "      <td>221</td>\n",
       "      <td>17665</td>\n",
       "      <td>11067</td>\n",
       "      <td>333</td>\n",
       "      <td>169809</td>\n",
       "      <td>31548</td>\n",
       "      <td>0.105417</td>\n",
       "    </tr>\n",
       "    <tr>\n",
       "      <th>2269</th>\n",
       "      <td>6423</td>\n",
       "      <td>93</td>\n",
       "      <td>93</td>\n",
       "      <td>51620</td>\n",
       "      <td>43363</td>\n",
       "      <td>0.63</td>\n",
       "      <td>59</td>\n",
       "      <td>59197</td>\n",
       "      <td>50240</td>\n",
       "      <td>0.15</td>\n",
       "      <td>...</td>\n",
       "      <td>499395</td>\n",
       "      <td>23870</td>\n",
       "      <td>0.70</td>\n",
       "      <td>65</td>\n",
       "      <td>16040</td>\n",
       "      <td>12193</td>\n",
       "      <td>102</td>\n",
       "      <td>112004</td>\n",
       "      <td>48315</td>\n",
       "      <td>0.032859</td>\n",
       "    </tr>\n",
       "    <tr>\n",
       "      <th>2274</th>\n",
       "      <td>6431</td>\n",
       "      <td>92</td>\n",
       "      <td>92</td>\n",
       "      <td>51013</td>\n",
       "      <td>36963</td>\n",
       "      <td>0.80</td>\n",
       "      <td>74</td>\n",
       "      <td>50386</td>\n",
       "      <td>39076</td>\n",
       "      <td>0.12</td>\n",
       "      <td>...</td>\n",
       "      <td>556054</td>\n",
       "      <td>80096</td>\n",
       "      <td>0.61</td>\n",
       "      <td>56</td>\n",
       "      <td>16438</td>\n",
       "      <td>11228</td>\n",
       "      <td>167</td>\n",
       "      <td>40459</td>\n",
       "      <td>3180</td>\n",
       "      <td>0.052912</td>\n",
       "    </tr>\n",
       "  </tbody>\n",
       "</table>\n",
       "<p>11 rows × 35 columns</p>\n",
       "</div>"
      ],
      "text/plain": [
       "      Postcode  Number of individuals lodging an income tax return  \\\n",
       "51        2030                                               9888    \n",
       "429       2564                                               7147    \n",
       "773       3142                                               9970    \n",
       "1023      3520                                                 50    \n",
       "1319      4007                                              10757    \n",
       "1404      4163                                               9645    \n",
       "1799      5090                                               4359    \n",
       "2124      6108                                              13519    \n",
       "2244      6359                                                307    \n",
       "2269      6423                                                 93    \n",
       "2274      6431                                                 92    \n",
       "\n",
       "      Count taxable income or loss  Average taxable income or loss  \\\n",
       "51                            9888                          186025   \n",
       "429                           7147                           49257   \n",
       "773                           9970                          184939   \n",
       "1023                            50                           34839   \n",
       "1319                         10757                          107948   \n",
       "1404                          9645                           72615   \n",
       "1799                          4359                           49708   \n",
       "2124                         13519                           53312   \n",
       "2244                           307                           56992   \n",
       "2269                            93                           51620   \n",
       "2274                            92                           51013   \n",
       "\n",
       "      Median taxable income or loss  Proportion with salary or wages  \\\n",
       "51                            74350                             0.64   \n",
       "429                           44574                             0.85   \n",
       "773                           70009                             0.60   \n",
       "1023                          29091                             0.60   \n",
       "1319                          62321                             0.77   \n",
       "1404                          48117                             0.73   \n",
       "1799                          44981                             0.75   \n",
       "2124                          45707                             0.80   \n",
       "2244                          45952                             0.54   \n",
       "2269                          43363                             0.63   \n",
       "2274                          36963                             0.80   \n",
       "\n",
       "      Count salary or wages  Average salary or wages  Median salary or wages  \\\n",
       "51                     6327                   111863                   61880   \n",
       "429                    6043                    53185                   49570   \n",
       "773                    6002                    99544                   60000   \n",
       "1023                     30                    37487                   34651   \n",
       "1319                   8260                    85285                   62238   \n",
       "1404                   7024                    65650                   52707   \n",
       "1799                   3258                    54887                   51525   \n",
       "2124                  10844                    58935                   52914   \n",
       "2244                    167                    42002                   39289   \n",
       "2269                     59                    59197                   50240   \n",
       "2274                     74                    50386                   39076   \n",
       "\n",
       "      Proportion with net rent  ...  Average total business expenses  \\\n",
       "51                        0.24  ...                           346121   \n",
       "429                       0.11  ...                          1173535   \n",
       "773                       0.18  ...                           446095   \n",
       "1023                      0.04  ...                           545194   \n",
       "1319                      0.16  ...                           800340   \n",
       "1404                      0.15  ...                           534521   \n",
       "1799                      0.11  ...                          1003354   \n",
       "2124                      0.12  ...                           486067   \n",
       "2244                      0.13  ...                           400004   \n",
       "2269                      0.15  ...                           499395   \n",
       "2274                      0.12  ...                           556054   \n",
       "\n",
       "      Median total business expenses  Proportion with net tax  Count net tax  \\\n",
       "51                             17612                     0.81           8023   \n",
       "429                            12426                     0.75           5360   \n",
       "773                            18300                     0.80           7969   \n",
       "1023                           82514                     0.62             31   \n",
       "1319                           10846                     0.82           8800   \n",
       "1404                           10564                     0.74           7132   \n",
       "1799                           11672                     0.74           3222   \n",
       "2124                           11768                     0.74           9965   \n",
       "2244                           17311                     0.72            221   \n",
       "2269                           23870                     0.70             65   \n",
       "2274                           80096                     0.61             56   \n",
       "\n",
       "      Average net tax  Median net tax  Count super total accounts balance  \\\n",
       "51              83149           22416                               10703   \n",
       "429             12071            9110                                8253   \n",
       "773             86102           21302                               10711   \n",
       "1023             7083            6614                                  65   \n",
       "1319            41093           16255                               11670   \n",
       "1404            25462           11964                               10794   \n",
       "1799            12289            9181                                4745   \n",
       "2124            14455           10394                               15548   \n",
       "2244            17665           11067                                 333   \n",
       "2269            16040           12193                                 102   \n",
       "2274            16438           11228                                 167   \n",
       "\n",
       "      Average super total accounts balance  \\\n",
       "51                                  540049   \n",
       "429                                  68072   \n",
       "773                                 860530   \n",
       "1023                                 43488   \n",
       "1319                                295660   \n",
       "1404                                233375   \n",
       "1799                                119962   \n",
       "2124                                 96250   \n",
       "2244                                169809   \n",
       "2269                                112004   \n",
       "2274                                 40459   \n",
       "\n",
       "      Median super total accounts balance  business_income_rate  \n",
       "51                                  84079              0.102754  \n",
       "429                                 25558              0.022795  \n",
       "773                                 94537              0.077936  \n",
       "1023                                22756              0.050736  \n",
       "1319                                66409              0.034128  \n",
       "1404                                81207              0.047151  \n",
       "1799                                64455              0.026311  \n",
       "2124                                44376              0.057472  \n",
       "2244                                31548              0.105417  \n",
       "2269                                48315              0.032859  \n",
       "2274                                 3180              0.052912  \n",
       "\n",
       "[11 rows x 35 columns]"
      ]
     },
     "execution_count": 17,
     "metadata": {},
     "output_type": "execute_result"
    }
   ],
   "source": [
    "tax_df[tax_df[\"Average total business income\"]>400000]"
   ]
  },
  {
   "cell_type": "code",
   "execution_count": 24,
   "metadata": {},
   "outputs": [
    {
     "data": {
      "text/html": [
       "<div>\n",
       "<style scoped>\n",
       "    .dataframe tbody tr th:only-of-type {\n",
       "        vertical-align: middle;\n",
       "    }\n",
       "\n",
       "    .dataframe tbody tr th {\n",
       "        vertical-align: top;\n",
       "    }\n",
       "\n",
       "    .dataframe thead th {\n",
       "        text-align: right;\n",
       "    }\n",
       "</style>\n",
       "<table border=\"1\" class=\"dataframe\">\n",
       "  <thead>\n",
       "    <tr style=\"text-align: right;\">\n",
       "      <th></th>\n",
       "      <th>Postcode</th>\n",
       "      <th>Number of individuals lodging an income tax return</th>\n",
       "      <th>Count taxable income or loss</th>\n",
       "      <th>Average taxable income or loss</th>\n",
       "      <th>Median taxable income or loss</th>\n",
       "      <th>Proportion with salary or wages</th>\n",
       "      <th>Count salary or wages</th>\n",
       "      <th>Average salary or wages</th>\n",
       "      <th>Median salary or wages</th>\n",
       "      <th>Proportion with net rent</th>\n",
       "      <th>...</th>\n",
       "      <th>Average total business expenses</th>\n",
       "      <th>Median total business expenses</th>\n",
       "      <th>Proportion with net tax</th>\n",
       "      <th>Count net tax</th>\n",
       "      <th>Average net tax</th>\n",
       "      <th>Median net tax</th>\n",
       "      <th>Count super total accounts balance</th>\n",
       "      <th>Average super total accounts balance</th>\n",
       "      <th>Median super total accounts balance</th>\n",
       "      <th>business_income_rate</th>\n",
       "    </tr>\n",
       "  </thead>\n",
       "  <tbody>\n",
       "    <tr>\n",
       "      <th>541</th>\n",
       "      <td>2736</td>\n",
       "      <td>228</td>\n",
       "      <td>228</td>\n",
       "      <td>48862</td>\n",
       "      <td>36835</td>\n",
       "      <td>0.74</td>\n",
       "      <td>168</td>\n",
       "      <td>43144</td>\n",
       "      <td>35464</td>\n",
       "      <td>0.09</td>\n",
       "      <td>...</td>\n",
       "      <td>270972</td>\n",
       "      <td>89398</td>\n",
       "      <td>0.68</td>\n",
       "      <td>154</td>\n",
       "      <td>15417</td>\n",
       "      <td>7977</td>\n",
       "      <td>250</td>\n",
       "      <td>103595</td>\n",
       "      <td>33285</td>\n",
       "      <td>0.402373</td>\n",
       "    </tr>\n",
       "    <tr>\n",
       "      <th>582</th>\n",
       "      <td>2791</td>\n",
       "      <td>161</td>\n",
       "      <td>161</td>\n",
       "      <td>51342</td>\n",
       "      <td>41125</td>\n",
       "      <td>0.72</td>\n",
       "      <td>116</td>\n",
       "      <td>56081</td>\n",
       "      <td>47076</td>\n",
       "      <td>0.22</td>\n",
       "      <td>...</td>\n",
       "      <td>128182</td>\n",
       "      <td>99512</td>\n",
       "      <td>0.71</td>\n",
       "      <td>114</td>\n",
       "      <td>14563</td>\n",
       "      <td>9968</td>\n",
       "      <td>178</td>\n",
       "      <td>193728</td>\n",
       "      <td>83024</td>\n",
       "      <td>0.795381</td>\n",
       "    </tr>\n",
       "    <tr>\n",
       "      <th>1009</th>\n",
       "      <td>3491</td>\n",
       "      <td>79</td>\n",
       "      <td>79</td>\n",
       "      <td>63964</td>\n",
       "      <td>45958</td>\n",
       "      <td>0.63</td>\n",
       "      <td>50</td>\n",
       "      <td>32703</td>\n",
       "      <td>31812</td>\n",
       "      <td>0.16</td>\n",
       "      <td>...</td>\n",
       "      <td>338801</td>\n",
       "      <td>104414</td>\n",
       "      <td>0.71</td>\n",
       "      <td>56</td>\n",
       "      <td>21250</td>\n",
       "      <td>12380</td>\n",
       "      <td>78</td>\n",
       "      <td>96197</td>\n",
       "      <td>33749</td>\n",
       "      <td>0.483653</td>\n",
       "    </tr>\n",
       "    <tr>\n",
       "      <th>1066</th>\n",
       "      <td>3591</td>\n",
       "      <td>101</td>\n",
       "      <td>101</td>\n",
       "      <td>48369</td>\n",
       "      <td>40586</td>\n",
       "      <td>0.72</td>\n",
       "      <td>73</td>\n",
       "      <td>51879</td>\n",
       "      <td>46658</td>\n",
       "      <td>0.12</td>\n",
       "      <td>...</td>\n",
       "      <td>153611</td>\n",
       "      <td>139321</td>\n",
       "      <td>0.69</td>\n",
       "      <td>70</td>\n",
       "      <td>13429</td>\n",
       "      <td>8712</td>\n",
       "      <td>105</td>\n",
       "      <td>166473</td>\n",
       "      <td>78979</td>\n",
       "      <td>0.823841</td>\n",
       "    </tr>\n",
       "    <tr>\n",
       "      <th>1633</th>\n",
       "      <td>4713</td>\n",
       "      <td>243</td>\n",
       "      <td>243</td>\n",
       "      <td>45416</td>\n",
       "      <td>41326</td>\n",
       "      <td>0.88</td>\n",
       "      <td>214</td>\n",
       "      <td>44053</td>\n",
       "      <td>40958</td>\n",
       "      <td>0.01</td>\n",
       "      <td>...</td>\n",
       "      <td>292339</td>\n",
       "      <td>292339</td>\n",
       "      <td>0.73</td>\n",
       "      <td>177</td>\n",
       "      <td>9915</td>\n",
       "      <td>7135</td>\n",
       "      <td>400</td>\n",
       "      <td>30369</td>\n",
       "      <td>4978</td>\n",
       "      <td>1.000000</td>\n",
       "    </tr>\n",
       "    <tr>\n",
       "      <th>1898</th>\n",
       "      <td>5261</td>\n",
       "      <td>245</td>\n",
       "      <td>245</td>\n",
       "      <td>51066</td>\n",
       "      <td>38768</td>\n",
       "      <td>0.53</td>\n",
       "      <td>129</td>\n",
       "      <td>41254</td>\n",
       "      <td>34018</td>\n",
       "      <td>0.13</td>\n",
       "      <td>...</td>\n",
       "      <td>202682</td>\n",
       "      <td>66609</td>\n",
       "      <td>0.70</td>\n",
       "      <td>171</td>\n",
       "      <td>15353</td>\n",
       "      <td>9146</td>\n",
       "      <td>242</td>\n",
       "      <td>129738</td>\n",
       "      <td>51413</td>\n",
       "      <td>0.479569</td>\n",
       "    </tr>\n",
       "    <tr>\n",
       "      <th>1899</th>\n",
       "      <td>5262</td>\n",
       "      <td>322</td>\n",
       "      <td>322</td>\n",
       "      <td>56038</td>\n",
       "      <td>45341</td>\n",
       "      <td>0.62</td>\n",
       "      <td>199</td>\n",
       "      <td>44640</td>\n",
       "      <td>45182</td>\n",
       "      <td>0.12</td>\n",
       "      <td>...</td>\n",
       "      <td>236201</td>\n",
       "      <td>100776</td>\n",
       "      <td>0.74</td>\n",
       "      <td>237</td>\n",
       "      <td>17426</td>\n",
       "      <td>9482</td>\n",
       "      <td>320</td>\n",
       "      <td>137946</td>\n",
       "      <td>51061</td>\n",
       "      <td>0.473558</td>\n",
       "    </tr>\n",
       "    <tr>\n",
       "      <th>1993</th>\n",
       "      <td>5521</td>\n",
       "      <td>85</td>\n",
       "      <td>85</td>\n",
       "      <td>51534</td>\n",
       "      <td>40579</td>\n",
       "      <td>0.69</td>\n",
       "      <td>59</td>\n",
       "      <td>36604</td>\n",
       "      <td>31135</td>\n",
       "      <td>0.13</td>\n",
       "      <td>...</td>\n",
       "      <td>248848</td>\n",
       "      <td>132474</td>\n",
       "      <td>0.75</td>\n",
       "      <td>64</td>\n",
       "      <td>14126</td>\n",
       "      <td>8833</td>\n",
       "      <td>90</td>\n",
       "      <td>300088</td>\n",
       "      <td>59831</td>\n",
       "      <td>0.379249</td>\n",
       "    </tr>\n",
       "    <tr>\n",
       "      <th>2270</th>\n",
       "      <td>6425</td>\n",
       "      <td>88</td>\n",
       "      <td>88</td>\n",
       "      <td>80896</td>\n",
       "      <td>59985</td>\n",
       "      <td>0.55</td>\n",
       "      <td>48</td>\n",
       "      <td>32562</td>\n",
       "      <td>24496</td>\n",
       "      <td>0.27</td>\n",
       "      <td>...</td>\n",
       "      <td>172328</td>\n",
       "      <td>120238</td>\n",
       "      <td>0.77</td>\n",
       "      <td>68</td>\n",
       "      <td>27353</td>\n",
       "      <td>16039</td>\n",
       "      <td>96</td>\n",
       "      <td>84496</td>\n",
       "      <td>32313</td>\n",
       "      <td>0.943850</td>\n",
       "    </tr>\n",
       "    <tr>\n",
       "      <th>2332</th>\n",
       "      <td>6608</td>\n",
       "      <td>66</td>\n",
       "      <td>66</td>\n",
       "      <td>62070</td>\n",
       "      <td>53202</td>\n",
       "      <td>0.65</td>\n",
       "      <td>43</td>\n",
       "      <td>51199</td>\n",
       "      <td>48901</td>\n",
       "      <td>0.14</td>\n",
       "      <td>...</td>\n",
       "      <td>58803</td>\n",
       "      <td>58803</td>\n",
       "      <td>0.83</td>\n",
       "      <td>55</td>\n",
       "      <td>16585</td>\n",
       "      <td>12085</td>\n",
       "      <td>78</td>\n",
       "      <td>84074</td>\n",
       "      <td>26752</td>\n",
       "      <td>1.000000</td>\n",
       "    </tr>\n",
       "    <tr>\n",
       "      <th>2343</th>\n",
       "      <td>6646</td>\n",
       "      <td>143</td>\n",
       "      <td>143</td>\n",
       "      <td>46880</td>\n",
       "      <td>37842</td>\n",
       "      <td>0.86</td>\n",
       "      <td>123</td>\n",
       "      <td>49344</td>\n",
       "      <td>39492</td>\n",
       "      <td>0.10</td>\n",
       "      <td>...</td>\n",
       "      <td>64008</td>\n",
       "      <td>54499</td>\n",
       "      <td>0.70</td>\n",
       "      <td>100</td>\n",
       "      <td>11547</td>\n",
       "      <td>7300</td>\n",
       "      <td>235</td>\n",
       "      <td>39686</td>\n",
       "      <td>4077</td>\n",
       "      <td>1.162520</td>\n",
       "    </tr>\n",
       "    <tr>\n",
       "      <th>2423</th>\n",
       "      <td>7213</td>\n",
       "      <td>135</td>\n",
       "      <td>135</td>\n",
       "      <td>40685</td>\n",
       "      <td>36487</td>\n",
       "      <td>0.76</td>\n",
       "      <td>102</td>\n",
       "      <td>45344</td>\n",
       "      <td>38800</td>\n",
       "      <td>0.07</td>\n",
       "      <td>...</td>\n",
       "      <td>103281</td>\n",
       "      <td>88742</td>\n",
       "      <td>0.70</td>\n",
       "      <td>94</td>\n",
       "      <td>9562</td>\n",
       "      <td>6151</td>\n",
       "      <td>159</td>\n",
       "      <td>56214</td>\n",
       "      <td>25579</td>\n",
       "      <td>1.111509</td>\n",
       "    </tr>\n",
       "  </tbody>\n",
       "</table>\n",
       "<p>12 rows × 35 columns</p>\n",
       "</div>"
      ],
      "text/plain": [
       "      Postcode  Number of individuals lodging an income tax return  \\\n",
       "541       2736                                                228    \n",
       "582       2791                                                161    \n",
       "1009      3491                                                 79    \n",
       "1066      3591                                                101    \n",
       "1633      4713                                                243    \n",
       "1898      5261                                                245    \n",
       "1899      5262                                                322    \n",
       "1993      5521                                                 85    \n",
       "2270      6425                                                 88    \n",
       "2332      6608                                                 66    \n",
       "2343      6646                                                143    \n",
       "2423      7213                                                135    \n",
       "\n",
       "      Count taxable income or loss  Average taxable income or loss  \\\n",
       "541                            228                           48862   \n",
       "582                            161                           51342   \n",
       "1009                            79                           63964   \n",
       "1066                           101                           48369   \n",
       "1633                           243                           45416   \n",
       "1898                           245                           51066   \n",
       "1899                           322                           56038   \n",
       "1993                            85                           51534   \n",
       "2270                            88                           80896   \n",
       "2332                            66                           62070   \n",
       "2343                           143                           46880   \n",
       "2423                           135                           40685   \n",
       "\n",
       "      Median taxable income or loss  Proportion with salary or wages  \\\n",
       "541                           36835                             0.74   \n",
       "582                           41125                             0.72   \n",
       "1009                          45958                             0.63   \n",
       "1066                          40586                             0.72   \n",
       "1633                          41326                             0.88   \n",
       "1898                          38768                             0.53   \n",
       "1899                          45341                             0.62   \n",
       "1993                          40579                             0.69   \n",
       "2270                          59985                             0.55   \n",
       "2332                          53202                             0.65   \n",
       "2343                          37842                             0.86   \n",
       "2423                          36487                             0.76   \n",
       "\n",
       "      Count salary or wages  Average salary or wages  Median salary or wages  \\\n",
       "541                     168                    43144                   35464   \n",
       "582                     116                    56081                   47076   \n",
       "1009                     50                    32703                   31812   \n",
       "1066                     73                    51879                   46658   \n",
       "1633                    214                    44053                   40958   \n",
       "1898                    129                    41254                   34018   \n",
       "1899                    199                    44640                   45182   \n",
       "1993                     59                    36604                   31135   \n",
       "2270                     48                    32562                   24496   \n",
       "2332                     43                    51199                   48901   \n",
       "2343                    123                    49344                   39492   \n",
       "2423                    102                    45344                   38800   \n",
       "\n",
       "      Proportion with net rent  ...  Average total business expenses  \\\n",
       "541                       0.09  ...                           270972   \n",
       "582                       0.22  ...                           128182   \n",
       "1009                      0.16  ...                           338801   \n",
       "1066                      0.12  ...                           153611   \n",
       "1633                      0.01  ...                           292339   \n",
       "1898                      0.13  ...                           202682   \n",
       "1899                      0.12  ...                           236201   \n",
       "1993                      0.13  ...                           248848   \n",
       "2270                      0.27  ...                           172328   \n",
       "2332                      0.14  ...                            58803   \n",
       "2343                      0.10  ...                            64008   \n",
       "2423                      0.07  ...                           103281   \n",
       "\n",
       "      Median total business expenses  Proportion with net tax  Count net tax  \\\n",
       "541                            89398                     0.68            154   \n",
       "582                            99512                     0.71            114   \n",
       "1009                          104414                     0.71             56   \n",
       "1066                          139321                     0.69             70   \n",
       "1633                          292339                     0.73            177   \n",
       "1898                           66609                     0.70            171   \n",
       "1899                          100776                     0.74            237   \n",
       "1993                          132474                     0.75             64   \n",
       "2270                          120238                     0.77             68   \n",
       "2332                           58803                     0.83             55   \n",
       "2343                           54499                     0.70            100   \n",
       "2423                           88742                     0.70             94   \n",
       "\n",
       "      Average net tax  Median net tax  Count super total accounts balance  \\\n",
       "541             15417            7977                                 250   \n",
       "582             14563            9968                                 178   \n",
       "1009            21250           12380                                  78   \n",
       "1066            13429            8712                                 105   \n",
       "1633             9915            7135                                 400   \n",
       "1898            15353            9146                                 242   \n",
       "1899            17426            9482                                 320   \n",
       "1993            14126            8833                                  90   \n",
       "2270            27353           16039                                  96   \n",
       "2332            16585           12085                                  78   \n",
       "2343            11547            7300                                 235   \n",
       "2423             9562            6151                                 159   \n",
       "\n",
       "      Average super total accounts balance  \\\n",
       "541                                 103595   \n",
       "582                                 193728   \n",
       "1009                                 96197   \n",
       "1066                                166473   \n",
       "1633                                 30369   \n",
       "1898                                129738   \n",
       "1899                                137946   \n",
       "1993                                300088   \n",
       "2270                                 84496   \n",
       "2332                                 84074   \n",
       "2343                                 39686   \n",
       "2423                                 56214   \n",
       "\n",
       "      Median super total accounts balance  business_income_rate  \n",
       "541                                 33285              0.402373  \n",
       "582                                 83024              0.795381  \n",
       "1009                                33749              0.483653  \n",
       "1066                                78979              0.823841  \n",
       "1633                                 4978              1.000000  \n",
       "1898                                51413              0.479569  \n",
       "1899                                51061              0.473558  \n",
       "1993                                59831              0.379249  \n",
       "2270                                32313              0.943850  \n",
       "2332                                26752              1.000000  \n",
       "2343                                 4077              1.162520  \n",
       "2423                                25579              1.111509  \n",
       "\n",
       "[12 rows x 35 columns]"
      ]
     },
     "execution_count": 24,
     "metadata": {},
     "output_type": "execute_result"
    }
   ],
   "source": [
    "tax_df[tax_df[\"Median total business income\"]>100000]"
   ]
  },
  {
   "cell_type": "code",
   "execution_count": 23,
   "metadata": {},
   "outputs": [
    {
     "data": {
      "text/html": [
       "<div>\n",
       "<style scoped>\n",
       "    .dataframe tbody tr th:only-of-type {\n",
       "        vertical-align: middle;\n",
       "    }\n",
       "\n",
       "    .dataframe tbody tr th {\n",
       "        vertical-align: top;\n",
       "    }\n",
       "\n",
       "    .dataframe thead th {\n",
       "        text-align: right;\n",
       "    }\n",
       "</style>\n",
       "<table border=\"1\" class=\"dataframe\">\n",
       "  <thead>\n",
       "    <tr style=\"text-align: right;\">\n",
       "      <th></th>\n",
       "      <th>Postcode</th>\n",
       "      <th>Number of individuals lodging an income tax return</th>\n",
       "      <th>Count taxable income or loss</th>\n",
       "      <th>Average taxable income or loss</th>\n",
       "      <th>Median taxable income or loss</th>\n",
       "      <th>Proportion with salary or wages</th>\n",
       "      <th>Count salary or wages</th>\n",
       "      <th>Average salary or wages</th>\n",
       "      <th>Median salary or wages</th>\n",
       "      <th>Proportion with net rent</th>\n",
       "      <th>...</th>\n",
       "      <th>Average total business expenses</th>\n",
       "      <th>Median total business expenses</th>\n",
       "      <th>Proportion with net tax</th>\n",
       "      <th>Count net tax</th>\n",
       "      <th>Average net tax</th>\n",
       "      <th>Median net tax</th>\n",
       "      <th>Count super total accounts balance</th>\n",
       "      <th>Average super total accounts balance</th>\n",
       "      <th>Median super total accounts balance</th>\n",
       "      <th>business_income_rate</th>\n",
       "    </tr>\n",
       "  </thead>\n",
       "  <tbody>\n",
       "  </tbody>\n",
       "</table>\n",
       "<p>0 rows × 35 columns</p>\n",
       "</div>"
      ],
      "text/plain": [
       "Empty DataFrame\n",
       "Columns: [Postcode, Number of individuals lodging an income tax return, Count taxable income or loss, Average taxable income or loss, Median taxable income or loss, Proportion with salary or wages, Count salary or wages, Average salary or wages, Median salary or wages, Proportion with net rent, Count net rent, Average net rent, Median net rent, Count total income or loss, Average total income or loss, Median total income or loss, Count total deductions, Average total deductions, Median total deductions, Proportion with total business income, Count total business income, Average total business income, Median total business income, Proportion with total business expenses, Count total business expenses, Average total business expenses, Median total business expenses, Proportion with net tax, Count net tax, Average net tax, Median net tax, Count super total accounts balance, Average super total accounts balance, Median super total accounts balance, business_income_rate]\n",
       "Index: []\n",
       "\n",
       "[0 rows x 35 columns]"
      ]
     },
     "execution_count": 23,
     "metadata": {},
     "output_type": "execute_result"
    }
   ],
   "source": [
    "tax_df[(tax_df[\"Median total business income\"]>100000) & (tax_df[\"Average total business income\"]>400000)] "
   ]
  }
 ],
 "metadata": {
  "kernelspec": {
   "display_name": "Python 3.9.13 ('virtual-p2')",
   "language": "python",
   "name": "python3"
  },
  "language_info": {
   "codemirror_mode": {
    "name": "ipython",
    "version": 3
   },
   "file_extension": ".py",
   "mimetype": "text/x-python",
   "name": "python",
   "nbconvert_exporter": "python",
   "pygments_lexer": "ipython3",
   "version": "3.9.13"
  },
  "orig_nbformat": 4,
  "vscode": {
   "interpreter": {
    "hash": "fcf6849838b3a8621666e21fdc4cc1583090fffb5f1906a909fbc1c95ae1bb65"
   }
  }
 },
 "nbformat": 4,
 "nbformat_minor": 2
}
