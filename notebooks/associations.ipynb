{
 "cells": [
  {
   "cell_type": "markdown",
   "metadata": {},
   "source": [
    "# Find associations between merchant and customer fraud probabilities"
   ]
  },
  {
   "cell_type": "code",
   "execution_count": 14,
   "metadata": {},
   "outputs": [],
   "source": [
    "import pandas as pd\n",
    "import numpy as np\n",
    "import seaborn as sns\n",
    "import matplotlib.pyplot as plt\n",
    "\n",
    "import os\n",
    "from functools import reduce\n",
    "\n",
    "from pyspark.sql import SparkSession, DataFrame\n",
    "from pyspark.sql.functions import countDistinct, col\n",
    "import pyspark.sql.functions as F"
   ]
  },
  {
   "cell_type": "code",
   "execution_count": 2,
   "metadata": {},
   "outputs": [
    {
     "name": "stdout",
     "output_type": "stream",
     "text": [
      "22/10/04 12:03:35 WARN Utils: Your hostname, Harshitas-MacBook-Air-8.local resolves to a loopback address: 127.0.0.1; using 10.13.133.97 instead (on interface en0)\n",
      "22/10/04 12:03:35 WARN Utils: Set SPARK_LOCAL_IP if you need to bind to another address\n"
     ]
    },
    {
     "name": "stderr",
     "output_type": "stream",
     "text": [
      "Setting default log level to \"WARN\".\n",
      "To adjust logging level use sc.setLogLevel(newLevel). For SparkR, use setLogLevel(newLevel).\n"
     ]
    },
    {
     "name": "stdout",
     "output_type": "stream",
     "text": [
      "22/10/04 12:03:35 WARN NativeCodeLoader: Unable to load native-hadoop library for your platform... using builtin-java classes where applicable\n"
     ]
    }
   ],
   "source": [
    "sp = SparkSession.builder.appName(\"Fraud detection\").getOrCreate()"
   ]
  },
  {
   "cell_type": "code",
   "execution_count": 3,
   "metadata": {},
   "outputs": [],
   "source": [
    "def merge_folder(trans_group: str):\n",
    "    \"\"\"\n",
    "    Function to merge everything within yellow or green or fhvhv\n",
    "    \"\"\"\n",
    "    dir = \"../data/tables/\" + trans_group +\"/\"\n",
    "    folder_locs = os.listdir(dir)\n",
    "\n",
    "    group_list = []\n",
    "    for folder in folder_locs:\n",
    "        path = dir + \"/\" + folder\n",
    "        if os.path.isdir(path):\n",
    "            # print(\"At current path\", path)\n",
    "            group_list.append(sp.read.parquet(path))\n",
    "\n",
    "    return reduce(DataFrame.unionAll, group_list)"
   ]
  },
  {
   "cell_type": "code",
   "execution_count": 4,
   "metadata": {},
   "outputs": [
    {
     "name": "stdout",
     "output_type": "stream",
     "text": [
      "Started group:  transactions_20210228_20210827_snapshot/\n"
     ]
    },
    {
     "name": "stderr",
     "output_type": "stream",
     "text": [
      "                                                                                \r"
     ]
    },
    {
     "name": "stdout",
     "output_type": "stream",
     "text": [
      "Started group:  transactions_20210828_20220227_snapshot/\n"
     ]
    },
    {
     "name": "stderr",
     "output_type": "stream",
     "text": [
      "                                                                                \r"
     ]
    },
    {
     "name": "stdout",
     "output_type": "stream",
     "text": [
      "Started group:  transactions_20220228_20220828_snapshot/\n"
     ]
    }
   ],
   "source": [
    "dir = \"../data/tables/\"\n",
    "groups = [\"transactions_20210228_20210827_snapshot/\", \"transactions_20210828_20220227_snapshot/\", \"transactions_20220228_20220828_snapshot/\"]\n",
    "\n",
    "final_list = []\n",
    "for g in groups:\n",
    "    print(\"Started group: \", g)\n",
    "    final_list.append(sp.read.parquet(dir + g))\n",
    "\n",
    "transactions = reduce(DataFrame.unionAll, final_list)"
   ]
  },
  {
   "cell_type": "code",
   "execution_count": 5,
   "metadata": {},
   "outputs": [],
   "source": [
    "merch = sp.read.parquet(\"../data/tables/tbl_merchants.parquet\")\n",
    "cust  = sp.read.option(\"header\", True).option(\"delimiter\", \"|\") \\\n",
    "        .csv(\"../data/tables/tbl_consumer.csv\")"
   ]
  },
  {
   "cell_type": "code",
   "execution_count": 10,
   "metadata": {},
   "outputs": [],
   "source": [
    "from pyspark.sql.types import DoubleType\n",
    "\n",
    "cFraud = sp.read.option(\"header\", True).csv(\"../data/tables/consumer_fraud_probability.csv\")\n",
    "cFraud = cFraud.withColumn(\"c_fraud_prob\", col(\"fraud_probability\").cast(DoubleType())).drop(\"fraud_probability\")\n",
    "# cFraud.show(3)\n",
    "# cFraud.count()"
   ]
  },
  {
   "cell_type": "code",
   "execution_count": 11,
   "metadata": {},
   "outputs": [],
   "source": [
    "mFraud = sp.read.option(\"header\", True).csv(\"../data/tables/merchant_fraud_probability.csv\")\n",
    "mFraud = mFraud.withColumn(\"m_fraud_prob\", col(\"fraud_probability\").cast(DoubleType())).drop(\"fraud_probability\")\n",
    "# mFraud.show(3)\n",
    "# mFraud.count()"
   ]
  },
  {
   "cell_type": "markdown",
   "metadata": {},
   "source": [
    "Add merchant and customer fraud probabilities as new columns to transactions"
   ]
  },
  {
   "cell_type": "code",
   "execution_count": 12,
   "metadata": {},
   "outputs": [],
   "source": [
    "trans_mc = transactions.join(mFraud, ['merchant_abn', 'order_datetime']) \n",
    "trans_mc = trans_mc.join(cFraud, ['user_id', 'order_datetime']) "
   ]
  },
  {
   "cell_type": "code",
   "execution_count": 13,
   "metadata": {},
   "outputs": [
    {
     "name": "stderr",
     "output_type": "stream",
     "text": [
      "                                                                                \r"
     ]
    },
    {
     "name": "stdout",
     "output_type": "stream",
     "text": [
      "Number of rows after join:  440\n"
     ]
    },
    {
     "name": "stderr",
     "output_type": "stream",
     "text": [
      "[Stage 31:=======================================>                (14 + 6) / 20]\r"
     ]
    },
    {
     "name": "stdout",
     "output_type": "stream",
     "text": [
      "+-------+--------------+------------+------------------+--------------------+-----------------+------------------+\n",
      "|user_id|order_datetime|merchant_abn|      dollar_value|            order_id|     m_fraud_prob|      c_fraud_prob|\n",
      "+-------+--------------+------------+------------------+--------------------+-----------------+------------------+\n",
      "|   3101|    2021-04-17| 91880575299|105193.88578925544|2ab65c8f-11b2-41c...|32.99497823665355| 91.42192091901347|\n",
      "|  19453|    2021-03-25| 83199298021|13887.358607198637|4d1ee9ac-2858-46d...|69.08556869902988|24.695211222609117|\n",
      "|   2550|    2021-03-25| 83199298021| 37808.99908305577|bf73265f-fcd0-4f0...|69.08556869902988|55.876832987364644|\n",
      "+-------+--------------+------------+------------------+--------------------+-----------------+------------------+\n",
      "only showing top 3 rows\n",
      "\n"
     ]
    },
    {
     "name": "stderr",
     "output_type": "stream",
     "text": [
      "                                                                                \r"
     ]
    }
   ],
   "source": [
    "print(\"Number of rows after join: \", trans_mc.count())\n",
    "trans_mc.show(3)"
   ]
  },
  {
   "cell_type": "code",
   "execution_count": 21,
   "metadata": {},
   "outputs": [
    {
     "name": "stderr",
     "output_type": "stream",
     "text": [
      "[Stage 54:====================================>                   (17 + 8) / 26]\r"
     ]
    },
    {
     "name": "stdout",
     "output_type": "stream",
     "text": [
      "+------------+------------------+--------------+------------------+----------+\n",
      "|merchant_abn|      m_fraud_prob|order_datetime|    avg_cust_fraud|cust_count|\n",
      "+------------+------------------+--------------+------------------+----------+\n",
      "| 91880575299| 32.99497823665355|    2021-04-17| 91.42192091901347|         1|\n",
      "| 83199298021| 69.08556869902988|    2021-03-25|40.286022104986884|         2|\n",
      "| 21439773999|28.504479048104585|    2021-11-26|16.901131702270927|        11|\n",
      "| 43083074133| 48.66890735193894|    2021-12-18| 71.74055115445599|         3|\n",
      "| 48534649627| 28.36052168812278|    2021-11-29|17.002857681418757|         6|\n",
      "+------------+------------------+--------------+------------------+----------+\n",
      "only showing top 5 rows\n",
      "\n"
     ]
    },
    {
     "name": "stderr",
     "output_type": "stream",
     "text": [
      "                                                                                \r"
     ]
    }
   ],
   "source": [
    "# compute avg customer fraud probabilities for each merchant\n",
    "agg_probability = trans_mc \\\n",
    "    .groupBy('merchant_abn', 'm_fraud_prob', 'order_datetime') \\\n",
    "    .agg(F.mean('c_fraud_prob'), F.count('c_fraud_prob')) \\\n",
    "    .withColumnRenamed('avg(c_fraud_prob)', 'avg_cust_fraud') \\\n",
    "    .withColumnRenamed('count(c_fraud_prob)', 'cust_count')\n",
    "agg_probability.show(5)"
   ]
  },
  {
   "cell_type": "code",
   "execution_count": 23,
   "metadata": {},
   "outputs": [
    {
     "name": "stderr",
     "output_type": "stream",
     "text": [
      "                                                                                \r"
     ]
    }
   ],
   "source": [
    "x = [val.m_fraud_prob for val in agg_probability.select('m_fraud_prob').collect()]\n",
    "y = [val.avg_cust_fraud for val in agg_probability.select('avg_cust_fraud').collect()]"
   ]
  },
  {
   "cell_type": "code",
   "execution_count": 38,
   "metadata": {},
   "outputs": [
    {
     "data": {
      "text/plain": [
       "<AxesSubplot:xlabel='m_fraud_prob', ylabel='avg_cust_fraud'>"
      ]
     },
     "execution_count": 38,
     "metadata": {},
     "output_type": "execute_result"
    },
    {
     "data": {
      "image/png": "[encoded data removed]",
      "text/plain": [
       "<Figure size 432x288 with 1 Axes>"
      ]
     },
     "metadata": {},
     "output_type": "display_data"
    }
   ],
   "source": [
    "pandas_df = agg_probability.toPandas()\n",
    "\n",
    "sns.set_style(\"darkgrid\")\n",
    "sns.set_palette(\"PuBu_r\")\n",
    "sns.scatterplot(data=pandas_df, x='m_fraud_prob', y='avg_cust_fraud')"
   ]
  },
  {
   "cell_type": "markdown",
   "metadata": {},
   "source": [
    "Aggregate just customer fraud probabilities this time, leaving merchant fraud out"
   ]
  },
  {
   "cell_type": "code",
   "execution_count": 17,
   "metadata": {},
   "outputs": [
    {
     "name": "stderr",
     "output_type": "stream",
     "text": [
      "                                                                                \r"
     ]
    },
    {
     "name": "stdout",
     "output_type": "stream",
     "text": [
      "Number of rows after join:  80560\n",
      "+-------+--------------+------------+------------------+--------------------+------------------+\n",
      "|user_id|order_datetime|merchant_abn|      dollar_value|            order_id|      c_fraud_prob|\n",
      "+-------+--------------+------------+------------------+--------------------+------------------+\n",
      "|    448|    2021-08-20| 94380689142| 6263.028459455749|23ec3af2-f20d-422...|14.681703172388145|\n",
      "|    448|    2021-08-20| 41705715409| 137.1238996949634|fd03b72d-2835-40f...|14.681703172388145|\n",
      "|    448|    2021-08-20| 27086915609|144.94739256786497|413bbb99-b586-475...|14.681703172388145|\n",
      "+-------+--------------+------------+------------------+--------------------+------------------+\n",
      "only showing top 3 rows\n",
      "\n"
     ]
    }
   ],
   "source": [
    "trans_c = transactions.join(cFraud, ['user_id', 'order_datetime']) \n",
    "print(\"Number of rows after join: \", trans_c.count())\n",
    "trans_c.show(3)"
   ]
  },
  {
   "cell_type": "code",
   "execution_count": 40,
   "metadata": {},
   "outputs": [
    {
     "name": "stderr",
     "output_type": "stream",
     "text": [
      "[Stage 105:==================================================>    (24 + 2) / 26]\r"
     ]
    },
    {
     "name": "stdout",
     "output_type": "stream",
     "text": [
      "+------------+--------------+------------------+----------+\n",
      "|merchant_abn|order_datetime|    avg_cust_fraud|cust_count|\n",
      "+------------+--------------+------------------+----------+\n",
      "| 95574756848|    2021-08-19|10.101860898982682|         1|\n",
      "| 32234779638|    2021-07-15|  9.04958130459998|         2|\n",
      "| 76646764782|    2021-08-16| 8.593419236826536|         1|\n",
      "| 31385641294|    2021-07-23|  8.37041587966583|         1|\n",
      "| 12771097467|    2021-08-06|  9.58535379006046|         2|\n",
      "+------------+--------------+------------------+----------+\n",
      "only showing top 5 rows\n",
      "\n"
     ]
    },
    {
     "name": "stderr",
     "output_type": "stream",
     "text": [
      "                                                                                \r"
     ]
    }
   ],
   "source": [
    "# compute avg customer fraud probabilities for each merchant\n",
    "agg_probability2 = trans_c \\\n",
    "    .groupBy('merchant_abn', 'order_datetime') \\\n",
    "    .agg(F.mean('c_fraud_prob'), F.count('c_fraud_prob')) \\\n",
    "    .withColumnRenamed('avg(c_fraud_prob)', 'avg_cust_fraud') \\\n",
    "    .withColumnRenamed('count(c_fraud_prob)', 'cust_count')\n",
    "agg_probability2.show(5)"
   ]
  },
  {
   "cell_type": "code",
   "execution_count": 42,
   "metadata": {},
   "outputs": [
    {
     "data": {
      "text/plain": [
       "<seaborn.axisgrid.FacetGrid at 0x7ff3c97abbb0>"
      ]
     },
     "execution_count": 42,
     "metadata": {},
     "output_type": "execute_result"
    },
    {
     "data": {
      "image/png": "[encoded data removed]",
      "text/plain": [
       "<Figure size 360x360 with 1 Axes>"
      ]
     },
     "metadata": {},
     "output_type": "display_data"
    }
   ],
   "source": [
    "pandas_df2 = agg_probability2.toPandas()\n",
    "\n",
    "sns.set_style(\"darkgrid\")\n",
    "sns.set_palette(\"PuBu_r\")\n",
    "sns.displot(pandas_df2[\"avg_cust_fraud\"])"
   ]
  }
 ],
 "metadata": {
  "kernelspec": {
   "display_name": "Python 3.9.6 64-bit",
   "language": "python",
   "name": "python3"
  },
  "language_info": {
   "codemirror_mode": {
    "name": "ipython",
    "version": 3
   },
   "file_extension": ".py",
   "mimetype": "text/x-python",
   "name": "python",
   "nbconvert_exporter": "python",
   "pygments_lexer": "ipython3",
   "version": "3.9.6"
  },
  "orig_nbformat": 4,
  "vscode": {
   "interpreter": {
    "hash": "949777d72b0d2535278d3dc13498b2535136f6dfe0678499012e853ee9abcab1"
   }
  }
 },
 "nbformat": 4,
 "nbformat_minor": 2
}
