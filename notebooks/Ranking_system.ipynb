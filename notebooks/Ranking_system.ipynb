{
 "cells": [
  {
   "cell_type": "markdown",
   "metadata": {},
   "source": [
    "# Merchant Ranking Algorith\n",
    "The method of ranking each merchant, will take inspiration from the methods proposed in (https://sapinsider.org/leveraging-analytical-method-for-ranking-suppliers/), in which we rank each key attribute out of 5, then sum them together with weightsget a score for each merchant. \n",
    "\n",
    "The Key Attributes for now are: \n",
    "- Merchant's BNPL Revenue\n",
    "- Proportion of 'identified' Fraud transactions\n",
    "- The customer Base \n",
    "- Projected Growth"
   ]
  },
  {
   "cell_type": "code",
   "execution_count": 2,
   "metadata": {},
   "outputs": [
    {
     "name": "stdout",
     "output_type": "stream",
     "text": [
      "22/10/05 23:41:35 WARN Utils: Your hostname, James-N580VD-DM229T resolves to a loopback address: 127.0.1.1; using 172.23.63.37 instead (on interface eth0)\n",
      "22/10/05 23:41:35 WARN Utils: Set SPARK_LOCAL_IP if you need to bind to another address\n"
     ]
    },
    {
     "name": "stderr",
     "output_type": "stream",
     "text": [
      "Setting default log level to \"WARN\".\n",
      "To adjust logging level use sc.setLogLevel(newLevel). For SparkR, use setLogLevel(newLevel).\n"
     ]
    },
    {
     "name": "stdout",
     "output_type": "stream",
     "text": [
      "22/10/05 23:41:37 WARN NativeCodeLoader: Unable to load native-hadoop library for your platform... using builtin-java classes where applicable\n",
      "22/10/05 23:41:38 WARN Utils: Service 'SparkUI' could not bind on port 4040. Attempting port 4041.\n"
     ]
    }
   ],
   "source": [
    "from pyspark.sql import SparkSession, functions as F\n",
    "# First lets reed the datasets\n",
    "spark = (\n",
    "    SparkSession.builder.appName(\"Data_Explorer\")\n",
    "    .config(\"spark.sql.repl.eagerEval.enabled\", True) \n",
    "    .config(\"spark.sql.parquet.cacheMetadata\", \"true\")\n",
    "    .config(\"spark.sql.session.timeZone\", \"Etc/UTC\")\n",
    "    .config(\"spark.driver.memory\", \"4g\")\n",
    "    .getOrCreate()\n",
    ")"
   ]
  },
  {
   "cell_type": "code",
   "execution_count": 20,
   "metadata": {},
   "outputs": [
    {
     "name": "stderr",
     "output_type": "stream",
     "text": [
      "                                                                                \r"
     ]
    }
   ],
   "source": [
    "dataset = spark.read.parquet('../data/tables/transactions_20210828_20220227_snapshot/')"
   ]
  },
  {
   "cell_type": "code",
   "execution_count": 19,
   "metadata": {},
   "outputs": [
    {
     "data": {
      "text/html": [
       "<table border='1'>\n",
       "<tr><th>user_id</th><th>merchant_abn</th><th>dollar_value</th><th>order_id</th><th>order_datetime</th></tr>\n",
       "<tr><td>14935</td><td>79417999332</td><td>136.06570809815838</td><td>23acbb7b-cf98-458...</td><td>2021-11-26</td></tr>\n",
       "<tr><td>1</td><td>46451548968</td><td>72.61581642788431</td><td>76bab304-fa2d-400...</td><td>2021-11-26</td></tr>\n",
       "<tr><td>14936</td><td>89518629617</td><td>3.0783487174439297</td><td>a2ae446a-2959-41c...</td><td>2021-11-26</td></tr>\n",
       "<tr><td>1</td><td>49167531725</td><td>51.58228625503599</td><td>7080c274-17f7-4cc...</td><td>2021-11-26</td></tr>\n",
       "<tr><td>14936</td><td>31101120643</td><td>25.228114942417797</td><td>8e301c0f-06ab-45c...</td><td>2021-11-26</td></tr>\n",
       "<tr><td>2</td><td>67978471888</td><td>691.5028234458998</td><td>0380e9ad-b0e8-420...</td><td>2021-11-26</td></tr>\n",
       "<tr><td>14936</td><td>60956456424</td><td>102.13952056640888</td><td>5ac3da9c-5147-452...</td><td>2021-11-26</td></tr>\n",
       "<tr><td>2</td><td>47644196714</td><td>644.5220654863093</td><td>4e368e44-86f8-4de...</td><td>2021-11-26</td></tr>\n",
       "<tr><td>14938</td><td>39649557865</td><td>209.12780951421405</td><td>4d78cd01-4bab-494...</td><td>2021-11-26</td></tr>\n",
       "<tr><td>3</td><td>88402174457</td><td>141.0387993699113</td><td>c50c957d-ecfc-430...</td><td>2021-11-26</td></tr>\n",
       "</table>\n"
      ],
      "text/plain": [
       "+-------+------------+------------------+--------------------+--------------+\n",
       "|user_id|merchant_abn|      dollar_value|            order_id|order_datetime|\n",
       "+-------+------------+------------------+--------------------+--------------+\n",
       "|  14935| 79417999332|136.06570809815838|23acbb7b-cf98-458...|    2021-11-26|\n",
       "|      1| 46451548968| 72.61581642788431|76bab304-fa2d-400...|    2021-11-26|\n",
       "|  14936| 89518629617|3.0783487174439297|a2ae446a-2959-41c...|    2021-11-26|\n",
       "|      1| 49167531725| 51.58228625503599|7080c274-17f7-4cc...|    2021-11-26|\n",
       "|  14936| 31101120643|25.228114942417797|8e301c0f-06ab-45c...|    2021-11-26|\n",
       "|      2| 67978471888| 691.5028234458998|0380e9ad-b0e8-420...|    2021-11-26|\n",
       "|  14936| 60956456424|102.13952056640888|5ac3da9c-5147-452...|    2021-11-26|\n",
       "|      2| 47644196714| 644.5220654863093|4e368e44-86f8-4de...|    2021-11-26|\n",
       "|  14938| 39649557865|209.12780951421405|4d78cd01-4bab-494...|    2021-11-26|\n",
       "|      3| 88402174457| 141.0387993699113|c50c957d-ecfc-430...|    2021-11-26|\n",
       "+-------+------------+------------------+--------------------+--------------+"
      ]
     },
     "execution_count": 19,
     "metadata": {},
     "output_type": "execute_result"
    }
   ],
   "source": [
    "dataset.limit(10)"
   ]
  }
 ],
 "metadata": {
  "kernelspec": {
   "display_name": "Python 3.8.10 64-bit",
   "language": "python",
   "name": "python3"
  },
  "language_info": {
   "codemirror_mode": {
    "name": "ipython",
    "version": 3
   },
   "file_extension": ".py",
   "mimetype": "text/x-python",
   "name": "python",
   "nbconvert_exporter": "python",
   "pygments_lexer": "ipython3",
   "version": "3.8.10"
  },
  "orig_nbformat": 4,
  "vscode": {
   "interpreter": {
    "hash": "916dbcbb3f70747c44a77c7bcd40155683ae19c65e1c03b4aa3499c5328201f1"
   }
  }
 },
 "nbformat": 4,
 "nbformat_minor": 2
}
