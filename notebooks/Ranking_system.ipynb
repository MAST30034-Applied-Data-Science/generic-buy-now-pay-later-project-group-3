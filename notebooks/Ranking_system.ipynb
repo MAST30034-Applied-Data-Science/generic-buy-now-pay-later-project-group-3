{
 "cells": [
  {
   "cell_type": "markdown",
   "metadata": {},
   "source": [
    "# Merchant Ranking Algorith\n",
    "The method of ranking each merchant, will take inspiration from the methods proposed in (https://sapinsider.org/leveraging-analytical-method-for-ranking-suppliers/), in which we rank each key attribute out of 5, then sum them together with weightsget a score for each merchant. \n",
    "\n",
    "The Key Attributes for now are: \n",
    "- Merchant's BNPL Revenue\n",
    "- Proportion of 'identified' Fraud transactions\n",
    "- The customer Base \n",
    "- Projected Growth"
   ]
  },
  {
   "cell_type": "code",
   "execution_count": 21,
   "metadata": {},
   "outputs": [],
   "source": [
    "from pyspark.sql import SparkSession, functions as F\n",
    "# First lets reed the datasets\n",
    "spark = (\n",
    "    SparkSession.builder.appName(\"Data_Explorer\")\n",
    "    .config(\"spark.sql.repl.eagerEval.enabled\", True) \n",
    "    .config(\"spark.sql.parquet.cacheMetadata\", \"true\")\n",
    "    .config(\"spark.sql.session.timeZone\", \"Etc/UTC\")\n",
    "    .config(\"spark.driver.memory\", \"4g\")\n",
    "    .getOrCreate()\n",
    ")"
   ]
  },
  {
   "cell_type": "markdown",
   "metadata": {},
   "source": [
    "1. Tansaction_Revenue\n",
    "For this we will take:\n",
    "- Total_BNPL_Revenue\n",
    "- Average_BNPL_Revenue\n",
    "- "
   ]
  },
  {
   "cell_type": "code",
   "execution_count": 48,
   "metadata": {},
   "outputs": [],
   "source": [
    "transactions = spark.read.parquet('../data/processed/transactions')\n",
    "merchants =  spark.read.parquet('../data/processed/merchants/')"
   ]
  },
  {
   "cell_type": "code",
   "execution_count": 49,
   "metadata": {},
   "outputs": [
    {
     "data": {
      "text/html": [
       "<table border='1'>\n",
       "<tr><th>merchant_abn</th><th>name</th><th>tags</th><th>avg_monthly_inc</th><th>monthly_entropy</th><th>postcode_entropy</th><th>revenue</th></tr>\n",
       "<tr><td>31823794994</td><td>Dolor Dapibus LLC</td><td>((hobby, Toy and ...</td><td>0.0</td><td>2.9600074</td><td>6.064746</td><td>983068.1492156982</td></tr>\n",
       "<tr><td>31840064969</td><td>Suspendisse Dui I...</td><td>[[opticians, opti...</td><td>0.0</td><td>2.8502686</td><td>4.4990516</td><td>32132.340003967285</td></tr>\n",
       "<tr><td>31861513116</td><td>Parturient Montes...</td><td>[[books, periodic...</td><td>1.1578947</td><td>2.7981732</td><td>3.6109178</td><td>19385.01001739502</td></tr>\n",
       "<tr><td>31867263249</td><td>Risus Donec Indus...</td><td>((shoe shops), (b...</td><td>-1.1</td><td>2.951454</td><td>6.247005</td><td>46952.30994313955</td></tr>\n",
       "<tr><td>31869958432</td><td>In Consectetuer I...</td><td>[(lawn and garden...</td><td>0.04761905</td><td>2.954954</td><td>5.1791844</td><td>31431.150020718575</td></tr>\n",
       "<tr><td>31905921746</td><td>Ut LLP</td><td>([tent and awning...</td><td>0.85714287</td><td>2.982713</td><td>6.6609764</td><td>18821.729987472296</td></tr>\n",
       "<tr><td>31940875883</td><td>Amet Associates</td><td>((cable, satellit...</td><td>-0.9047619</td><td>2.987166</td><td>7.865826</td><td>515641.8299647644</td></tr>\n",
       "<tr><td>31969118588</td><td>Auctor Foundation</td><td>([digital goods: ...</td><td>0.0952381</td><td>2.9655445</td><td>6.0369673</td><td>47428.750034332275</td></tr>\n",
       "<tr><td>31969420866</td><td>Sed Leo Cras Inco...</td><td>[[computer pRogra...</td><td>-0.0952381</td><td>2.984906</td><td>7.4290724</td><td>601955.6500430107</td></tr>\n",
       "<tr><td>32021853619</td><td>Commodo Institute</td><td>([art dealers and...</td><td>2.7272727</td><td>2.3419943</td><td>2.6390574</td><td>64130.040283203125</td></tr>\n",
       "<tr><td>32069730393</td><td>Eget Metus LLP</td><td>[(computers, comp...</td><td>-1.45</td><td>2.9737499</td><td>6.4587293</td><td>20897.72996531427</td></tr>\n",
       "<tr><td>32082195327</td><td>Luctus PC</td><td>((watch, clock, a...</td><td>0.0</td><td>2.9862413</td><td>7.2354445</td><td>35709.38001715019</td></tr>\n",
       "<tr><td>32165886699</td><td>Quisque Inc.</td><td>([artist supply a...</td><td>0.16666667</td><td>2.7581856</td><td>3.8352368</td><td>30303.73989868164</td></tr>\n",
       "<tr><td>32173481131</td><td>Non PC</td><td>[(telecom), (a), ...</td><td>0.1</td><td>2.9391315</td><td>4.9782786</td><td>349919.60984039307</td></tr>\n",
       "<tr><td>32176774610</td><td>Cubilia Curae Don...</td><td>[[watch, clock, a...</td><td>-0.04761905</td><td>2.9859684</td><td>7.7672205</td><td>1091666.7204011679</td></tr>\n",
       "<tr><td>32196789327</td><td>Vestibulum Accums...</td><td>[(hobby, toy and ...</td><td>7.2</td><td>2.9422157</td><td>4.8617973</td><td>199056.2006072998</td></tr>\n",
       "<tr><td>32246751900</td><td>Massa Non LLC</td><td>[(florists suppli...</td><td>1.1</td><td>2.9527566</td><td>5.502031</td><td>113942.05990219116</td></tr>\n",
       "<tr><td>32258116290</td><td>Id Foundation</td><td>[[florists suppli...</td><td>-1.05</td><td>2.977166</td><td>6.5112815</td><td>122232.24976079166</td></tr>\n",
       "<tr><td>32262357239</td><td>Nam Porttitor Sce...</td><td>[[motor vehicle s...</td><td>-0.4</td><td>2.878873</td><td>4.86698</td><td>327340.84046936035</td></tr>\n",
       "<tr><td>32329455050</td><td>Massa Lobortis Co...</td><td>([health  and bea...</td><td>-0.04761905</td><td>2.9812372</td><td>7.2622404</td><td>680506.8109130859</td></tr>\n",
       "</table>\n",
       "only showing top 20 rows\n"
      ],
      "text/plain": [
       "+------------+--------------------+--------------------+---------------+---------------+----------------+------------------+\n",
       "|merchant_abn|                name|                tags|avg_monthly_inc|monthly_entropy|postcode_entropy|           revenue|\n",
       "+------------+--------------------+--------------------+---------------+---------------+----------------+------------------+\n",
       "| 31823794994|   Dolor Dapibus LLC|((hobby, Toy and ...|            0.0|      2.9600074|        6.064746| 983068.1492156982|\n",
       "| 31840064969|Suspendisse Dui I...|[[opticians, opti...|            0.0|      2.8502686|       4.4990516|32132.340003967285|\n",
       "| 31861513116|Parturient Montes...|[[books, periodic...|      1.1578947|      2.7981732|       3.6109178| 19385.01001739502|\n",
       "| 31867263249|Risus Donec Indus...|((shoe shops), (b...|           -1.1|       2.951454|        6.247005| 46952.30994313955|\n",
       "| 31869958432|In Consectetuer I...|[(lawn and garden...|     0.04761905|       2.954954|       5.1791844|31431.150020718575|\n",
       "| 31905921746|              Ut LLP|([tent and awning...|     0.85714287|       2.982713|       6.6609764|18821.729987472296|\n",
       "| 31940875883|     Amet Associates|((cable, satellit...|     -0.9047619|       2.987166|        7.865826| 515641.8299647644|\n",
       "| 31969118588|   Auctor Foundation|([digital goods: ...|      0.0952381|      2.9655445|       6.0369673|47428.750034332275|\n",
       "| 31969420866|Sed Leo Cras Inco...|[[computer pRogra...|     -0.0952381|       2.984906|       7.4290724| 601955.6500430107|\n",
       "| 32021853619|   Commodo Institute|([art dealers and...|      2.7272727|      2.3419943|       2.6390574|64130.040283203125|\n",
       "| 32069730393|      Eget Metus LLP|[(computers, comp...|          -1.45|      2.9737499|       6.4587293| 20897.72996531427|\n",
       "| 32082195327|           Luctus PC|((watch, clock, a...|            0.0|      2.9862413|       7.2354445| 35709.38001715019|\n",
       "| 32165886699|        Quisque Inc.|([artist supply a...|     0.16666667|      2.7581856|       3.8352368| 30303.73989868164|\n",
       "| 32173481131|              Non PC|[(telecom), (a), ...|            0.1|      2.9391315|       4.9782786|349919.60984039307|\n",
       "| 32176774610|Cubilia Curae Don...|[[watch, clock, a...|    -0.04761905|      2.9859684|       7.7672205|1091666.7204011679|\n",
       "| 32196789327|Vestibulum Accums...|[(hobby, toy and ...|            7.2|      2.9422157|       4.8617973| 199056.2006072998|\n",
       "| 32246751900|       Massa Non LLC|[(florists suppli...|            1.1|      2.9527566|        5.502031|113942.05990219116|\n",
       "| 32258116290|       Id Foundation|[[florists suppli...|          -1.05|       2.977166|       6.5112815|122232.24976079166|\n",
       "| 32262357239|Nam Porttitor Sce...|[[motor vehicle s...|           -0.4|       2.878873|         4.86698|327340.84046936035|\n",
       "| 32329455050|Massa Lobortis Co...|([health  and bea...|    -0.04761905|      2.9812372|       7.2622404| 680506.8109130859|\n",
       "+------------+--------------------+--------------------+---------------+---------------+----------------+------------------+\n",
       "only showing top 20 rows"
      ]
     },
     "execution_count": 49,
     "metadata": {},
     "output_type": "execute_result"
    }
   ],
   "source": [
    "merchants"
   ]
  }
 ],
 "metadata": {
  "kernelspec": {
   "display_name": "Python 3.8.10 64-bit",
   "language": "python",
   "name": "python3"
  },
  "language_info": {
   "codemirror_mode": {
    "name": "ipython",
    "version": 3
   },
   "file_extension": ".py",
   "mimetype": "text/x-python",
   "name": "python",
   "nbconvert_exporter": "python",
   "pygments_lexer": "ipython3",
   "version": "3.8.10"
  },
  "orig_nbformat": 4,
  "vscode": {
   "interpreter": {
    "hash": "916dbcbb3f70747c44a77c7bcd40155683ae19c65e1c03b4aa3499c5328201f1"
   }
  }
 },
 "nbformat": 4,
 "nbformat_minor": 2
}
