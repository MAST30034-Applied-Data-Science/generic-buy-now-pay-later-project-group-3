{
 "cells": [
  {
   "cell_type": "code",
   "execution_count": 1,
   "metadata": {},
   "outputs": [],
   "source": [
    "import numpy as np\n",
    "import pandas as pd\n",
    "import seaborn as sns\n",
    "\n",
    "from pyspark.sql.functions import *\n",
    "from pyspark.sql.types import DateType\n",
    "from pyspark.sql import SparkSession, DataFrame"
   ]
  },
  {
   "cell_type": "code",
   "execution_count": 2,
   "metadata": {},
   "outputs": [],
   "source": [
    "from pyspark.ml.feature import StringIndexer, OneHotEncoder\n",
    "\n",
    "from pyspark.ml import Pipeline\n",
    "from pyspark.sql.types import FloatType\n",
    "from pyspark.mllib.evaluation import MulticlassMetrics\n",
    "from pyspark.ml.classification import MultilayerPerceptronClassifier\n",
    "from pyspark.ml.feature import StringIndexer, OneHotEncoder, VectorAssembler, StandardScaler\n",
    "from pyspark.ml.evaluation import MulticlassClassificationEvaluator, RegressionEvaluator"
   ]
  },
  {
   "cell_type": "code",
   "execution_count": 3,
   "metadata": {},
   "outputs": [
    {
     "name": "stdout",
     "output_type": "stream",
     "text": [
      "22/10/08 22:33:18 WARN Utils: Your hostname, J-L resolves to a loopback address: 127.0.1.1; using 172.28.113.244 instead (on interface eth0)\n",
      "22/10/08 22:33:18 WARN Utils: Set SPARK_LOCAL_IP if you need to bind to another address\n"
     ]
    },
    {
     "name": "stderr",
     "output_type": "stream",
     "text": [
      "Setting default log level to \"WARN\".\n",
      "To adjust logging level use sc.setLogLevel(newLevel). For SparkR, use setLogLevel(newLevel).\n"
     ]
    },
    {
     "name": "stdout",
     "output_type": "stream",
     "text": [
      "22/10/08 22:33:20 WARN NativeCodeLoader: Unable to load native-hadoop library for your platform... using builtin-java classes where applicable\n"
     ]
    },
    {
     "data": {
      "text/html": [
       "\n",
       "            <div>\n",
       "                <p><b>SparkSession - in-memory</b></p>\n",
       "                \n",
       "        <div>\n",
       "            <p><b>SparkContext</b></p>\n",
       "\n",
       "            <p><a href=\"http://172.28.113.244:4040\">Spark UI</a></p>\n",
       "\n",
       "            <dl>\n",
       "              <dt>Version</dt>\n",
       "                <dd><code>v3.3.0</code></dd>\n",
       "              <dt>Master</dt>\n",
       "                <dd><code>local[*]</code></dd>\n",
       "              <dt>AppName</dt>\n",
       "                <dd><code>Model</code></dd>\n",
       "            </dl>\n",
       "        </div>\n",
       "        \n",
       "            </div>\n",
       "        "
      ],
      "text/plain": [
       "<pyspark.sql.session.SparkSession at 0x7f96c6d50dc0>"
      ]
     },
     "execution_count": 3,
     "metadata": {},
     "output_type": "execute_result"
    }
   ],
   "source": [
    "sp = (\n",
    "    SparkSession.builder.appName(\"Model\")\n",
    "    .config(\"spark.sql.session.timeZone\", \"+11\")\n",
    "    #.config(\"spark.driver.memory\", \"10g\")\n",
    "    #.config(\"spark.executor.memory\", \"10g\")\n",
    "    #.config('spark.sql.parquet.cacheMetadata', 'True')\n",
    "    .getOrCreate()\n",
    ")\n",
    "sp"
   ]
  },
  {
   "cell_type": "code",
   "execution_count": 4,
   "metadata": {},
   "outputs": [
    {
     "name": "stderr",
     "output_type": "stream",
     "text": [
      "                                                                                \r"
     ]
    }
   ],
   "source": [
    "transactions = sp.read.option(\"inferSchema\", True).parquet(\"../data/processed/transactions\")\n",
    "merchants = sp.read.option(\"inferSchema\", True).parquet(\"../data/processed/merchants\")\n",
    "customers = sp.read.option(\"inferSchema\", True).parquet(\"../data/processed/customers\")"
   ]
  },
  {
   "cell_type": "code",
   "execution_count": 9,
   "metadata": {},
   "outputs": [
    {
     "name": "stdout",
     "output_type": "stream",
     "text": [
      "+--------+-------+------------+------------+--------------+-----------+-----------------+-------+----------+-----+---------+\n",
      "|order_id|user_id|merchant_abn|dollar_value|order_datetime|Natural_var|Potential_Outlier|holiday|dayofmonth|month|dayofweek|\n",
      "+--------+-------+------------+------------+--------------+-----------+-----------------+-------+----------+-----+---------+\n",
      "|       3|      3| 60956456424|      136.68|    2021-08-20|          0|                0|      0|        20|    8|        6|\n",
      "+--------+-------+------------+------------+--------------+-----------+-----------------+-------+----------+-----+---------+\n",
      "only showing top 1 row\n",
      "\n",
      "+------------+-------------+--------------+--------+----+---------------+---------------+----------------+-----------------+\n",
      "|merchant_abn|         name|Earnings_Class|BNPL_Fee|tags|avg_monthly_inc|monthly_entropy|postcode_entropy|          revenue|\n",
      "+------------+-------------+--------------+--------+----+---------------+---------------+----------------+-----------------+\n",
      "| 10023283211|Felis Limited|             e|    0.18|   0|     -0.0952381|      2.9858725|        7.439226|703277.8708539009|\n",
      "+------------+-------------+--------------+--------+----+---------------+---------------+----------------+-----------------+\n",
      "only showing top 1 row\n",
      "\n"
     ]
    }
   ],
   "source": [
    "transactions.show(1)\n",
    "merchants.show(1)"
   ]
  },
  {
   "cell_type": "code",
   "execution_count": 11,
   "metadata": {},
   "outputs": [
    {
     "name": "stdout",
     "output_type": "stream",
     "text": [
      "+--------+-------+------------+------------+-----------+-----------------+-------+----------+-----+---------+----+\n",
      "|order_id|user_id|merchant_abn|dollar_value|Natural_var|Potential_Outlier|holiday|dayofmonth|month|dayofweek|year|\n",
      "+--------+-------+------------+------------+-----------+-----------------+-------+----------+-----+---------+----+\n",
      "|       3|      3| 60956456424|      136.68|          0|                0|      0|        20|    8|        6|2021|\n",
      "+--------+-------+------------+------------+-----------+-----------------+-------+----------+-----+---------+----+\n",
      "only showing top 1 row\n",
      "\n"
     ]
    }
   ],
   "source": [
    "transactions = transactions.withColumn(\"year\", year(col(\"order_datetime\"))).drop(\"order_datetime\")\n",
    "transactions.show(1)"
   ]
  },
  {
   "cell_type": "code",
   "execution_count": 18,
   "metadata": {},
   "outputs": [],
   "source": [
    "monthly_revenue = transactions.groupBy([\"merchant_abn\", \"year\", \"month\"]).sum(\"dollar_value\").withColumnRenamed(\"sum(dollar_value)\", \"prev_month_val\")"
   ]
  },
  {
   "cell_type": "code",
   "execution_count": 20,
   "metadata": {},
   "outputs": [
    {
     "name": "stderr",
     "output_type": "stream",
     "text": [
      "                                                                                \r"
     ]
    },
    {
     "name": "stdout",
     "output_type": "stream",
     "text": [
      "+------------+----+-----+-----------------+--------------+--------+----+---------------+---------------+----------------+\n",
      "|merchant_abn|year|month|   prev_month_val|Earnings_Class|BNPL_Fee|tags|avg_monthly_inc|monthly_entropy|postcode_entropy|\n",
      "+------------+----+-----+-----------------+--------------+--------+----+---------------+---------------+----------------+\n",
      "| 41383736952|2021|    8|58710.59999227524|             c|    2.25|   1|    -0.71428573|      2.9871547|       7.8581905|\n",
      "+------------+----+-----+-----------------+--------------+--------+----+---------------+---------------+----------------+\n",
      "only showing top 1 row\n",
      "\n"
     ]
    }
   ],
   "source": [
    "merged = monthly_revenue.join(merchants, on=\"merchant_abn\").drop(\"name\", \"revenue\")\n",
    "merged.show(1)"
   ]
  },
  {
   "cell_type": "code",
   "execution_count": 22,
   "metadata": {},
   "outputs": [],
   "source": [
    "merged = merged.filter(((col(\"year\") == 2021) & (col(\"month\") > 2)) | ((col(\"year\") == 2022) & (col(\"month\") < 9)))"
   ]
  },
  {
   "cell_type": "code",
   "execution_count": 39,
   "metadata": {},
   "outputs": [],
   "source": [
    "from pyspark.sql.types import IntegerType, DoubleType\n",
    "\n",
    "@udf(returnType=IntegerType())\n",
    "def split6(year: int, month: int):\n",
    "    \"\"\"\n",
    "    Function to split into 3 x 6 month halves\n",
    "    \"\"\"\n",
    "    if year == 2021:\n",
    "        if month < 9:\n",
    "            return 0\n",
    "        return 1\n",
    "    else:   # year is 2022\n",
    "        if month < 3:\n",
    "            return 1\n",
    "    return 2"
   ]
  },
  {
   "cell_type": "code",
   "execution_count": 40,
   "metadata": {},
   "outputs": [
    {
     "name": "stdout",
     "output_type": "stream",
     "text": [
      "+------------+----+-----+-----------------+--------------+--------+----+---------------+---------------+----------------+-----------+\n",
      "|merchant_abn|year|month|   prev_month_val|Earnings_Class|BNPL_Fee|tags|avg_monthly_inc|monthly_entropy|postcode_entropy|semi_annual|\n",
      "+------------+----+-----+-----------------+--------------+--------+----+---------------+---------------+----------------+-----------+\n",
      "| 41383736952|2021|    8|58710.59999227524|             c|    2.25|   1|    -0.71428573|      2.9871547|       7.8581905|          0|\n",
      "+------------+----+-----+-----------------+--------------+--------+----+---------------+---------------+----------------+-----------+\n",
      "only showing top 1 row\n",
      "\n"
     ]
    }
   ],
   "source": [
    "merged = merged.withColumn(\"semi_annual\", split6(col(\"year\"), col(\"month\")))\n",
    "merged.show(1)"
   ]
  },
  {
   "cell_type": "code",
   "execution_count": 41,
   "metadata": {},
   "outputs": [
    {
     "name": "stdout",
     "output_type": "stream",
     "text": [
      "+------------+-----------+--------------------+--------------------+--------------------+-------------------+\n",
      "|merchant_abn|semi_annual|avg(avg_monthly_inc)|avg(avg_monthly_inc)|avg(avg_monthly_inc)|avg(prev_month_val)|\n",
      "+------------+-----------+--------------------+--------------------+--------------------+-------------------+\n",
      "| 68559320474|          0|  -1.952380895614624|  -1.952380895614624|  -1.952380895614624| 331634.50163896877|\n",
      "+------------+-----------+--------------------+--------------------+--------------------+-------------------+\n",
      "only showing top 1 row\n",
      "\n"
     ]
    }
   ],
   "source": [
    "base = merged.groupBy([\"merchant_abn\", \"semi_annual\"]).avg(\"avg_monthly_inc\", \"avg_monthly_inc\", \"avg_monthly_inc\", \"prev_month_val\")\n",
    "base.show(1)"
   ]
  },
  {
   "cell_type": "code",
   "execution_count": 48,
   "metadata": {},
   "outputs": [
    {
     "data": {
      "text/html": [
       "<div>\n",
       "<style scoped>\n",
       "    .dataframe tbody tr th:only-of-type {\n",
       "        vertical-align: middle;\n",
       "    }\n",
       "\n",
       "    .dataframe tbody tr th {\n",
       "        vertical-align: top;\n",
       "    }\n",
       "\n",
       "    .dataframe thead th {\n",
       "        text-align: right;\n",
       "    }\n",
       "</style>\n",
       "<table border=\"1\" class=\"dataframe\">\n",
       "  <thead>\n",
       "    <tr style=\"text-align: right;\">\n",
       "      <th></th>\n",
       "      <th>merchant_abn</th>\n",
       "      <th>semi_annual</th>\n",
       "      <th>avg(avg_monthly_inc)</th>\n",
       "      <th>avg(avg_monthly_inc)</th>\n",
       "      <th>avg(avg_monthly_inc)</th>\n",
       "      <th>avg(prev_month_val)</th>\n",
       "      <th>Earnings_Class</th>\n",
       "      <th>BNPL_Fee</th>\n",
       "      <th>tags</th>\n",
       "    </tr>\n",
       "  </thead>\n",
       "  <tbody>\n",
       "    <tr>\n",
       "      <th>0</th>\n",
       "      <td>68559320474</td>\n",
       "      <td>0</td>\n",
       "      <td>-1.952381</td>\n",
       "      <td>-1.952381</td>\n",
       "      <td>-1.952381</td>\n",
       "      <td>331634.501639</td>\n",
       "      <td>b</td>\n",
       "      <td>4.20</td>\n",
       "      <td>11</td>\n",
       "    </tr>\n",
       "    <tr>\n",
       "      <th>1</th>\n",
       "      <td>58688453868</td>\n",
       "      <td>2</td>\n",
       "      <td>-0.095238</td>\n",
       "      <td>-0.095238</td>\n",
       "      <td>-0.095238</td>\n",
       "      <td>11676.213308</td>\n",
       "      <td>b</td>\n",
       "      <td>4.40</td>\n",
       "      <td>18</td>\n",
       "    </tr>\n",
       "    <tr>\n",
       "      <th>2</th>\n",
       "      <td>33437657911</td>\n",
       "      <td>1</td>\n",
       "      <td>-0.047619</td>\n",
       "      <td>-0.047619</td>\n",
       "      <td>-0.047619</td>\n",
       "      <td>10473.841675</td>\n",
       "      <td>c</td>\n",
       "      <td>1.91</td>\n",
       "      <td>5</td>\n",
       "    </tr>\n",
       "    <tr>\n",
       "      <th>3</th>\n",
       "      <td>70223714517</td>\n",
       "      <td>2</td>\n",
       "      <td>0.095238</td>\n",
       "      <td>0.095238</td>\n",
       "      <td>0.095238</td>\n",
       "      <td>53736.749983</td>\n",
       "      <td>b</td>\n",
       "      <td>3.51</td>\n",
       "      <td>6</td>\n",
       "    </tr>\n",
       "    <tr>\n",
       "      <th>4</th>\n",
       "      <td>13118172970</td>\n",
       "      <td>0</td>\n",
       "      <td>-0.523810</td>\n",
       "      <td>-0.523810</td>\n",
       "      <td>-0.523810</td>\n",
       "      <td>53856.799963</td>\n",
       "      <td>b</td>\n",
       "      <td>4.57</td>\n",
       "      <td>5</td>\n",
       "    </tr>\n",
       "  </tbody>\n",
       "</table>\n",
       "</div>"
      ],
      "text/plain": [
       "   merchant_abn  semi_annual  avg(avg_monthly_inc)  avg(avg_monthly_inc)  \\\n",
       "0   68559320474            0             -1.952381             -1.952381   \n",
       "1   58688453868            2             -0.095238             -0.095238   \n",
       "2   33437657911            1             -0.047619             -0.047619   \n",
       "3   70223714517            2              0.095238              0.095238   \n",
       "4   13118172970            0             -0.523810             -0.523810   \n",
       "\n",
       "   avg(avg_monthly_inc)  avg(prev_month_val) Earnings_Class  BNPL_Fee  tags  \n",
       "0             -1.952381        331634.501639              b      4.20    11  \n",
       "1             -0.095238         11676.213308              b      4.40    18  \n",
       "2             -0.047619         10473.841675              c      1.91     5  \n",
       "3              0.095238         53736.749983              b      3.51     6  \n",
       "4             -0.523810         53856.799963              b      4.57     5  "
      ]
     },
     "execution_count": 48,
     "metadata": {},
     "output_type": "execute_result"
    }
   ],
   "source": [
    "base_pd = base.join(merchants.select(\"merchant_abn\", \"Earnings_Class\", \"BNPL_Fee\", \"tags\"), on=\"merchant_abn\").toPandas()\n",
    "base_pd.head()"
   ]
  },
  {
   "cell_type": "code",
   "execution_count": 57,
   "metadata": {},
   "outputs": [],
   "source": [
    "outcome = []\n",
    "for key, row in base_pd.iterrows():\n",
    "    semi = row[\"semi_annual\"]\n",
    "\n",
    "    # Last half\n",
    "    if semi == 2:\n",
    "        outcome.append(np.nan)\n",
    "        continue\n",
    "\n",
    "    small = base_pd[base_pd[\"merchant_abn\"] == row[\"merchant_abn\"]]\n",
    "    if (semi + 1) in small[\"semi_annual\"]:\n",
    "        outcome.append(small[small[\"semi_annual\"] == (semi + 1)][\"avg(prev_month_val)\"].values[0])\n",
    "        continue\n",
    "\n",
    "    outcome.append(0)\n",
    "    \n",
    "\n",
    "base_pd[\"outcome\"] = outcome\n"
   ]
  },
  {
   "cell_type": "code",
   "execution_count": 58,
   "metadata": {},
   "outputs": [
    {
     "data": {
      "text/html": [
       "<div>\n",
       "<style scoped>\n",
       "    .dataframe tbody tr th:only-of-type {\n",
       "        vertical-align: middle;\n",
       "    }\n",
       "\n",
       "    .dataframe tbody tr th {\n",
       "        vertical-align: top;\n",
       "    }\n",
       "\n",
       "    .dataframe thead th {\n",
       "        text-align: right;\n",
       "    }\n",
       "</style>\n",
       "<table border=\"1\" class=\"dataframe\">\n",
       "  <thead>\n",
       "    <tr style=\"text-align: right;\">\n",
       "      <th></th>\n",
       "      <th>merchant_abn</th>\n",
       "      <th>semi_annual</th>\n",
       "      <th>avg(avg_monthly_inc)</th>\n",
       "      <th>avg(avg_monthly_inc)</th>\n",
       "      <th>avg(avg_monthly_inc)</th>\n",
       "      <th>avg(prev_month_val)</th>\n",
       "      <th>Earnings_Class</th>\n",
       "      <th>BNPL_Fee</th>\n",
       "      <th>tags</th>\n",
       "      <th>outcome</th>\n",
       "    </tr>\n",
       "  </thead>\n",
       "  <tbody>\n",
       "    <tr>\n",
       "      <th>0</th>\n",
       "      <td>68559320474</td>\n",
       "      <td>0</td>\n",
       "      <td>-1.952381</td>\n",
       "      <td>-1.952381</td>\n",
       "      <td>-1.952381</td>\n",
       "      <td>331634.501639</td>\n",
       "      <td>b</td>\n",
       "      <td>4.20</td>\n",
       "      <td>11</td>\n",
       "      <td>0.000000</td>\n",
       "    </tr>\n",
       "    <tr>\n",
       "      <th>1</th>\n",
       "      <td>58688453868</td>\n",
       "      <td>2</td>\n",
       "      <td>-0.095238</td>\n",
       "      <td>-0.095238</td>\n",
       "      <td>-0.095238</td>\n",
       "      <td>11676.213308</td>\n",
       "      <td>b</td>\n",
       "      <td>4.40</td>\n",
       "      <td>18</td>\n",
       "      <td>NaN</td>\n",
       "    </tr>\n",
       "    <tr>\n",
       "      <th>2</th>\n",
       "      <td>33437657911</td>\n",
       "      <td>1</td>\n",
       "      <td>-0.047619</td>\n",
       "      <td>-0.047619</td>\n",
       "      <td>-0.047619</td>\n",
       "      <td>10473.841675</td>\n",
       "      <td>c</td>\n",
       "      <td>1.91</td>\n",
       "      <td>5</td>\n",
       "      <td>11503.426658</td>\n",
       "    </tr>\n",
       "    <tr>\n",
       "      <th>3</th>\n",
       "      <td>70223714517</td>\n",
       "      <td>2</td>\n",
       "      <td>0.095238</td>\n",
       "      <td>0.095238</td>\n",
       "      <td>0.095238</td>\n",
       "      <td>53736.749983</td>\n",
       "      <td>b</td>\n",
       "      <td>3.51</td>\n",
       "      <td>6</td>\n",
       "      <td>NaN</td>\n",
       "    </tr>\n",
       "    <tr>\n",
       "      <th>4</th>\n",
       "      <td>13118172970</td>\n",
       "      <td>0</td>\n",
       "      <td>-0.523810</td>\n",
       "      <td>-0.523810</td>\n",
       "      <td>-0.523810</td>\n",
       "      <td>53856.799963</td>\n",
       "      <td>b</td>\n",
       "      <td>4.57</td>\n",
       "      <td>5</td>\n",
       "      <td>0.000000</td>\n",
       "    </tr>\n",
       "  </tbody>\n",
       "</table>\n",
       "</div>"
      ],
      "text/plain": [
       "   merchant_abn  semi_annual  avg(avg_monthly_inc)  avg(avg_monthly_inc)  \\\n",
       "0   68559320474            0             -1.952381             -1.952381   \n",
       "1   58688453868            2             -0.095238             -0.095238   \n",
       "2   33437657911            1             -0.047619             -0.047619   \n",
       "3   70223714517            2              0.095238              0.095238   \n",
       "4   13118172970            0             -0.523810             -0.523810   \n",
       "\n",
       "   avg(avg_monthly_inc)  avg(prev_month_val) Earnings_Class  BNPL_Fee  tags  \\\n",
       "0             -1.952381        331634.501639              b      4.20    11   \n",
       "1             -0.095238         11676.213308              b      4.40    18   \n",
       "2             -0.047619         10473.841675              c      1.91     5   \n",
       "3              0.095238         53736.749983              b      3.51     6   \n",
       "4             -0.523810         53856.799963              b      4.57     5   \n",
       "\n",
       "        outcome  \n",
       "0      0.000000  \n",
       "1           NaN  \n",
       "2  11503.426658  \n",
       "3           NaN  \n",
       "4      0.000000  "
      ]
     },
     "execution_count": 58,
     "metadata": {},
     "output_type": "execute_result"
    }
   ],
   "source": [
    "base_pd.head()"
   ]
  },
  {
   "cell_type": "code",
   "execution_count": 60,
   "metadata": {},
   "outputs": [
    {
     "data": {
      "text/plain": [
       "merchant_abn            3999\n",
       "semi_annual             3999\n",
       "avg(avg_monthly_inc)    3999\n",
       "avg(avg_monthly_inc)    3999\n",
       "avg(avg_monthly_inc)    3999\n",
       "avg(prev_month_val)     3999\n",
       "Earnings_Class          3999\n",
       "BNPL_Fee                3999\n",
       "tags                    3999\n",
       "outcome                    2\n",
       "dtype: int64"
      ]
     },
     "execution_count": 60,
     "metadata": {},
     "output_type": "execute_result"
    }
   ],
   "source": [
    "base_pd[base_pd[\"outcome\"] != 0].count()"
   ]
  },
  {
   "cell_type": "code",
   "execution_count": 62,
   "metadata": {},
   "outputs": [
    {
     "data": {
      "text/html": [
       "<div>\n",
       "<style scoped>\n",
       "    .dataframe tbody tr th:only-of-type {\n",
       "        vertical-align: middle;\n",
       "    }\n",
       "\n",
       "    .dataframe tbody tr th {\n",
       "        vertical-align: top;\n",
       "    }\n",
       "\n",
       "    .dataframe thead th {\n",
       "        text-align: right;\n",
       "    }\n",
       "</style>\n",
       "<table border=\"1\" class=\"dataframe\">\n",
       "  <thead>\n",
       "    <tr style=\"text-align: right;\">\n",
       "      <th></th>\n",
       "      <th>merchant_abn</th>\n",
       "      <th>semi_annual</th>\n",
       "      <th>avg(avg_monthly_inc)</th>\n",
       "      <th>avg(avg_monthly_inc)</th>\n",
       "      <th>avg(avg_monthly_inc)</th>\n",
       "      <th>avg(prev_month_val)</th>\n",
       "      <th>Earnings_Class</th>\n",
       "      <th>BNPL_Fee</th>\n",
       "      <th>tags</th>\n",
       "      <th>outcome</th>\n",
       "    </tr>\n",
       "  </thead>\n",
       "  <tbody>\n",
       "    <tr>\n",
       "      <th>2</th>\n",
       "      <td>33437657911</td>\n",
       "      <td>1</td>\n",
       "      <td>-0.047619</td>\n",
       "      <td>-0.047619</td>\n",
       "      <td>-0.047619</td>\n",
       "      <td>10473.841675</td>\n",
       "      <td>c</td>\n",
       "      <td>1.91</td>\n",
       "      <td>5</td>\n",
       "      <td>11503.426658</td>\n",
       "    </tr>\n",
       "    <tr>\n",
       "      <th>11469</th>\n",
       "      <td>58688453868</td>\n",
       "      <td>0</td>\n",
       "      <td>-0.095238</td>\n",
       "      <td>-0.095238</td>\n",
       "      <td>-0.095238</td>\n",
       "      <td>9619.079993</td>\n",
       "      <td>b</td>\n",
       "      <td>4.40</td>\n",
       "      <td>18</td>\n",
       "      <td>11819.859990</td>\n",
       "    </tr>\n",
       "  </tbody>\n",
       "</table>\n",
       "</div>"
      ],
      "text/plain": [
       "       merchant_abn  semi_annual  avg(avg_monthly_inc)  avg(avg_monthly_inc)  \\\n",
       "2       33437657911            1             -0.047619             -0.047619   \n",
       "11469   58688453868            0             -0.095238             -0.095238   \n",
       "\n",
       "       avg(avg_monthly_inc)  avg(prev_month_val) Earnings_Class  BNPL_Fee  \\\n",
       "2                 -0.047619         10473.841675              c      1.91   \n",
       "11469             -0.095238          9619.079993              b      4.40   \n",
       "\n",
       "       tags       outcome  \n",
       "2         5  11503.426658  \n",
       "11469    18  11819.859990  "
      ]
     },
     "execution_count": 62,
     "metadata": {},
     "output_type": "execute_result"
    },
    {
     "name": "stdout",
     "output_type": "stream",
     "text": [
      "22/10/09 14:47:05 WARN HeartbeatReceiver: Removing executor driver with no recent heartbeats: 53928439 ms exceeds timeout 120000 ms\n",
      "22/10/09 14:47:05 WARN SparkContext: Killing executors is not supported by current scheduler.\n"
     ]
    }
   ],
   "source": [
    "base_pd[base_pd[\"outcome\"] != 0].dropna()"
   ]
  },
  {
   "cell_type": "markdown",
   "metadata": {},
   "source": []
  }
 ],
 "metadata": {
  "kernelspec": {
   "display_name": "Python 3.9.13 ('virtual-p2')",
   "language": "python",
   "name": "python3"
  },
  "language_info": {
   "codemirror_mode": {
    "name": "ipython",
    "version": 3
   },
   "file_extension": ".py",
   "mimetype": "text/x-python",
   "name": "python",
   "nbconvert_exporter": "python",
   "pygments_lexer": "ipython3",
   "version": "3.9.13"
  },
  "orig_nbformat": 4,
  "vscode": {
   "interpreter": {
    "hash": "fcf6849838b3a8621666e21fdc4cc1583090fffb5f1906a909fbc1c95ae1bb65"
   }
  }
 },
 "nbformat": 4,
 "nbformat_minor": 2
}
