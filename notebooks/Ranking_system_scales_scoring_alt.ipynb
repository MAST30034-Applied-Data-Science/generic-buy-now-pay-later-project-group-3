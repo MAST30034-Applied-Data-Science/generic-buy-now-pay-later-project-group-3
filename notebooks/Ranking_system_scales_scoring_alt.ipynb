{
 "cells": [
  {
   "cell_type": "code",
   "execution_count": 22,
   "metadata": {},
   "outputs": [],
   "source": [
    "from pyspark.sql import SparkSession, functions as F\n",
    "from pyspark.ml import feature as H\n",
    "# First lets reed the datasets\n",
    "spark = (\n",
    "    SparkSession.builder.appName(\"Data_Explorer\")\n",
    "    .config(\"spark.sql.repl.eagerEval.enabled\", True) \n",
    "    .config(\"spark.sql.parquet.cacheMetadata\", \"true\")\n",
    "    .config(\"spark.sql.session.timeZone\", \"Etc/UTC\")\n",
    "    .config(\"spark.driver.memory\", \"4g\")\n",
    "    .getOrCreate()\n",
    ")"
   ]
  },
  {
   "cell_type": "code",
   "execution_count": 23,
   "metadata": {},
   "outputs": [],
   "source": [
    "merchant_info = spark.read.parquet('../data/curated/full_dataset_Variation/')"
   ]
  },
  {
   "cell_type": "code",
   "execution_count": 24,
   "metadata": {},
   "outputs": [],
   "source": [
    "linkage = spark.read.csv('../data/curated/sector_lookup_table.csv', header=True)"
   ]
  },
  {
   "cell_type": "code",
   "execution_count": 25,
   "metadata": {},
   "outputs": [],
   "source": [
    "# pre process industry\n",
    "merchant_info = merchant_info.select('merchant_abn', 'Description').distinct()"
   ]
  },
  {
   "cell_type": "code",
   "execution_count": 26,
   "metadata": {},
   "outputs": [],
   "source": [
    "merchant_info = merchant_info.join(linkage, on= merchant_info.Description == linkage.Description, how='inner')"
   ]
  },
  {
   "cell_type": "code",
   "execution_count": 27,
   "metadata": {},
   "outputs": [],
   "source": [
    "merchant_info = merchant_info.select('merchant_abn', 'sector').distinct()"
   ]
  },
  {
   "cell_type": "code",
   "execution_count": 28,
   "metadata": {},
   "outputs": [],
   "source": [
    "# Read all our tables \n",
    "customer_scaled = spark.read.parquet('../data/Normalised/customer_scaled/')\n",
    "customer_scaled = customer_scaled.fillna(0.5)\n",
    "industry_raw = spark.read.parquet('../data/Normalised/industry_scailed/')\n",
    "industry_raw = industry_raw.fillna(0.5)\n",
    "merchant_scaled = spark.read.parquet('../data/Normalised/merchant_scaled/')\n",
    "merchant_scaled = merchant_scaled.fillna(0.5)\n",
    "revenue_scaled = spark.read.parquet('../data/Normalised/revenue_scailed/')\n",
    "revenue_scaled = revenue_scaled.fillna(0.5)"
   ]
  },
  {
   "cell_type": "code",
   "execution_count": 29,
   "metadata": {},
   "outputs": [],
   "source": [
    "# slip ups \n",
    "industry_scaled = merchant_info.join(industry_raw, on='sector').drop('sector')\n",
    "revenue_scaled = revenue_scaled.select('merchant_abn', 'Revenue_Growth_Avg', 'Total_Revenue')"
   ]
  },
  {
   "cell_type": "code",
   "execution_count": 30,
   "metadata": {},
   "outputs": [],
   "source": [
    "from operator import add\n",
    "from functools import reduce\n",
    "# For each table we need to perform the following steps\n",
    "def scroring_process(dataset, toggle=False):\n",
    "    # first subtract 1 from each cell then square\n",
    "    for col in dataset.columns[1:]:\n",
    "        dataset = dataset.withColumn(col, F.pow((F.col(col) - 1),2))\n",
    "    # sum the columns \n",
    "    if toggle != False:\n",
    "        dataset.withColumn('Industry_score', F.col('Industry_score') * toggle)\n",
    "    new_df = dataset.withColumn('total',F.round(reduce(add, [F.col(x) for x in dataset.columns[1:]]), 8))\n",
    "    return new_df\n"
   ]
  },
  {
   "cell_type": "code",
   "execution_count": 31,
   "metadata": {},
   "outputs": [],
   "source": [
    "# Define our scaliong function\n",
    "def feature_standardisation(dataset): \n",
    "    values = dataset.select(F.max('total').alias('high'), F.min('total').alias('low'))\n",
    "    dataset = dataset.withColumn('total', F.round((F.col('total') - values.select('low').head()[0]) / (values.select('high').head()[0] - values.select('low').head()[0]), 9))\n",
    "    return dataset.select('merchant_abn', 'total')"
   ]
  },
  {
   "cell_type": "code",
   "execution_count": 32,
   "metadata": {},
   "outputs": [
    {
     "name": "stderr",
     "output_type": "stream",
     "text": [
      "                                                                                \r"
     ]
    }
   ],
   "source": [
    "# score industry, then add to merchants \n",
    "industry_scaled = scroring_process(industry_scaled)\n",
    "industry_scaled = industry_scaled.select('merchant_abn','total')\n",
    "industry_scaled = feature_standardisation(industry_scaled)\n",
    "industry_scaled = industry_scaled.withColumnRenamed('total','Industry_score')\n",
    "merchant_scaled = merchant_scaled.join(industry_scaled, on='merchant_abn', how='left')"
   ]
  },
  {
   "cell_type": "code",
   "execution_count": 33,
   "metadata": {},
   "outputs": [],
   "source": [
    "customer_scaled = scroring_process(customer_scaled)\n",
    "merchant_scaled = scroring_process(merchant_scaled)\n",
    "revenue_scaled = scroring_process(revenue_scaled)"
   ]
  },
  {
   "cell_type": "code",
   "execution_count": 34,
   "metadata": {},
   "outputs": [
    {
     "name": "stderr",
     "output_type": "stream",
     "text": [
      "                                                                                \r"
     ]
    }
   ],
   "source": [
    "# rescale them \n",
    "customer_scaled = customer_scaled.select('merchant_abn','total')\n",
    "customer_scaled = feature_standardisation(customer_scaled)\n",
    "customer_scaled = customer_scaled.withColumnRenamed('total','Customer_score')\n",
    "revenue_scaled = revenue_scaled.select('merchant_abn','total')\n",
    "revenue_scaled = feature_standardisation(revenue_scaled)\n",
    "revenue_scaled = revenue_scaled.withColumnRenamed('total','Revenue_score')\n",
    "merchant_scaled = merchant_scaled.select('merchant_abn','total')\n",
    "merchant_scaled = feature_standardisation(merchant_scaled)\n",
    "merchant_scaled = merchant_scaled.withColumnRenamed('total','Merchant_score')"
   ]
  },
  {
   "cell_type": "code",
   "execution_count": 35,
   "metadata": {},
   "outputs": [],
   "source": [
    "# Finally join \n",
    "Full_scores = customer_scaled.join(revenue_scaled, on='merchant_abn', how='inner').join(merchant_scaled, on='merchant_abn', how='inner')"
   ]
  },
  {
   "cell_type": "code",
   "execution_count": 36,
   "metadata": {},
   "outputs": [],
   "source": [
    "# now scale and done \n",
    "#Industry_scale_factor = 1\n",
    "Full_scores = scroring_process(Full_scores)"
   ]
  },
  {
   "cell_type": "code",
   "execution_count": 37,
   "metadata": {},
   "outputs": [],
   "source": [
    "Full_scores = Full_scores.join(merchant_info.join(industry_raw, on='sector').select('merchant_abn', 'sector').distinct(), on='merchant_abn', how='left')"
   ]
  },
  {
   "cell_type": "code",
   "execution_count": 38,
   "metadata": {},
   "outputs": [
    {
     "name": "stderr",
     "output_type": "stream",
     "text": [
      "                                                                                \r"
     ]
    }
   ],
   "source": [
    "Full_scores.write.parquet('../data/Normalised/Final_scores_alt', mode='overwrite')"
   ]
  },
  {
   "cell_type": "code",
   "execution_count": 39,
   "metadata": {},
   "outputs": [
    {
     "name": "stderr",
     "output_type": "stream",
     "text": [
      "                                                                                \r"
     ]
    },
    {
     "data": {
      "text/html": [
       "<table border='1'>\n",
       "<tr><th>merchant_abn</th><th>Customer_score</th><th>Revenue_score</th><th>Merchant_score</th><th>total</th><th>sector</th></tr>\n",
       "<tr><td>51267358936</td><td>0.01978842111457032</td><td>0.002734449080641...</td><td>0.04760055839997249</td><td>0.07012343</td><td>Personal_Services</td></tr>\n",
       "<tr><td>76866488151</td><td>0.03571687576104992</td><td>0.030675506556620036</td><td>0.009347573870853911</td><td>0.07573996</td><td>Personal_Services</td></tr>\n",
       "<tr><td>15704713883</td><td>0.011522631285990405</td><td>0.011707148679378087</td><td>0.06357232296702564</td><td>0.0868021</td><td>Arts_Recreation_S...</td></tr>\n",
       "<tr><td>94110063346</td><td>0.007175589268322...</td><td>0.050007783720136804</td><td>0.055182001492982004</td><td>0.11236537</td><td>Arts_Recreation_S...</td></tr>\n",
       "<tr><td>28880110118</td><td>0.013614814674121432</td><td>0.017838621391935216</td><td>0.08943800747101066</td><td>0.12089144</td><td>Arts_Recreation_S...</td></tr>\n",
       "<tr><td>88299699256</td><td>0.010096594743766975</td><td>0.03807481384371458</td><td>0.07286396215489502</td><td>0.12103537</td><td>Personal_Services</td></tr>\n",
       "<tr><td>80067991455</td><td>0.01041290875028291</td><td>0.04929437771425038</td><td>0.061451868555475866</td><td>0.12115916</td><td>Arts_Recreation_S...</td></tr>\n",
       "<tr><td>68548907085</td><td>0.01057564910210063</td><td>0.05627265137615635</td><td>0.05531034781987344</td><td>0.12215865</td><td>Arts_Recreation_S...</td></tr>\n",
       "<tr><td>99807059634</td><td>0.013676499533085477</td><td>0.0347891150307072</td><td>0.08185567448395024</td><td>0.13032129</td><td>Arts_Recreation_S...</td></tr>\n",
       "<tr><td>38049816588</td><td>0.0191568015919776</td><td>0.03135851143055571</td><td>0.0801403285734116</td><td>0.13065564</td><td>Personal_Services</td></tr>\n",
       "<tr><td>24526454463</td><td>0.029169357657932896</td><td>5.758315323201018E-6</td><td>0.10355933333644957</td><td>0.13273445</td><td>Personal_Services</td></tr>\n",
       "<tr><td>29027010572</td><td>0.03537639530775503</td><td>6.407089962490634E-7</td><td>0.09768020896934224</td><td>0.13305724</td><td>Personal_Services</td></tr>\n",
       "<tr><td>34205660775</td><td>0.029549725173112232</td><td>5.223482824035996E-6</td><td>0.10355933333644957</td><td>0.13311428</td><td>Personal_Services</td></tr>\n",
       "<tr><td>69936752900</td><td>0.010474300476640906</td><td>0.06019346881240632</td><td>0.06595987267567775</td><td>0.13662764</td><td>Arts_Recreation_S...</td></tr>\n",
       "<tr><td>55555661470</td><td>0.02068579918824338</td><td>0.03941817329341101</td><td>0.0799430662727184</td><td>0.14004704</td><td>Personal_Services</td></tr>\n",
       "<tr><td>13803154777</td><td>0.009268369995595875</td><td>0.022433487627184386</td><td>0.10848943276423031</td><td>0.14019129</td><td>Arts_Recreation_S...</td></tr>\n",
       "<tr><td>86201937910</td><td>0.0</td><td>0.08103700889999998</td><td>0.060463041395321576</td><td>0.14150005</td><td>Personal_Services</td></tr>\n",
       "<tr><td>12133839110</td><td>0.007188589658373594</td><td>0.07145634796349279</td><td>0.0647390062587321</td><td>0.14338394</td><td>Personal_Services</td></tr>\n",
       "<tr><td>73266193202</td><td>0.009882717908659603</td><td>0.08107614550096783</td><td>0.052655987999593486</td><td>0.14361485</td><td>Arts_Recreation_S...</td></tr>\n",
       "<tr><td>93263170091</td><td>0.04124822243246904</td><td>0.07953172980782702</td><td>0.023354571325100618</td><td>0.14413452</td><td>Personal_Services</td></tr>\n",
       "</table>\n",
       "only showing top 20 rows\n"
      ],
      "text/plain": [
       "+------------+--------------------+--------------------+--------------------+----------+--------------------+\n",
       "|merchant_abn|      Customer_score|       Revenue_score|      Merchant_score|     total|              sector|\n",
       "+------------+--------------------+--------------------+--------------------+----------+--------------------+\n",
       "| 51267358936| 0.01978842111457032|0.002734449080641...| 0.04760055839997249|0.07012343|   Personal_Services|\n",
       "| 76866488151| 0.03571687576104992|0.030675506556620036|0.009347573870853911|0.07573996|   Personal_Services|\n",
       "| 15704713883|0.011522631285990405|0.011707148679378087| 0.06357232296702564| 0.0868021|Arts_Recreation_S...|\n",
       "| 94110063346|0.007175589268322...|0.050007783720136804|0.055182001492982004|0.11236537|Arts_Recreation_S...|\n",
       "| 28880110118|0.013614814674121432|0.017838621391935216| 0.08943800747101066|0.12089144|Arts_Recreation_S...|\n",
       "| 88299699256|0.010096594743766975| 0.03807481384371458| 0.07286396215489502|0.12103537|   Personal_Services|\n",
       "| 80067991455| 0.01041290875028291| 0.04929437771425038|0.061451868555475866|0.12115916|Arts_Recreation_S...|\n",
       "| 68548907085| 0.01057564910210063| 0.05627265137615635| 0.05531034781987344|0.12215865|Arts_Recreation_S...|\n",
       "| 99807059634|0.013676499533085477|  0.0347891150307072| 0.08185567448395024|0.13032129|Arts_Recreation_S...|\n",
       "| 38049816588|  0.0191568015919776| 0.03135851143055571|  0.0801403285734116|0.13065564|   Personal_Services|\n",
       "| 24526454463|0.029169357657932896|5.758315323201018E-6| 0.10355933333644957|0.13273445|   Personal_Services|\n",
       "| 29027010572| 0.03537639530775503|6.407089962490634E-7| 0.09768020896934224|0.13305724|   Personal_Services|\n",
       "| 34205660775|0.029549725173112232|5.223482824035996E-6| 0.10355933333644957|0.13311428|   Personal_Services|\n",
       "| 69936752900|0.010474300476640906| 0.06019346881240632| 0.06595987267567775|0.13662764|Arts_Recreation_S...|\n",
       "| 55555661470| 0.02068579918824338| 0.03941817329341101|  0.0799430662727184|0.14004704|   Personal_Services|\n",
       "| 13803154777|0.009268369995595875|0.022433487627184386| 0.10848943276423031|0.14019129|Arts_Recreation_S...|\n",
       "| 86201937910|                 0.0| 0.08103700889999998|0.060463041395321576|0.14150005|   Personal_Services|\n",
       "| 12133839110|0.007188589658373594| 0.07145634796349279|  0.0647390062587321|0.14338394|   Personal_Services|\n",
       "| 73266193202|0.009882717908659603| 0.08107614550096783|0.052655987999593486|0.14361485|Arts_Recreation_S...|\n",
       "| 93263170091| 0.04124822243246904| 0.07953172980782702|0.023354571325100618|0.14413452|   Personal_Services|\n",
       "+------------+--------------------+--------------------+--------------------+----------+--------------------+\n",
       "only showing top 20 rows"
      ]
     },
     "execution_count": 39,
     "metadata": {},
     "output_type": "execute_result"
    }
   ],
   "source": [
    "Full_scores.orderBy('total')"
   ]
  },
  {
   "cell_type": "code",
   "execution_count": 50,
   "metadata": {},
   "outputs": [
    {
     "name": "stderr",
     "output_type": "stream",
     "text": [
      "                                                                                \r"
     ]
    },
    {
     "data": {
      "image/png": "[encoded data removed]",
      "text/plain": [
       "<Figure size 432x288 with 1 Axes>"
      ]
     },
     "metadata": {
      "needs_background": "light"
     },
     "output_type": "display_data"
    }
   ],
   "source": [
    "Full_scores = Full_scores.withColumnRenamed('sector', 'Sector')\n",
    "import seaborn as sns\n",
    "import matplotlib.pyplot as plt\n",
    "fig = sns.histplot(x='total', hue='Sector', data=Full_scores.toPandas()).set(title='Distribution of Merchant Score by Sector')\n",
    "plt.xlabel('Merchant Score')\n",
    "plt.ylabel('Frequency of Merchants')\n",
    "plt.title('Distribution of Merchant Score by sector') # You can comment this line out if you don't need title\n",
    "plt.grid()\n",
    "plt.show(fig)"
   ]
  },
  {
   "cell_type": "code",
   "execution_count": 67,
   "metadata": {},
   "outputs": [
    {
     "name": "stderr",
     "output_type": "stream",
     "text": [
      "                                                                                \r"
     ]
    }
   ],
   "source": [
    "pie_data = Full_scores.orderBy('total').limit(100).toPandas()"
   ]
  },
  {
   "cell_type": "code",
   "execution_count": 70,
   "metadata": {},
   "outputs": [
    {
     "data": {
      "text/html": [
       "<div>\n",
       "<style scoped>\n",
       "    .dataframe tbody tr th:only-of-type {\n",
       "        vertical-align: middle;\n",
       "    }\n",
       "\n",
       "    .dataframe tbody tr th {\n",
       "        vertical-align: top;\n",
       "    }\n",
       "\n",
       "    .dataframe thead th {\n",
       "        text-align: right;\n",
       "    }\n",
       "</style>\n",
       "<table border=\"1\" class=\"dataframe\">\n",
       "  <thead>\n",
       "    <tr style=\"text-align: right;\">\n",
       "      <th></th>\n",
       "      <th>merchant_abn</th>\n",
       "      <th>Customer_score</th>\n",
       "      <th>Revenue_score</th>\n",
       "      <th>Merchant_score</th>\n",
       "      <th>total</th>\n",
       "    </tr>\n",
       "    <tr>\n",
       "      <th>Sector</th>\n",
       "      <th></th>\n",
       "      <th></th>\n",
       "      <th></th>\n",
       "      <th></th>\n",
       "      <th></th>\n",
       "    </tr>\n",
       "  </thead>\n",
       "  <tbody>\n",
       "    <tr>\n",
       "      <th>Arts_Recreation_Services</th>\n",
       "      <td>44</td>\n",
       "      <td>44</td>\n",
       "      <td>44</td>\n",
       "      <td>44</td>\n",
       "      <td>44</td>\n",
       "    </tr>\n",
       "    <tr>\n",
       "      <th>Personal_Services</th>\n",
       "      <td>56</td>\n",
       "      <td>56</td>\n",
       "      <td>56</td>\n",
       "      <td>56</td>\n",
       "      <td>56</td>\n",
       "    </tr>\n",
       "  </tbody>\n",
       "</table>\n",
       "</div>"
      ],
      "text/plain": [
       "                          merchant_abn  Customer_score  Revenue_score  \\\n",
       "Sector                                                                  \n",
       "Arts_Recreation_Services            44              44             44   \n",
       "Personal_Services                   56              56             56   \n",
       "\n",
       "                          Merchant_score  total  \n",
       "Sector                                           \n",
       "Arts_Recreation_Services              44     44  \n",
       "Personal_Services                     56     56  "
      ]
     },
     "execution_count": 70,
     "metadata": {},
     "output_type": "execute_result"
    }
   ],
   "source": [
    "pie_data.groupby('Sector').count()"
   ]
  },
  {
   "cell_type": "code",
   "execution_count": 77,
   "metadata": {},
   "outputs": [
    {
     "data": {
      "image/png": "[encoded data removed]",
      "text/plain": [
       "<Figure size 432x288 with 1 Axes>"
      ]
     },
     "metadata": {},
     "output_type": "display_data"
    }
   ],
   "source": [
    "# library\n",
    "import matplotlib.pyplot as plt\n",
    "# create data\n",
    "names = ['Personal_Services', 'Arts_Recreation_Services']\n",
    "size = [56,44]\n",
    " \n",
    "# Create a circle at the center of the plot\n",
    "my_circle = plt.Circle( (0,0), 0.8, color='white')\n",
    "\n",
    "# Custom wedges\n",
    "plt.pie(size, labels=names, wedgeprops = { 'linewidth' : 2, 'edgecolor' : 'white' }, autopct='%1.1f%%')\n",
    "p = plt.gcf()\n",
    "p.gca().add_artist(my_circle)\n",
    "plt.title('Top 100 Merchants Sector proportions')\n",
    "plt.show()"
   ]
  },
  {
   "cell_type": "code",
   "execution_count": null,
   "metadata": {},
   "outputs": [],
   "source": []
  }
 ],
 "metadata": {
  "kernelspec": {
   "display_name": "Python 3.8.10 64-bit",
   "language": "python",
   "name": "python3"
  },
  "language_info": {
   "codemirror_mode": {
    "name": "ipython",
    "version": 3
   },
   "file_extension": ".py",
   "mimetype": "text/x-python",
   "name": "python",
   "nbconvert_exporter": "python",
   "pygments_lexer": "ipython3",
   "version": "3.8.10"
  },
  "orig_nbformat": 4,
  "vscode": {
   "interpreter": {
    "hash": "31f2aee4e71d21fbe5cf8b01ff0e069b9275f58929596ceb00d14d90e3e16cd6"
   }
  }
 },
 "nbformat": 4,
 "nbformat_minor": 2
}
