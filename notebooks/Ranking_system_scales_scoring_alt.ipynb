{
 "cells": [
  {
   "cell_type": "code",
   "execution_count": 1,
   "metadata": {},
   "outputs": [
    {
     "name": "stdout",
     "output_type": "stream",
     "text": [
      "22/10/12 22:56:13 WARN Utils: Your hostname, James-N580VD-DM229T resolves to a loopback address: 127.0.1.1; using 172.30.26.19 instead (on interface eth0)\n",
      "22/10/12 22:56:13 WARN Utils: Set SPARK_LOCAL_IP if you need to bind to another address\n"
     ]
    },
    {
     "name": "stderr",
     "output_type": "stream",
     "text": [
      "Setting default log level to \"WARN\".\n",
      "To adjust logging level use sc.setLogLevel(newLevel). For SparkR, use setLogLevel(newLevel).\n"
     ]
    },
    {
     "name": "stdout",
     "output_type": "stream",
     "text": [
      "22/10/12 22:56:16 WARN NativeCodeLoader: Unable to load native-hadoop library for your platform... using builtin-java classes where applicable\n"
     ]
    }
   ],
   "source": [
    "from pyspark.sql import SparkSession, functions as F\n",
    "from pyspark.ml import feature as H\n",
    "# First lets reed the datasets\n",
    "spark = (\n",
    "    SparkSession.builder.appName(\"Data_Explorer\")\n",
    "    .config(\"spark.sql.repl.eagerEval.enabled\", True) \n",
    "    .config(\"spark.sql.parquet.cacheMetadata\", \"true\")\n",
    "    .config(\"spark.sql.session.timeZone\", \"Etc/UTC\")\n",
    "    .config(\"spark.driver.memory\", \"4g\")\n",
    "    .getOrCreate()\n",
    ")"
   ]
  },
  {
   "cell_type": "code",
   "execution_count": 118,
   "metadata": {},
   "outputs": [],
   "source": [
    "merchant_info = spark.read.parquet('../data/curated/full_dataset_Variation/')"
   ]
  },
  {
   "cell_type": "code",
   "execution_count": 119,
   "metadata": {},
   "outputs": [],
   "source": [
    "linkage = spark.read.csv('../data/curated/sector_lookup_table.csv', header=True)"
   ]
  },
  {
   "cell_type": "code",
   "execution_count": 121,
   "metadata": {},
   "outputs": [],
   "source": [
    "# pre process industry\n",
    "merchant_desc = merchant_info.select('merchant_abn', 'Description').distinct()"
   ]
  },
  {
   "cell_type": "code",
   "execution_count": 122,
   "metadata": {},
   "outputs": [],
   "source": [
    "merchant_desc = merchant_desc.join(linkage, on= merchant_desc.Description == linkage.Description, how='inner')"
   ]
  },
  {
   "cell_type": "code",
   "execution_count": 123,
   "metadata": {},
   "outputs": [],
   "source": [
    "merchant_desc = merchant_desc.select('merchant_abn', 'sector').distinct()"
   ]
  },
  {
   "cell_type": "code",
   "execution_count": 160,
   "metadata": {},
   "outputs": [],
   "source": [
    "# Read all our tables \n",
    "customer_scaled = spark.read.parquet('../data/Normalised/customer_scaled/')\n",
    "customer_scaled = customer_scaled.fillna(0.5)\n",
    "industry_raw = spark.read.parquet('../data/Normalised/industry_scailed/')\n",
    "industry_raw = industry_raw.fillna(0.5)\n",
    "merchant_scaled = spark.read.parquet('../data/Normalised/merchant_scaled/')\n",
    "merchant_scaled = merchant_scaled.fillna(0.5)\n",
    "revenue_scaled = spark.read.parquet('../data/Normalised/revenue_scailed/')\n",
    "revenue_scaled = revenue_scaled.fillna(0.5)"
   ]
  },
  {
   "cell_type": "code",
   "execution_count": 161,
   "metadata": {},
   "outputs": [
    {
     "data": {
      "text/html": [
       "<table border='1'>\n",
       "<tr><th>merchant_abn</th><th>Total_Revenue</th><th>Month_3</th><th>Month_4</th><th>Month_5</th><th>Month_6</th><th>Month_7</th><th>Month_8</th><th>Month_9</th><th>Growth_4</th><th>Growth_5</th><th>Growth_6</th><th>Growth_7</th><th>Growth_8</th><th>Growth_9</th><th>Revenue_Growth_Avg</th></tr>\n",
       "<tr><td>79827781481</td><td>1.0</td><td>27401.715</td><td>55649.880000000005</td><td>89379.21600000001</td><td>119941.119</td><td>153069.516</td><td>187679.39399999997</td><td>219812.55299999996</td><td>0.5076051376930193</td><td>0.3773733705607801</td><td>0.254807552695919</td><td>0.216427136282315</td><td>0.18440957881609513</td><td>0.14618436736868248</td><td>0.4917</td></tr>\n",
       "<tr><td>48534649627</td><td>0.9593</td><td>25108.155000000002</td><td>51791.49000000002</td><td>81973.41300000004</td><td>112003.43400000007</td><td>144307.39500000008</td><td>177195.069</td><td>209601.333</td><td>0.5152069384371836</td><td>0.3681916111020046</td><td>0.26811696684228453</td><td>0.22385520159933586</td><td>0.1856015191935161</td><td>0.15460905489565765</td><td>0.5001</td></tr>\n",
       "<tr><td>32361057556</td><td>0.9567</td><td>25323.300000000007</td><td>51574.80599999998</td><td>81549.09899999999</td><td>112258.188</td><td>144135.12600000002</td><td>176515.36200000008</td><td>209036.0249999998</td><td>0.5089986378232811</td><td>0.36756130193418823</td><td>0.2735576758106946</td><td>0.22116009389688965</td><td>0.18344146159924624</td><td>0.15557444225223735</td><td>0.4985</td></tr>\n",
       "<tr><td>86578477987</td><td>0.9536</td><td>25288.515</td><td>51318.485999999975</td><td>81484.236</td><td>111847.50900000012</td><td>143479.72800000024</td><td>176419.65600000037</td><td>209129.41500000036</td><td>0.5072240634690585</td><td>0.3702035078294166</td><td>0.2714702658241596</td><td>0.22046472655705104</td><td>0.18671348049788772</td><td>0.15640917371666696</td><td>0.4992</td></tr>\n",
       "<tr><td>45629217853</td><td>0.9079</td><td>24032.44800000001</td><td>49599.108000000124</td><td>78863.11500000034</td><td>107269.91400000094</td><td>136904.4840000012</td><td>168456.04400000005</td><td>199304.97999999896</td><td>0.5154661249149893</td><td>0.3710734352808672</td><td>0.2648160881344638</td><td>0.21646164635484105</td><td>0.18729847413488382</td><td>0.15478256489124892</td><td>0.4985</td></tr>\n",
       "<tr><td>38700038932</td><td>0.9064</td><td>23678.964</td><td>50980.28399999999</td><td>79461.07199999999</td><td>108283.149</td><td>137158.35300000003</td><td>168848.145</td><td>200449.67399999997</td><td>0.5355270284488803</td><td>0.35842441189315943</td><td>0.2661732436318417</td><td>0.2105245751966708</td><td>0.18768220403013583</td><td>0.15765318231447953</td><td>0.5003</td></tr>\n",
       "<tr><td>96680767841</td><td>0.896</td><td>25367.832000000002</td><td>50179.346999999994</td><td>79972.02000000002</td><td>107039.52000000003</td><td>136344.83399999997</td><td>166588.55099999995</td><td>196569.12599999987</td><td>0.49445671343630665</td><td>0.37253870791309285</td><td>0.2528738918111741</td><td>0.21493527213506267</td><td>0.18154739217342725</td><td>0.1525192465880931</td><td>0.4864</td></tr>\n",
       "<tr><td>21439773999</td><td>0.883</td><td>23642.343</td><td>48253.76100000003</td><td>75715.18700000005</td><td>103824.00500000005</td><td>133041.245</td><td>162956.69699999996</td><td>192893.7229999999</td><td>0.5100414452668262</td><td>0.3626937618208617</td><td>0.2707352504847023</td><td>0.21961039225091397</td><td>0.18357915047824006</td><td>0.15519958625092206</td><td>0.4961</td></tr>\n",
       "<tr><td>63123845164</td><td>0.8667</td><td>22274.019000000004</td><td>45205.26299999999</td><td>72821.565</td><td>100205.06400000001</td><td>128043.04499999998</td><td>156004.11899999995</td><td>187340.74199999997</td><td>0.5072693416251111</td><td>0.3792324704913992</td><td>0.2732746021698066</td><td>0.2174111135829359</td><td>0.17923292140767114</td><td>0.16727073174504684</td><td>0.5025</td></tr>\n",
       "<tr><td>64403598239</td><td>0.8567</td><td>22603.382999999998</td><td>46465.52399999999</td><td>73456.443</td><td>100052.51399999997</td><td>128039.08500000004</td><td>157656.50100000016</td><td>187075.44000000035</td><td>0.5135450748387126</td><td>0.36744113787268473</td><td>0.26582111669877656</td><td>0.21857834269902868</td><td>0.18786041686920413</td><td>0.15725708837033944</td><td>0.4987</td></tr>\n",
       "<tr><td>82368304209</td><td>0.8472</td><td>24907.572000000004</td><td>44753.130000000005</td><td>71775.49500000001</td><td>97897.05900000002</td><td>125767.89000000001</td><td>154247.139</td><td>183904.51499999998</td><td>0.4434451400382498</td><td>0.3764845508902447</td><td>0.2668268512540301</td><td>0.2216053000491619</td><td>0.18463388808786907</td><td>0.1612650782391068</td><td>0.4822</td></tr>\n",
       "<tr><td>89726005175</td><td>0.8309</td><td>22368.499999999996</td><td>45213.30799999998</td><td>71243.63899999995</td><td>97092.14799999996</td><td>124409.65000000008</td><td>153210.27599999987</td><td>181249.49499999982</td><td>0.5052673429690213</td><td>0.36537059820877466</td><td>0.26622656447975607</td><td>0.21957703441815088</td><td>0.18798103333486463</td><td>0.15469957033535447</td><td>0.4954</td></tr>\n",
       "<tr><td>94493496784</td><td>0.7921</td><td>20319.534000000003</td><td>43222.12200000003</td><td>68714.622</td><td>93176.22599999994</td><td>118909.35899999982</td><td>145860.78999999986</td><td>173183.43100000007</td><td>0.5298811566910114</td><td>0.370990907874018</td><td>0.26253053005173177</td><td>0.21640965199383444</td><td>0.1847750241857326</td><td>0.1577670614459659</td><td>0.5022</td></tr>\n",
       "<tr><td>49322182190</td><td>0.7661</td><td>19915.739999999994</td><td>41501.997</td><td>65441.88900000002</td><td>89641.17900000002</td><td>114726.12299999992</td><td>141882.39899999983</td><td>167608.38599999985</td><td>0.5201257423829511</td><td>0.3658190856929574</td><td>0.2699572927303867</td><td>0.21865067295963553</td><td>0.1913998930903328</td><td>0.15348866255415194</td><td>0.5013</td></tr>\n",
       "<tr><td>79417999332</td><td>0.6972</td><td>18511.938</td><td>38089.178999999975</td><td>60208.397999999965</td><td>82371.85799999992</td><td>105866.49299999999</td><td>129524.1989999999</td><td>152883.37499999988</td><td>0.5139843260995463</td><td>0.3673776372525308</td><td>0.2690659229757811</td><td>0.2219270170780104</td><td>0.18265085738920445</td><td>0.15279081849154622</td><td>0.4978</td></tr>\n",
       "<tr><td>40515428545</td><td>0.6967</td><td>19808.253000000004</td><td>38181.06899999998</td><td>59432.246999999996</td><td>79937.74800000002</td><td>104271.41700000002</td><td>129416.26500000003</td><td>153308.259</td><td>0.481202241875417</td><td>0.35756982232221535</td><td>0.25651837227138324</td><td>0.23336854624311848</td><td>0.19429434159608924</td><td>0.1558428368819971</td><td>0.4894</td></tr>\n",
       "<tr><td>35909341340</td><td>0.6959</td><td>17893.404000000002</td><td>37252.90800000001</td><td>59379.03900000003</td><td>80509.49100000002</td><td>104157.57599999999</td><td>127884.36600000001</td><td>151844.70600000006</td><td>0.5196776584528651</td><td>0.3726252794357283</td><td>0.26245914286056016</td><td>0.22704142999641203</td><td>0.18553315578856622</td><td>0.15779503040428716</td><td>0.5029</td></tr>\n",
       "<tr><td>72472909171</td><td>0.6898</td><td>18865.368000000006</td><td>38425.544999999984</td><td>60250.23899999998</td><td>81511.98100000012</td><td>104086.55500000004</td><td>128147.12799999998</td><td>151611.5599999998</td><td>0.5090409778182713</td><td>0.3622341481500182</td><td>0.26084192457548183</td><td>0.21688270881863572</td><td>0.18775741115321717</td><td>0.1547667737209474</td><td>0.4931</td></tr>\n",
       "<tr><td>98166254020</td><td>0.6888</td><td>19785.915</td><td>38049.75</td><td>58639.14899999999</td><td>81390.555</td><td>105002.36099999999</td><td>126136.467</td><td>149016.564</td><td>0.4799988173378274</td><td>0.3511203581757299</td><td>0.27953373705339646</td><td>0.22486928651061475</td><td>0.16754953188914046</td><td>0.15354062921488384</td><td>0.4829</td></tr>\n",
       "<tr><td>67978471888</td><td>0.6858</td><td>18387.243</td><td>37814.688</td><td>60316.083</td><td>81736.21799999996</td><td>105599.06999999999</td><td>128038.52699999999</td><td>151509.663</td><td>0.5137539413256563</td><td>0.37305796200326863</td><td>0.2620641806548962</td><td>0.22597596740198592</td><td>0.17525550727399417</td><td>0.15491510927590152</td><td>0.4971</td></tr>\n",
       "</table>\n",
       "only showing top 20 rows\n"
      ],
      "text/plain": [
       "+------------+-------------+------------------+------------------+------------------+------------------+------------------+------------------+------------------+-------------------+-------------------+-------------------+-------------------+-------------------+-------------------+------------------+\n",
       "|merchant_abn|Total_Revenue|           Month_3|           Month_4|           Month_5|           Month_6|           Month_7|           Month_8|           Month_9|           Growth_4|           Growth_5|           Growth_6|           Growth_7|           Growth_8|           Growth_9|Revenue_Growth_Avg|\n",
       "+------------+-------------+------------------+------------------+------------------+------------------+------------------+------------------+------------------+-------------------+-------------------+-------------------+-------------------+-------------------+-------------------+------------------+\n",
       "| 79827781481|          1.0|         27401.715|55649.880000000005| 89379.21600000001|        119941.119|        153069.516|187679.39399999997|219812.55299999996| 0.5076051376930193| 0.3773733705607801|  0.254807552695919|  0.216427136282315|0.18440957881609513|0.14618436736868248|            0.4917|\n",
       "| 48534649627|       0.9593|25108.155000000002| 51791.49000000002| 81973.41300000004|112003.43400000007|144307.39500000008|        177195.069|        209601.333| 0.5152069384371836| 0.3681916111020046|0.26811696684228453|0.22385520159933586| 0.1856015191935161|0.15460905489565765|            0.5001|\n",
       "| 32361057556|       0.9567|25323.300000000007| 51574.80599999998| 81549.09899999999|        112258.188|144135.12600000002|176515.36200000008| 209036.0249999998| 0.5089986378232811|0.36756130193418823| 0.2735576758106946|0.22116009389688965|0.18344146159924624|0.15557444225223735|            0.4985|\n",
       "| 86578477987|       0.9536|         25288.515|51318.485999999975|         81484.236|111847.50900000012|143479.72800000024|176419.65600000037|209129.41500000036| 0.5072240634690585| 0.3702035078294166| 0.2714702658241596|0.22046472655705104|0.18671348049788772|0.15640917371666696|            0.4992|\n",
       "| 45629217853|       0.9079| 24032.44800000001|49599.108000000124| 78863.11500000034|107269.91400000094| 136904.4840000012|168456.04400000005|199304.97999999896| 0.5154661249149893| 0.3710734352808672| 0.2648160881344638|0.21646164635484105|0.18729847413488382|0.15478256489124892|            0.4985|\n",
       "| 38700038932|       0.9064|         23678.964| 50980.28399999999| 79461.07199999999|        108283.149|137158.35300000003|        168848.145|200449.67399999997| 0.5355270284488803|0.35842441189315943| 0.2661732436318417| 0.2105245751966708|0.18768220403013583|0.15765318231447953|            0.5003|\n",
       "| 96680767841|        0.896|25367.832000000002|50179.346999999994| 79972.02000000002|107039.52000000003|136344.83399999997|166588.55099999995|196569.12599999987|0.49445671343630665|0.37253870791309285| 0.2528738918111741|0.21493527213506267|0.18154739217342725| 0.1525192465880931|            0.4864|\n",
       "| 21439773999|        0.883|         23642.343| 48253.76100000003| 75715.18700000005|103824.00500000005|        133041.245|162956.69699999996| 192893.7229999999| 0.5100414452668262| 0.3626937618208617| 0.2707352504847023|0.21961039225091397|0.18357915047824006|0.15519958625092206|            0.4961|\n",
       "| 63123845164|       0.8667|22274.019000000004| 45205.26299999999|         72821.565|100205.06400000001|128043.04499999998|156004.11899999995|187340.74199999997| 0.5072693416251111| 0.3792324704913992| 0.2732746021698066| 0.2174111135829359|0.17923292140767114|0.16727073174504684|            0.5025|\n",
       "| 64403598239|       0.8567|22603.382999999998| 46465.52399999999|         73456.443|100052.51399999997|128039.08500000004|157656.50100000016|187075.44000000035| 0.5135450748387126|0.36744113787268473|0.26582111669877656|0.21857834269902868|0.18786041686920413|0.15725708837033944|            0.4987|\n",
       "| 82368304209|       0.8472|24907.572000000004|44753.130000000005| 71775.49500000001| 97897.05900000002|125767.89000000001|        154247.139|183904.51499999998| 0.4434451400382498| 0.3764845508902447| 0.2668268512540301| 0.2216053000491619|0.18463388808786907| 0.1612650782391068|            0.4822|\n",
       "| 89726005175|       0.8309|22368.499999999996| 45213.30799999998| 71243.63899999995| 97092.14799999996|124409.65000000008|153210.27599999987|181249.49499999982| 0.5052673429690213|0.36537059820877466|0.26622656447975607|0.21957703441815088|0.18798103333486463|0.15469957033535447|            0.4954|\n",
       "| 94493496784|       0.7921|20319.534000000003| 43222.12200000003|         68714.622| 93176.22599999994|118909.35899999982|145860.78999999986|173183.43100000007| 0.5298811566910114|  0.370990907874018|0.26253053005173177|0.21640965199383444| 0.1847750241857326| 0.1577670614459659|            0.5022|\n",
       "| 49322182190|       0.7661|19915.739999999994|         41501.997| 65441.88900000002| 89641.17900000002|114726.12299999992|141882.39899999983|167608.38599999985| 0.5201257423829511| 0.3658190856929574| 0.2699572927303867|0.21865067295963553| 0.1913998930903328|0.15348866255415194|            0.5013|\n",
       "| 79417999332|       0.6972|         18511.938|38089.178999999975|60208.397999999965| 82371.85799999992|105866.49299999999| 129524.1989999999|152883.37499999988| 0.5139843260995463| 0.3673776372525308| 0.2690659229757811| 0.2219270170780104|0.18265085738920445|0.15279081849154622|            0.4978|\n",
       "| 40515428545|       0.6967|19808.253000000004| 38181.06899999998|59432.246999999996| 79937.74800000002|104271.41700000002|129416.26500000003|        153308.259|  0.481202241875417|0.35756982232221535|0.25651837227138324|0.23336854624311848|0.19429434159608924| 0.1558428368819971|            0.4894|\n",
       "| 35909341340|       0.6959|17893.404000000002| 37252.90800000001| 59379.03900000003| 80509.49100000002|104157.57599999999|127884.36600000001|151844.70600000006| 0.5196776584528651| 0.3726252794357283|0.26245914286056016|0.22704142999641203|0.18553315578856622|0.15779503040428716|            0.5029|\n",
       "| 72472909171|       0.6898|18865.368000000006|38425.544999999984| 60250.23899999998| 81511.98100000012|104086.55500000004|128147.12799999998| 151611.5599999998| 0.5090409778182713| 0.3622341481500182|0.26084192457548183|0.21688270881863572|0.18775741115321717| 0.1547667737209474|            0.4931|\n",
       "| 98166254020|       0.6888|         19785.915|          38049.75| 58639.14899999999|         81390.555|105002.36099999999|        126136.467|        149016.564| 0.4799988173378274| 0.3511203581757299|0.27953373705339646|0.22486928651061475|0.16754953188914046|0.15354062921488384|            0.4829|\n",
       "| 67978471888|       0.6858|         18387.243|         37814.688|         60316.083| 81736.21799999996|105599.06999999999|128038.52699999999|        151509.663| 0.5137539413256563|0.37305796200326863| 0.2620641806548962|0.22597596740198592|0.17525550727399417|0.15491510927590152|            0.4971|\n",
       "+------------+-------------+------------------+------------------+------------------+------------------+------------------+------------------+------------------+-------------------+-------------------+-------------------+-------------------+-------------------+-------------------+------------------+\n",
       "only showing top 20 rows"
      ]
     },
     "execution_count": 161,
     "metadata": {},
     "output_type": "execute_result"
    }
   ],
   "source": [
    "revenue_scaled.orderBy(F.col('Total_Revenue').desc())"
   ]
  },
  {
   "cell_type": "code",
   "execution_count": 162,
   "metadata": {},
   "outputs": [],
   "source": [
    "dd = merchant_info.where(F.col('merchant_abn') == 79827781481).select(F.sum('BNPL_Revenue'))"
   ]
  },
  {
   "cell_type": "code",
   "execution_count": 163,
   "metadata": {},
   "outputs": [
    {
     "data": {
      "text/html": [
       "<table border='1'>\n",
       "<tr><th>merchant_abn</th><th>postcode_entropy</th><th>Customer_Growth_Avg</th><th>Total_Business_Days</th></tr>\n",
       "<tr><td>34440496342</td><td>0.3315</td><td>0.3917</td><td>7.0E-4</td></tr>\n",
       "<tr><td>35344855546</td><td>0.1248</td><td>0.4575</td><td>0.0053</td></tr>\n",
       "<tr><td>37935728745</td><td>0.6698</td><td>0.7152</td><td>0.0</td></tr>\n",
       "<tr><td>38700038932</td><td>0.0295</td><td>0.4225</td><td>0.0246</td></tr>\n",
       "<tr><td>38986645707</td><td>0.5364</td><td>0.5512</td><td>1.0E-4</td></tr>\n",
       "<tr><td>41956465747</td><td>0.3028</td><td>0.4328</td><td>0.001</td></tr>\n",
       "<tr><td>35079621278</td><td>0.5876</td><td>0.4143</td><td>1.0E-4</td></tr>\n",
       "<tr><td>35769589414</td><td>0.2178</td><td>0.4632</td><td>0.002</td></tr>\n",
       "<tr><td>37470904997</td><td>0.4963</td><td>0.5343</td><td>2.0E-4</td></tr>\n",
       "<tr><td>39759375662</td><td>0.4393</td><td>0.4188</td><td>3.0E-4</td></tr>\n",
       "<tr><td>33754604709</td><td>0.6076</td><td>0.3785</td><td>1.0E-4</td></tr>\n",
       "<tr><td>37802138328</td><td>0.4507</td><td>0.4772</td><td>3.0E-4</td></tr>\n",
       "<tr><td>38049816588</td><td>0.6698</td><td>0.282</td><td>0.0</td></tr>\n",
       "<tr><td>38180882926</td><td>0.5448</td><td>0.524</td><td>1.0E-4</td></tr>\n",
       "<tr><td>41566402880</td><td>0.3292</td><td>0.4217</td><td>7.0E-4</td></tr>\n",
       "<tr><td>34262348703</td><td>0.3396</td><td>0.508</td><td>7.0E-4</td></tr>\n",
       "<tr><td>38734016504</td><td>0.1109</td><td>0.448</td><td>0.0061</td></tr>\n",
       "<tr><td>42191818419</td><td>0.1945</td><td>0.4414</td><td>0.0025</td></tr>\n",
       "<tr><td>32413511882</td><td>0.2325</td><td>0.4501</td><td>0.0018</td></tr>\n",
       "<tr><td>33026294208</td><td>0.3535</td><td>0.4357</td><td>6.0E-4</td></tr>\n",
       "</table>\n",
       "only showing top 20 rows\n"
      ],
      "text/plain": [
       "+------------+----------------+-------------------+-------------------+\n",
       "|merchant_abn|postcode_entropy|Customer_Growth_Avg|Total_Business_Days|\n",
       "+------------+----------------+-------------------+-------------------+\n",
       "| 34440496342|          0.3315|             0.3917|             7.0E-4|\n",
       "| 35344855546|          0.1248|             0.4575|             0.0053|\n",
       "| 37935728745|          0.6698|             0.7152|                0.0|\n",
       "| 38700038932|          0.0295|             0.4225|             0.0246|\n",
       "| 38986645707|          0.5364|             0.5512|             1.0E-4|\n",
       "| 41956465747|          0.3028|             0.4328|              0.001|\n",
       "| 35079621278|          0.5876|             0.4143|             1.0E-4|\n",
       "| 35769589414|          0.2178|             0.4632|              0.002|\n",
       "| 37470904997|          0.4963|             0.5343|             2.0E-4|\n",
       "| 39759375662|          0.4393|             0.4188|             3.0E-4|\n",
       "| 33754604709|          0.6076|             0.3785|             1.0E-4|\n",
       "| 37802138328|          0.4507|             0.4772|             3.0E-4|\n",
       "| 38049816588|          0.6698|              0.282|                0.0|\n",
       "| 38180882926|          0.5448|              0.524|             1.0E-4|\n",
       "| 41566402880|          0.3292|             0.4217|             7.0E-4|\n",
       "| 34262348703|          0.3396|              0.508|             7.0E-4|\n",
       "| 38734016504|          0.1109|              0.448|             0.0061|\n",
       "| 42191818419|          0.1945|             0.4414|             0.0025|\n",
       "| 32413511882|          0.2325|             0.4501|             0.0018|\n",
       "| 33026294208|          0.3535|             0.4357|             6.0E-4|\n",
       "+------------+----------------+-------------------+-------------------+\n",
       "only showing top 20 rows"
      ]
     },
     "execution_count": 163,
     "metadata": {},
     "output_type": "execute_result"
    }
   ],
   "source": [
    "merchant_scaled"
   ]
  },
  {
   "cell_type": "code",
   "execution_count": 164,
   "metadata": {},
   "outputs": [],
   "source": [
    "# slip ups \n",
    "industry_scaled = merchant_desc.join(industry_raw, on='sector').drop('sector')\n",
    "revenue_scaled = revenue_scaled.select('merchant_abn', 'Revenue_Growth_Avg','Total_Revenue')"
   ]
  },
  {
   "cell_type": "code",
   "execution_count": 165,
   "metadata": {},
   "outputs": [],
   "source": [
    "from operator import add\n",
    "from functools import reduce\n",
    "# For each table we need to perform the following steps\n",
    "def scroring_process(dataset, toggle=False):\n",
    "    # first subtract 1 from each cell then square\n",
    "    for col in dataset.columns[1:]:\n",
    "        dataset = dataset.withColumn(col, F.pow((F.col(col) - 1),2))\n",
    "    # sum the columns \n",
    "    if toggle != False:\n",
    "        dataset.withColumn('Industry_score', F.col('Industry_score') * toggle)\n",
    "    new_df = dataset.withColumn('total',F.round(reduce(add, [F.col(x) for x in dataset.columns[1:]]), 8))\n",
    "    return new_df\n"
   ]
  },
  {
   "cell_type": "code",
   "execution_count": 166,
   "metadata": {},
   "outputs": [],
   "source": [
    "# Define our scaliong function\n",
    "def feature_standardisation(dataset): \n",
    "    values = dataset.select(F.max('total').alias('high'), F.min('total').alias('low'))\n",
    "    dataset = dataset.withColumn('total', F.round((F.col('total') - values.select('low').head()[0]) / (values.select('high').head()[0] - values.select('low').head()[0]), 9))\n",
    "    return dataset.select('merchant_abn', 'total')"
   ]
  },
  {
   "cell_type": "code",
   "execution_count": 167,
   "metadata": {},
   "outputs": [
    {
     "name": "stderr",
     "output_type": "stream",
     "text": [
      "                                                                                \r"
     ]
    }
   ],
   "source": [
    "# score industry, then add to merchants \n",
    "industry_scaled = scroring_process(industry_scaled)\n",
    "industry_scaled = industry_scaled.select('merchant_abn','total')\n",
    "industry_scaled = feature_standardisation(industry_scaled)\n",
    "industry_scaled = industry_scaled.withColumnRenamed('total','Industry_score')\n",
    "merchant_scaled = merchant_scaled.join(industry_scaled, on='merchant_abn', how='left')"
   ]
  },
  {
   "cell_type": "code",
   "execution_count": 168,
   "metadata": {},
   "outputs": [],
   "source": [
    "customer_scaled = scroring_process(customer_scaled)\n",
    "merchant_scaled = scroring_process(merchant_scaled)\n",
    "revenue_scaled = scroring_process(revenue_scaled)"
   ]
  },
  {
   "cell_type": "code",
   "execution_count": 169,
   "metadata": {},
   "outputs": [
    {
     "data": {
      "text/html": [
       "<table border='1'>\n",
       "<tr><th>merchant_abn</th><th>Revenue_Growth_Avg</th><th>Total_Revenue</th><th>total</th></tr>\n",
       "<tr><td>79827781481</td><td>0.25836888999999996</td><td>0.0</td><td>0.25836889</td></tr>\n",
       "</table>\n"
      ],
      "text/plain": [
       "+------------+-------------------+-------------+----------+\n",
       "|merchant_abn| Revenue_Growth_Avg|Total_Revenue|     total|\n",
       "+------------+-------------------+-------------+----------+\n",
       "| 79827781481|0.25836888999999996|          0.0|0.25836889|\n",
       "+------------+-------------------+-------------+----------+"
      ]
     },
     "execution_count": 169,
     "metadata": {},
     "output_type": "execute_result"
    }
   ],
   "source": [
    "revenue_scaled.where(F.col('merchant_abn') == 79827781481)"
   ]
  },
  {
   "cell_type": "code",
   "execution_count": 170,
   "metadata": {},
   "outputs": [
    {
     "name": "stderr",
     "output_type": "stream",
     "text": [
      "                                                                                \r"
     ]
    }
   ],
   "source": [
    "# rescale them \n",
    "customer_scaled = customer_scaled.select('merchant_abn','total')\n",
    "customer_scaled = feature_standardisation(customer_scaled)\n",
    "customer_scaled = customer_scaled.withColumnRenamed('total','Customer_score')\n",
    "revenue_scaled = revenue_scaled.select('merchant_abn','total')\n",
    "revenue_scaled = feature_standardisation(revenue_scaled)\n",
    "revenue_scaled = revenue_scaled.withColumnRenamed('total','Revenue_score')\n",
    "merchant_scaled = merchant_scaled.select('merchant_abn','total')\n",
    "merchant_scaled = feature_standardisation(merchant_scaled)\n",
    "merchant_scaled = merchant_scaled.withColumnRenamed('total','Merchant_score')"
   ]
  },
  {
   "cell_type": "code",
   "execution_count": 172,
   "metadata": {},
   "outputs": [
    {
     "data": {
      "text/html": [
       "<table border='1'>\n",
       "<tr><th>merchant_abn</th><th>Revenue_score</th></tr>\n",
       "<tr><td>79827781481</td><td>0.003896705</td></tr>\n",
       "</table>\n"
      ],
      "text/plain": [
       "+------------+-------------+\n",
       "|merchant_abn|Revenue_score|\n",
       "+------------+-------------+\n",
       "| 79827781481|  0.003896705|\n",
       "+------------+-------------+"
      ]
     },
     "execution_count": 172,
     "metadata": {},
     "output_type": "execute_result"
    }
   ],
   "source": [
    "revenue_scaled.where(F.col('merchant_abn') == 79827781481)"
   ]
  },
  {
   "cell_type": "code",
   "execution_count": 174,
   "metadata": {},
   "outputs": [],
   "source": [
    "# Finally join \n",
    "Full_scores = customer_scaled.join(revenue_scaled, on='merchant_abn', how='inner').join(merchant_scaled, on='merchant_abn', how='inner')"
   ]
  },
  {
   "cell_type": "code",
   "execution_count": 175,
   "metadata": {},
   "outputs": [],
   "source": [
    "# now scale and done \n",
    "#Industry_scale_factor = 1\n",
    "Full_scores = Full_scores.withColumn('total',F.round(reduce(add, [F.col(x) for x in Full_scores.columns[1:]]), 8))"
   ]
  },
  {
   "cell_type": "code",
   "execution_count": 176,
   "metadata": {},
   "outputs": [],
   "source": [
    "Full_scores = Full_scores.join(merchant_desc.join(industry_raw, on='sector').select('merchant_abn', 'sector').distinct(), on='merchant_abn', how='left')"
   ]
  },
  {
   "cell_type": "code",
   "execution_count": 2,
   "metadata": {},
   "outputs": [
    {
     "ename": "NameError",
     "evalue": "name 'Full_scores' is not defined",
     "output_type": "error",
     "traceback": [
      "\u001b[0;31m---------------------------------------------------------------------------\u001b[0m",
      "\u001b[0;31mNameError\u001b[0m                                 Traceback (most recent call last)",
      "\u001b[1;32m/mnt/d/University/Applied Datascience/generic-buy-now-pay-later-project-group-3/notebooks/Ranking_system_scales_scoring_alt.ipynb Cell 22\u001b[0m in \u001b[0;36m<cell line: 1>\u001b[0;34m()\u001b[0m\n\u001b[0;32m----> <a href='vscode-notebook-cell://wsl%2Bubuntu/mnt/d/University/Applied%20Datascience/generic-buy-now-pay-later-project-group-3/notebooks/Ranking_system_scales_scoring_alt.ipynb#X30sdnNjb2RlLXJlbW90ZQ%3D%3D?line=0'>1</a>\u001b[0m Full_scores\u001b[39m.\u001b[39mwrite\u001b[39m.\u001b[39mparquet(\u001b[39m'\u001b[39m\u001b[39m../data/Normalised/Final_scores_alt\u001b[39m\u001b[39m'\u001b[39m, mode\u001b[39m=\u001b[39m\u001b[39m'\u001b[39m\u001b[39moverwrite\u001b[39m\u001b[39m'\u001b[39m)\n",
      "\u001b[0;31mNameError\u001b[0m: name 'Full_scores' is not defined"
     ]
    }
   ],
   "source": [
    "Full_scores.write.parquet('../data/Normalised/Final_scores_alt', mode='overwrite')"
   ]
  },
  {
   "cell_type": "markdown",
   "metadata": {},
   "source": [
    "For determining the top merchant "
   ]
  },
  {
   "cell_type": "code",
   "execution_count": 3,
   "metadata": {},
   "outputs": [
    {
     "name": "stderr",
     "output_type": "stream",
     "text": [
      "                                                                                \r"
     ]
    }
   ],
   "source": [
    "Full_scores = spark.read.parquet('../data/Normalised/Final_scores_alt/')"
   ]
  },
  {
   "cell_type": "code",
   "execution_count": 4,
   "metadata": {},
   "outputs": [],
   "source": [
    "merchant = spark.read.parquet('../data/processed/merchants/')"
   ]
  },
  {
   "cell_type": "code",
   "execution_count": 15,
   "metadata": {},
   "outputs": [
    {
     "data": {
      "text/html": [
       "<div>\n",
       "<style scoped>\n",
       "    .dataframe tbody tr th:only-of-type {\n",
       "        vertical-align: middle;\n",
       "    }\n",
       "\n",
       "    .dataframe tbody tr th {\n",
       "        vertical-align: top;\n",
       "    }\n",
       "\n",
       "    .dataframe thead th {\n",
       "        text-align: right;\n",
       "    }\n",
       "</style>\n",
       "<table border=\"1\" class=\"dataframe\">\n",
       "  <thead>\n",
       "    <tr style=\"text-align: right;\">\n",
       "      <th></th>\n",
       "      <th>merchant_abn</th>\n",
       "      <th>Customer_score</th>\n",
       "      <th>Revenue_score</th>\n",
       "      <th>Merchant_score</th>\n",
       "      <th>total</th>\n",
       "      <th>sector</th>\n",
       "      <th>name</th>\n",
       "      <th>tags</th>\n",
       "      <th>avg_monthly_inc</th>\n",
       "      <th>monthly_entropy</th>\n",
       "      <th>postcode_entropy</th>\n",
       "      <th>revenue</th>\n",
       "    </tr>\n",
       "  </thead>\n",
       "  <tbody>\n",
       "    <tr>\n",
       "      <th>0</th>\n",
       "      <td>24852446429</td>\n",
       "      <td>0.000000</td>\n",
       "      <td>0.206028</td>\n",
       "      <td>0.204711</td>\n",
       "      <td>0.410739</td>\n",
       "      <td>Administrative_Support_Services</td>\n",
       "      <td>Erat Vitae LLP</td>\n",
       "      <td>[(florists supplies, nursery stock, and floWer...</td>\n",
       "      <td>-17.095238</td>\n",
       "      <td>2.986862</td>\n",
       "      <td>7.991211</td>\n",
       "      <td>8.698780e+06</td>\n",
       "    </tr>\n",
       "    <tr>\n",
       "      <th>1</th>\n",
       "      <td>43186523025</td>\n",
       "      <td>0.093969</td>\n",
       "      <td>0.077551</td>\n",
       "      <td>0.247475</td>\n",
       "      <td>0.418995</td>\n",
       "      <td>Administrative_Support_Services</td>\n",
       "      <td>Lorem Ipsum Sodales Industries</td>\n",
       "      <td>([florists supplies, nurSery stock, and flower...</td>\n",
       "      <td>-7.047619</td>\n",
       "      <td>2.986498</td>\n",
       "      <td>7.989193</td>\n",
       "      <td>9.041986e+06</td>\n",
       "    </tr>\n",
       "    <tr>\n",
       "      <th>2</th>\n",
       "      <td>86578477987</td>\n",
       "      <td>0.002165</td>\n",
       "      <td>0.000799</td>\n",
       "      <td>0.666151</td>\n",
       "      <td>0.669114</td>\n",
       "      <td>Personal_Services</td>\n",
       "      <td>Leo In Consulting</td>\n",
       "      <td>[[watch, clock, and jewelry repair shops], [a]...</td>\n",
       "      <td>-16.333334</td>\n",
       "      <td>2.987301</td>\n",
       "      <td>7.990691</td>\n",
       "      <td>9.539821e+06</td>\n",
       "    </tr>\n",
       "    <tr>\n",
       "      <th>3</th>\n",
       "      <td>45629217853</td>\n",
       "      <td>0.062840</td>\n",
       "      <td>0.004821</td>\n",
       "      <td>0.684570</td>\n",
       "      <td>0.752231</td>\n",
       "      <td>Personal_Services</td>\n",
       "      <td>Lacus Consulting</td>\n",
       "      <td>[[gift, Card, novelty, and souvenir shops], [a...</td>\n",
       "      <td>-12.619047</td>\n",
       "      <td>2.985442</td>\n",
       "      <td>7.987784</td>\n",
       "      <td>8.395063e+06</td>\n",
       "    </tr>\n",
       "    <tr>\n",
       "      <th>4</th>\n",
       "      <td>89726005175</td>\n",
       "      <td>0.071851</td>\n",
       "      <td>0.018109</td>\n",
       "      <td>0.693644</td>\n",
       "      <td>0.783605</td>\n",
       "      <td>Personal_Services</td>\n",
       "      <td>Est Nunc Consulting</td>\n",
       "      <td>((tent and awning shops), (a), (take rate: 6.01))</td>\n",
       "      <td>-12.523809</td>\n",
       "      <td>2.986330</td>\n",
       "      <td>7.988224</td>\n",
       "      <td>8.908821e+06</td>\n",
       "    </tr>\n",
       "    <tr>\n",
       "      <th>...</th>\n",
       "      <td>...</td>\n",
       "      <td>...</td>\n",
       "      <td>...</td>\n",
       "      <td>...</td>\n",
       "      <td>...</td>\n",
       "      <td>...</td>\n",
       "      <td>...</td>\n",
       "      <td>...</td>\n",
       "      <td>...</td>\n",
       "      <td>...</td>\n",
       "      <td>...</td>\n",
       "      <td>...</td>\n",
       "    </tr>\n",
       "    <tr>\n",
       "      <th>4003</th>\n",
       "      <td>24526454463</td>\n",
       "      <td>0.829210</td>\n",
       "      <td>0.997600</td>\n",
       "      <td>0.678194</td>\n",
       "      <td>2.505004</td>\n",
       "      <td>Personal_Services</td>\n",
       "      <td>Penatibus Limited</td>\n",
       "      <td>((jewelry, watch, clock, and silverware shops)...</td>\n",
       "      <td>1.500000</td>\n",
       "      <td>0.562335</td>\n",
       "      <td>1.386294</td>\n",
       "      <td>2.820073e+04</td>\n",
       "    </tr>\n",
       "    <tr>\n",
       "      <th>4004</th>\n",
       "      <td>13467303030</td>\n",
       "      <td>0.925934</td>\n",
       "      <td>0.989404</td>\n",
       "      <td>0.605058</td>\n",
       "      <td>2.520396</td>\n",
       "      <td>Personal_Services</td>\n",
       "      <td>Duis LLP</td>\n",
       "      <td>[(tent and awning shops), (a), (take rate: 5.51)]</td>\n",
       "      <td>0.142857</td>\n",
       "      <td>1.831020</td>\n",
       "      <td>2.197225</td>\n",
       "      <td>1.441240e+04</td>\n",
       "    </tr>\n",
       "    <tr>\n",
       "      <th>4005</th>\n",
       "      <td>15704713883</td>\n",
       "      <td>0.892656</td>\n",
       "      <td>0.891800</td>\n",
       "      <td>0.747864</td>\n",
       "      <td>2.532321</td>\n",
       "      <td>Arts_Recreation_Services</td>\n",
       "      <td>Faucibus Ut Nulla Ltd</td>\n",
       "      <td>((bicycle shops - sales and service), (c), (ta...</td>\n",
       "      <td>-0.071429</td>\n",
       "      <td>2.518879</td>\n",
       "      <td>3.295837</td>\n",
       "      <td>1.182762e+04</td>\n",
       "    </tr>\n",
       "    <tr>\n",
       "      <th>4006</th>\n",
       "      <td>76866488151</td>\n",
       "      <td>0.811011</td>\n",
       "      <td>0.824856</td>\n",
       "      <td>0.903317</td>\n",
       "      <td>2.539184</td>\n",
       "      <td>Personal_Services</td>\n",
       "      <td>Euismod Urna Company</td>\n",
       "      <td>((antique shops - sales, repairs, and restorat...</td>\n",
       "      <td>0.000000</td>\n",
       "      <td>1.039721</td>\n",
       "      <td>1.386294</td>\n",
       "      <td>4.128598e+04</td>\n",
       "    </tr>\n",
       "    <tr>\n",
       "      <th>4007</th>\n",
       "      <td>51267358936</td>\n",
       "      <td>0.859329</td>\n",
       "      <td>0.947708</td>\n",
       "      <td>0.781824</td>\n",
       "      <td>2.588861</td>\n",
       "      <td>Personal_Services</td>\n",
       "      <td>Consectetuer Adipiscing Industries</td>\n",
       "      <td>((antique shops - sales, repairs, and restorat...</td>\n",
       "      <td>3.400000</td>\n",
       "      <td>1.609438</td>\n",
       "      <td>1.609438</td>\n",
       "      <td>2.192865e+04</td>\n",
       "    </tr>\n",
       "  </tbody>\n",
       "</table>\n",
       "<p>4008 rows × 12 columns</p>\n",
       "</div>"
      ],
      "text/plain": [
       "      merchant_abn  Customer_score  Revenue_score  Merchant_score     total  \\\n",
       "0      24852446429        0.000000       0.206028        0.204711  0.410739   \n",
       "1      43186523025        0.093969       0.077551        0.247475  0.418995   \n",
       "2      86578477987        0.002165       0.000799        0.666151  0.669114   \n",
       "3      45629217853        0.062840       0.004821        0.684570  0.752231   \n",
       "4      89726005175        0.071851       0.018109        0.693644  0.783605   \n",
       "...            ...             ...            ...             ...       ...   \n",
       "4003   24526454463        0.829210       0.997600        0.678194  2.505004   \n",
       "4004   13467303030        0.925934       0.989404        0.605058  2.520396   \n",
       "4005   15704713883        0.892656       0.891800        0.747864  2.532321   \n",
       "4006   76866488151        0.811011       0.824856        0.903317  2.539184   \n",
       "4007   51267358936        0.859329       0.947708        0.781824  2.588861   \n",
       "\n",
       "                               sector                                name  \\\n",
       "0     Administrative_Support_Services                      Erat Vitae LLP   \n",
       "1     Administrative_Support_Services      Lorem Ipsum Sodales Industries   \n",
       "2                   Personal_Services                   Leo In Consulting   \n",
       "3                   Personal_Services                    Lacus Consulting   \n",
       "4                   Personal_Services                 Est Nunc Consulting   \n",
       "...                               ...                                 ...   \n",
       "4003                Personal_Services                   Penatibus Limited   \n",
       "4004                Personal_Services                            Duis LLP   \n",
       "4005         Arts_Recreation_Services               Faucibus Ut Nulla Ltd   \n",
       "4006                Personal_Services                Euismod Urna Company   \n",
       "4007                Personal_Services  Consectetuer Adipiscing Industries   \n",
       "\n",
       "                                                   tags  avg_monthly_inc  \\\n",
       "0     [(florists supplies, nursery stock, and floWer...       -17.095238   \n",
       "1     ([florists supplies, nurSery stock, and flower...        -7.047619   \n",
       "2     [[watch, clock, and jewelry repair shops], [a]...       -16.333334   \n",
       "3     [[gift, Card, novelty, and souvenir shops], [a...       -12.619047   \n",
       "4     ((tent and awning shops), (a), (take rate: 6.01))       -12.523809   \n",
       "...                                                 ...              ...   \n",
       "4003  ((jewelry, watch, clock, and silverware shops)...         1.500000   \n",
       "4004  [(tent and awning shops), (a), (take rate: 5.51)]         0.142857   \n",
       "4005  ((bicycle shops - sales and service), (c), (ta...        -0.071429   \n",
       "4006  ((antique shops - sales, repairs, and restorat...         0.000000   \n",
       "4007  ((antique shops - sales, repairs, and restorat...         3.400000   \n",
       "\n",
       "      monthly_entropy  postcode_entropy       revenue  \n",
       "0            2.986862          7.991211  8.698780e+06  \n",
       "1            2.986498          7.989193  9.041986e+06  \n",
       "2            2.987301          7.990691  9.539821e+06  \n",
       "3            2.985442          7.987784  8.395063e+06  \n",
       "4            2.986330          7.988224  8.908821e+06  \n",
       "...               ...               ...           ...  \n",
       "4003         0.562335          1.386294  2.820073e+04  \n",
       "4004         1.831020          2.197225  1.441240e+04  \n",
       "4005         2.518879          3.295837  1.182762e+04  \n",
       "4006         1.039721          1.386294  4.128598e+04  \n",
       "4007         1.609438          1.609438  2.192865e+04  \n",
       "\n",
       "[4008 rows x 12 columns]"
      ]
     },
     "execution_count": 15,
     "metadata": {},
     "output_type": "execute_result"
    }
   ],
   "source": [
    "# top scorer\n",
    "Full_scores.join(merchant, on='merchant_abn', how='left').orderBy('total').toPandas()"
   ]
  },
  {
   "cell_type": "code",
   "execution_count": 17,
   "metadata": {},
   "outputs": [
    {
     "data": {
      "text/plain": [
       "Text(0, 0.5, 'Frequency of Merchants')"
      ]
     },
     "execution_count": 17,
     "metadata": {},
     "output_type": "execute_result"
    },
    {
     "data": {
      "image/png": "[encoded data removed]",
      "text/plain": [
       "<Figure size 432x288 with 1 Axes>"
      ]
     },
     "metadata": {
      "needs_background": "light"
     },
     "output_type": "display_data"
    }
   ],
   "source": [
    "import seaborn as sns\n",
    "import matplotlib.pyplot as plt\n",
    "sns.histplot(x='total', hue='sector', data=Full_scores.toPandas())\n",
    "plt.title('Distribution of Merchant Score by Sector')\n",
    "plt.xlabel('Merchant Score')\n",
    "plt.ylabel('Frequency of Merchants')\n"
   ]
  },
  {
   "cell_type": "code",
   "execution_count": 191,
   "metadata": {},
   "outputs": [],
   "source": [
    "top_100 = Full_scores.orderBy('total').limit(100)"
   ]
  },
  {
   "cell_type": "code",
   "execution_count": 196,
   "metadata": {},
   "outputs": [
    {
     "name": "stderr",
     "output_type": "stream",
     "text": [
      "                                                                                \r"
     ]
    },
    {
     "data": {
      "text/html": [
       "<div>\n",
       "<style scoped>\n",
       "    .dataframe tbody tr th:only-of-type {\n",
       "        vertical-align: middle;\n",
       "    }\n",
       "\n",
       "    .dataframe tbody tr th {\n",
       "        vertical-align: top;\n",
       "    }\n",
       "\n",
       "    .dataframe thead th {\n",
       "        text-align: right;\n",
       "    }\n",
       "</style>\n",
       "<table border=\"1\" class=\"dataframe\">\n",
       "  <thead>\n",
       "    <tr style=\"text-align: right;\">\n",
       "      <th></th>\n",
       "      <th>sector</th>\n",
       "      <th>count</th>\n",
       "    </tr>\n",
       "  </thead>\n",
       "  <tbody>\n",
       "    <tr>\n",
       "      <th>0</th>\n",
       "      <td>Administrative_Support_Services</td>\n",
       "      <td>46</td>\n",
       "    </tr>\n",
       "    <tr>\n",
       "      <th>1</th>\n",
       "      <td>Personal_Services</td>\n",
       "      <td>25</td>\n",
       "    </tr>\n",
       "    <tr>\n",
       "      <th>2</th>\n",
       "      <td>Information_Media_Telecommunications</td>\n",
       "      <td>24</td>\n",
       "    </tr>\n",
       "    <tr>\n",
       "      <th>3</th>\n",
       "      <td>Arts_Recreation_Services</td>\n",
       "      <td>5</td>\n",
       "    </tr>\n",
       "  </tbody>\n",
       "</table>\n",
       "</div>"
      ],
      "text/plain": [
       "                                 sector  count\n",
       "0       Administrative_Support_Services     46\n",
       "1                     Personal_Services     25\n",
       "2  Information_Media_Telecommunications     24\n",
       "3              Arts_Recreation_Services      5"
      ]
     },
     "execution_count": 196,
     "metadata": {},
     "output_type": "execute_result"
    }
   ],
   "source": [
    "top_100_pd = top_100.groupBy('sector').count().toPandas()\n",
    "top_100_pd"
   ]
  },
  {
   "cell_type": "code",
   "execution_count": 203,
   "metadata": {},
   "outputs": [
    {
     "data": {
      "image/png": "[encoded data removed]",
      "text/plain": [
       "<Figure size 432x288 with 1 Axes>"
      ]
     },
     "metadata": {},
     "output_type": "display_data"
    }
   ],
   "source": [
    "# library\n",
    "import matplotlib.pyplot as plt\n",
    "\n",
    "# create data\n",
    "names = ['Personal_Services', 'Arts_Recreation_Services', 'Information_Media_Telecommunications', 'Administrative_Support_Services']\n",
    "size = [25,5,24,46]\n",
    " \n",
    "# Create a circle at the center of the plot\n",
    "my_circle = plt.Circle( (0,0), 0.8, color='white')\n",
    "\n",
    "# Custom wedges\n",
    "plt.pie(size, labels=names, wedgeprops = { 'linewidth' : 4, 'edgecolor' : 'white' }, autopct=\"%.1f%%\")\n",
    "p = plt.gcf()\n",
    "p.gca().add_artist(my_circle)\n",
    "plt.title('Recommendation Sector Analysis of Top 100 Merchants')\n",
    "plt.show()"
   ]
  },
  {
   "cell_type": "markdown",
   "metadata": {},
   "source": [
    "# Now do the Bar plot "
   ]
  },
  {
   "cell_type": "code",
   "execution_count": 220,
   "metadata": {},
   "outputs": [],
   "source": [
    "# For top 600\n",
    "top_600 = Full_scores.orderBy('total').limit(500)"
   ]
  },
  {
   "cell_type": "code",
   "execution_count": 221,
   "metadata": {},
   "outputs": [],
   "source": [
    "trans = spark.read.parquet('../data/curated/full_dataset_Variation/')"
   ]
  },
  {
   "cell_type": "code",
   "execution_count": 222,
   "metadata": {},
   "outputs": [],
   "source": [
    "trans100 = trans.join(top_100, on='merchant_abn', how = 'inner')\n",
    "trans600 = trans.join(top_600, on='merchant_abn', how = 'inner')"
   ]
  },
  {
   "cell_type": "code",
   "execution_count": 223,
   "metadata": {},
   "outputs": [
    {
     "name": "stderr",
     "output_type": "stream",
     "text": [
      "                                                                                \r"
     ]
    },
    {
     "data": {
      "text/html": [
       "<table border='1'>\n",
       "<tr><th>sum(BNPL_Revenue)</th></tr>\n",
       "<tr><td>2.543357883000118E7</td></tr>\n",
       "</table>\n"
      ],
      "text/plain": [
       "+-------------------+\n",
       "|  sum(BNPL_Revenue)|\n",
       "+-------------------+\n",
       "|2.543357883000118E7|\n",
       "+-------------------+"
      ]
     },
     "execution_count": 223,
     "metadata": {},
     "output_type": "execute_result"
    }
   ],
   "source": [
    "trans100.select(F.sum('BNPL_Revenue'))"
   ]
  },
  {
   "cell_type": "code",
   "execution_count": 224,
   "metadata": {},
   "outputs": [
    {
     "name": "stderr",
     "output_type": "stream",
     "text": [
      "                                                                                \r"
     ]
    },
    {
     "data": {
      "text/html": [
       "<table border='1'>\n",
       "<tr><th>sum(BNPL_Revenue)</th></tr>\n",
       "<tr><td>4.537336444999871E7</td></tr>\n",
       "</table>\n"
      ],
      "text/plain": [
       "+-------------------+\n",
       "|  sum(BNPL_Revenue)|\n",
       "+-------------------+\n",
       "|4.537336444999871E7|\n",
       "+-------------------+"
      ]
     },
     "execution_count": 224,
     "metadata": {},
     "output_type": "execute_result"
    }
   ],
   "source": [
    "trans600.select(F.sum('BNPL_Revenue'))"
   ]
  },
  {
   "cell_type": "code",
   "execution_count": 238,
   "metadata": {},
   "outputs": [
    {
     "data": {
      "text/plain": [
       "Text(0, 0.5, 'Total BNPL Revenue for Company set ($ in Thousands)')"
      ]
     },
     "execution_count": 238,
     "metadata": {},
     "output_type": "execute_result"
    },
    {
     "data": {
      "image/png": "[encoded data removed]",
      "text/plain": [
       "<Figure size 432x288 with 1 Axes>"
      ]
     },
     "metadata": {
      "needs_background": "light"
     },
     "output_type": "display_data"
    }
   ],
   "source": [
    "sns.barplot(x=['Top 100 Companies', 'Next 500 Companies'],y=[2.5433, 1.993978], palette= sns.color_palette(\"cool\"))\n",
    "plt.title('The Profit of a given set of Companies')\n",
    "plt.xlabel('The list of Top 600 Companies')\n",
    "plt.ylabel('Total BNPL Revenue for Company set ($ in Thousands)')"
   ]
  },
  {
   "cell_type": "code",
   "execution_count": 239,
   "metadata": {},
   "outputs": [
    {
     "name": "stderr",
     "output_type": "stream",
     "text": [
      "                                                                                \r"
     ]
    },
    {
     "data": {
      "text/html": [
       "<table border='1'>\n",
       "<tr><th>merchant_abn</th><th>Customer_score</th><th>Revenue_score</th><th>Merchant_score</th><th>total</th><th>sector</th></tr>\n",
       "<tr><td>34440496342</td><td>0.900218315</td><td>0.590184705</td><td>0.804685957</td><td>2.29508898</td><td>Personal_Services</td></tr>\n",
       "<tr><td>35344855546</td><td>0.77881397</td><td>0.564613193</td><td>0.912329493</td><td>2.25575666</td><td>Personal_Services</td></tr>\n",
       "<tr><td>37935728745</td><td>0.866273681</td><td>0.458020862</td><td>0.517233011</td><td>1.84152755</td><td>Personal_Services</td></tr>\n",
       "<tr><td>38700038932</td><td>0.487368431</td><td>0.003949421</td><td>0.993720114</td><td>1.48503797</td><td>Personal_Services</td></tr>\n",
       "<tr><td>38986645707</td><td>0.90209826</td><td>0.556936419</td><td>0.620260315</td><td>2.07929499</td><td>Arts_Recreation_S...</td></tr>\n",
       "<tr><td>41956465747</td><td>0.892203226</td><td>0.55556633</td><td>0.800219597</td><td>2.24798915</td><td>Personal_Services</td></tr>\n",
       "<tr><td>12516851436</td><td>0.901277122</td><td>0.535597784</td><td>0.775668389</td><td>2.21254329</td><td>Personal_Services</td></tr>\n",
       "<tr><td>15613631617</td><td>0.740149066</td><td>0.579221043</td><td>0.939802168</td><td>2.25917228</td><td>Personal_Services</td></tr>\n",
       "<tr><td>19839532017</td><td>0.872221804</td><td>0.576414358</td><td>0.697688624</td><td>2.14632479</td><td>Information_Media...</td></tr>\n",
       "<tr><td>73256306726</td><td>0.556291602</td><td>0.464696563</td><td>0.983190445</td><td>2.00417861</td><td>Arts_Recreation_S...</td></tr>\n",
       "<tr><td>73841664453</td><td>0.839688019</td><td>0.542956896</td><td>0.879425032</td><td>2.26206995</td><td>Arts_Recreation_S...</td></tr>\n",
       "<tr><td>78916025936</td><td>0.899529608</td><td>0.543056934</td><td>0.238982994</td><td>1.68156954</td><td>Administrative_Su...</td></tr>\n",
       "<tr><td>83412691377</td><td>0.470197224</td><td>0.546228912</td><td>0.989722832</td><td>2.00614897</td><td>Personal_Services</td></tr>\n",
       "<tr><td>48214071373</td><td>0.883100491</td><td>0.569289406</td><td>0.845308575</td><td>2.29769847</td><td>Personal_Services</td></tr>\n",
       "<tr><td>52763133264</td><td>0.908398308</td><td>0.563235541</td><td>0.703774327</td><td>2.17540818</td><td>Personal_Services</td></tr>\n",
       "<tr><td>92202115241</td><td>0.907396939</td><td>0.532003828</td><td>0.565900478</td><td>2.00530125</td><td>Information_Media...</td></tr>\n",
       "<tr><td>96946925998</td><td>0.900403128</td><td>0.587781104</td><td>0.746764394</td><td>2.23494863</td><td>Arts_Recreation_S...</td></tr>\n",
       "<tr><td>57798993346</td><td>0.907540292</td><td>0.507858994</td><td>0.558504093</td><td>1.97390338</td><td>Personal_Services</td></tr>\n",
       "<tr><td>60654402457</td><td>0.88820378</td><td>0.561462121</td><td>0.759715692</td><td>2.20938159</td><td>Arts_Recreation_S...</td></tr>\n",
       "<tr><td>35079621278</td><td>0.882931499</td><td>0.494216432</td><td>0.205949119</td><td>1.58309705</td><td>Administrative_Su...</td></tr>\n",
       "</table>\n",
       "only showing top 20 rows\n"
      ],
      "text/plain": [
       "+------------+--------------+-------------+--------------+----------+--------------------+\n",
       "|merchant_abn|Customer_score|Revenue_score|Merchant_score|     total|              sector|\n",
       "+------------+--------------+-------------+--------------+----------+--------------------+\n",
       "| 34440496342|   0.900218315|  0.590184705|   0.804685957|2.29508898|   Personal_Services|\n",
       "| 35344855546|    0.77881397|  0.564613193|   0.912329493|2.25575666|   Personal_Services|\n",
       "| 37935728745|   0.866273681|  0.458020862|   0.517233011|1.84152755|   Personal_Services|\n",
       "| 38700038932|   0.487368431|  0.003949421|   0.993720114|1.48503797|   Personal_Services|\n",
       "| 38986645707|    0.90209826|  0.556936419|   0.620260315|2.07929499|Arts_Recreation_S...|\n",
       "| 41956465747|   0.892203226|   0.55556633|   0.800219597|2.24798915|   Personal_Services|\n",
       "| 12516851436|   0.901277122|  0.535597784|   0.775668389|2.21254329|   Personal_Services|\n",
       "| 15613631617|   0.740149066|  0.579221043|   0.939802168|2.25917228|   Personal_Services|\n",
       "| 19839532017|   0.872221804|  0.576414358|   0.697688624|2.14632479|Information_Media...|\n",
       "| 73256306726|   0.556291602|  0.464696563|   0.983190445|2.00417861|Arts_Recreation_S...|\n",
       "| 73841664453|   0.839688019|  0.542956896|   0.879425032|2.26206995|Arts_Recreation_S...|\n",
       "| 78916025936|   0.899529608|  0.543056934|   0.238982994|1.68156954|Administrative_Su...|\n",
       "| 83412691377|   0.470197224|  0.546228912|   0.989722832|2.00614897|   Personal_Services|\n",
       "| 48214071373|   0.883100491|  0.569289406|   0.845308575|2.29769847|   Personal_Services|\n",
       "| 52763133264|   0.908398308|  0.563235541|   0.703774327|2.17540818|   Personal_Services|\n",
       "| 92202115241|   0.907396939|  0.532003828|   0.565900478|2.00530125|Information_Media...|\n",
       "| 96946925998|   0.900403128|  0.587781104|   0.746764394|2.23494863|Arts_Recreation_S...|\n",
       "| 57798993346|   0.907540292|  0.507858994|   0.558504093|1.97390338|   Personal_Services|\n",
       "| 60654402457|    0.88820378|  0.561462121|   0.759715692|2.20938159|Arts_Recreation_S...|\n",
       "| 35079621278|   0.882931499|  0.494216432|   0.205949119|1.58309705|Administrative_Su...|\n",
       "+------------+--------------+-------------+--------------+----------+--------------------+\n",
       "only showing top 20 rows"
      ]
     },
     "execution_count": 239,
     "metadata": {},
     "output_type": "execute_result"
    }
   ],
   "source": [
    "Full_scores"
   ]
  },
  {
   "cell_type": "markdown",
   "metadata": {},
   "source": [
    "# Distribution of scores\n"
   ]
  },
  {
   "cell_type": "code",
   "execution_count": 241,
   "metadata": {},
   "outputs": [
    {
     "data": {
      "text/plain": [
       "<AxesSubplot:xlabel='Customer_score'>"
      ]
     },
     "execution_count": 241,
     "metadata": {},
     "output_type": "execute_result"
    },
    {
     "data": {
      "image/png": "[encoded data removed]",
      "text/plain": [
       "<Figure size 432x288 with 1 Axes>"
      ]
     },
     "metadata": {
      "needs_background": "light"
     },
     "output_type": "display_data"
    }
   ],
   "source": [
    "sns.violinplot(x='Customer_score', data=Full_scores.toPandas())"
   ]
  },
  {
   "cell_type": "code",
   "execution_count": 18,
   "metadata": {},
   "outputs": [
    {
     "data": {
      "text/plain": [
       "Text(0, 0.5, 'Distribution (Between 0 & 1)')"
      ]
     },
     "execution_count": 18,
     "metadata": {},
     "output_type": "execute_result"
    },
    {
     "data": {
      "image/png": "[encoded data removed]",
      "text/plain": [
       "<Figure size 432x288 with 1 Axes>"
      ]
     },
     "metadata": {
      "needs_background": "light"
     },
     "output_type": "display_data"
    }
   ],
   "source": [
    "Full_scores = Full_scores.withColumnRenamed('Merchant_score', 'Sustainability_score')\n",
    "sns.violinplot(data=Full_scores.select('Customer_score', 'Revenue_score', 'Sustainability_score').toPandas())\n",
    "plt.title('Distribution of Ranking Metrics')\n",
    "plt.xlabel('Metric')\n",
    "plt.ylabel('Distribution (Between 0 & 1)')\n"
   ]
  },
  {
   "cell_type": "markdown",
   "metadata": {},
   "source": [
    "# Top 10"
   ]
  },
  {
   "cell_type": "code",
   "execution_count": 246,
   "metadata": {},
   "outputs": [],
   "source": [
    "top_100_pd = top_100.orderBy('total').limit(10)"
   ]
  },
  {
   "cell_type": "code",
   "execution_count": 247,
   "metadata": {},
   "outputs": [
    {
     "name": "stderr",
     "output_type": "stream",
     "text": [
      "                                                                                \r"
     ]
    }
   ],
   "source": [
    "top_100_pd = top_100_pd.toPandas()"
   ]
  },
  {
   "cell_type": "code",
   "execution_count": 252,
   "metadata": {},
   "outputs": [
    {
     "data": {
      "text/html": [
       "<div>\n",
       "<style scoped>\n",
       "    .dataframe tbody tr th:only-of-type {\n",
       "        vertical-align: middle;\n",
       "    }\n",
       "\n",
       "    .dataframe tbody tr th {\n",
       "        vertical-align: top;\n",
       "    }\n",
       "\n",
       "    .dataframe thead th {\n",
       "        text-align: right;\n",
       "    }\n",
       "</style>\n",
       "<table border=\"1\" class=\"dataframe\">\n",
       "  <thead>\n",
       "    <tr style=\"text-align: right;\">\n",
       "      <th></th>\n",
       "      <th>merchant_abn</th>\n",
       "      <th>Customer_score</th>\n",
       "      <th>Revenue_score</th>\n",
       "      <th>Merchant_score</th>\n",
       "      <th>total</th>\n",
       "      <th>sector</th>\n",
       "    </tr>\n",
       "  </thead>\n",
       "  <tbody>\n",
       "    <tr>\n",
       "      <th>0</th>\n",
       "      <td>24852446429</td>\n",
       "      <td>0.000000</td>\n",
       "      <td>0.206028</td>\n",
       "      <td>0.204711</td>\n",
       "      <td>0.410739</td>\n",
       "      <td>Administrative_Support_Services</td>\n",
       "    </tr>\n",
       "    <tr>\n",
       "      <th>1</th>\n",
       "      <td>43186523025</td>\n",
       "      <td>0.093969</td>\n",
       "      <td>0.077551</td>\n",
       "      <td>0.247475</td>\n",
       "      <td>0.418995</td>\n",
       "      <td>Administrative_Support_Services</td>\n",
       "    </tr>\n",
       "    <tr>\n",
       "      <th>2</th>\n",
       "      <td>86578477987</td>\n",
       "      <td>0.002165</td>\n",
       "      <td>0.000799</td>\n",
       "      <td>0.666151</td>\n",
       "      <td>0.669114</td>\n",
       "      <td>Personal_Services</td>\n",
       "    </tr>\n",
       "    <tr>\n",
       "      <th>3</th>\n",
       "      <td>45629217853</td>\n",
       "      <td>0.062840</td>\n",
       "      <td>0.004821</td>\n",
       "      <td>0.684570</td>\n",
       "      <td>0.752231</td>\n",
       "      <td>Personal_Services</td>\n",
       "    </tr>\n",
       "    <tr>\n",
       "      <th>4</th>\n",
       "      <td>89726005175</td>\n",
       "      <td>0.071851</td>\n",
       "      <td>0.018109</td>\n",
       "      <td>0.693644</td>\n",
       "      <td>0.783605</td>\n",
       "      <td>Personal_Services</td>\n",
       "    </tr>\n",
       "    <tr>\n",
       "      <th>5</th>\n",
       "      <td>49891706470</td>\n",
       "      <td>0.058646</td>\n",
       "      <td>0.070159</td>\n",
       "      <td>0.674258</td>\n",
       "      <td>0.803063</td>\n",
       "      <td>Personal_Services</td>\n",
       "    </tr>\n",
       "    <tr>\n",
       "      <th>6</th>\n",
       "      <td>21439773999</td>\n",
       "      <td>0.242242</td>\n",
       "      <td>0.009179</td>\n",
       "      <td>0.626347</td>\n",
       "      <td>0.877769</td>\n",
       "      <td>Information_Media_Telecommunications</td>\n",
       "    </tr>\n",
       "    <tr>\n",
       "      <th>7</th>\n",
       "      <td>63290521567</td>\n",
       "      <td>0.198028</td>\n",
       "      <td>0.178919</td>\n",
       "      <td>0.539175</td>\n",
       "      <td>0.916122</td>\n",
       "      <td>Information_Media_Telecommunications</td>\n",
       "    </tr>\n",
       "    <tr>\n",
       "      <th>8</th>\n",
       "      <td>68216911708</td>\n",
       "      <td>0.157675</td>\n",
       "      <td>0.257834</td>\n",
       "      <td>0.540582</td>\n",
       "      <td>0.956090</td>\n",
       "      <td>Information_Media_Telecommunications</td>\n",
       "    </tr>\n",
       "    <tr>\n",
       "      <th>9</th>\n",
       "      <td>64203420245</td>\n",
       "      <td>0.038321</td>\n",
       "      <td>0.252930</td>\n",
       "      <td>0.668789</td>\n",
       "      <td>0.960040</td>\n",
       "      <td>Personal_Services</td>\n",
       "    </tr>\n",
       "  </tbody>\n",
       "</table>\n",
       "</div>"
      ],
      "text/plain": [
       "   merchant_abn  Customer_score  Revenue_score  Merchant_score     total  \\\n",
       "0   24852446429        0.000000       0.206028        0.204711  0.410739   \n",
       "1   43186523025        0.093969       0.077551        0.247475  0.418995   \n",
       "2   86578477987        0.002165       0.000799        0.666151  0.669114   \n",
       "3   45629217853        0.062840       0.004821        0.684570  0.752231   \n",
       "4   89726005175        0.071851       0.018109        0.693644  0.783605   \n",
       "5   49891706470        0.058646       0.070159        0.674258  0.803063   \n",
       "6   21439773999        0.242242       0.009179        0.626347  0.877769   \n",
       "7   63290521567        0.198028       0.178919        0.539175  0.916122   \n",
       "8   68216911708        0.157675       0.257834        0.540582  0.956090   \n",
       "9   64203420245        0.038321       0.252930        0.668789  0.960040   \n",
       "\n",
       "                                 sector  \n",
       "0       Administrative_Support_Services  \n",
       "1       Administrative_Support_Services  \n",
       "2                     Personal_Services  \n",
       "3                     Personal_Services  \n",
       "4                     Personal_Services  \n",
       "5                     Personal_Services  \n",
       "6  Information_Media_Telecommunications  \n",
       "7  Information_Media_Telecommunications  \n",
       "8  Information_Media_Telecommunications  \n",
       "9                     Personal_Services  "
      ]
     },
     "execution_count": 252,
     "metadata": {},
     "output_type": "execute_result"
    }
   ],
   "source": [
    "top_100_pd = top_100_pd.sort_values(by='total')"
   ]
  },
  {
   "cell_type": "code",
   "execution_count": 265,
   "metadata": {},
   "outputs": [
    {
     "data": {
      "text/plain": [
       "[Text(0, 0.5, 'Ranking Score')]"
      ]
     },
     "execution_count": 265,
     "metadata": {},
     "output_type": "execute_result"
    },
    {
     "data": {
      "image/png": "[encoded data removed]",
      "text/plain": [
       "<Figure size 432x288 with 1 Axes>"
      ]
     },
     "metadata": {
      "needs_background": "light"
     },
     "output_type": "display_data"
    }
   ],
   "source": [
    "plot_order = top_100_pd.sort_values(by='total').merchant_abn.values\n",
    "plot = sns.barplot(x='merchant_abn', y='total', hue='sector', data=top_100_pd, order=plot_order)\n",
    "plot.set(xticklabels=[])\n",
    "plot.set(title='Top 10 Ranked Merchants')\n",
    "plot.set(xlabel='Merchant')\n",
    "plot.set(ylabel='Ranking Score')\n"
   ]
  },
  {
   "cell_type": "code",
   "execution_count": 253,
   "metadata": {},
   "outputs": [
    {
     "data": {
      "text/plain": [
       "<AxesSubplot:xlabel='merchant_abn', ylabel='total'>"
      ]
     },
     "execution_count": 253,
     "metadata": {},
     "output_type": "execute_result"
    },
    {
     "data": {
      "image/png": "[encoded data removed]",
      "text/plain": [
       "<Figure size 432x288 with 1 Axes>"
      ]
     },
     "metadata": {
      "needs_background": "light"
     },
     "output_type": "display_data"
    }
   ],
   "source": [
    "sns.barplot(x='merchant_abn', y='total', data=top_100_pd)"
   ]
  }
 ],
 "metadata": {
  "kernelspec": {
   "display_name": "Python 3.8.10 64-bit",
   "language": "python",
   "name": "python3"
  },
  "language_info": {
   "codemirror_mode": {
    "name": "ipython",
    "version": 3
   },
   "file_extension": ".py",
   "mimetype": "text/x-python",
   "name": "python",
   "nbconvert_exporter": "python",
   "pygments_lexer": "ipython3",
   "version": "3.8.10"
  },
  "orig_nbformat": 4,
  "vscode": {
   "interpreter": {
    "hash": "31f2aee4e71d21fbe5cf8b01ff0e069b9275f58929596ceb00d14d90e3e16cd6"
   }
  }
 },
 "nbformat": 4,
 "nbformat_minor": 2
}
