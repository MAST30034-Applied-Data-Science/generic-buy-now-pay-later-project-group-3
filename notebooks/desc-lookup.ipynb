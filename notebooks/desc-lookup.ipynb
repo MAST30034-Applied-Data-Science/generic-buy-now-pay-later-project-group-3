{
 "cells": [
  {
   "cell_type": "code",
   "execution_count": 1,
   "metadata": {},
   "outputs": [],
   "source": [
    "import pandas as pd\n",
    "import numpy as np\n",
    "\n",
    "from pyspark.sql import SparkSession\n",
    "import pyspark.sql.functions as F\n",
    "from pyspark.sql.functions import col"
   ]
  },
  {
   "cell_type": "code",
   "execution_count": 2,
   "metadata": {},
   "outputs": [
    {
     "name": "stdout",
     "output_type": "stream",
     "text": [
      "22/10/05 23:40:43 WARN Utils: Your hostname, Harshitas-MacBook-Air-8.local resolves to a loopback address: 127.0.0.1; using 192.168.0.227 instead (on interface en0)\n",
      "22/10/05 23:40:43 WARN Utils: Set SPARK_LOCAL_IP if you need to bind to another address\n"
     ]
    },
    {
     "name": "stderr",
     "output_type": "stream",
     "text": [
      "Setting default log level to \"WARN\".\n",
      "To adjust logging level use sc.setLogLevel(newLevel). For SparkR, use setLogLevel(newLevel).\n"
     ]
    },
    {
     "name": "stdout",
     "output_type": "stream",
     "text": [
      "22/10/05 23:40:44 WARN NativeCodeLoader: Unable to load native-hadoop library for your platform... using builtin-java classes where applicable\n"
     ]
    },
    {
     "data": {
      "text/html": [
       "\n",
       "            <div>\n",
       "                <p><b>SparkSession - in-memory</b></p>\n",
       "                \n",
       "        <div>\n",
       "            <p><b>SparkContext</b></p>\n",
       "\n",
       "            <p><a href=\"http://192.168.0.227:4040\">Spark UI</a></p>\n",
       "\n",
       "            <dl>\n",
       "              <dt>Version</dt>\n",
       "                <dd><code>v3.3.0</code></dd>\n",
       "              <dt>Master</dt>\n",
       "                <dd><code>local[*]</code></dd>\n",
       "              <dt>AppName</dt>\n",
       "                <dd><code>Lookup</code></dd>\n",
       "            </dl>\n",
       "        </div>\n",
       "        \n",
       "            </div>\n",
       "        "
      ],
      "text/plain": [
       "<pyspark.sql.session.SparkSession at 0x7fbed2ac1610>"
      ]
     },
     "execution_count": 2,
     "metadata": {},
     "output_type": "execute_result"
    }
   ],
   "source": [
    "sp = SparkSession.builder.appName(\"Lookup\").getOrCreate()\n",
    "sp"
   ]
  },
  {
   "cell_type": "code",
   "execution_count": 3,
   "metadata": {},
   "outputs": [],
   "source": [
    "from functools import reduce\n",
    "from pyspark.sql import DataFrame\n",
    "\n",
    "def read_tables(sp: SparkSession, file: str, ftype = \"p\", sample=False):\n",
    "    \"\"\"\n",
    "    Helper function to read data from the desginated folder\n",
    "\n",
    "    sp : Current SparkSession\n",
    "    file : Type of data/Name of file name to be read\n",
    "            (if file is \"transactions\" no ftype needed)\n",
    "    ftype : File type (Parquet(p) or CSV(c))\n",
    "\n",
    "    returns DataFrame read\n",
    "    \"\"\"\n",
    "    # Root directory\n",
    "    dir = \"../data/tables/\"\n",
    "    \n",
    "    # Transaction folders\n",
    "    if file == \"transactions\":\n",
    "        # Read all transactions together\n",
    "        groups = [\n",
    "            \"transactions_20210228_20210827_snapshot/\",\n",
    "            \"transactions_20210828_20220227_snapshot/\",\n",
    "            \"transactions_20220228_20220828_snapshot/\"\n",
    "            ]\n",
    "\n",
    "        # Read the different transaction folders\n",
    "        final_list = []\n",
    "        for g in groups:\n",
    "            final_list.append(sp.read.option(\"inferSchema\", True).parquet(dir + g))\n",
    "\n",
    "        if not sample:\n",
    "            return reduce(DataFrame.unionAll, final_list)\n",
    "        return reduce(DataFrame.unionAll, final_list).sample(0.01)\n",
    "\n",
    "    # Special file\n",
    "    elif file == \"tbl_consumer\":\n",
    "        return sp.read.option(\"inferSchema\", True).option(\"header\", True).option(\"delimiter\", \"|\").csv(\"../data/tables/tbl_consumer.csv\")\n",
    "\n",
    "    # Parquet files\n",
    "    if ftype == \"p\":\n",
    "        return sp.read.option(\"inferSchema\", True).parquet(dir + file + \".parquet\")\n",
    "    elif ftype == \"c\":\n",
    "        return sp.read.option(\"inferSchema\", True).option(\"header\", True).csv(dir + file + \".csv\")"
   ]
  },
  {
   "cell_type": "code",
   "execution_count": 4,
   "metadata": {},
   "outputs": [
    {
     "name": "stderr",
     "output_type": "stream",
     "text": [
      "                                                                                \r"
     ]
    }
   ],
   "source": [
    "trans = read_tables(sp, \"transactions\")\n",
    "merchants_tbl = read_tables(sp, \"tbl_merchants\")\n",
    "merchants = merchants_tbl.toPandas()"
   ]
  },
  {
   "cell_type": "code",
   "execution_count": 5,
   "metadata": {},
   "outputs": [],
   "source": [
    "desc = sp.read.parquet(\"../data/tables/desc_avg.parquet\")"
   ]
  },
  {
   "cell_type": "code",
   "execution_count": 6,
   "metadata": {},
   "outputs": [],
   "source": [
    "unique_desc = desc.select('Description').distinct().toPandas()"
   ]
  },
  {
   "cell_type": "code",
   "execution_count": 7,
   "metadata": {},
   "outputs": [
    {
     "data": {
      "text/html": [
       "<div>\n",
       "<style scoped>\n",
       "    .dataframe tbody tr th:only-of-type {\n",
       "        vertical-align: middle;\n",
       "    }\n",
       "\n",
       "    .dataframe tbody tr th {\n",
       "        vertical-align: top;\n",
       "    }\n",
       "\n",
       "    .dataframe thead th {\n",
       "        text-align: right;\n",
       "    }\n",
       "</style>\n",
       "<table border=\"1\" class=\"dataframe\">\n",
       "  <thead>\n",
       "    <tr style=\"text-align: right;\">\n",
       "      <th></th>\n",
       "      <th>Description</th>\n",
       "      <th>desc_id</th>\n",
       "    </tr>\n",
       "  </thead>\n",
       "  <tbody>\n",
       "    <tr>\n",
       "      <th>0</th>\n",
       "      <td>lawn garden supply outlet including nursery</td>\n",
       "      <td>0</td>\n",
       "    </tr>\n",
       "    <tr>\n",
       "      <th>1</th>\n",
       "      <td>bicycle shop sale service</td>\n",
       "      <td>1</td>\n",
       "    </tr>\n",
       "    <tr>\n",
       "      <th>2</th>\n",
       "      <td>antique shop sale repair restoration service</td>\n",
       "      <td>2</td>\n",
       "    </tr>\n",
       "    <tr>\n",
       "      <th>3</th>\n",
       "      <td>book periodical newspaper</td>\n",
       "      <td>3</td>\n",
       "    </tr>\n",
       "    <tr>\n",
       "      <th>4</th>\n",
       "      <td>artist supply craft shop</td>\n",
       "      <td>4</td>\n",
       "    </tr>\n",
       "    <tr>\n",
       "      <th>5</th>\n",
       "      <td>gift card novelty souvenir shop</td>\n",
       "      <td>5</td>\n",
       "    </tr>\n",
       "    <tr>\n",
       "      <th>6</th>\n",
       "      <td>shoe shop</td>\n",
       "      <td>6</td>\n",
       "    </tr>\n",
       "    <tr>\n",
       "      <th>7</th>\n",
       "      <td>health beauty spa</td>\n",
       "      <td>7</td>\n",
       "    </tr>\n",
       "    <tr>\n",
       "      <th>8</th>\n",
       "      <td>art dealer gallery</td>\n",
       "      <td>8</td>\n",
       "    </tr>\n",
       "    <tr>\n",
       "      <th>9</th>\n",
       "      <td>music shop musical instrument piano sheet music</td>\n",
       "      <td>9</td>\n",
       "    </tr>\n",
       "    <tr>\n",
       "      <th>10</th>\n",
       "      <td>tent awning shop</td>\n",
       "      <td>10</td>\n",
       "    </tr>\n",
       "    <tr>\n",
       "      <th>11</th>\n",
       "      <td>motor vehicle supply new part</td>\n",
       "      <td>11</td>\n",
       "    </tr>\n",
       "    <tr>\n",
       "      <th>12</th>\n",
       "      <td>jewelry watch clock silverware shop</td>\n",
       "      <td>12</td>\n",
       "    </tr>\n",
       "    <tr>\n",
       "      <th>13</th>\n",
       "      <td>stationery office supply printing writing paper</td>\n",
       "      <td>13</td>\n",
       "    </tr>\n",
       "    <tr>\n",
       "      <th>14</th>\n",
       "      <td>optician optical good eyeglass</td>\n",
       "      <td>14</td>\n",
       "    </tr>\n",
       "    <tr>\n",
       "      <th>15</th>\n",
       "      <td>telecom</td>\n",
       "      <td>15</td>\n",
       "    </tr>\n",
       "    <tr>\n",
       "      <th>16</th>\n",
       "      <td>digital good book movie music</td>\n",
       "      <td>16</td>\n",
       "    </tr>\n",
       "    <tr>\n",
       "      <th>17</th>\n",
       "      <td>furniture home furnishing equipment shop manuf...</td>\n",
       "      <td>17</td>\n",
       "    </tr>\n",
       "    <tr>\n",
       "      <th>18</th>\n",
       "      <td>computer programming data processing integrate...</td>\n",
       "      <td>18</td>\n",
       "    </tr>\n",
       "    <tr>\n",
       "      <th>19</th>\n",
       "      <td>computer computer peripheral equipment software</td>\n",
       "      <td>19</td>\n",
       "    </tr>\n",
       "    <tr>\n",
       "      <th>20</th>\n",
       "      <td>cable satellite pay television radio service</td>\n",
       "      <td>20</td>\n",
       "    </tr>\n",
       "    <tr>\n",
       "      <th>21</th>\n",
       "      <td>equipment tool furniture appliance rent al lea...</td>\n",
       "      <td>21</td>\n",
       "    </tr>\n",
       "    <tr>\n",
       "      <th>22</th>\n",
       "      <td>watch clock jewelry repair shop</td>\n",
       "      <td>22</td>\n",
       "    </tr>\n",
       "    <tr>\n",
       "      <th>23</th>\n",
       "      <td>hobby toy game shop</td>\n",
       "      <td>23</td>\n",
       "    </tr>\n",
       "    <tr>\n",
       "      <th>24</th>\n",
       "      <td>florist supply nursery stock flower</td>\n",
       "      <td>24</td>\n",
       "    </tr>\n",
       "  </tbody>\n",
       "</table>\n",
       "</div>"
      ],
      "text/plain": [
       "                                          Description  desc_id\n",
       "0         lawn garden supply outlet including nursery        0\n",
       "1                           bicycle shop sale service        1\n",
       "2        antique shop sale repair restoration service        2\n",
       "3                           book periodical newspaper        3\n",
       "4                            artist supply craft shop        4\n",
       "5                     gift card novelty souvenir shop        5\n",
       "6                                           shoe shop        6\n",
       "7                                   health beauty spa        7\n",
       "8                                  art dealer gallery        8\n",
       "9     music shop musical instrument piano sheet music        9\n",
       "10                                   tent awning shop       10\n",
       "11                      motor vehicle supply new part       11\n",
       "12                jewelry watch clock silverware shop       12\n",
       "13    stationery office supply printing writing paper       13\n",
       "14                     optician optical good eyeglass       14\n",
       "15                                            telecom       15\n",
       "16                      digital good book movie music       16\n",
       "17  furniture home furnishing equipment shop manuf...       17\n",
       "18  computer programming data processing integrate...       18\n",
       "19    computer computer peripheral equipment software       19\n",
       "20       cable satellite pay television radio service       20\n",
       "21  equipment tool furniture appliance rent al lea...       21\n",
       "22                    watch clock jewelry repair shop       22\n",
       "23                                hobby toy game shop       23\n",
       "24                florist supply nursery stock flower       24"
      ]
     },
     "execution_count": 7,
     "metadata": {},
     "output_type": "execute_result"
    }
   ],
   "source": [
    "unique_desc['desc_id'] = unique_desc.index\n",
    "unique_desc"
   ]
  },
  {
   "cell_type": "code",
   "execution_count": 8,
   "metadata": {},
   "outputs": [],
   "source": [
    "unique_desc.to_csv(\"../data/tables/description_lookup_tbl.csv\")"
   ]
  }
 ],
 "metadata": {
  "kernelspec": {
   "display_name": "Python 3.9.6 64-bit",
   "language": "python",
   "name": "python3"
  },
  "language_info": {
   "codemirror_mode": {
    "name": "ipython",
    "version": 3
   },
   "file_extension": ".py",
   "mimetype": "text/x-python",
   "name": "python",
   "nbconvert_exporter": "python",
   "pygments_lexer": "ipython3",
   "version": "3.9.6"
  },
  "orig_nbformat": 4,
  "vscode": {
   "interpreter": {
    "hash": "949777d72b0d2535278d3dc13498b2535136f6dfe0678499012e853ee9abcab1"
   }
  }
 },
 "nbformat": 4,
 "nbformat_minor": 2
}
