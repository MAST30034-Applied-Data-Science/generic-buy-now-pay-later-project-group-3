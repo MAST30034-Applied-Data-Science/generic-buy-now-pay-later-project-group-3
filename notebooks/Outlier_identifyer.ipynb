{
 "cells": [
  {
   "cell_type": "markdown",
   "metadata": {},
   "source": [
    "# Outlier Idenfication algorithm\n",
    "This file create 2 new features for each transaction:\n",
    "1. Natural_var: This is a boolean attribute, indicating if a transaction's respective merchant sells more than one type of item ($157) \n",
    "2. Potential_outlier: This determines if a transactions dollar_value is outside the 'normal' distribution\n",
    "\n",
    "Please Note: Transactios with dollar_values under $1 have not been removed"
   ]
  },
  {
   "cell_type": "code",
   "execution_count": 1,
   "metadata": {},
   "outputs": [
    {
     "name": "stdout",
     "output_type": "stream",
     "text": [
      "22/10/02 18:01:31 WARN Utils: Your hostname, James-N580VD-DM229T resolves to a loopback address: 127.0.1.1; using 172.22.102.151 instead (on interface eth0)\n",
      "22/10/02 18:01:32 WARN Utils: Set SPARK_LOCAL_IP if you need to bind to another address\n"
     ]
    },
    {
     "name": "stderr",
     "output_type": "stream",
     "text": [
      "Setting default log level to \"WARN\".\n",
      "To adjust logging level use sc.setLogLevel(newLevel). For SparkR, use setLogLevel(newLevel).\n"
     ]
    },
    {
     "name": "stdout",
     "output_type": "stream",
     "text": [
      "22/10/02 18:01:33 WARN NativeCodeLoader: Unable to load native-hadoop library for your platform... using builtin-java classes where applicable\n"
     ]
    }
   ],
   "source": [
    "# Open Spark session \n",
    "from pyspark.sql import SparkSession, functions as F\n",
    "\n",
    "\n",
    "# Create a spark session (which will run spark jobs)\n",
    "spark = (\n",
    "    SparkSession.builder.appName(\"Data_Explorer\")\n",
    "    .config(\"spark.sql.repl.eagerEval.enabled\", True) \n",
    "    .config(\"spark.sql.parquet.cacheMetadata\", \"true\")\n",
    "    .config(\"spark.driver.memory\", \"6g\")\n",
    "    .config(\"spark.sql.execution.arrow.pyspark.enabled\", \"true\")\n",
    "    .getOrCreate()\n",
    ")"
   ]
  },
  {
   "cell_type": "code",
   "execution_count": 2,
   "metadata": {},
   "outputs": [
    {
     "name": "stderr",
     "output_type": "stream",
     "text": [
      "                                                                                \r"
     ]
    }
   ],
   "source": [
    "# Read the files \n",
    "transactions_sample = spark.read.parquet('../data/tables/transactions_20210828_20220227_snapshot')\n",
    "transactions_sample2 = spark.read.parquet('../data/tables/transactions_20210228_20210827_snapshot')\n",
    "transactions_sample3 = spark.read.parquet('../data/tables/transactions_20220228_20220828_snapshot')\n",
    "transactions_sample.unionByName(transactions_sample2, True)\n",
    "transactions_sample.unionByName(transactions_sample3, True)\n",
    "consumer_details = spark.read.parquet('../data/tables/consumer_user_details.parquet')\n",
    "merchants_tbl = spark.read.parquet('../data/tables/tbl_merchants.parquet')\n",
    "customer_tbl = spark.read.option(\"delimiter\", \"|\").option(\"header\",True).csv('../data/tables/tbl_consumer.csv')"
   ]
  },
  {
   "cell_type": "code",
   "execution_count": 3,
   "metadata": {},
   "outputs": [
    {
     "name": "stderr",
     "output_type": "stream",
     "text": [
      "                                                                                \r"
     ]
    }
   ],
   "source": [
    "merchants = merchants_tbl.toPandas()"
   ]
  },
  {
   "cell_type": "code",
   "execution_count": 4,
   "metadata": {},
   "outputs": [],
   "source": [
    "import nltk\n",
    "from nltk.corpus import stopwords\n",
    "from nltk.stem import WordNetLemmatizer\n",
    "#nltk.download('stopwords')\n",
    "#nltk.download('wordnet')\n",
    "#nltk.download('omw-1.4')\n",
    "import string\n",
    "import re\n",
    "\n",
    "# This is used to for NLP of the description\n",
    "def text_process(text):\n",
    "    stemmer = WordNetLemmatizer()\n",
    "    # Remove all punctuation and numbers \n",
    "    nopunc = [char for char in text if char not in string.punctuation]\n",
    "    nopunc = ''.join([i for i in nopunc if not i.isdigit()])\n",
    "    # Remove all stopwords\n",
    "    nopunc =  [word.lower() for word in nopunc.split() if word not in stopwords.words('english')]\n",
    "    # lemmatize and output\n",
    "    return ' '.join([stemmer.lemmatize(word) for word in nopunc])"
   ]
  },
  {
   "cell_type": "code",
   "execution_count": 5,
   "metadata": {},
   "outputs": [],
   "source": [
    "# this function standardises the tags attribute, creating a list with the 'description', 'revenue band' and 'BNPL service charge'\n",
    "def tag_extract(tag_string): \n",
    "    # first need to preprocess\n",
    "    string =  re.sub('\\[','(', tag_string.lower())\n",
    "    string = re.sub('\\]',')', string)\n",
    "    # break the string into sections\n",
    "    string_cut = string.split('),')\n",
    "    new_string = []\n",
    "    # first extract the description and pre process\n",
    "    descr = str(string_cut[0].strip('(('))\n",
    "    #descr = re.sub(r'[-|,|_|:]', ' ', descr)\n",
    "    #descr = re.sub(r' +', ' ', descr)\n",
    "    #descr = descr.split()\n",
    "    #descr = ' '.join([word for word in descr if word not in stop_words])\n",
    "    new_string.append(text_process(descr))\n",
    "    # second extract the band\n",
    "    new_string.append(str(re.search(r'[a-z]',string_cut[1]).group()))\n",
    "    # finally the take rate\n",
    "    new_string.append(float(re.search(r'[0-9]+\\.[0-9]+',string_cut[2]).group()))\n",
    "    return(new_string)\n",
    "################\n",
    "# now we can run the algorithm\n",
    "tags = merchants['tags']\n",
    "processed_tags = []\n",
    "for i in tags:\n",
    "    processed_tags.append(tag_extract(i))"
   ]
  },
  {
   "cell_type": "code",
   "execution_count": 6,
   "metadata": {},
   "outputs": [],
   "source": [
    "import pandas as pd\n",
    "merchant_tbl = pd.DataFrame(processed_tags, columns=('Description', 'Earnings_Class', 'BNPL_Fee'))\n",
    "merchant_tbl = pd.concat([merchants, merchant_tbl], axis=1)\n",
    "# drop the tags column \n",
    "merchant_tbl.drop(columns='tags', inplace=True)"
   ]
  },
  {
   "cell_type": "code",
   "execution_count": 7,
   "metadata": {},
   "outputs": [],
   "source": [
    "# and convert back to spark dataframe \n",
    "merchants_tbl = spark.createDataFrame(merchant_tbl)"
   ]
  },
  {
   "cell_type": "code",
   "execution_count": 8,
   "metadata": {},
   "outputs": [],
   "source": [
    "# This could be further expanded in breaking the discription up further"
   ]
  },
  {
   "cell_type": "code",
   "execution_count": 9,
   "metadata": {},
   "outputs": [],
   "source": [
    "customer_tbl = customer_tbl.join(consumer_details, ['consumer_id'])"
   ]
  },
  {
   "cell_type": "code",
   "execution_count": 10,
   "metadata": {},
   "outputs": [],
   "source": [
    "full_dataset = transactions_sample.join(customer_tbl, ['user_id'])\n",
    "merchants_tbl = merchants_tbl.withColumnRenamed('name','company_name')\n",
    "full_dataset = full_dataset.join(merchants_tbl, ['merchant_abn'])"
   ]
  },
  {
   "cell_type": "code",
   "execution_count": 11,
   "metadata": {},
   "outputs": [],
   "source": [
    "# lets add a day (mon,...), weekly & monthly attribute\n",
    "import pyspark.sql.functions as F\n",
    "full_dataset = full_dataset.withColumn('Day', F.dayofweek('order_datetime'))\n",
    "full_dataset = full_dataset.withColumn('Month', F.month('order_datetime'))\n",
    "# now we can round each dollar value to the nearest cent (not 5 cents, as there exists unusual pricing in the real world)\n",
    "full_dataset = full_dataset.withColumn(\"dollar_value\", F.round(F.col(\"dollar_value\"), 2))\n",
    "# now we can also add the bnpl revenue from a transaction \n",
    "full_dataset = full_dataset.withColumn('BNPL_Revenue', F.col('dollar_value') * 0.01 * F.col('BNPL_Fee'))\n",
    "full_dataset.createOrReplaceTempView('data')\n",
    "# we can remove name, location and customerID for now, due to being unnnesesary attributes (although company_name could also be removed)\n",
    "full_dataset = spark.sql(\"\"\"\n",
    "select merchant_abn, user_id, dollar_value, order_id, order_datetime, state, postcode, gender, company_name, \n",
    "        Description, Earnings_Class, BNPL_Fee, BNPL_Revenue, Day, Month, weekofyear(order_datetime) as weekofyear from data\n",
    "\"\"\")"
   ]
  },
  {
   "cell_type": "markdown",
   "metadata": {},
   "source": [
    "# Outlier detection algorithm\n",
    "This will be inplemented by creating an attribute called 'potential outlier'. which marks dollar values of transactios that fall out of a companies specific SIQR as True, and False otherwise. Furthermore, it marks all transactions that belong to a company, which has no variance in the dollar value of respective transactios. This is due to it being unrealistic/dodgy."
   ]
  },
  {
   "cell_type": "code",
   "execution_count": 12,
   "metadata": {},
   "outputs": [],
   "source": [
    "# use the SIQR range\n",
    "# see https://towardsdatascience.com/outlier-detection-part-2-6839f6199768\n",
    "Fst_percentile = F.expr('percentile_approx(dollar_value, 0.25)')\n",
    "Trd_percentile = F.expr('percentile_approx(dollar_value, 0.75)')\n",
    "Second_percentile = F.expr('percentile_approx(dollar_value, 0.5)')\n",
    "quartile_dataset = full_dataset.groupBy('merchant_abn').agg(Fst_percentile.alias('1_val'), Trd_percentile.alias('3_val'), Second_percentile.alias('2_val'), F.count('dollar_value').alias('Count'))\n",
    "quartile_dataset = quartile_dataset.withColumn('SIQR_Lower', F.col('2_val') - F.col('1_val'))\n",
    "quartile_dataset = quartile_dataset.withColumn('SIQR_Upper', F.col('3_val') - F.col('2_val'))\n",
    "# Now calculate the limits\n",
    "quartile_dataset = quartile_dataset.withColumn('Upper_limit', F.col('3_val') + 3 * F.col('SIQR_Upper'))\n",
    "quartile_dataset = quartile_dataset.withColumn('Lower_limit', F.col('1_val') - 3 * F.col('SIQR_Lower'))\n",
    "# after noticing that some merchants only have one transaction value (i.e one dollar_value amount for all transactios)\n",
    "# decided to removed due to unrealisic distributed data \n",
    "quartile_dataset = quartile_dataset.withColumn('Natural_var', F.when((F.col('Upper_limit') == F.col('Lower_limit')) & (F.col('Count') > 10), True).otherwise(False))\n",
    "quartile_dataset = quartile_dataset.select('merchant_abn', 'Upper_limit', 'Lower_limit', 'Natural_var')"
   ]
  },
  {
   "cell_type": "code",
   "execution_count": 13,
   "metadata": {},
   "outputs": [],
   "source": [
    "# Now all we need to do is join this data to each transaction, then can select the transactios which are (not) within the limits\n",
    "full_quantile = full_dataset.select('merchant_abn', 'order_id', 'user_id', 'dollar_value').join(quartile_dataset, on= ['merchant_abn'])"
   ]
  },
  {
   "cell_type": "code",
   "execution_count": 14,
   "metadata": {},
   "outputs": [],
   "source": [
    "# finally identify the outliers which fall out of distribution or apart of a dodgy business\n",
    "full_quantile = full_quantile.withColumn('Potential_Outlier', F.when((full_quantile.dollar_value <= F.col('Upper_limit')) & (full_quantile.dollar_value >= F.col('Lower_limit')) & (F.col('Natural_var') == False), False)\n",
    "                                              .otherwise(True))"
   ]
  },
  {
   "cell_type": "code",
   "execution_count": 15,
   "metadata": {},
   "outputs": [
    {
     "name": "stderr",
     "output_type": "stream",
     "text": [
      "                                                                                \r"
     ]
    },
    {
     "data": {
      "text/plain": [
       "108542"
      ]
     },
     "execution_count": 15,
     "metadata": {},
     "output_type": "execute_result"
    }
   ],
   "source": [
    "full_quantile.where(F.col('Potential_Outlier') == True).count()"
   ]
  },
  {
   "cell_type": "code",
   "execution_count": 16,
   "metadata": {},
   "outputs": [
    {
     "name": "stderr",
     "output_type": "stream",
     "text": [
      "                                                                                \r"
     ]
    },
    {
     "data": {
      "text/plain": [
       "<AxesSubplot:xlabel='dollar_value', ylabel='Count'>"
      ]
     },
     "execution_count": 16,
     "metadata": {},
     "output_type": "execute_result"
    },
    {
     "data": {
      "image/png": "[encoded data removed]",
      "text/plain": [
       "<Figure size 432x288 with 1 Axes>"
      ]
     },
     "metadata": {
      "needs_background": "light"
     },
     "output_type": "display_data"
    }
   ],
   "source": [
    "import seaborn as sns\n",
    "sns.histplot(x='dollar_value', hue = 'Potential_Outlier',alpha = 0.4, data=full_quantile.where(full_quantile.merchant_abn == 35575706403).select('dollar_value', 'Potential_Outlier').toPandas())"
   ]
  },
  {
   "cell_type": "markdown",
   "metadata": {},
   "source": [
    "# Description Tag analysis\n",
    "There are a total of 26 unique tags, so lets look further into detail of differences between them"
   ]
  },
  {
   "cell_type": "code",
   "execution_count": 17,
   "metadata": {},
   "outputs": [],
   "source": [
    "# First lets join the new attributes obtained above to the transaction spark dataframe\n",
    "full_quantile = full_quantile.select(['order_id', 'Natural_var', 'Potential_Outlier'])\n",
    "full_dataset = full_dataset.join(full_quantile, on='order_id')"
   ]
  },
  {
   "cell_type": "code",
   "execution_count": 18,
   "metadata": {},
   "outputs": [],
   "source": [
    "# Remove transactions below $1\n",
    "main_agg = full_dataset.where(full_dataset.dollar_value >= 1.0).groupBy('Description').agg(\n",
    "    F.count('order_id').alias('Count'),\n",
    "    F.count_distinct('merchant_abn').alias('Merchant_Number'),\n",
    "    F.avg('dollar_value').alias('Dollar_AVG'),\n",
    "    F.avg('BNPL_Fee').alias('BNPL_Fee'),\n",
    "    F.avg('BNPL_Revenue').alias('BNPL_Revenue_AVG'),\n",
    "    F.min('dollar_value').alias('Dollar_MIN'),\n",
    "    F.max('dollar_value').alias('Dollar_MAX')\n",
    ")\n",
    "\n",
    "Outlier_agg1 = full_dataset.where(full_dataset.Potential_Outlier==True).groupBy('Description').agg(F.count('Potential_Outlier').alias('Potential_count'))\n",
    "Outlier_agg2 = full_dataset.where(full_dataset.Natural_var==True).groupBy('Description').agg(F.count('Natural_var').alias('Nat_var_count'))\n",
    "main_agg = main_agg.join(Outlier_agg1,  on='Description', how='left')\n",
    "main_agg = main_agg.join(Outlier_agg2, on='Description', how='left')\n",
    "main_agg = main_agg.withColumn('Potential_count', F.col('Potential_count') / F.col('Count'))\n",
    "main_agg = main_agg.withColumn('Nat_var_count', F.col('Nat_var_count') / F.col('Count'))\n",
    "main_agg = main_agg.withColumn('Tran_per_Merch_AVG', F.col('Count') / F.col('Merchant_Number'))\n",
    "\n",
    "# merchant_abn, user_id, dollar_value, order_id, order_datetime, state, postcode, gender, company_name, \n",
    "#        Description, Earnings_Class, BNPL_Fee, BNPL_Revenue, Day, Month, weekofyear(order_datetime) as weekofyear from data"
   ]
  },
  {
   "cell_type": "code",
   "execution_count": 19,
   "metadata": {},
   "outputs": [
    {
     "name": "stderr",
     "output_type": "stream",
     "text": [
      "                                                                                \r"
     ]
    }
   ],
   "source": [
    "main_bb = main_agg.toPandas()"
   ]
  },
  {
   "cell_type": "code",
   "execution_count": 20,
   "metadata": {},
   "outputs": [
    {
     "data": {
      "text/plain": [
       "{'antique shop sale repair restoration service',\n",
       " 'art dealer gallery',\n",
       " 'artist supply craft shop',\n",
       " 'bicycle shop sale service',\n",
       " 'book periodical newspaper',\n",
       " 'cable satellite pay television radio service',\n",
       " 'computer computer peripheral equipment software',\n",
       " 'computer programming data processing integrated system design service',\n",
       " 'digital good book movie music',\n",
       " 'equipment tool furniture appliance rent al leasing',\n",
       " 'florist supply nursery stock flower',\n",
       " 'furniture home furnishing equipment shop manufacturer except appliance',\n",
       " 'gift card novelty souvenir shop',\n",
       " 'hobby toy game shop',\n",
       " 'jewelry watch clock silverware shop',\n",
       " 'lawn garden supply outlet including nursery',\n",
       " 'motor vehicle supply new part',\n",
       " 'music shop musical instrument piano sheet music',\n",
       " 'optician optical good eyeglass',\n",
       " 'shoe shop',\n",
       " 'stationery office supply printing writing paper',\n",
       " 'telecom',\n",
       " 'tent awning shop',\n",
       " 'watch clock jewelry repair shop'}"
      ]
     },
     "execution_count": 20,
     "metadata": {},
     "output_type": "execute_result"
    }
   ],
   "source": [
    "b = set(main_bb['Description'])\n",
    "b.remove('health beauty spa')\n",
    "b"
   ]
  },
  {
   "cell_type": "code",
   "execution_count": 27,
   "metadata": {},
   "outputs": [
    {
     "data": {
      "text/html": [
       "<div>\n",
       "<style scoped>\n",
       "    .dataframe tbody tr th:only-of-type {\n",
       "        vertical-align: middle;\n",
       "    }\n",
       "\n",
       "    .dataframe tbody tr th {\n",
       "        vertical-align: top;\n",
       "    }\n",
       "\n",
       "    .dataframe thead th {\n",
       "        text-align: right;\n",
       "    }\n",
       "</style>\n",
       "<table border=\"1\" class=\"dataframe\">\n",
       "  <thead>\n",
       "    <tr style=\"text-align: right;\">\n",
       "      <th></th>\n",
       "      <th>Description</th>\n",
       "      <th>Count</th>\n",
       "      <th>Merchant_Number</th>\n",
       "      <th>Dollar_AVG</th>\n",
       "      <th>BNPL_Fee</th>\n",
       "      <th>BNPL_Revenue_AVG</th>\n",
       "      <th>Dollar_MIN</th>\n",
       "      <th>Dollar_MAX</th>\n",
       "      <th>Potential_count</th>\n",
       "      <th>Nat_var_count</th>\n",
       "      <th>Tran_per_Merch_AVG</th>\n",
       "    </tr>\n",
       "  </thead>\n",
       "  <tbody>\n",
       "    <tr>\n",
       "      <th>16</th>\n",
       "      <td>digital good book movie music</td>\n",
       "      <td>405183</td>\n",
       "      <td>195</td>\n",
       "      <td>64.715430</td>\n",
       "      <td>4.902602</td>\n",
       "      <td>3.256789</td>\n",
       "      <td>1.00</td>\n",
       "      <td>697.71</td>\n",
       "      <td>0.022805</td>\n",
       "      <td>NaN</td>\n",
       "      <td>2077.861538</td>\n",
       "    </tr>\n",
       "    <tr>\n",
       "      <th>5</th>\n",
       "      <td>gift card novelty souvenir shop</td>\n",
       "      <td>515759</td>\n",
       "      <td>182</td>\n",
       "      <td>68.640962</td>\n",
       "      <td>4.731716</td>\n",
       "      <td>3.315935</td>\n",
       "      <td>1.00</td>\n",
       "      <td>676.66</td>\n",
       "      <td>0.021997</td>\n",
       "      <td>NaN</td>\n",
       "      <td>2833.840659</td>\n",
       "    </tr>\n",
       "    <tr>\n",
       "      <th>22</th>\n",
       "      <td>watch clock jewelry repair shop</td>\n",
       "      <td>325250</td>\n",
       "      <td>170</td>\n",
       "      <td>73.560486</td>\n",
       "      <td>5.163516</td>\n",
       "      <td>3.651234</td>\n",
       "      <td>1.00</td>\n",
       "      <td>872.00</td>\n",
       "      <td>0.021802</td>\n",
       "      <td>NaN</td>\n",
       "      <td>1913.235294</td>\n",
       "    </tr>\n",
       "    <tr>\n",
       "      <th>10</th>\n",
       "      <td>tent awning shop</td>\n",
       "      <td>566554</td>\n",
       "      <td>178</td>\n",
       "      <td>82.455005</td>\n",
       "      <td>4.712820</td>\n",
       "      <td>3.890223</td>\n",
       "      <td>1.00</td>\n",
       "      <td>6692.21</td>\n",
       "      <td>0.017573</td>\n",
       "      <td>NaN</td>\n",
       "      <td>3182.887640</td>\n",
       "    </tr>\n",
       "    <tr>\n",
       "      <th>20</th>\n",
       "      <td>cable satellite pay television radio service</td>\n",
       "      <td>302583</td>\n",
       "      <td>175</td>\n",
       "      <td>79.148523</td>\n",
       "      <td>4.903758</td>\n",
       "      <td>3.902845</td>\n",
       "      <td>1.00</td>\n",
       "      <td>625.63</td>\n",
       "      <td>0.065033</td>\n",
       "      <td>0.042048</td>\n",
       "      <td>1729.045714</td>\n",
       "    </tr>\n",
       "    <tr>\n",
       "      <th>15</th>\n",
       "      <td>optician optical good eyeglass</td>\n",
       "      <td>262938</td>\n",
       "      <td>151</td>\n",
       "      <td>89.716427</td>\n",
       "      <td>4.012606</td>\n",
       "      <td>3.952073</td>\n",
       "      <td>1.00</td>\n",
       "      <td>1698.85</td>\n",
       "      <td>0.028349</td>\n",
       "      <td>NaN</td>\n",
       "      <td>1741.311258</td>\n",
       "    </tr>\n",
       "    <tr>\n",
       "      <th>24</th>\n",
       "      <td>florist supply nursery stock flower</td>\n",
       "      <td>279161</td>\n",
       "      <td>180</td>\n",
       "      <td>116.799947</td>\n",
       "      <td>4.047983</td>\n",
       "      <td>5.133508</td>\n",
       "      <td>1.00</td>\n",
       "      <td>2294.78</td>\n",
       "      <td>0.022371</td>\n",
       "      <td>NaN</td>\n",
       "      <td>1550.894444</td>\n",
       "    </tr>\n",
       "    <tr>\n",
       "      <th>19</th>\n",
       "      <td>computer computer peripheral equipment software</td>\n",
       "      <td>226707</td>\n",
       "      <td>181</td>\n",
       "      <td>168.367114</td>\n",
       "      <td>4.213390</td>\n",
       "      <td>7.295239</td>\n",
       "      <td>1.00</td>\n",
       "      <td>2820.86</td>\n",
       "      <td>0.022628</td>\n",
       "      <td>NaN</td>\n",
       "      <td>1252.524862</td>\n",
       "    </tr>\n",
       "    <tr>\n",
       "      <th>18</th>\n",
       "      <td>computer programming data processing integrate...</td>\n",
       "      <td>164075</td>\n",
       "      <td>191</td>\n",
       "      <td>191.867721</td>\n",
       "      <td>4.437380</td>\n",
       "      <td>8.652318</td>\n",
       "      <td>1.00</td>\n",
       "      <td>9329.82</td>\n",
       "      <td>0.023386</td>\n",
       "      <td>NaN</td>\n",
       "      <td>859.031414</td>\n",
       "    </tr>\n",
       "    <tr>\n",
       "      <th>6</th>\n",
       "      <td>shoe shop</td>\n",
       "      <td>136528</td>\n",
       "      <td>185</td>\n",
       "      <td>200.493366</td>\n",
       "      <td>4.495308</td>\n",
       "      <td>8.939079</td>\n",
       "      <td>1.00</td>\n",
       "      <td>2335.70</td>\n",
       "      <td>0.023702</td>\n",
       "      <td>NaN</td>\n",
       "      <td>737.989189</td>\n",
       "    </tr>\n",
       "    <tr>\n",
       "      <th>17</th>\n",
       "      <td>furniture home furnishing equipment shop manuf...</td>\n",
       "      <td>157467</td>\n",
       "      <td>181</td>\n",
       "      <td>225.296569</td>\n",
       "      <td>4.042710</td>\n",
       "      <td>10.169621</td>\n",
       "      <td>1.00</td>\n",
       "      <td>11354.06</td>\n",
       "      <td>0.023402</td>\n",
       "      <td>NaN</td>\n",
       "      <td>869.983425</td>\n",
       "    </tr>\n",
       "    <tr>\n",
       "      <th>3</th>\n",
       "      <td>book periodical newspaper</td>\n",
       "      <td>124921</td>\n",
       "      <td>164</td>\n",
       "      <td>252.501913</td>\n",
       "      <td>4.355487</td>\n",
       "      <td>10.577314</td>\n",
       "      <td>1.00</td>\n",
       "      <td>2421.66</td>\n",
       "      <td>0.023735</td>\n",
       "      <td>NaN</td>\n",
       "      <td>761.713415</td>\n",
       "    </tr>\n",
       "    <tr>\n",
       "      <th>4</th>\n",
       "      <td>artist supply craft shop</td>\n",
       "      <td>147492</td>\n",
       "      <td>193</td>\n",
       "      <td>259.256453</td>\n",
       "      <td>5.184445</td>\n",
       "      <td>11.660278</td>\n",
       "      <td>1.00</td>\n",
       "      <td>4088.71</td>\n",
       "      <td>0.026747</td>\n",
       "      <td>NaN</td>\n",
       "      <td>764.207254</td>\n",
       "    </tr>\n",
       "    <tr>\n",
       "      <th>23</th>\n",
       "      <td>hobby toy game shop</td>\n",
       "      <td>74789</td>\n",
       "      <td>142</td>\n",
       "      <td>261.745151</td>\n",
       "      <td>4.998936</td>\n",
       "      <td>12.418174</td>\n",
       "      <td>1.00</td>\n",
       "      <td>8320.27</td>\n",
       "      <td>0.023466</td>\n",
       "      <td>NaN</td>\n",
       "      <td>526.683099</td>\n",
       "    </tr>\n",
       "    <tr>\n",
       "      <th>9</th>\n",
       "      <td>music shop musical instrument piano sheet music</td>\n",
       "      <td>100854</td>\n",
       "      <td>167</td>\n",
       "      <td>271.849048</td>\n",
       "      <td>5.003729</td>\n",
       "      <td>12.552493</td>\n",
       "      <td>1.00</td>\n",
       "      <td>4966.35</td>\n",
       "      <td>0.016767</td>\n",
       "      <td>NaN</td>\n",
       "      <td>603.916168</td>\n",
       "    </tr>\n",
       "    <tr>\n",
       "      <th>7</th>\n",
       "      <td>health beauty spa</td>\n",
       "      <td>77991</td>\n",
       "      <td>164</td>\n",
       "      <td>299.699741</td>\n",
       "      <td>4.265398</td>\n",
       "      <td>12.620189</td>\n",
       "      <td>1.00</td>\n",
       "      <td>3068.10</td>\n",
       "      <td>0.023772</td>\n",
       "      <td>NaN</td>\n",
       "      <td>475.554878</td>\n",
       "    </tr>\n",
       "    <tr>\n",
       "      <th>0</th>\n",
       "      <td>lawn garden supply outlet including nursery</td>\n",
       "      <td>109892</td>\n",
       "      <td>153</td>\n",
       "      <td>315.506657</td>\n",
       "      <td>4.138791</td>\n",
       "      <td>12.769591</td>\n",
       "      <td>1.01</td>\n",
       "      <td>7835.22</td>\n",
       "      <td>0.022122</td>\n",
       "      <td>NaN</td>\n",
       "      <td>718.248366</td>\n",
       "    </tr>\n",
       "    <tr>\n",
       "      <th>2</th>\n",
       "      <td>antique shop sale repair restoration service</td>\n",
       "      <td>56423</td>\n",
       "      <td>117</td>\n",
       "      <td>363.243544</td>\n",
       "      <td>3.509734</td>\n",
       "      <td>15.338815</td>\n",
       "      <td>1.00</td>\n",
       "      <td>50209.51</td>\n",
       "      <td>0.021410</td>\n",
       "      <td>NaN</td>\n",
       "      <td>482.247863</td>\n",
       "    </tr>\n",
       "    <tr>\n",
       "      <th>1</th>\n",
       "      <td>bicycle shop sale service</td>\n",
       "      <td>71165</td>\n",
       "      <td>170</td>\n",
       "      <td>315.432564</td>\n",
       "      <td>4.661892</td>\n",
       "      <td>15.489350</td>\n",
       "      <td>1.00</td>\n",
       "      <td>8032.07</td>\n",
       "      <td>0.022623</td>\n",
       "      <td>NaN</td>\n",
       "      <td>418.617647</td>\n",
       "    </tr>\n",
       "    <tr>\n",
       "      <th>11</th>\n",
       "      <td>motor vehicle supply new part</td>\n",
       "      <td>97281</td>\n",
       "      <td>149</td>\n",
       "      <td>359.818832</td>\n",
       "      <td>4.644988</td>\n",
       "      <td>16.649343</td>\n",
       "      <td>1.01</td>\n",
       "      <td>21231.68</td>\n",
       "      <td>0.020590</td>\n",
       "      <td>NaN</td>\n",
       "      <td>652.892617</td>\n",
       "    </tr>\n",
       "    <tr>\n",
       "      <th>12</th>\n",
       "      <td>stationery office supply printing writing paper</td>\n",
       "      <td>54513</td>\n",
       "      <td>161</td>\n",
       "      <td>463.411112</td>\n",
       "      <td>4.155598</td>\n",
       "      <td>19.161441</td>\n",
       "      <td>1.00</td>\n",
       "      <td>3617.10</td>\n",
       "      <td>0.024416</td>\n",
       "      <td>NaN</td>\n",
       "      <td>338.590062</td>\n",
       "    </tr>\n",
       "    <tr>\n",
       "      <th>21</th>\n",
       "      <td>equipment tool furniture appliance rent al lea...</td>\n",
       "      <td>11603</td>\n",
       "      <td>133</td>\n",
       "      <td>1293.866196</td>\n",
       "      <td>3.479334</td>\n",
       "      <td>47.722990</td>\n",
       "      <td>1.03</td>\n",
       "      <td>13337.37</td>\n",
       "      <td>0.029130</td>\n",
       "      <td>NaN</td>\n",
       "      <td>87.240602</td>\n",
       "    </tr>\n",
       "    <tr>\n",
       "      <th>14</th>\n",
       "      <td>telecom</td>\n",
       "      <td>10942</td>\n",
       "      <td>125</td>\n",
       "      <td>1729.295626</td>\n",
       "      <td>4.088996</td>\n",
       "      <td>67.962084</td>\n",
       "      <td>1.62</td>\n",
       "      <td>17868.38</td>\n",
       "      <td>0.024127</td>\n",
       "      <td>NaN</td>\n",
       "      <td>87.536000</td>\n",
       "    </tr>\n",
       "    <tr>\n",
       "      <th>8</th>\n",
       "      <td>art dealer gallery</td>\n",
       "      <td>6842</td>\n",
       "      <td>110</td>\n",
       "      <td>2057.335053</td>\n",
       "      <td>4.205456</td>\n",
       "      <td>83.205917</td>\n",
       "      <td>1.41</td>\n",
       "      <td>51876.64</td>\n",
       "      <td>0.026893</td>\n",
       "      <td>NaN</td>\n",
       "      <td>62.200000</td>\n",
       "    </tr>\n",
       "    <tr>\n",
       "      <th>13</th>\n",
       "      <td>jewelry watch clock silverware shop</td>\n",
       "      <td>1578</td>\n",
       "      <td>81</td>\n",
       "      <td>9220.196971</td>\n",
       "      <td>3.572288</td>\n",
       "      <td>341.020908</td>\n",
       "      <td>3.41</td>\n",
       "      <td>47381.94</td>\n",
       "      <td>0.041825</td>\n",
       "      <td>NaN</td>\n",
       "      <td>19.481481</td>\n",
       "    </tr>\n",
       "  </tbody>\n",
       "</table>\n",
       "</div>"
      ],
      "text/plain": [
       "                                          Description   Count  \\\n",
       "16                      digital good book movie music  405183   \n",
       "5                     gift card novelty souvenir shop  515759   \n",
       "22                    watch clock jewelry repair shop  325250   \n",
       "10                                   tent awning shop  566554   \n",
       "20       cable satellite pay television radio service  302583   \n",
       "15                     optician optical good eyeglass  262938   \n",
       "24                florist supply nursery stock flower  279161   \n",
       "19    computer computer peripheral equipment software  226707   \n",
       "18  computer programming data processing integrate...  164075   \n",
       "6                                           shoe shop  136528   \n",
       "17  furniture home furnishing equipment shop manuf...  157467   \n",
       "3                           book periodical newspaper  124921   \n",
       "4                            artist supply craft shop  147492   \n",
       "23                                hobby toy game shop   74789   \n",
       "9     music shop musical instrument piano sheet music  100854   \n",
       "7                                   health beauty spa   77991   \n",
       "0         lawn garden supply outlet including nursery  109892   \n",
       "2        antique shop sale repair restoration service   56423   \n",
       "1                           bicycle shop sale service   71165   \n",
       "11                      motor vehicle supply new part   97281   \n",
       "12    stationery office supply printing writing paper   54513   \n",
       "21  equipment tool furniture appliance rent al lea...   11603   \n",
       "14                                            telecom   10942   \n",
       "8                                  art dealer gallery    6842   \n",
       "13                jewelry watch clock silverware shop    1578   \n",
       "\n",
       "    Merchant_Number   Dollar_AVG  BNPL_Fee  BNPL_Revenue_AVG  Dollar_MIN  \\\n",
       "16              195    64.715430  4.902602          3.256789        1.00   \n",
       "5               182    68.640962  4.731716          3.315935        1.00   \n",
       "22              170    73.560486  5.163516          3.651234        1.00   \n",
       "10              178    82.455005  4.712820          3.890223        1.00   \n",
       "20              175    79.148523  4.903758          3.902845        1.00   \n",
       "15              151    89.716427  4.012606          3.952073        1.00   \n",
       "24              180   116.799947  4.047983          5.133508        1.00   \n",
       "19              181   168.367114  4.213390          7.295239        1.00   \n",
       "18              191   191.867721  4.437380          8.652318        1.00   \n",
       "6               185   200.493366  4.495308          8.939079        1.00   \n",
       "17              181   225.296569  4.042710         10.169621        1.00   \n",
       "3               164   252.501913  4.355487         10.577314        1.00   \n",
       "4               193   259.256453  5.184445         11.660278        1.00   \n",
       "23              142   261.745151  4.998936         12.418174        1.00   \n",
       "9               167   271.849048  5.003729         12.552493        1.00   \n",
       "7               164   299.699741  4.265398         12.620189        1.00   \n",
       "0               153   315.506657  4.138791         12.769591        1.01   \n",
       "2               117   363.243544  3.509734         15.338815        1.00   \n",
       "1               170   315.432564  4.661892         15.489350        1.00   \n",
       "11              149   359.818832  4.644988         16.649343        1.01   \n",
       "12              161   463.411112  4.155598         19.161441        1.00   \n",
       "21              133  1293.866196  3.479334         47.722990        1.03   \n",
       "14              125  1729.295626  4.088996         67.962084        1.62   \n",
       "8               110  2057.335053  4.205456         83.205917        1.41   \n",
       "13               81  9220.196971  3.572288        341.020908        3.41   \n",
       "\n",
       "    Dollar_MAX  Potential_count  Nat_var_count  Tran_per_Merch_AVG  \n",
       "16      697.71         0.022805            NaN         2077.861538  \n",
       "5       676.66         0.021997            NaN         2833.840659  \n",
       "22      872.00         0.021802            NaN         1913.235294  \n",
       "10     6692.21         0.017573            NaN         3182.887640  \n",
       "20      625.63         0.065033       0.042048         1729.045714  \n",
       "15     1698.85         0.028349            NaN         1741.311258  \n",
       "24     2294.78         0.022371            NaN         1550.894444  \n",
       "19     2820.86         0.022628            NaN         1252.524862  \n",
       "18     9329.82         0.023386            NaN          859.031414  \n",
       "6      2335.70         0.023702            NaN          737.989189  \n",
       "17    11354.06         0.023402            NaN          869.983425  \n",
       "3      2421.66         0.023735            NaN          761.713415  \n",
       "4      4088.71         0.026747            NaN          764.207254  \n",
       "23     8320.27         0.023466            NaN          526.683099  \n",
       "9      4966.35         0.016767            NaN          603.916168  \n",
       "7      3068.10         0.023772            NaN          475.554878  \n",
       "0      7835.22         0.022122            NaN          718.248366  \n",
       "2     50209.51         0.021410            NaN          482.247863  \n",
       "1      8032.07         0.022623            NaN          418.617647  \n",
       "11    21231.68         0.020590            NaN          652.892617  \n",
       "12     3617.10         0.024416            NaN          338.590062  \n",
       "21    13337.37         0.029130            NaN           87.240602  \n",
       "14    17868.38         0.024127            NaN           87.536000  \n",
       "8     51876.64         0.026893            NaN           62.200000  \n",
       "13    47381.94         0.041825            NaN           19.481481  "
      ]
     },
     "execution_count": 27,
     "metadata": {},
     "output_type": "execute_result"
    }
   ],
   "source": [
    "main_bb.sort_values(by=['BNPL_Revenue_AVG'])"
   ]
  },
  {
   "cell_type": "markdown",
   "metadata": {},
   "source": [
    "# Plotting of merchants by description \n"
   ]
  },
  {
   "cell_type": "code",
   "execution_count": 22,
   "metadata": {},
   "outputs": [
    {
     "name": "stderr",
     "output_type": "stream",
     "text": [
      "                                                                                \r"
     ]
    }
   ],
   "source": [
    "#subset = full_dataset.where(full_dataset.Description is in ('digital good book movie music', 'gift card novelty souvenir shop'))\n",
    "subset = full_dataset.sample(withReplacement=False, fraction=0.05).toPandas()"
   ]
  },
  {
   "cell_type": "code",
   "execution_count": 23,
   "metadata": {},
   "outputs": [],
   "source": [
    "subset_2 = subset[(subset['Natural_var'] == False) & (subset['Potential_Outlier'] == False)]"
   ]
  },
  {
   "cell_type": "code",
   "execution_count": 24,
   "metadata": {},
   "outputs": [
    {
     "data": {
      "text/plain": [
       "Description\n",
       "antique shop sale repair restoration service                              35929.34\n",
       "art dealer gallery                                                        23152.92\n",
       "artist supply craft shop                                                   3442.30\n",
       "bicycle shop sale service                                                  5482.14\n",
       "book periodical newspaper                                                  1683.62\n",
       "cable satellite pay television radio service                                545.00\n",
       "computer computer peripheral equipment software                            2090.61\n",
       "computer programming data processing integrated system design service      4581.40\n",
       "digital good book movie music                                               475.67\n",
       "equipment tool furniture appliance rent al leasing                        10956.94\n",
       "florist supply nursery stock flower                                        1748.70\n",
       "furniture home furnishing equipment shop manufacturer except appliance     9891.73\n",
       "gift card novelty souvenir shop                                             449.71\n",
       "health beauty spa                                                          2118.01\n",
       "hobby toy game shop                                                        8320.27\n",
       "jewelry watch clock silverware shop                                       30222.85\n",
       "lawn garden supply outlet including nursery                                5812.69\n",
       "motor vehicle supply new part                                              9848.39\n",
       "music shop musical instrument piano sheet music                            3424.12\n",
       "optician optical good eyeglass                                             1291.25\n",
       "shoe shop                                                                  1840.41\n",
       "stationery office supply printing writing paper                            3000.95\n",
       "telecom                                                                   12898.45\n",
       "tent awning shop                                                           4618.47\n",
       "watch clock jewelry repair shop                                             645.89\n",
       "Name: dollar_value, dtype: float64"
      ]
     },
     "execution_count": 24,
     "metadata": {},
     "output_type": "execute_result"
    }
   ],
   "source": [
    "subset.groupby('Description').dollar_value.max()"
   ]
  },
  {
   "cell_type": "code",
   "execution_count": 25,
   "metadata": {},
   "outputs": [
    {
     "data": {
      "text/plain": [
       "<AxesSubplot:xlabel='Description', ylabel='BNPL_Revenue'>"
      ]
     },
     "execution_count": 25,
     "metadata": {},
     "output_type": "execute_result"
    },
    {
     "data": {
      "image/png": "[encoded data removed]",
      "text/plain": [
       "<Figure size 432x288 with 1 Axes>"
      ]
     },
     "metadata": {
      "needs_background": "light"
     },
     "output_type": "display_data"
    }
   ],
   "source": [
    "sns.boxplot(x='Description', y= 'BNPL_Revenue', data = subset_2)"
   ]
  },
  {
   "cell_type": "code",
   "execution_count": 26,
   "metadata": {},
   "outputs": [
    {
     "data": {
      "text/plain": [
       "<AxesSubplot:xlabel='Description', ylabel='BNPL_Revenue'>"
      ]
     },
     "execution_count": 26,
     "metadata": {},
     "output_type": "execute_result"
    },
    {
     "data": {
      "image/png": "[encoded data removed]",
      "text/plain": [
       "<Figure size 432x288 with 1 Axes>"
      ]
     },
     "metadata": {
      "needs_background": "light"
     },
     "output_type": "display_data"
    }
   ],
   "source": [
    "sns.violinplot(x='Description', y= 'BNPL_Revenue', data = subset)"
   ]
  }
 ],
 "metadata": {
  "kernelspec": {
   "display_name": "Python 3.8.10 64-bit",
   "language": "python",
   "name": "python3"
  },
  "language_info": {
   "codemirror_mode": {
    "name": "ipython",
    "version": 3
   },
   "file_extension": ".py",
   "mimetype": "text/x-python",
   "name": "python",
   "nbconvert_exporter": "python",
   "pygments_lexer": "ipython3",
   "version": "3.8.10"
  },
  "orig_nbformat": 4,
  "vscode": {
   "interpreter": {
    "hash": "916dbcbb3f70747c44a77c7bcd40155683ae19c65e1c03b4aa3499c5328201f1"
   }
  }
 },
 "nbformat": 4,
 "nbformat_minor": 2
}
