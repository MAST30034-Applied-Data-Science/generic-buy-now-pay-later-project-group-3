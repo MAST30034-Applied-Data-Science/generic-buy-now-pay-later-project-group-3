{
 "cells": [
  {
   "cell_type": "markdown",
   "metadata": {},
   "source": [
    "# Run \"ETL\" script"
   ]
  },
  {
   "cell_type": "code",
   "execution_count": 1,
   "metadata": {},
   "outputs": [
    {
     "name": "stdout",
     "output_type": "stream",
     "text": [
      "22/09/26 20:07:47 WARN Utils: Your hostname, James-N580VD-DM229T resolves to a loopback address: 127.0.1.1; using 172.17.215.54 instead (on interface eth0)\n",
      "22/09/26 20:07:47 WARN Utils: Set SPARK_LOCAL_IP if you need to bind to another address\n"
     ]
    },
    {
     "name": "stderr",
     "output_type": "stream",
     "text": [
      "Setting default log level to \"WARN\".\n",
      "To adjust logging level use sc.setLogLevel(newLevel). For SparkR, use setLogLevel(newLevel).\n"
     ]
    },
    {
     "name": "stdout",
     "output_type": "stream",
     "text": [
      "22/09/26 20:07:49 WARN NativeCodeLoader: Unable to load native-hadoop library for your platform... using builtin-java classes where applicable\n"
     ]
    }
   ],
   "source": [
    "# Open Spark session \n",
    "from pyspark.sql import SparkSession, functions as F\n",
    "\n",
    "\n",
    "# Create a spark session (which will run spark jobs)\n",
    "spark = (\n",
    "    SparkSession.builder.appName(\"Data_Explorer\")\n",
    "    .config(\"spark.sql.repl.eagerEval.enabled\", True) \n",
    "    .config(\"spark.sql.parquet.cacheMetadata\", \"true\")\n",
    "    .config(\"spark.driver.memory\", \"6g\")\n",
    "    .config(\"spark.sql.execution.arrow.pyspark.enabled\", \"true\")\n",
    "    .getOrCreate()\n",
    ")"
   ]
  },
  {
   "cell_type": "code",
   "execution_count": 2,
   "metadata": {},
   "outputs": [
    {
     "name": "stderr",
     "output_type": "stream",
     "text": [
      "                                                                                \r"
     ]
    }
   ],
   "source": [
    "# Read the files \n",
    "transactions_sample = spark.read.parquet('../data/tables/transactions_20210828_20220227_snapshot')\n",
    "transactions_sample2 = spark.read.parquet('../data/tables/transactions_20210228_20210827_snapshot')\n",
    "transactions_sample3 = spark.read.parquet('../data/tables/transactions_20220228_20220828_snapshot')\n",
    "transactions_sample.unionByName(transactions_sample2, True)\n",
    "transactions_sample.unionByName(transactions_sample3, True)\n",
    "consumer_details = spark.read.parquet('../data/tables/consumer_user_details.parquet')\n",
    "merchants_tbl = spark.read.parquet('../data/tables/tbl_merchants.parquet')\n",
    "customer_tbl = spark.read.option(\"delimiter\", \"|\").option(\"header\",True).csv('../data/tables/tbl_consumer.csv')"
   ]
  },
  {
   "cell_type": "code",
   "execution_count": 3,
   "metadata": {},
   "outputs": [],
   "source": [
    "merchants = merchants_tbl.toPandas()"
   ]
  },
  {
   "cell_type": "code",
   "execution_count": 4,
   "metadata": {},
   "outputs": [],
   "source": [
    "import re\n",
    "# this function standardises the tags attribute, creating a list with the 'description', 'revenue band' and 'BNPL service charge'\n",
    "def tag_extract(tag_string): \n",
    "    # first need to preprocess\n",
    "    string =  re.sub('\\[','(', tag_string.lower())\n",
    "    string = re.sub('\\]',')', string)\n",
    "    # break the string into sections\n",
    "    string_cut = string.split('),')\n",
    "    new_string = []\n",
    "    # first extract the description \n",
    "    new_string.append(str(string_cut[0].strip('((')))\n",
    "    # second extract the band\n",
    "    new_string.append(str(re.search(r'[a-z]',string_cut[1]).group()))\n",
    "    # finally the take rate\n",
    "    new_string.append(float(re.search(r'[0-9]+\\.[0-9]+',string_cut[2]).group()))\n",
    "    return(new_string)\n",
    "################\n",
    "# now we can run the algorithm\n",
    "tags = merchants['tags']\n",
    "processed_tags = []\n",
    "for i in tags:\n",
    "    processed_tags.append(tag_extract(i))"
   ]
  },
  {
   "cell_type": "code",
   "execution_count": 5,
   "metadata": {},
   "outputs": [],
   "source": [
    "import pandas as pd\n",
    "merchant_tbl = pd.DataFrame(processed_tags, columns=('Description', 'Earnings_Class', 'BNPL_Fee'))\n",
    "merchant_tbl = pd.concat([merchants, merchant_tbl], axis=1)\n",
    "# drop the tags column \n",
    "merchant_tbl.drop(columns='tags', inplace=True)"
   ]
  },
  {
   "cell_type": "code",
   "execution_count": 6,
   "metadata": {},
   "outputs": [],
   "source": [
    "# and convert back to spark dataframe \n",
    "merchants_tbl = spark.createDataFrame(merchant_tbl)"
   ]
  },
  {
   "cell_type": "code",
   "execution_count": 7,
   "metadata": {},
   "outputs": [],
   "source": [
    "# This could be further expanded in breaking the discription up further"
   ]
  },
  {
   "cell_type": "code",
   "execution_count": 8,
   "metadata": {},
   "outputs": [],
   "source": [
    "customer_tbl = customer_tbl.join(consumer_details, ['consumer_id'])"
   ]
  },
  {
   "cell_type": "code",
   "execution_count": 9,
   "metadata": {},
   "outputs": [],
   "source": [
    "full_dataset = transactions_sample.join(customer_tbl, ['user_id'])\n",
    "merchants_tbl = merchants_tbl.withColumnRenamed('name','company_name')\n",
    "full_dataset = full_dataset.join(merchants_tbl, ['merchant_abn'])"
   ]
  },
  {
   "cell_type": "code",
   "execution_count": 10,
   "metadata": {},
   "outputs": [],
   "source": [
    "# lets add a day (mon,...), weekly & monthly attribute\n",
    "import pyspark.sql.functions as F\n",
    "full_dataset = full_dataset.withColumn('Day', F.dayofweek('order_datetime'))\n",
    "full_dataset = full_dataset.withColumn('Month', F.month('order_datetime'))\n",
    "# now we can also add the bnpl revenue from a transaction \n",
    "full_dataset = full_dataset.withColumn('BNPL_Revenue', F.col('dollar_value') * 0.01 * F.col('BNPL_Fee'))\n",
    "full_dataset.createOrReplaceTempView('data')\n",
    "# we can remove name, location and customerID for now, due to being unnnesesary attributes (although company_name could also be removed)\n",
    "full_dataset = spark.sql(\"\"\"\n",
    "select merchant_abn, user_id, dollar_value, order_id, order_datetime, state, postcode, gender, company_name, \n",
    "        Description, Earnings_Class, BNPL_Fee, BNPL_Revenue, Day, Month, weekofyear(order_datetime) as weekofyear from data\n",
    "\"\"\")"
   ]
  },
  {
   "cell_type": "markdown",
   "metadata": {},
   "source": [
    "# Outlier detection algorithm\n",
    "This will be inplemented by taking the 95% CI from the mean, and removing values which fall out of this coverage (more explanation below)"
   ]
  },
  {
   "cell_type": "code",
   "execution_count": 103,
   "metadata": {},
   "outputs": [],
   "source": [
    "# use the SIQR range\n",
    "# see https://towardsdatascience.com/outlier-detection-part-2-6839f6199768\n",
    "Fst_percentile = F.expr('percentile_approx(dollar_value, 0.25)')\n",
    "Trd_percentile = F.expr('percentile_approx(dollar_value, 0.75)')\n",
    "Second_percentile = F.expr('percentile_approx(dollar_value, 0.5)')\n",
    "quartile_dataset = full_dataset.groupBy('merchant_abn').agg(Fst_percentile.alias('1_val'), Trd_percentile.alias('3_val'), Second_percentile.alias('2_val'), F.count('dollar_value').alias('Count'))\n",
    "quartile_dataset = quartile_dataset.withColumn('SIQR_Lower', F.col('2_val') - F.col('1_val'))\n",
    "quartile_dataset = quartile_dataset.withColumn('SIQR_Upper', F.col('3_val') - F.col('2_val'))\n",
    "# Now calculate the limits\n",
    "quartile_dataset = quartile_dataset.withColumn('Upper_limit', F.col('3_val') + 3 * F.col('SIQR_Upper'))\n",
    "quartile_dataset = quartile_dataset.withColumn('Lower_limit', F.col('1_val') - 3 * F.col('SIQR_Lower'))\n",
    "# after noticing that some merchants only have one transaction value (i.e one dollar_value amount for all transactios)\n",
    "# decided to removed due to unrealisic distributed data \n",
    "quartile_dataset = quartile_dataset.withColumn('Natural_var', F.when((F.col('Upper_limit') == F.col('Lower_limit')) & (F.col('Count') > 10), True).otherwise(False))\n",
    "quartile_dataset = quartile_dataset.select('merchant_abn', 'Upper_limit', 'Lower_limit', 'Natural_var')"
   ]
  },
  {
   "cell_type": "code",
   "execution_count": 104,
   "metadata": {},
   "outputs": [],
   "source": [
    "# Now all we need to do is join this data to each transaction, then can select the transactios which are (not) within the limits\n",
    "full_quantile = full_dataset.select('merchant_abn', 'order_id', 'user_id', 'dollar_value').join(quartile_dataset, on= ['merchant_abn'])"
   ]
  },
  {
   "cell_type": "code",
   "execution_count": 105,
   "metadata": {},
   "outputs": [],
   "source": [
    "# finally identify the outliers which fall out of distribution or apart of a dodgy business\n",
    "full_quantile = full_quantile.withColumn('Potential_Outlier', F.when((full_quantile.dollar_value <= F.col('Upper_limit')) & (full_quantile.dollar_value >= F.col('Lower_limit')) & (F.col('Natural_var') == False), False)\n",
    "                                              .otherwise(True))"
   ]
  },
  {
   "cell_type": "code",
   "execution_count": 106,
   "metadata": {},
   "outputs": [
    {
     "name": "stderr",
     "output_type": "stream",
     "text": [
      "                                                                                \r"
     ]
    },
    {
     "data": {
      "text/plain": [
       "108528"
      ]
     },
     "execution_count": 106,
     "metadata": {},
     "output_type": "execute_result"
    }
   ],
   "source": [
    "full_quantile.where(F.col('Potential_Outlier') == True).count()"
   ]
  },
  {
   "cell_type": "code",
   "execution_count": 107,
   "metadata": {},
   "outputs": [
    {
     "name": "stderr",
     "output_type": "stream",
     "text": [
      "                                                                                \r"
     ]
    },
    {
     "data": {
      "text/plain": [
       "<AxesSubplot:xlabel='dollar_value', ylabel='Count'>"
      ]
     },
     "execution_count": 107,
     "metadata": {},
     "output_type": "execute_result"
    },
    {
     "data": {
      "image/png": "[encoded data removed]",
      "text/plain": [
       "<Figure size 432x288 with 1 Axes>"
      ]
     },
     "metadata": {
      "needs_background": "light"
     },
     "output_type": "display_data"
    }
   ],
   "source": [
    "import seaborn as sns\n",
    "sns.histplot(x='dollar_value', hue = 'Potential_Outlier', data=full_quantile.where(full_quantile.merchant_abn == 10023283211).select('dollar_value', 'Potential_Outlier').toPandas())"
   ]
  }
 ],
 "metadata": {
  "kernelspec": {
   "display_name": "Python 3.8.10 64-bit",
   "language": "python",
   "name": "python3"
  },
  "language_info": {
   "codemirror_mode": {
    "name": "ipython",
    "version": 3
   },
   "file_extension": ".py",
   "mimetype": "text/x-python",
   "name": "python",
   "nbconvert_exporter": "python",
   "pygments_lexer": "ipython3",
   "version": "3.8.10"
  },
  "orig_nbformat": 4,
  "vscode": {
   "interpreter": {
    "hash": "916dbcbb3f70747c44a77c7bcd40155683ae19c65e1c03b4aa3499c5328201f1"
   }
  }
 },
 "nbformat": 4,
 "nbformat_minor": 2
}
