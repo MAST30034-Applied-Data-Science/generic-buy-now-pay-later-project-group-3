{
 "cells": [
  {
   "cell_type": "markdown",
   "metadata": {},
   "source": [
    "# Preliminary Analysis "
   ]
  },
  {
   "cell_type": "code",
   "execution_count": 2,
   "metadata": {},
   "outputs": [],
   "source": [
    "# In this notebook, we will load the data and perform preliminary analysis"
   ]
  },
  {
   "cell_type": "code",
   "execution_count": 3,
   "metadata": {},
   "outputs": [
    {
     "name": "stdout",
     "output_type": "stream",
     "text": [
      "22/09/01 20:59:46 WARN Utils: Your hostname, Chaitanyas-MacBook-Air.local resolves to a loopback address: 127.0.0.1; using 10.12.182.211 instead (on interface en0)\n",
      "22/09/01 20:59:46 WARN Utils: Set SPARK_LOCAL_IP if you need to bind to another address\n"
     ]
    },
    {
     "name": "stderr",
     "output_type": "stream",
     "text": [
      "Setting default log level to \"WARN\".\n",
      "To adjust logging level use sc.setLogLevel(newLevel). For SparkR, use setLogLevel(newLevel).\n"
     ]
    },
    {
     "name": "stdout",
     "output_type": "stream",
     "text": [
      "22/09/01 20:59:46 WARN NativeCodeLoader: Unable to load native-hadoop library for your platform... using builtin-java classes where applicable\n",
      "22/09/01 20:59:47 WARN Utils: Service 'SparkUI' could not bind on port 4040. Attempting port 4041.\n",
      "22/09/01 20:59:47 WARN Utils: Service 'SparkUI' could not bind on port 4041. Attempting port 4042.\n"
     ]
    }
   ],
   "source": [
    "# Open Spark session \n",
    "from pyspark.sql import SparkSession, functions as F\n",
    "from pyspark.sql.functions import *\n",
    "# Create a spark session (which will run spark jobs)\n",
    "spark = (\n",
    "    SparkSession.builder.appName(\"Data_Explorer\")\n",
    "    .config(\"spark.sql.repl.eagerEval.enabled\", True) \n",
    "    .config(\"spark.sql.parquet.cacheMetadata\", \"true\")\n",
    "    .config(\"spark.sql.session.timeZone\", \"Etc/UTC\")\n",
    "    .config(\"spark.driver.memory\", \"4g\")\n",
    "    .getOrCreate()\n",
    ")"
   ]
  },
  {
   "cell_type": "code",
   "execution_count": 4,
   "metadata": {},
   "outputs": [],
   "source": [
    "bb = spark.read.parquet('../data/tables/transactions_20210228_20210827_snapshot/order_datetime=2021-02-28/part-00001-cfff5211-ef46-4b99-a6ed-63c9b2c7fe15.c000.snappy.parquet')\n",
    "tt = spark.read.parquet('../data/tables/consumer_user_details.parquet')\n",
    "gg = spark.read.parquet('../data/tables/tbl_merchants.parquet')\n",
    "vv = spark.read.option(\"delimiter\", \"|\").option(\"header\",True).csv('../data/tables/tbl_consumer.csv')"
   ]
  },
  {
   "cell_type": "code",
   "execution_count": 5,
   "metadata": {},
   "outputs": [
    {
     "data": {
      "text/html": [
       "<table border='1'>\n",
       "<tr><th>user_id</th><th>merchant_abn</th><th>dollar_value</th><th>order_id</th><th>consumer_id</th></tr>\n",
       "<tr><td>1</td><td>83690644458</td><td>30.441348317517228</td><td>40a2ff69-ea34-465...</td><td>1195503</td></tr>\n",
       "<tr><td>1</td><td>28000487688</td><td>133.22689421562643</td><td>0c37b3f7-c7f1-48c...</td><td>1195503</td></tr>\n",
       "<tr><td>2</td><td>80779820715</td><td>48.12397733548124</td><td>cd09bdd6-f56d-489...</td><td>179208</td></tr>\n",
       "<tr><td>3</td><td>32361057556</td><td>87.34942171371054</td><td>633a7656-2fcc-4b8...</td><td>1194530</td></tr>\n",
       "<tr><td>3</td><td>29566626791</td><td>46.33087226118639</td><td>26b7574e-81c2-455...</td><td>1194530</td></tr>\n",
       "<tr><td>5</td><td>83177825742</td><td>66.66426160206629</td><td>43e3b3fe-791b-47f...</td><td>712975</td></tr>\n",
       "<tr><td>6</td><td>21772962346</td><td>113.04510652600983</td><td>000ca5ac-3247-4ef...</td><td>407340</td></tr>\n",
       "<tr><td>7</td><td>66079287213</td><td>89.93535555889761</td><td>50a5619d-0647-487...</td><td>511685</td></tr>\n",
       "<tr><td>11</td><td>20692490685</td><td>196.93916081228323</td><td>09bc8dd6-419f-4cb...</td><td>428325</td></tr>\n",
       "<tr><td>11</td><td>98269572896</td><td>129.46280909485031</td><td>8f5d0cab-8055-435...</td><td>428325</td></tr>\n",
       "<tr><td>12</td><td>57757792876</td><td>1078.086898773946</td><td>77d56af2-4daf-4b8...</td><td>1494640</td></tr>\n",
       "<tr><td>12</td><td>57900494384</td><td>14.713345156321836</td><td>109341ba-6c48-4c5...</td><td>1494640</td></tr>\n",
       "<tr><td>12</td><td>95508140753</td><td>79.1030216530725</td><td>17b4325f-65a5-45e...</td><td>1494640</td></tr>\n",
       "<tr><td>13</td><td>94472466107</td><td>1.7757335362318931</td><td>7fea124d-68bf-453...</td><td>1146717</td></tr>\n",
       "<tr><td>18</td><td>45433476494</td><td>126.25551484412128</td><td>e5eb61f2-f8f9-45e...</td><td>80965</td></tr>\n",
       "<tr><td>19</td><td>60956456424</td><td>64.58077563826323</td><td>6d18b988-5613-4aa...</td><td>1226530</td></tr>\n",
       "<tr><td>20</td><td>63465140133</td><td>29.196984289580993</td><td>9f194ad5-11b9-4b8...</td><td>1390367</td></tr>\n",
       "<tr><td>20</td><td>19933438190</td><td>8.814224425685115</td><td>94c7bd14-81dd-41c...</td><td>1390367</td></tr>\n",
       "<tr><td>22</td><td>89640578182</td><td>36.76735215403358</td><td>818e255e-93ae-494...</td><td>738803</td></tr>\n",
       "<tr><td>22</td><td>73972053940</td><td>32.18184233974726</td><td>c2752cae-221e-4d6...</td><td>738803</td></tr>\n",
       "</table>\n",
       "only showing top 20 rows\n"
      ],
      "text/plain": [
       "+-------+------------+------------------+--------------------+-----------+\n",
       "|user_id|merchant_abn|      dollar_value|            order_id|consumer_id|\n",
       "+-------+------------+------------------+--------------------+-----------+\n",
       "|      1| 83690644458|30.441348317517228|40a2ff69-ea34-465...|    1195503|\n",
       "|      1| 28000487688|133.22689421562643|0c37b3f7-c7f1-48c...|    1195503|\n",
       "|      2| 80779820715| 48.12397733548124|cd09bdd6-f56d-489...|     179208|\n",
       "|      3| 32361057556| 87.34942171371054|633a7656-2fcc-4b8...|    1194530|\n",
       "|      3| 29566626791| 46.33087226118639|26b7574e-81c2-455...|    1194530|\n",
       "|      5| 83177825742| 66.66426160206629|43e3b3fe-791b-47f...|     712975|\n",
       "|      6| 21772962346|113.04510652600983|000ca5ac-3247-4ef...|     407340|\n",
       "|      7| 66079287213| 89.93535555889761|50a5619d-0647-487...|     511685|\n",
       "|     11| 20692490685|196.93916081228323|09bc8dd6-419f-4cb...|     428325|\n",
       "|     11| 98269572896|129.46280909485031|8f5d0cab-8055-435...|     428325|\n",
       "|     12| 57757792876| 1078.086898773946|77d56af2-4daf-4b8...|    1494640|\n",
       "|     12| 57900494384|14.713345156321836|109341ba-6c48-4c5...|    1494640|\n",
       "|     12| 95508140753|  79.1030216530725|17b4325f-65a5-45e...|    1494640|\n",
       "|     13| 94472466107|1.7757335362318931|7fea124d-68bf-453...|    1146717|\n",
       "|     18| 45433476494|126.25551484412128|e5eb61f2-f8f9-45e...|      80965|\n",
       "|     19| 60956456424| 64.58077563826323|6d18b988-5613-4aa...|    1226530|\n",
       "|     20| 63465140133|29.196984289580993|9f194ad5-11b9-4b8...|    1390367|\n",
       "|     20| 19933438190| 8.814224425685115|94c7bd14-81dd-41c...|    1390367|\n",
       "|     22| 89640578182| 36.76735215403358|818e255e-93ae-494...|     738803|\n",
       "|     22| 73972053940| 32.18184233974726|c2752cae-221e-4d6...|     738803|\n",
       "+-------+------------+------------------+--------------------+-----------+\n",
       "only showing top 20 rows"
      ]
     },
     "execution_count": 5,
     "metadata": {},
     "output_type": "execute_result"
    }
   ],
   "source": [
    "bb = bb.join(tt, ['user_id'])\n",
    "vv = vv.join(tt, ['consumer_id'])\n",
    "bb"
   ]
  },
  {
   "cell_type": "code",
   "execution_count": 6,
   "metadata": {},
   "outputs": [
    {
     "data": {
      "text/html": [
       "<table border='1'>\n",
       "<tr><th>merchant_abn</th><th>user_id</th><th>dollar_value</th><th>order_id</th><th>consumer_id</th><th>consumer_id</th><th>name</th><th>address</th><th>state</th><th>postcode</th><th>gender</th><th>company_name</th><th>tags</th></tr>\n",
       "<tr><td>28000487688</td><td>1</td><td>133.22689421562643</td><td>0c37b3f7-c7f1-48c...</td><td>1195503</td><td>1195503</td><td>Yolanda Williams</td><td>413 Haney Gardens...</td><td>WA</td><td>6935</td><td>Female</td><td>Sed Nunc Industries</td><td>((books, periodic...</td></tr>\n",
       "<tr><td>83690644458</td><td>1</td><td>30.441348317517228</td><td>40a2ff69-ea34-465...</td><td>1195503</td><td>1195503</td><td>Yolanda Williams</td><td>413 Haney Gardens...</td><td>WA</td><td>6935</td><td>Female</td><td>Id Erat Etiam Con...</td><td>[(gift, card, nov...</td></tr>\n",
       "<tr><td>80779820715</td><td>2</td><td>48.12397733548124</td><td>cd09bdd6-f56d-489...</td><td>179208</td><td>179208</td><td>Mary Smith</td><td>3764 Amber Oval</td><td>NSW</td><td>2782</td><td>Female</td><td>Euismod Enim LLC</td><td>([watch, clock, a...</td></tr>\n",
       "<tr><td>32361057556</td><td>3</td><td>87.34942171371054</td><td>633a7656-2fcc-4b8...</td><td>1194530</td><td>1194530</td><td>Jill Jones MD</td><td>40693 Henry Greens</td><td>NT</td><td>862</td><td>Female</td><td>Orci In Consequat...</td><td>([gift, card, nov...</td></tr>\n",
       "<tr><td>83177825742</td><td>5</td><td>66.66426160206629</td><td>43e3b3fe-791b-47f...</td><td>712975</td><td>712975</td><td>Rebecca Blanchard</td><td>9271 Michael Mano...</td><td>WA</td><td>6355</td><td>Female</td><td>Sed Facilisis Corp.</td><td>([gift, card, nov...</td></tr>\n",
       "<tr><td>21772962346</td><td>6</td><td>113.04510652600983</td><td>000ca5ac-3247-4ef...</td><td>407340</td><td>407340</td><td>Karen Chapman</td><td>2706 Stewart Oval...</td><td>NSW</td><td>2033</td><td>Female</td><td>Purus Gravida Sag...</td><td>((florists suppli...</td></tr>\n",
       "<tr><td>66079287213</td><td>7</td><td>89.93535555889761</td><td>50a5619d-0647-487...</td><td>511685</td><td>511685</td><td>Andrea Jones</td><td>122 Brandon Cliff</td><td>QLD</td><td>4606</td><td>Female</td><td>Hendrerit Corpora...</td><td>((gift, card, nov...</td></tr>\n",
       "<tr><td>98269572896</td><td>11</td><td>129.46280909485031</td><td>8f5d0cab-8055-435...</td><td>428325</td><td>428325</td><td>Eugene Lucas</td><td>33983 Kevin Drive...</td><td>VIC</td><td>3063</td><td>Undisclosed</td><td>Eget Laoreet Posu...</td><td>[(furniture, home...</td></tr>\n",
       "<tr><td>20692490685</td><td>11</td><td>196.93916081228323</td><td>09bc8dd6-419f-4cb...</td><td>428325</td><td>428325</td><td>Eugene Lucas</td><td>33983 Kevin Drive...</td><td>VIC</td><td>3063</td><td>Undisclosed</td><td>Aliquet Molestie ...</td><td>[[stationery, off...</td></tr>\n",
       "<tr><td>95508140753</td><td>12</td><td>79.1030216530725</td><td>17b4325f-65a5-45e...</td><td>1494640</td><td>1494640</td><td>Melissa Jones</td><td>13706 Kimberly Port</td><td>WA</td><td>6743</td><td>Female</td><td>Ullamcorper Velit...</td><td>[(cable, sateLlit...</td></tr>\n",
       "<tr><td>57900494384</td><td>12</td><td>14.713345156321836</td><td>109341ba-6c48-4c5...</td><td>1494640</td><td>1494640</td><td>Melissa Jones</td><td>13706 Kimberly Port</td><td>WA</td><td>6743</td><td>Female</td><td>Porttitor Tellus ...</td><td>[[tent and awning...</td></tr>\n",
       "<tr><td>57757792876</td><td>12</td><td>1078.086898773946</td><td>77d56af2-4daf-4b8...</td><td>1494640</td><td>1494640</td><td>Melissa Jones</td><td>13706 Kimberly Port</td><td>WA</td><td>6743</td><td>Female</td><td>Pretium Et LLC</td><td>([stationery, off...</td></tr>\n",
       "<tr><td>94472466107</td><td>13</td><td>1.7757335362318931</td><td>7fea124d-68bf-453...</td><td>1146717</td><td>1146717</td><td>Angela Brown PhD</td><td>0236 Mills Land S...</td><td>QLD</td><td>4673</td><td>Female</td><td>Eu Dolor Egestas PC</td><td>((cable, satellit...</td></tr>\n",
       "<tr><td>45433476494</td><td>18</td><td>126.25551484412128</td><td>e5eb61f2-f8f9-45e...</td><td>80965</td><td>80965</td><td>Michael Burnett</td><td>89400 Torres Fort</td><td>NSW</td><td>1109</td><td>Male</td><td>Adipiscing Elit F...</td><td>[[computers, comp...</td></tr>\n",
       "<tr><td>60956456424</td><td>19</td><td>64.58077563826323</td><td>6d18b988-5613-4aa...</td><td>1226530</td><td>1226530</td><td>Victoria Gonzalez</td><td>68657 Johnson Gle...</td><td>TAS</td><td>7276</td><td>Female</td><td>Ultricies Digniss...</td><td>([gift, card, Nov...</td></tr>\n",
       "<tr><td>19933438190</td><td>20</td><td>8.814224425685115</td><td>94c7bd14-81dd-41c...</td><td>1390367</td><td>1390367</td><td>James Norris</td><td>790 Ramos Landing</td><td>VIC</td><td>3234</td><td>Undisclosed</td><td>Dui Nec Corporation</td><td>[[tent and awning...</td></tr>\n",
       "<tr><td>63465140133</td><td>20</td><td>29.196984289580993</td><td>9f194ad5-11b9-4b8...</td><td>1390367</td><td>1390367</td><td>James Norris</td><td>790 Ramos Landing</td><td>VIC</td><td>3234</td><td>Undisclosed</td><td>Vitae Odio Limited</td><td>[(digital goods: ...</td></tr>\n",
       "<tr><td>73972053940</td><td>22</td><td>32.18184233974726</td><td>c2752cae-221e-4d6...</td><td>738803</td><td>738803</td><td>Christopher White...</td><td>04814 Erin Port A...</td><td>VIC</td><td>3378</td><td>Male</td><td>Quis Tristique Ac...</td><td>([tent and awning...</td></tr>\n",
       "<tr><td>89640578182</td><td>22</td><td>36.76735215403358</td><td>818e255e-93ae-494...</td><td>738803</td><td>738803</td><td>Christopher White...</td><td>04814 Erin Port A...</td><td>VIC</td><td>3378</td><td>Male</td><td>Magnis Foundation</td><td>[[tent and awning...</td></tr>\n",
       "<tr><td>33607911449</td><td>24</td><td>3.8479214731638582</td><td>23aadab9-ae39-46b...</td><td>1382646</td><td>1382646</td><td>Jeffrey Moreno</td><td>339 Philip Pike</td><td>TAS</td><td>7173</td><td>Male</td><td>Nulla Semper LLC</td><td>[(florists suppli...</td></tr>\n",
       "</table>\n",
       "only showing top 20 rows\n"
      ],
      "text/plain": [
       "+------------+-------+------------------+--------------------+-----------+-----------+--------------------+--------------------+-----+--------+-----------+--------------------+--------------------+\n",
       "|merchant_abn|user_id|      dollar_value|            order_id|consumer_id|consumer_id|                name|             address|state|postcode|     gender|        company_name|                tags|\n",
       "+------------+-------+------------------+--------------------+-----------+-----------+--------------------+--------------------+-----+--------+-----------+--------------------+--------------------+\n",
       "| 28000487688|      1|133.22689421562643|0c37b3f7-c7f1-48c...|    1195503|    1195503|    Yolanda Williams|413 Haney Gardens...|   WA|    6935|     Female| Sed Nunc Industries|((books, periodic...|\n",
       "| 83690644458|      1|30.441348317517228|40a2ff69-ea34-465...|    1195503|    1195503|    Yolanda Williams|413 Haney Gardens...|   WA|    6935|     Female|Id Erat Etiam Con...|[(gift, card, nov...|\n",
       "| 80779820715|      2| 48.12397733548124|cd09bdd6-f56d-489...|     179208|     179208|          Mary Smith|     3764 Amber Oval|  NSW|    2782|     Female|    Euismod Enim LLC|([watch, clock, a...|\n",
       "| 32361057556|      3| 87.34942171371054|633a7656-2fcc-4b8...|    1194530|    1194530|       Jill Jones MD|  40693 Henry Greens|   NT|     862|     Female|Orci In Consequat...|([gift, card, nov...|\n",
       "| 83177825742|      5| 66.66426160206629|43e3b3fe-791b-47f...|     712975|     712975|   Rebecca Blanchard|9271 Michael Mano...|   WA|    6355|     Female| Sed Facilisis Corp.|([gift, card, nov...|\n",
       "| 21772962346|      6|113.04510652600983|000ca5ac-3247-4ef...|     407340|     407340|       Karen Chapman|2706 Stewart Oval...|  NSW|    2033|     Female|Purus Gravida Sag...|((florists suppli...|\n",
       "| 66079287213|      7| 89.93535555889761|50a5619d-0647-487...|     511685|     511685|        Andrea Jones|   122 Brandon Cliff|  QLD|    4606|     Female|Hendrerit Corpora...|((gift, card, nov...|\n",
       "| 98269572896|     11|129.46280909485031|8f5d0cab-8055-435...|     428325|     428325|        Eugene Lucas|33983 Kevin Drive...|  VIC|    3063|Undisclosed|Eget Laoreet Posu...|[(furniture, home...|\n",
       "| 20692490685|     11|196.93916081228323|09bc8dd6-419f-4cb...|     428325|     428325|        Eugene Lucas|33983 Kevin Drive...|  VIC|    3063|Undisclosed|Aliquet Molestie ...|[[stationery, off...|\n",
       "| 95508140753|     12|  79.1030216530725|17b4325f-65a5-45e...|    1494640|    1494640|       Melissa Jones| 13706 Kimberly Port|   WA|    6743|     Female|Ullamcorper Velit...|[(cable, sateLlit...|\n",
       "| 57900494384|     12|14.713345156321836|109341ba-6c48-4c5...|    1494640|    1494640|       Melissa Jones| 13706 Kimberly Port|   WA|    6743|     Female|Porttitor Tellus ...|[[tent and awning...|\n",
       "| 57757792876|     12| 1078.086898773946|77d56af2-4daf-4b8...|    1494640|    1494640|       Melissa Jones| 13706 Kimberly Port|   WA|    6743|     Female|      Pretium Et LLC|([stationery, off...|\n",
       "| 94472466107|     13|1.7757335362318931|7fea124d-68bf-453...|    1146717|    1146717|    Angela Brown PhD|0236 Mills Land S...|  QLD|    4673|     Female| Eu Dolor Egestas PC|((cable, satellit...|\n",
       "| 45433476494|     18|126.25551484412128|e5eb61f2-f8f9-45e...|      80965|      80965|     Michael Burnett|   89400 Torres Fort|  NSW|    1109|       Male|Adipiscing Elit F...|[[computers, comp...|\n",
       "| 60956456424|     19| 64.58077563826323|6d18b988-5613-4aa...|    1226530|    1226530|   Victoria Gonzalez|68657 Johnson Gle...|  TAS|    7276|     Female|Ultricies Digniss...|([gift, card, Nov...|\n",
       "| 19933438190|     20| 8.814224425685115|94c7bd14-81dd-41c...|    1390367|    1390367|        James Norris|   790 Ramos Landing|  VIC|    3234|Undisclosed| Dui Nec Corporation|[[tent and awning...|\n",
       "| 63465140133|     20|29.196984289580993|9f194ad5-11b9-4b8...|    1390367|    1390367|        James Norris|   790 Ramos Landing|  VIC|    3234|Undisclosed|  Vitae Odio Limited|[(digital goods: ...|\n",
       "| 73972053940|     22| 32.18184233974726|c2752cae-221e-4d6...|     738803|     738803|Christopher White...|04814 Erin Port A...|  VIC|    3378|       Male|Quis Tristique Ac...|([tent and awning...|\n",
       "| 89640578182|     22| 36.76735215403358|818e255e-93ae-494...|     738803|     738803|Christopher White...|04814 Erin Port A...|  VIC|    3378|       Male|   Magnis Foundation|[[tent and awning...|\n",
       "| 33607911449|     24|3.8479214731638582|23aadab9-ae39-46b...|    1382646|    1382646|      Jeffrey Moreno|     339 Philip Pike|  TAS|    7173|       Male|    Nulla Semper LLC|[(florists suppli...|\n",
       "+------------+-------+------------------+--------------------+-----------+-----------+--------------------+--------------------+-----+--------+-----------+--------------------+--------------------+\n",
       "only showing top 20 rows"
      ]
     },
     "execution_count": 6,
     "metadata": {},
     "output_type": "execute_result"
    }
   ],
   "source": [
    "data = bb.join(vv, ['user_id'])\n",
    "gg = gg.withColumnRenamed('name','company_name')\n",
    "data = data.join(gg, ['merchant_abn'])\n",
    "data"
   ]
  },
  {
   "cell_type": "code",
   "execution_count": 7,
   "metadata": {},
   "outputs": [],
   "source": [
    "data.createOrReplaceTempView('las')\n",
    "agg_data = spark.sql(\"\"\"\n",
    "select company_name, sum(dollar_value) from las\n",
    "group by company_name\"\"\")"
   ]
  },
  {
   "cell_type": "code",
   "execution_count": 8,
   "metadata": {},
   "outputs": [
    {
     "data": {
      "text/plain": [
       "1922"
      ]
     },
     "execution_count": 8,
     "metadata": {},
     "output_type": "execute_result"
    }
   ],
   "source": [
    "agg_data.count()"
   ]
  },
  {
   "cell_type": "code",
   "execution_count": 9,
   "metadata": {},
   "outputs": [],
   "source": [
    "# sketch\n",
    "agg_data = agg_data.toPandas()"
   ]
  },
  {
   "cell_type": "code",
   "execution_count": 10,
   "metadata": {},
   "outputs": [
    {
     "data": {
      "text/plain": [
       "<AxesSubplot:xlabel='sum(dollar_value)', ylabel='Count'>"
      ]
     },
     "execution_count": 10,
     "metadata": {},
     "output_type": "execute_result"
    },
    {
     "data": {
      "image/png": "[encoded data removed]",
      "text/plain": [
       "<Figure size 640x480 with 1 Axes>"
      ]
     },
     "metadata": {},
     "output_type": "display_data"
    }
   ],
   "source": [
    "import seaborn as sns\n",
    "sns.histplot(x = 'sum(dollar_value)', data=agg_data)"
   ]
  },
  {
   "cell_type": "markdown",
   "metadata": {},
   "source": [
    "# Beaker line "
   ]
  },
  {
   "cell_type": "markdown",
   "metadata": {},
   "source": [
    "Loading all the datasets,"
   ]
  },
  {
   "cell_type": "code",
   "execution_count": 11,
   "metadata": {},
   "outputs": [
    {
     "name": "stdout",
     "output_type": "stream",
     "text": [
      "+-------+------------+------------------+--------------------+\n",
      "|user_id|merchant_abn|      dollar_value|            order_id|\n",
      "+-------+------------+------------------+--------------------+\n",
      "|      1| 28000487688|133.22689421562643|0c37b3f7-c7f1-48c...|\n",
      "|  18485| 62191208634| 79.13140006851712|9e18b913-0465-4fd...|\n",
      "|      1| 83690644458|30.441348317517228|40a2ff69-ea34-465...|\n",
      "|  18488| 39649557865| 962.8133405407585|f4c1a5ae-5b76-40d...|\n",
      "|      2| 80779820715| 48.12397733548124|cd09bdd6-f56d-489...|\n",
      "+-------+------------+------------------+--------------------+\n",
      "only showing top 5 rows\n",
      "\n",
      "+-------+-----------+\n",
      "|user_id|consumer_id|\n",
      "+-------+-----------+\n",
      "|      1|    1195503|\n",
      "|      2|     179208|\n",
      "|      3|    1194530|\n",
      "|      4|     154128|\n",
      "|      5|     712975|\n",
      "+-------+-----------+\n",
      "only showing top 5 rows\n",
      "\n"
     ]
    }
   ],
   "source": [
    "transactions_data = spark.read.parquet('../data/tables/transactions_20210228_20210827_snapshot/order_datetime=2021-02-28/part-00001-cfff5211-ef46-4b99-a6ed-63c9b2c7fe15.c000.snappy.parquet')\n",
    "transactions_data.show(5)\n",
    "user_data = spark.read.parquet('../data/tables/consumer_user_details.parquet')\n",
    "user_data.show(5)"
   ]
  },
  {
   "cell_type": "code",
   "execution_count": 12,
   "metadata": {},
   "outputs": [
    {
     "name": "stdout",
     "output_type": "stream",
     "text": [
      "+--------------------+--------------------+------------+\n",
      "|                name|                tags|merchant_abn|\n",
      "+--------------------+--------------------+------------+\n",
      "|       Felis Limited|((furniture, home...| 10023283211|\n",
      "|Arcu Ac Orci Corp...|([cable, satellit...| 10142254217|\n",
      "|    Nunc Sed Company|([jewelry, watch,...| 10165489824|\n",
      "|Ultricies Digniss...|([wAtch, clock, a...| 10187291046|\n",
      "| Enim Condimentum PC|([music shops - m...| 10192359162|\n",
      "+--------------------+--------------------+------------+\n",
      "only showing top 5 rows\n",
      "\n",
      "+-----------------+--------------------+-----+--------+------+-----------+\n",
      "|             name|             address|state|postcode|gender|consumer_id|\n",
      "+-----------------+--------------------+-----+--------+------+-----------+\n",
      "| Yolanda Williams|413 Haney Gardens...|   WA|    6935|Female|    1195503|\n",
      "|       Mary Smith|     3764 Amber Oval|  NSW|    2782|Female|     179208|\n",
      "|    Jill Jones MD|  40693 Henry Greens|   NT|     862|Female|    1194530|\n",
      "|  Lindsay Jimenez|00653 Davenport C...|  NSW|    2780|Female|     154128|\n",
      "|Rebecca Blanchard|9271 Michael Mano...|   WA|    6355|Female|     712975|\n",
      "+-----------------+--------------------+-----+--------+------+-----------+\n",
      "only showing top 5 rows\n",
      "\n"
     ]
    }
   ],
   "source": [
    "merchant_data = spark.read.parquet('../data/tables/tbl_merchants.parquet')\n",
    "merchant_data.show(5)\n",
    "consumer_data = spark.read.option(\"delimiter\", \"|\").option(\"header\",True).csv('../data/tables/tbl_consumer.csv')\n",
    "consumer_data.show(5)"
   ]
  },
  {
   "cell_type": "markdown",
   "metadata": {},
   "source": [
    "Joining all the datasets to create our main bnpl dataset,"
   ]
  },
  {
   "cell_type": "code",
   "execution_count": 13,
   "metadata": {},
   "outputs": [
    {
     "data": {
      "text/html": [
       "<table border='1'>\n",
       "<tr><th>merchant_abn</th><th>user_id</th><th>dollar_value</th><th>order_id</th><th>consumer_id</th><th>consumer_id</th><th>name</th><th>address</th><th>state</th><th>postcode</th><th>gender</th><th>company_name</th><th>tags</th></tr>\n",
       "<tr><td>28000487688</td><td>1</td><td>133.22689421562643</td><td>0c37b3f7-c7f1-48c...</td><td>1195503</td><td>1195503</td><td>Yolanda Williams</td><td>413 Haney Gardens...</td><td>WA</td><td>6935</td><td>Female</td><td>Sed Nunc Industries</td><td>((books, periodic...</td></tr>\n",
       "<tr><td>83690644458</td><td>1</td><td>30.441348317517228</td><td>40a2ff69-ea34-465...</td><td>1195503</td><td>1195503</td><td>Yolanda Williams</td><td>413 Haney Gardens...</td><td>WA</td><td>6935</td><td>Female</td><td>Id Erat Etiam Con...</td><td>[(gift, card, nov...</td></tr>\n",
       "<tr><td>80779820715</td><td>2</td><td>48.12397733548124</td><td>cd09bdd6-f56d-489...</td><td>179208</td><td>179208</td><td>Mary Smith</td><td>3764 Amber Oval</td><td>NSW</td><td>2782</td><td>Female</td><td>Euismod Enim LLC</td><td>([watch, clock, a...</td></tr>\n",
       "<tr><td>32361057556</td><td>3</td><td>87.34942171371054</td><td>633a7656-2fcc-4b8...</td><td>1194530</td><td>1194530</td><td>Jill Jones MD</td><td>40693 Henry Greens</td><td>NT</td><td>862</td><td>Female</td><td>Orci In Consequat...</td><td>([gift, card, nov...</td></tr>\n",
       "<tr><td>83177825742</td><td>5</td><td>66.66426160206629</td><td>43e3b3fe-791b-47f...</td><td>712975</td><td>712975</td><td>Rebecca Blanchard</td><td>9271 Michael Mano...</td><td>WA</td><td>6355</td><td>Female</td><td>Sed Facilisis Corp.</td><td>([gift, card, nov...</td></tr>\n",
       "<tr><td>21772962346</td><td>6</td><td>113.04510652600983</td><td>000ca5ac-3247-4ef...</td><td>407340</td><td>407340</td><td>Karen Chapman</td><td>2706 Stewart Oval...</td><td>NSW</td><td>2033</td><td>Female</td><td>Purus Gravida Sag...</td><td>((florists suppli...</td></tr>\n",
       "<tr><td>66079287213</td><td>7</td><td>89.93535555889761</td><td>50a5619d-0647-487...</td><td>511685</td><td>511685</td><td>Andrea Jones</td><td>122 Brandon Cliff</td><td>QLD</td><td>4606</td><td>Female</td><td>Hendrerit Corpora...</td><td>((gift, card, nov...</td></tr>\n",
       "<tr><td>98269572896</td><td>11</td><td>129.46280909485031</td><td>8f5d0cab-8055-435...</td><td>428325</td><td>428325</td><td>Eugene Lucas</td><td>33983 Kevin Drive...</td><td>VIC</td><td>3063</td><td>Undisclosed</td><td>Eget Laoreet Posu...</td><td>[(furniture, home...</td></tr>\n",
       "<tr><td>20692490685</td><td>11</td><td>196.93916081228323</td><td>09bc8dd6-419f-4cb...</td><td>428325</td><td>428325</td><td>Eugene Lucas</td><td>33983 Kevin Drive...</td><td>VIC</td><td>3063</td><td>Undisclosed</td><td>Aliquet Molestie ...</td><td>[[stationery, off...</td></tr>\n",
       "<tr><td>95508140753</td><td>12</td><td>79.1030216530725</td><td>17b4325f-65a5-45e...</td><td>1494640</td><td>1494640</td><td>Melissa Jones</td><td>13706 Kimberly Port</td><td>WA</td><td>6743</td><td>Female</td><td>Ullamcorper Velit...</td><td>[(cable, sateLlit...</td></tr>\n",
       "<tr><td>57900494384</td><td>12</td><td>14.713345156321836</td><td>109341ba-6c48-4c5...</td><td>1494640</td><td>1494640</td><td>Melissa Jones</td><td>13706 Kimberly Port</td><td>WA</td><td>6743</td><td>Female</td><td>Porttitor Tellus ...</td><td>[[tent and awning...</td></tr>\n",
       "<tr><td>57757792876</td><td>12</td><td>1078.086898773946</td><td>77d56af2-4daf-4b8...</td><td>1494640</td><td>1494640</td><td>Melissa Jones</td><td>13706 Kimberly Port</td><td>WA</td><td>6743</td><td>Female</td><td>Pretium Et LLC</td><td>([stationery, off...</td></tr>\n",
       "<tr><td>94472466107</td><td>13</td><td>1.7757335362318931</td><td>7fea124d-68bf-453...</td><td>1146717</td><td>1146717</td><td>Angela Brown PhD</td><td>0236 Mills Land S...</td><td>QLD</td><td>4673</td><td>Female</td><td>Eu Dolor Egestas PC</td><td>((cable, satellit...</td></tr>\n",
       "<tr><td>45433476494</td><td>18</td><td>126.25551484412128</td><td>e5eb61f2-f8f9-45e...</td><td>80965</td><td>80965</td><td>Michael Burnett</td><td>89400 Torres Fort</td><td>NSW</td><td>1109</td><td>Male</td><td>Adipiscing Elit F...</td><td>[[computers, comp...</td></tr>\n",
       "<tr><td>60956456424</td><td>19</td><td>64.58077563826323</td><td>6d18b988-5613-4aa...</td><td>1226530</td><td>1226530</td><td>Victoria Gonzalez</td><td>68657 Johnson Gle...</td><td>TAS</td><td>7276</td><td>Female</td><td>Ultricies Digniss...</td><td>([gift, card, Nov...</td></tr>\n",
       "<tr><td>19933438190</td><td>20</td><td>8.814224425685115</td><td>94c7bd14-81dd-41c...</td><td>1390367</td><td>1390367</td><td>James Norris</td><td>790 Ramos Landing</td><td>VIC</td><td>3234</td><td>Undisclosed</td><td>Dui Nec Corporation</td><td>[[tent and awning...</td></tr>\n",
       "<tr><td>63465140133</td><td>20</td><td>29.196984289580993</td><td>9f194ad5-11b9-4b8...</td><td>1390367</td><td>1390367</td><td>James Norris</td><td>790 Ramos Landing</td><td>VIC</td><td>3234</td><td>Undisclosed</td><td>Vitae Odio Limited</td><td>[(digital goods: ...</td></tr>\n",
       "<tr><td>73972053940</td><td>22</td><td>32.18184233974726</td><td>c2752cae-221e-4d6...</td><td>738803</td><td>738803</td><td>Christopher White...</td><td>04814 Erin Port A...</td><td>VIC</td><td>3378</td><td>Male</td><td>Quis Tristique Ac...</td><td>([tent and awning...</td></tr>\n",
       "<tr><td>89640578182</td><td>22</td><td>36.76735215403358</td><td>818e255e-93ae-494...</td><td>738803</td><td>738803</td><td>Christopher White...</td><td>04814 Erin Port A...</td><td>VIC</td><td>3378</td><td>Male</td><td>Magnis Foundation</td><td>[[tent and awning...</td></tr>\n",
       "<tr><td>33607911449</td><td>24</td><td>3.8479214731638582</td><td>23aadab9-ae39-46b...</td><td>1382646</td><td>1382646</td><td>Jeffrey Moreno</td><td>339 Philip Pike</td><td>TAS</td><td>7173</td><td>Male</td><td>Nulla Semper LLC</td><td>[(florists suppli...</td></tr>\n",
       "</table>\n",
       "only showing top 20 rows\n"
      ],
      "text/plain": [
       "+------------+-------+------------------+--------------------+-----------+-----------+--------------------+--------------------+-----+--------+-----------+--------------------+--------------------+\n",
       "|merchant_abn|user_id|      dollar_value|            order_id|consumer_id|consumer_id|                name|             address|state|postcode|     gender|        company_name|                tags|\n",
       "+------------+-------+------------------+--------------------+-----------+-----------+--------------------+--------------------+-----+--------+-----------+--------------------+--------------------+\n",
       "| 28000487688|      1|133.22689421562643|0c37b3f7-c7f1-48c...|    1195503|    1195503|    Yolanda Williams|413 Haney Gardens...|   WA|    6935|     Female| Sed Nunc Industries|((books, periodic...|\n",
       "| 83690644458|      1|30.441348317517228|40a2ff69-ea34-465...|    1195503|    1195503|    Yolanda Williams|413 Haney Gardens...|   WA|    6935|     Female|Id Erat Etiam Con...|[(gift, card, nov...|\n",
       "| 80779820715|      2| 48.12397733548124|cd09bdd6-f56d-489...|     179208|     179208|          Mary Smith|     3764 Amber Oval|  NSW|    2782|     Female|    Euismod Enim LLC|([watch, clock, a...|\n",
       "| 32361057556|      3| 87.34942171371054|633a7656-2fcc-4b8...|    1194530|    1194530|       Jill Jones MD|  40693 Henry Greens|   NT|     862|     Female|Orci In Consequat...|([gift, card, nov...|\n",
       "| 83177825742|      5| 66.66426160206629|43e3b3fe-791b-47f...|     712975|     712975|   Rebecca Blanchard|9271 Michael Mano...|   WA|    6355|     Female| Sed Facilisis Corp.|([gift, card, nov...|\n",
       "| 21772962346|      6|113.04510652600983|000ca5ac-3247-4ef...|     407340|     407340|       Karen Chapman|2706 Stewart Oval...|  NSW|    2033|     Female|Purus Gravida Sag...|((florists suppli...|\n",
       "| 66079287213|      7| 89.93535555889761|50a5619d-0647-487...|     511685|     511685|        Andrea Jones|   122 Brandon Cliff|  QLD|    4606|     Female|Hendrerit Corpora...|((gift, card, nov...|\n",
       "| 98269572896|     11|129.46280909485031|8f5d0cab-8055-435...|     428325|     428325|        Eugene Lucas|33983 Kevin Drive...|  VIC|    3063|Undisclosed|Eget Laoreet Posu...|[(furniture, home...|\n",
       "| 20692490685|     11|196.93916081228323|09bc8dd6-419f-4cb...|     428325|     428325|        Eugene Lucas|33983 Kevin Drive...|  VIC|    3063|Undisclosed|Aliquet Molestie ...|[[stationery, off...|\n",
       "| 95508140753|     12|  79.1030216530725|17b4325f-65a5-45e...|    1494640|    1494640|       Melissa Jones| 13706 Kimberly Port|   WA|    6743|     Female|Ullamcorper Velit...|[(cable, sateLlit...|\n",
       "| 57900494384|     12|14.713345156321836|109341ba-6c48-4c5...|    1494640|    1494640|       Melissa Jones| 13706 Kimberly Port|   WA|    6743|     Female|Porttitor Tellus ...|[[tent and awning...|\n",
       "| 57757792876|     12| 1078.086898773946|77d56af2-4daf-4b8...|    1494640|    1494640|       Melissa Jones| 13706 Kimberly Port|   WA|    6743|     Female|      Pretium Et LLC|([stationery, off...|\n",
       "| 94472466107|     13|1.7757335362318931|7fea124d-68bf-453...|    1146717|    1146717|    Angela Brown PhD|0236 Mills Land S...|  QLD|    4673|     Female| Eu Dolor Egestas PC|((cable, satellit...|\n",
       "| 45433476494|     18|126.25551484412128|e5eb61f2-f8f9-45e...|      80965|      80965|     Michael Burnett|   89400 Torres Fort|  NSW|    1109|       Male|Adipiscing Elit F...|[[computers, comp...|\n",
       "| 60956456424|     19| 64.58077563826323|6d18b988-5613-4aa...|    1226530|    1226530|   Victoria Gonzalez|68657 Johnson Gle...|  TAS|    7276|     Female|Ultricies Digniss...|([gift, card, Nov...|\n",
       "| 19933438190|     20| 8.814224425685115|94c7bd14-81dd-41c...|    1390367|    1390367|        James Norris|   790 Ramos Landing|  VIC|    3234|Undisclosed| Dui Nec Corporation|[[tent and awning...|\n",
       "| 63465140133|     20|29.196984289580993|9f194ad5-11b9-4b8...|    1390367|    1390367|        James Norris|   790 Ramos Landing|  VIC|    3234|Undisclosed|  Vitae Odio Limited|[(digital goods: ...|\n",
       "| 73972053940|     22| 32.18184233974726|c2752cae-221e-4d6...|     738803|     738803|Christopher White...|04814 Erin Port A...|  VIC|    3378|       Male|Quis Tristique Ac...|([tent and awning...|\n",
       "| 89640578182|     22| 36.76735215403358|818e255e-93ae-494...|     738803|     738803|Christopher White...|04814 Erin Port A...|  VIC|    3378|       Male|   Magnis Foundation|[[tent and awning...|\n",
       "| 33607911449|     24|3.8479214731638582|23aadab9-ae39-46b...|    1382646|    1382646|      Jeffrey Moreno|     339 Philip Pike|  TAS|    7173|       Male|    Nulla Semper LLC|[(florists suppli...|\n",
       "+------------+-------+------------------+--------------------+-----------+-----------+--------------------+--------------------+-----+--------+-----------+--------------------+--------------------+\n",
       "only showing top 20 rows"
      ]
     },
     "execution_count": 13,
     "metadata": {},
     "output_type": "execute_result"
    }
   ],
   "source": [
    "transactions_data = transactions_data.join(user_data, ['user_id'])\n",
    "consumer_data = consumer_data.join(user_data, ['consumer_id'])\n",
    "bnpl_data = transactions_data.join(consumer_data, ['user_id'])\n",
    "merchant_data = merchant_data.withColumnRenamed('name','company_name')\n",
    "bnpl_data = bnpl_data.join(merchant_data, ['merchant_abn'])\n",
    "bnpl_data"
   ]
  },
  {
   "cell_type": "code",
   "execution_count": 14,
   "metadata": {},
   "outputs": [],
   "source": [
    "bnpl_data.createOrReplaceTempView('bnpl')"
   ]
  },
  {
   "cell_type": "markdown",
   "metadata": {},
   "source": [
    "Making sure count of unique companies equals the count of unique abn numbers in dataset"
   ]
  },
  {
   "cell_type": "code",
   "execution_count": null,
   "metadata": {},
   "outputs": [],
   "source": [
    "print(bnpl_data.select(countDistinct('company_name')), bnpl_data.select(countDistinct('merchant_abn')))"
   ]
  },
  {
   "cell_type": "markdown",
   "metadata": {},
   "source": [
    "## Total Dollar Value based on companies"
   ]
  },
  {
   "cell_type": "code",
   "execution_count": 46,
   "metadata": {},
   "outputs": [
    {
     "name": "stderr",
     "output_type": "stream",
     "text": [
      "\r\n",
      "[Stage 359:=======>                                                 (1 + 7) / 8]\r\n",
      "\r\n",
      "                                                                                \r"
     ]
    },
    {
     "name": "stdout",
     "output_type": "stream",
     "text": [
      "+--------------------+-----------------+\n",
      "|        company_name| sum_dollar_value|\n",
      "+--------------------+-----------------+\n",
      "|Volutpat Nulla In...|1536.575551491866|\n",
      "|Varius Orci Insti...|482.6917762381562|\n",
      "|     Erat Semper Ltd|984.1797039115861|\n",
      "|Elit Sed Consequa...|8690.190353449887|\n",
      "|Mollis Integer Co...| 547.846466756815|\n",
      "+--------------------+-----------------+\n",
      "only showing top 5 rows\n",
      "\n"
     ]
    },
    {
     "data": {
      "text/plain": [
       "<AxesSubplot:xlabel='sum_dollar_value', ylabel='Count'>"
      ]
     },
     "execution_count": 46,
     "metadata": {},
     "output_type": "execute_result"
    },
    {
     "data": {
      "image/png": "[encoded data removed]",
      "text/plain": [
       "<Figure size 640x480 with 1 Axes>"
      ]
     },
     "metadata": {},
     "output_type": "display_data"
    }
   ],
   "source": [
    "vis1_data = spark.sql(\"\"\"\n",
    "select company_name, sum(dollar_value) as sum_dollar_value from bnpl\n",
    "group by company_name\"\"\")\n",
    "vis1_data.show(5)\n",
    "vis1_data = vis1_data.toPandas()\n",
    "import seaborn as sns\n",
    "sns.histplot(x = 'sum_dollar_value', data=vis1_data)"
   ]
  },
  {
   "cell_type": "markdown",
   "metadata": {},
   "source": [
    "We can see most of the companies have total value of less than 5000, but we are concerned regarding the data for much higher dollar values. "
   ]
  },
  {
   "cell_type": "code",
   "execution_count": 48,
   "metadata": {},
   "outputs": [
    {
     "name": "stdout",
     "output_type": "stream",
     "text": [
      "company_name        1922\n",
      "sum_dollar_value    1922\n",
      "dtype: int64\n"
     ]
    },
    {
     "data": {
      "text/html": [
       "<div>\n",
       "<style scoped>\n",
       "    .dataframe tbody tr th:only-of-type {\n",
       "        vertical-align: middle;\n",
       "    }\n",
       "\n",
       "    .dataframe tbody tr th {\n",
       "        vertical-align: top;\n",
       "    }\n",
       "\n",
       "    .dataframe thead th {\n",
       "        text-align: right;\n",
       "    }\n",
       "</style>\n",
       "<table border=\"1\" class=\"dataframe\">\n",
       "  <thead>\n",
       "    <tr style=\"text-align: right;\">\n",
       "      <th></th>\n",
       "      <th>company_name</th>\n",
       "      <th>sum_dollar_value</th>\n",
       "    </tr>\n",
       "  </thead>\n",
       "  <tbody>\n",
       "    <tr>\n",
       "      <th>1134</th>\n",
       "      <td>Dignissim Maecenas Foundation</td>\n",
       "      <td>15365.690304</td>\n",
       "    </tr>\n",
       "    <tr>\n",
       "      <th>1503</th>\n",
       "      <td>Torquent Per Inc.</td>\n",
       "      <td>15474.302349</td>\n",
       "    </tr>\n",
       "    <tr>\n",
       "      <th>1750</th>\n",
       "      <td>Suspendisse Non Leo PC</td>\n",
       "      <td>16261.718093</td>\n",
       "    </tr>\n",
       "    <tr>\n",
       "      <th>666</th>\n",
       "      <td>Tempus Mauris Ltd</td>\n",
       "      <td>20991.988536</td>\n",
       "    </tr>\n",
       "    <tr>\n",
       "      <th>20</th>\n",
       "      <td>Etiam Bibendum Industries</td>\n",
       "      <td>25653.477099</td>\n",
       "    </tr>\n",
       "    <tr>\n",
       "      <th>939</th>\n",
       "      <td>Lacus Aliquam Corporation</td>\n",
       "      <td>36649.616995</td>\n",
       "    </tr>\n",
       "  </tbody>\n",
       "</table>\n",
       "</div>"
      ],
      "text/plain": [
       "                       company_name  sum_dollar_value\n",
       "1134  Dignissim Maecenas Foundation      15365.690304\n",
       "1503              Torquent Per Inc.      15474.302349\n",
       "1750         Suspendisse Non Leo PC      16261.718093\n",
       "666               Tempus Mauris Ltd      20991.988536\n",
       "20        Etiam Bibendum Industries      25653.477099\n",
       "939       Lacus Aliquam Corporation      36649.616995"
      ]
     },
     "execution_count": 48,
     "metadata": {},
     "output_type": "execute_result"
    }
   ],
   "source": [
    "print(vis1_data.count())\n",
    "vis1_data[vis1_data['sum_dollar_value'] > 15000].sort_values(by=['sum_dollar_value'])"
   ]
  },
  {
   "cell_type": "code",
   "execution_count": 50,
   "metadata": {},
   "outputs": [
    {
     "data": {
      "text/plain": [
       "1340.3225980660684"
      ]
     },
     "execution_count": 50,
     "metadata": {},
     "output_type": "execute_result"
    }
   ],
   "source": [
    "vis1_data['sum_dollar_value'].mean()"
   ]
  },
  {
   "cell_type": "markdown",
   "metadata": {},
   "source": [
    "Let's try to find out trends which can help us understand why these companies have much higher dollar value than the mean. We look at all the attributes for the above companies, "
   ]
  },
  {
   "cell_type": "code",
   "execution_count": 55,
   "metadata": {},
   "outputs": [
    {
     "data": {
      "text/html": [
       "<table border='1'>\n",
       "<tr><th>merchant_abn</th><th>user_id</th><th>dollar_value</th><th>order_id</th><th>consumer_id</th><th>consumer_id</th><th>name</th><th>address</th><th>state</th><th>postcode</th><th>gender</th><th>company_name</th><th>tags</th></tr>\n",
       "<tr><td>31334588839</td><td>17134</td><td>22569.520606430655</td><td>e39219c7-c8f7-4b9...</td><td>831173</td><td>831173</td><td>Deanna Foley</td><td>29263 Jaime Street</td><td>VIC</td><td>3126</td><td>Undisclosed</td><td>Lacus Aliquam Cor...</td><td>[(antique shops -...</td></tr>\n",
       "<tr><td>31334588839</td><td>21989</td><td>14080.09638837249</td><td>fb7a786e-b329-461...</td><td>952381</td><td>952381</td><td>Paul Sexton</td><td>6393 Stafford Jun...</td><td>VIC</td><td>3818</td><td>Undisclosed</td><td>Lacus Aliquam Cor...</td><td>[(antique shops -...</td></tr>\n",
       "</table>\n"
      ],
      "text/plain": [
       "+------------+-------+------------------+--------------------+-----------+-----------+------------+--------------------+-----+--------+-----------+--------------------+--------------------+\n",
       "|merchant_abn|user_id|      dollar_value|            order_id|consumer_id|consumer_id|        name|             address|state|postcode|     gender|        company_name|                tags|\n",
       "+------------+-------+------------------+--------------------+-----------+-----------+------------+--------------------+-----+--------+-----------+--------------------+--------------------+\n",
       "| 31334588839|  17134|22569.520606430655|e39219c7-c8f7-4b9...|     831173|     831173|Deanna Foley|  29263 Jaime Street|  VIC|    3126|Undisclosed|Lacus Aliquam Cor...|[(antique shops -...|\n",
       "| 31334588839|  21989| 14080.09638837249|fb7a786e-b329-461...|     952381|     952381| Paul Sexton|6393 Stafford Jun...|  VIC|    3818|Undisclosed|Lacus Aliquam Cor...|[(antique shops -...|\n",
       "+------------+-------+------------------+--------------------+-----------+-----------+------------+--------------------+-----+--------+-----------+--------------------+--------------------+"
      ]
     },
     "execution_count": 55,
     "metadata": {},
     "output_type": "execute_result"
    }
   ],
   "source": [
    "bnpl_data.filter(col('company_name')=='Lacus Aliquam Corporation').limit(5)"
   ]
  },
  {
   "cell_type": "markdown",
   "metadata": {},
   "source": [
    "The tags attribute can help us explain this a bit more as we can see this an antique shop, meaning the items are probably more precious and expensive"
   ]
  },
  {
   "cell_type": "code",
   "execution_count": 63,
   "metadata": {},
   "outputs": [
    {
     "name": "stderr",
     "output_type": "stream",
     "text": [
      "\r\n",
      "[Stage 441:============================>                            (1 + 1) / 2]\r\n",
      "\r\n",
      "                                                                                \r"
     ]
    },
    {
     "name": "stdout",
     "output_type": "stream",
     "text": [
      "+-------------------------------------------------------------------------------------+\n",
      "|tags                                                                                 |\n",
      "+-------------------------------------------------------------------------------------+\n",
      "|[(antique shops - sales,  repairs, and restoration services), (b), (take rate: 4.22)]|\n",
      "|[(antique shops - sales,  repairs, and restoration services), (b), (take rate: 4.22)]|\n",
      "+-------------------------------------------------------------------------------------+\n",
      "\n"
     ]
    }
   ],
   "source": [
    "bnpl_data.filter(col('company_name')=='Lacus Aliquam Corporation').select(col('tags')).show(truncate=False)"
   ]
  },
  {
   "cell_type": "markdown",
   "metadata": {},
   "source": [
    "Let's look at another such company,"
   ]
  },
  {
   "cell_type": "code",
   "execution_count": 67,
   "metadata": {},
   "outputs": [
    {
     "name": "stdout",
     "output_type": "stream",
     "text": [
      "+------------------------------------------------------------------------------------+\n",
      "|tags                                                                                |\n",
      "+------------------------------------------------------------------------------------+\n",
      "|[[antique shops - sales, repairs, and restoration services], [b], [take rate: 3.46]]|\n",
      "+------------------------------------------------------------------------------------+\n",
      "\n"
     ]
    }
   ],
   "source": [
    "bnpl_data.filter(col('company_name')=='Tempus Mauris Ltd').select(col('tags')).show(5, truncate=False)"
   ]
  },
  {
   "cell_type": "code",
   "execution_count": 68,
   "metadata": {},
   "outputs": [
    {
     "name": "stdout",
     "output_type": "stream",
     "text": [
      "+----------------------------------------------------------------+\n",
      "|tags                                                            |\n",
      "+----------------------------------------------------------------+\n",
      "|((motor vehicle supplies and new parts), (b), (take rate: 3.10))|\n",
      "|((motor vehicle supplies and new parts), (b), (take rate: 3.10))|\n",
      "|((motor vehicle supplies and new parts), (b), (take rate: 3.10))|\n",
      "|((motor vehicle supplies and new parts), (b), (take rate: 3.10))|\n",
      "|((motor vehicle supplies and new parts), (b), (take rate: 3.10))|\n",
      "+----------------------------------------------------------------+\n",
      "only showing top 5 rows\n",
      "\n"
     ]
    }
   ],
   "source": [
    "bnpl_data.filter(col('company_name')=='Suspendisse Non Leo PC').select(col('tags')).show(5, truncate=False)"
   ]
  },
  {
   "cell_type": "markdown",
   "metadata": {},
   "source": [
    "One trend we are noticing is that companies with higher dollar values have lower revenue bands like 'a' or 'b'. We can plot sum of dollar values for each company against revenue bands to see this trend. But first we need to extract revenue bands from tags using regex, "
   ]
  },
  {
   "cell_type": "code",
   "execution_count": 83,
   "metadata": {},
   "outputs": [],
   "source": [
    "bnpl_data = bnpl_data.withColumn('company_desc', split(bnpl_data['tags'], '[\\)\\]], [\\(\\[]').getItem(0))"
   ]
  },
  {
   "cell_type": "code",
   "execution_count": 84,
   "metadata": {},
   "outputs": [
    {
     "name": "stdout",
     "output_type": "stream",
     "text": [
      "22/09/01 23:07:36 ERROR Executor: Exception in task 0.0 in stage 566.0 (TID 897)\n",
      "java.util.regex.PatternSyntaxException: Unmatched closing ')'\n",
      "), (\n",
      "\tat java.util.regex.Pattern.error(Pattern.java:1969)\n",
      "\tat java.util.regex.Pattern.compile(Pattern.java:1706)\n",
      "\tat java.util.regex.Pattern.<init>(Pattern.java:1352)\n",
      "\tat java.util.regex.Pattern.compile(Pattern.java:1028)\n",
      "\tat java.lang.String.split(String.java:2380)\n",
      "\tat org.apache.spark.unsafe.types.UTF8String.split(UTF8String.java:1027)\n",
      "\tat org.apache.spark.unsafe.types.UTF8String.split(UTF8String.java:1003)\n",
      "\tat org.apache.spark.sql.catalyst.expressions.GeneratedClass$GeneratedIteratorForCodegenStage5.processNext(Unknown Source)\n",
      "\tat org.apache.spark.sql.execution.BufferedRowIterator.hasNext(BufferedRowIterator.java:43)\n",
      "\tat org.apache.spark.sql.execution.WholeStageCodegenExec$$anon$1.hasNext(WholeStageCodegenExec.scala:760)\n",
      "\tat scala.collection.Iterator$$anon$10.hasNext(Iterator.scala:460)\n",
      "\tat org.apache.spark.shuffle.sort.BypassMergeSortShuffleWriter.write(BypassMergeSortShuffleWriter.java:140)\n",
      "\tat org.apache.spark.shuffle.ShuffleWriteProcessor.write(ShuffleWriteProcessor.scala:59)\n",
      "\tat org.apache.spark.scheduler.ShuffleMapTask.runTask(ShuffleMapTask.scala:99)\n",
      "\tat org.apache.spark.scheduler.ShuffleMapTask.runTask(ShuffleMapTask.scala:52)\n",
      "\tat org.apache.spark.scheduler.Task.run(Task.scala:136)\n",
      "\tat org.apache.spark.executor.Executor$TaskRunner.$anonfun$run$3(Executor.scala:548)\n",
      "\tat org.apache.spark.util.Utils$.tryWithSafeFinally(Utils.scala:1504)\n",
      "\tat org.apache.spark.executor.Executor$TaskRunner.run(Executor.scala:551)\n",
      "\tat java.util.concurrent.ThreadPoolExecutor.runWorker(ThreadPoolExecutor.java:1149)\n",
      "\tat java.util.concurrent.ThreadPoolExecutor$Worker.run(ThreadPoolExecutor.java:624)\n",
      "\tat java.lang.Thread.run(Thread.java:750)\n",
      "22/09/01 23:07:36 WARN TaskSetManager: Lost task 0.0 in stage 566.0 (TID 897) (10.12.182.211 executor driver): java.util.regex.PatternSyntaxException: Unmatched closing ')'\n",
      "), (\n",
      "\tat java.util.regex.Pattern.error(Pattern.java:1969)\n",
      "\tat java.util.regex.Pattern.compile(Pattern.java:1706)\n",
      "\tat java.util.regex.Pattern.<init>(Pattern.java:1352)\n",
      "\tat java.util.regex.Pattern.compile(Pattern.java:1028)\n",
      "\tat java.lang.String.split(String.java:2380)\n",
      "\tat org.apache.spark.unsafe.types.UTF8String.split(UTF8String.java:1027)\n",
      "\tat org.apache.spark.unsafe.types.UTF8String.split(UTF8String.java:1003)\n",
      "\tat org.apache.spark.sql.catalyst.expressions.GeneratedClass$GeneratedIteratorForCodegenStage5.processNext(Unknown Source)\n",
      "\tat org.apache.spark.sql.execution.BufferedRowIterator.hasNext(BufferedRowIterator.java:43)\n",
      "\tat org.apache.spark.sql.execution.WholeStageCodegenExec$$anon$1.hasNext(WholeStageCodegenExec.scala:760)\n",
      "\tat scala.collection.Iterator$$anon$10.hasNext(Iterator.scala:460)\n",
      "\tat org.apache.spark.shuffle.sort.BypassMergeSortShuffleWriter.write(BypassMergeSortShuffleWriter.java:140)\n",
      "\tat org.apache.spark.shuffle.ShuffleWriteProcessor.write(ShuffleWriteProcessor.scala:59)\n",
      "\tat org.apache.spark.scheduler.ShuffleMapTask.runTask(ShuffleMapTask.scala:99)\n",
      "\tat org.apache.spark.scheduler.ShuffleMapTask.runTask(ShuffleMapTask.scala:52)\n",
      "\tat org.apache.spark.scheduler.Task.run(Task.scala:136)\n",
      "\tat org.apache.spark.executor.Executor$TaskRunner.$anonfun$run$3(Executor.scala:548)\n",
      "\tat org.apache.spark.util.Utils$.tryWithSafeFinally(Utils.scala:1504)\n",
      "\tat org.apache.spark.executor.Executor$TaskRunner.run(Executor.scala:551)\n",
      "\tat java.util.concurrent.ThreadPoolExecutor.runWorker(ThreadPoolExecutor.java:1149)\n",
      "\tat java.util.concurrent.ThreadPoolExecutor$Worker.run(ThreadPoolExecutor.java:624)\n",
      "\tat java.lang.Thread.run(Thread.java:750)\n",
      "\n",
      "22/09/01 23:07:36 ERROR TaskSetManager: Task 0 in stage 566.0 failed 1 times; aborting job\n",
      "22/09/01 23:07:36 WARN TaskSetManager: Lost task 2.0 in stage 566.0 (TID 899) (10.12.182.211 executor driver): TaskKilled (Stage cancelled)\n",
      "22/09/01 23:07:36 WARN TaskSetManager: Lost task 6.0 in stage 566.0 (TID 903) (10.12.182.211 executor driver): TaskKilled (Stage cancelled)\n",
      "22/09/01 23:07:36 WARN TaskSetManager: Lost task 3.0 in stage 566.0 (TID 900) (10.12.182.211 executor driver): TaskKilled (Stage cancelled)\n",
      "22/09/01 23:07:36 WARN TaskSetManager: Lost task 5.0 in stage 566.0 (TID 902) (10.12.182.211 executor driver): TaskKilled (Stage cancelled)\n",
      "22/09/01 23:07:36 WARN TaskSetManager: Lost task 7.0 in stage 566.0 (TID 904) (10.12.182.211 executor driver): TaskKilled (Stage cancelled)\n",
      "22/09/01 23:07:36 WARN TaskSetManager: Lost task 1.0 in stage 566.0 (TID 898) (10.12.182.211 executor driver): TaskKilled (Stage cancelled)\n",
      "22/09/01 23:07:36 WARN TaskSetManager: Lost task 4.0 in stage 566.0 (TID 901) (10.12.182.211 executor driver): TaskKilled (Stage cancelled)\n"
     ]
    },
    {
     "ename": "Py4JJavaError",
     "evalue": "An error occurred while calling o684.showString.\n: org.apache.spark.SparkException: Job aborted due to stage failure: Task 0 in stage 566.0 failed 1 times, most recent failure: Lost task 0.0 in stage 566.0 (TID 897) (10.12.182.211 executor driver): java.util.regex.PatternSyntaxException: Unmatched closing ')'\n), (\n\tat java.util.regex.Pattern.error(Pattern.java:1969)\n\tat java.util.regex.Pattern.compile(Pattern.java:1706)\n\tat java.util.regex.Pattern.<init>(Pattern.java:1352)\n\tat java.util.regex.Pattern.compile(Pattern.java:1028)\n\tat java.lang.String.split(String.java:2380)\n\tat org.apache.spark.unsafe.types.UTF8String.split(UTF8String.java:1027)\n\tat org.apache.spark.unsafe.types.UTF8String.split(UTF8String.java:1003)\n\tat org.apache.spark.sql.catalyst.expressions.GeneratedClass$GeneratedIteratorForCodegenStage5.processNext(Unknown Source)\n\tat org.apache.spark.sql.execution.BufferedRowIterator.hasNext(BufferedRowIterator.java:43)\n\tat org.apache.spark.sql.execution.WholeStageCodegenExec$$anon$1.hasNext(WholeStageCodegenExec.scala:760)\n\tat scala.collection.Iterator$$anon$10.hasNext(Iterator.scala:460)\n\tat org.apache.spark.shuffle.sort.BypassMergeSortShuffleWriter.write(BypassMergeSortShuffleWriter.java:140)\n\tat org.apache.spark.shuffle.ShuffleWriteProcessor.write(ShuffleWriteProcessor.scala:59)\n\tat org.apache.spark.scheduler.ShuffleMapTask.runTask(ShuffleMapTask.scala:99)\n\tat org.apache.spark.scheduler.ShuffleMapTask.runTask(ShuffleMapTask.scala:52)\n\tat org.apache.spark.scheduler.Task.run(Task.scala:136)\n\tat org.apache.spark.executor.Executor$TaskRunner.$anonfun$run$3(Executor.scala:548)\n\tat org.apache.spark.util.Utils$.tryWithSafeFinally(Utils.scala:1504)\n\tat org.apache.spark.executor.Executor$TaskRunner.run(Executor.scala:551)\n\tat java.util.concurrent.ThreadPoolExecutor.runWorker(ThreadPoolExecutor.java:1149)\n\tat java.util.concurrent.ThreadPoolExecutor$Worker.run(ThreadPoolExecutor.java:624)\n\tat java.lang.Thread.run(Thread.java:750)\n\nDriver stacktrace:\n\tat org.apache.spark.scheduler.DAGScheduler.failJobAndIndependentStages(DAGScheduler.scala:2672)\n\tat org.apache.spark.scheduler.DAGScheduler.$anonfun$abortStage$2(DAGScheduler.scala:2608)\n\tat org.apache.spark.scheduler.DAGScheduler.$anonfun$abortStage$2$adapted(DAGScheduler.scala:2607)\n\tat scala.collection.mutable.ResizableArray.foreach(ResizableArray.scala:62)\n\tat scala.collection.mutable.ResizableArray.foreach$(ResizableArray.scala:55)\n\tat scala.collection.mutable.ArrayBuffer.foreach(ArrayBuffer.scala:49)\n\tat org.apache.spark.scheduler.DAGScheduler.abortStage(DAGScheduler.scala:2607)\n\tat org.apache.spark.scheduler.DAGScheduler.$anonfun$handleTaskSetFailed$1(DAGScheduler.scala:1182)\n\tat org.apache.spark.scheduler.DAGScheduler.$anonfun$handleTaskSetFailed$1$adapted(DAGScheduler.scala:1182)\n\tat scala.Option.foreach(Option.scala:407)\n\tat org.apache.spark.scheduler.DAGScheduler.handleTaskSetFailed(DAGScheduler.scala:1182)\n\tat org.apache.spark.scheduler.DAGSchedulerEventProcessLoop.doOnReceive(DAGScheduler.scala:2860)\n\tat org.apache.spark.scheduler.DAGSchedulerEventProcessLoop.onReceive(DAGScheduler.scala:2802)\n\tat org.apache.spark.scheduler.DAGSchedulerEventProcessLoop.onReceive(DAGScheduler.scala:2791)\n\tat org.apache.spark.util.EventLoop$$anon$1.run(EventLoop.scala:49)\nCaused by: java.util.regex.PatternSyntaxException: Unmatched closing ')'\n), (\n\tat java.util.regex.Pattern.error(Pattern.java:1969)\n\tat java.util.regex.Pattern.compile(Pattern.java:1706)\n\tat java.util.regex.Pattern.<init>(Pattern.java:1352)\n\tat java.util.regex.Pattern.compile(Pattern.java:1028)\n\tat java.lang.String.split(String.java:2380)\n\tat org.apache.spark.unsafe.types.UTF8String.split(UTF8String.java:1027)\n\tat org.apache.spark.unsafe.types.UTF8String.split(UTF8String.java:1003)\n\tat org.apache.spark.sql.catalyst.expressions.GeneratedClass$GeneratedIteratorForCodegenStage5.processNext(Unknown Source)\n\tat org.apache.spark.sql.execution.BufferedRowIterator.hasNext(BufferedRowIterator.java:43)\n\tat org.apache.spark.sql.execution.WholeStageCodegenExec$$anon$1.hasNext(WholeStageCodegenExec.scala:760)\n\tat scala.collection.Iterator$$anon$10.hasNext(Iterator.scala:460)\n\tat org.apache.spark.shuffle.sort.BypassMergeSortShuffleWriter.write(BypassMergeSortShuffleWriter.java:140)\n\tat org.apache.spark.shuffle.ShuffleWriteProcessor.write(ShuffleWriteProcessor.scala:59)\n\tat org.apache.spark.scheduler.ShuffleMapTask.runTask(ShuffleMapTask.scala:99)\n\tat org.apache.spark.scheduler.ShuffleMapTask.runTask(ShuffleMapTask.scala:52)\n\tat org.apache.spark.scheduler.Task.run(Task.scala:136)\n\tat org.apache.spark.executor.Executor$TaskRunner.$anonfun$run$3(Executor.scala:548)\n\tat org.apache.spark.util.Utils$.tryWithSafeFinally(Utils.scala:1504)\n\tat org.apache.spark.executor.Executor$TaskRunner.run(Executor.scala:551)\n\tat java.util.concurrent.ThreadPoolExecutor.runWorker(ThreadPoolExecutor.java:1149)\n\tat java.util.concurrent.ThreadPoolExecutor$Worker.run(ThreadPoolExecutor.java:624)\n\tat java.lang.Thread.run(Thread.java:750)\n",
     "output_type": "error",
     "traceback": [
      "\u001b[0;31m---------------------------------------------------------------------------\u001b[0m",
      "\u001b[0;31mPy4JJavaError\u001b[0m                             Traceback (most recent call last)",
      "File \u001b[0;32m~/Documents/GitHub/virtual-p2/lib/python3.9/site-packages/IPython/core/formatters.py:707\u001b[0m, in \u001b[0;36mPlainTextFormatter.__call__\u001b[0;34m(self, obj)\u001b[0m\n\u001b[1;32m    700\u001b[0m stream \u001b[38;5;241m=\u001b[39m StringIO()\n\u001b[1;32m    701\u001b[0m printer \u001b[38;5;241m=\u001b[39m pretty\u001b[38;5;241m.\u001b[39mRepresentationPrinter(stream, \u001b[38;5;28mself\u001b[39m\u001b[38;5;241m.\u001b[39mverbose,\n\u001b[1;32m    702\u001b[0m     \u001b[38;5;28mself\u001b[39m\u001b[38;5;241m.\u001b[39mmax_width, \u001b[38;5;28mself\u001b[39m\u001b[38;5;241m.\u001b[39mnewline,\n\u001b[1;32m    703\u001b[0m     max_seq_length\u001b[38;5;241m=\u001b[39m\u001b[38;5;28mself\u001b[39m\u001b[38;5;241m.\u001b[39mmax_seq_length,\n\u001b[1;32m    704\u001b[0m     singleton_pprinters\u001b[38;5;241m=\u001b[39m\u001b[38;5;28mself\u001b[39m\u001b[38;5;241m.\u001b[39msingleton_printers,\n\u001b[1;32m    705\u001b[0m     type_pprinters\u001b[38;5;241m=\u001b[39m\u001b[38;5;28mself\u001b[39m\u001b[38;5;241m.\u001b[39mtype_printers,\n\u001b[1;32m    706\u001b[0m     deferred_pprinters\u001b[38;5;241m=\u001b[39m\u001b[38;5;28mself\u001b[39m\u001b[38;5;241m.\u001b[39mdeferred_printers)\n\u001b[0;32m--> 707\u001b[0m \u001b[43mprinter\u001b[49m\u001b[38;5;241;43m.\u001b[39;49m\u001b[43mpretty\u001b[49m\u001b[43m(\u001b[49m\u001b[43mobj\u001b[49m\u001b[43m)\u001b[49m\n\u001b[1;32m    708\u001b[0m printer\u001b[38;5;241m.\u001b[39mflush()\n\u001b[1;32m    709\u001b[0m \u001b[38;5;28;01mreturn\u001b[39;00m stream\u001b[38;5;241m.\u001b[39mgetvalue()\n",
      "File \u001b[0;32m~/Documents/GitHub/virtual-p2/lib/python3.9/site-packages/IPython/lib/pretty.py:410\u001b[0m, in \u001b[0;36mRepresentationPrinter.pretty\u001b[0;34m(self, obj)\u001b[0m\n\u001b[1;32m    407\u001b[0m                         \u001b[38;5;28;01mreturn\u001b[39;00m meth(obj, \u001b[38;5;28mself\u001b[39m, cycle)\n\u001b[1;32m    408\u001b[0m                 \u001b[38;5;28;01mif\u001b[39;00m \u001b[38;5;28mcls\u001b[39m \u001b[38;5;129;01mis\u001b[39;00m \u001b[38;5;129;01mnot\u001b[39;00m \u001b[38;5;28mobject\u001b[39m \\\n\u001b[1;32m    409\u001b[0m                         \u001b[38;5;129;01mand\u001b[39;00m callable(\u001b[38;5;28mcls\u001b[39m\u001b[38;5;241m.\u001b[39m\u001b[38;5;18m__dict__\u001b[39m\u001b[38;5;241m.\u001b[39mget(\u001b[38;5;124m'\u001b[39m\u001b[38;5;124m__repr__\u001b[39m\u001b[38;5;124m'\u001b[39m)):\n\u001b[0;32m--> 410\u001b[0m                     \u001b[38;5;28;01mreturn\u001b[39;00m \u001b[43m_repr_pprint\u001b[49m\u001b[43m(\u001b[49m\u001b[43mobj\u001b[49m\u001b[43m,\u001b[49m\u001b[43m \u001b[49m\u001b[38;5;28;43mself\u001b[39;49m\u001b[43m,\u001b[49m\u001b[43m \u001b[49m\u001b[43mcycle\u001b[49m\u001b[43m)\u001b[49m\n\u001b[1;32m    412\u001b[0m     \u001b[38;5;28;01mreturn\u001b[39;00m _default_pprint(obj, \u001b[38;5;28mself\u001b[39m, cycle)\n\u001b[1;32m    413\u001b[0m \u001b[38;5;28;01mfinally\u001b[39;00m:\n",
      "File \u001b[0;32m~/Documents/GitHub/virtual-p2/lib/python3.9/site-packages/IPython/lib/pretty.py:778\u001b[0m, in \u001b[0;36m_repr_pprint\u001b[0;34m(obj, p, cycle)\u001b[0m\n\u001b[1;32m    776\u001b[0m \u001b[38;5;124;03m\"\"\"A pprint that just redirects to the normal repr function.\"\"\"\u001b[39;00m\n\u001b[1;32m    777\u001b[0m \u001b[38;5;66;03m# Find newlines and replace them with p.break_()\u001b[39;00m\n\u001b[0;32m--> 778\u001b[0m output \u001b[38;5;241m=\u001b[39m \u001b[38;5;28;43mrepr\u001b[39;49m\u001b[43m(\u001b[49m\u001b[43mobj\u001b[49m\u001b[43m)\u001b[49m\n\u001b[1;32m    779\u001b[0m lines \u001b[38;5;241m=\u001b[39m output\u001b[38;5;241m.\u001b[39msplitlines()\n\u001b[1;32m    780\u001b[0m \u001b[38;5;28;01mwith\u001b[39;00m p\u001b[38;5;241m.\u001b[39mgroup():\n",
      "File \u001b[0;32m~/Documents/GitHub/virtual-p2/lib/python3.9/site-packages/pyspark/sql/dataframe.py:620\u001b[0m, in \u001b[0;36mDataFrame.__repr__\u001b[0;34m(self)\u001b[0m\n\u001b[1;32m    618\u001b[0m \u001b[38;5;28;01mif\u001b[39;00m \u001b[38;5;129;01mnot\u001b[39;00m \u001b[38;5;28mself\u001b[39m\u001b[38;5;241m.\u001b[39m_support_repr_html \u001b[38;5;129;01mand\u001b[39;00m \u001b[38;5;28mself\u001b[39m\u001b[38;5;241m.\u001b[39msparkSession\u001b[38;5;241m.\u001b[39m_jconf\u001b[38;5;241m.\u001b[39misReplEagerEvalEnabled():\n\u001b[1;32m    619\u001b[0m     vertical \u001b[38;5;241m=\u001b[39m \u001b[38;5;28;01mFalse\u001b[39;00m\n\u001b[0;32m--> 620\u001b[0m     \u001b[38;5;28;01mreturn\u001b[39;00m \u001b[38;5;28;43mself\u001b[39;49m\u001b[38;5;241;43m.\u001b[39;49m\u001b[43m_jdf\u001b[49m\u001b[38;5;241;43m.\u001b[39;49m\u001b[43mshowString\u001b[49m\u001b[43m(\u001b[49m\n\u001b[1;32m    621\u001b[0m \u001b[43m        \u001b[49m\u001b[38;5;28;43mself\u001b[39;49m\u001b[38;5;241;43m.\u001b[39;49m\u001b[43msparkSession\u001b[49m\u001b[38;5;241;43m.\u001b[39;49m\u001b[43m_jconf\u001b[49m\u001b[38;5;241;43m.\u001b[39;49m\u001b[43mreplEagerEvalMaxNumRows\u001b[49m\u001b[43m(\u001b[49m\u001b[43m)\u001b[49m\u001b[43m,\u001b[49m\n\u001b[1;32m    622\u001b[0m \u001b[43m        \u001b[49m\u001b[38;5;28;43mself\u001b[39;49m\u001b[38;5;241;43m.\u001b[39;49m\u001b[43msparkSession\u001b[49m\u001b[38;5;241;43m.\u001b[39;49m\u001b[43m_jconf\u001b[49m\u001b[38;5;241;43m.\u001b[39;49m\u001b[43mreplEagerEvalTruncate\u001b[49m\u001b[43m(\u001b[49m\u001b[43m)\u001b[49m\u001b[43m,\u001b[49m\n\u001b[1;32m    623\u001b[0m \u001b[43m        \u001b[49m\u001b[43mvertical\u001b[49m\u001b[43m,\u001b[49m\n\u001b[1;32m    624\u001b[0m \u001b[43m    \u001b[49m\u001b[43m)\u001b[49m\n\u001b[1;32m    625\u001b[0m \u001b[38;5;28;01melse\u001b[39;00m:\n\u001b[1;32m    626\u001b[0m     \u001b[38;5;28;01mreturn\u001b[39;00m \u001b[38;5;124m\"\u001b[39m\u001b[38;5;124mDataFrame[\u001b[39m\u001b[38;5;132;01m%s\u001b[39;00m\u001b[38;5;124m]\u001b[39m\u001b[38;5;124m\"\u001b[39m \u001b[38;5;241m%\u001b[39m (\u001b[38;5;124m\"\u001b[39m\u001b[38;5;124m, \u001b[39m\u001b[38;5;124m\"\u001b[39m\u001b[38;5;241m.\u001b[39mjoin(\u001b[38;5;124m\"\u001b[39m\u001b[38;5;132;01m%s\u001b[39;00m\u001b[38;5;124m: \u001b[39m\u001b[38;5;132;01m%s\u001b[39;00m\u001b[38;5;124m\"\u001b[39m \u001b[38;5;241m%\u001b[39m c \u001b[38;5;28;01mfor\u001b[39;00m c \u001b[38;5;129;01min\u001b[39;00m \u001b[38;5;28mself\u001b[39m\u001b[38;5;241m.\u001b[39mdtypes))\n",
      "File \u001b[0;32m~/Documents/GitHub/virtual-p2/lib/python3.9/site-packages/py4j/java_gateway.py:1321\u001b[0m, in \u001b[0;36mJavaMember.__call__\u001b[0;34m(self, *args)\u001b[0m\n\u001b[1;32m   1315\u001b[0m command \u001b[38;5;241m=\u001b[39m proto\u001b[38;5;241m.\u001b[39mCALL_COMMAND_NAME \u001b[38;5;241m+\u001b[39m\\\n\u001b[1;32m   1316\u001b[0m     \u001b[38;5;28mself\u001b[39m\u001b[38;5;241m.\u001b[39mcommand_header \u001b[38;5;241m+\u001b[39m\\\n\u001b[1;32m   1317\u001b[0m     args_command \u001b[38;5;241m+\u001b[39m\\\n\u001b[1;32m   1318\u001b[0m     proto\u001b[38;5;241m.\u001b[39mEND_COMMAND_PART\n\u001b[1;32m   1320\u001b[0m answer \u001b[38;5;241m=\u001b[39m \u001b[38;5;28mself\u001b[39m\u001b[38;5;241m.\u001b[39mgateway_client\u001b[38;5;241m.\u001b[39msend_command(command)\n\u001b[0;32m-> 1321\u001b[0m return_value \u001b[38;5;241m=\u001b[39m \u001b[43mget_return_value\u001b[49m\u001b[43m(\u001b[49m\n\u001b[1;32m   1322\u001b[0m \u001b[43m    \u001b[49m\u001b[43manswer\u001b[49m\u001b[43m,\u001b[49m\u001b[43m \u001b[49m\u001b[38;5;28;43mself\u001b[39;49m\u001b[38;5;241;43m.\u001b[39;49m\u001b[43mgateway_client\u001b[49m\u001b[43m,\u001b[49m\u001b[43m \u001b[49m\u001b[38;5;28;43mself\u001b[39;49m\u001b[38;5;241;43m.\u001b[39;49m\u001b[43mtarget_id\u001b[49m\u001b[43m,\u001b[49m\u001b[43m \u001b[49m\u001b[38;5;28;43mself\u001b[39;49m\u001b[38;5;241;43m.\u001b[39;49m\u001b[43mname\u001b[49m\u001b[43m)\u001b[49m\n\u001b[1;32m   1324\u001b[0m \u001b[38;5;28;01mfor\u001b[39;00m temp_arg \u001b[38;5;129;01min\u001b[39;00m temp_args:\n\u001b[1;32m   1325\u001b[0m     temp_arg\u001b[38;5;241m.\u001b[39m_detach()\n",
      "File \u001b[0;32m~/Documents/GitHub/virtual-p2/lib/python3.9/site-packages/pyspark/sql/utils.py:190\u001b[0m, in \u001b[0;36mcapture_sql_exception.<locals>.deco\u001b[0;34m(*a, **kw)\u001b[0m\n\u001b[1;32m    188\u001b[0m \u001b[38;5;28;01mdef\u001b[39;00m \u001b[38;5;21mdeco\u001b[39m(\u001b[38;5;241m*\u001b[39ma: Any, \u001b[38;5;241m*\u001b[39m\u001b[38;5;241m*\u001b[39mkw: Any) \u001b[38;5;241m-\u001b[39m\u001b[38;5;241m>\u001b[39m Any:\n\u001b[1;32m    189\u001b[0m     \u001b[38;5;28;01mtry\u001b[39;00m:\n\u001b[0;32m--> 190\u001b[0m         \u001b[38;5;28;01mreturn\u001b[39;00m \u001b[43mf\u001b[49m\u001b[43m(\u001b[49m\u001b[38;5;241;43m*\u001b[39;49m\u001b[43ma\u001b[49m\u001b[43m,\u001b[49m\u001b[43m \u001b[49m\u001b[38;5;241;43m*\u001b[39;49m\u001b[38;5;241;43m*\u001b[39;49m\u001b[43mkw\u001b[49m\u001b[43m)\u001b[49m\n\u001b[1;32m    191\u001b[0m     \u001b[38;5;28;01mexcept\u001b[39;00m Py4JJavaError \u001b[38;5;28;01mas\u001b[39;00m e:\n\u001b[1;32m    192\u001b[0m         converted \u001b[38;5;241m=\u001b[39m convert_exception(e\u001b[38;5;241m.\u001b[39mjava_exception)\n",
      "File \u001b[0;32m~/Documents/GitHub/virtual-p2/lib/python3.9/site-packages/py4j/protocol.py:326\u001b[0m, in \u001b[0;36mget_return_value\u001b[0;34m(answer, gateway_client, target_id, name)\u001b[0m\n\u001b[1;32m    324\u001b[0m value \u001b[38;5;241m=\u001b[39m OUTPUT_CONVERTER[\u001b[38;5;28mtype\u001b[39m](answer[\u001b[38;5;241m2\u001b[39m:], gateway_client)\n\u001b[1;32m    325\u001b[0m \u001b[38;5;28;01mif\u001b[39;00m answer[\u001b[38;5;241m1\u001b[39m] \u001b[38;5;241m==\u001b[39m REFERENCE_TYPE:\n\u001b[0;32m--> 326\u001b[0m     \u001b[38;5;28;01mraise\u001b[39;00m Py4JJavaError(\n\u001b[1;32m    327\u001b[0m         \u001b[38;5;124m\"\u001b[39m\u001b[38;5;124mAn error occurred while calling \u001b[39m\u001b[38;5;132;01m{0}\u001b[39;00m\u001b[38;5;132;01m{1}\u001b[39;00m\u001b[38;5;132;01m{2}\u001b[39;00m\u001b[38;5;124m.\u001b[39m\u001b[38;5;130;01m\\n\u001b[39;00m\u001b[38;5;124m\"\u001b[39m\u001b[38;5;241m.\u001b[39m\n\u001b[1;32m    328\u001b[0m         \u001b[38;5;28mformat\u001b[39m(target_id, \u001b[38;5;124m\"\u001b[39m\u001b[38;5;124m.\u001b[39m\u001b[38;5;124m\"\u001b[39m, name), value)\n\u001b[1;32m    329\u001b[0m \u001b[38;5;28;01melse\u001b[39;00m:\n\u001b[1;32m    330\u001b[0m     \u001b[38;5;28;01mraise\u001b[39;00m Py4JError(\n\u001b[1;32m    331\u001b[0m         \u001b[38;5;124m\"\u001b[39m\u001b[38;5;124mAn error occurred while calling \u001b[39m\u001b[38;5;132;01m{0}\u001b[39;00m\u001b[38;5;132;01m{1}\u001b[39;00m\u001b[38;5;132;01m{2}\u001b[39;00m\u001b[38;5;124m. Trace:\u001b[39m\u001b[38;5;130;01m\\n\u001b[39;00m\u001b[38;5;132;01m{3}\u001b[39;00m\u001b[38;5;130;01m\\n\u001b[39;00m\u001b[38;5;124m\"\u001b[39m\u001b[38;5;241m.\u001b[39m\n\u001b[1;32m    332\u001b[0m         \u001b[38;5;28mformat\u001b[39m(target_id, \u001b[38;5;124m\"\u001b[39m\u001b[38;5;124m.\u001b[39m\u001b[38;5;124m\"\u001b[39m, name, value))\n",
      "\u001b[0;31mPy4JJavaError\u001b[0m: An error occurred while calling o684.showString.\n: org.apache.spark.SparkException: Job aborted due to stage failure: Task 0 in stage 566.0 failed 1 times, most recent failure: Lost task 0.0 in stage 566.0 (TID 897) (10.12.182.211 executor driver): java.util.regex.PatternSyntaxException: Unmatched closing ')'\n), (\n\tat java.util.regex.Pattern.error(Pattern.java:1969)\n\tat java.util.regex.Pattern.compile(Pattern.java:1706)\n\tat java.util.regex.Pattern.<init>(Pattern.java:1352)\n\tat java.util.regex.Pattern.compile(Pattern.java:1028)\n\tat java.lang.String.split(String.java:2380)\n\tat org.apache.spark.unsafe.types.UTF8String.split(UTF8String.java:1027)\n\tat org.apache.spark.unsafe.types.UTF8String.split(UTF8String.java:1003)\n\tat org.apache.spark.sql.catalyst.expressions.GeneratedClass$GeneratedIteratorForCodegenStage5.processNext(Unknown Source)\n\tat org.apache.spark.sql.execution.BufferedRowIterator.hasNext(BufferedRowIterator.java:43)\n\tat org.apache.spark.sql.execution.WholeStageCodegenExec$$anon$1.hasNext(WholeStageCodegenExec.scala:760)\n\tat scala.collection.Iterator$$anon$10.hasNext(Iterator.scala:460)\n\tat org.apache.spark.shuffle.sort.BypassMergeSortShuffleWriter.write(BypassMergeSortShuffleWriter.java:140)\n\tat org.apache.spark.shuffle.ShuffleWriteProcessor.write(ShuffleWriteProcessor.scala:59)\n\tat org.apache.spark.scheduler.ShuffleMapTask.runTask(ShuffleMapTask.scala:99)\n\tat org.apache.spark.scheduler.ShuffleMapTask.runTask(ShuffleMapTask.scala:52)\n\tat org.apache.spark.scheduler.Task.run(Task.scala:136)\n\tat org.apache.spark.executor.Executor$TaskRunner.$anonfun$run$3(Executor.scala:548)\n\tat org.apache.spark.util.Utils$.tryWithSafeFinally(Utils.scala:1504)\n\tat org.apache.spark.executor.Executor$TaskRunner.run(Executor.scala:551)\n\tat java.util.concurrent.ThreadPoolExecutor.runWorker(ThreadPoolExecutor.java:1149)\n\tat java.util.concurrent.ThreadPoolExecutor$Worker.run(ThreadPoolExecutor.java:624)\n\tat java.lang.Thread.run(Thread.java:750)\n\nDriver stacktrace:\n\tat org.apache.spark.scheduler.DAGScheduler.failJobAndIndependentStages(DAGScheduler.scala:2672)\n\tat org.apache.spark.scheduler.DAGScheduler.$anonfun$abortStage$2(DAGScheduler.scala:2608)\n\tat org.apache.spark.scheduler.DAGScheduler.$anonfun$abortStage$2$adapted(DAGScheduler.scala:2607)\n\tat scala.collection.mutable.ResizableArray.foreach(ResizableArray.scala:62)\n\tat scala.collection.mutable.ResizableArray.foreach$(ResizableArray.scala:55)\n\tat scala.collection.mutable.ArrayBuffer.foreach(ArrayBuffer.scala:49)\n\tat org.apache.spark.scheduler.DAGScheduler.abortStage(DAGScheduler.scala:2607)\n\tat org.apache.spark.scheduler.DAGScheduler.$anonfun$handleTaskSetFailed$1(DAGScheduler.scala:1182)\n\tat org.apache.spark.scheduler.DAGScheduler.$anonfun$handleTaskSetFailed$1$adapted(DAGScheduler.scala:1182)\n\tat scala.Option.foreach(Option.scala:407)\n\tat org.apache.spark.scheduler.DAGScheduler.handleTaskSetFailed(DAGScheduler.scala:1182)\n\tat org.apache.spark.scheduler.DAGSchedulerEventProcessLoop.doOnReceive(DAGScheduler.scala:2860)\n\tat org.apache.spark.scheduler.DAGSchedulerEventProcessLoop.onReceive(DAGScheduler.scala:2802)\n\tat org.apache.spark.scheduler.DAGSchedulerEventProcessLoop.onReceive(DAGScheduler.scala:2791)\n\tat org.apache.spark.util.EventLoop$$anon$1.run(EventLoop.scala:49)\nCaused by: java.util.regex.PatternSyntaxException: Unmatched closing ')'\n), (\n\tat java.util.regex.Pattern.error(Pattern.java:1969)\n\tat java.util.regex.Pattern.compile(Pattern.java:1706)\n\tat java.util.regex.Pattern.<init>(Pattern.java:1352)\n\tat java.util.regex.Pattern.compile(Pattern.java:1028)\n\tat java.lang.String.split(String.java:2380)\n\tat org.apache.spark.unsafe.types.UTF8String.split(UTF8String.java:1027)\n\tat org.apache.spark.unsafe.types.UTF8String.split(UTF8String.java:1003)\n\tat org.apache.spark.sql.catalyst.expressions.GeneratedClass$GeneratedIteratorForCodegenStage5.processNext(Unknown Source)\n\tat org.apache.spark.sql.execution.BufferedRowIterator.hasNext(BufferedRowIterator.java:43)\n\tat org.apache.spark.sql.execution.WholeStageCodegenExec$$anon$1.hasNext(WholeStageCodegenExec.scala:760)\n\tat scala.collection.Iterator$$anon$10.hasNext(Iterator.scala:460)\n\tat org.apache.spark.shuffle.sort.BypassMergeSortShuffleWriter.write(BypassMergeSortShuffleWriter.java:140)\n\tat org.apache.spark.shuffle.ShuffleWriteProcessor.write(ShuffleWriteProcessor.scala:59)\n\tat org.apache.spark.scheduler.ShuffleMapTask.runTask(ShuffleMapTask.scala:99)\n\tat org.apache.spark.scheduler.ShuffleMapTask.runTask(ShuffleMapTask.scala:52)\n\tat org.apache.spark.scheduler.Task.run(Task.scala:136)\n\tat org.apache.spark.executor.Executor$TaskRunner.$anonfun$run$3(Executor.scala:548)\n\tat org.apache.spark.util.Utils$.tryWithSafeFinally(Utils.scala:1504)\n\tat org.apache.spark.executor.Executor$TaskRunner.run(Executor.scala:551)\n\tat java.util.concurrent.ThreadPoolExecutor.runWorker(ThreadPoolExecutor.java:1149)\n\tat java.util.concurrent.ThreadPoolExecutor$Worker.run(ThreadPoolExecutor.java:624)\n\tat java.lang.Thread.run(Thread.java:750)\n"
     ]
    },
    {
     "name": "stdout",
     "output_type": "stream",
     "text": [
      "22/09/01 23:07:37 ERROR Executor: Exception in task 0.0 in stage 573.0 (TID 912)\n",
      "java.util.regex.PatternSyntaxException: Unmatched closing ')'\n",
      "), (\n",
      "\tat java.util.regex.Pattern.error(Pattern.java:1969)\n",
      "\tat java.util.regex.Pattern.compile(Pattern.java:1706)\n",
      "\tat java.util.regex.Pattern.<init>(Pattern.java:1352)\n",
      "\tat java.util.regex.Pattern.compile(Pattern.java:1028)\n",
      "\tat java.lang.String.split(String.java:2380)\n",
      "\tat org.apache.spark.unsafe.types.UTF8String.split(UTF8String.java:1027)\n",
      "\tat org.apache.spark.unsafe.types.UTF8String.split(UTF8String.java:1003)\n",
      "\tat org.apache.spark.sql.catalyst.expressions.GeneratedClass$GeneratedIteratorForCodegenStage5.processNext(Unknown Source)\n",
      "\tat org.apache.spark.sql.execution.BufferedRowIterator.hasNext(BufferedRowIterator.java:43)\n",
      "\tat org.apache.spark.sql.execution.WholeStageCodegenExec$$anon$1.hasNext(WholeStageCodegenExec.scala:760)\n",
      "\tat scala.collection.Iterator$$anon$10.hasNext(Iterator.scala:460)\n",
      "\tat org.apache.spark.shuffle.sort.BypassMergeSortShuffleWriter.write(BypassMergeSortShuffleWriter.java:140)\n",
      "\tat org.apache.spark.shuffle.ShuffleWriteProcessor.write(ShuffleWriteProcessor.scala:59)\n",
      "\tat org.apache.spark.scheduler.ShuffleMapTask.runTask(ShuffleMapTask.scala:99)\n",
      "\tat org.apache.spark.scheduler.ShuffleMapTask.runTask(ShuffleMapTask.scala:52)\n",
      "\tat org.apache.spark.scheduler.Task.run(Task.scala:136)\n",
      "\tat org.apache.spark.executor.Executor$TaskRunner.$anonfun$run$3(Executor.scala:548)\n",
      "\tat org.apache.spark.util.Utils$.tryWithSafeFinally(Utils.scala:1504)\n",
      "\tat org.apache.spark.executor.Executor$TaskRunner.run(Executor.scala:551)\n",
      "\tat java.util.concurrent.ThreadPoolExecutor.runWorker(ThreadPoolExecutor.java:1149)\n",
      "\tat java.util.concurrent.ThreadPoolExecutor$Worker.run(ThreadPoolExecutor.java:624)\n",
      "\tat java.lang.Thread.run(Thread.java:750)\n",
      "22/09/01 23:07:37 WARN TaskSetManager: Lost task 0.0 in stage 573.0 (TID 912) (10.12.182.211 executor driver): java.util.regex.PatternSyntaxException: Unmatched closing ')'\n",
      "), (\n",
      "\tat java.util.regex.Pattern.error(Pattern.java:1969)\n",
      "\tat java.util.regex.Pattern.compile(Pattern.java:1706)\n",
      "\tat java.util.regex.Pattern.<init>(Pattern.java:1352)\n",
      "\tat java.util.regex.Pattern.compile(Pattern.java:1028)\n",
      "\tat java.lang.String.split(String.java:2380)\n",
      "\tat org.apache.spark.unsafe.types.UTF8String.split(UTF8String.java:1027)\n",
      "\tat org.apache.spark.unsafe.types.UTF8String.split(UTF8String.java:1003)\n",
      "\tat org.apache.spark.sql.catalyst.expressions.GeneratedClass$GeneratedIteratorForCodegenStage5.processNext(Unknown Source)\n",
      "\tat org.apache.spark.sql.execution.BufferedRowIterator.hasNext(BufferedRowIterator.java:43)\n",
      "\tat org.apache.spark.sql.execution.WholeStageCodegenExec$$anon$1.hasNext(WholeStageCodegenExec.scala:760)\n",
      "\tat scala.collection.Iterator$$anon$10.hasNext(Iterator.scala:460)\n",
      "\tat org.apache.spark.shuffle.sort.BypassMergeSortShuffleWriter.write(BypassMergeSortShuffleWriter.java:140)\n",
      "\tat org.apache.spark.shuffle.ShuffleWriteProcessor.write(ShuffleWriteProcessor.scala:59)\n",
      "\tat org.apache.spark.scheduler.ShuffleMapTask.runTask(ShuffleMapTask.scala:99)\n",
      "\tat org.apache.spark.scheduler.ShuffleMapTask.runTask(ShuffleMapTask.scala:52)\n",
      "\tat org.apache.spark.scheduler.Task.run(Task.scala:136)\n",
      "\tat org.apache.spark.executor.Executor$TaskRunner.$anonfun$run$3(Executor.scala:548)\n",
      "\tat org.apache.spark.util.Utils$.tryWithSafeFinally(Utils.scala:1504)\n",
      "\tat org.apache.spark.executor.Executor$TaskRunner.run(Executor.scala:551)\n",
      "\tat java.util.concurrent.ThreadPoolExecutor.runWorker(ThreadPoolExecutor.java:1149)\n",
      "\tat java.util.concurrent.ThreadPoolExecutor$Worker.run(ThreadPoolExecutor.java:624)\n",
      "\tat java.lang.Thread.run(Thread.java:750)\n",
      "\n",
      "22/09/01 23:07:37 ERROR TaskSetManager: Task 0 in stage 573.0 failed 1 times; aborting job\n",
      "22/09/01 23:07:37 WARN TaskSetManager: Lost task 4.0 in stage 573.0 (TID 916) (10.12.182.211 executor driver): TaskKilled (Stage cancelled)\n",
      "22/09/01 23:07:37 WARN TaskSetManager: Lost task 1.0 in stage 573.0 (TID 913) (10.12.182.211 executor driver): TaskKilled (Stage cancelled)\n",
      "22/09/01 23:07:37 WARN TaskSetManager: Lost task 2.0 in stage 573.0 (TID 914) (10.12.182.211 executor driver): TaskKilled (Stage cancelled)\n",
      "22/09/01 23:07:37 WARN TaskSetManager: Lost task 3.0 in stage 573.0 (TID 915) (10.12.182.211 executor driver): TaskKilled (Stage cancelled)\n",
      "22/09/01 23:07:37 WARN TaskSetManager: Lost task 7.0 in stage 573.0 (TID 919) (10.12.182.211 executor driver): TaskKilled (Stage cancelled)\n",
      "22/09/01 23:07:37 WARN TaskSetManager: Lost task 5.0 in stage 573.0 (TID 917) (10.12.182.211 executor driver): TaskKilled (Stage cancelled)\n",
      "22/09/01 23:07:37 WARN TaskSetManager: Lost task 6.0 in stage 573.0 (TID 918) (10.12.182.211 executor driver): TaskKilled (Stage cancelled)\n"
     ]
    },
    {
     "ename": "Py4JJavaError",
     "evalue": "An error occurred while calling o684.getRowsToPython.\n: org.apache.spark.SparkException: Job aborted due to stage failure: Task 0 in stage 573.0 failed 1 times, most recent failure: Lost task 0.0 in stage 573.0 (TID 912) (10.12.182.211 executor driver): java.util.regex.PatternSyntaxException: Unmatched closing ')'\n), (\n\tat java.util.regex.Pattern.error(Pattern.java:1969)\n\tat java.util.regex.Pattern.compile(Pattern.java:1706)\n\tat java.util.regex.Pattern.<init>(Pattern.java:1352)\n\tat java.util.regex.Pattern.compile(Pattern.java:1028)\n\tat java.lang.String.split(String.java:2380)\n\tat org.apache.spark.unsafe.types.UTF8String.split(UTF8String.java:1027)\n\tat org.apache.spark.unsafe.types.UTF8String.split(UTF8String.java:1003)\n\tat org.apache.spark.sql.catalyst.expressions.GeneratedClass$GeneratedIteratorForCodegenStage5.processNext(Unknown Source)\n\tat org.apache.spark.sql.execution.BufferedRowIterator.hasNext(BufferedRowIterator.java:43)\n\tat org.apache.spark.sql.execution.WholeStageCodegenExec$$anon$1.hasNext(WholeStageCodegenExec.scala:760)\n\tat scala.collection.Iterator$$anon$10.hasNext(Iterator.scala:460)\n\tat org.apache.spark.shuffle.sort.BypassMergeSortShuffleWriter.write(BypassMergeSortShuffleWriter.java:140)\n\tat org.apache.spark.shuffle.ShuffleWriteProcessor.write(ShuffleWriteProcessor.scala:59)\n\tat org.apache.spark.scheduler.ShuffleMapTask.runTask(ShuffleMapTask.scala:99)\n\tat org.apache.spark.scheduler.ShuffleMapTask.runTask(ShuffleMapTask.scala:52)\n\tat org.apache.spark.scheduler.Task.run(Task.scala:136)\n\tat org.apache.spark.executor.Executor$TaskRunner.$anonfun$run$3(Executor.scala:548)\n\tat org.apache.spark.util.Utils$.tryWithSafeFinally(Utils.scala:1504)\n\tat org.apache.spark.executor.Executor$TaskRunner.run(Executor.scala:551)\n\tat java.util.concurrent.ThreadPoolExecutor.runWorker(ThreadPoolExecutor.java:1149)\n\tat java.util.concurrent.ThreadPoolExecutor$Worker.run(ThreadPoolExecutor.java:624)\n\tat java.lang.Thread.run(Thread.java:750)\n\nDriver stacktrace:\n\tat org.apache.spark.scheduler.DAGScheduler.failJobAndIndependentStages(DAGScheduler.scala:2672)\n\tat org.apache.spark.scheduler.DAGScheduler.$anonfun$abortStage$2(DAGScheduler.scala:2608)\n\tat org.apache.spark.scheduler.DAGScheduler.$anonfun$abortStage$2$adapted(DAGScheduler.scala:2607)\n\tat scala.collection.mutable.ResizableArray.foreach(ResizableArray.scala:62)\n\tat scala.collection.mutable.ResizableArray.foreach$(ResizableArray.scala:55)\n\tat scala.collection.mutable.ArrayBuffer.foreach(ArrayBuffer.scala:49)\n\tat org.apache.spark.scheduler.DAGScheduler.abortStage(DAGScheduler.scala:2607)\n\tat org.apache.spark.scheduler.DAGScheduler.$anonfun$handleTaskSetFailed$1(DAGScheduler.scala:1182)\n\tat org.apache.spark.scheduler.DAGScheduler.$anonfun$handleTaskSetFailed$1$adapted(DAGScheduler.scala:1182)\n\tat scala.Option.foreach(Option.scala:407)\n\tat org.apache.spark.scheduler.DAGScheduler.handleTaskSetFailed(DAGScheduler.scala:1182)\n\tat org.apache.spark.scheduler.DAGSchedulerEventProcessLoop.doOnReceive(DAGScheduler.scala:2860)\n\tat org.apache.spark.scheduler.DAGSchedulerEventProcessLoop.onReceive(DAGScheduler.scala:2802)\n\tat org.apache.spark.scheduler.DAGSchedulerEventProcessLoop.onReceive(DAGScheduler.scala:2791)\n\tat org.apache.spark.util.EventLoop$$anon$1.run(EventLoop.scala:49)\nCaused by: java.util.regex.PatternSyntaxException: Unmatched closing ')'\n), (\n\tat java.util.regex.Pattern.error(Pattern.java:1969)\n\tat java.util.regex.Pattern.compile(Pattern.java:1706)\n\tat java.util.regex.Pattern.<init>(Pattern.java:1352)\n\tat java.util.regex.Pattern.compile(Pattern.java:1028)\n\tat java.lang.String.split(String.java:2380)\n\tat org.apache.spark.unsafe.types.UTF8String.split(UTF8String.java:1027)\n\tat org.apache.spark.unsafe.types.UTF8String.split(UTF8String.java:1003)\n\tat org.apache.spark.sql.catalyst.expressions.GeneratedClass$GeneratedIteratorForCodegenStage5.processNext(Unknown Source)\n\tat org.apache.spark.sql.execution.BufferedRowIterator.hasNext(BufferedRowIterator.java:43)\n\tat org.apache.spark.sql.execution.WholeStageCodegenExec$$anon$1.hasNext(WholeStageCodegenExec.scala:760)\n\tat scala.collection.Iterator$$anon$10.hasNext(Iterator.scala:460)\n\tat org.apache.spark.shuffle.sort.BypassMergeSortShuffleWriter.write(BypassMergeSortShuffleWriter.java:140)\n\tat org.apache.spark.shuffle.ShuffleWriteProcessor.write(ShuffleWriteProcessor.scala:59)\n\tat org.apache.spark.scheduler.ShuffleMapTask.runTask(ShuffleMapTask.scala:99)\n\tat org.apache.spark.scheduler.ShuffleMapTask.runTask(ShuffleMapTask.scala:52)\n\tat org.apache.spark.scheduler.Task.run(Task.scala:136)\n\tat org.apache.spark.executor.Executor$TaskRunner.$anonfun$run$3(Executor.scala:548)\n\tat org.apache.spark.util.Utils$.tryWithSafeFinally(Utils.scala:1504)\n\tat org.apache.spark.executor.Executor$TaskRunner.run(Executor.scala:551)\n\tat java.util.concurrent.ThreadPoolExecutor.runWorker(ThreadPoolExecutor.java:1149)\n\tat java.util.concurrent.ThreadPoolExecutor$Worker.run(ThreadPoolExecutor.java:624)\n\tat java.lang.Thread.run(Thread.java:750)\n",
     "output_type": "error",
     "traceback": [
      "\u001b[0;31m---------------------------------------------------------------------------\u001b[0m",
      "\u001b[0;31mPy4JJavaError\u001b[0m                             Traceback (most recent call last)",
      "File \u001b[0;32m~/Documents/GitHub/virtual-p2/lib/python3.9/site-packages/IPython/core/formatters.py:343\u001b[0m, in \u001b[0;36mBaseFormatter.__call__\u001b[0;34m(self, obj)\u001b[0m\n\u001b[1;32m    341\u001b[0m     method \u001b[38;5;241m=\u001b[39m get_real_method(obj, \u001b[38;5;28mself\u001b[39m\u001b[38;5;241m.\u001b[39mprint_method)\n\u001b[1;32m    342\u001b[0m     \u001b[38;5;28;01mif\u001b[39;00m method \u001b[38;5;129;01mis\u001b[39;00m \u001b[38;5;129;01mnot\u001b[39;00m \u001b[38;5;28;01mNone\u001b[39;00m:\n\u001b[0;32m--> 343\u001b[0m         \u001b[38;5;28;01mreturn\u001b[39;00m \u001b[43mmethod\u001b[49m\u001b[43m(\u001b[49m\u001b[43m)\u001b[49m\n\u001b[1;32m    344\u001b[0m     \u001b[38;5;28;01mreturn\u001b[39;00m \u001b[38;5;28;01mNone\u001b[39;00m\n\u001b[1;32m    345\u001b[0m \u001b[38;5;28;01melse\u001b[39;00m:\n",
      "File \u001b[0;32m~/Documents/GitHub/virtual-p2/lib/python3.9/site-packages/pyspark/sql/dataframe.py:637\u001b[0m, in \u001b[0;36mDataFrame._repr_html_\u001b[0;34m(self)\u001b[0m\n\u001b[1;32m    635\u001b[0m \u001b[38;5;28;01mif\u001b[39;00m \u001b[38;5;28mself\u001b[39m\u001b[38;5;241m.\u001b[39msparkSession\u001b[38;5;241m.\u001b[39m_jconf\u001b[38;5;241m.\u001b[39misReplEagerEvalEnabled():\n\u001b[1;32m    636\u001b[0m     max_num_rows \u001b[38;5;241m=\u001b[39m \u001b[38;5;28mmax\u001b[39m(\u001b[38;5;28mself\u001b[39m\u001b[38;5;241m.\u001b[39msparkSession\u001b[38;5;241m.\u001b[39m_jconf\u001b[38;5;241m.\u001b[39mreplEagerEvalMaxNumRows(), \u001b[38;5;241m0\u001b[39m)\n\u001b[0;32m--> 637\u001b[0m     sock_info \u001b[38;5;241m=\u001b[39m \u001b[38;5;28;43mself\u001b[39;49m\u001b[38;5;241;43m.\u001b[39;49m\u001b[43m_jdf\u001b[49m\u001b[38;5;241;43m.\u001b[39;49m\u001b[43mgetRowsToPython\u001b[49m\u001b[43m(\u001b[49m\n\u001b[1;32m    638\u001b[0m \u001b[43m        \u001b[49m\u001b[43mmax_num_rows\u001b[49m\u001b[43m,\u001b[49m\n\u001b[1;32m    639\u001b[0m \u001b[43m        \u001b[49m\u001b[38;5;28;43mself\u001b[39;49m\u001b[38;5;241;43m.\u001b[39;49m\u001b[43msparkSession\u001b[49m\u001b[38;5;241;43m.\u001b[39;49m\u001b[43m_jconf\u001b[49m\u001b[38;5;241;43m.\u001b[39;49m\u001b[43mreplEagerEvalTruncate\u001b[49m\u001b[43m(\u001b[49m\u001b[43m)\u001b[49m\u001b[43m,\u001b[49m\n\u001b[1;32m    640\u001b[0m \u001b[43m    \u001b[49m\u001b[43m)\u001b[49m\n\u001b[1;32m    641\u001b[0m     rows \u001b[38;5;241m=\u001b[39m \u001b[38;5;28mlist\u001b[39m(_load_from_socket(sock_info, BatchedSerializer(CPickleSerializer())))\n\u001b[1;32m    642\u001b[0m     head \u001b[38;5;241m=\u001b[39m rows[\u001b[38;5;241m0\u001b[39m]\n",
      "File \u001b[0;32m~/Documents/GitHub/virtual-p2/lib/python3.9/site-packages/py4j/java_gateway.py:1321\u001b[0m, in \u001b[0;36mJavaMember.__call__\u001b[0;34m(self, *args)\u001b[0m\n\u001b[1;32m   1315\u001b[0m command \u001b[38;5;241m=\u001b[39m proto\u001b[38;5;241m.\u001b[39mCALL_COMMAND_NAME \u001b[38;5;241m+\u001b[39m\\\n\u001b[1;32m   1316\u001b[0m     \u001b[38;5;28mself\u001b[39m\u001b[38;5;241m.\u001b[39mcommand_header \u001b[38;5;241m+\u001b[39m\\\n\u001b[1;32m   1317\u001b[0m     args_command \u001b[38;5;241m+\u001b[39m\\\n\u001b[1;32m   1318\u001b[0m     proto\u001b[38;5;241m.\u001b[39mEND_COMMAND_PART\n\u001b[1;32m   1320\u001b[0m answer \u001b[38;5;241m=\u001b[39m \u001b[38;5;28mself\u001b[39m\u001b[38;5;241m.\u001b[39mgateway_client\u001b[38;5;241m.\u001b[39msend_command(command)\n\u001b[0;32m-> 1321\u001b[0m return_value \u001b[38;5;241m=\u001b[39m \u001b[43mget_return_value\u001b[49m\u001b[43m(\u001b[49m\n\u001b[1;32m   1322\u001b[0m \u001b[43m    \u001b[49m\u001b[43manswer\u001b[49m\u001b[43m,\u001b[49m\u001b[43m \u001b[49m\u001b[38;5;28;43mself\u001b[39;49m\u001b[38;5;241;43m.\u001b[39;49m\u001b[43mgateway_client\u001b[49m\u001b[43m,\u001b[49m\u001b[43m \u001b[49m\u001b[38;5;28;43mself\u001b[39;49m\u001b[38;5;241;43m.\u001b[39;49m\u001b[43mtarget_id\u001b[49m\u001b[43m,\u001b[49m\u001b[43m \u001b[49m\u001b[38;5;28;43mself\u001b[39;49m\u001b[38;5;241;43m.\u001b[39;49m\u001b[43mname\u001b[49m\u001b[43m)\u001b[49m\n\u001b[1;32m   1324\u001b[0m \u001b[38;5;28;01mfor\u001b[39;00m temp_arg \u001b[38;5;129;01min\u001b[39;00m temp_args:\n\u001b[1;32m   1325\u001b[0m     temp_arg\u001b[38;5;241m.\u001b[39m_detach()\n",
      "File \u001b[0;32m~/Documents/GitHub/virtual-p2/lib/python3.9/site-packages/pyspark/sql/utils.py:190\u001b[0m, in \u001b[0;36mcapture_sql_exception.<locals>.deco\u001b[0;34m(*a, **kw)\u001b[0m\n\u001b[1;32m    188\u001b[0m \u001b[38;5;28;01mdef\u001b[39;00m \u001b[38;5;21mdeco\u001b[39m(\u001b[38;5;241m*\u001b[39ma: Any, \u001b[38;5;241m*\u001b[39m\u001b[38;5;241m*\u001b[39mkw: Any) \u001b[38;5;241m-\u001b[39m\u001b[38;5;241m>\u001b[39m Any:\n\u001b[1;32m    189\u001b[0m     \u001b[38;5;28;01mtry\u001b[39;00m:\n\u001b[0;32m--> 190\u001b[0m         \u001b[38;5;28;01mreturn\u001b[39;00m \u001b[43mf\u001b[49m\u001b[43m(\u001b[49m\u001b[38;5;241;43m*\u001b[39;49m\u001b[43ma\u001b[49m\u001b[43m,\u001b[49m\u001b[43m \u001b[49m\u001b[38;5;241;43m*\u001b[39;49m\u001b[38;5;241;43m*\u001b[39;49m\u001b[43mkw\u001b[49m\u001b[43m)\u001b[49m\n\u001b[1;32m    191\u001b[0m     \u001b[38;5;28;01mexcept\u001b[39;00m Py4JJavaError \u001b[38;5;28;01mas\u001b[39;00m e:\n\u001b[1;32m    192\u001b[0m         converted \u001b[38;5;241m=\u001b[39m convert_exception(e\u001b[38;5;241m.\u001b[39mjava_exception)\n",
      "File \u001b[0;32m~/Documents/GitHub/virtual-p2/lib/python3.9/site-packages/py4j/protocol.py:326\u001b[0m, in \u001b[0;36mget_return_value\u001b[0;34m(answer, gateway_client, target_id, name)\u001b[0m\n\u001b[1;32m    324\u001b[0m value \u001b[38;5;241m=\u001b[39m OUTPUT_CONVERTER[\u001b[38;5;28mtype\u001b[39m](answer[\u001b[38;5;241m2\u001b[39m:], gateway_client)\n\u001b[1;32m    325\u001b[0m \u001b[38;5;28;01mif\u001b[39;00m answer[\u001b[38;5;241m1\u001b[39m] \u001b[38;5;241m==\u001b[39m REFERENCE_TYPE:\n\u001b[0;32m--> 326\u001b[0m     \u001b[38;5;28;01mraise\u001b[39;00m Py4JJavaError(\n\u001b[1;32m    327\u001b[0m         \u001b[38;5;124m\"\u001b[39m\u001b[38;5;124mAn error occurred while calling \u001b[39m\u001b[38;5;132;01m{0}\u001b[39;00m\u001b[38;5;132;01m{1}\u001b[39;00m\u001b[38;5;132;01m{2}\u001b[39;00m\u001b[38;5;124m.\u001b[39m\u001b[38;5;130;01m\\n\u001b[39;00m\u001b[38;5;124m\"\u001b[39m\u001b[38;5;241m.\u001b[39m\n\u001b[1;32m    328\u001b[0m         \u001b[38;5;28mformat\u001b[39m(target_id, \u001b[38;5;124m\"\u001b[39m\u001b[38;5;124m.\u001b[39m\u001b[38;5;124m\"\u001b[39m, name), value)\n\u001b[1;32m    329\u001b[0m \u001b[38;5;28;01melse\u001b[39;00m:\n\u001b[1;32m    330\u001b[0m     \u001b[38;5;28;01mraise\u001b[39;00m Py4JError(\n\u001b[1;32m    331\u001b[0m         \u001b[38;5;124m\"\u001b[39m\u001b[38;5;124mAn error occurred while calling \u001b[39m\u001b[38;5;132;01m{0}\u001b[39;00m\u001b[38;5;132;01m{1}\u001b[39;00m\u001b[38;5;132;01m{2}\u001b[39;00m\u001b[38;5;124m. Trace:\u001b[39m\u001b[38;5;130;01m\\n\u001b[39;00m\u001b[38;5;132;01m{3}\u001b[39;00m\u001b[38;5;130;01m\\n\u001b[39;00m\u001b[38;5;124m\"\u001b[39m\u001b[38;5;241m.\u001b[39m\n\u001b[1;32m    332\u001b[0m         \u001b[38;5;28mformat\u001b[39m(target_id, \u001b[38;5;124m\"\u001b[39m\u001b[38;5;124m.\u001b[39m\u001b[38;5;124m\"\u001b[39m, name, value))\n",
      "\u001b[0;31mPy4JJavaError\u001b[0m: An error occurred while calling o684.getRowsToPython.\n: org.apache.spark.SparkException: Job aborted due to stage failure: Task 0 in stage 573.0 failed 1 times, most recent failure: Lost task 0.0 in stage 573.0 (TID 912) (10.12.182.211 executor driver): java.util.regex.PatternSyntaxException: Unmatched closing ')'\n), (\n\tat java.util.regex.Pattern.error(Pattern.java:1969)\n\tat java.util.regex.Pattern.compile(Pattern.java:1706)\n\tat java.util.regex.Pattern.<init>(Pattern.java:1352)\n\tat java.util.regex.Pattern.compile(Pattern.java:1028)\n\tat java.lang.String.split(String.java:2380)\n\tat org.apache.spark.unsafe.types.UTF8String.split(UTF8String.java:1027)\n\tat org.apache.spark.unsafe.types.UTF8String.split(UTF8String.java:1003)\n\tat org.apache.spark.sql.catalyst.expressions.GeneratedClass$GeneratedIteratorForCodegenStage5.processNext(Unknown Source)\n\tat org.apache.spark.sql.execution.BufferedRowIterator.hasNext(BufferedRowIterator.java:43)\n\tat org.apache.spark.sql.execution.WholeStageCodegenExec$$anon$1.hasNext(WholeStageCodegenExec.scala:760)\n\tat scala.collection.Iterator$$anon$10.hasNext(Iterator.scala:460)\n\tat org.apache.spark.shuffle.sort.BypassMergeSortShuffleWriter.write(BypassMergeSortShuffleWriter.java:140)\n\tat org.apache.spark.shuffle.ShuffleWriteProcessor.write(ShuffleWriteProcessor.scala:59)\n\tat org.apache.spark.scheduler.ShuffleMapTask.runTask(ShuffleMapTask.scala:99)\n\tat org.apache.spark.scheduler.ShuffleMapTask.runTask(ShuffleMapTask.scala:52)\n\tat org.apache.spark.scheduler.Task.run(Task.scala:136)\n\tat org.apache.spark.executor.Executor$TaskRunner.$anonfun$run$3(Executor.scala:548)\n\tat org.apache.spark.util.Utils$.tryWithSafeFinally(Utils.scala:1504)\n\tat org.apache.spark.executor.Executor$TaskRunner.run(Executor.scala:551)\n\tat java.util.concurrent.ThreadPoolExecutor.runWorker(ThreadPoolExecutor.java:1149)\n\tat java.util.concurrent.ThreadPoolExecutor$Worker.run(ThreadPoolExecutor.java:624)\n\tat java.lang.Thread.run(Thread.java:750)\n\nDriver stacktrace:\n\tat org.apache.spark.scheduler.DAGScheduler.failJobAndIndependentStages(DAGScheduler.scala:2672)\n\tat org.apache.spark.scheduler.DAGScheduler.$anonfun$abortStage$2(DAGScheduler.scala:2608)\n\tat org.apache.spark.scheduler.DAGScheduler.$anonfun$abortStage$2$adapted(DAGScheduler.scala:2607)\n\tat scala.collection.mutable.ResizableArray.foreach(ResizableArray.scala:62)\n\tat scala.collection.mutable.ResizableArray.foreach$(ResizableArray.scala:55)\n\tat scala.collection.mutable.ArrayBuffer.foreach(ArrayBuffer.scala:49)\n\tat org.apache.spark.scheduler.DAGScheduler.abortStage(DAGScheduler.scala:2607)\n\tat org.apache.spark.scheduler.DAGScheduler.$anonfun$handleTaskSetFailed$1(DAGScheduler.scala:1182)\n\tat org.apache.spark.scheduler.DAGScheduler.$anonfun$handleTaskSetFailed$1$adapted(DAGScheduler.scala:1182)\n\tat scala.Option.foreach(Option.scala:407)\n\tat org.apache.spark.scheduler.DAGScheduler.handleTaskSetFailed(DAGScheduler.scala:1182)\n\tat org.apache.spark.scheduler.DAGSchedulerEventProcessLoop.doOnReceive(DAGScheduler.scala:2860)\n\tat org.apache.spark.scheduler.DAGSchedulerEventProcessLoop.onReceive(DAGScheduler.scala:2802)\n\tat org.apache.spark.scheduler.DAGSchedulerEventProcessLoop.onReceive(DAGScheduler.scala:2791)\n\tat org.apache.spark.util.EventLoop$$anon$1.run(EventLoop.scala:49)\nCaused by: java.util.regex.PatternSyntaxException: Unmatched closing ')'\n), (\n\tat java.util.regex.Pattern.error(Pattern.java:1969)\n\tat java.util.regex.Pattern.compile(Pattern.java:1706)\n\tat java.util.regex.Pattern.<init>(Pattern.java:1352)\n\tat java.util.regex.Pattern.compile(Pattern.java:1028)\n\tat java.lang.String.split(String.java:2380)\n\tat org.apache.spark.unsafe.types.UTF8String.split(UTF8String.java:1027)\n\tat org.apache.spark.unsafe.types.UTF8String.split(UTF8String.java:1003)\n\tat org.apache.spark.sql.catalyst.expressions.GeneratedClass$GeneratedIteratorForCodegenStage5.processNext(Unknown Source)\n\tat org.apache.spark.sql.execution.BufferedRowIterator.hasNext(BufferedRowIterator.java:43)\n\tat org.apache.spark.sql.execution.WholeStageCodegenExec$$anon$1.hasNext(WholeStageCodegenExec.scala:760)\n\tat scala.collection.Iterator$$anon$10.hasNext(Iterator.scala:460)\n\tat org.apache.spark.shuffle.sort.BypassMergeSortShuffleWriter.write(BypassMergeSortShuffleWriter.java:140)\n\tat org.apache.spark.shuffle.ShuffleWriteProcessor.write(ShuffleWriteProcessor.scala:59)\n\tat org.apache.spark.scheduler.ShuffleMapTask.runTask(ShuffleMapTask.scala:99)\n\tat org.apache.spark.scheduler.ShuffleMapTask.runTask(ShuffleMapTask.scala:52)\n\tat org.apache.spark.scheduler.Task.run(Task.scala:136)\n\tat org.apache.spark.executor.Executor$TaskRunner.$anonfun$run$3(Executor.scala:548)\n\tat org.apache.spark.util.Utils$.tryWithSafeFinally(Utils.scala:1504)\n\tat org.apache.spark.executor.Executor$TaskRunner.run(Executor.scala:551)\n\tat java.util.concurrent.ThreadPoolExecutor.runWorker(ThreadPoolExecutor.java:1149)\n\tat java.util.concurrent.ThreadPoolExecutor$Worker.run(ThreadPoolExecutor.java:624)\n\tat java.lang.Thread.run(Thread.java:750)\n"
     ]
    }
   ],
   "source": [
    "bnpl_data.limit(5)"
   ]
  },
  {
   "cell_type": "markdown",
   "metadata": {},
   "source": [
    "## Total dollar value based on Postcode"
   ]
  },
  {
   "cell_type": "code",
   "execution_count": 22,
   "metadata": {},
   "outputs": [
    {
     "name": "stdout",
     "output_type": "stream",
     "text": [
      "+--------+------------------+\n",
      "|postcode|  sum_dollar_value|\n",
      "+--------+------------------+\n",
      "|    1159| 766.8849327945213|\n",
      "|     829|1236.1845207393826|\n",
      "|    4821|149.67961387174637|\n",
      "|    2069|1385.8213843631963|\n",
      "|    2136| 350.6102517018319|\n",
      "+--------+------------------+\n",
      "only showing top 5 rows\n",
      "\n"
     ]
    },
    {
     "data": {
      "image/png": "[encoded data removed]",
      "text/plain": [
       "<Figure size 640x480 with 1 Axes>"
      ]
     },
     "metadata": {},
     "output_type": "display_data"
    }
   ],
   "source": [
    "vis2_data = spark.sql(\"\"\"\n",
    "select postcode, sum(dollar_value) as sum_dollar_value from bnpl\n",
    "group by postcode\"\"\")\n",
    "vis2_data.show(5)\n",
    "import matplotlib.pyplot as plt\n",
    "%matplotlib inline\n",
    "vis2_data = vis2_data.toPandas()\n",
    "import seaborn as sns\n",
    "sns.histplot(x = 'sum_dollar_value', data=vis2_data)\n",
    "plt.show()"
   ]
  },
  {
   "cell_type": "code",
   "execution_count": 34,
   "metadata": {},
   "outputs": [
    {
     "data": {
      "text/html": [
       "<div>\n",
       "<style scoped>\n",
       "    .dataframe tbody tr th:only-of-type {\n",
       "        vertical-align: middle;\n",
       "    }\n",
       "\n",
       "    .dataframe tbody tr th {\n",
       "        vertical-align: top;\n",
       "    }\n",
       "\n",
       "    .dataframe thead th {\n",
       "        text-align: right;\n",
       "    }\n",
       "</style>\n",
       "<table border=\"1\" class=\"dataframe\">\n",
       "  <thead>\n",
       "    <tr style=\"text-align: right;\">\n",
       "      <th></th>\n",
       "      <th>postcode</th>\n",
       "      <th>sum_dollar_value</th>\n",
       "    </tr>\n",
       "  </thead>\n",
       "  <tbody>\n",
       "    <tr>\n",
       "      <th>2463</th>\n",
       "      <td>3129</td>\n",
       "      <td>5025.753876</td>\n",
       "    </tr>\n",
       "    <tr>\n",
       "      <th>2221</th>\n",
       "      <td>3632</td>\n",
       "      <td>5189.956967</td>\n",
       "    </tr>\n",
       "    <tr>\n",
       "      <th>3047</th>\n",
       "      <td>2040</td>\n",
       "      <td>5257.999472</td>\n",
       "    </tr>\n",
       "    <tr>\n",
       "      <th>1564</th>\n",
       "      <td>7139</td>\n",
       "      <td>5318.265936</td>\n",
       "    </tr>\n",
       "    <tr>\n",
       "      <th>2426</th>\n",
       "      <td>5015</td>\n",
       "      <td>5381.701409</td>\n",
       "    </tr>\n",
       "    <tr>\n",
       "      <th>1331</th>\n",
       "      <td>1234</td>\n",
       "      <td>5688.995420</td>\n",
       "    </tr>\n",
       "    <tr>\n",
       "      <th>792</th>\n",
       "      <td>6368</td>\n",
       "      <td>5797.547077</td>\n",
       "    </tr>\n",
       "    <tr>\n",
       "      <th>287</th>\n",
       "      <td>3337</td>\n",
       "      <td>6026.169484</td>\n",
       "    </tr>\n",
       "    <tr>\n",
       "      <th>1151</th>\n",
       "      <td>1208</td>\n",
       "      <td>6170.367270</td>\n",
       "    </tr>\n",
       "    <tr>\n",
       "      <th>327</th>\n",
       "      <td>4808</td>\n",
       "      <td>6932.819254</td>\n",
       "    </tr>\n",
       "    <tr>\n",
       "      <th>123</th>\n",
       "      <td>6069</td>\n",
       "      <td>7127.612262</td>\n",
       "    </tr>\n",
       "    <tr>\n",
       "      <th>878</th>\n",
       "      <td>2711</td>\n",
       "      <td>8615.879856</td>\n",
       "    </tr>\n",
       "    <tr>\n",
       "      <th>86</th>\n",
       "      <td>6605</td>\n",
       "      <td>9051.350266</td>\n",
       "    </tr>\n",
       "    <tr>\n",
       "      <th>94</th>\n",
       "      <td>2644</td>\n",
       "      <td>9771.863143</td>\n",
       "    </tr>\n",
       "    <tr>\n",
       "      <th>78</th>\n",
       "      <td>3241</td>\n",
       "      <td>13017.220241</td>\n",
       "    </tr>\n",
       "    <tr>\n",
       "      <th>2338</th>\n",
       "      <td>1230</td>\n",
       "      <td>14510.697114</td>\n",
       "    </tr>\n",
       "    <tr>\n",
       "      <th>1627</th>\n",
       "      <td>3818</td>\n",
       "      <td>16130.453741</td>\n",
       "    </tr>\n",
       "    <tr>\n",
       "      <th>470</th>\n",
       "      <td>2630</td>\n",
       "      <td>21062.014573</td>\n",
       "    </tr>\n",
       "    <tr>\n",
       "      <th>536</th>\n",
       "      <td>3126</td>\n",
       "      <td>22696.718610</td>\n",
       "    </tr>\n",
       "  </tbody>\n",
       "</table>\n",
       "</div>"
      ],
      "text/plain": [
       "     postcode  sum_dollar_value\n",
       "2463     3129       5025.753876\n",
       "2221     3632       5189.956967\n",
       "3047     2040       5257.999472\n",
       "1564     7139       5318.265936\n",
       "2426     5015       5381.701409\n",
       "1331     1234       5688.995420\n",
       "792      6368       5797.547077\n",
       "287      3337       6026.169484\n",
       "1151     1208       6170.367270\n",
       "327      4808       6932.819254\n",
       "123      6069       7127.612262\n",
       "878      2711       8615.879856\n",
       "86       6605       9051.350266\n",
       "94       2644       9771.863143\n",
       "78       3241      13017.220241\n",
       "2338     1230      14510.697114\n",
       "1627     3818      16130.453741\n",
       "470      2630      21062.014573\n",
       "536      3126      22696.718610"
      ]
     },
     "execution_count": 34,
     "metadata": {},
     "output_type": "execute_result"
    }
   ],
   "source": [
    "(vis2_data.sum_dollar_value > 5000).count()   \n",
    "vis2_data.count()\n",
    "vis2_data[vis2_data['sum_dollar_value'] > 5000].sort_values(by=['sum_dollar_value'])"
   ]
  },
  {
   "cell_type": "code",
   "execution_count": 32,
   "metadata": {},
   "outputs": [
    {
     "data": {
      "text/plain": [
       "postcode  sum_dollar_value\n",
       "1156      3222.872933         1\n",
       "4886      4621.932480         1\n",
       "5268      3020.384336         1\n",
       "5240      3370.000981         1\n",
       "5210      3491.768437         1\n",
       "                             ..\n",
       "3023      4718.224810         1\n",
       "2832      3203.453474         1\n",
       "2720      4184.118386         1\n",
       "2711      8615.879856         1\n",
       "885       4957.865371         1\n",
       "Length: 87, dtype: int64"
      ]
     },
     "execution_count": 32,
     "metadata": {},
     "output_type": "execute_result"
    }
   ],
   "source": [
    "vis2_data[vis2_data['sum_dollar_value'] > 3000].value_counts()"
   ]
  },
  {
   "cell_type": "code",
   "execution_count": 30,
   "metadata": {},
   "outputs": [
    {
     "name": "stderr",
     "output_type": "stream",
     "text": [
      "\r\n",
      "[Stage 161:=================================================>       (7 + 1) / 8]\r\n",
      "\r\n",
      "                                                                                \r"
     ]
    },
    {
     "data": {
      "text/html": [
       "<table border='1'>\n",
       "<tr><th>count(DISTINCT postcode)</th></tr>\n",
       "<tr><td>3092</td></tr>\n",
       "</table>\n"
      ],
      "text/plain": [
       "+------------------------+\n",
       "|count(DISTINCT postcode)|\n",
       "+------------------------+\n",
       "|                    3092|\n",
       "+------------------------+"
      ]
     },
     "execution_count": 30,
     "metadata": {},
     "output_type": "execute_result"
    }
   ],
   "source": [
    "bnpl_data.select(countDistinct('postcode'))"
   ]
  },
  {
   "cell_type": "markdown",
   "metadata": {},
   "source": []
  }
 ],
 "metadata": {
  "kernelspec": {
   "display_name": "Python 3.8.10 64-bit",
   "language": "python",
   "name": "python3"
  },
  "language_info": {
   "codemirror_mode": {
    "name": "ipython",
    "version": 3
   },
   "file_extension": ".py",
   "mimetype": "text/x-python",
   "name": "python",
   "nbconvert_exporter": "python",
   "pygments_lexer": "ipython3",
   "version": "3.8.10"
  },
  "vscode": {
   "interpreter": {
    "hash": "916dbcbb3f70747c44a77c7bcd40155683ae19c65e1c03b4aa3499c5328201f1"
   }
  }
 },
 "nbformat": 4,
 "nbformat_minor": 2
}
